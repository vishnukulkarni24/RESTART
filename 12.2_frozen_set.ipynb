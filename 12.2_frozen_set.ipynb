{
 "cells": [
  {
   "cell_type": "markdown",
   "id": "b2f3e93f",
   "metadata": {},
   "source": [
    " # FrozenSet -"
   ]
  },
  {
   "cell_type": "code",
   "execution_count": 18,
   "id": "773f5ac7",
   "metadata": {},
   "outputs": [
    {
     "data": {
      "text/plain": [
       "frozenset()"
      ]
     },
     "execution_count": 18,
     "metadata": {},
     "output_type": "execute_result"
    }
   ],
   "source": [
    "frz_set = frozenset()\n",
    "frz_set"
   ]
  },
  {
   "cell_type": "code",
   "execution_count": 17,
   "id": "4374bfe3",
   "metadata": {},
   "outputs": [
    {
     "data": {
      "text/plain": [
       "frozenset"
      ]
     },
     "execution_count": 17,
     "metadata": {},
     "output_type": "execute_result"
    }
   ],
   "source": [
    "type(frz_set)"
   ]
  },
  {
   "cell_type": "code",
   "execution_count": 19,
   "id": "4679a6b6",
   "metadata": {},
   "outputs": [
    {
     "ename": "AttributeError",
     "evalue": "'frozenset' object has no attribute 'update'",
     "output_type": "error",
     "traceback": [
      "\u001b[31m---------------------------------------------------------------------------\u001b[39m",
      "\u001b[31mAttributeError\u001b[39m                            Traceback (most recent call last)",
      "\u001b[36mCell\u001b[39m\u001b[36m \u001b[39m\u001b[32mIn[19]\u001b[39m\u001b[32m, line 7\u001b[39m\n\u001b[32m      4\u001b[39m set1 = \u001b[38;5;28mfrozenset\u001b[39m(set1)\n\u001b[32m      5\u001b[39m set2 = \u001b[38;5;28mfrozenset\u001b[39m(set2)\n\u001b[32m----> \u001b[39m\u001b[32m7\u001b[39m \u001b[43mset1\u001b[49m\u001b[43m.\u001b[49m\u001b[43mupdate\u001b[49m(set2)\n",
      "\u001b[31mAttributeError\u001b[39m: 'frozenset' object has no attribute 'update'"
     ]
    }
   ],
   "source": [
    "set1 = {1,2,3,4,5}\n",
    "set2 = {4,5,6,7,8}\n",
    "\n",
    "set1 = frozenset(set1)\n",
    "set2 = frozenset(set2)\n",
    "\n",
    "set1.update(set2)"
   ]
  },
  {
   "cell_type": "code",
   "execution_count": 25,
   "id": "c74ff347",
   "metadata": {},
   "outputs": [
    {
     "data": {
      "text/plain": [
       "frozenset({1, 2, 3, 4, 5, 6, 7, 8})"
      ]
     },
     "execution_count": 25,
     "metadata": {},
     "output_type": "execute_result"
    }
   ],
   "source": [
    "set1.union(set2)"
   ]
  },
  {
   "cell_type": "code",
   "execution_count": 20,
   "id": "5882dfae",
   "metadata": {},
   "outputs": [
    {
     "ename": "TypeError",
     "evalue": "'frozenset' object does not support item assignment",
     "output_type": "error",
     "traceback": [
      "\u001b[31m---------------------------------------------------------------------------\u001b[39m",
      "\u001b[31mTypeError\u001b[39m                                 Traceback (most recent call last)",
      "\u001b[36mCell\u001b[39m\u001b[36m \u001b[39m\u001b[32mIn[20]\u001b[39m\u001b[32m, line 1\u001b[39m\n\u001b[32m----> \u001b[39m\u001b[32m1\u001b[39m \u001b[43mset1\u001b[49m\u001b[43m[\u001b[49m\u001b[32;43m0\u001b[39;49m\u001b[43m]\u001b[49m = \u001b[32m9\u001b[39m\n",
      "\u001b[31mTypeError\u001b[39m: 'frozenset' object does not support item assignment"
     ]
    }
   ],
   "source": [
    "set1[0] = 9"
   ]
  },
  {
   "cell_type": "code",
   "execution_count": 23,
   "id": "b18c3f27",
   "metadata": {},
   "outputs": [
    {
     "data": {
      "text/plain": [
       "frozenset({1, 2, 3, 4, 5, 10})"
      ]
     },
     "execution_count": 23,
     "metadata": {},
     "output_type": "execute_result"
    }
   ],
   "source": [
    "set1.union([10])"
   ]
  },
  {
   "cell_type": "code",
   "execution_count": 24,
   "id": "99b47349",
   "metadata": {},
   "outputs": [
    {
     "name": "stdout",
     "output_type": "stream",
     "text": [
      "frozenset({1, 2, 3, 4, 5})\n"
     ]
    }
   ],
   "source": [
    "print(set1)"
   ]
  },
  {
   "cell_type": "code",
   "execution_count": 26,
   "id": "1550b7d5",
   "metadata": {},
   "outputs": [
    {
     "name": "stdout",
     "output_type": "stream",
     "text": [
      "Computing for: frozenset({1, 2, 3})\n",
      "6\n",
      "6\n"
     ]
    }
   ],
   "source": [
    "from functools import lru_cache\n",
    "\n",
    "@lru_cache\n",
    "def expensive_function(items: frozenset):\n",
    "    print(f\"Computing for: {items}\")\n",
    "    return sum(items)\n",
    "\n",
    "# Create frozensets to pass\n",
    "fs1 = frozenset([1, 2, 3])\n",
    "fs2 = frozenset([3, 2, 1])  # Order doesn't matter in a set\n",
    "\n",
    "print(expensive_function(fs1))  # Triggers computation\n",
    "print(expensive_function(fs2))  # Uses cache, so no computation print\n"
   ]
  },
  {
   "cell_type": "code",
   "execution_count": 28,
   "id": "811bfc79",
   "metadata": {},
   "outputs": [
    {
     "name": "stdout",
     "output_type": "stream",
     "text": [
      "Help on function lru_cache in module functools:\n",
      "\n",
      "lru_cache(maxsize=128, typed=False)\n",
      "    Least-recently-used cache decorator.\n",
      "\n",
      "    If *maxsize* is set to None, the LRU features are disabled and the cache\n",
      "    can grow without bound.\n",
      "\n",
      "    If *typed* is True, arguments of different types will be cached separately.\n",
      "    For example, f(decimal.Decimal(\"3.0\")) and f(3.0) will be treated as\n",
      "    distinct calls with distinct results. Some types such as str and int may\n",
      "    be cached separately even when typed is false.\n",
      "\n",
      "    Arguments to the cached function must be hashable.\n",
      "\n",
      "    View the cache statistics named tuple (hits, misses, maxsize, currsize)\n",
      "    with f.cache_info().  Clear the cache and statistics with f.cache_clear().\n",
      "    Access the underlying function with f.__wrapped__.\n",
      "\n",
      "    See:  https://en.wikipedia.org/wiki/Cache_replacement_policies#Least_recently_used_(LRU)\n",
      "\n"
     ]
    }
   ],
   "source": [
    "help(lru_cache)"
   ]
  },
  {
   "cell_type": "code",
   "execution_count": null,
   "id": "23c81f5b",
   "metadata": {},
   "outputs": [],
   "source": []
  }
 ],
 "metadata": {
  "kernelspec": {
   "display_name": "Python 3",
   "language": "python",
   "name": "python3"
  },
  "language_info": {
   "codemirror_mode": {
    "name": "ipython",
    "version": 3
   },
   "file_extension": ".py",
   "mimetype": "text/x-python",
   "name": "python",
   "nbconvert_exporter": "python",
   "pygments_lexer": "ipython3",
   "version": "3.13.3"
  }
 },
 "nbformat": 4,
 "nbformat_minor": 5
}
