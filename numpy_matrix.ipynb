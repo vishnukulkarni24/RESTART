{
 "cells": [
  {
   "cell_type": "markdown",
   "id": "2b3cf03d",
   "metadata": {},
   "source": [
    "# matrix :"
   ]
  },
  {
   "cell_type": "code",
   "execution_count": 1,
   "id": "74f67c3e",
   "metadata": {},
   "outputs": [],
   "source": [
    "import numpy as np"
   ]
  },
  {
   "cell_type": "code",
   "execution_count": 2,
   "id": "94af60ef",
   "metadata": {},
   "outputs": [
    {
     "name": "stdout",
     "output_type": "stream",
     "text": [
      "[[1 2 3]\n",
      " [4 5 6]]\n",
      "<class 'numpy.matrix'>\n"
     ]
    }
   ],
   "source": [
    "var = np.matrix([[1,2,3],[4,5,6]])\n",
    "\n",
    "print(var)\n",
    "print(type(var))"
   ]
  },
  {
   "cell_type": "code",
   "execution_count": 3,
   "id": "09ad0e48",
   "metadata": {},
   "outputs": [
    {
     "name": "stdout",
     "output_type": "stream",
     "text": [
      "[[1 2 3]\n",
      " [4 5 6]]\n",
      "<class 'numpy.ndarray'>\n"
     ]
    }
   ],
   "source": [
    "var = np.array([[1,2,3],[4,5,6]])\n",
    "\n",
    "print(var)\n",
    "print(type(var))"
   ]
  },
  {
   "cell_type": "markdown",
   "id": "a0410ac9",
   "metadata": {},
   "source": [
    "# Addition"
   ]
  },
  {
   "cell_type": "code",
   "execution_count": 10,
   "id": "33be2d7f",
   "metadata": {},
   "outputs": [
    {
     "name": "stdout",
     "output_type": "stream",
     "text": [
      "[[1 2 3]\n",
      " [4 5 6]]\n",
      "[[6 5 4]\n",
      " [3 2 1]]\n",
      "\n",
      "[[7 7 7]\n",
      " [7 7 7]]\n"
     ]
    }
   ],
   "source": [
    "a = np.matrix([[1,2,3],[4,5,6]])\n",
    "b = np.matrix([[6,5,4],[3,2,1]])\n",
    "\n",
    "print(a)\n",
    "print(b)\n",
    "print()\n",
    "print(a + b)"
   ]
  },
  {
   "cell_type": "code",
   "execution_count": 5,
   "id": "41506deb",
   "metadata": {},
   "outputs": [
    {
     "name": "stdout",
     "output_type": "stream",
     "text": [
      "[[-5 -3]\n",
      " [ 1  3]]\n"
     ]
    }
   ],
   "source": [
    "print(a - b)"
   ]
  },
  {
   "cell_type": "code",
   "execution_count": 6,
   "id": "6467953c",
   "metadata": {},
   "outputs": [
    {
     "name": "stdout",
     "output_type": "stream",
     "text": [
      "[[12  9]\n",
      " [39 30]]\n"
     ]
    }
   ],
   "source": [
    "print(a * b)"
   ]
  },
  {
   "cell_type": "code",
   "execution_count": 7,
   "id": "eb3d63bb",
   "metadata": {},
   "outputs": [
    {
     "ename": "AttributeError",
     "evalue": "'matrix' object has no attribute 'b'",
     "output_type": "error",
     "traceback": [
      "\u001b[31m---------------------------------------------------------------------------\u001b[39m",
      "\u001b[31mAttributeError\u001b[39m                            Traceback (most recent call last)",
      "\u001b[36mCell\u001b[39m\u001b[36m \u001b[39m\u001b[32mIn[7]\u001b[39m\u001b[32m, line 1\u001b[39m\n\u001b[32m----> \u001b[39m\u001b[32m1\u001b[39m \u001b[38;5;28mprint\u001b[39m(\u001b[43ma\u001b[49m\u001b[43m.\u001b[49m\u001b[43mb\u001b[49m)\n",
      "\u001b[31mAttributeError\u001b[39m: 'matrix' object has no attribute 'b'"
     ]
    }
   ],
   "source": [
    "print(a.b)"
   ]
  },
  {
   "cell_type": "code",
   "execution_count": null,
   "id": "7be6139f",
   "metadata": {},
   "outputs": [
    {
     "ename": "ValueError",
     "evalue": "shapes (2,3) and (2,3) not aligned: 3 (dim 1) != 2 (dim 0)",
     "output_type": "error",
     "traceback": [
      "\u001b[31m---------------------------------------------------------------------------\u001b[39m",
      "\u001b[31mValueError\u001b[39m                                Traceback (most recent call last)",
      "\u001b[36mCell\u001b[39m\u001b[36m \u001b[39m\u001b[32mIn[8]\u001b[39m\u001b[32m, line 3\u001b[39m\n\u001b[32m      1\u001b[39m var = np.matrix([[\u001b[32m1\u001b[39m,\u001b[32m2\u001b[39m,\u001b[32m3\u001b[39m],[\u001b[32m4\u001b[39m,\u001b[32m5\u001b[39m,\u001b[32m6\u001b[39m]])\n\u001b[32m      2\u001b[39m var2 = np.matrix([[\u001b[32m3\u001b[39m,\u001b[32m2\u001b[39m,\u001b[32m1\u001b[39m],[\u001b[32m6\u001b[39m,\u001b[32m5\u001b[39m,\u001b[32m4\u001b[39m]])\n\u001b[32m----> \u001b[39m\u001b[32m3\u001b[39m \u001b[38;5;28mprint\u001b[39m(\u001b[43mvar\u001b[49m\u001b[43m.\u001b[49m\u001b[43mdot\u001b[49m\u001b[43m(\u001b[49m\u001b[43mvar2\u001b[49m\u001b[43m)\u001b[49m)\n",
      "\u001b[31mValueError\u001b[39m: shapes (2,3) and (2,3) not aligned: 3 (dim 1) != 2 (dim 0)"
     ]
    }
   ],
   "source": [
    "var = np.matrix([[1,2,3],[4,5,6]])\n",
    "\n",
    "var1 ="
   ]
  },
  {
   "cell_type": "code",
   "execution_count": 13,
   "id": "ba181378",
   "metadata": {},
   "outputs": [
    {
     "ename": "ValueError",
     "evalue": "shapes (2,3) and (2,3) not aligned: 3 (dim 1) != 2 (dim 0)",
     "output_type": "error",
     "traceback": [
      "\u001b[31m---------------------------------------------------------------------------\u001b[39m",
      "\u001b[31mValueError\u001b[39m                                Traceback (most recent call last)",
      "\u001b[36mCell\u001b[39m\u001b[36m \u001b[39m\u001b[32mIn[13]\u001b[39m\u001b[32m, line 1\u001b[39m\n\u001b[32m----> \u001b[39m\u001b[32m1\u001b[39m \u001b[38;5;28mprint\u001b[39m(\u001b[43ma\u001b[49m\u001b[43m.\u001b[49m\u001b[43mdot\u001b[49m\u001b[43m(\u001b[49m\u001b[43mb\u001b[49m\u001b[43m)\u001b[49m)\n",
      "\u001b[31mValueError\u001b[39m: shapes (2,3) and (2,3) not aligned: 3 (dim 1) != 2 (dim 0)"
     ]
    }
   ],
   "source": [
    "print(a.dot(b))"
   ]
  },
  {
   "cell_type": "code",
   "execution_count": 20,
   "id": "e78182a9",
   "metadata": {},
   "outputs": [
    {
     "data": {
      "text/plain": [
       "matrix([[11, 16],\n",
       "        [26, 37]])"
      ]
     },
     "execution_count": 20,
     "metadata": {},
     "output_type": "execute_result"
    }
   ],
   "source": [
    "var = np.matrix([[1,2],[4,5]])\n",
    "var2 = np.matrix([[3,2],[6,5]])\n",
    "\n",
    "\n",
    "res = np.matmul(var2,var)\n",
    "res"
   ]
  },
  {
   "cell_type": "markdown",
   "id": "b056d9ba",
   "metadata": {},
   "source": [
    "# transpose of matrix"
   ]
  },
  {
   "cell_type": "code",
   "execution_count": 21,
   "id": "06cd0396",
   "metadata": {},
   "outputs": [
    {
     "name": "stdout",
     "output_type": "stream",
     "text": [
      "[[1 2 3]\n",
      " [4 5 6]]\n"
     ]
    }
   ],
   "source": [
    "var = np.matrix([[1,2,3],[4,5,6]])\n",
    "print(var)"
   ]
  },
  {
   "cell_type": "code",
   "execution_count": 23,
   "id": "cf8f8205",
   "metadata": {},
   "outputs": [
    {
     "name": "stdout",
     "output_type": "stream",
     "text": [
      "[[1 4]\n",
      " [2 5]\n",
      " [3 6]]\n"
     ]
    }
   ],
   "source": [
    "print(var.transpose())"
   ]
  },
  {
   "cell_type": "code",
   "execution_count": 24,
   "id": "83f1ad7b",
   "metadata": {},
   "outputs": [
    {
     "name": "stdout",
     "output_type": "stream",
     "text": [
      "[[1 4]\n",
      " [2 5]\n",
      " [3 6]]\n"
     ]
    }
   ],
   "source": [
    "print(np.transpose(var))"
   ]
  },
  {
   "cell_type": "code",
   "execution_count": 25,
   "id": "fd894f0b",
   "metadata": {},
   "outputs": [
    {
     "name": "stdout",
     "output_type": "stream",
     "text": [
      "[[1 2 3]\n",
      " [4 5 6]]\n"
     ]
    }
   ],
   "source": [
    "print(var)"
   ]
  },
  {
   "cell_type": "code",
   "execution_count": 26,
   "id": "9c34467a",
   "metadata": {},
   "outputs": [
    {
     "name": "stdout",
     "output_type": "stream",
     "text": [
      "[[1 4]\n",
      " [2 5]\n",
      " [3 6]]\n"
     ]
    }
   ],
   "source": [
    "print(var.T)"
   ]
  },
  {
   "cell_type": "markdown",
   "id": "9d03a9f6",
   "metadata": {},
   "source": [
    "# swapaxes \n"
   ]
  },
  {
   "cell_type": "code",
   "execution_count": 28,
   "id": "3ce610e0",
   "metadata": {},
   "outputs": [
    {
     "name": "stdout",
     "output_type": "stream",
     "text": [
      "[[1 4]\n",
      " [2 5]\n",
      " [3 6]]\n"
     ]
    }
   ],
   "source": [
    "print(var.swapaxes(0,1))"
   ]
  },
  {
   "cell_type": "code",
   "execution_count": null,
   "id": "cee79dd1",
   "metadata": {},
   "outputs": [
    {
     "data": {
      "text/plain": [
       "matrix([[3, 6],\n",
       "        [2, 5]])"
      ]
     },
     "execution_count": 32,
     "metadata": {},
     "output_type": "execute_result"
    }
   ],
   "source": [
    "np.swapaxes(var,1,0)"
   ]
  },
  {
   "cell_type": "code",
   "execution_count": 38,
   "id": "8aba9240",
   "metadata": {},
   "outputs": [
    {
     "name": "stdout",
     "output_type": "stream",
     "text": [
      "[[1 4]\n",
      " [2 5]\n",
      " [3 6]]\n"
     ]
    }
   ],
   "source": [
    "a = np.matrix([[1,2,3],[4,5,6]])\n",
    "b = np.matrix([[3,2,1],[6,5,4]])\n",
    "\n",
    "print(np.swapaxes(a,0,1))"
   ]
  },
  {
   "cell_type": "code",
   "execution_count": 40,
   "id": "72c7b947",
   "metadata": {},
   "outputs": [
    {
     "name": "stdout",
     "output_type": "stream",
     "text": [
      "[[3 6]\n",
      " [2 5]\n",
      " [1 4]]\n"
     ]
    }
   ],
   "source": [
    "print(np.swapaxes(b,1,0))"
   ]
  },
  {
   "cell_type": "markdown",
   "id": "10adeaf3",
   "metadata": {},
   "source": [
    "# Inverse matrix"
   ]
  },
  {
   "cell_type": "code",
   "execution_count": 45,
   "id": "a6211318",
   "metadata": {},
   "outputs": [
    {
     "name": "stdout",
     "output_type": "stream",
     "text": [
      "[[1 2]\n",
      " [3 4]]\n",
      "**************************************************\n",
      "[[-2.   1. ]\n",
      " [ 1.5 -0.5]]\n"
     ]
    }
   ],
   "source": [
    "var3 = np.matrix([[1,2],[3,4]])\n",
    "print(var3)\n",
    "print('*' * 50)\n",
    "print(np.linalg.inv(var3))\n"
   ]
  },
  {
   "cell_type": "code",
   "execution_count": 46,
   "id": "7bc83422",
   "metadata": {},
   "outputs": [],
   "source": [
    "import random"
   ]
  },
  {
   "cell_type": "code",
   "execution_count": 47,
   "id": "fd2885b4",
   "metadata": {},
   "outputs": [
    {
     "name": "stdout",
     "output_type": "stream",
     "text": [
      "\n",
      " Breaking news : Rahul Gandhi meeting fans shopping mall.\n",
      "\n",
      " Breaking news : Salman Khan dancing charity event.\n",
      "\n",
      " Breaking news : Shahrukh Khan posing for a photo dance stage.\n",
      "\n",
      " Breaking news : Shahrukh Khan acting in a movie temple visit.\n",
      "\n",
      " Breaking news : Sachin Tendulkar giving a speech temple visit.\n",
      "\n",
      " Breaking news : Rahul Gandhi giving a speech Elephanta Caves.\n",
      "\n",
      " Breaking news : Shahrukh Khan posing for a photo film set.\n",
      "\n",
      " Breaking news : MS Dhoni singing stadium.\n",
      "\n",
      " thanks for using fake news headline generator.Have a fun... \n"
     ]
    }
   ],
   "source": [
    "import random \n",
    "\n",
    "subjects = [\n",
    "    \"Narendra Modi\",      \n",
    "    \"Rahul Gandhi\",       \n",
    "    \"Shahrukh Khan\",      \n",
    "    \"Salman Khan\",        \n",
    "    \"Virat Kohli\",       \n",
    "    \"PV Sindhu\",          \n",
    "    \"Sachin Tendulkar\",   \n",
    "    \"Deepika Padukone\",   \n",
    "    \"Priyanka Chopra\",    \n",
    "    \"MS Dhoni\"            \n",
    "]\n",
    "\n",
    "\n",
    "actions = [\n",
    "    \"playing cricket\",\n",
    "    \"swimming\",\n",
    "    \"dancing\",\n",
    "    \"singing\",\n",
    "    \"giving a speech\",\n",
    "    \"acting in a movie\",\n",
    "    \"attending an event\",\n",
    "    \"posing for a photo\",\n",
    "    \"meeting fans\",\n",
    "    \"traveling\"\n",
    "]\n",
    "\n",
    "things_places = [\n",
    "    \"Gateway of India\",\n",
    "    \"Taj Mahal\",\n",
    "    \"Red Fort\",\n",
    "    \"Marine Drive\",\n",
    "    \"Ajanta Caves\",\n",
    "    \"Elephanta Caves\",\n",
    "    \"Lonavala\",\n",
    "    \"Mahabaleshwar\",\n",
    "    \"Goa Beach\",\n",
    "    \"Ranthambore National Park\",\n",
    "    \"shopping mall\",\n",
    "    \"stadium\",\n",
    "    \"political rally\",\n",
    "    \"film set\",\n",
    "    \"cricket ground\",\n",
    "    \"music concert\",\n",
    "    \"conference hall\",\n",
    "    \"charity event\",\n",
    "    \"dance stage\",\n",
    "    \"temple visit\"\n",
    "]\n",
    "\n",
    "# 3 start headline generation loop\n",
    "\n",
    "while True:\n",
    "    subject = random.choice(subjects)\n",
    "    action = random.choice(actions)\n",
    "    things_place = random.choice(things_places)\n",
    "\n",
    "    headline = f\" Breaking news : {subject} {action} {things_place}.\"\n",
    "\n",
    "    print(\"\\n\" + headline)\n",
    "\n",
    "    user_input = input(\"\\n Do you want another headline? (yes/no)\").strip().lower()\n",
    "\n",
    "    if user_input == \"no\":\n",
    "        break\n",
    "\n",
    "print(\"\\n thanks for using fake news headline generator.Have a fun... \")"
   ]
  },
  {
   "cell_type": "code",
   "execution_count": 1,
   "id": "c4a940c2",
   "metadata": {},
   "outputs": [
    {
     "data": {
      "text/plain": [
       "'hello'"
      ]
     },
     "execution_count": 1,
     "metadata": {},
     "output_type": "execute_result"
    }
   ],
   "source": [
    "'hello'"
   ]
  },
  {
   "cell_type": "code",
   "execution_count": null,
   "id": "80d6ac4e",
   "metadata": {},
   "outputs": [],
   "source": []
  }
 ],
 "metadata": {
  "kernelspec": {
   "display_name": "Python 3",
   "language": "python",
   "name": "python3"
  },
  "language_info": {
   "codemirror_mode": {
    "name": "ipython",
    "version": 3
   },
   "file_extension": ".py",
   "mimetype": "text/x-python",
   "name": "python",
   "nbconvert_exporter": "python",
   "pygments_lexer": "ipython3",
   "version": "3.13.3"
  }
 },
 "nbformat": 4,
 "nbformat_minor": 5
}
