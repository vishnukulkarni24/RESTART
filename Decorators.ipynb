{
 "cells": [
  {
   "cell_type": "markdown",
   "id": "5c246c6f",
   "metadata": {},
   "source": [
    "# Decorators : "
   ]
  },
  {
   "cell_type": "code",
   "execution_count": 1,
   "id": "2be4a3fb",
   "metadata": {},
   "outputs": [
    {
     "name": "stdout",
     "output_type": "stream",
     "text": [
      "Demo function\n"
     ]
    }
   ],
   "source": [
    "def Demo():\n",
    "    print(\"Demo function\")\n",
    "\n",
    "Demo()"
   ]
  },
  {
   "cell_type": "code",
   "execution_count": 2,
   "id": "79c63b34",
   "metadata": {},
   "outputs": [
    {
     "name": "stdout",
     "output_type": "stream",
     "text": [
      "Demo function\n"
     ]
    }
   ],
   "source": [
    "def demo():\n",
    "    return \"Demo function.\"\n",
    "\n",
    "Demo()"
   ]
  },
  {
   "cell_type": "code",
   "execution_count": 14,
   "id": "1d5c160c",
   "metadata": {},
   "outputs": [
    {
     "data": {
      "text/plain": [
       "'Demo Function.'"
      ]
     },
     "execution_count": 14,
     "metadata": {},
     "output_type": "execute_result"
    }
   ],
   "source": [
    "def demo():\n",
    "    return \"Demo Function.\"\n",
    "\n",
    "a = demo()\n",
    "a"
   ]
  },
  {
   "cell_type": "code",
   "execution_count": 16,
   "id": "6e91df47",
   "metadata": {},
   "outputs": [
    {
     "name": "stdout",
     "output_type": "stream",
     "text": [
      "Demo Function.Demo Function.\n"
     ]
    }
   ],
   "source": [
    "print(a * 2)"
   ]
  },
  {
   "cell_type": "code",
   "execution_count": 17,
   "id": "b43b1450",
   "metadata": {},
   "outputs": [
    {
     "name": "stdout",
     "output_type": "stream",
     "text": [
      "This is outer function.\n"
     ]
    }
   ],
   "source": [
    "def OuterFunction():\n",
    "    print(\"This is outer function.\")\n",
    "\n",
    "OuterFunction()"
   ]
  },
  {
   "cell_type": "code",
   "execution_count": 18,
   "id": "ca082fe0",
   "metadata": {},
   "outputs": [
    {
     "name": "stdout",
     "output_type": "stream",
     "text": [
      "This is Inner Function.\n"
     ]
    }
   ],
   "source": [
    "def InnerFunction():\n",
    "    print(\"This is Inner Function.\")\n",
    "InnerFunction()"
   ]
  },
  {
   "cell_type": "code",
   "execution_count": 19,
   "id": "a82f8cf9",
   "metadata": {},
   "outputs": [
    {
     "name": "stdout",
     "output_type": "stream",
     "text": [
      "This is outer function.\n"
     ]
    }
   ],
   "source": [
    "def OuterFunction():\n",
    "    print(\"This is outer function.\")\n",
    "\n",
    "    def InnerFunction():\n",
    "        print(\"This is Inner Function.\")\n",
    "    \n",
    "OuterFunction()"
   ]
  },
  {
   "cell_type": "code",
   "execution_count": 20,
   "id": "ca406bad",
   "metadata": {},
   "outputs": [
    {
     "name": "stdout",
     "output_type": "stream",
     "text": [
      "This is outer function.\n"
     ]
    },
    {
     "data": {
      "text/plain": [
       "<function __main__.OuterFunction.<locals>.InnerFunction()>"
      ]
     },
     "execution_count": 20,
     "metadata": {},
     "output_type": "execute_result"
    }
   ],
   "source": [
    "def OuterFunction():\n",
    "    print(\"This is outer function.\")\n",
    "\n",
    "    def InnerFunction():\n",
    "        print(\"This is Inner Function.\")\n",
    "\n",
    "    return InnerFunction\n",
    "    \n",
    "OuterFunction()"
   ]
  },
  {
   "cell_type": "code",
   "execution_count": 21,
   "id": "e28a04e2",
   "metadata": {},
   "outputs": [
    {
     "name": "stdout",
     "output_type": "stream",
     "text": [
      "This is outer function\n"
     ]
    },
    {
     "data": {
      "text/plain": [
       "'InnerFunction'"
      ]
     },
     "execution_count": 21,
     "metadata": {},
     "output_type": "execute_result"
    }
   ],
   "source": [
    "def OuterFunction():\n",
    "    print(\"This is outer function\")\n",
    "    \n",
    "    #def InnerFunction():\n",
    "        #print(\"This is inner function\")\n",
    "        \n",
    "    return 'InnerFunction'\n",
    "    \n",
    "OuterFunction()"
   ]
  },
  {
   "cell_type": "code",
   "execution_count": 23,
   "id": "20ca1ebc",
   "metadata": {},
   "outputs": [
    {
     "name": "stdout",
     "output_type": "stream",
     "text": [
      "This is outer function\n"
     ]
    },
    {
     "data": {
      "text/plain": [
       "'InnerFunction'"
      ]
     },
     "execution_count": 23,
     "metadata": {},
     "output_type": "execute_result"
    }
   ],
   "source": [
    "def OuterFunction():\n",
    "    print(\"This is outer function\")\n",
    "    \n",
    "    def InnerFunction():\n",
    "        print(\"This is inner function\")\n",
    "        \n",
    "    return 'InnerFunction'\n",
    "    \n",
    "OuterFunction()"
   ]
  },
  {
   "cell_type": "code",
   "execution_count": 24,
   "id": "b42809b9",
   "metadata": {},
   "outputs": [
    {
     "name": "stdout",
     "output_type": "stream",
     "text": [
      "This is outer function\n"
     ]
    }
   ],
   "source": [
    "def OuterFunction():\n",
    "    print(\"This is outer function\")\n",
    "    \n",
    "    def InnerFunction():\n",
    "        print(\"This is inner function\")\n",
    "        \n",
    "    return 'InnerFunction'\n",
    "    \n",
    "res = OuterFunction()\n"
   ]
  },
  {
   "cell_type": "code",
   "execution_count": 28,
   "id": "bf3cb3d8",
   "metadata": {},
   "outputs": [
    {
     "data": {
      "text/plain": [
       "'InnerFunction'"
      ]
     },
     "execution_count": 28,
     "metadata": {},
     "output_type": "execute_result"
    }
   ],
   "source": [
    "res"
   ]
  },
  {
   "cell_type": "code",
   "execution_count": 29,
   "id": "7c7f9d1d",
   "metadata": {},
   "outputs": [
    {
     "name": "stdout",
     "output_type": "stream",
     "text": [
      "This is outer function\n",
      "This is inner function\n"
     ]
    }
   ],
   "source": [
    "def OuterFunction():\n",
    "    print(\"This is outer function\")\n",
    "    \n",
    "    def InnerFunction():\n",
    "        print(\"This is inner function\")\n",
    "        \n",
    "    InnerFunction()\n",
    "    \n",
    "OuterFunction()"
   ]
  },
  {
   "cell_type": "code",
   "execution_count": 30,
   "id": "674bc01d",
   "metadata": {},
   "outputs": [
    {
     "data": {
      "text/plain": [
       "'Demo Function.'"
      ]
     },
     "execution_count": 30,
     "metadata": {},
     "output_type": "execute_result"
    }
   ],
   "source": [
    "a"
   ]
  },
  {
   "cell_type": "code",
   "execution_count": 31,
   "id": "a709cf71",
   "metadata": {},
   "outputs": [
    {
     "name": "stdout",
     "output_type": "stream",
     "text": [
      "This is Outer function\n",
      "This is inner function\n"
     ]
    }
   ],
   "source": [
    "def OuterFunction():\n",
    "    print(\"This is Outer function\")\n",
    "\n",
    "    def InnerFunction():\n",
    "        print(\"This is inner function\")\n",
    "\n",
    "    InnerFunction()\n",
    "\n",
    "OuterFunction()"
   ]
  },
  {
   "cell_type": "code",
   "execution_count": 32,
   "id": "f50ffb66",
   "metadata": {},
   "outputs": [
    {
     "name": "stdout",
     "output_type": "stream",
     "text": [
      "This is Outer function\n",
      "This is inner function\n"
     ]
    }
   ],
   "source": [
    "def OuterFunction():\n",
    "    print(\"This is Outer function\")\n",
    "\n",
    "    def InnerFunction():\n",
    "        print(\"This is inner function\")\n",
    "\n",
    "    InnerFunction()\n",
    "    return \"we are learning Decorators\"\n",
    "\n",
    "a = OuterFunction()"
   ]
  },
  {
   "cell_type": "code",
   "execution_count": 34,
   "id": "5d8a6b3e",
   "metadata": {},
   "outputs": [
    {
     "data": {
      "text/plain": [
       "'we are learning Decorators'"
      ]
     },
     "execution_count": 34,
     "metadata": {},
     "output_type": "execute_result"
    }
   ],
   "source": [
    "a"
   ]
  },
  {
   "cell_type": "code",
   "execution_count": 33,
   "id": "9391533c",
   "metadata": {},
   "outputs": [
    {
     "data": {
      "text/plain": [
       "'we are learning Decorators'"
      ]
     },
     "execution_count": 33,
     "metadata": {},
     "output_type": "execute_result"
    }
   ],
   "source": [
    "a"
   ]
  },
  {
   "cell_type": "code",
   "execution_count": 36,
   "id": "579fc100",
   "metadata": {},
   "outputs": [
    {
     "name": "stdout",
     "output_type": "stream",
     "text": [
      "This is outer function\n",
      "<function OuterFunction.<locals>.InnerFunction at 0x000001F9E48BB2E0>\n",
      "this is Inner function\n"
     ]
    }
   ],
   "source": [
    "def OuterFunction():\n",
    "\n",
    "    print(\"This is outer function\")\n",
    "\n",
    "    def InnerFunction():\n",
    "        print(\"this is Inner function\")\n",
    "\n",
    "    return InnerFunction\n",
    "\n",
    "res = OuterFunction()\n",
    "print(res)\n",
    "res()"
   ]
  },
  {
   "cell_type": "code",
   "execution_count": 37,
   "id": "87b46b41",
   "metadata": {},
   "outputs": [
    {
     "name": "stdout",
     "output_type": "stream",
     "text": [
      "This is Outer function\n",
      "This is inner function\n"
     ]
    }
   ],
   "source": [
    "def OuterFunction():\n",
    "    print(\"This is Outer function\")\n",
    "\n",
    "    def InnerFunction():\n",
    "        print(\"This is inner function\")\n",
    "\n",
    "    return InnerFunction()\n",
    "\n",
    "OuterFunction()"
   ]
  },
  {
   "cell_type": "code",
   "execution_count": 38,
   "id": "31eb1e65",
   "metadata": {},
   "outputs": [
    {
     "name": "stdout",
     "output_type": "stream",
     "text": [
      "This is outer Functions.\n",
      "This is inner function\n"
     ]
    },
    {
     "data": {
      "text/plain": [
       "'Inner Return Function.'"
      ]
     },
     "execution_count": 38,
     "metadata": {},
     "output_type": "execute_result"
    }
   ],
   "source": [
    "def OuterFunction():\n",
    "    print(\"This is outer Functions.\")\n",
    "\n",
    "    def InnerFunction():\n",
    "        print(\"This is inner function\")\n",
    "        return \"Inner Return Function.\"\n",
    "    \n",
    "    return InnerFunction()\n",
    "\n",
    "OuterFunction()"
   ]
  },
  {
   "cell_type": "code",
   "execution_count": 39,
   "id": "4ceddfce",
   "metadata": {},
   "outputs": [
    {
     "name": "stdout",
     "output_type": "stream",
     "text": [
      "This is outer function.\n",
      "This is inner function.\n"
     ]
    }
   ],
   "source": [
    "def OuterFunction():\n",
    "    print(\"This is outer function.\")\n",
    "\n",
    "    def InnerFunction():\n",
    "        print(\"This is inner function.\")\n",
    "\n",
    "    return InnerFunction\n",
    "\n",
    "\n",
    "OuterFunction()()"
   ]
  },
  {
   "cell_type": "code",
   "execution_count": 40,
   "id": "87bb0aa5",
   "metadata": {},
   "outputs": [
    {
     "data": {
      "text/plain": [
       "'PYTHON'"
      ]
     },
     "execution_count": 40,
     "metadata": {},
     "output_type": "execute_result"
    }
   ],
   "source": [
    "re = lambda x : x.upper()\n",
    "re(\"python\")"
   ]
  },
  {
   "cell_type": "code",
   "execution_count": 41,
   "id": "14d401af",
   "metadata": {},
   "outputs": [
    {
     "data": {
      "text/plain": [
       "'Python'"
      ]
     },
     "execution_count": 41,
     "metadata": {},
     "output_type": "execute_result"
    }
   ],
   "source": [
    "re = lambda x : x.title()\n",
    "re(\"python\")"
   ]
  },
  {
   "cell_type": "code",
   "execution_count": 42,
   "id": "f40f3262",
   "metadata": {},
   "outputs": [
    {
     "name": "stdout",
     "output_type": "stream",
     "text": [
      "This is outer function.\n"
     ]
    },
    {
     "data": {
      "text/plain": [
       "<function __main__.OuterFunction.<locals>.InnerFunction(num)>"
      ]
     },
     "execution_count": 42,
     "metadata": {},
     "output_type": "execute_result"
    }
   ],
   "source": [
    "def OuterFunction():\n",
    "    print(\"This is outer function.\")\n",
    "\n",
    "    def InnerFunction(num):\n",
    "        print(\"This is inner function\")\n",
    "        print(f\"The number = {num}\" )\n",
    "    \n",
    "    return InnerFunction\n",
    "\n",
    "obj = OuterFunction()\n",
    "obj"
   ]
  },
  {
   "cell_type": "code",
   "execution_count": 43,
   "id": "41eb7c25",
   "metadata": {},
   "outputs": [
    {
     "data": {
      "text/plain": [
       "<function __main__.OuterFunction.<locals>.InnerFunction(num)>"
      ]
     },
     "execution_count": 43,
     "metadata": {},
     "output_type": "execute_result"
    }
   ],
   "source": [
    "obj"
   ]
  },
  {
   "cell_type": "code",
   "execution_count": 44,
   "id": "d354be1f",
   "metadata": {},
   "outputs": [
    {
     "ename": "TypeError",
     "evalue": "OuterFunction.<locals>.InnerFunction() missing 1 required positional argument: 'num'",
     "output_type": "error",
     "traceback": [
      "\u001b[31m---------------------------------------------------------------------------\u001b[39m",
      "\u001b[31mTypeError\u001b[39m                                 Traceback (most recent call last)",
      "\u001b[36mCell\u001b[39m\u001b[36m \u001b[39m\u001b[32mIn[44]\u001b[39m\u001b[32m, line 1\u001b[39m\n\u001b[32m----> \u001b[39m\u001b[32m1\u001b[39m \u001b[43mobj\u001b[49m\u001b[43m(\u001b[49m\u001b[43m)\u001b[49m\n",
      "\u001b[31mTypeError\u001b[39m: OuterFunction.<locals>.InnerFunction() missing 1 required positional argument: 'num'"
     ]
    }
   ],
   "source": [
    "obj()"
   ]
  },
  {
   "cell_type": "code",
   "execution_count": 45,
   "id": "bf631464",
   "metadata": {},
   "outputs": [
    {
     "name": "stdout",
     "output_type": "stream",
     "text": [
      "This is inner function\n",
      "The number = 2\n"
     ]
    }
   ],
   "source": [
    "obj(2)"
   ]
  },
  {
   "cell_type": "code",
   "execution_count": 48,
   "id": "8afd0036",
   "metadata": {},
   "outputs": [
    {
     "name": "stdout",
     "output_type": "stream",
     "text": [
      "Outer Function\n",
      "Inner Function\n",
      "The number = 50000000\n"
     ]
    }
   ],
   "source": [
    "def OuterFunction():\n",
    "    print(\"Outer Function\")\n",
    "\n",
    "    def InnerFunction(num):\n",
    "        print(\"Inner Function\")\n",
    "        print(f\"The number = {num}\")\n",
    "\n",
    "    return InnerFunction(50000000)\n",
    "\n",
    "OuterFunction()"
   ]
  },
  {
   "cell_type": "code",
   "execution_count": null,
   "id": "bd75a1ea",
   "metadata": {},
   "outputs": [
    {
     "name": "stdout",
     "output_type": "stream",
     "text": [
      "Outer \n",
      " Function.\n",
      "Inner \n",
      " Function.\n",
      "The Number = 10.5\n"
     ]
    },
    {
     "data": {
      "text/plain": [
       "'The addition of 10.5 with static value 500 = 510.5'"
      ]
     },
     "execution_count": 57,
     "metadata": {},
     "output_type": "execute_result"
    }
   ],
   "source": [
    "def OuterFunction(num1):\n",
    "    print(\"Outer \\n Function.\")\n",
    "\n",
    "    def InnerFunction(num):\n",
    "        print(\"Inner \\n Function.\")\n",
    "        print(f\"The Number = {num}\")\n",
    "        \n",
    "        return f\"The addition of {num} with static value 500 = {500 + num}\"\n",
    "   \n",
    "    return InnerFunction(num1)\n",
    "\n",
    "num1 = 10.5\n",
    "OuterFunction(num1)\n"
   ]
  },
  {
   "cell_type": "code",
   "execution_count": 65,
   "id": "d402cea6",
   "metadata": {},
   "outputs": [
    {
     "name": "stdout",
     "output_type": "stream",
     "text": [
      "Outer \n",
      " Function.\n",
      "Inner \n",
      " Function.\n",
      "The Number = 5.5\n"
     ]
    }
   ],
   "source": [
    "def OuterFunction(num1):\n",
    "    print(\"Outer \\n Function.\")\n",
    "\n",
    "    def InnerFunction(num):\n",
    "        print(\"Inner \\n Function.\")\n",
    "    \n",
    "        print(f\"The Number = {num}\")\n",
    "        \n",
    "        return f\"The addition of {num} with static value 500 = {500 + num}\"\n",
    "   \n",
    "    return InnerFunction(num1)\n",
    "\n",
    "number = 5.5\n",
    "res =OuterFunction(number)"
   ]
  },
  {
   "cell_type": "code",
   "execution_count": 68,
   "id": "f123ea3a",
   "metadata": {},
   "outputs": [
    {
     "data": {
      "text/plain": [
       "'The addition of 5.5 with static value 500 = 505.5'"
      ]
     },
     "execution_count": 68,
     "metadata": {},
     "output_type": "execute_result"
    }
   ],
   "source": [
    "res"
   ]
  },
  {
   "cell_type": "code",
   "execution_count": 69,
   "id": "0a8751de",
   "metadata": {},
   "outputs": [],
   "source": [
    "def demo():\n",
    "    print(\"Python\")"
   ]
  },
  {
   "cell_type": "code",
   "execution_count": 70,
   "id": "9c3c510e",
   "metadata": {},
   "outputs": [
    {
     "name": "stdout",
     "output_type": "stream",
     "text": [
      "Python\n"
     ]
    }
   ],
   "source": [
    "res1 = demo()"
   ]
  },
  {
   "cell_type": "code",
   "execution_count": 71,
   "id": "8a6872e0",
   "metadata": {},
   "outputs": [],
   "source": [
    "res1"
   ]
  },
  {
   "cell_type": "code",
   "execution_count": 72,
   "id": "a514036a",
   "metadata": {},
   "outputs": [
    {
     "name": "stdout",
     "output_type": "stream",
     "text": [
      "This is outer function.\n",
      "This is inner function.\n",
      "The number = 5.5\n"
     ]
    }
   ],
   "source": [
    "def OuterFunction(num1, func):\n",
    "    print(\"This is outer function.\")\n",
    "\n",
    "    def InnerFunction(num):\n",
    "        print(\"This is inner function.\")\n",
    "        print(f\"The number = {num}\")\n",
    "\n",
    "    return InnerFunction(num1)\n",
    "\n",
    "def MostOuterFunction():\n",
    "    print(\"this in Most outer func \")\n",
    "\n",
    "\n",
    "number = 5.5\n",
    "OuterFunction(number, MostOuterFunction)"
   ]
  },
  {
   "cell_type": "code",
   "execution_count": 74,
   "id": "b4ce77f2",
   "metadata": {},
   "outputs": [
    {
     "name": "stdout",
     "output_type": "stream",
     "text": [
      "This is Outer function\n",
      "This is in inner function\n",
      "This is most outer function.\n"
     ]
    }
   ],
   "source": [
    "def OuterFunction(func):\n",
    "    print(\"This is Outer function\")\n",
    "\n",
    "    def InnerFunction():\n",
    "        print(\"This is in inner function\")\n",
    "        func()\n",
    "\n",
    "    return InnerFunction\n",
    "\n",
    "@OuterFunction\n",
    "\n",
    "def MostOuterFunction():\n",
    "    print(\"This is most outer function.\")\n",
    "\n",
    "    \n",
    "MostOuterFunction()"
   ]
  },
  {
   "cell_type": "code",
   "execution_count": 78,
   "id": "02f6c6b4",
   "metadata": {},
   "outputs": [
    {
     "name": "stdout",
     "output_type": "stream",
     "text": [
      "This is hello decorator function.\n"
     ]
    },
    {
     "data": {
      "text/plain": [
       "<function __main__.hello_decorators.<locals>.inn_function()>"
      ]
     },
     "execution_count": 78,
     "metadata": {},
     "output_type": "execute_result"
    }
   ],
   "source": [
    "def hello_decorators(fun):\n",
    "    print(\"This is hello decorator function.\")\n",
    "\n",
    "\n",
    "    def inn_function():\n",
    "        print(\"this is inner function\")\n",
    "\n",
    "        fun()\n",
    "        print(\"Hello inner function.\")\n",
    "    \n",
    "    return inn_function\n",
    "\n",
    "def myfunc():\n",
    "    print(\"My function\")\n",
    "\n",
    "\n",
    "hello_decorators(myfunc)"
   ]
  },
  {
   "cell_type": "code",
   "execution_count": 79,
   "id": "8eb285be",
   "metadata": {},
   "outputs": [
    {
     "name": "stdout",
     "output_type": "stream",
     "text": [
      "My function\n"
     ]
    }
   ],
   "source": [
    "myfunc()"
   ]
  },
  {
   "cell_type": "code",
   "execution_count": 80,
   "id": "6d21131c",
   "metadata": {},
   "outputs": [
    {
     "name": "stdout",
     "output_type": "stream",
     "text": [
      "This is hello decorator function\n",
      "This is inner function\n",
      "This is myfunc function\n",
      "Hello Inner function\n"
     ]
    }
   ],
   "source": [
    "def hello_decorator(fun):\n",
    "    print(\"This is hello decorator function\")\n",
    "\n",
    "    def inn_function():\n",
    "        print(\"This is inner function\")\n",
    "        fun()\n",
    "        print(\"Hello Inner function\")\n",
    "    \n",
    "    return inn_function\n",
    "\n",
    "def myfunc():\n",
    "    print(\"This is myfunc function\")\n",
    "\n",
    "res = hello_decorator(myfunc)\n",
    "res()"
   ]
  },
  {
   "cell_type": "code",
   "execution_count": 82,
   "id": "53e22f80",
   "metadata": {},
   "outputs": [
    {
     "name": "stdout",
     "output_type": "stream",
     "text": [
      "This is inner function\n",
      "This is myfunc function\n",
      "Hello Inner function\n"
     ]
    }
   ],
   "source": [
    "res()"
   ]
  },
  {
   "cell_type": "code",
   "execution_count": null,
   "id": "54677f73",
   "metadata": {},
   "outputs": [],
   "source": [
    "import Test"
   ]
  },
  {
   "cell_type": "code",
   "execution_count": 3,
   "id": "a177a073",
   "metadata": {},
   "outputs": [],
   "source": [
    "from Test import mathops"
   ]
  },
  {
   "cell_type": "code",
   "execution_count": 4,
   "id": "8701a1e8",
   "metadata": {},
   "outputs": [
    {
     "data": {
      "text/plain": [
       "<function __main__.NewDivision.<locals>.InnFun(a, b)>"
      ]
     },
     "execution_count": 4,
     "metadata": {},
     "output_type": "execute_result"
    }
   ],
   "source": [
    "def NewDivision(fun):\n",
    "\n",
    "    def InnFun(a,b):\n",
    "            return fun(a,b)\n",
    "    return InnFun\n",
    "\n",
    "res = NewDivision(mathops.division)\n",
    "res"
   ]
  },
  {
   "cell_type": "code",
   "execution_count": 5,
   "id": "2c535831",
   "metadata": {},
   "outputs": [
    {
     "data": {
      "text/plain": [
       "2.0"
      ]
     },
     "execution_count": 5,
     "metadata": {},
     "output_type": "execute_result"
    }
   ],
   "source": [
    "res(4,2)"
   ]
  },
  {
   "cell_type": "code",
   "execution_count": 6,
   "id": "e4515b0b",
   "metadata": {},
   "outputs": [
    {
     "data": {
      "text/plain": [
       "'Error: Division by zero'"
      ]
     },
     "execution_count": 6,
     "metadata": {},
     "output_type": "execute_result"
    }
   ],
   "source": [
    "res(5,0)"
   ]
  },
  {
   "cell_type": "code",
   "execution_count": 8,
   "id": "4236aad7",
   "metadata": {},
   "outputs": [],
   "source": [
    "from str_Test import upper"
   ]
  },
  {
   "cell_type": "code",
   "execution_count": 9,
   "id": "f9dc8646",
   "metadata": {},
   "outputs": [
    {
     "data": {
      "text/plain": [
       "'VISHNU'"
      ]
     },
     "execution_count": 9,
     "metadata": {},
     "output_type": "execute_result"
    }
   ],
   "source": [
    "upper(\"vishnu\")"
   ]
  },
  {
   "cell_type": "code",
   "execution_count": 16,
   "id": "d60596bb",
   "metadata": {},
   "outputs": [],
   "source": [
    "def NewUpper(fun):\n",
    "\n",
    "    def InnUpper(str1):\n",
    "        if len(str1) > 5:\n",
    "            return fun(str1)\n",
    "        else:\n",
    "            print(\"ERROR: Length is less than 5!\")\n",
    "        \n",
    "    return InnUpper\n"
   ]
  },
  {
   "cell_type": "code",
   "execution_count": 17,
   "id": "d3f120e5",
   "metadata": {},
   "outputs": [
    {
     "data": {
      "text/plain": [
       "'PYTHON'"
      ]
     },
     "execution_count": 17,
     "metadata": {},
     "output_type": "execute_result"
    }
   ],
   "source": [
    "NewUpper(upper)(\"Python\")"
   ]
  },
  {
   "cell_type": "code",
   "execution_count": 18,
   "id": "97d9f88c",
   "metadata": {},
   "outputs": [
    {
     "name": "stdout",
     "output_type": "stream",
     "text": [
      "ERROR: Length is less than 5!\n"
     ]
    }
   ],
   "source": [
    "NewUpper(upper)(\"no\")"
   ]
  },
  {
   "cell_type": "code",
   "execution_count": null,
   "id": "119c1480",
   "metadata": {},
   "outputs": [],
   "source": []
  }
 ],
 "metadata": {
  "kernelspec": {
   "display_name": "py311",
   "language": "python",
   "name": "python3"
  },
  "language_info": {
   "codemirror_mode": {
    "name": "ipython",
    "version": 3
   },
   "file_extension": ".py",
   "mimetype": "text/x-python",
   "name": "python",
   "nbconvert_exporter": "python",
   "pygments_lexer": "ipython3",
   "version": "3.11.13"
  }
 },
 "nbformat": 4,
 "nbformat_minor": 5
}
