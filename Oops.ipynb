{
 "cells": [
  {
   "cell_type": "markdown",
   "id": "291f774b",
   "metadata": {},
   "source": [
    "# Python OOPs:\n",
    "\n",
    "- To map with real world scenarios, we started using objects in code, This is called Object Oriented Programming."
   ]
  },
  {
   "cell_type": "markdown",
   "id": "878d5b25",
   "metadata": {},
   "source": [
    "- Using python OOPs we decrease function redundancy and increase reusability."
   ]
  },
  {
   "cell_type": "markdown",
   "id": "2a5b19db",
   "metadata": {},
   "source": [
    "- we use classes and objects in OOPs.\n",
    "\n",
    "### objects :\n",
    "\n",
    "- anything is object like keyboard , school, hospital, company,etc..\n",
    "\n",
    "- we already used objects in python which is list, dict, string and so on. \n"
   ]
  },
  {
   "cell_type": "markdown",
   "id": "5a31ca7c",
   "metadata": {},
   "source": [
    "### Class :\n",
    "\n",
    "- Class is a blueprint for creating objects.\n",
    "\n",
    "\n",
    "\n",
    "Creating Class\n",
    "\n",
    "class Student:\n",
    "    \n",
    "    name = \"Ameya Joshi\"\n",
    "\n",
    "creating object (instance)\n",
    "\n",
    "s1 = Student()\n",
    "print(s1.name)\n",
    "\n"
   ]
  },
  {
   "cell_type": "markdown",
   "id": "56b276eb",
   "metadata": {},
   "source": [
    "# classes & instances"
   ]
  },
  {
   "cell_type": "code",
   "execution_count": 1,
   "id": "8204fed6",
   "metadata": {},
   "outputs": [],
   "source": [
    "class Employee: # class define\n",
    "    pass"
   ]
  },
  {
   "cell_type": "code",
   "execution_count": 2,
   "id": "b94ec5f8",
   "metadata": {},
   "outputs": [],
   "source": [
    "emp1 = Employee() # emp1 is the instance of class\n",
    "emp2 = Employee()"
   ]
  },
  {
   "cell_type": "code",
   "execution_count": 4,
   "id": "408804bf",
   "metadata": {},
   "outputs": [
    {
     "data": {
      "text/plain": [
       "<__main__.Employee at 0x1b8e496fe00>"
      ]
     },
     "execution_count": 4,
     "metadata": {},
     "output_type": "execute_result"
    }
   ],
   "source": [
    "emp1 # returns object"
   ]
  },
  {
   "cell_type": "code",
   "execution_count": null,
   "id": "4fa527df",
   "metadata": {},
   "outputs": [],
   "source": [
    "emp1.fname = \"Vishnu\"\n",
    "emp1.lname = \"Kulkarni\"\n",
    "emp1.pay = 1200000\n"
   ]
  },
  {
   "cell_type": "code",
   "execution_count": 6,
   "id": "ffccbc19",
   "metadata": {},
   "outputs": [
    {
     "name": "stdout",
     "output_type": "stream",
     "text": [
      "Vishnu Kulkarni 1200000\n"
     ]
    }
   ],
   "source": [
    "print(emp1.fname, emp1.lname, emp1.pay)"
   ]
  },
  {
   "cell_type": "code",
   "execution_count": 7,
   "id": "f46dea0e",
   "metadata": {},
   "outputs": [
    {
     "name": "stdout",
     "output_type": "stream",
     "text": [
      "Employee Fullname : Vishnu Kulkarni\n"
     ]
    }
   ],
   "source": [
    "print(f\"Employee Fullname : {emp1.fname} {emp1.lname}\")"
   ]
  },
  {
   "cell_type": "code",
   "execution_count": 8,
   "id": "572c6037",
   "metadata": {},
   "outputs": [
    {
     "name": "stdout",
     "output_type": "stream",
     "text": [
      "{'fname': 'Vishnu', 'lname': 'Kulkarni', 'pay': 1200000}\n"
     ]
    }
   ],
   "source": [
    "print(emp1.__dict__)"
   ]
  },
  {
   "cell_type": "code",
   "execution_count": 9,
   "id": "6ea85cc2",
   "metadata": {},
   "outputs": [],
   "source": [
    "class Employee:\n",
    "    def Fullname(self, fname, lname):\n",
    "        print(f\"full Name of an Employee :- {fname} {lname}\")\n",
    "\n",
    "    def getMailId(self,fname,lname):\n",
    "        print(f\"Mail id of an Employee :- {fname.lower()}{lname.lower()}@gmail.com\")"
   ]
  },
  {
   "cell_type": "code",
   "execution_count": 10,
   "id": "35e574cf",
   "metadata": {},
   "outputs": [],
   "source": [
    "fname = \"Ameya\"\n",
    "lname = \"Joshi\"\n",
    "\n",
    "# creating instance\n",
    "\n",
    "e1 = Employee()"
   ]
  },
  {
   "cell_type": "code",
   "execution_count": 12,
   "id": "905cbd0e",
   "metadata": {},
   "outputs": [
    {
     "name": "stdout",
     "output_type": "stream",
     "text": [
      "full Name of an Employee :- Ameya Joshi\n"
     ]
    }
   ],
   "source": [
    "e1.Fullname(fname, lname)"
   ]
  },
  {
   "cell_type": "code",
   "execution_count": 13,
   "id": "b363ef2c",
   "metadata": {},
   "outputs": [
    {
     "name": "stdout",
     "output_type": "stream",
     "text": [
      "Mail id of an Employee :- ameyajoshi@gmail.com\n"
     ]
    }
   ],
   "source": [
    "e1.getMailId(fname, lname)"
   ]
  },
  {
   "cell_type": "code",
   "execution_count": 27,
   "id": "78cfdc97",
   "metadata": {},
   "outputs": [],
   "source": [
    "class ClassName:\n",
    "    def printSelf(self):\n",
    "        print(self)\n",
    "        "
   ]
  },
  {
   "cell_type": "code",
   "execution_count": 28,
   "id": "d4ab8602",
   "metadata": {},
   "outputs": [
    {
     "data": {
      "text/plain": [
       "__main__.ClassName"
      ]
     },
     "execution_count": 28,
     "metadata": {},
     "output_type": "execute_result"
    }
   ],
   "source": [
    "ClassName"
   ]
  },
  {
   "cell_type": "code",
   "execution_count": 29,
   "id": "b653c83b",
   "metadata": {},
   "outputs": [],
   "source": [
    "c1 = ClassName()\n",
    "c2 = ClassName()"
   ]
  },
  {
   "cell_type": "code",
   "execution_count": 30,
   "id": "1eb29a2c",
   "metadata": {},
   "outputs": [
    {
     "data": {
      "text/plain": [
       "<__main__.ClassName at 0x1b8e4b0f380>"
      ]
     },
     "execution_count": 30,
     "metadata": {},
     "output_type": "execute_result"
    }
   ],
   "source": [
    "c1"
   ]
  },
  {
   "cell_type": "code",
   "execution_count": 31,
   "id": "8b950658",
   "metadata": {},
   "outputs": [
    {
     "data": {
      "text/plain": [
       "<__main__.ClassName at 0x1b8e4c25bd0>"
      ]
     },
     "execution_count": 31,
     "metadata": {},
     "output_type": "execute_result"
    }
   ],
   "source": [
    "c2"
   ]
  },
  {
   "cell_type": "code",
   "execution_count": 32,
   "id": "3625d5e7",
   "metadata": {},
   "outputs": [
    {
     "name": "stdout",
     "output_type": "stream",
     "text": [
      "<__main__.ClassName object at 0x000001B8E4B0F380>\n"
     ]
    }
   ],
   "source": [
    "c1.printSelf()"
   ]
  },
  {
   "cell_type": "code",
   "execution_count": 33,
   "id": "738def3f",
   "metadata": {},
   "outputs": [
    {
     "name": "stdout",
     "output_type": "stream",
     "text": [
      "Full Name of an Employee :- vishnu Kulkarni\n"
     ]
    }
   ],
   "source": [
    "class Employee:\n",
    "    def fullName(self,fname,lname):\n",
    "        print(f\"Full Name of an Employee :- {fname} {lname}\")\n",
    "        \n",
    "    def getMailId(self,fname,lname):\n",
    "        print(f\"Mail id of an Employee :- {fname.lower()}{lname.lower()}@gmail.com\")\n",
    "        \n",
    "e1 = Employee()\n",
    "e1.fullName('vishnu', 'Kulkarni')"
   ]
  },
  {
   "cell_type": "code",
   "execution_count": 37,
   "id": "b642b69e",
   "metadata": {},
   "outputs": [
    {
     "name": "stdout",
     "output_type": "stream",
     "text": [
      "somthing before function called.\n",
      "Hello vishnu!\n",
      "something happen after\n"
     ]
    }
   ],
   "source": [
    "def add(func):\n",
    "    def wrapper(* args, **kwargs):\n",
    "        print('somthing before function called.')\n",
    "        result = func(*args, ** kwargs)\n",
    "        print('something happen after')\n",
    "        return result\n",
    "    return wrapper \n",
    "\n",
    "@add\n",
    "def say_hello(name):\n",
    "    print(f\"Hello {name}!\")\n",
    "\n",
    "say_hello('vishnu')"
   ]
  },
  {
   "cell_type": "code",
   "execution_count": 38,
   "id": "d4e540c3",
   "metadata": {},
   "outputs": [
    {
     "name": "stdout",
     "output_type": "stream",
     "text": [
      "{1: 'a', 2: 'b', 3: 'c'}\n"
     ]
    }
   ],
   "source": [
    "a = [1, 2, 3]\n",
    "b = ['a', 'b', 'c']\n",
    "z = zip(a, b)\n",
    "print(dict(z))  # [(1, 'a'), (2, 'b'), (3, 'c')]\n"
   ]
  },
  {
   "cell_type": "code",
   "execution_count": 2,
   "id": "96037481",
   "metadata": {},
   "outputs": [
    {
     "name": "stdout",
     "output_type": "stream",
     "text": [
      "Student name : Zinetsu\n"
     ]
    }
   ],
   "source": [
    "class Student: # define class \n",
    "    name = \"Zinetsu\"\n",
    "\n",
    "s1 = Student() # object or instance of the class\n",
    "\n",
    "print(f\"Student name : {s1.name}\")"
   ]
  },
  {
   "cell_type": "code",
   "execution_count": 6,
   "id": "a1877491",
   "metadata": {},
   "outputs": [
    {
     "name": "stdout",
     "output_type": "stream",
     "text": [
      "Zinetsu\n"
     ]
    }
   ],
   "source": [
    "s2 = Student()\n",
    "print(s2.name)"
   ]
  },
  {
   "cell_type": "code",
   "execution_count": 12,
   "id": "716c6e21",
   "metadata": {},
   "outputs": [
    {
     "name": "stdout",
     "output_type": "stream",
     "text": [
      "Car Colour : Blue\n",
      "Car Brand : Mahindra\n"
     ]
    }
   ],
   "source": [
    "class Car:\n",
    "    color = \"Blue\"\n",
    "    brand = \"Mahindra\"\n",
    "car1 = Car()\n",
    "print(f\"Car Colour : {car1.color}\")\n",
    "print(f\"Car Brand : {car1.brand}\")"
   ]
  },
  {
   "cell_type": "markdown",
   "id": "50c76160",
   "metadata": {},
   "source": [
    "# __init__ Function:\n",
    "\n",
    "- Construstor --> object creation.\n",
    "\n",
    "- All classes have a functions called __init__(), Which is always executed whem the object is being initiated.\n",
    "\n",
    "* The self parameter is a referance to the current instance of the class, and is used to access variables that belongs to the class."
   ]
  },
  {
   "cell_type": "code",
   "execution_count": 14,
   "id": "774c1c56",
   "metadata": {},
   "outputs": [
    {
     "name": "stdout",
     "output_type": "stream",
     "text": [
      "Adding new student in Database..\n",
      "Student name : Tanjiro\n"
     ]
    }
   ],
   "source": [
    "class Student:  \n",
    "    name = \"Tanjiro\"\n",
    "    def __init__(self): # self is referance\n",
    "        print(\"Adding new student in Database..\")\n",
    "\n",
    "s1 = Student() # this paranthesis used to call constructor.\n",
    "print(f\"Student name : {s1.name}\")"
   ]
  },
  {
   "cell_type": "code",
   "execution_count": 20,
   "id": "491909cb",
   "metadata": {},
   "outputs": [
    {
     "name": "stdout",
     "output_type": "stream",
     "text": [
      "Student name : Tomiyoka san\n"
     ]
    }
   ],
   "source": [
    "class Student:  \n",
    "    def __init__(self,fullname):\n",
    "        self.name = fullname\n",
    "        #print(self)\n",
    "\n",
    "s1 = Student(\"Tomiyoka san\") \n",
    "print(f\"Student name : {s1.name}\")"
   ]
  },
  {
   "cell_type": "code",
   "execution_count": 26,
   "id": "42f0702e",
   "metadata": {},
   "outputs": [
    {
     "name": "stdout",
     "output_type": "stream",
     "text": [
      "Adding new student in Database..\n",
      "Student name : Enosuki\n",
      "Adding new student in Database..\n",
      "Student name : Nezuko\n"
     ]
    }
   ],
   "source": [
    "class Student:\n",
    "\n",
    "    def __init__(self, fullname):\n",
    "        self.name = fullname\n",
    "        print(\"Adding new student in Database..\")\n",
    "\n",
    "s1 = Student(\"Enosuki\") \n",
    "print(f\"Student name : {s1.name}\")\n",
    "\n",
    "s2 = Student(\"Nezuko\")\n",
    "print(f\"Student name : {s2.name}\")"
   ]
  },
  {
   "cell_type": "code",
   "execution_count": 29,
   "id": "00712b42",
   "metadata": {},
   "outputs": [
    {
     "name": "stdout",
     "output_type": "stream",
     "text": [
      "Adding new student in Database..\n",
      "Student name & Score : Enosuki \n",
      "Marks:  88\n",
      "Adding new student in Database..\n",
      "Student name & Score : Nezuko \n",
      "Marks: 98\n"
     ]
    }
   ],
   "source": [
    "class Student:\n",
    "\n",
    "    def __init__(self, name, marks):\n",
    "        self.name = name\n",
    "        self.marks = marks\n",
    "        print(\"Adding new student in Database..\")\n",
    "\n",
    "s1 = Student(\"Enosuki\",88) \n",
    "print(f\"Student name & Score : {s1.name} \\nMarks:  {s1.marks}\")\n",
    "\n",
    "s2 = Student(\"Nezuko\",98)\n",
    "print(f\"Student name & Score : {s2.name} \\nMarks: {s2.marks}\")"
   ]
  },
  {
   "cell_type": "code",
   "execution_count": 30,
   "id": "96919cd3",
   "metadata": {},
   "outputs": [],
   "source": [
    "class Student:\n",
    "    # default constructors\n",
    "    def __init__(self):\n",
    "        pass\n",
    "\n",
    "    # parameterized constructor\n",
    "    def __init__(self, name, marks):\n",
    "        self.name = name\n",
    "        self.marks = marks\n",
    "        print(\"Adding new student in Database..\")"
   ]
  },
  {
   "cell_type": "markdown",
   "id": "3f8adaf4",
   "metadata": {},
   "source": [
    "# class & instance Attribute"
   ]
  },
  {
   "cell_type": "markdown",
   "id": "bbcbb5d1",
   "metadata": {},
   "source": [
    "- class.attr\n",
    "- obj.attr"
   ]
  },
  {
   "cell_type": "code",
   "execution_count": 36,
   "id": "be468ea9",
   "metadata": {},
   "outputs": [
    {
     "name": "stdout",
     "output_type": "stream",
     "text": [
      "Adding new student in Database..\n",
      "Student name & Score : Enosuki \n",
      "Marks:  88\n",
      "Adding new student in Database..\n",
      "Student name & Score : Nezuko \n",
      "Marks: 98\n",
      "ABC COllege\n"
     ]
    }
   ],
   "source": [
    "class Student:\n",
    "    college_name = \"ABC COllege\"\n",
    "\n",
    "    def __init__(self, name, marks):\n",
    "        self.name = name # instance attributes\n",
    "        self.marks = marks\n",
    "        print(\"Adding new student in Database..\")\n",
    "\n",
    "s1 = Student(\"Enosuki\",88) \n",
    "print(f\"Student name & Score : {s1.name} \\nMarks:  {s1.marks}\")\n",
    "\n",
    "s2 = Student(\"Nezuko\",98)\n",
    "print(f\"Student name & Score : {s2.name} \\nMarks: {s2.marks}\")\n",
    "print(Student.college_name)"
   ]
  },
  {
   "cell_type": "code",
   "execution_count": null,
   "id": "f99c8039",
   "metadata": {},
   "outputs": [
    {
     "ename": "TypeError",
     "evalue": "Student.__init__() missing 1 required positional argument: 'marks'",
     "output_type": "error",
     "traceback": [
      "\u001b[31m---------------------------------------------------------------------------\u001b[39m",
      "\u001b[31mTypeError\u001b[39m                                 Traceback (most recent call last)",
      "\u001b[36mCell\u001b[39m\u001b[36m \u001b[39m\u001b[32mIn[38]\u001b[39m\u001b[32m, line 9\u001b[39m\n\u001b[32m      6\u001b[39m         \u001b[38;5;28mself\u001b[39m.marks = marks\n\u001b[32m      7\u001b[39m         \u001b[38;5;28mprint\u001b[39m(\u001b[33m\"\u001b[39m\u001b[33mAdding new student in Database..\u001b[39m\u001b[33m\"\u001b[39m)\n\u001b[32m----> \u001b[39m\u001b[32m9\u001b[39m s1 = \u001b[43mStudent\u001b[49m\u001b[43m(\u001b[49m\u001b[32;43m88\u001b[39;49m\u001b[43m)\u001b[49m \n\u001b[32m     10\u001b[39m \u001b[38;5;28mprint\u001b[39m(\u001b[33mf\u001b[39m\u001b[33m\"\u001b[39m\u001b[33mStudent name & Score : \u001b[39m\u001b[38;5;132;01m{\u001b[39;00ms1.name\u001b[38;5;132;01m}\u001b[39;00m\u001b[33m \u001b[39m\u001b[38;5;130;01m\\n\u001b[39;00m\u001b[33mMarks:  \u001b[39m\u001b[38;5;132;01m{\u001b[39;00ms1.marks\u001b[38;5;132;01m}\u001b[39;00m\u001b[33m\"\u001b[39m)\n\u001b[32m     12\u001b[39m \u001b[38;5;66;03m#s2 = Student(\"Nezuko\",98)\u001b[39;00m\n\u001b[32m     13\u001b[39m \u001b[38;5;66;03m#print(f\"Student name & Score : {s2.name} \\nMarks: {s2.marks}\")\u001b[39;00m\n\u001b[32m     14\u001b[39m \u001b[38;5;66;03m#print(#Student.college_name)\u001b[39;00m\n",
      "\u001b[31mTypeError\u001b[39m: Student.__init__() missing 1 required positional argument: 'marks'"
     ]
    }
   ],
   "source": [
    "class Student:\n",
    "    college_name = \"ABC COllege\"\n",
    "    name = \"annp\"\n",
    "    def __init__(self, name, marks):\n",
    "        self.name = name # instance attributes\n",
    "        self.marks = marks\n",
    "        print(\"Adding new student in Database..\")\n",
    "\n",
    "s1 = Student(\"Enosuki\",88) \n",
    "print(f\"Student name & Score : {s1.name} \\nMarks:  {s1.marks}\")\n",
    "\n",
    "s2 = Student(\"Nezuko\",98)\n",
    "print(f\"Student name & Score : {s2.name} \\nMarks: {s2.marks}\")\n",
    "print(Student.college_name)"
   ]
  },
  {
   "cell_type": "code",
   "execution_count": 1,
   "id": "1fe7fb31",
   "metadata": {},
   "outputs": [
    {
     "name": "stdout",
     "output_type": "stream",
     "text": [
      "hello Ameya, your Score is: 99.0\n"
     ]
    }
   ],
   "source": [
    "class student:\n",
    "\n",
    "    def __init__(self, name, marks):\n",
    "        self.name = name\n",
    "        self.marks = marks\n",
    "    \n",
    "    def get_avg(self):\n",
    "        sum = 0\n",
    "        for val in self.marks:\n",
    "            sum += val\n",
    "        print(f\"hello {self.name}, your Score is: {sum/3}\")\n",
    "\n",
    "s1 = student(\"Ameya\",[98,99,100])\n",
    "\n",
    "s1.get_avg()\n"
   ]
  },
  {
   "cell_type": "markdown",
   "id": "975b92b7",
   "metadata": {},
   "source": [
    "# oops pillars:\n",
    "\n",
    "1. abstraction\n",
    "2. Encapsulation\n",
    "3. inheritance\n",
    "4. polymorphism\n"
   ]
  },
  {
   "cell_type": "code",
   "execution_count": null,
   "id": "c0ac0c4b",
   "metadata": {},
   "outputs": [],
   "source": [
    "class abc:\n",
    "    def __init__(self,bal, acc):\n",
    "        self.balance = bal"
   ]
  },
  {
   "cell_type": "code",
   "execution_count": 12,
   "id": "190e6bf6",
   "metadata": {},
   "outputs": [
    {
     "name": "stdout",
     "output_type": "stream",
     "text": [
      "Rs. 10000 was debited from your account\n",
      "Total avail.balance: 990000\n",
      "12345\n",
      "\n",
      "Rs. 2100000 was credited from your account\n",
      "Total avail.balance: 3090000\n",
      "12345\n",
      "\n"
     ]
    }
   ],
   "source": [
    "class Account:\n",
    "    def __init__(self, bal, acc):\n",
    "        self.balance = bal\n",
    "        self.account_no = acc\n",
    "    \n",
    "    def debit(self, amount):\n",
    "        self.balance -= amount\n",
    "        print(f\"Rs. {amount} was debited from your account\")\n",
    "        print(f\"Total avail.balance: {self.get_balance()}\")\n",
    "\n",
    "    def credit(self, amount):\n",
    "        self.balance += amount\n",
    "        print(f\"Rs. {amount} was credited from your account\")\n",
    "        print(f\"Total avail.balance: {self.get_balance()}\")\n",
    "\n",
    "    def get_balance(self):\n",
    "        return self.balance\n",
    "    \n",
    "\n",
    "\n",
    "acc1 = Account(1000000, 12345)\n",
    "acc1.debit(10000)\n",
    "print(acc1.account_no)\n",
    "print()\n",
    "acc1.credit(2100000)\n",
    "print(acc1.account_no)\n",
    "print()"
   ]
  },
  {
   "cell_type": "markdown",
   "id": "a677d46e",
   "metadata": {},
   "source": [
    "# del keyword:\n",
    "\n",
    "- Used to delete object properties or object itself.\n",
    "\n",
    "    - del s1.name\n",
    "    - del s1"
   ]
  },
  {
   "cell_type": "code",
   "execution_count": 21,
   "id": "d3231139",
   "metadata": {},
   "outputs": [
    {
     "ename": "NameError",
     "evalue": "name 's1' is not defined",
     "output_type": "error",
     "traceback": [
      "\u001b[31m---------------------------------------------------------------------------\u001b[39m",
      "\u001b[31mNameError\u001b[39m                                 Traceback (most recent call last)",
      "\u001b[36mCell\u001b[39m\u001b[36m \u001b[39m\u001b[32mIn[21]\u001b[39m\u001b[32m, line 10\u001b[39m\n\u001b[32m      6\u001b[39m s1 = student(\u001b[33m\"\u001b[39m\u001b[33mvishnu\u001b[39m\u001b[33m\"\u001b[39m)\n\u001b[32m      9\u001b[39m \u001b[38;5;28;01mdel\u001b[39;00m s1\n\u001b[32m---> \u001b[39m\u001b[32m10\u001b[39m \u001b[38;5;28mprint\u001b[39m(\u001b[43ms1\u001b[49m.name)\n",
      "\u001b[31mNameError\u001b[39m: name 's1' is not defined"
     ]
    }
   ],
   "source": [
    "class student:\n",
    "    def __init__(self, name):\n",
    "\n",
    "        self.name = name\n",
    "\n",
    "s1 = student(\"vishnu\")\n",
    "\n",
    "\n",
    "del s1\n",
    "print(s1.name)\n"
   ]
  },
  {
   "cell_type": "code",
   "execution_count": 25,
   "id": "7f23b4ae",
   "metadata": {},
   "outputs": [
    {
     "name": "stdout",
     "output_type": "stream",
     "text": [
      "1234332\n",
      "Abcde\n",
      "None\n"
     ]
    }
   ],
   "source": [
    "class Account:\n",
    "    def __init__(self, acc_no, acc_pass):\n",
    "        self.acc_no = acc_no\n",
    "        self.__acc_pass = acc_pass\n",
    "    \n",
    "    def reset_pass(self):\n",
    "        print(self.__acc_pass)\n",
    "\n",
    "acc1 = Account(\"1234332\", \"Abcde\")\n",
    "\n",
    "print(acc1.acc_no)\n",
    "#print(acc1.__acc_pass)\n",
    "print(acc1.reset_pass())"
   ]
  },
  {
   "cell_type": "markdown",
   "id": "be4e8c56",
   "metadata": {},
   "source": [
    "# private (like) Attribute & methods\n",
    "\n",
    "- conceptual implimentations in python \n",
    "\n",
    "- private attribute & methids are ment to be used only within the class and are not accessible from outside the class."
   ]
  },
  {
   "cell_type": "code",
   "execution_count": 29,
   "id": "6804cef0",
   "metadata": {},
   "outputs": [
    {
     "name": "stdout",
     "output_type": "stream",
     "text": [
      "Hello ! \n",
      "None\n"
     ]
    }
   ],
   "source": [
    "class Person:\n",
    "\n",
    "    __name = \"vishnu\"\n",
    "\n",
    "    def __hello(self):\n",
    "        print(\"Hello ! \")\n",
    "\n",
    "    def welcome(self):\n",
    "        self.__hello()\n",
    "\n",
    "\n",
    "p1 = Person()\n",
    "print(p1.welcome())"
   ]
  },
  {
   "cell_type": "markdown",
   "id": "99f48627",
   "metadata": {},
   "source": [
    "# Inheritance :\n",
    "\n",
    "- When one class (child/derived) derives the properties & methods of another class (parent/ base).\n",
    "\n",
    "    - class Car:\n",
    "        - start \n",
    "        - stop\n",
    "        - color\n",
    "        \n",
    "    - class ToyotaCar(Car):\n",
    "\n",
    "        ..."
   ]
  },
  {
   "cell_type": "code",
   "execution_count": 33,
   "id": "4eb7934c",
   "metadata": {},
   "outputs": [
    {
     "name": "stdout",
     "output_type": "stream",
     "text": [
      "Car Started\n",
      "None\n",
      "black\n"
     ]
    }
   ],
   "source": [
    "class Car:\n",
    "    color = \"black\"\n",
    "    @staticmethod\n",
    "    def start():\n",
    "        print(\"Car Started\")\n",
    "\n",
    "\n",
    "    @staticmethod\n",
    "    def Stop():\n",
    "        print(\"Car stopped.\")\n",
    "\n",
    "class ToyotaCar(Car):\n",
    "    def __init__(self, name):\n",
    "        self.name = name\n",
    "\n",
    "car1 = ToyotaCar(\"fortuner\")\n",
    "car2 = ToyotaCar(\"prius\")\n",
    "\n",
    "print(car1.start())\n",
    "\n",
    "print(car1.color)"
   ]
  },
  {
   "cell_type": "markdown",
   "id": "4583a6d3",
   "metadata": {},
   "source": [
    "# types of inheritance :\n",
    "\n",
    "- Single inheritance\n",
    "- Multi-level inheritance \n",
    "- mmultiple Inheritance\n",
    "    - herarchical inheritance\n",
    "    - hybrid inheritance"
   ]
  },
  {
   "cell_type": "markdown",
   "id": "6a7d798b",
   "metadata": {},
   "source": [
    "### Single inhertance \n",
    "\n",
    "- in single inheritance derived class is dreives from single parent or Base class."
   ]
  },
  {
   "cell_type": "markdown",
   "id": "c878039e",
   "metadata": {},
   "source": [
    "### Multi- level inheritance:\n",
    "\n",
    "- "
   ]
  },
  {
   "cell_type": "code",
   "execution_count": 42,
   "id": "ac9987bf",
   "metadata": {},
   "outputs": [
    {
     "name": "stdout",
     "output_type": "stream",
     "text": [
      "Car Started\n",
      "Diesel\n"
     ]
    }
   ],
   "source": [
    "class Car:\n",
    "    @staticmethod\n",
    "    def start():\n",
    "        print(\"Car Started\")\n",
    "\n",
    "\n",
    "    @staticmethod\n",
    "    def Stop():\n",
    "        print(\"Car stopped.\")\n",
    "\n",
    "class ToyotaCar(Car):\n",
    "    def __init__(self, brand):\n",
    "        self.brand = brand\n",
    "\n",
    "\n",
    "class Fortuner(ToyotaCar):\n",
    "    def __init__(self, type):\n",
    "        self.type = type\n",
    "\n",
    "\n",
    "car1 = Fortuner(\"Diesel\")\n",
    "car1.start()\n",
    "print(car1.type)\n",
    "\n"
   ]
  },
  {
   "cell_type": "markdown",
   "id": "3495bf8f",
   "metadata": {},
   "source": [
    "### multiple Inheritance :\n",
    "\n",
    "- it says if we have one derived class who can inherit the properties from two differant parent/ base class \n",
    "\n",
    "- One child class which inherit the properties from two parent or base class."
   ]
  },
  {
   "cell_type": "code",
   "execution_count": 45,
   "id": "c4c01695",
   "metadata": {},
   "outputs": [
    {
     "name": "stdout",
     "output_type": "stream",
     "text": [
      "Welcome to class C\n",
      "Welcome to class B\n",
      "Welcome to class A\n"
     ]
    }
   ],
   "source": [
    "class A:\n",
    "    varA = \"Welcome to class A\"\n",
    "\n",
    "class B:\n",
    "    varB = \"Welcome to class B\"\n",
    "    \n",
    "class C(A, B):\n",
    "     varC = \"Welcome to class C\"\n",
    "\n",
    "c1 = C()\n",
    "\n",
    "print(c1.varC)\n",
    "print(c1.varB)\n",
    "print(c1.varA)"
   ]
  },
  {
   "cell_type": "markdown",
   "id": "2eb63a10",
   "metadata": {},
   "source": [
    "### Super method :\n",
    "\n",
    "\n",
    "- super() method is used yo access methods of parent class."
   ]
  },
  {
   "cell_type": "code",
   "execution_count": 51,
   "id": "7aba82fd",
   "metadata": {},
   "outputs": [
    {
     "name": "stdout",
     "output_type": "stream",
     "text": [
      "Car Started\n",
      "Electric\n"
     ]
    }
   ],
   "source": [
    "class Car:\n",
    "    def __init__(self, type):\n",
    "       self.type = type\n",
    "\n",
    "    @staticmethod\n",
    "    def Start():\n",
    "        print(\"Car Started\")\n",
    "\n",
    "    @staticmethod\n",
    "    def Stop():\n",
    "        print(\"Car stopped.\")\n",
    "\n",
    "class ToyotaCar(Car):\n",
    "    def __init__(self, name, type):\n",
    "        super().__init__(type)\n",
    "        super().Start()\n",
    "        self.name = name\n",
    "        \n",
    "car1 = ToyotaCar(\"prius\", \"Electric\")\n",
    "\n",
    "print(car1.type)"
   ]
  },
  {
   "cell_type": "code",
   "execution_count": 60,
   "id": "7d4be18e",
   "metadata": {},
   "outputs": [
    {
     "name": "stdout",
     "output_type": "stream",
     "text": [
      "Tanjiro\n",
      "Tanjiro\n"
     ]
    }
   ],
   "source": [
    "class person:\n",
    "    name = \"XYZ\"\n",
    "\n",
    "    #def change_name(self, name):\n",
    "        #person.name = name\n",
    "\n",
    "    def change_name(self, name):\n",
    "        self.__class__.name = \"Tanjiro\"\n",
    "\n",
    "p1 = person()\n",
    "\n",
    "p1.change_name(\"Vishnu\")\n",
    "\n",
    "print(p1.name)\n",
    "\n",
    "print(person.name)"
   ]
  },
  {
   "cell_type": "markdown",
   "id": "13bbefb2",
   "metadata": {},
   "source": [
    "## Class method:\n",
    "\n",
    "- A class method is bound to the class & receives the class as an implicit first argument.\n",
    " - Note : Static Method can't access or modify class state & generally for utility.\n",
    "\n",
    "class Student:\n",
    "    @"
   ]
  },
  {
   "cell_type": "code",
   "execution_count": null,
   "id": "703a0aa6",
   "metadata": {},
   "outputs": [],
   "source": []
  }
 ],
 "metadata": {
  "kernelspec": {
   "display_name": "Python 3",
   "language": "python",
   "name": "python3"
  },
  "language_info": {
   "codemirror_mode": {
    "name": "ipython",
    "version": 3
   },
   "file_extension": ".py",
   "mimetype": "text/x-python",
   "name": "python",
   "nbconvert_exporter": "python",
   "pygments_lexer": "ipython3",
   "version": "3.13.3"
  }
 },
 "nbformat": 4,
 "nbformat_minor": 5
}
