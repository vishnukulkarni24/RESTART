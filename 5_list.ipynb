{
 "cells": [
  {
   "cell_type": "code",
   "execution_count": 2,
   "id": "c23c65d4",
   "metadata": {},
   "outputs": [
    {
     "name": "stdout",
     "output_type": "stream",
     "text": [
      "<class 'list'>\n"
     ]
    }
   ],
   "source": [
    "l1 = [1,2,3,4,5,6]\n",
    "print(type(l1))"
   ]
  },
  {
   "cell_type": "code",
   "execution_count": 1,
   "id": "0efa2cf9",
   "metadata": {},
   "outputs": [
    {
     "ename": "ModuleNotFoundError",
     "evalue": "No module named 'mysql_connector'",
     "output_type": "error",
     "traceback": [
      "\u001b[31m---------------------------------------------------------------------------\u001b[39m",
      "\u001b[31mModuleNotFoundError\u001b[39m                       Traceback (most recent call last)",
      "\u001b[36mCell\u001b[39m\u001b[36m \u001b[39m\u001b[32mIn[1]\u001b[39m\u001b[32m, line 1\u001b[39m\n\u001b[32m----> \u001b[39m\u001b[32m1\u001b[39m \u001b[38;5;28;01mimport\u001b[39;00m\u001b[38;5;250m \u001b[39m\u001b[34;01mmysql_connector\u001b[39;00m\n\u001b[32m      2\u001b[39m \u001b[38;5;28mprint\u001b[39m(\u001b[33m\"\u001b[39m\u001b[33mintalled\u001b[39m\u001b[33m\"\u001b[39m)\n",
      "\u001b[31mModuleNotFoundError\u001b[39m: No module named 'mysql_connector'"
     ]
    }
   ],
   "source": [
    "import mysql_connector\n",
    "print(\"intalled\")"
   ]
  },
  {
   "cell_type": "code",
   "execution_count": 3,
   "id": "cf2a1add",
   "metadata": {},
   "outputs": [],
   "source": [
    "# a[len(a):] = [x].\n",
    "\n",
    "l1[len(l1):] = [7]"
   ]
  },
  {
   "cell_type": "code",
   "execution_count": 5,
   "id": "b9479b4f",
   "metadata": {},
   "outputs": [
    {
     "name": "stdout",
     "output_type": "stream",
     "text": [
      "[1, 2, 3, 4, 5, 6, 7]\n"
     ]
    }
   ],
   "source": [
    "print(l1)"
   ]
  },
  {
   "cell_type": "code",
   "execution_count": 6,
   "id": "2cb95d32",
   "metadata": {},
   "outputs": [],
   "source": [
    "l1.append(8)"
   ]
  },
  {
   "cell_type": "code",
   "execution_count": 7,
   "id": "5fbf0758",
   "metadata": {},
   "outputs": [
    {
     "name": "stdout",
     "output_type": "stream",
     "text": [
      "[1, 2, 3, 4, 5, 6, 7, 8]\n"
     ]
    }
   ],
   "source": [
    "print(l1)"
   ]
  },
  {
   "cell_type": "code",
   "execution_count": 8,
   "id": "e2ee8de8",
   "metadata": {},
   "outputs": [],
   "source": [
    "l1.sort()"
   ]
  },
  {
   "cell_type": "code",
   "execution_count": 9,
   "id": "4c93de70",
   "metadata": {},
   "outputs": [],
   "source": [
    "l1.sort()"
   ]
  },
  {
   "cell_type": "code",
   "execution_count": 10,
   "id": "e3c03b5c",
   "metadata": {},
   "outputs": [
    {
     "data": {
      "text/plain": [
       "[1, 2, 3, 4, 5, 6, 7, 8]"
      ]
     },
     "execution_count": 10,
     "metadata": {},
     "output_type": "execute_result"
    }
   ],
   "source": [
    "l1"
   ]
  },
  {
   "cell_type": "code",
   "execution_count": 17,
   "id": "06830559",
   "metadata": {},
   "outputs": [
    {
     "name": "stdout",
     "output_type": "stream",
     "text": [
      "[1, 2, 3, 4, 5, 6]\n"
     ]
    }
   ],
   "source": [
    "original_length = len(l1)\n",
    "\n",
    "l1 = [i for i in l1 if i != original_length]\n",
    "\n",
    "print(l1)"
   ]
  },
  {
   "cell_type": "code",
   "execution_count": 18,
   "id": "4132db73",
   "metadata": {},
   "outputs": [
    {
     "data": {
      "text/plain": [
       "[1, 2, 3, 4, 5, 6]"
      ]
     },
     "execution_count": 18,
     "metadata": {},
     "output_type": "execute_result"
    }
   ],
   "source": [
    "l1"
   ]
  },
  {
   "cell_type": "code",
   "execution_count": 19,
   "id": "5a83687b",
   "metadata": {},
   "outputs": [],
   "source": [
    "li = [1, 2, 3, 4.4, '5', [1, 2, 3]]"
   ]
  },
  {
   "cell_type": "code",
   "execution_count": 20,
   "id": "4a171e49",
   "metadata": {},
   "outputs": [],
   "source": [
    "li[0]= \"machine\""
   ]
  },
  {
   "cell_type": "code",
   "execution_count": 21,
   "id": "2a00f348",
   "metadata": {},
   "outputs": [
    {
     "data": {
      "text/plain": [
       "['machine', 2, 3, 4.4, '5', [1, 2, 3]]"
      ]
     },
     "execution_count": 21,
     "metadata": {},
     "output_type": "execute_result"
    }
   ],
   "source": [
    "li"
   ]
  },
  {
   "cell_type": "code",
   "execution_count": 22,
   "id": "ff9538a4",
   "metadata": {},
   "outputs": [
    {
     "data": {
      "text/plain": [
       "2"
      ]
     },
     "execution_count": 22,
     "metadata": {},
     "output_type": "execute_result"
    }
   ],
   "source": [
    "l1[1]"
   ]
  },
  {
   "cell_type": "code",
   "execution_count": 23,
   "id": "37c6d799",
   "metadata": {},
   "outputs": [],
   "source": [
    "li.insert(1,1)"
   ]
  },
  {
   "cell_type": "code",
   "execution_count": 24,
   "id": "ebbe7a4e",
   "metadata": {},
   "outputs": [
    {
     "data": {
      "text/plain": [
       "[1, 2, 3, 4, 5, 6]"
      ]
     },
     "execution_count": 24,
     "metadata": {},
     "output_type": "execute_result"
    }
   ],
   "source": [
    "l1"
   ]
  },
  {
   "cell_type": "code",
   "execution_count": 25,
   "id": "076dd3d1",
   "metadata": {},
   "outputs": [
    {
     "data": {
      "text/plain": [
       "['machine', 1, 2, 3, 4.4, '5', [1, 2, 3]]"
      ]
     },
     "execution_count": 25,
     "metadata": {},
     "output_type": "execute_result"
    }
   ],
   "source": [
    "li"
   ]
  },
  {
   "cell_type": "markdown",
   "id": "c3b1d28c",
   "metadata": {},
   "source": [
    "## list indexing"
   ]
  },
  {
   "cell_type": "markdown",
   "id": "ea883537",
   "metadata": {},
   "source": [
    "In list we are able to perform +ve indexing and -tive indexing \n",
    "\n",
    "- positive : 0,1,2,3,4,5,6,7,8,...n\n",
    "- negative : -1,-2,-3,-4,-5,-6,..n"
   ]
  },
  {
   "cell_type": "code",
   "execution_count": 26,
   "id": "040136a9",
   "metadata": {},
   "outputs": [],
   "source": [
    "str1 = \"vishnu kulkarni\""
   ]
  },
  {
   "cell_type": "code",
   "execution_count": 27,
   "id": "021944b5",
   "metadata": {},
   "outputs": [
    {
     "data": {
      "text/plain": [
       "'s'"
      ]
     },
     "execution_count": 27,
     "metadata": {},
     "output_type": "execute_result"
    }
   ],
   "source": [
    "str1[2]"
   ]
  },
  {
   "cell_type": "code",
   "execution_count": 28,
   "id": "a39ba13e",
   "metadata": {},
   "outputs": [
    {
     "data": {
      "text/plain": [
       "'vishnu '"
      ]
     },
     "execution_count": 28,
     "metadata": {},
     "output_type": "execute_result"
    }
   ],
   "source": [
    "str1[0:7]"
   ]
  },
  {
   "cell_type": "code",
   "execution_count": 29,
   "id": "18b6d355",
   "metadata": {},
   "outputs": [],
   "source": [
    "list = [1,2,3,4,5,6,7,8]"
   ]
  },
  {
   "cell_type": "code",
   "execution_count": 30,
   "id": "d93cd842",
   "metadata": {},
   "outputs": [
    {
     "data": {
      "text/plain": [
       "2"
      ]
     },
     "execution_count": 30,
     "metadata": {},
     "output_type": "execute_result"
    }
   ],
   "source": [
    "list[1]"
   ]
  },
  {
   "cell_type": "code",
   "execution_count": 32,
   "id": "6acfb795",
   "metadata": {},
   "outputs": [
    {
     "data": {
      "text/plain": [
       "[2, 3, 4, 5, 6, 7, 8]"
      ]
     },
     "execution_count": 32,
     "metadata": {},
     "output_type": "execute_result"
    }
   ],
   "source": [
    "list[1:8]"
   ]
  },
  {
   "cell_type": "code",
   "execution_count": 34,
   "id": "70c08730",
   "metadata": {},
   "outputs": [
    {
     "data": {
      "text/plain": [
       "[1, 3, 5, 7]"
      ]
     },
     "execution_count": 34,
     "metadata": {},
     "output_type": "execute_result"
    }
   ],
   "source": [
    "list[0::2] "
   ]
  },
  {
   "cell_type": "code",
   "execution_count": 37,
   "id": "425cbea5",
   "metadata": {},
   "outputs": [
    {
     "data": {
      "text/plain": [
       "[8, 7, 6]"
      ]
     },
     "execution_count": 37,
     "metadata": {},
     "output_type": "execute_result"
    }
   ],
   "source": [
    "list[-1:-4:-1]"
   ]
  },
  {
   "cell_type": "code",
   "execution_count": 38,
   "id": "15989dea",
   "metadata": {},
   "outputs": [
    {
     "name": "stdout",
     "output_type": "stream",
     "text": [
      "1 2 7\n"
     ]
    }
   ],
   "source": [
    "print(list[0],list[1],list[6])"
   ]
  },
  {
   "cell_type": "markdown",
   "id": "a9149ede",
   "metadata": {},
   "source": [
    "## list Slicing"
   ]
  },
  {
   "cell_type": "markdown",
   "id": "c642cd7d",
   "metadata": {},
   "source": [
    "Syntax:\n",
    "- list_name[start_lindex:end_index:step_size] as same as string Slicing"
   ]
  },
  {
   "cell_type": "code",
   "execution_count": 40,
   "id": "b0c031ba",
   "metadata": {},
   "outputs": [
    {
     "data": {
      "text/plain": [
       "[1, 2, 3, 4, 5, 'vishnu', '24', '26', 'python']"
      ]
     },
     "execution_count": 40,
     "metadata": {},
     "output_type": "execute_result"
    }
   ],
   "source": [
    "li = [1,2,3,4,5,\"vishnu\", \"24\",\"26\",\"python\"]\n",
    "\n",
    "li"
   ]
  },
  {
   "cell_type": "code",
   "execution_count": 41,
   "id": "5ec7e481",
   "metadata": {},
   "outputs": [
    {
     "data": {
      "text/plain": [
       "[1, 2, 3]"
      ]
     },
     "execution_count": 41,
     "metadata": {},
     "output_type": "execute_result"
    }
   ],
   "source": [
    "li[0:3]"
   ]
  },
  {
   "cell_type": "code",
   "execution_count": 42,
   "id": "2cc78686",
   "metadata": {},
   "outputs": [
    {
     "data": {
      "text/plain": [
       "[1, 2, 3, 4, 5, 'vishnu', '24']"
      ]
     },
     "execution_count": 42,
     "metadata": {},
     "output_type": "execute_result"
    }
   ],
   "source": [
    "li[:7]"
   ]
  },
  {
   "cell_type": "code",
   "execution_count": 43,
   "id": "a359c478",
   "metadata": {},
   "outputs": [
    {
     "data": {
      "text/plain": [
       "[]"
      ]
     },
     "execution_count": 43,
     "metadata": {},
     "output_type": "execute_result"
    }
   ],
   "source": [
    "li[-1:-5]"
   ]
  },
  {
   "cell_type": "code",
   "execution_count": 44,
   "id": "27458a7f",
   "metadata": {},
   "outputs": [
    {
     "data": {
      "text/plain": [
       "['python', '26', '24', 'vishnu']"
      ]
     },
     "execution_count": 44,
     "metadata": {},
     "output_type": "execute_result"
    }
   ],
   "source": [
    "li[-1:-5:-1]"
   ]
  },
  {
   "cell_type": "code",
   "execution_count": 45,
   "id": "ddff241e",
   "metadata": {},
   "outputs": [
    {
     "data": {
      "text/plain": [
       "['python', '26', '24', 'vishnu', 5, 4, 3, 2, 1]"
      ]
     },
     "execution_count": 45,
     "metadata": {},
     "output_type": "execute_result"
    }
   ],
   "source": [
    "li[::-1]"
   ]
  },
  {
   "cell_type": "code",
   "execution_count": 47,
   "id": "52cc2835",
   "metadata": {},
   "outputs": [
    {
     "data": {
      "text/plain": [
       "101"
      ]
     },
     "execution_count": 47,
     "metadata": {},
     "output_type": "execute_result"
    }
   ],
   "source": [
    "li[0] + 100"
   ]
  },
  {
   "cell_type": "code",
   "execution_count": 48,
   "id": "087f1fc8",
   "metadata": {},
   "outputs": [
    {
     "data": {
      "text/plain": [
       "[1, 2, 3, 4, 5, 'vishnu', '24', '26', 'python']"
      ]
     },
     "execution_count": 48,
     "metadata": {},
     "output_type": "execute_result"
    }
   ],
   "source": [
    "li"
   ]
  },
  {
   "cell_type": "code",
   "execution_count": 49,
   "id": "cf91c7f6",
   "metadata": {},
   "outputs": [
    {
     "data": {
      "text/plain": [
       "'242'"
      ]
     },
     "execution_count": 49,
     "metadata": {},
     "output_type": "execute_result"
    }
   ],
   "source": [
    "li[6]+\"2\""
   ]
  },
  {
   "cell_type": "code",
   "execution_count": 50,
   "id": "b1bb5e03",
   "metadata": {},
   "outputs": [
    {
     "data": {
      "text/plain": [
       "'ab'"
      ]
     },
     "execution_count": 50,
     "metadata": {},
     "output_type": "execute_result"
    }
   ],
   "source": [
    "\"a\" + \"b\""
   ]
  },
  {
   "cell_type": "code",
   "execution_count": 51,
   "id": "8e954a73",
   "metadata": {},
   "outputs": [
    {
     "data": {
      "text/plain": [
       "'ab'"
      ]
     },
     "execution_count": 51,
     "metadata": {},
     "output_type": "execute_result"
    }
   ],
   "source": [
    "''.join([\"a\",\"b\"])"
   ]
  },
  {
   "cell_type": "code",
   "execution_count": 52,
   "id": "2991782f",
   "metadata": {},
   "outputs": [
    {
     "data": {
      "text/plain": [
       "'26'"
      ]
     },
     "execution_count": 52,
     "metadata": {},
     "output_type": "execute_result"
    }
   ],
   "source": [
    "li[7]"
   ]
  },
  {
   "cell_type": "code",
   "execution_count": 54,
   "id": "ac2edfd7",
   "metadata": {},
   "outputs": [
    {
     "name": "stdout",
     "output_type": "stream",
     "text": [
      "<class 'str'>\n"
     ]
    }
   ],
   "source": [
    "print(type(li[7]))"
   ]
  },
  {
   "cell_type": "code",
   "execution_count": 55,
   "id": "10c13f89",
   "metadata": {},
   "outputs": [],
   "source": [
    "li[7] = 26"
   ]
  },
  {
   "cell_type": "code",
   "execution_count": 56,
   "id": "e89a46b6",
   "metadata": {},
   "outputs": [
    {
     "data": {
      "text/plain": [
       "int"
      ]
     },
     "execution_count": 56,
     "metadata": {},
     "output_type": "execute_result"
    }
   ],
   "source": [
    "type(li[7])"
   ]
  },
  {
   "cell_type": "code",
   "execution_count": 57,
   "id": "42b4d334",
   "metadata": {},
   "outputs": [
    {
     "data": {
      "text/plain": [
       "'VISHNU'"
      ]
     },
     "execution_count": 57,
     "metadata": {},
     "output_type": "execute_result"
    }
   ],
   "source": [
    "li[5].upper()"
   ]
  },
  {
   "cell_type": "code",
   "execution_count": 58,
   "id": "8565195e",
   "metadata": {},
   "outputs": [
    {
     "data": {
      "text/plain": [
       "'Vishnu'"
      ]
     },
     "execution_count": 58,
     "metadata": {},
     "output_type": "execute_result"
    }
   ],
   "source": [
    "li[5].title()"
   ]
  },
  {
   "cell_type": "code",
   "execution_count": 59,
   "id": "0f30981e",
   "metadata": {},
   "outputs": [
    {
     "data": {
      "text/plain": [
       "'Vishnu'"
      ]
     },
     "execution_count": 59,
     "metadata": {},
     "output_type": "execute_result"
    }
   ],
   "source": [
    "li[5].capitalize()"
   ]
  },
  {
   "cell_type": "code",
   "execution_count": 60,
   "id": "0ba18a77",
   "metadata": {},
   "outputs": [
    {
     "data": {
      "text/plain": [
       "'vishnu'"
      ]
     },
     "execution_count": 60,
     "metadata": {},
     "output_type": "execute_result"
    }
   ],
   "source": [
    "li[5].casefold()"
   ]
  },
  {
   "cell_type": "code",
   "execution_count": 63,
   "id": "060b101d",
   "metadata": {},
   "outputs": [
    {
     "data": {
      "text/plain": [
       "True"
      ]
     },
     "execution_count": 63,
     "metadata": {},
     "output_type": "execute_result"
    }
   ],
   "source": [
    "li[5].endswith(\"u\")"
   ]
  },
  {
   "cell_type": "code",
   "execution_count": 66,
   "id": "f300c628",
   "metadata": {},
   "outputs": [
    {
     "name": "stdout",
     "output_type": "stream",
     "text": [
      "yah..! It is in lower case.\n"
     ]
    }
   ],
   "source": [
    "if li[-1].islower():\n",
    "    print(\"yah..! It is in lower case.\")\n",
    "\n",
    "else:\n",
    "    print(\"Oops.. NOt in lower case.\")"
   ]
  },
  {
   "cell_type": "code",
   "execution_count": 67,
   "id": "3bf10f47",
   "metadata": {},
   "outputs": [
    {
     "data": {
      "text/plain": [
       "'python'"
      ]
     },
     "execution_count": 67,
     "metadata": {},
     "output_type": "execute_result"
    }
   ],
   "source": [
    "li[-1]"
   ]
  },
  {
   "cell_type": "code",
   "execution_count": 68,
   "id": "099c569f",
   "metadata": {},
   "outputs": [
    {
     "data": {
      "text/plain": [
       "[0, 1, 2, 3, 4, [1, 2, 3, 4, 5, 6]]"
      ]
     },
     "execution_count": 68,
     "metadata": {},
     "output_type": "execute_result"
    }
   ],
   "source": [
    "l1 = [0,1,2,3,4,[1,2,3,4,5,6]]\n",
    "l1"
   ]
  },
  {
   "cell_type": "code",
   "execution_count": 69,
   "id": "af259d8f",
   "metadata": {},
   "outputs": [
    {
     "data": {
      "text/plain": [
       "1"
      ]
     },
     "execution_count": 69,
     "metadata": {},
     "output_type": "execute_result"
    }
   ],
   "source": [
    "l1[1]"
   ]
  },
  {
   "cell_type": "code",
   "execution_count": 70,
   "id": "04aee3f1",
   "metadata": {},
   "outputs": [
    {
     "data": {
      "text/plain": [
       "1"
      ]
     },
     "execution_count": 70,
     "metadata": {},
     "output_type": "execute_result"
    }
   ],
   "source": [
    "li[0]"
   ]
  },
  {
   "cell_type": "code",
   "execution_count": 71,
   "id": "e0be5cd6",
   "metadata": {},
   "outputs": [
    {
     "data": {
      "text/plain": [
       "[1, 2, 3, 4, 5, 6]"
      ]
     },
     "execution_count": 71,
     "metadata": {},
     "output_type": "execute_result"
    }
   ],
   "source": [
    "l1[5]"
   ]
  },
  {
   "cell_type": "code",
   "execution_count": 75,
   "id": "0e9f2115",
   "metadata": {},
   "outputs": [
    {
     "data": {
      "text/plain": [
       "[1, 2, 3, 4, 5, 6]"
      ]
     },
     "execution_count": 75,
     "metadata": {},
     "output_type": "execute_result"
    }
   ],
   "source": [
    "l1[5]"
   ]
  },
  {
   "cell_type": "code",
   "execution_count": 77,
   "id": "9767bb55",
   "metadata": {},
   "outputs": [
    {
     "data": {
      "text/plain": [
       "1"
      ]
     },
     "execution_count": 77,
     "metadata": {},
     "output_type": "execute_result"
    }
   ],
   "source": [
    "l1[5][0]"
   ]
  },
  {
   "cell_type": "code",
   "execution_count": 78,
   "id": "28d93743",
   "metadata": {},
   "outputs": [
    {
     "data": {
      "text/plain": [
       "5"
      ]
     },
     "execution_count": 78,
     "metadata": {},
     "output_type": "execute_result"
    }
   ],
   "source": [
    "l1[5][-2]"
   ]
  },
  {
   "cell_type": "code",
   "execution_count": 79,
   "id": "e967b2d0",
   "metadata": {},
   "outputs": [
    {
     "data": {
      "text/plain": [
       "[1, 2, 3, 4]"
      ]
     },
     "execution_count": 79,
     "metadata": {},
     "output_type": "execute_result"
    }
   ],
   "source": [
    "l1[5][0:4]"
   ]
  },
  {
   "cell_type": "code",
   "execution_count": 80,
   "id": "4cdc6fc9",
   "metadata": {},
   "outputs": [
    {
     "data": {
      "text/plain": [
       "[2, 3, 4, 5]"
      ]
     },
     "execution_count": 80,
     "metadata": {},
     "output_type": "execute_result"
    }
   ],
   "source": [
    "l1[5][-5:-1]"
   ]
  },
  {
   "cell_type": "code",
   "execution_count": 83,
   "id": "eeb1c455",
   "metadata": {},
   "outputs": [
    {
     "name": "stdout",
     "output_type": "stream",
     "text": [
      "Nanded is present in the list\n"
     ]
    }
   ],
   "source": [
    "cities = [\"Nanded\",\"pune\",\"mumbai\",\"nagpur\",\"nashik\"]\n",
    "city = \"Nanded\"\n",
    "\n",
    "if city in cities:\n",
    "    print(f\"{city} is present in the list\")\n",
    "else:\n",
    "    print(f\"{city} is not present in list\")"
   ]
  },
  {
   "cell_type": "code",
   "execution_count": 84,
   "id": "18d22678",
   "metadata": {},
   "outputs": [
    {
     "name": "stdout",
     "output_type": "stream",
     "text": [
      "nanded is not present in list\n"
     ]
    }
   ],
   "source": [
    "cities = [\"Nanded\",\"pune\",\"mumbai\",\"nagpur\",\"nashik\"]\n",
    "city = \"nanded\"\n",
    "\n",
    "if city in cities:\n",
    "    print(f\"{city} is present in the list\")\n",
    "else:\n",
    "    print(f\"{city} is not present in list\")"
   ]
  },
  {
   "cell_type": "code",
   "execution_count": 85,
   "id": "c0fdadd6",
   "metadata": {},
   "outputs": [
    {
     "name": "stdout",
     "output_type": "stream",
     "text": [
      "yavatmal is not present in list\n"
     ]
    }
   ],
   "source": [
    "cities = [\"Nanded\",\"pune\",\"mumbai\",\"nagpur\",\"nashik\"]\n",
    "city = \"yavatmal\"\n",
    "\n",
    "if city in cities:\n",
    "    print(f\"{city} is present in the list\")\n",
    "else:\n",
    "    print(f\"{city} is not present in list\")"
   ]
  },
  {
   "cell_type": "markdown",
   "id": "b9c65f9c",
   "metadata": {},
   "source": [
    "## Accessing list items using for loop\n",
    "\n",
    "for variableName in sequence:\n",
    "    statement\n",
    "    .\n",
    "    .\n",
    "    .\n",
    "    statement"
   ]
  },
  {
   "cell_type": "code",
   "execution_count": 86,
   "id": "192642ed",
   "metadata": {},
   "outputs": [
    {
     "name": "stdout",
     "output_type": "stream",
     "text": [
      "Welcome to Nanded\n",
      "Welcome to pune\n",
      "Welcome to mumbai\n",
      "Welcome to nagpur\n",
      "Welcome to nashik\n"
     ]
    }
   ],
   "source": [
    "cities = [\"Nanded\",\"pune\",\"mumbai\",\"nagpur\",\"nashik\"]\n",
    "\n",
    "for city in cities:\n",
    "    print(f\"Welcome to {city}\")"
   ]
  },
  {
   "cell_type": "code",
   "execution_count": 88,
   "id": "103c4554",
   "metadata": {},
   "outputs": [
    {
     "name": "stdout",
     "output_type": "stream",
     "text": [
      "['Nanded', 'nagpur', 'nashik']\n"
     ]
    }
   ],
   "source": [
    "cities = [\"Nanded\",\"pune\",\"mumbai\",\"nagpur\",\"nashik\"]\n",
    "\n",
    "cities_WithName_N = [city for city in cities if city.lower().startswith(\"n\")]\n",
    "\n",
    "print(cities_WithName_N)\n"
   ]
  },
  {
   "cell_type": "code",
   "execution_count": 89,
   "id": "47618390",
   "metadata": {},
   "outputs": [
    {
     "name": "stdout",
     "output_type": "stream",
     "text": [
      "v\n",
      "i\n",
      "s\n",
      "h\n",
      "n\n",
      "u\n",
      " \n",
      "k\n",
      "u\n",
      "l\n",
      "k\n",
      "a\n",
      "r\n",
      "n\n",
      "i\n"
     ]
    }
   ],
   "source": [
    "str1 = \"vishnu kulkarni\"\n",
    "\n",
    "for char in str1:\n",
    "    print(char)\n",
    " "
   ]
  },
  {
   "cell_type": "code",
   "execution_count": 90,
   "id": "8e2cd7c6",
   "metadata": {},
   "outputs": [
    {
     "data": {
      "text/plain": [
       "'nashik'"
      ]
     },
     "execution_count": 90,
     "metadata": {},
     "output_type": "execute_result"
    }
   ],
   "source": [
    "city "
   ]
  },
  {
   "cell_type": "code",
   "execution_count": 91,
   "id": "f36030ff",
   "metadata": {},
   "outputs": [
    {
     "data": {
      "text/plain": [
       "'i'"
      ]
     },
     "execution_count": 91,
     "metadata": {},
     "output_type": "execute_result"
    }
   ],
   "source": [
    "char"
   ]
  },
  {
   "cell_type": "code",
   "execution_count": 92,
   "id": "b8f08f73",
   "metadata": {},
   "outputs": [
    {
     "data": {
      "text/plain": [
       "'i'"
      ]
     },
     "execution_count": 92,
     "metadata": {},
     "output_type": "execute_result"
    }
   ],
   "source": [
    "char"
   ]
  },
  {
   "cell_type": "code",
   "execution_count": 94,
   "id": "ecd5018e",
   "metadata": {},
   "outputs": [
    {
     "name": "stdout",
     "output_type": "stream",
     "text": [
      "0 welcome to our Nanded\n",
      "1 welcome to our pune\n",
      "2 welcome to our mumbai\n",
      "3 welcome to our nagpur\n",
      "4 welcome to our nashik\n"
     ]
    }
   ],
   "source": [
    "for iteration, city in enumerate(cities):\n",
    "    print(iteration,f\"welcome to our {city}\")"
   ]
  },
  {
   "cell_type": "code",
   "execution_count": 98,
   "id": "ac14e23e",
   "metadata": {},
   "outputs": [
    {
     "name": "stdout",
     "output_type": "stream",
     "text": [
      "['p', 'y', 't', 'h', 'o', 'n']\n"
     ]
    }
   ],
   "source": [
    "str2 = \"python\"\n",
    "\n",
    "chars = [char for i , char in enumerate(str2)]\n",
    "\n",
    "print(chars)"
   ]
  },
  {
   "cell_type": "code",
   "execution_count": 99,
   "id": "214fd93b",
   "metadata": {},
   "outputs": [
    {
     "name": "stdout",
     "output_type": "stream",
     "text": [
      "0 p\n",
      "1 y\n",
      "2 t\n",
      "3 h\n",
      "4 o\n",
      "5 n\n"
     ]
    }
   ],
   "source": [
    "for i, char in enumerate(str2):\n",
    "    print(i,char)"
   ]
  },
  {
   "cell_type": "code",
   "execution_count": 1,
   "id": "80600103",
   "metadata": {},
   "outputs": [
    {
     "name": "stdout",
     "output_type": "stream",
     "text": [
      "0 1\n"
     ]
    }
   ],
   "source": [
    "for i, j in enumerate(\"1\"):\n",
    "    print(i,j)\n"
   ]
  },
  {
   "cell_type": "code",
   "execution_count": 2,
   "id": "e9e15d2b",
   "metadata": {},
   "outputs": [
    {
     "name": "stdout",
     "output_type": "stream",
     "text": [
      "0 1\n",
      "1 2\n"
     ]
    }
   ],
   "source": [
    "for i,j in enumerate(\"12\"):\n",
    "    print(i,j)"
   ]
  },
  {
   "cell_type": "code",
   "execution_count": null,
   "id": "1d10d849",
   "metadata": {},
   "outputs": [
    {
     "ename": "TypeError",
     "evalue": "'int' object is not iterable",
     "output_type": "error",
     "traceback": [
      "\u001b[31m---------------------------------------------------------------------------\u001b[39m",
      "\u001b[31mTypeError\u001b[39m                                 Traceback (most recent call last)",
      "\u001b[36mCell\u001b[39m\u001b[36m \u001b[39m\u001b[32mIn[5]\u001b[39m\u001b[32m, line 1\u001b[39m\n\u001b[32m----> \u001b[39m\u001b[32m1\u001b[39m \u001b[38;5;28;01mfor\u001b[39;00m i,j \u001b[38;5;129;01min\u001b[39;00m \u001b[38;5;28;43menumerate\u001b[39;49m\u001b[43m(\u001b[49m\u001b[32;43m12\u001b[39;49m\u001b[43m)\u001b[49m:\n\u001b[32m      2\u001b[39m     \u001b[38;5;28mprint\u001b[39m(i,j)\n",
      "\u001b[31mTypeError\u001b[39m: 'int' object is not iterable"
     ]
    }
   ],
   "source": [
    "for i,j in enumerate(12): # need str \n",
    "    print(i,j)"
   ]
  },
  {
   "cell_type": "code",
   "execution_count": 6,
   "id": "487153e3",
   "metadata": {},
   "outputs": [
    {
     "name": "stdout",
     "output_type": "stream",
     "text": [
      "0 a\n",
      "1 n\n",
      "2 d\n"
     ]
    }
   ],
   "source": [
    "for i,j in enumerate(\"and\"):\n",
    "    print(i,j)"
   ]
  },
  {
   "cell_type": "code",
   "execution_count": 14,
   "id": "a593d85c",
   "metadata": {},
   "outputs": [
    {
     "name": "stdout",
     "output_type": "stream",
     "text": [
      "(0, 'p')\n",
      "(1, 'y')\n",
      "(2, 't')\n",
      "(3, 'h')\n",
      "(4, 'o')\n",
      "(5, 'n')\n"
     ]
    }
   ],
   "source": [
    "str1 = \"python\"\n",
    "\n",
    "for index in enumerate(str1):\n",
    "    print(index)"
   ]
  },
  {
   "cell_type": "code",
   "execution_count": 20,
   "id": "622a69bf",
   "metadata": {},
   "outputs": [
    {
     "name": "stdout",
     "output_type": "stream",
     "text": [
      "0 p\n",
      "1 y\n",
      "2 t\n",
      "3 h\n",
      "4 o\n",
      "5 n\n"
     ]
    }
   ],
   "source": [
    "str1 = \"python\"\n",
    "\n",
    "for index in enumerate(str1):\n",
    "    print(index[0],index[1])"
   ]
  },
  {
   "cell_type": "code",
   "execution_count": 21,
   "id": "38e46419",
   "metadata": {},
   "outputs": [
    {
     "name": "stdout",
     "output_type": "stream",
     "text": [
      "0 p\n",
      "1 y\n",
      "2 t\n",
      "3 h\n",
      "4 o\n",
      "5 n\n"
     ]
    }
   ],
   "source": [
    "str1 = \"python\"\n",
    "\n",
    "for index,char in enumerate(str1):\n",
    "    print(index,char)"
   ]
  },
  {
   "cell_type": "code",
   "execution_count": 22,
   "id": "e1bfab0e",
   "metadata": {},
   "outputs": [],
   "source": [
    "a = (1,2)"
   ]
  },
  {
   "cell_type": "code",
   "execution_count": 23,
   "id": "2f77f2d1",
   "metadata": {},
   "outputs": [],
   "source": [
    "a,b = (1,2)"
   ]
  },
  {
   "cell_type": "code",
   "execution_count": 24,
   "id": "d3dcc71d",
   "metadata": {},
   "outputs": [
    {
     "data": {
      "text/plain": [
       "1"
      ]
     },
     "execution_count": 24,
     "metadata": {},
     "output_type": "execute_result"
    }
   ],
   "source": [
    "a"
   ]
  },
  {
   "cell_type": "code",
   "execution_count": 25,
   "id": "b0e6a13d",
   "metadata": {},
   "outputs": [
    {
     "data": {
      "text/plain": [
       "2"
      ]
     },
     "execution_count": 25,
     "metadata": {},
     "output_type": "execute_result"
    }
   ],
   "source": [
    "b"
   ]
  },
  {
   "cell_type": "code",
   "execution_count": 30,
   "id": "c3b02f6b",
   "metadata": {},
   "outputs": [
    {
     "name": "stdout",
     "output_type": "stream",
     "text": [
      "index --> 0, char--> p\n",
      "index --> 1, char--> y\n",
      "index --> 2, char--> t\n",
      "index --> 3, char--> h\n",
      "index --> 4, char--> o\n",
      "index --> 5, char--> n\n"
     ]
    }
   ],
   "source": [
    "cnt =  0\n",
    "\n",
    "for char in \"python\":\n",
    "    \n",
    "    print(f\"index --> {cnt}, char--> {char}\")\n",
    "    cnt += 1"
   ]
  },
  {
   "cell_type": "code",
   "execution_count": 31,
   "id": "4d00fef4",
   "metadata": {},
   "outputs": [
    {
     "name": "stdout",
     "output_type": "stream",
     "text": [
      "Nanded\n",
      "pune\n",
      "mumbai\n",
      "nagpur\n",
      "nashik\n"
     ]
    }
   ],
   "source": [
    "cities = [\"Nanded\",\"pune\",\"mumbai\",\"nagpur\",\"nashik\"]\n",
    "\n",
    "for i in cities:\n",
    "    print(i)"
   ]
  },
  {
   "cell_type": "code",
   "execution_count": 33,
   "id": "a8d4fd21",
   "metadata": {},
   "outputs": [
    {
     "name": "stdout",
     "output_type": "stream",
     "text": [
      "mumbai\n",
      "nagpur\n",
      "nashik\n"
     ]
    }
   ],
   "source": [
    "for i in cities:\n",
    "    if i.startswith(\"n\") or i.startswith(\"m\"):\n",
    "        print(i)"
   ]
  },
  {
   "cell_type": "markdown",
   "id": "0030b1fb",
   "metadata": {},
   "source": [
    "# odd even number"
   ]
  },
  {
   "cell_type": "code",
   "execution_count": 36,
   "id": "550def79",
   "metadata": {},
   "outputs": [
    {
     "name": "stdout",
     "output_type": "stream",
     "text": [
      "0 is even number.\n",
      "1 is odd number.\n",
      "2 is even number.\n",
      "3 is odd number.\n",
      "4 is even number.\n",
      "5 is odd number.\n",
      "6 is even number.\n",
      "7 is odd number.\n",
      "8 is even number.\n",
      "9 is odd number.\n",
      "10 is even number.\n",
      "11 is odd number.\n",
      "12 is even number.\n",
      "13 is odd number.\n",
      "14 is even number.\n",
      "15 is odd number.\n",
      "16 is even number.\n",
      "17 is odd number.\n",
      "18 is even number.\n",
      "19 is odd number.\n"
     ]
    }
   ],
   "source": [
    "li =  list(range(20))\n",
    "\n",
    "for i in li:\n",
    "    if i % 2 == 0:\n",
    "        print(f\"{i} is even number.\")\n",
    "    else:\n",
    "        print(f\"{i} is odd number.\")"
   ]
  },
  {
   "cell_type": "code",
   "execution_count": 37,
   "id": "84193538",
   "metadata": {},
   "outputs": [],
   "source": [
    "even = []\n",
    "odd = []\n",
    "\n",
    "for i in li:\n",
    "    if i % 2 == 0:\n",
    "        even.append(i)\n",
    "    else:\n",
    "        odd.append(i)\n"
   ]
  },
  {
   "cell_type": "code",
   "execution_count": 38,
   "id": "159b3c78",
   "metadata": {},
   "outputs": [
    {
     "name": "stdout",
     "output_type": "stream",
     "text": [
      "[0, 2, 4, 6, 8, 10, 12, 14, 16, 18] This is Even number list.\n",
      "[1, 3, 5, 7, 9, 11, 13, 15, 17, 19] This is Odd number List.\n"
     ]
    }
   ],
   "source": [
    "print(f\"{even} This is Even number list.\")\n",
    "print(f\"{odd} This is Odd number List.\")"
   ]
  },
  {
   "cell_type": "code",
   "execution_count": 39,
   "id": "64d37a11",
   "metadata": {},
   "outputs": [],
   "source": [
    "a,b,c = 1,2,3"
   ]
  },
  {
   "cell_type": "code",
   "execution_count": 41,
   "id": "beda094e",
   "metadata": {},
   "outputs": [
    {
     "data": {
      "text/plain": [
       "(6, 12, 18)"
      ]
     },
     "execution_count": 41,
     "metadata": {},
     "output_type": "execute_result"
    }
   ],
   "source": [
    "def dummy(a,b,c):\n",
    "    a += 5\n",
    "    b += 10\n",
    "    c += 15\n",
    "    return a,b,c\n",
    "\n",
    "dummy(1,2,3)"
   ]
  },
  {
   "cell_type": "code",
   "execution_count": 44,
   "id": "5fa3de41",
   "metadata": {},
   "outputs": [
    {
     "data": {
      "text/plain": [
       "6"
      ]
     },
     "execution_count": 44,
     "metadata": {},
     "output_type": "execute_result"
    }
   ],
   "source": [
    "dummy(1,2,4)[0]"
   ]
  },
  {
   "cell_type": "code",
   "execution_count": 50,
   "id": "eb5e13b4",
   "metadata": {},
   "outputs": [
    {
     "data": {
      "text/plain": [
       "20"
      ]
     },
     "execution_count": 50,
     "metadata": {},
     "output_type": "execute_result"
    }
   ],
   "source": [
    "dummy(1,2,5)[2]"
   ]
  },
  {
   "cell_type": "code",
   "execution_count": 51,
   "id": "e758ed82",
   "metadata": {},
   "outputs": [],
   "source": [
    "A,B,C = dummy(10,15,20)"
   ]
  },
  {
   "cell_type": "code",
   "execution_count": 52,
   "id": "7e5d12ea",
   "metadata": {},
   "outputs": [
    {
     "data": {
      "text/plain": [
       "15"
      ]
     },
     "execution_count": 52,
     "metadata": {},
     "output_type": "execute_result"
    }
   ],
   "source": [
    "A"
   ]
  },
  {
   "cell_type": "code",
   "execution_count": 53,
   "id": "a15b498f",
   "metadata": {},
   "outputs": [
    {
     "name": "stdout",
     "output_type": "stream",
     "text": [
      "The index --> 0 and element -> 0\n",
      "The index --> 1 and element -> 1\n",
      "The index --> 2 and element -> 2\n",
      "The index --> 3 and element -> 3\n",
      "The index --> 4 and element -> 4\n",
      "The index --> 5 and element -> 5\n",
      "The index --> 6 and element -> 6\n",
      "The index --> 7 and element -> 7\n",
      "The index --> 8 and element -> 8\n",
      "The index --> 9 and element -> 9\n",
      "The index --> 10 and element -> 10\n",
      "The index --> 11 and element -> 11\n",
      "The index --> 12 and element -> 12\n",
      "The index --> 13 and element -> 13\n",
      "The index --> 14 and element -> 14\n",
      "The index --> 15 and element -> 15\n",
      "The index --> 16 and element -> 16\n",
      "The index --> 17 and element -> 17\n",
      "The index --> 18 and element -> 18\n",
      "The index --> 19 and element -> 19\n"
     ]
    }
   ],
   "source": [
    "for index,ele in enumerate(li):\n",
    "    print(f\"The index --> {index} and element -> {ele}\")"
   ]
  },
  {
   "cell_type": "code",
   "execution_count": 54,
   "id": "c6a8d15c",
   "metadata": {},
   "outputs": [
    {
     "name": "stdout",
     "output_type": "stream",
     "text": [
      "The index --> 0 and element -> One\n",
      "The index --> 1 and element -> Two\n",
      "The index --> 2 and element -> Three\n",
      "The index --> 3 and element -> Four\n",
      "The index --> 4 and element -> Five\n"
     ]
    }
   ],
   "source": [
    "li = [\"One\",\"Two\",\"Three\",\"Four\",\"Five\"]\n",
    "\n",
    "for index,ele in enumerate(li):\n",
    "    print(f\"The index --> {index} and element -> {ele}\")"
   ]
  },
  {
   "cell_type": "code",
   "execution_count": 55,
   "id": "183a901f",
   "metadata": {},
   "outputs": [],
   "source": [
    "a,b = 2,3"
   ]
  },
  {
   "cell_type": "code",
   "execution_count": 56,
   "id": "59a4b3ec",
   "metadata": {},
   "outputs": [
    {
     "data": {
      "text/plain": [
       "2"
      ]
     },
     "execution_count": 56,
     "metadata": {},
     "output_type": "execute_result"
    }
   ],
   "source": [
    "a"
   ]
  },
  {
   "cell_type": "code",
   "execution_count": 57,
   "id": "dc3384a4",
   "metadata": {},
   "outputs": [
    {
     "data": {
      "text/plain": [
       "3"
      ]
     },
     "execution_count": 57,
     "metadata": {},
     "output_type": "execute_result"
    }
   ],
   "source": [
    "b"
   ]
  },
  {
   "cell_type": "code",
   "execution_count": 58,
   "id": "9e87aec5",
   "metadata": {},
   "outputs": [
    {
     "data": {
      "text/plain": [
       "'Four'"
      ]
     },
     "execution_count": 58,
     "metadata": {},
     "output_type": "execute_result"
    }
   ],
   "source": [
    "li[3]"
   ]
  },
  {
   "cell_type": "markdown",
   "id": "abb0e6dc",
   "metadata": {},
   "source": [
    "# range"
   ]
  },
  {
   "cell_type": "code",
   "execution_count": 59,
   "id": "57911eb4",
   "metadata": {},
   "outputs": [
    {
     "data": {
      "text/plain": [
       "range(0, 10)"
      ]
     },
     "execution_count": 59,
     "metadata": {},
     "output_type": "execute_result"
    }
   ],
   "source": [
    "range(0, 10)"
   ]
  },
  {
   "cell_type": "code",
   "execution_count": 60,
   "id": "fd6a4bba",
   "metadata": {},
   "outputs": [
    {
     "data": {
      "text/plain": [
       "range"
      ]
     },
     "execution_count": 60,
     "metadata": {},
     "output_type": "execute_result"
    }
   ],
   "source": [
    "type(range(0,10))"
   ]
  },
  {
   "cell_type": "code",
   "execution_count": 61,
   "id": "844ff171",
   "metadata": {},
   "outputs": [
    {
     "name": "stdout",
     "output_type": "stream",
     "text": [
      "<class 'range'>\n"
     ]
    }
   ],
   "source": [
    "print(type(range(0,10)))"
   ]
  },
  {
   "cell_type": "code",
   "execution_count": 62,
   "id": "cce652e5",
   "metadata": {},
   "outputs": [
    {
     "data": {
      "text/plain": [
       "[0, 1, 2, 3, 4, 5, 6, 7, 8, 9]"
      ]
     },
     "execution_count": 62,
     "metadata": {},
     "output_type": "execute_result"
    }
   ],
   "source": [
    "list(range(0,10))"
   ]
  },
  {
   "cell_type": "code",
   "execution_count": 63,
   "id": "d2241212",
   "metadata": {},
   "outputs": [
    {
     "data": {
      "text/plain": [
       "[0, 2, 4, 6, 8]"
      ]
     },
     "execution_count": 63,
     "metadata": {},
     "output_type": "execute_result"
    }
   ],
   "source": [
    "list(range(0,10,2))"
   ]
  },
  {
   "cell_type": "code",
   "execution_count": 64,
   "id": "8fa7a843",
   "metadata": {},
   "outputs": [
    {
     "data": {
      "text/plain": [
       "[-5, -4, -3, -2]"
      ]
     },
     "execution_count": 64,
     "metadata": {},
     "output_type": "execute_result"
    }
   ],
   "source": [
    "list(range(-5,-1))"
   ]
  },
  {
   "cell_type": "code",
   "execution_count": 65,
   "id": "508b2f0e",
   "metadata": {},
   "outputs": [
    {
     "name": "stdout",
     "output_type": "stream",
     "text": [
      "1\n",
      "2\n",
      "3\n",
      "4\n",
      "5\n"
     ]
    }
   ],
   "source": [
    "for i in [1,2,3,4,5]:\n",
    "    print(i)"
   ]
  },
  {
   "cell_type": "code",
   "execution_count": 66,
   "id": "81a5ed64",
   "metadata": {},
   "outputs": [
    {
     "data": {
      "text/plain": [
       "['One', 'Two', 'Three', 'Four', 'Five']"
      ]
     },
     "execution_count": 66,
     "metadata": {},
     "output_type": "execute_result"
    }
   ],
   "source": [
    "li"
   ]
  },
  {
   "cell_type": "code",
   "execution_count": 68,
   "id": "954d9d83",
   "metadata": {},
   "outputs": [
    {
     "name": "stdout",
     "output_type": "stream",
     "text": [
      "0 One\n",
      "1 Two\n",
      "2 Three\n",
      "3 Four\n",
      "4 Five\n"
     ]
    }
   ],
   "source": [
    "for i in range(len(li)):\n",
    "    print(i,li[i])"
   ]
  },
  {
   "cell_type": "code",
   "execution_count": 71,
   "id": "14061466",
   "metadata": {},
   "outputs": [
    {
     "name": "stdout",
     "output_type": "stream",
     "text": [
      "0 One\n",
      "1 Two\n",
      "2 Three\n",
      "3 Four\n",
      "4 Five\n"
     ]
    }
   ],
   "source": [
    "for i,e in enumerate(li):\n",
    "    print(i,e)"
   ]
  },
  {
   "cell_type": "code",
   "execution_count": 74,
   "id": "fc83fdd4",
   "metadata": {},
   "outputs": [
    {
     "name": "stdout",
     "output_type": "stream",
     "text": [
      "0\n",
      "1\n",
      "2\n",
      "3\n",
      "4\n",
      "5\n",
      "6\n",
      "7\n",
      "8\n",
      "9\n"
     ]
    }
   ],
   "source": [
    "for i in range(len(li) +5):\n",
    "    print(i)"
   ]
  },
  {
   "cell_type": "code",
   "execution_count": 75,
   "id": "4e95c800",
   "metadata": {},
   "outputs": [
    {
     "name": "stdout",
     "output_type": "stream",
     "text": [
      "100\n",
      "101\n",
      "102\n",
      "103\n",
      "104\n",
      "105\n",
      "106\n",
      "107\n",
      "108\n",
      "109\n",
      "110\n",
      "111\n",
      "112\n",
      "113\n",
      "114\n",
      "115\n",
      "116\n",
      "117\n",
      "118\n",
      "119\n",
      "120\n"
     ]
    }
   ],
   "source": [
    "for i in range(0,21):\n",
    "    print(i + 100)"
   ]
  },
  {
   "cell_type": "code",
   "execution_count": 76,
   "id": "28df8cf1",
   "metadata": {},
   "outputs": [
    {
     "name": "stdout",
     "output_type": "stream",
     "text": [
      "Even value -> 0\n",
      "Even value -> 2\n",
      "Even value -> 4\n",
      "Even value -> 6\n",
      "Even value -> 8\n",
      "Even value -> 10\n",
      "Even value -> 12\n",
      "Even value -> 14\n",
      "Even value -> 16\n",
      "Even value -> 18\n",
      "Even value -> 20\n"
     ]
    }
   ],
   "source": [
    "for i in range(0,21):\n",
    "    if i % 2 == 0:\n",
    "        print(f\"Even value -> {i}\")"
   ]
  },
  {
   "cell_type": "code",
   "execution_count": 77,
   "id": "4ddbb969",
   "metadata": {},
   "outputs": [
    {
     "name": "stdout",
     "output_type": "stream",
     "text": [
      "string item --> One\n",
      "string item --> Two\n",
      "string item --> Three\n",
      "string item --> Four\n",
      "string item --> Five\n"
     ]
    }
   ],
   "source": [
    "for item in li:\n",
    "    if type(item) == str:\n",
    "        print(f\"string item --> {item}\")"
   ]
  },
  {
   "cell_type": "code",
   "execution_count": 80,
   "id": "ed21ed27",
   "metadata": {},
   "outputs": [],
   "source": [
    "li = [1,2,3,3.3,\"4\",1,1.1,90,90.21,\"Python\",[1,2,3,4]]"
   ]
  },
  {
   "cell_type": "code",
   "execution_count": 81,
   "id": "c2105df1",
   "metadata": {},
   "outputs": [
    {
     "name": "stdout",
     "output_type": "stream",
     "text": [
      "3.3\n",
      "1.1\n",
      "90.21\n"
     ]
    }
   ],
   "source": [
    "for i in range(len(li)):\n",
    "    if type(li[i]) == float:\n",
    "        print(li[i])"
   ]
  },
  {
   "cell_type": "code",
   "execution_count": 82,
   "id": "947d21cf",
   "metadata": {},
   "outputs": [
    {
     "name": "stdout",
     "output_type": "stream",
     "text": [
      "[1, 2, 3, 4]\n"
     ]
    }
   ],
   "source": [
    "for i in range(len(li)):\n",
    "    if type(li[i]) == list:\n",
    "        print(li[i])"
   ]
  },
  {
   "cell_type": "code",
   "execution_count": 83,
   "id": "7132e216",
   "metadata": {},
   "outputs": [
    {
     "name": "stdout",
     "output_type": "stream",
     "text": [
      "Pune PUNE\n",
      "Mumbai MUMBAI\n",
      "Delhi DELHI\n",
      "Chennai CHENNAI\n"
     ]
    }
   ],
   "source": [
    "CityNames = [\"Pune\",\"Mumbai\",\"Delhi\",\"Chennai\"]\n",
    "\n",
    "for i in CityNames:\n",
    "    print(i,i.upper())"
   ]
  },
  {
   "cell_type": "markdown",
   "id": "a391dbf8",
   "metadata": {},
   "source": [
    "li = [1,2,3,3.3,\"4\",1,1.1,90,90.21,\"Python\",[1,2,3,4]]\n"
   ]
  },
  {
   "cell_type": "code",
   "execution_count": 85,
   "id": "29543844",
   "metadata": {},
   "outputs": [
    {
     "name": "stdout",
     "output_type": "stream",
     "text": [
      "1 101 int value\n",
      "2 102 int value\n",
      "3 103 int value\n",
      "3.3 8.3 float value\n",
      "4 444 class str\n",
      "1 101 int value\n",
      "1.1 6.1 float value\n",
      "90 190 int value\n",
      "90.21 95.21 float value\n",
      "Python PythonPythonPython class str\n",
      "this value is not int,flt or string\n"
     ]
    }
   ],
   "source": [
    "for i in li:\n",
    "    if type(i) == int:\n",
    "        print(i,i+100,\"int value\")\n",
    "    elif type(i) == float:\n",
    "        print(i,i + 5 ,\"float value\")\n",
    "    elif type(i) == str:\n",
    "        print(i, i * 3, \"class str\")\n",
    "    else:\n",
    "        print(\"this value is not int,flt or string\")\n",
    "    "
   ]
  },
  {
   "cell_type": "code",
   "execution_count": 2,
   "id": "5f0337b0",
   "metadata": {},
   "outputs": [
    {
     "name": "stdout",
     "output_type": "stream",
     "text": [
      "[1, 2, 3, 4, 5, 6, 7]\n"
     ]
    }
   ],
   "source": [
    "# find unique element from list\n",
    "\n",
    "li1 = [1,2,3,4,2,4,3,5,6,7,4,7]\n",
    "li2 = []\n",
    "for i in li1:\n",
    "    if i not in li2:\n",
    "        li2.append(i)\n",
    "print(li2)"
   ]
  },
  {
   "cell_type": "code",
   "execution_count": null,
   "id": "05efe9b4",
   "metadata": {},
   "outputs": [],
   "source": []
  },
  {
   "cell_type": "code",
   "execution_count": 1,
   "id": "1009d99d",
   "metadata": {},
   "outputs": [
    {
     "name": "stdout",
     "output_type": "stream",
     "text": [
      "22 is even.\n"
     ]
    }
   ],
   "source": [
    "num = 22\n",
    "\n",
    "if num % 2 == 0:\n",
    "    print(f\"{num} is even.\")\n",
    "else:\n",
    "    print(f\"{num} is odd\")"
   ]
  },
  {
   "cell_type": "code",
   "execution_count": 3,
   "id": "139a7b01",
   "metadata": {},
   "outputs": [
    {
     "name": "stdout",
     "output_type": "stream",
     "text": [
      "1 is odd\n",
      "2 is even.\n",
      "3 is odd\n",
      "4 is even.\n",
      "5 is odd\n",
      "6 is even.\n",
      "7 is odd\n",
      "8 is even.\n",
      "9 is odd\n",
      "10 is even.\n",
      "12 is even.\n",
      "11 is odd\n",
      "544 is even.\n",
      "54 is even.\n",
      "35 is odd\n",
      "323 is odd\n"
     ]
    }
   ],
   "source": [
    "li1 = [1, 2, 3, 4, 5, 6, 7,8,9,10,12,11,544,54,35,323]\n",
    "\n",
    "try:\n",
    "    for i in li1:\n",
    "        if i % 2 == 0:\n",
    "            print(f\"{i} is even.\")\n",
    "        else:\n",
    "            print(f\"{i} is odd\")\n",
    "except ValueError:\n",
    "    print(f\"invalid input!\")\n"
   ]
  },
  {
   "cell_type": "code",
   "execution_count": null,
   "id": "7c5e9eb6",
   "metadata": {},
   "outputs": [],
   "source": []
  }
 ],
 "metadata": {
  "kernelspec": {
   "display_name": "py311",
   "language": "python",
   "name": "python3"
  },
  "language_info": {
   "codemirror_mode": {
    "name": "ipython",
    "version": 3
   },
   "file_extension": ".py",
   "mimetype": "text/x-python",
   "name": "python",
   "nbconvert_exporter": "python",
   "pygments_lexer": "ipython3",
   "version": "3.11.13"
  }
 },
 "nbformat": 4,
 "nbformat_minor": 5
}
