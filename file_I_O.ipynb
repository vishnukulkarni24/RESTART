{
 "cells": [
  {
   "cell_type": "markdown",
   "id": "d982f3ba",
   "metadata": {},
   "source": [
    "# Python File Input / Output:\n"
   ]
  },
  {
   "cell_type": "markdown",
   "id": "cf10932c",
   "metadata": {},
   "source": [
    "Python can be used to perfom operations on file. (read & write data)"
   ]
  },
  {
   "cell_type": "markdown",
   "id": "40acc961",
   "metadata": {},
   "source": [
    "### Types of all files :\n",
    "\n",
    "1. Text Files: .txt, .docx, .log etc. \n",
    "    - files which stores a data in form of characters.\n",
    "\n",
    "\n",
    "2. Binary Files: .mp4, .mov, .png, .jpeg, etc..\n",
    "    - files which is stores a data in different format or non-text files.\n"
   ]
  },
  {
   "cell_type": "markdown",
   "id": "90a2200a",
   "metadata": {},
   "source": [
    "- When file saved or stored in memory they are all in bit's like 1 & 0 no matters is text data or binary data."
   ]
  },
  {
   "cell_type": "markdown",
   "id": "e33743ad",
   "metadata": {},
   "source": [
    "# open, read & close file :\n",
    "\n",
    "syntax : #for open\n",
    "\n",
    "f = open(\"file name\", \"mode\")\n",
    "\n",
    "- sample.txt          - r : read mode\n",
    "- demo.txt            - w : write mode\n"
   ]
  },
  {
   "cell_type": "markdown",
   "id": "dfa03b4f",
   "metadata": {},
   "source": [
    "data = f.read()\n",
    "\n",
    "f.close()"
   ]
  },
  {
   "cell_type": "markdown",
   "id": "9dd08907",
   "metadata": {},
   "source": [
    "file modes :\n",
    "\n",
    "- \"r\" - open for reading (deafault)\n",
    "- 'w' - open for writing, truncating the file first.\n",
    "-     truncating all past data if new data entered.\n",
    "- 'x' - create a new file and open it for writing.\n",
    "- 'a' - open for writing, appending to the end of the - file , if it's exists.\n",
    "- 'b' - binary mode.\n",
    "- 't' - text mode (default), emplicite\n",
    "- '+' - open a disk file for updating(reading & writing)"
   ]
  },
  {
   "cell_type": "code",
   "execution_count": 86,
   "id": "ad1b39b9",
   "metadata": {},
   "outputs": [
    {
     "name": "stdout",
     "output_type": "stream",
     "text": [
      "i want a cup of coffee !!then i feel fresh all day.\n",
      " It enrgize the body\n",
      " It enrgize the body\n",
      " It enrgize the body\n",
      "<class 'str'>\n"
     ]
    }
   ],
   "source": [
    "path = r\"C:\\Users\\Vishnu\\Desktop\\RESTART\\demo.txt\"\n",
    "f = open(path, \"r\")\n",
    "data = f.read()\n",
    "print(data)\n",
    "print(type(data))\n",
    "\n",
    "f.close()"
   ]
  },
  {
   "cell_type": "code",
   "execution_count": 87,
   "id": "cdf13ed6",
   "metadata": {},
   "outputs": [
    {
     "name": "stdout",
     "output_type": "stream",
     "text": [
      "i want a cup of coffee !!then i feel fresh all day.\n",
      " It enrgize the body\n",
      " It enrgize the body\n",
      " It enrgize the body\n"
     ]
    }
   ],
   "source": [
    "f = open(\"demo.txt\", \"rt\")\n",
    "\n",
    "data = f.read()\n",
    "\n",
    "print(data)"
   ]
  },
  {
   "cell_type": "code",
   "execution_count": 88,
   "id": "8906a4f2",
   "metadata": {},
   "outputs": [
    {
     "name": "stdout",
     "output_type": "stream",
     "text": [
      "i wan\n"
     ]
    }
   ],
   "source": [
    "f = open(\"demo.txt\", \"rt\")\n",
    "\n",
    "data = f.read(5)\n",
    "\n",
    "print(data)"
   ]
  },
  {
   "cell_type": "code",
   "execution_count": 89,
   "id": "3a648ae4",
   "metadata": {},
   "outputs": [
    {
     "name": "stdout",
     "output_type": "stream",
     "text": [
      "i want a cup of coffee !!then i feel fresh all day.\n",
      "\n"
     ]
    }
   ],
   "source": [
    "f = open(\"demo.txt\", \"rt\")\n",
    "\n",
    "line1 = f.readline()\n",
    "\n",
    "print(line1)\n",
    "\n",
    "f.close()"
   ]
  },
  {
   "cell_type": "code",
   "execution_count": 90,
   "id": "72ea73ec",
   "metadata": {},
   "outputs": [
    {
     "name": "stdout",
     "output_type": "stream",
     "text": [
      "i want a cup of coffee !!then i feel fresh all day.\n",
      "\n",
      " It enrgize the body\n",
      "\n",
      " It enrgize the body\n",
      "\n",
      " It enrgize the body\n",
      "\n"
     ]
    }
   ],
   "source": [
    "f = open(\"demo.txt\", \"rt\")\n",
    "\n",
    "line1 = f.readline()\n",
    "print(line1)\n",
    "\n",
    "line2 = f.readline()\n",
    "print(line2)\n",
    "\n",
    "line3 = f.readline()\n",
    "print(line3)\n",
    "\n",
    "line4 = f.readline()\n",
    "print(line4)\n",
    "\n",
    "\n",
    "line5 = f.readline()\n",
    "print(line5)\n",
    "\n",
    "f.close()"
   ]
  },
  {
   "cell_type": "code",
   "execution_count": 91,
   "id": "c2109567",
   "metadata": {},
   "outputs": [],
   "source": [
    "f = open(\"demo.txt\", 'w')\n",
    "\n",
    "f.write(\"i want a cup of coffee !!\")\n",
    "\n",
    "f.close()"
   ]
  },
  {
   "cell_type": "code",
   "execution_count": 92,
   "id": "adb9a6e9",
   "metadata": {},
   "outputs": [],
   "source": [
    "f = open(\"demo.txt\", 'a')\n",
    "\n",
    "f.write(\"then i feel fresh all day.\")\n",
    "\n",
    "f.close()"
   ]
  },
  {
   "cell_type": "code",
   "execution_count": 93,
   "id": "66d3ab78",
   "metadata": {},
   "outputs": [],
   "source": [
    "f = open(\"demo.txt\", 'a')\n",
    "\n",
    "f.write(\"\\n It enrgize the body\")\n",
    "\n",
    "f.close()"
   ]
  },
  {
   "cell_type": "code",
   "execution_count": 94,
   "id": "cc15b786",
   "metadata": {},
   "outputs": [
    {
     "name": "stdout",
     "output_type": "stream",
     "text": [
      "i want a cup of coffee !!then i feel fresh all day.\n",
      " It enrgize the body\n"
     ]
    }
   ],
   "source": [
    "f = open(\"demo.txt\", 'r')\n",
    "\n",
    "data2 = f.read()\n",
    "print(data2)\n",
    "f.close()"
   ]
  },
  {
   "cell_type": "code",
   "execution_count": 95,
   "id": "9174fa68",
   "metadata": {},
   "outputs": [
    {
     "name": "stdout",
     "output_type": "stream",
     "text": [
      "\n"
     ]
    }
   ],
   "source": [
    "f = open(\"sample.txt\", 'w+')\n",
    "\n",
    "dt = f.write(\"Hello!! New file\")\n",
    "fdata = f.read()\n",
    "print(fdata)\n",
    "\n",
    "f.close()\n",
    "\n"
   ]
  },
  {
   "cell_type": "code",
   "execution_count": 96,
   "id": "d64c5a06",
   "metadata": {},
   "outputs": [
    {
     "name": "stdout",
     "output_type": "stream",
     "text": [
      "Hello!! New file\n"
     ]
    }
   ],
   "source": [
    "f = open(\"sample.txt\", 'r')\n",
    "\n",
    "d = f.read()\n",
    "\n",
    "print(d)\n",
    "\n",
    "f.close()"
   ]
  },
  {
   "cell_type": "code",
   "execution_count": 97,
   "id": "aea30139",
   "metadata": {},
   "outputs": [
    {
     "name": "stdout",
     "output_type": "stream",
     "text": [
      "o!! New file\n"
     ]
    }
   ],
   "source": [
    "f = open(\"sample.txt\", \"r+\")\n",
    "\n",
    "f.write(\"abcd\")\n",
    "\n",
    "d = f.read()\n",
    "\n",
    "print(d)\n",
    "\n",
    "f.close()"
   ]
  },
  {
   "cell_type": "code",
   "execution_count": 98,
   "id": "a4296f66",
   "metadata": {},
   "outputs": [
    {
     "name": "stdout",
     "output_type": "stream",
     "text": [
      "abcdo!! New file\n"
     ]
    }
   ],
   "source": [
    "f = open(\"sample.txt\", \"r+\")\n",
    "\n",
    "#f.write(\"python\")\n",
    "\n",
    "print(f.read())\n",
    "\n"
   ]
  },
  {
   "cell_type": "code",
   "execution_count": 99,
   "id": "1077f26b",
   "metadata": {},
   "outputs": [
    {
     "name": "stdout",
     "output_type": "stream",
     "text": [
      "\n"
     ]
    }
   ],
   "source": [
    "f = open(\"sample.txt\", \"w+\")\n",
    "\n",
    "\n",
    "print(f.read())\n",
    "#f.write(\" hello pyhton and ML\")\n",
    "\n",
    "f.close()"
   ]
  },
  {
   "cell_type": "code",
   "execution_count": 100,
   "id": "cc423dc0",
   "metadata": {},
   "outputs": [
    {
     "name": "stdout",
     "output_type": "stream",
     "text": [
      "\n"
     ]
    }
   ],
   "source": [
    "f = open(\"sample.txt\", \"w+\")\n",
    "\n",
    "\n",
    "print(f.read())\n",
    "#f.write(\" hello pyhton and ML\")\n",
    "\n",
    "f.close()"
   ]
  },
  {
   "cell_type": "code",
   "execution_count": null,
   "id": "245edafe",
   "metadata": {},
   "outputs": [],
   "source": []
  },
  {
   "cell_type": "markdown",
   "id": "72732839",
   "metadata": {},
   "source": [
    "# NOTE :\n",
    "- \"r+\" - read & overwrites a data. (pointer at starts.) - no truncate.\n",
    "- \"wr\" - truncate file.\n",
    "- \"a+\" - read and append pointer at end. - no truncate.\\\n",
    "\n"
   ]
  },
  {
   "cell_type": "markdown",
   "id": "e1f0c9fa",
   "metadata": {},
   "source": [
    "# with Syntax:\n",
    "\n",
    "- with open(\"demo.txt\",\"a\") as f:\n",
    "-        data = f.read()"
   ]
  },
  {
   "cell_type": "code",
   "execution_count": null,
   "id": "b58e9cd5",
   "metadata": {},
   "outputs": [
    {
     "name": "stdout",
     "output_type": "stream",
     "text": [
      "this is a sample file.\n"
     ]
    }
   ],
   "source": [
    "with open(\"sample.txt\", \"r\") as f:\n",
    "    data = f.read()\n",
    "    print(data)\n"
   ]
  },
  {
   "cell_type": "code",
   "execution_count": 11,
   "id": "54d494f0",
   "metadata": {},
   "outputs": [],
   "source": [
    "with open(\"demo.txt\", \"w\") as f:\n",
    "    f.write(\"new data from server..!!\")\n",
    "    "
   ]
  },
  {
   "cell_type": "code",
   "execution_count": 12,
   "id": "1c558719",
   "metadata": {},
   "outputs": [
    {
     "name": "stdout",
     "output_type": "stream",
     "text": [
      "new data from server..!!\n"
     ]
    }
   ],
   "source": [
    "with open(\"demo.txt\", 'r') as f:\n",
    "    print(f.read())"
   ]
  },
  {
   "cell_type": "markdown",
   "id": "1b457119",
   "metadata": {},
   "source": [
    "# Deleting a File :\n",
    "\n",
    "using the OS module\n",
    "\n",
    "module (like a code library) is a file written by another programmer that generally has a functions we can use.\n",
    "\n",
    "import os\n",
    "\n",
    "os.remove(filename)"
   ]
  },
  {
   "cell_type": "code",
   "execution_count": null,
   "id": "223ebdfd",
   "metadata": {},
   "outputs": [],
   "source": [
    "import os\n",
    "\n",
    "os.remove(\"sample.txt\")\n"
   ]
  },
  {
   "cell_type": "markdown",
   "id": "ea8e04bf",
   "metadata": {},
   "source": []
  },
  {
   "cell_type": "code",
   "execution_count": 25,
   "id": "c5aa29db",
   "metadata": {},
   "outputs": [],
   "source": [
    "with open(\"demo1.txt\", \"w\") as f:\n",
    "    f.write(\"Hi..! Everyone\\nwe are learning file I/O\\n\")\n",
    "    f.write(\"using python\\nI like programming in python\")"
   ]
  },
  {
   "cell_type": "code",
   "execution_count": 26,
   "id": "6b1a4835",
   "metadata": {},
   "outputs": [],
   "source": [
    "# WAF that replaces all occurrences of python with Java in above file."
   ]
  },
  {
   "cell_type": "code",
   "execution_count": 27,
   "id": "41b3bacf",
   "metadata": {},
   "outputs": [
    {
     "name": "stdout",
     "output_type": "stream",
     "text": [
      "Hi..! Everyone\n",
      "we are learning file I/O\n",
      "using Java\n",
      "I like programming in Java\n"
     ]
    }
   ],
   "source": [
    "with open(\"demo1.txt\", \"r\") as f:\n",
    "    data = f.read()\n",
    "\n",
    "newdata = data.replace(\"python\", \"Java\")\n",
    "\n",
    "print(newdata)"
   ]
  },
  {
   "cell_type": "code",
   "execution_count": 30,
   "id": "68e0178c",
   "metadata": {},
   "outputs": [
    {
     "name": "stdout",
     "output_type": "stream",
     "text": [
      "yess.. found.\n"
     ]
    }
   ],
   "source": [
    "word = \"learning\"\n",
    "with open(\"demo1.txt\", \"r\") as f:\n",
    "    data = f.read()\n",
    "    if (data.find(word) != -1):\n",
    "        print(\"yess.. found.\")\n",
    "    else:\n",
    "        print(\"not found\")\n",
    "        "
   ]
  },
  {
   "cell_type": "code",
   "execution_count": 31,
   "id": "4d81559b",
   "metadata": {},
   "outputs": [
    {
     "name": "stdout",
     "output_type": "stream",
     "text": [
      "not found\n"
     ]
    }
   ],
   "source": [
    "word = \"Watching\"\n",
    "with open(\"demo1.txt\", \"r\") as f:\n",
    "    data = f.read()\n",
    "    if (data.find(word) != -1):\n",
    "        print(\"yess.. found.\")\n",
    "    else:\n",
    "        print(\"not found\")"
   ]
  },
  {
   "cell_type": "code",
   "execution_count": 33,
   "id": "6d106cc4",
   "metadata": {},
   "outputs": [
    {
     "name": "stdout",
     "output_type": "stream",
     "text": [
      "not found\n"
     ]
    }
   ],
   "source": [
    "def check_word():\n",
    "    word = \"Watching\"\n",
    "    with open(\"demo1.txt\", \"r\") as f:\n",
    "        data = f.read()\n",
    "        if (data.find(word) != -1):\n",
    "            print(\"yess.. found.\")\n",
    "        else:\n",
    "            print(\"not found\")\n",
    "\n",
    "check_word()"
   ]
  },
  {
   "cell_type": "code",
   "execution_count": null,
   "id": "a2717f78",
   "metadata": {},
   "outputs": [
    {
     "name": "stdout",
     "output_type": "stream",
     "text": [
      "3\n"
     ]
    }
   ],
   "source": [
    "def check_for_line():\n",
    "    word = \"python\"\n",
    "    data = True\n",
    "    line_no = 1\n",
    "    with open(\"demo1.txt\", \"r\") as f:\n",
    "        while data:\n",
    "            data = f.readline()\n",
    "            if word in data:\n",
    "                print(line_no)\n",
    "                return\n",
    "            line_no += 1\n",
    "    \n",
    "    return -1\n",
    "check_for_line()"
   ]
  },
  {
   "cell_type": "code",
   "execution_count": 39,
   "id": "f53450e1",
   "metadata": {},
   "outputs": [
    {
     "name": "stdout",
     "output_type": "stream",
     "text": [
      "Found on line 3\n",
      "Found on line 4\n"
     ]
    }
   ],
   "source": [
    "def check_for_line():\n",
    "    word = \"python\"\n",
    "    line_no = 1\n",
    "    found = False\n",
    "    with open(\"demo1.txt\", \"r\") as f:\n",
    "        for line in f:\n",
    "            if word in line:\n",
    "                print(f\"Found on line {line_no}\")\n",
    "                found = True\n",
    "            line_no += 1\n",
    "\n",
    "    if not found:\n",
    "        print(\"Word not found\")\n",
    "check_for_line()"
   ]
  },
  {
   "cell_type": "code",
   "execution_count": null,
   "id": "0fa26be2",
   "metadata": {},
   "outputs": [
    {
     "name": "stdout",
     "output_type": "stream",
     "text": [
      "1,2,3,4,56,45,66,56,34,23,64,3,5,7,8,85,87\n",
      "1\n",
      "2\n",
      "3\n",
      "4\n",
      "56\n",
      "45\n",
      "66\n",
      "56\n",
      "34\n",
      "23\n",
      "64\n",
      "3\n",
      "5\n",
      "7\n",
      "8\n",
      "85\n"
     ]
    }
   ],
   "source": [
    "with open(\"num.txt\", \"r\") as f:\n",
    "    data = f.read()\n",
    "    print(data)\n",
    "\n",
    "    num = \"\"\n",
    "    for i in range(len(data)):\n",
    "        if data[i] == \",\":\n",
    "            print(int(num))\n",
    "            num = \"\"\n",
    "        else:\n",
    "            num += data[i]\n",
    "        \n",
    "\n"
   ]
  },
  {
   "cell_type": "code",
   "execution_count": 44,
   "id": "0b0a3472",
   "metadata": {},
   "outputs": [
    {
     "name": "stdout",
     "output_type": "stream",
     "text": [
      "1,2,3,4,56,45,66,56,34,23,64,3,5,7,8,85,87\n",
      "8\n"
     ]
    }
   ],
   "source": [
    "with open(\"num.txt\", \"r\") as f:\n",
    "    data = f.read()\n",
    "    print(data)\n",
    "    count = 0\n",
    "    nums = data.split(\",\")\n",
    "    for val in nums:\n",
    "        if int(val) % 2 == 0:\n",
    "            count += 1\n",
    "            \n",
    "        \n",
    "print(count)"
   ]
  },
  {
   "cell_type": "code",
   "execution_count": null,
   "id": "b15ad5d7",
   "metadata": {},
   "outputs": [],
   "source": []
  }
 ],
 "metadata": {
  "kernelspec": {
   "display_name": "Python 3",
   "language": "python",
   "name": "python3"
  },
  "language_info": {
   "codemirror_mode": {
    "name": "ipython",
    "version": 3
   },
   "file_extension": ".py",
   "mimetype": "text/x-python",
   "name": "python",
   "nbconvert_exporter": "python",
   "pygments_lexer": "ipython3",
   "version": "3.13.3"
  }
 },
 "nbformat": 4,
 "nbformat_minor": 5
}
