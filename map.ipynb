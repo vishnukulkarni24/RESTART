{
 "cells": [
  {
   "cell_type": "markdown",
   "id": "571af473",
   "metadata": {},
   "source": [
    "# Square Numbers\n",
    "- Given a list of numbers, use map to create a new list of their squares.\n",
    "- Input: [1, 2, 3, 4, 5] → Output: [1, 4, 9, 16, 25]"
   ]
  },
  {
   "cell_type": "code",
   "execution_count": 1,
   "id": "64b38550",
   "metadata": {},
   "outputs": [
    {
     "name": "stdout",
     "output_type": "stream",
     "text": [
      "[1, 4, 9, 16, 25]\n"
     ]
    }
   ],
   "source": [
    "num = [1,2,3,4,5]\n",
    "\n",
    "square = list(map(lambda x: x **2, num))\n",
    "\n",
    "print(square)"
   ]
  },
  {
   "cell_type": "code",
   "execution_count": 3,
   "id": "f3f83c44",
   "metadata": {},
   "outputs": [
    {
     "name": "stdout",
     "output_type": "stream",
     "text": [
      "[15, 20, 25, 30]\n"
     ]
    }
   ],
   "source": [
    "num = [5,10,15,20]\n",
    "\n",
    "AddEachTen = list(map(lambda x : x + 10, num))\n",
    "\n",
    "print(AddEachTen)"
   ]
  },
  {
   "cell_type": "code",
   "execution_count": 4,
   "id": "b3b4ef93",
   "metadata": {},
   "outputs": [
    {
     "name": "stdout",
     "output_type": "stream",
     "text": [
      "[1, 2, 3]\n"
     ]
    }
   ],
   "source": [
    "str1 = ['1', '2', '3']\n",
    "\n",
    "StrtoNum = list(map(lambda x : int(x), str1))\n",
    "\n",
    "print(StrtoNum)"
   ]
  },
  {
   "cell_type": "code",
   "execution_count": 5,
   "id": "28105271",
   "metadata": {},
   "outputs": [
    {
     "name": "stdout",
     "output_type": "stream",
     "text": [
      "['Alice', 'Bob', 'Charlie']\n"
     ]
    }
   ],
   "source": [
    "names = ['alice', 'bob', 'charlie']\n",
    "\n",
    "cap_names = list(map(lambda x : x.capitalize(), names))\n",
    "\n",
    "print(cap_names)"
   ]
  },
  {
   "cell_type": "code",
   "execution_count": 7,
   "id": "6847577e",
   "metadata": {},
   "outputs": [
    {
     "name": "stdout",
     "output_type": "stream",
     "text": [
      "[32.0, 68.0, 212.0]\n"
     ]
    }
   ],
   "source": [
    "temp = [0, 20, 100]\n",
    "\n",
    "fahrenheit = list(map(lambda x : (x * 9/5) + 32 , temp))\n",
    "\n",
    "print(fahrenheit)"
   ]
  },
  {
   "cell_type": "code",
   "execution_count": 21,
   "id": "be002ad6",
   "metadata": {},
   "outputs": [
    {
     "name": "stdout",
     "output_type": "stream",
     "text": [
      "['Mr.Ameya', 'Mr.Vishnu']\n"
     ]
    }
   ],
   "source": [
    "names = ['Ameya', 'Vishnu']\n",
    "\n",
    "AddPrefix = list(map(lambda x : \"Mr.\" + x, names))\n",
    "\n",
    "print(AddPrefix)"
   ]
  },
  {
   "cell_type": "code",
   "execution_count": 6,
   "id": "df4973dd",
   "metadata": {},
   "outputs": [
    {
     "name": "stdout",
     "output_type": "stream",
     "text": [
      "GST included Price - [118.0, 236.0, 590.0]\n",
      "GST not included Price - [82.0, 164.0, 410.0]\n"
     ]
    }
   ],
   "source": [
    "price = [100, 200, 500]\n",
    "\n",
    "gst = list(map(lambda x : x + (x * 18)/100,price))\n",
    "ngst = list(map(lambda x : x - (x * 18)/100,price))\n",
    "print(\"GST included Price -\",gst)\n",
    "print(\"GST not included Price -\",ngst)"
   ]
  },
  {
   "cell_type": "code",
   "execution_count": 11,
   "id": "19eb5d80",
   "metadata": {},
   "outputs": [
    {
     "name": "stdout",
     "output_type": "stream",
     "text": [
      "['₹100.00', '₹200.00']\n"
     ]
    }
   ],
   "source": [
    "num = [100,200]\n",
    "\n",
    "currency = list(map(lambda x : f'₹{x:.2f}',num))\n",
    "\n",
    "print(currency)"
   ]
  },
  {
   "cell_type": "code",
   "execution_count": 19,
   "id": "4df95be8",
   "metadata": {},
   "outputs": [
    {
     "data": {
      "text/plain": [
       "'₹'"
      ]
     },
     "execution_count": 19,
     "metadata": {},
     "output_type": "execute_result"
    }
   ],
   "source": [
    "rupee = '\\u20b9'\n",
    "rupee"
   ]
  },
  {
   "cell_type": "code",
   "execution_count": 36,
   "id": "c0806c96",
   "metadata": {},
   "outputs": [
    {
     "name": "stdout",
     "output_type": "stream",
     "text": [
      "['John Doe', 'Jane Smith']\n"
     ]
    }
   ],
   "source": [
    "fname = ['John', 'Jane']\n",
    "lname = ['Doe', 'Smith']\n",
    "\n",
    "fullname = list(map( lambda x : \" \".join(x), zip(fname,lname)))\n",
    "\n",
    "print(fullname)"
   ]
  },
  {
   "cell_type": "code",
   "execution_count": 38,
   "id": "e3b5fee9",
   "metadata": {},
   "outputs": [
    {
     "name": "stdout",
     "output_type": "stream",
     "text": [
      "[('John', 'Doe'), ('Jane', 'Smith')]\n"
     ]
    }
   ],
   "source": [
    "j = list(zip(fname,lname))\n",
    "\n",
    "print(j)"
   ]
  },
  {
   "cell_type": "code",
   "execution_count": 39,
   "id": "99d818b4",
   "metadata": {},
   "outputs": [
    {
     "name": "stdout",
     "output_type": "stream",
     "text": [
      "['00001', '00023', '00456']\n"
     ]
    }
   ],
   "source": [
    "numbers = [1, 23, 456]\n",
    "\n",
    "padded = list(map( lambda x: str(x).zfill(5),numbers))\n",
    "\n",
    "print(padded)"
   ]
  },
  {
   "cell_type": "code",
   "execution_count": 45,
   "id": "18446e6b",
   "metadata": {},
   "outputs": [
    {
     "name": "stdout",
     "output_type": "stream",
     "text": [
      "['file1.txt', 'file2.txt']\n"
     ]
    }
   ],
   "source": [
    "fname = ['file1', 'file2']\n",
    "\n",
    "fileName = list(map(lambda x : x  +'.txt', fname))\n",
    "\n",
    "print(fileName)"
   ]
  },
  {
   "cell_type": "code",
   "execution_count": 46,
   "id": "7b183679",
   "metadata": {},
   "outputs": [
    {
     "name": "stdout",
     "output_type": "stream",
     "text": [
      "['hello', 'wow']\n"
     ]
    }
   ],
   "source": [
    "greet = ['hello!', '!wow!'] \n",
    "\n",
    "clean = list(map(lambda x : x.replace('!',\"\"),greet))\n",
    "\n",
    "print(clean)"
   ]
  },
  {
   "cell_type": "code",
   "execution_count": 47,
   "id": "5c383bd9",
   "metadata": {},
   "outputs": [
    {
     "name": "stdout",
     "output_type": "stream",
     "text": [
      "['apple', 'banana', 'cherry']\n"
     ]
    }
   ],
   "source": [
    "fruits = ['apple', 'banana', 'cherry', 'fig']\n",
    "\n",
    "filfruits = list(filter(lambda x : len(x) >= 5, fruits))\n",
    "\n",
    "print(filfruits)"
   ]
  },
  {
   "cell_type": "code",
   "execution_count": 49,
   "id": "262cd4fd",
   "metadata": {},
   "outputs": [
    {
     "name": "stdout",
     "output_type": "stream",
     "text": [
      "['apple', 'banana', 'cherry']\n"
     ]
    }
   ],
   "source": [
    "li1 = ['apple', '', 'banana', '', 'cherry']\n",
    "\n",
    "filli1 = list(filter(lambda x : len(x) > 0, li1))\n",
    "\n",
    "print(filli1)"
   ]
  },
  {
   "cell_type": "code",
   "execution_count": 50,
   "id": "1a1e273b",
   "metadata": {},
   "outputs": [
    {
     "name": "stdout",
     "output_type": "stream",
     "text": [
      "['apple', 'banana', 'cherry']\n"
     ]
    }
   ],
   "source": [
    "filli1 = list(filter(lambda x : x != '', li1))\n",
    "\n",
    "print(filli1)"
   ]
  },
  {
   "cell_type": "code",
   "execution_count": 53,
   "id": "c43fbed9",
   "metadata": {},
   "outputs": [
    {
     "name": "stdout",
     "output_type": "stream",
     "text": [
      "[18, 20, 25]\n"
     ]
    }
   ],
   "source": [
    "age = [12, 17, 18, 20, 25]\n",
    "\n",
    "adults = list(filter(lambda x : x >= 18, age))\n",
    "\n",
    "print(adults)"
   ]
  },
  {
   "cell_type": "code",
   "execution_count": 55,
   "id": "f4ba37da",
   "metadata": {},
   "outputs": [
    {
     "name": "stdout",
     "output_type": "stream",
     "text": [
      "[0, 1, 2]\n"
     ]
    }
   ],
   "source": [
    "num = [-2, -1, 0, 1, 2]\n",
    "\n",
    "positive_num = list(filter(lambda x : x >= 0, num))\n",
    "\n",
    "print(positive_num)"
   ]
  },
  {
   "cell_type": "code",
   "execution_count": 56,
   "id": "4550127b",
   "metadata": {},
   "outputs": [
    {
     "name": "stdout",
     "output_type": "stream",
     "text": [
      "[2, 4, 6]\n"
     ]
    }
   ],
   "source": [
    "num1 = [1, 2, 3, 4, 5, 6] \n",
    "\n",
    "even = list(filter(lambda x : x % 2 == 0, num1))\n",
    "\n",
    "print(even)"
   ]
  },
  {
   "cell_type": "code",
   "execution_count": 57,
   "id": "6d673675",
   "metadata": {},
   "outputs": [
    {
     "name": "stdout",
     "output_type": "stream",
     "text": [
      "[1, 3, 5]\n"
     ]
    }
   ],
   "source": [
    "odd = list(filter(lambda x : x % 2 != 0, num1))\n",
    "\n",
    "print(odd)"
   ]
  },
  {
   "cell_type": "code",
   "execution_count": 65,
   "id": "dd9d0a64",
   "metadata": {},
   "outputs": [
    {
     "name": "stdout",
     "output_type": "stream",
     "text": [
      "[1, 2, 3]\n"
     ]
    }
   ],
   "source": [
    "li2 = [1, None, 2, None, 3]\n",
    "\n",
    "nonnull = list(filter(lambda x : x is not None, li2))\n",
    "\n",
    "print(nonnull)\n"
   ]
  },
  {
   "cell_type": "code",
   "execution_count": null,
   "id": "bc4edfc6",
   "metadata": {},
   "outputs": [
    {
     "name": "stdout",
     "output_type": "stream",
     "text": [
      "[0, 1, 2, 3, 4, 5, 6, 7, 8, 9]\n"
     ]
    }
   ],
   "source": [
    "\n",
    "num3 = [0,1,2, 3, 4, 5, 6, 7, 8, 9]\n",
    "\n",
    "prime = list(filter(lambda x : (x ** 0.5)+1, num3))\n",
    "\n",
    "print(prime)"
   ]
  },
  {
   "cell_type": "code",
   "execution_count": 8,
   "id": "c3200963",
   "metadata": {},
   "outputs": [
    {
     "name": "stdout",
     "output_type": "stream",
     "text": [
      "[2, 3, 5, 7]\n"
     ]
    }
   ],
   "source": [
    "def is_prime(n):\n",
    "    if n <= 1:\n",
    "        return False\n",
    "    for i in range(2, int(n **0.5) + 1):\n",
    "        if n % i == 0:\n",
    "            return False\n",
    "    return True\n",
    "\n",
    "num3 = [0,1,2, 3, 4, 5, 6, 7, 8, 9]\n",
    "\n",
    "primes = list(filter(is_prime, num3))\n",
    "\n",
    "print(primes)"
   ]
  },
  {
   "cell_type": "code",
   "execution_count": 9,
   "id": "0c03bcfb",
   "metadata": {},
   "outputs": [
    {
     "name": "stdout",
     "output_type": "stream",
     "text": [
      "[2, 3, 5, 7]\n"
     ]
    }
   ],
   "source": [
    "primes = list(filter(lambda x : x > 1 and all(x % i != 0 for i in range(2, int(x**0.5)+1)),num3))\n",
    "\n",
    "print(primes)"
   ]
  },
  {
   "cell_type": "code",
   "execution_count": null,
   "id": "51c367f7",
   "metadata": {},
   "outputs": [],
   "source": []
  },
  {
   "cell_type": "code",
   "execution_count": 89,
   "id": "585cd852",
   "metadata": {},
   "outputs": [
    {
     "name": "stdout",
     "output_type": "stream",
     "text": [
      "['madam', 'racecar', 'level']\n"
     ]
    }
   ],
   "source": [
    "words = ['madam', 'racecar', 'apple', 'level','banana']\n",
    "\n",
    "palindromic = list(filter(lambda x : x == x[::-1], words))\n",
    "\n",
    "print(palindromic)"
   ]
  },
  {
   "cell_type": "code",
   "execution_count": 96,
   "id": "ddcc56a7",
   "metadata": {},
   "outputs": [
    {
     "name": "stdout",
     "output_type": "stream",
     "text": [
      "['file1.txt', 'file3.txt']\n"
     ]
    }
   ],
   "source": [
    "files = ['file1.txt', 'file2.csv', 'file3.txt']\n",
    "\n",
    "onlyTxtfile = list(filter(lambda x : x.endswith('.txt'), files))\n",
    "\n",
    "print(onlyTxtfile)"
   ]
  },
  {
   "cell_type": "markdown",
   "id": "e67d7641",
   "metadata": {},
   "source": [
    "## Zip()"
   ]
  },
  {
   "cell_type": "code",
   "execution_count": 98,
   "id": "a517fae8",
   "metadata": {},
   "outputs": [
    {
     "name": "stdout",
     "output_type": "stream",
     "text": [
      "[('Alice', 25), ('Bob', 30)]\n"
     ]
    }
   ],
   "source": [
    "name = ['Alice', 'Bob'] \n",
    "age = [25, 30] \n",
    "\n",
    "merged = list(zip(name, age))\n",
    "\n",
    "print(merged)"
   ]
  },
  {
   "cell_type": "code",
   "execution_count": 99,
   "id": "9d4d7947",
   "metadata": {},
   "outputs": [
    {
     "name": "stdout",
     "output_type": "stream",
     "text": [
      "{'Math': 90, 'Science': 95}\n"
     ]
    }
   ],
   "source": [
    "sub = ['Math', 'Science'] \n",
    "marks = [90, 95]\n",
    "\n",
    "score = dict(zip(sub,marks))\n",
    "\n",
    "print(score)"
   ]
  },
  {
   "cell_type": "code",
   "execution_count": 103,
   "id": "b0a8c5c5",
   "metadata": {},
   "outputs": [
    {
     "name": "stdout",
     "output_type": "stream",
     "text": [
      "[(1, 4), (2, 5), (3, 6)]\n"
     ]
    }
   ],
   "source": [
    "arr = [[1, 2, 3], [4, 5, 6]]\n",
    "\n",
    "transpose = list(zip(*arr))\n",
    "\n",
    "print(transpose)"
   ]
  },
  {
   "cell_type": "code",
   "execution_count": 104,
   "id": "d41c3ced",
   "metadata": {},
   "outputs": [
    {
     "name": "stdout",
     "output_type": "stream",
     "text": [
      "[(1, 'Alice', 'a@example.com'), (2, 'Bob', 'b@example.com')]\n"
     ]
    }
   ],
   "source": [
    "id = [1, 2]\n",
    "name = ['Alice', 'Bob']\n",
    "mail = ['a@example.com', 'b@example.com']\n",
    "\n",
    "emp_details = list(zip(id,name,mail))\n",
    "\n",
    "print(emp_details)"
   ]
  },
  {
   "cell_type": "code",
   "execution_count": 113,
   "id": "f0275e54",
   "metadata": {},
   "outputs": [
    {
     "name": "stdout",
     "output_type": "stream",
     "text": [
      "[5, 7, 9]\n"
     ]
    }
   ],
   "source": [
    "l1 = [1,2,3]\n",
    "l2 = [4,5,6]\n",
    "\n",
    "addli = list(x + y for x , y in zip(l1 , l2))\n",
    "\n",
    "print(addli)"
   ]
  },
  {
   "cell_type": "code",
   "execution_count": 121,
   "id": "2717222d",
   "metadata": {},
   "outputs": [
    {
     "name": "stdout",
     "output_type": "stream",
     "text": [
      "[2, 4, 5]\n"
     ]
    }
   ],
   "source": [
    "li1 = [1,4,3]\n",
    "li2 = [2,2,5]\n",
    "\n",
    "maximum = list(max(x, y) for x , y in zip(li1 , li2))\n",
    "\n",
    "print(maximum)"
   ]
  },
  {
   "cell_type": "code",
   "execution_count": 135,
   "id": "77842910",
   "metadata": {},
   "outputs": [
    {
     "name": "stdout",
     "output_type": "stream",
     "text": [
      "['Alice', 'Bob']\n",
      "[25, 30]\n"
     ]
    }
   ],
   "source": [
    "emp_detail = [('Alice', 25), ('Bob', 30)]\n",
    "\n",
    "name , age  = zip(*emp_detail)\n",
    "\n",
    "print(list(name))\n",
    "print(list(age))"
   ]
  },
  {
   "cell_type": "code",
   "execution_count": null,
   "id": "f9e3ae1c",
   "metadata": {},
   "outputs": [],
   "source": []
  }
 ],
 "metadata": {
  "kernelspec": {
   "display_name": "Python 3",
   "language": "python",
   "name": "python3"
  },
  "language_info": {
   "codemirror_mode": {
    "name": "ipython",
    "version": 3
   },
   "file_extension": ".py",
   "mimetype": "text/x-python",
   "name": "python",
   "nbconvert_exporter": "python",
   "pygments_lexer": "ipython3",
   "version": "3.13.3"
  }
 },
 "nbformat": 4,
 "nbformat_minor": 5
}
