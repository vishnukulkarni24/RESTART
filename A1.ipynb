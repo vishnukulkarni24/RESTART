{
 "cells": [
  {
   "cell_type": "code",
   "execution_count": 12,
   "id": "0f7181b7",
   "metadata": {},
   "outputs": [
    {
     "name": "stdout",
     "output_type": "stream",
     "text": [
      "Areas : [12.566370614359172, 28.274333882308138, 50.26548245743669]\n"
     ]
    }
   ],
   "source": [
    "# area of circle using list.\n",
    "import math\n",
    "\n",
    "radii = [2,3,4]\n",
    "\n",
    "areas = [math.pi * (r ** 2) for r in radii]\n",
    "\n",
    "print(f\"Areas : {areas}\")\n"
   ]
  },
  {
   "cell_type": "code",
   "execution_count": 14,
   "id": "2105977a",
   "metadata": {},
   "outputs": [
    {
     "name": "stdout",
     "output_type": "stream",
     "text": [
      "[4, 25, 36, 144]\n"
     ]
    }
   ],
   "source": [
    "#i. Input_list = [2,5,6,12] \n",
    "#ii. Output_list = [4,25,36,144] \n",
    "\n",
    "li1 = [2,5,6,12]\n",
    "\n",
    "li2 = [i*i for i in li1]\n",
    "\n",
    "print(li2)"
   ]
  },
  {
   "cell_type": "code",
   "execution_count": 15,
   "id": "452357f4",
   "metadata": {},
   "outputs": [
    {
     "name": "stdout",
     "output_type": "stream",
     "text": [
      "144\n"
     ]
    }
   ],
   "source": [
    "#largest element in list.\n",
    "\n",
    "li1 = [4,25,36,144,2,5,6,12]\n",
    "\n",
    "li2 = max(li1)\n",
    "\n",
    "print(li2)"
   ]
  },
  {
   "cell_type": "code",
   "execution_count": 18,
   "id": "e58728d6",
   "metadata": {},
   "outputs": [
    {
     "name": "stdout",
     "output_type": "stream",
     "text": [
      "largest number :144\n"
     ]
    }
   ],
   "source": [
    "largest = li1[0]\n",
    "\n",
    "for num in li1:\n",
    "    if num > largest:\n",
    "        largest = num\n",
    "print(f\"largest number :{largest}\")\n"
   ]
  },
  {
   "cell_type": "code",
   "execution_count": 22,
   "id": "d249ae4a",
   "metadata": {},
   "outputs": [
    {
     "name": "stdout",
     "output_type": "stream",
     "text": [
      "373248000\n"
     ]
    }
   ],
   "source": [
    "# multiply all the numbers in list.\n",
    "li1 = [4,25,36,144,2,5,6,12]\n",
    "\n",
    "multiply = 1\n",
    "for i in li1:\n",
    "    multiply *= i\n",
    "\n",
    "print(multiply)\n"
   ]
  },
  {
   "cell_type": "code",
   "execution_count": null,
   "id": "aaa45ac1",
   "metadata": {},
   "outputs": [
    {
     "name": "stdout",
     "output_type": "stream",
     "text": [
      "[0, 2, 4, 6, 8, 10, 12, 14, 16, 18, 20, 22, 24, 26, 28, 30, 32, 34, 36, 38, 40, 42, 44, 46, 48, 50, 52, 54, 56, 58, 60, 62, 64, 66, 68, 70, 72, 74, 76, 78, 80, 82, 84, 86, 88, 90, 92, 94, 96, 98, 100, 102, 104, 106, 108, 110, 112, 114, 116, 118, 120, 122, 124, 126, 128, 130, 132, 134, 136, 138, 140, 142, 144, 146, 148, 150]\n"
     ]
    }
   ],
   "source": [
    "even = []\n",
    "for i in range(0,151):\n",
    "    if i %2 == 0:\n",
    "        even.append(i)\n",
    "print(even)"
   ]
  },
  {
   "cell_type": "code",
   "execution_count": 34,
   "id": "40fc9718",
   "metadata": {},
   "outputs": [],
   "source": [
    "# 15. From a list containing ints, strings, and floats, make three lists to store them separately.\n",
    "\n",
    "common_li = [1,2,4,5.5,5.8,6.2,6.5,\"7\",\"8\",\"9\",\"9.5\",9.9,10]\n",
    "\n",
    "fl_values = []\n",
    "str_values = []\n",
    "int_values = []\n",
    "\n",
    "for i in common_li:\n",
    "    if isinstance(i, float):\n",
    "        fl_values.append(i)\n",
    "    elif isinstance(i, int):\n",
    "        int_values.append(i)\n",
    "    else: \n",
    "        str_values.append(i)"
   ]
  },
  {
   "cell_type": "code",
   "execution_count": 35,
   "id": "33335400",
   "metadata": {},
   "outputs": [
    {
     "name": "stdout",
     "output_type": "stream",
     "text": [
      "[5.5, 5.8, 6.2, 6.5, 9.9]\n",
      "['7', '8', '9', '9.5']\n",
      "[1, 2, 4, 10]\n"
     ]
    }
   ],
   "source": [
    "print(fl_values)\n",
    "print(str_values)\n",
    "print(int_values)"
   ]
  },
  {
   "cell_type": "code",
   "execution_count": 13,
   "id": "a3b18f59",
   "metadata": {},
   "outputs": [],
   "source": [
    "class dogs:\n",
    "    dog = \"tommy\""
   ]
  },
  {
   "cell_type": "code",
   "execution_count": 14,
   "id": "18a41890",
   "metadata": {},
   "outputs": [],
   "source": [
    "d1v= dogs()"
   ]
  },
  {
   "cell_type": "code",
   "execution_count": 18,
   "id": "7e26d687",
   "metadata": {},
   "outputs": [
    {
     "name": "stdout",
     "output_type": "stream",
     "text": [
      "tommy\n"
     ]
    }
   ],
   "source": [
    "print(d1v.dog)"
   ]
  },
  {
   "cell_type": "code",
   "execution_count": null,
   "id": "2ea5c233",
   "metadata": {},
   "outputs": [
    {
     "ename": "_IncompleteInputError",
     "evalue": "incomplete input (2620507337.py, line 2)",
     "output_type": "error",
     "traceback": [
      "  \u001b[36mCell\u001b[39m\u001b[36m \u001b[39m\u001b[32mIn[19]\u001b[39m\u001b[32m, line 2\u001b[39m\n\u001b[31m    \u001b[39m\n    ^\n\u001b[31m_IncompleteInputError\u001b[39m\u001b[31m:\u001b[39m incomplete input\n"
     ]
    }
   ],
   "source": [
    "class calcy:\n",
    "    def __init__(self,a,b):\n",
    "        self.a = \"vishnu\"\n",
    "        self.b = \"ameya\"\n",
    "\n",
    "        print()\n",
    "    "
   ]
  },
  {
   "cell_type": "code",
   "execution_count": null,
   "id": "ee5c03d1",
   "metadata": {},
   "outputs": [],
   "source": []
  }
 ],
 "metadata": {
  "kernelspec": {
   "display_name": "Python 3",
   "language": "python",
   "name": "python3"
  },
  "language_info": {
   "codemirror_mode": {
    "name": "ipython",
    "version": 3
   },
   "file_extension": ".py",
   "mimetype": "text/x-python",
   "name": "python",
   "nbconvert_exporter": "python",
   "pygments_lexer": "ipython3",
   "version": "3.13.3"
  }
 },
 "nbformat": 4,
 "nbformat_minor": 5
}
