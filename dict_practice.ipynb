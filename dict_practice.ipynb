# Python program to sort Python Dictionaries by Keys 

d1 = {'a': 3, 'b': 1, 'c': 2}

sorted_items = dict(sorted(d1.items()))

sorted_values = dict(sorted(d1.items(), key=lambda x: x[1]))

sorted_keys = dict(sorted(d1.items(), key=lambda x: x[0]))

print("Sorted by Keys:")
print(sorted_items)
print('*' * 50)

print("Sorted by Values:")
print(sorted_values)
print('*' * 50)

print("Sorted by Keys (again):")
print(sorted_keys)
