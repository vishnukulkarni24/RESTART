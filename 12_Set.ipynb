{
 "cells": [
  {
   "cell_type": "markdown",
   "id": "94dae501",
   "metadata": {},
   "source": [
    "# SETS"
   ]
  },
  {
   "cell_type": "code",
   "execution_count": 4,
   "id": "7e234ddf",
   "metadata": {},
   "outputs": [
    {
     "name": "stdout",
     "output_type": "stream",
     "text": [
      "{0, 1, 2, 3, 4, 5, 6, 7, 8, 9, 'set', 2.3, 'xyz'}\n",
      "(1, 2, 3, 4, 5, 6, 7, 8, 9, 0, 'set', 'xyz', 2.3)\n"
     ]
    }
   ],
   "source": [
    "li1 = [1,2,3,4,5,6,7,8,9,0,\"set\",\"xyz\",2.3]\n",
    "\n",
    "s1 = set(li1)\n",
    "s2 = tuple(li1)\n",
    "print(s1)\n",
    "print(s2)"
   ]
  },
  {
   "cell_type": "code",
   "execution_count": 6,
   "id": "8288d4e3",
   "metadata": {},
   "outputs": [
    {
     "name": "stdout",
     "output_type": "stream",
     "text": [
      "{0.0, 1, 2, 3, 4, 5, 6}\n"
     ]
    }
   ],
   "source": [
    "set1 = {1,1,0.0,0,2,3,4,5,6}\n",
    "print(set1)"
   ]
  },
  {
   "cell_type": "code",
   "execution_count": 7,
   "id": "768460a3",
   "metadata": {},
   "outputs": [
    {
     "name": "stdout",
     "output_type": "stream",
     "text": [
      "{0, 11, 12, 13, 14, 15, 16, 17, 20}\n"
     ]
    }
   ],
   "source": [
    "set2 ={20,20,17,14,16,15,12,13,12,11,11,00}\n",
    "print(set2)"
   ]
  },
  {
   "cell_type": "code",
   "execution_count": 2,
   "id": "727c7fb3",
   "metadata": {},
   "outputs": [
    {
     "name": "stdout",
     "output_type": "stream",
     "text": [
      "{False, 1, 2, 3, 4, 5, 67, 6, 7, 8}\n"
     ]
    }
   ],
   "source": [
    "set3 = {1,2,4,5,3,3,67,6,7,8,True,False,True}\n",
    "print(set3)"
   ]
  },
  {
   "cell_type": "code",
   "execution_count": 10,
   "id": "22eb9a21",
   "metadata": {},
   "outputs": [
    {
     "name": "stdout",
     "output_type": "stream",
     "text": [
      "{False, True}\n"
     ]
    }
   ],
   "source": [
    "set1 = {True,False}\n",
    "print(set1)"
   ]
  },
  {
   "cell_type": "code",
   "execution_count": 3,
   "id": "91ea1d0d",
   "metadata": {},
   "outputs": [
    {
     "ename": "TypeError",
     "evalue": "'set' object is not subscriptable",
     "output_type": "error",
     "traceback": [
      "\u001b[31m---------------------------------------------------------------------------\u001b[39m",
      "\u001b[31mTypeError\u001b[39m                                 Traceback (most recent call last)",
      "\u001b[36mCell\u001b[39m\u001b[36m \u001b[39m\u001b[32mIn[3]\u001b[39m\u001b[32m, line 1\u001b[39m\n\u001b[32m----> \u001b[39m\u001b[32m1\u001b[39m \u001b[43mset3\u001b[49m\u001b[43m[\u001b[49m\u001b[32;43m1\u001b[39;49m\u001b[43m]\u001b[49m\n",
      "\u001b[31mTypeError\u001b[39m: 'set' object is not subscriptable"
     ]
    }
   ],
   "source": [
    "set3[1]"
   ]
  },
  {
   "cell_type": "markdown",
   "id": "8409f841",
   "metadata": {},
   "source": [
    "# set Constructor"
   ]
  },
  {
   "cell_type": "code",
   "execution_count": 12,
   "id": "c87cd350",
   "metadata": {},
   "outputs": [
    {
     "name": "stdout",
     "output_type": "stream",
     "text": [
      "[1, 2, 3, 3, 4, 5, 4, 5, 'abc', 'xyz', 2.5, 6.6] 12\n",
      "{1, 2, 3, 4, 5, 'abc', 2.5, 6.6, 'xyz'} 9\n"
     ]
    }
   ],
   "source": [
    "li1 = [1,2,3,3,4,5,4,5,\"abc\",\"xyz\",2.5,6.6]\n",
    "print(li1,len(li1))\n",
    "\n",
    "set1 = set(li1)\n",
    "print(set1,len(set1))"
   ]
  },
  {
   "cell_type": "code",
   "execution_count": 13,
   "id": "5c5a1556",
   "metadata": {},
   "outputs": [
    {
     "name": "stdout",
     "output_type": "stream",
     "text": [
      "[1, 2, 3, 3, 4, 5, 4, 5, 'abc', 'xyz', 2.5, 6.6] 12\n",
      "{1, 2, 3, 4, 5, 'abc', 2.5, 6.6, 'xyz'} 9\n",
      "[1, 2, 3, 4, 5, 'abc', 2.5, 6.6, 'xyz'] 9\n"
     ]
    }
   ],
   "source": [
    "li1 = [1,2,3,3,4,5,4,5,\"abc\",\"xyz\",2.5,6.6]\n",
    "print(li1,len(li1))\n",
    "\n",
    "set1 = set(li1)\n",
    "print(set1,len(set1))\n",
    "\n",
    "li2 = list(set1)\n",
    "print(li2,len(li2))"
   ]
  },
  {
   "cell_type": "code",
   "execution_count": 14,
   "id": "a28ac12d",
   "metadata": {},
   "outputs": [
    {
     "data": {
      "text/plain": [
       "{1, 2, 3, 4}"
      ]
     },
     "execution_count": 14,
     "metadata": {},
     "output_type": "execute_result"
    }
   ],
   "source": [
    "set([1,2,3,2,3,4])"
   ]
  },
  {
   "cell_type": "code",
   "execution_count": 15,
   "id": "ad85f229",
   "metadata": {},
   "outputs": [
    {
     "data": {
      "text/plain": [
       "{'h', 'n', 'o', 'p', 't', 'y'}"
      ]
     },
     "execution_count": 15,
     "metadata": {},
     "output_type": "execute_result"
    }
   ],
   "source": [
    "set(\"python\")"
   ]
  },
  {
   "cell_type": "code",
   "execution_count": 17,
   "id": "e56101a8",
   "metadata": {},
   "outputs": [
    {
     "data": {
      "text/plain": [
       "['P', 'y', 't', 'h', 'o', 'n', 'F', 'i', 'n']"
      ]
     },
     "execution_count": 17,
     "metadata": {},
     "output_type": "execute_result"
    }
   ],
   "source": [
    "list(\"PythonFin\")"
   ]
  },
  {
   "cell_type": "code",
   "execution_count": 18,
   "id": "9fa92d61",
   "metadata": {},
   "outputs": [
    {
     "name": "stdout",
     "output_type": "stream",
     "text": [
      "{0, 1, 2, 3, 4, 5, 6, 7, 8, 9, 10, 11, 12, 13, 14, 15, 16, 17, 18, 19, 20, 21, 22, 23, 24, 25, 26, 27, 28, 29, 30, 31, 32, 33, 34, 35, 36, 37, 38, 39, 40, 41, 42, 43, 44, 45, 46, 47, 48, 49, 50, 51, 52, 53, 54, 55, 56, 57, 58, 59, 60, 61, 62, 63, 64, 65, 66, 67, 68, 69, 70, 71, 72, 73, 74, 75, 76, 77, 78, 79, 80, 81, 82, 83, 84, 85, 86, 87, 88, 89, 90, 91, 92, 93, 94, 95, 96, 97, 98, 99, 100, 101, 102, 103, 104, 105, 106, 107, 108, 109, 110, 111, 112, 113, 114, 115, 116, 117, 118, 119, 120, 121, 122, 123, 124, 125, 126, 127, 128, 129, 130, 131, 132, 133, 134, 135, 136, 137, 138, 139, 140, 141, 142, 143, 144, 145, 146, 147, 148, 149, 150, 151, 152, 153, 154, 155, 156, 157, 158, 159, 160, 161, 162, 163, 164, 165, 166, 167, 168, 169, 170, 171, 172, 173, 174, 175, 176, 177, 178, 179, 180, 181, 182, 183, 184, 185, 186, 187, 188, 189, 190, 191, 192, 193, 194, 195, 196, 197, 198, 199, 200, 201, 202, 203, 204, 205, 206, 207, 208, 209, 210, 211, 212, 213, 214, 215, 216, 217, 218, 219, 220, 221, 222, 223, 224, 225, 226, 227, 228, 229, 230, 231, 232, 233, 234, 235, 236, 237, 238, 239, 240, 241, 242, 243, 244, 245, 246, 247, 248, 249, 250, 251, 252, 253, 254, 255, 256, 257, 258, 259, 260, 261, 262, 263, 264, 265, 266, 267, 268, 269, 270, 271, 272, 273, 274, 275, 276, 277, 278, 279, 280, 281, 282, 283, 284, 285, 286, 287, 288, 289, 290, 291, 292, 293, 294, 295, 296, 297, 298, 299, 300, 301, 302, 303, 304, 305, 306, 307, 308, 309, 310, 311, 312, 313, 314, 315, 316, 317, 318, 319, 320, 321, 322, 323, 324, 325, 326, 327, 328, 329, 330, 331, 332, 333, 334, 335, 336, 337, 338, 339, 340, 341, 342, 343, 344, 345, 346, 347, 348, 349, 350, 351, 352, 353, 354, 355, 356, 357, 358, 359, 360, 361, 362, 363, 364, 365, 366, 367, 368, 369, 370, 371, 372, 373, 374, 375, 376, 377, 378, 379, 380, 381, 382, 383, 384, 385, 386, 387, 388, 389, 390, 391, 392, 393, 394, 395, 396, 397, 398, 399, 400, 401, 402, 403, 404, 405, 406, 407, 408, 409, 410, 411, 412, 413, 414, 415, 416, 417, 418, 419, 420, 421, 422, 423, 424, 425, 426, 427, 428, 429, 430, 431, 432, 433, 434, 435, 436, 437, 438, 439, 440, 441, 442, 443, 444, 445, 446, 447, 448, 449, 450, 451, 452, 453, 454, 455, 456, 457, 458, 459, 460, 461, 462, 463, 464, 465, 466, 467, 468, 469, 470, 471, 472, 473, 474, 475, 476, 477, 478, 479, 480, 481, 482, 483, 484, 485, 486, 487, 488, 489, 490, 491, 492, 493, 494, 495, 496, 497, 498, 499, 500, 501, 502, 503, 504, 505, 506, 507, 508, 509, 510, 511, 512, 513, 514, 515, 516, 517, 518, 519, 520, 521, 522, 523, 524, 525, 526, 527, 528, 529, 530, 531, 532, 533, 534, 535, 536, 537, 538, 539, 540, 541, 542, 543, 544, 545, 546, 547, 548, 549, 550, 551, 552, 553, 554, 555, 556, 557, 558, 559, 560, 561, 562, 563, 564, 565, 566, 567, 568, 569, 570, 571, 572, 573, 574, 575, 576, 577, 578, 579, 580, 581, 582, 583, 584, 585, 586, 587, 588, 589, 590, 591, 592, 593, 594, 595, 596, 597, 598, 599, 600, 601, 602, 603, 604, 605, 606, 607, 608, 609, 610, 611, 612, 613, 614, 615, 616, 617, 618, 619, 620, 621, 622, 623, 624, 625, 626, 627, 628, 629, 630, 631, 632, 633, 634, 635, 636, 637, 638, 639, 640, 641, 642, 643, 644, 645, 646, 647, 648, 649, 650, 651, 652, 653, 654, 655, 656, 657, 658, 659, 660, 661, 662, 663, 664, 665, 666, 667, 668, 669, 670, 671, 672, 673, 674, 675, 676, 677, 678, 679, 680, 681, 682, 683, 684, 685, 686, 687, 688, 689, 690, 691, 692, 693, 694, 695, 696, 697, 698, 699, 700, 701, 702, 703, 704, 705, 706, 707, 708, 709, 710, 711, 712, 713, 714, 715, 716, 717, 718, 719, 720, 721, 722, 723, 724, 725, 726, 727, 728, 729, 730, 731, 732, 733, 734, 735, 736, 737, 738, 739, 740, 741, 742, 743, 744, 745, 746, 747, 748, 749, 750, 751, 752, 753, 754, 755, 756, 757, 758, 759, 760, 761, 762, 763, 764, 765, 766, 767, 768, 769, 770, 771, 772, 773, 774, 775, 776, 777, 778, 779, 780, 781, 782, 783, 784, 785, 786, 787, 788, 789, 790, 791, 792, 793, 794, 795, 796, 797, 798, 799, 800, 801, 802, 803, 804, 805, 806, 807, 808, 809, 810, 811, 812, 813, 814, 815, 816, 817, 818, 819, 820, 821, 822, 823, 824, 825, 826, 827, 828, 829, 830, 831, 832, 833, 834, 835, 836, 837, 838, 839, 840, 841, 842, 843, 844, 845, 846, 847, 848, 849, 850, 851, 852, 853, 854, 855, 856, 857, 858, 859, 860, 861, 862, 863, 864, 865, 866, 867, 868, 869, 870, 871, 872, 873, 874, 875, 876, 877, 878, 879, 880, 881, 882, 883, 884, 885, 886, 887, 888, 889, 890, 891, 892, 893, 894, 895, 896, 897, 898, 899, 900, 901, 902, 903, 904, 905, 906, 907, 908, 909, 910, 911, 912, 913, 914, 915, 916, 917, 918, 919, 920, 921, 922, 923, 924, 925, 926, 927, 928, 929, 930, 931, 932, 933, 934, 935, 936, 937, 938, 939, 940, 941, 942, 943, 944, 945, 946, 947, 948, 949, 950, 951, 952, 953, 954, 955, 956, 957, 958, 959, 960, 961, 962, 963, 964, 965, 966, 967, 968, 969, 970, 971, 972, 973, 974, 975, 976, 977, 978, 979, 980, 981, 982, 983, 984, 985, 986, 987, 988, 989, 990, 991, 992, 993, 994, 995, 996, 997, 998, 999, 1000}\n"
     ]
    }
   ],
   "source": [
    "my_set = {\n",
    "    0, 1, 2, 3, 4, 5, 6, 7, 8, 9,\n",
    "    10, 11, 12, 13, 14, 15, 16, 17, 18, 19,\n",
    "    20, 21, 22, 23, 24, 25, 26, 27, 28, 29,\n",
    "    30, 31, 32, 33, 34, 35, 36, 37, 38, 39,\n",
    "    40, 41, 42, 43, 44, 45, 46, 47, 48, 49,\n",
    "    50, 51, 52, 53, 54, 55, 56, 57, 58, 59,\n",
    "    60, 61, 62, 63, 64, 65, 66, 67, 68, 69,\n",
    "    70, 71, 72, 73, 74, 75, 76, 77, 78, 79,\n",
    "    80, 81, 82, 83, 84, 85, 86, 87, 88, 89,\n",
    "    90, 91, 92, 93, 94, 95, 96, 97, 98, 99,\n",
    "    100, 101, 102, 103, 104, 105, 106, 107, 108, 109,\n",
    "    110, 111, 112, 113, 114, 115, 116, 117, 118, 119,\n",
    "    120, 121, 122, 123, 124, 125, 126, 127, 128, 129,\n",
    "    130, 131, 132, 133, 134, 135, 136, 137, 138, 139,\n",
    "    140, 141, 142, 143, 144, 145, 146, 147, 148, 149,\n",
    "    150, 151, 152, 153, 154, 155, 156, 157, 158, 159,\n",
    "    160, 161, 162, 163, 164, 165, 166, 167, 168, 169,\n",
    "    170, 171, 172, 173, 174, 175, 176, 177, 178, 179,\n",
    "    180, 181, 182, 183, 184, 185, 186, 187, 188, 189,\n",
    "    190, 191, 192, 193, 194, 195, 196, 197, 198, 199,\n",
    "    200, 201, 202, 203, 204, 205, 206, 207, 208, 209,\n",
    "    210, 211, 212, 213, 214, 215, 216, 217, 218, 219,\n",
    "    220, 221, 222, 223, 224, 225, 226, 227, 228, 229,\n",
    "    230, 231, 232, 233, 234, 235, 236, 237, 238, 239,\n",
    "    240, 241, 242, 243, 244, 245, 246, 247, 248, 249,\n",
    "    250, 251, 252, 253, 254, 255, 256, 257, 258, 259,\n",
    "    260, 261, 262, 263, 264, 265, 266, 267, 268, 269,\n",
    "    270, 271, 272, 273, 274, 275, 276, 277, 278, 279,\n",
    "    280, 281, 282, 283, 284, 285, 286, 287, 288, 289,\n",
    "    290, 291, 292, 293, 294, 295, 296, 297, 298, 299,\n",
    "    300, 301, 302, 303, 304, 305, 306, 307, 308, 309,\n",
    "    310, 311, 312, 313, 314, 315, 316, 317, 318, 319,\n",
    "    320, 321, 322, 323, 324, 325, 326, 327, 328, 329,\n",
    "    330, 331, 332, 333, 334, 335, 336, 337, 338, 339,\n",
    "    340, 341, 342, 343, 344, 345, 346, 347, 348, 349,\n",
    "    350, 351, 352, 353, 354, 355, 356, 357, 358, 359,\n",
    "    360, 361, 362, 363, 364, 365, 366, 367, 368, 369,\n",
    "    370, 371, 372, 373, 374, 375, 376, 377, 378, 379,\n",
    "    380, 381, 382, 383, 384, 385, 386, 387, 388, 389,\n",
    "    390, 391, 392, 393, 394, 395, 396, 397, 398, 399,\n",
    "    400, 401, 402, 403, 404, 405, 406, 407, 408, 409,\n",
    "    410, 411, 412, 413, 414, 415, 416, 417, 418, 419,\n",
    "    420, 421, 422, 423, 424, 425, 426, 427, 428, 429,\n",
    "    430, 431, 432, 433, 434, 435, 436, 437, 438, 439,\n",
    "    440, 441, 442, 443, 444, 445, 446, 447, 448, 449,\n",
    "    450, 451, 452, 453, 454, 455, 456, 457, 458, 459,\n",
    "    460, 461, 462, 463, 464, 465, 466, 467, 468, 469,\n",
    "    470, 471, 472, 473, 474, 475, 476, 477, 478, 479,\n",
    "    480, 481, 482, 483, 484, 485, 486, 487, 488, 489,\n",
    "    490, 491, 492, 493, 494, 495, 496, 497, 498, 499,\n",
    "    500, 501, 502, 503, 504, 505, 506, 507, 508, 509,\n",
    "    510, 511, 512, 513, 514, 515, 516, 517, 518, 519,\n",
    "    520, 521, 522, 523, 524, 525, 526, 527, 528, 529,\n",
    "    530, 531, 532, 533, 534, 535, 536, 537, 538, 539,\n",
    "    540, 541, 542, 543, 544, 545, 546, 547, 548, 549,\n",
    "    550, 551, 552, 553, 554, 555, 556, 557, 558, 559,\n",
    "    560, 561, 562, 563, 564, 565, 566, 567, 568, 569,\n",
    "    570, 571, 572, 573, 574, 575, 576, 577, 578, 579,\n",
    "    580, 581, 582, 583, 584, 585, 586, 587, 588, 589,\n",
    "    590, 591, 592, 593, 594, 595, 596, 597, 598, 599,\n",
    "    600, 601, 602, 603, 604, 605, 606, 607, 608, 609,\n",
    "    610, 611, 612, 613, 614, 615, 616, 617, 618, 619,\n",
    "    620, 621, 622, 623, 624, 625, 626, 627, 628, 629,\n",
    "    630, 631, 632, 633, 634, 635, 636, 637, 638, 639,\n",
    "    640, 641, 642, 643, 644, 645, 646, 647, 648, 649,\n",
    "    650, 651, 652, 653, 654, 655, 656, 657, 658, 659,\n",
    "    660, 661, 662, 663, 664, 665, 666, 667, 668, 669,\n",
    "    670, 671, 672, 673, 674, 675, 676, 677, 678, 679,\n",
    "    680, 681, 682, 683, 684, 685, 686, 687, 688, 689,\n",
    "    690, 691, 692, 693, 694, 695, 696, 697, 698, 699,\n",
    "    700, 701, 702, 703, 704, 705, 706, 707, 708, 709,\n",
    "    710, 711, 712, 713, 714, 715, 716, 717, 718, 719,\n",
    "    720, 721, 722, 723, 724, 725, 726, 727, 728, 729,\n",
    "    730, 731, 732, 733, 734, 735, 736, 737, 738, 739,\n",
    "    740, 741, 742, 743, 744, 745, 746, 747, 748, 749,\n",
    "    750, 751, 752, 753, 754, 755, 756, 757, 758, 759,\n",
    "    760, 761, 762, 763, 764, 765, 766, 767, 768, 769,\n",
    "    770, 771, 772, 773, 774, 775, 776, 777, 778, 779,\n",
    "    780, 781, 782, 783, 784, 785, 786, 787, 788, 789,\n",
    "    790, 791, 792, 793, 794, 795, 796, 797, 798, 799,\n",
    "    800, 801, 802, 803, 804, 805, 806, 807, 808, 809,\n",
    "    810, 811, 812, 813, 814, 815, 816, 817, 818, 819,\n",
    "    820, 821, 822, 823, 824, 825, 826, 827, 828, 829,\n",
    "    830, 831, 832, 833, 834, 835, 836, 837, 838, 839,\n",
    "    840, 841, 842, 843, 844, 845, 846, 847, 848, 849,\n",
    "    850, 851, 852, 853, 854, 855, 856, 857, 858, 859,\n",
    "    860, 861, 862, 863, 864, 865, 866, 867, 868, 869,\n",
    "    870, 871, 872, 873, 874, 875, 876, 877, 878, 879,\n",
    "    880, 881, 882, 883, 884, 885, 886, 887, 888, 889,\n",
    "    890, 891, 892, 893, 894, 895, 896, 897, 898, 899,\n",
    "    900, 901, 902, 903, 904, 905, 906, 907, 908, 909,\n",
    "    910, 911, 912, 913, 914, 915, 916, 917, 918, 919,\n",
    "    920, 921, 922, 923, 924, 925, 926, 927, 928, 929,\n",
    "    930, 931, 932, 933, 934, 935, 936, 937, 938, 939,\n",
    "    940, 941, 942, 943, 944, 945, 946, 947, 948, 949,\n",
    "    950, 951, 952, 953, 954, 955, 956, 957, 958, 959,\n",
    "    960, 961, 962, 963, 964, 965, 966, 967, 968, 969,\n",
    "    970, 971, 972, 973, 974, 975, 976, 977, 978, 979,\n",
    "    980, 981, 982, 983, 984, 985, 986, 987, 988, 989,\n",
    "    990, 991, 992, 993, 994, 995, 996, 997, 998, 999,\n",
    "    1000\n",
    "}\n",
    "\n",
    "print(my_set)"
   ]
  },
  {
   "cell_type": "code",
   "execution_count": 23,
   "id": "34f30cd6",
   "metadata": {},
   "outputs": [
    {
     "name": "stdout",
     "output_type": "stream",
     "text": [
      "{10, 20, 5}\n"
     ]
    }
   ],
   "source": [
    "ordered_set = dict()\n",
    "ordered_set[10] = None\n",
    "ordered_set[5] = None\n",
    "ordered_set[20] = None\n",
    "\n",
    "print(set(ordered_set))"
   ]
  },
  {
   "cell_type": "code",
   "execution_count": 25,
   "id": "a1faeaac",
   "metadata": {},
   "outputs": [
    {
     "name": "stdout",
     "output_type": "stream",
     "text": [
      "{10, 20, 5}\n"
     ]
    }
   ],
   "source": [
    "set1 = {10,20,5}\n",
    "print(set1)"
   ]
  },
  {
   "cell_type": "code",
   "execution_count": 26,
   "id": "b32e321b",
   "metadata": {},
   "outputs": [
    {
     "data": {
      "text/plain": [
       "('P', 'y', 't', 'h', 'o', 'n')"
      ]
     },
     "execution_count": 26,
     "metadata": {},
     "output_type": "execute_result"
    }
   ],
   "source": [
    "tuple(\"Python\")"
   ]
  },
  {
   "cell_type": "code",
   "execution_count": 28,
   "id": "c9e3e796",
   "metadata": {},
   "outputs": [
    {
     "data": {
      "text/plain": [
       "('P', 'y', 't', 'h', 'o', 'n')"
      ]
     },
     "execution_count": 28,
     "metadata": {},
     "output_type": "execute_result"
    }
   ],
   "source": [
    "tuple(tuple(\"Python\"))"
   ]
  },
  {
   "cell_type": "code",
   "execution_count": 30,
   "id": "9f29dabe",
   "metadata": {},
   "outputs": [
    {
     "data": {
      "text/plain": [
       "{'bio', 'chem', 'eng', 'math', 'phy'}"
      ]
     },
     "execution_count": 30,
     "metadata": {},
     "output_type": "execute_result"
    }
   ],
   "source": [
    "sub_names = {'phy','chem','math','eng','bio'}\n",
    "sub_names"
   ]
  },
  {
   "cell_type": "code",
   "execution_count": 31,
   "id": "a7d3c357",
   "metadata": {},
   "outputs": [
    {
     "data": {
      "text/plain": [
       "{1, 2, 4, 5, 'bio', 'chem', 'eng', 'math', 'phy'}"
      ]
     },
     "execution_count": 31,
     "metadata": {},
     "output_type": "execute_result"
    }
   ],
   "source": [
    "sub_names = {'phy','chem','math','eng','bio',1,2,4,5}\n",
    "sub_names"
   ]
  },
  {
   "cell_type": "code",
   "execution_count": 29,
   "id": "9333c058",
   "metadata": {},
   "outputs": [
    {
     "ename": "TypeError",
     "evalue": "unhashable type: 'list'",
     "output_type": "error",
     "traceback": [
      "\u001b[31m---------------------------------------------------------------------------\u001b[39m",
      "\u001b[31mTypeError\u001b[39m                                 Traceback (most recent call last)",
      "\u001b[36mCell\u001b[39m\u001b[36m \u001b[39m\u001b[32mIn[29]\u001b[39m\u001b[32m, line 1\u001b[39m\n\u001b[32m----> \u001b[39m\u001b[32m1\u001b[39m sub_names = {\u001b[33m'\u001b[39m\u001b[33mphy\u001b[39m\u001b[33m'\u001b[39m,\u001b[33m'\u001b[39m\u001b[33mchem\u001b[39m\u001b[33m'\u001b[39m,\u001b[33m'\u001b[39m\u001b[33mmath\u001b[39m\u001b[33m'\u001b[39m,\u001b[33m'\u001b[39m\u001b[33meng\u001b[39m\u001b[33m'\u001b[39m,\u001b[33m'\u001b[39m\u001b[33mbio\u001b[39m\u001b[33m'\u001b[39m,\u001b[32m40\u001b[39m,\u001b[32m23\u001b[39m,\u001b[32m11\u001b[39m,[\u001b[32m1\u001b[39m,\u001b[32m2\u001b[39m,\u001b[32m3\u001b[39m,\u001b[32m4\u001b[39m]}\n\u001b[32m      2\u001b[39m sub_names\n",
      "\u001b[31mTypeError\u001b[39m: unhashable type: 'list'"
     ]
    }
   ],
   "source": [
    "sub_names = {'phy','chem','math','eng','bio',40,23,11,[1,2,3,4]}\n",
    "sub_names"
   ]
  },
  {
   "cell_type": "code",
   "execution_count": 33,
   "id": "b4be3c3e",
   "metadata": {},
   "outputs": [
    {
     "ename": "TypeError",
     "evalue": "set expected at most 1 argument, got 4",
     "output_type": "error",
     "traceback": [
      "\u001b[31m---------------------------------------------------------------------------\u001b[39m",
      "\u001b[31mTypeError\u001b[39m                                 Traceback (most recent call last)",
      "\u001b[36mCell\u001b[39m\u001b[36m \u001b[39m\u001b[32mIn[33]\u001b[39m\u001b[32m, line 1\u001b[39m\n\u001b[32m----> \u001b[39m\u001b[32m1\u001b[39m \u001b[38;5;28;43mset\u001b[39;49m\u001b[43m(\u001b[49m\u001b[32;43m1\u001b[39;49m\u001b[43m,\u001b[49m\u001b[32;43m2\u001b[39;49m\u001b[43m,\u001b[49m\u001b[32;43m3\u001b[39;49m\u001b[43m,\u001b[49m\u001b[43m[\u001b[49m\u001b[32;43m4\u001b[39;49m\u001b[43m,\u001b[49m\u001b[32;43m5\u001b[39;49m\u001b[43m,\u001b[49m\u001b[32;43m6\u001b[39;49m\u001b[43m]\u001b[49m\u001b[43m)\u001b[49m\n",
      "\u001b[31mTypeError\u001b[39m: set expected at most 1 argument, got 4"
     ]
    }
   ],
   "source": [
    "set(1,2,3,[4,5,6])"
   ]
  },
  {
   "cell_type": "code",
   "execution_count": 37,
   "id": "a4da1f1d",
   "metadata": {},
   "outputs": [
    {
     "data": {
      "text/plain": [
       "types.GenericAlias"
      ]
     },
     "execution_count": 37,
     "metadata": {},
     "output_type": "execute_result"
    }
   ],
   "source": [
    "type(set[1,2,3,[4,5,6]])"
   ]
  },
  {
   "cell_type": "code",
   "execution_count": 38,
   "id": "8cdf7499",
   "metadata": {},
   "outputs": [
    {
     "ename": "TypeError",
     "evalue": "unhashable type: 'list'",
     "output_type": "error",
     "traceback": [
      "\u001b[31m---------------------------------------------------------------------------\u001b[39m",
      "\u001b[31mTypeError\u001b[39m                                 Traceback (most recent call last)",
      "\u001b[36mCell\u001b[39m\u001b[36m \u001b[39m\u001b[32mIn[38]\u001b[39m\u001b[32m, line 1\u001b[39m\n\u001b[32m----> \u001b[39m\u001b[32m1\u001b[39m \u001b[38;5;28;43mset\u001b[39;49m\u001b[43m(\u001b[49m\u001b[43m[\u001b[49m\u001b[32;43m1\u001b[39;49m\u001b[43m,\u001b[49m\u001b[32;43m2\u001b[39;49m\u001b[43m,\u001b[49m\u001b[32;43m3\u001b[39;49m\u001b[43m,\u001b[49m\u001b[43m[\u001b[49m\u001b[32;43m4\u001b[39;49m\u001b[43m]\u001b[49m\u001b[43m]\u001b[49m\u001b[43m)\u001b[49m\n",
      "\u001b[31mTypeError\u001b[39m: unhashable type: 'list'"
     ]
    }
   ],
   "source": [
    "set([1,2,3,[4]])"
   ]
  },
  {
   "cell_type": "code",
   "execution_count": 40,
   "id": "ba2c5589",
   "metadata": {},
   "outputs": [
    {
     "data": {
      "text/plain": [
       "{1, 2, 3, 4}"
      ]
     },
     "execution_count": 40,
     "metadata": {},
     "output_type": "execute_result"
    }
   ],
   "source": [
    "set((1,2,3,4))"
   ]
  },
  {
   "cell_type": "code",
   "execution_count": 41,
   "id": "6beb9705",
   "metadata": {},
   "outputs": [
    {
     "ename": "TypeError",
     "evalue": "set expected at most 1 argument, got 4",
     "output_type": "error",
     "traceback": [
      "\u001b[31m---------------------------------------------------------------------------\u001b[39m",
      "\u001b[31mTypeError\u001b[39m                                 Traceback (most recent call last)",
      "\u001b[36mCell\u001b[39m\u001b[36m \u001b[39m\u001b[32mIn[41]\u001b[39m\u001b[32m, line 1\u001b[39m\n\u001b[32m----> \u001b[39m\u001b[32m1\u001b[39m \u001b[38;5;28;43mset\u001b[39;49m\u001b[43m(\u001b[49m\u001b[32;43m1\u001b[39;49m\u001b[43m,\u001b[49m\u001b[32;43m2\u001b[39;49m\u001b[43m,\u001b[49m\u001b[32;43m3\u001b[39;49m\u001b[43m,\u001b[49m\u001b[32;43m4\u001b[39;49m\u001b[43m)\u001b[49m\n",
      "\u001b[31mTypeError\u001b[39m: set expected at most 1 argument, got 4"
     ]
    }
   ],
   "source": [
    "set(1,2,3,4)"
   ]
  },
  {
   "cell_type": "code",
   "execution_count": 42,
   "id": "20990cf4",
   "metadata": {},
   "outputs": [
    {
     "ename": "TypeError",
     "evalue": "'set' object is not subscriptable",
     "output_type": "error",
     "traceback": [
      "\u001b[31m---------------------------------------------------------------------------\u001b[39m",
      "\u001b[31mTypeError\u001b[39m                                 Traceback (most recent call last)",
      "\u001b[36mCell\u001b[39m\u001b[36m \u001b[39m\u001b[32mIn[42]\u001b[39m\u001b[32m, line 1\u001b[39m\n\u001b[32m----> \u001b[39m\u001b[32m1\u001b[39m \u001b[43mset1\u001b[49m\u001b[43m[\u001b[49m\u001b[32;43m0\u001b[39;49m\u001b[43m]\u001b[49m\n",
      "\u001b[31mTypeError\u001b[39m: 'set' object is not subscriptable"
     ]
    }
   ],
   "source": [
    "set1[0]"
   ]
  },
  {
   "cell_type": "markdown",
   "id": "32d90a56",
   "metadata": {},
   "source": [
    "# How to access items from set"
   ]
  },
  {
   "cell_type": "code",
   "execution_count": 43,
   "id": "cd6730ea",
   "metadata": {},
   "outputs": [
    {
     "data": {
      "text/plain": [
       "['phy', 'chem', 'math', 'eng', 'bio', 40, 23, 11]"
      ]
     },
     "execution_count": 43,
     "metadata": {},
     "output_type": "execute_result"
    }
   ],
   "source": [
    "sub_names = ['phy','chem','math','eng','bio',40,23,11]\n",
    "sub_names\n"
   ]
  },
  {
   "cell_type": "code",
   "execution_count": 44,
   "id": "e2371dac",
   "metadata": {},
   "outputs": [
    {
     "data": {
      "text/plain": [
       "'phy'"
      ]
     },
     "execution_count": 44,
     "metadata": {},
     "output_type": "execute_result"
    }
   ],
   "source": [
    "sub_names[0]"
   ]
  },
  {
   "cell_type": "code",
   "execution_count": 45,
   "id": "09dceae5",
   "metadata": {},
   "outputs": [
    {
     "data": {
      "text/plain": [
       "{11, 23, 40, 'bio', 'chem', 'eng', 'math', 'phy'}"
      ]
     },
     "execution_count": 45,
     "metadata": {},
     "output_type": "execute_result"
    }
   ],
   "source": [
    "sub_names = {'phy','chem','math','eng','bio',40,23,11}\n",
    "sub_names"
   ]
  },
  {
   "cell_type": "code",
   "execution_count": 46,
   "id": "2a5db055",
   "metadata": {},
   "outputs": [
    {
     "ename": "TypeError",
     "evalue": "'set' object is not subscriptable",
     "output_type": "error",
     "traceback": [
      "\u001b[31m---------------------------------------------------------------------------\u001b[39m",
      "\u001b[31mTypeError\u001b[39m                                 Traceback (most recent call last)",
      "\u001b[36mCell\u001b[39m\u001b[36m \u001b[39m\u001b[32mIn[46]\u001b[39m\u001b[32m, line 1\u001b[39m\n\u001b[32m----> \u001b[39m\u001b[32m1\u001b[39m \u001b[43msub_names\u001b[49m\u001b[43m[\u001b[49m\u001b[32;43m0\u001b[39;49m\u001b[43m]\u001b[49m\n",
      "\u001b[31mTypeError\u001b[39m: 'set' object is not subscriptable"
     ]
    }
   ],
   "source": [
    "sub_names[0]"
   ]
  },
  {
   "cell_type": "code",
   "execution_count": 49,
   "id": "ed363dfe",
   "metadata": {},
   "outputs": [
    {
     "name": "stdout",
     "output_type": "stream",
     "text": [
      "40\n",
      "eng\n",
      "bio\n",
      "11\n",
      "phy\n",
      "23\n",
      "math\n",
      "chem\n"
     ]
    }
   ],
   "source": [
    "for i in sub_names:\n",
    "    print(i)"
   ]
  },
  {
   "cell_type": "code",
   "execution_count": 50,
   "id": "364fa0fc",
   "metadata": {},
   "outputs": [
    {
     "data": {
      "text/plain": [
       "8"
      ]
     },
     "execution_count": 50,
     "metadata": {},
     "output_type": "execute_result"
    }
   ],
   "source": [
    "len(sub_names)"
   ]
  },
  {
   "cell_type": "code",
   "execution_count": 51,
   "id": "9fa9b840",
   "metadata": {},
   "outputs": [
    {
     "data": {
      "text/plain": [
       "range(0, 8)"
      ]
     },
     "execution_count": 51,
     "metadata": {},
     "output_type": "execute_result"
    }
   ],
   "source": [
    "range(len(sub_names))"
   ]
  },
  {
   "cell_type": "code",
   "execution_count": 52,
   "id": "c96b0378",
   "metadata": {},
   "outputs": [
    {
     "ename": "TypeError",
     "evalue": "'set' object is not subscriptable",
     "output_type": "error",
     "traceback": [
      "\u001b[31m---------------------------------------------------------------------------\u001b[39m",
      "\u001b[31mTypeError\u001b[39m                                 Traceback (most recent call last)",
      "\u001b[36mCell\u001b[39m\u001b[36m \u001b[39m\u001b[32mIn[52]\u001b[39m\u001b[32m, line 2\u001b[39m\n\u001b[32m      1\u001b[39m \u001b[38;5;28;01mfor\u001b[39;00m i \u001b[38;5;129;01min\u001b[39;00m \u001b[38;5;28mrange\u001b[39m(\u001b[38;5;28mlen\u001b[39m(sub_names)):\n\u001b[32m----> \u001b[39m\u001b[32m2\u001b[39m     \u001b[38;5;28mprint\u001b[39m(\u001b[43msub_names\u001b[49m\u001b[43m[\u001b[49m\u001b[43mi\u001b[49m\u001b[43m]\u001b[49m)\n",
      "\u001b[31mTypeError\u001b[39m: 'set' object is not subscriptable"
     ]
    }
   ],
   "source": [
    "for i in range(len(sub_names)):\n",
    "    print(sub_names[i])"
   ]
  },
  {
   "cell_type": "code",
   "execution_count": 53,
   "id": "08f3b0f5",
   "metadata": {},
   "outputs": [
    {
     "data": {
      "text/plain": [
       "['phy', 'chem', 'math', 'eng', 'bio', 40, 23, 11]"
      ]
     },
     "execution_count": 53,
     "metadata": {},
     "output_type": "execute_result"
    }
   ],
   "source": [
    "sub_names = ['phy','chem','math','eng','bio',40,23,11]\n",
    "sub_names"
   ]
  },
  {
   "cell_type": "code",
   "execution_count": 54,
   "id": "c4ee51a6",
   "metadata": {},
   "outputs": [
    {
     "name": "stdout",
     "output_type": "stream",
     "text": [
      "phy\n",
      "chem\n",
      "math\n",
      "eng\n",
      "bio\n",
      "40\n",
      "23\n",
      "11\n"
     ]
    }
   ],
   "source": [
    "i = 0\n",
    "while i < len(sub_names):\n",
    "    print(sub_names[i])\n",
    "    i += 1"
   ]
  },
  {
   "cell_type": "markdown",
   "id": "391ed92c",
   "metadata": {},
   "source": [
    "| Code                 | What it does                                             |\n",
    "| -------------------- | -------------------------------------------------------- |\n",
    "| `i = 0`              | Declares a variable `i` (an identifier) and sets it to 0 |\n",
    "| `while i < len(...)` | Uses the same `i` to control the loop                    |\n",
    "| `i += 1`             | Updates the same `i` variable                            |\n"
   ]
  },
  {
   "cell_type": "code",
   "execution_count": null,
   "id": "6f0270c2",
   "metadata": {},
   "outputs": [
    {
     "ename": "TypeError",
     "evalue": "'set' object is not subscriptable",
     "output_type": "error",
     "traceback": [
      "\u001b[31m---------------------------------------------------------------------------\u001b[39m",
      "\u001b[31mTypeError\u001b[39m                                 Traceback (most recent call last)",
      "\u001b[36mCell\u001b[39m\u001b[36m \u001b[39m\u001b[32mIn[55]\u001b[39m\u001b[32m, line 5\u001b[39m\n\u001b[32m      2\u001b[39m i = \u001b[32m0\u001b[39m\n\u001b[32m      4\u001b[39m \u001b[38;5;28;01mwhile\u001b[39;00m i < \u001b[38;5;28mlen\u001b[39m(li):\n\u001b[32m----> \u001b[39m\u001b[32m5\u001b[39m     \u001b[38;5;28mprint\u001b[39m(\u001b[43mli\u001b[49m\u001b[43m[\u001b[49m\u001b[43mi\u001b[49m\u001b[43m]\u001b[49m)\n\u001b[32m      6\u001b[39m     i += \u001b[32m1\u001b[39m\n",
      "\u001b[31mTypeError\u001b[39m: 'set' object is not subscriptable"
     ]
    }
   ],
   "source": [
    "li = {1,2,3,4,5}\n",
    "i = 0\n",
    "\n",
    "while i < len(li):\n",
    "    print([i])\n",
    "    i += 1"
   ]
  },
  {
   "cell_type": "code",
   "execution_count": 58,
   "id": "2a73ba85",
   "metadata": {},
   "outputs": [
    {
     "name": "stdout",
     "output_type": "stream",
     "text": [
      "phy 0\n",
      "chem 1\n",
      "math 2\n",
      "eng 3\n",
      "bio 4\n",
      "40 5\n",
      "23 6\n",
      "11 7\n"
     ]
    }
   ],
   "source": [
    "i = 0\n",
    "\n",
    "while i < len(sub_names):\n",
    "    print(sub_names[i],i)\n",
    "    i += 1"
   ]
  },
  {
   "cell_type": "code",
   "execution_count": 57,
   "id": "62efc900",
   "metadata": {},
   "outputs": [
    {
     "name": "stdout",
     "output_type": "stream",
     "text": [
      "0 phy\n",
      "1 chem\n",
      "2 math\n",
      "3 eng\n",
      "4 bio\n",
      "5 40\n",
      "6 23\n",
      "7 11\n"
     ]
    }
   ],
   "source": [
    "for i,j in enumerate(sub_names):\n",
    "    print(i,j)"
   ]
  },
  {
   "cell_type": "code",
   "execution_count": 59,
   "id": "fb0ce146",
   "metadata": {},
   "outputs": [
    {
     "name": "stdout",
     "output_type": "stream",
     "text": [
      "40\n",
      "eng\n",
      "bio\n",
      "11\n",
      "phy\n",
      "23\n",
      "math\n",
      "chem\n"
     ]
    }
   ],
   "source": [
    "sub_names = {'phy','chem','math','eng','bio',40,23,11}\n",
    "for i in sub_names:\n",
    "    print(i)"
   ]
  },
  {
   "cell_type": "markdown",
   "id": "c075d8f9",
   "metadata": {},
   "source": [
    "# delete\n",
    "\n",
    "- remove()\n",
    "- discard()\n",
    "- pop()\n",
    "- clear()"
   ]
  },
  {
   "cell_type": "markdown",
   "id": "2c3ff18f",
   "metadata": {},
   "source": [
    "# 1. remove()\n",
    "\n"
   ]
  },
  {
   "cell_type": "code",
   "execution_count": 62,
   "id": "5c6bf90e",
   "metadata": {},
   "outputs": [
    {
     "name": "stdout",
     "output_type": "stream",
     "text": [
      "original set :{1, 2, 3, 4, 5, 'r', 'vishnu'}\n",
      "after MOdification of set: {1, 2, 3, 4, 'r', 'vishnu'}\n"
     ]
    }
   ],
   "source": [
    "sett1 = {1,2,3,\"vishnu\",\"r\",4,5}\n",
    "\n",
    "print(f\"original set :{sett1}\")\n",
    "\n",
    "sett1.remove(5)\n",
    "\n",
    "print(f\"after MOdification of set: {sett1}\")"
   ]
  },
  {
   "cell_type": "code",
   "execution_count": 63,
   "id": "870f17a7",
   "metadata": {},
   "outputs": [
    {
     "data": {
      "text/plain": [
       "1"
      ]
     },
     "execution_count": 63,
     "metadata": {},
     "output_type": "execute_result"
    }
   ],
   "source": [
    "sett1.pop()"
   ]
  },
  {
   "cell_type": "code",
   "execution_count": 64,
   "id": "e7ca9c02",
   "metadata": {},
   "outputs": [
    {
     "name": "stdout",
     "output_type": "stream",
     "text": [
      "{2, 3, 4, 'r', 'vishnu'}\n"
     ]
    }
   ],
   "source": [
    "print(sett1)"
   ]
  },
  {
   "cell_type": "code",
   "execution_count": 65,
   "id": "e5dc06e1",
   "metadata": {},
   "outputs": [],
   "source": [
    "sett1.clear()"
   ]
  },
  {
   "cell_type": "code",
   "execution_count": 66,
   "id": "81b69669",
   "metadata": {},
   "outputs": [
    {
     "data": {
      "text/plain": [
       "set()"
      ]
     },
     "execution_count": 66,
     "metadata": {},
     "output_type": "execute_result"
    }
   ],
   "source": [
    "sett1"
   ]
  },
  {
   "cell_type": "code",
   "execution_count": 68,
   "id": "958cb6b2",
   "metadata": {},
   "outputs": [],
   "source": [
    "sett1.add(1)"
   ]
  },
  {
   "cell_type": "code",
   "execution_count": 70,
   "id": "ca582144",
   "metadata": {},
   "outputs": [
    {
     "data": {
      "text/plain": [
       "set"
      ]
     },
     "execution_count": 70,
     "metadata": {},
     "output_type": "execute_result"
    }
   ],
   "source": [
    "type(sett1)"
   ]
  },
  {
   "cell_type": "code",
   "execution_count": 76,
   "id": "911f2c00",
   "metadata": {},
   "outputs": [
    {
     "data": {
      "text/plain": [
       "tuple"
      ]
     },
     "execution_count": 76,
     "metadata": {},
     "output_type": "execute_result"
    }
   ],
   "source": [
    "type((1,))"
   ]
  },
  {
   "cell_type": "code",
   "execution_count": 74,
   "id": "ec7bfd0e",
   "metadata": {},
   "outputs": [
    {
     "data": {
      "text/plain": [
       "set"
      ]
     },
     "execution_count": 74,
     "metadata": {},
     "output_type": "execute_result"
    }
   ],
   "source": [
    "s2 = {1}\n",
    "type(s2)"
   ]
  },
  {
   "cell_type": "code",
   "execution_count": 87,
   "id": "8905898b",
   "metadata": {},
   "outputs": [
    {
     "name": "stdout",
     "output_type": "stream",
     "text": [
      "set before modificcation: {1, 2, 3, 'python', 'java', 'acting'}\n",
      "set after modificcation: {1, 2, 3, 'python', 'acting'}\n"
     ]
    }
   ],
   "source": [
    "set1 = {1,2,3,\"java\",\"python\",\"acting\"}\n",
    "\n",
    "print(f\"set before modificcation: {set1}\")\n",
    "\n",
    "val = \"java\"\n",
    "\n",
    "if val in set1:\n",
    "    set1.remove(val)\n",
    "    print(f\"set after modificcation: {set1}\")\n",
    "else:\n",
    "    set1.add(val)\n",
    "    print(f\"set after adding new element modificcation: {set1}\")"
   ]
  },
  {
   "cell_type": "markdown",
   "id": "f900f212",
   "metadata": {},
   "source": [
    "# set Properties\n",
    "\n",
    "- Unordered\n",
    "- Mutable\n",
    "- Duplicates are not allowed\n",
    "- Defined by {}, if empty set()\n"
   ]
  },
  {
   "cell_type": "markdown",
   "id": "185d1c04",
   "metadata": {},
   "source": [
    "# 1. add()\n",
    "\n",
    "syntax = set1.add()\n",
    "\n"
   ]
  },
  {
   "cell_type": "code",
   "execution_count": 88,
   "id": "1b50593a",
   "metadata": {},
   "outputs": [
    {
     "name": "stdout",
     "output_type": "stream",
     "text": [
      "Original Set :- {1, 2, 3, 4, 5}\n",
      "Modified Set :- {1, 2, 3, 4, 5, 6}\n"
     ]
    }
   ],
   "source": [
    "set1 = {1,2,3,4,5}\n",
    "print(f\"Original Set :- {set1}\")\n",
    "set1.add(6)\n",
    "print(f\"Modified Set :- {set1}\")"
   ]
  },
  {
   "cell_type": "code",
   "execution_count": 90,
   "id": "cde330a9",
   "metadata": {},
   "outputs": [
    {
     "data": {
      "text/plain": [
       "[100]"
      ]
     },
     "execution_count": 90,
     "metadata": {},
     "output_type": "execute_result"
    }
   ],
   "source": [
    "li = []\n",
    "li.append(100)\n",
    "li"
   ]
  },
  {
   "cell_type": "markdown",
   "id": "2d69050c",
   "metadata": {},
   "source": [
    "# 2. update()"
   ]
  },
  {
   "cell_type": "markdown",
   "id": "85f959f0",
   "metadata": {},
   "source": [
    "Union function will return a new set."
   ]
  },
  {
   "cell_type": "code",
   "execution_count": 91,
   "id": "9e38e9f1",
   "metadata": {},
   "outputs": [
    {
     "name": "stdout",
     "output_type": "stream",
     "text": [
      "{1, 2, 3, 4, 5, 6, 7}\n",
      "set1 :- {1, 2, 3, 4, 5}\n",
      "set2 :- {3, 4, 5, 6, 7}\n"
     ]
    }
   ],
   "source": [
    "set1 = {1,2,3,4,5}\n",
    "set2 = {3,4,5,6,7}\n",
    "print(set1.union(set2))\n",
    "print(f\"set1 :- {set1}\")\n",
    "print(f\"set2 :- {set2}\")"
   ]
  },
  {
   "cell_type": "code",
   "execution_count": 92,
   "id": "36de8e6d",
   "metadata": {},
   "outputs": [
    {
     "name": "stdout",
     "output_type": "stream",
     "text": [
      "{'Data', 'Science', 'Python', 'Java', 'And'}\n",
      "set1 :- {'Science', 'And', 'Data', 'Python'}\n",
      "set2 :- {'Java', 'Science', 'Data', 'And'}\n"
     ]
    }
   ],
   "source": [
    "set1 = {\"Python\",\"And\",\"Data\",\"Science\"}\n",
    "set2 = {\"Java\",\"And\",\"Data\",\"Science\"}\n",
    "print(set1.union(set2))\n",
    "print(f\"set1 :- {set1}\")\n",
    "print(f\"set2 :- {set2}\")"
   ]
  },
  {
   "cell_type": "code",
   "execution_count": 4,
   "id": "ce318cc8",
   "metadata": {},
   "outputs": [
    {
     "name": "stdout",
     "output_type": "stream",
     "text": [
      "{'vishnu', '5'}\n"
     ]
    }
   ],
   "source": [
    "s1 = {1,\"vishnu\",2,4,\"5\"}\n",
    "s2 = {1,2,3,4,5}\n",
    "print(s1.difference(s2))"
   ]
  },
  {
   "cell_type": "code",
   "execution_count": 6,
   "id": "e6072166",
   "metadata": {},
   "outputs": [
    {
     "data": {
      "text/plain": [
       "{'5', 'vishnu'}"
      ]
     },
     "execution_count": 6,
     "metadata": {},
     "output_type": "execute_result"
    }
   ],
   "source": [
    "s3 = s1 - s2\n",
    "s3"
   ]
  },
  {
   "cell_type": "code",
   "execution_count": 12,
   "id": "d28bd5d9",
   "metadata": {},
   "outputs": [
    {
     "name": "stdout",
     "output_type": "stream",
     "text": [
      "{'5', 'vishnu'}\n"
     ]
    }
   ],
   "source": [
    "s1.difference_update(s2)\n",
    "\n",
    "print(s1)"
   ]
  },
  {
   "cell_type": "code",
   "execution_count": 16,
   "id": "3389f051",
   "metadata": {},
   "outputs": [],
   "source": [
    "s1.discard('5')"
   ]
  },
  {
   "cell_type": "code",
   "execution_count": 17,
   "id": "868d2a79",
   "metadata": {},
   "outputs": [
    {
     "data": {
      "text/plain": [
       "{'vishnu'}"
      ]
     },
     "execution_count": 17,
     "metadata": {},
     "output_type": "execute_result"
    }
   ],
   "source": [
    "s1"
   ]
  },
  {
   "cell_type": "code",
   "execution_count": 19,
   "id": "69641d24",
   "metadata": {},
   "outputs": [
    {
     "data": {
      "text/plain": [
       "{1, 2, 3, 4, 5}"
      ]
     },
     "execution_count": 19,
     "metadata": {},
     "output_type": "execute_result"
    }
   ],
   "source": [
    "s1 = {1,2,3,7,4,5}\n",
    "s2 = {4,3,5,6,2,1}\n",
    "s1.intersection(s2)"
   ]
  },
  {
   "cell_type": "code",
   "execution_count": 26,
   "id": "71909194",
   "metadata": {},
   "outputs": [],
   "source": [
    "s1 = {1,2,3,7,4,5,\"vishnu\"}\n",
    "s2 = {4,3,5,6,2,1}\n",
    "s1.intersection_update(s2)"
   ]
  },
  {
   "cell_type": "code",
   "execution_count": 27,
   "id": "8786661c",
   "metadata": {},
   "outputs": [
    {
     "data": {
      "text/plain": [
       "{1, 2, 3, 4, 5, 6}"
      ]
     },
     "execution_count": 27,
     "metadata": {},
     "output_type": "execute_result"
    }
   ],
   "source": [
    "s2"
   ]
  },
  {
   "cell_type": "code",
   "execution_count": 28,
   "id": "3ec4b919",
   "metadata": {},
   "outputs": [
    {
     "data": {
      "text/plain": [
       "{1, 2, 3, 4, 5}"
      ]
     },
     "execution_count": 28,
     "metadata": {},
     "output_type": "execute_result"
    }
   ],
   "source": [
    "s1"
   ]
  },
  {
   "cell_type": "code",
   "execution_count": 29,
   "id": "b4c0a27d",
   "metadata": {},
   "outputs": [
    {
     "data": {
      "text/plain": [
       "False"
      ]
     },
     "execution_count": 29,
     "metadata": {},
     "output_type": "execute_result"
    }
   ],
   "source": [
    "s1.isdisjoint(s2)"
   ]
  },
  {
   "cell_type": "code",
   "execution_count": 30,
   "id": "81d46671",
   "metadata": {},
   "outputs": [
    {
     "data": {
      "text/plain": [
       "False"
      ]
     },
     "execution_count": 30,
     "metadata": {},
     "output_type": "execute_result"
    }
   ],
   "source": [
    "s2.isdisjoint(s1)"
   ]
  },
  {
   "cell_type": "code",
   "execution_count": 31,
   "id": "c7cfc5c0",
   "metadata": {},
   "outputs": [
    {
     "data": {
      "text/plain": [
       "False"
      ]
     },
     "execution_count": 31,
     "metadata": {},
     "output_type": "execute_result"
    }
   ],
   "source": [
    "s2.issubset(s1)"
   ]
  },
  {
   "cell_type": "code",
   "execution_count": 32,
   "id": "d3f4d205",
   "metadata": {},
   "outputs": [
    {
     "data": {
      "text/plain": [
       "True"
      ]
     },
     "execution_count": 32,
     "metadata": {},
     "output_type": "execute_result"
    }
   ],
   "source": [
    "s1.issubset(s2)"
   ]
  },
  {
   "cell_type": "code",
   "execution_count": 33,
   "id": "a35590cd",
   "metadata": {},
   "outputs": [
    {
     "data": {
      "text/plain": [
       "False"
      ]
     },
     "execution_count": 33,
     "metadata": {},
     "output_type": "execute_result"
    }
   ],
   "source": [
    "s1.issuperset(s2)"
   ]
  },
  {
   "cell_type": "code",
   "execution_count": 34,
   "id": "dabb3252",
   "metadata": {},
   "outputs": [
    {
     "data": {
      "text/plain": [
       "True"
      ]
     },
     "execution_count": 34,
     "metadata": {},
     "output_type": "execute_result"
    }
   ],
   "source": [
    "s2.issuperset(s1)"
   ]
  },
  {
   "cell_type": "code",
   "execution_count": 35,
   "id": "fabc9cb6",
   "metadata": {},
   "outputs": [
    {
     "data": {
      "text/plain": [
       "False"
      ]
     },
     "execution_count": 35,
     "metadata": {},
     "output_type": "execute_result"
    }
   ],
   "source": [
    "s2 < s1"
   ]
  },
  {
   "cell_type": "code",
   "execution_count": null,
   "id": "5e8c2791",
   "metadata": {},
   "outputs": [
    {
     "name": "stdout",
     "output_type": "stream",
     "text": [
      "True\n"
     ]
    }
   ],
   "source": [
    "print(s1 < s2)"
   ]
  },
  {
   "cell_type": "code",
   "execution_count": 39,
   "id": "3a9ebfbb",
   "metadata": {},
   "outputs": [],
   "source": [
    "s1 = {1,2,3,4,5,6,\"hisng\",\"true\"}"
   ]
  },
  {
   "cell_type": "code",
   "execution_count": 40,
   "id": "8fb21a51",
   "metadata": {},
   "outputs": [
    {
     "data": {
      "text/plain": [
       "1"
      ]
     },
     "execution_count": 40,
     "metadata": {},
     "output_type": "execute_result"
    }
   ],
   "source": [
    "s1.pop()\n"
   ]
  },
  {
   "cell_type": "code",
   "execution_count": 41,
   "id": "f67d2a1d",
   "metadata": {},
   "outputs": [
    {
     "data": {
      "text/plain": [
       "{2, 3, 4, 5, 6, 'hisng', 'true'}"
      ]
     },
     "execution_count": 41,
     "metadata": {},
     "output_type": "execute_result"
    }
   ],
   "source": [
    "s1"
   ]
  },
  {
   "cell_type": "code",
   "execution_count": 44,
   "id": "e859cd1e",
   "metadata": {},
   "outputs": [
    {
     "data": {
      "text/plain": [
       "2"
      ]
     },
     "execution_count": 44,
     "metadata": {},
     "output_type": "execute_result"
    }
   ],
   "source": [
    "s1.pop()"
   ]
  },
  {
   "cell_type": "code",
   "execution_count": 45,
   "id": "3b0adf0a",
   "metadata": {},
   "outputs": [],
   "source": [
    "s1.remove(\"hisng\")"
   ]
  },
  {
   "cell_type": "code",
   "execution_count": 46,
   "id": "d5c66dea",
   "metadata": {},
   "outputs": [
    {
     "data": {
      "text/plain": [
       "{3, 4, 5, 6, 'true'}"
      ]
     },
     "execution_count": 46,
     "metadata": {},
     "output_type": "execute_result"
    }
   ],
   "source": [
    "s1"
   ]
  },
  {
   "cell_type": "code",
   "execution_count": 47,
   "id": "07f88027",
   "metadata": {},
   "outputs": [
    {
     "data": {
      "text/plain": [
       "{1, 2, 'true'}"
      ]
     },
     "execution_count": 47,
     "metadata": {},
     "output_type": "execute_result"
    }
   ],
   "source": [
    "s1 ^ s2"
   ]
  },
  {
   "cell_type": "code",
   "execution_count": 48,
   "id": "cdb7820c",
   "metadata": {},
   "outputs": [
    {
     "data": {
      "text/plain": [
       "{1, 2, 3, 4, 5, 6}"
      ]
     },
     "execution_count": 48,
     "metadata": {},
     "output_type": "execute_result"
    }
   ],
   "source": [
    "s2"
   ]
  },
  {
   "cell_type": "code",
   "execution_count": 55,
   "id": "dc651e6e",
   "metadata": {},
   "outputs": [],
   "source": [
    "s1.symmetric_difference_update(s2)"
   ]
  },
  {
   "cell_type": "code",
   "execution_count": 56,
   "id": "4bafc864",
   "metadata": {},
   "outputs": [
    {
     "data": {
      "text/plain": [
       "{1, 2, 3, 4, 5, 6}"
      ]
     },
     "execution_count": 56,
     "metadata": {},
     "output_type": "execute_result"
    }
   ],
   "source": [
    "s2"
   ]
  },
  {
   "cell_type": "code",
   "execution_count": 57,
   "id": "7a313a5f",
   "metadata": {},
   "outputs": [],
   "source": [
    "s2.symmetric_difference_update(s1)"
   ]
  },
  {
   "cell_type": "code",
   "execution_count": 58,
   "id": "3ebcf5aa",
   "metadata": {},
   "outputs": [
    {
     "data": {
      "text/plain": [
       "{3, 4, 5, 6, 'true'}"
      ]
     },
     "execution_count": 58,
     "metadata": {},
     "output_type": "execute_result"
    }
   ],
   "source": [
    "s2"
   ]
  },
  {
   "cell_type": "code",
   "execution_count": 59,
   "id": "8e0d727b",
   "metadata": {},
   "outputs": [
    {
     "data": {
      "text/plain": [
       "{1, 2, 'true'}"
      ]
     },
     "execution_count": 59,
     "metadata": {},
     "output_type": "execute_result"
    }
   ],
   "source": [
    "s1"
   ]
  },
  {
   "cell_type": "code",
   "execution_count": 3,
   "id": "fc8ac799",
   "metadata": {},
   "outputs": [
    {
     "name": "stdout",
     "output_type": "stream",
     "text": [
      "{'#coding', '#python', '#datascience', '#Ai'}  -Duplicates are removed. \n"
     ]
    }
   ],
   "source": [
    " #Tags in Social Media\n",
    "\n",
    "hashtags = [\"#Ai\", \"#datascience\",\"#coding\",\"#Ai\",\"#python\",\"#python\"]\n",
    "\n",
    "Unique_tags = set(hashtags)\n",
    "\n",
    "print(Unique_tags,\" -Duplicates are removed. \")"
   ]
  },
  {
   "cell_type": "code",
   "execution_count": 6,
   "id": "fb1dada0",
   "metadata": {},
   "outputs": [
    {
     "name": "stdout",
     "output_type": "stream",
     "text": [
      "This items are missing :{'charger'}.\n",
      "This items are extra :{'cpu'}.\n"
     ]
    }
   ],
   "source": [
    "#2. Inventory Check – Missing or Extra Items.\n",
    "\n",
    "regular_items = {\"mouse\",\"keyboard\",\"monitor\",\"charger\"}\n",
    "\n",
    "acutal_items = {\"mouse\",\"monitor\",\"keyboard\",\"cpu\"}\n",
    "\n",
    "missing = regular_items - acutal_items # what is missing.\n",
    "\n",
    "extra_items = acutal_items - regular_items # what is extra.\n",
    "\n",
    "print(f\"This items are missing :{missing}.\")\n",
    "print(f\"This items are extra :{extra_items}.\")"
   ]
  },
  {
   "cell_type": "code",
   "execution_count": 7,
   "id": "7c182f0f",
   "metadata": {},
   "outputs": [],
   "source": [
    "\n",
    "original = {1, 2, 3}\n",
    "copy_set = original.copy()\n"
   ]
  },
  {
   "cell_type": "code",
   "execution_count": 8,
   "id": "ed439f63",
   "metadata": {},
   "outputs": [
    {
     "data": {
      "text/plain": [
       "{1, 2, 3}"
      ]
     },
     "execution_count": 8,
     "metadata": {},
     "output_type": "execute_result"
    }
   ],
   "source": [
    "copy_set"
   ]
  },
  {
   "cell_type": "code",
   "execution_count": 9,
   "id": "5da2e026",
   "metadata": {},
   "outputs": [
    {
     "name": "stdout",
     "output_type": "stream",
     "text": [
      "Original set: {1, 2, 3, 'a', 'b'}\n",
      "Copied set: {1, 2, 3, 'a', 'b'}\n",
      "Original set after modification: {1, 2, 3, 'a', 'b'}\n",
      "Copied set after modification: {1, 2, 3, 4, 'a', 'b'}\n"
     ]
    }
   ],
   "source": [
    "# Create an original set\n",
    "original_set = {1, 2, 3, 'a', 'b'}\n",
    "\n",
    "# Create a shallow copy using copy()\n",
    "copied_set = original_set.copy()\n",
    "\n",
    "\n",
    "print(f\"Original set: {original_set}\")\n",
    "print(f\"Copied set: {copied_set}\")\n",
    "\n",
    "# Modify the copied set\n",
    "copied_set.add(4)\n",
    "\n",
    "# Show that modifying the copied set does not affect the original set\n",
    "print(f\"Original set after modification: {original_set}\")\n",
    "print(f\"Copied set after modification: {copied_set}\")"
   ]
  },
  {
   "cell_type": "code",
   "execution_count": 10,
   "id": "f721f0df",
   "metadata": {},
   "outputs": [],
   "source": [
    "s1 = {1,2,3,4}\n",
    "s2 = s1"
   ]
  },
  {
   "cell_type": "code",
   "execution_count": 12,
   "id": "1ce2b095",
   "metadata": {},
   "outputs": [],
   "source": [
    "s2.add(5)"
   ]
  },
  {
   "cell_type": "code",
   "execution_count": 13,
   "id": "792cb978",
   "metadata": {},
   "outputs": [
    {
     "data": {
      "text/plain": [
       "{1, 2, 3, 4, 5}"
      ]
     },
     "execution_count": 13,
     "metadata": {},
     "output_type": "execute_result"
    }
   ],
   "source": [
    "s1"
   ]
  },
  {
   "cell_type": "code",
   "execution_count": 17,
   "id": "6a6035fa",
   "metadata": {},
   "outputs": [
    {
     "name": "stdout",
     "output_type": "stream",
     "text": [
      "True\n"
     ]
    }
   ],
   "source": [
    "emails = [\"a@gmail.com\", \"b@gmail.com\", \"a@gmail.com\"]\n",
    "print(len(emails) != len(set(emails)))\n"
   ]
  },
  {
   "cell_type": "code",
   "execution_count": 20,
   "id": "bb66eba4",
   "metadata": {},
   "outputs": [
    {
     "data": {
      "text/plain": [
       "3"
      ]
     },
     "execution_count": 20,
     "metadata": {},
     "output_type": "execute_result"
    }
   ],
   "source": [
    "len(emails)"
   ]
  },
  {
   "cell_type": "code",
   "execution_count": 19,
   "id": "e44e947b",
   "metadata": {},
   "outputs": [
    {
     "data": {
      "text/plain": [
       "2"
      ]
     },
     "execution_count": 19,
     "metadata": {},
     "output_type": "execute_result"
    }
   ],
   "source": [
    "len(set(emails))"
   ]
  },
  {
   "cell_type": "code",
   "execution_count": null,
   "id": "9013998a",
   "metadata": {},
   "outputs": [
    {
     "name": "stdout",
     "output_type": "stream",
     "text": [
      "Unique visitors: 2\n"
     ]
    }
   ],
   "source": [
    "ip_addresses = [\"192.168.0.1\", \"192.168.0.2\", \"192.168.0.1\"]\n",
    "unique_ips = set(ip_addresses)\n",
    "print(f\"Unique visitors: {len(unique_ips)}\")"
   ]
  },
  {
   "cell_type": "code",
   "execution_count": 22,
   "id": "ff4efd2d",
   "metadata": {},
   "outputs": [
    {
     "name": "stdout",
     "output_type": "stream",
     "text": [
      "{'shoes'}\n"
     ]
    }
   ],
   "source": [
    "user1 = {\"phone\", \"laptop\", \"shoes\"}\n",
    "user2 = {\"shoes\", \"camera\"}\n",
    "\n",
    "common_products = user1 & user2\n",
    "print(common_products)  # {'shoes'}\n"
   ]
  },
  {
   "cell_type": "code",
   "execution_count": 23,
   "id": "decd01aa",
   "metadata": {},
   "outputs": [
    {
     "name": "stdout",
     "output_type": "stream",
     "text": [
      "{'the', 'cat', 'on'}\n"
     ]
    }
   ],
   "source": [
    "text1 = set(\"the cat sat on the mat\".split())\n",
    "text2 = set(\"the cat lay on the rug\".split())\n",
    "\n",
    "similarity = text1 & text2\n",
    "print(similarity)  # {'on', 'the', 'cat'}\n"
   ]
  },
  {
   "cell_type": "code",
   "execution_count": 24,
   "id": "5cc526dd",
   "metadata": {},
   "outputs": [
    {
     "name": "stdout",
     "output_type": "stream",
     "text": [
      "Missing items: {'keyboard'}\n"
     ]
    }
   ],
   "source": [
    "expected = {\"mouse\", \"keyboard\", \"monitor\"}\n",
    "actual = {\"monitor\", \"mouse\"}\n",
    "\n",
    "missing = expected - actual\n",
    "print(f\"Missing items: {missing}\")  # {'keyboard'}\n"
   ]
  },
  {
   "cell_type": "code",
   "execution_count": 25,
   "id": "ca424851",
   "metadata": {},
   "outputs": [
    {
     "ename": "TypeError",
     "evalue": "unhashable type: 'list'",
     "output_type": "error",
     "traceback": [
      "\u001b[31m---------------------------------------------------------------------------\u001b[39m",
      "\u001b[31mTypeError\u001b[39m                                 Traceback (most recent call last)",
      "\u001b[36mCell\u001b[39m\u001b[36m \u001b[39m\u001b[32mIn[25]\u001b[39m\u001b[32m, line 2\u001b[39m\n\u001b[32m      1\u001b[39m s = \u001b[38;5;28mset\u001b[39m()\n\u001b[32m----> \u001b[39m\u001b[32m2\u001b[39m \u001b[43ms\u001b[49m\u001b[43m.\u001b[49m\u001b[43madd\u001b[49m\u001b[43m(\u001b[49m\u001b[43m[\u001b[49m\u001b[32;43m1\u001b[39;49m\u001b[43m,\u001b[49m\u001b[32;43m2\u001b[39;49m\u001b[43m]\u001b[49m\u001b[43m)\u001b[49m\n",
      "\u001b[31mTypeError\u001b[39m: unhashable type: 'list'"
     ]
    }
   ],
   "source": [
    "s = set()\n",
    "s.add([1,2])"
   ]
  },
  {
   "cell_type": "code",
   "execution_count": 26,
   "id": "456d2f0d",
   "metadata": {},
   "outputs": [
    {
     "name": "stdout",
     "output_type": "stream",
     "text": [
      "[0, 1, 2, 3, 4, 5, 6, 7, 8, 9]\n"
     ]
    }
   ],
   "source": [
    "# 1. Remove Duplicates from a List.\n",
    "\n",
    "def remove_duplicates(nums):\n",
    "    return list(set(nums))\n",
    "\n",
    "nums = [1,2,3,4,4,4,5,5,6,7,7,6,8,9,9,9,0]\n",
    "\n",
    "f = remove_duplicates(nums)\n",
    "\n",
    "print(f)\n"
   ]
  },
  {
   "cell_type": "code",
   "execution_count": 36,
   "id": "f65a6ae6",
   "metadata": {},
   "outputs": [
    {
     "name": "stdout",
     "output_type": "stream",
     "text": [
      "True {0, 1, 2, 3, 4, 5, 6, 7, 8, 9}\n"
     ]
    }
   ],
   "source": [
    "# 2. Check for Duplicates.\n",
    "\n",
    "def contains_duplicate(nums):\n",
    "    return len(nums) != len(set(nums))\n",
    "\n",
    "\n",
    "nums = [1,2,3,4,4,4,5,5,6,7,7,6,8,9,9,9,0]\n",
    "\n",
    "result = contains_duplicate(nums)\n",
    "\n",
    "print(result, set(nums))"
   ]
  },
  {
   "cell_type": "code",
   "execution_count": 39,
   "id": "015ccaee",
   "metadata": {},
   "outputs": [
    {
     "name": "stdout",
     "output_type": "stream",
     "text": [
      "True\n"
     ]
    }
   ],
   "source": [
    "# 3. Unique Elements in a String.\n",
    "\n",
    "def is_unique(name_str):\n",
    "    return len(name_str) == len(set(name_str))\n",
    "\n",
    "name_str = \"Vishnu\"\n",
    "\n",
    "res = is_unique(name_str)\n",
    "\n",
    "print(res)\n"
   ]
  },
  {
   "cell_type": "code",
   "execution_count": 41,
   "id": "cbb1ecf3",
   "metadata": {},
   "outputs": [
    {
     "name": "stdout",
     "output_type": "stream",
     "text": [
      "([1, 2, 3, 4, 5, 6], [3, 4])\n"
     ]
    }
   ],
   "source": [
    "# 4. Union and Intersection of Two Lists.\n",
    "\n",
    "def union_and_intersection(a, b):\n",
    "    set_a = set(a)\n",
    "    set_b = set(b)\n",
    "\n",
    "    return list(set_a | set_b), list(set_a & set_b)\n",
    "\n",
    "\n",
    "a = [1,2,3,4]\n",
    "b = [3,4,5,6]\n",
    "\n",
    "res = union_and_intersection(a, b)\n",
    "print(res)"
   ]
  },
  {
   "cell_type": "code",
   "execution_count": null,
   "id": "8114cdca",
   "metadata": {},
   "outputs": [
    {
     "name": "stdout",
     "output_type": "stream",
     "text": [
      "[1, 2]\n"
     ]
    }
   ],
   "source": [
    "# list difference.\n",
    "\n",
    "def list_difference(a, b):\n",
    "    return list(set(a).difference(set(b)))\n",
    "    \n",
    "\n",
    "\n",
    "a = [1,2,3,4]\n",
    "b = [3,4,5,6]\n",
    "\n",
    "res = list_difference(a, b)\n",
    "print(res)\n"
   ]
  },
  {
   "cell_type": "code",
   "execution_count": 46,
   "id": "0df07d48",
   "metadata": {},
   "outputs": [
    {
     "name": "stdout",
     "output_type": "stream",
     "text": [
      "1\n"
     ]
    }
   ],
   "source": [
    "#6. First Repeating Element\n",
    "#Problem:\n",
    "#Return the first repeating element in a list.\n",
    "\n",
    "def first_repeating_element(nums):\n",
    "    seen = set()\n",
    "    for num in nums:\n",
    "        if num in seen:\n",
    "            return num\n",
    "        seen.add(num)\n",
    "    return None\n",
    "\n",
    "nums = [0, 1, 1, 2, 2, 3, 4, 5, 6, 7, 8, 9]\n",
    "\n",
    "res = first_repeating_element(nums)\n",
    "\n",
    "print(res)"
   ]
  },
  {
   "cell_type": "code",
   "execution_count": 47,
   "id": "33c9509e",
   "metadata": {},
   "outputs": [
    {
     "name": "stdout",
     "output_type": "stream",
     "text": [
      "[10, 11]\n"
     ]
    }
   ],
   "source": [
    "#7. Find Missing Number\n",
    "#Problem:\n",
    "#Find missing number in the range 1 to n.\n",
    "\n",
    "def find_missing(nums, n):\n",
    "    return list(set(range(1, n+1)) - set(nums))\n",
    "\n",
    "nums = [0, 1, 1, 2, 2, 3, 4, 5, 6, 7, 8, 9]\n",
    "\n",
    "n = 11\n",
    "\n",
    "res = find_missing(nums, n)\n",
    "\n",
    "print(res)\n",
    "\n"
   ]
  },
  {
   "cell_type": "code",
   "execution_count": 49,
   "id": "4578fd54",
   "metadata": {},
   "outputs": [
    {
     "name": "stdout",
     "output_type": "stream",
     "text": [
      "[10, 11, 12, 13, 14, 15, 16, 17, 18, 19, 20]\n"
     ]
    }
   ],
   "source": [
    "nums = [0, 1, 1, 2, 2, 3, 4, 5, 6, 7, 8, 9]\n",
    "\n",
    "n = 20\n",
    "\n",
    "res = find_missing(nums, n)\n",
    "\n",
    "print(res)"
   ]
  },
  {
   "cell_type": "code",
   "execution_count": null,
   "id": "d0261883",
   "metadata": {},
   "outputs": [],
   "source": [
    "#8. Two Sum Exists\n",
    "#Problem:\n",
    "#Return True if two numbers add up to target.\n",
    "\n",
    "def has_pair_with_sum(nums, target):\n",
    "    seen = set()\n",
    "    for i in nums:\n",
    "        if target - i in seen:\n",
    "            return True\n",
    "        seen.add(i)\n",
    "    return False"
   ]
  },
  {
   "cell_type": "code",
   "execution_count": 56,
   "id": "bbc28c16",
   "metadata": {},
   "outputs": [
    {
     "name": "stdout",
     "output_type": "stream",
     "text": [
      "True\n"
     ]
    }
   ],
   "source": [
    "nums =  [10, 11, 12, 13, 14, 15, 16, 17, 18, 19, 20]\n",
    "\n",
    "target = 35\n",
    "\n",
    "result = has_pair_with_sum(nums, target)\n",
    "\n",
    "print(result)\n"
   ]
  },
  {
   "cell_type": "code",
   "execution_count": 60,
   "id": "280cb870",
   "metadata": {},
   "outputs": [
    {
     "name": "stdout",
     "output_type": "stream",
     "text": [
      "{3, 4}\n"
     ]
    }
   ],
   "source": [
    "# 9. Common Elements Across Multiple Lists\n",
    "# Problem:\n",
    "# Find common elements in all lists.\n",
    "\n",
    "def commom_elements(lists):\n",
    "    return set.intersection(*map(set, lists))\n",
    "\n",
    "lists = [\n",
    "    [1,2,4,3],\n",
    "    [3,4,5,6],\n",
    "    [4,3,6,7]\n",
    "]\n",
    "\n",
    "\n",
    "result = commom_elements(lists)\n",
    "\n",
    "print(result)"
   ]
  },
  {
   "cell_type": "code",
   "execution_count": 61,
   "id": "ddd4109c",
   "metadata": {},
   "outputs": [],
   "source": [
    "# 10. Unique Emails (from Gmail formatting rule)\n",
    "# Problem:\n",
    "# Ignore dots . and part after + in emails to find unique emails.\n",
    "\n",
    "def unique_emails(emails):\n",
    "    cleaned = set()\n",
    "    for email in emails:\n",
    "        local, domain = email.split(\"@\")\n",
    "        local = local.split('+')[0].replace('.','')\n",
    "        cleaned.add(local + '@'+domain)\n",
    "    return len(cleaned)"
   ]
  },
  {
   "cell_type": "code",
   "execution_count": 66,
   "id": "9d1e20b5",
   "metadata": {},
   "outputs": [
    {
     "name": "stdout",
     "output_type": "stream",
     "text": [
      "5\n"
     ]
    }
   ],
   "source": [
    "emails = ['x1t5m9q7z0@example.com',\n",
    "'n8y6gk3wq@gmail.com','n9y6gk3wq@gmail.com','s4b7zv1l@yahoo.com',\n",
    "'jd9e7x5m@outlook.com','n8y6gk3wq@gmail.com','n8y6gk3wq@gmail.com']\n",
    "\n",
    "result = (unique_emails(emails))\n",
    "\n",
    "print(result)"
   ]
  },
  {
   "cell_type": "code",
   "execution_count": 75,
   "id": "a938e1e3",
   "metadata": {},
   "outputs": [
    {
     "data": {
      "text/plain": [
       "{(4, 16), (5, 15), (6, 14), (7, 13), (8, 12), (9, 11)}"
      ]
     },
     "execution_count": 75,
     "metadata": {},
     "output_type": "execute_result"
    }
   ],
   "source": [
    "# 11. find all pairs with given sum\n",
    "## problem: return all unique pairs(i, j) such that i + j == target.\n",
    "\n",
    "def find_pairs(nums, target):\n",
    "    seen = set()\n",
    "    result = set()\n",
    "    for num in nums:\n",
    "        if target - num in seen:\n",
    "            \n",
    "            result.add(tuple(sorted((num, target - num))))\n",
    "        seen.add(num)\n",
    "    return result\n",
    "\n",
    "nums = [1,2,3,4,5,11,12,13,14,9,8,7,6,15,16]\n",
    "\n",
    "target = 20\n",
    "\n",
    "result = find_pairs(nums, target)\n",
    "\n",
    "result"
   ]
  },
  {
   "cell_type": "code",
   "execution_count": 91,
   "id": "c83fd8f0",
   "metadata": {},
   "outputs": [
    {
     "name": "stdout",
     "output_type": "stream",
     "text": [
      "(5, 1)\n"
     ]
    }
   ],
   "source": [
    "# 12. longest consecutive sequence\n",
    "## asked in : Amazon and google\n",
    "\n",
    "def longest_consecutive(nusm):\n",
    "    num_set = set(nums)\n",
    "    longest = 0\n",
    "    for n in num_set:\n",
    "        if n -1 not in num_set:\n",
    "            length = 1\n",
    "            while n + length in num_set:\n",
    "                length += 1\n",
    "            longest = max(longest, length)\n",
    "    return longest , length\n",
    "\n",
    "nums = [122121,22,11,2331,13,14,15,16,17]\n",
    "\n",
    "result1 = longest_consecutive(nums)\n",
    "\n",
    "print(result1)\n"
   ]
  },
  {
   "cell_type": "code",
   "execution_count": 85,
   "id": "de1d820e",
   "metadata": {},
   "outputs": [
    {
     "name": "stdout",
     "output_type": "stream",
     "text": [
      "{11, 13, 14, 15, 16, 17, 12212, 22, 2331}\n"
     ]
    }
   ],
   "source": [
    "num_set = set(nums)\n",
    "print(num_set)"
   ]
  },
  {
   "cell_type": "code",
   "execution_count": 86,
   "id": "b5acd445",
   "metadata": {},
   "outputs": [
    {
     "data": {
      "text/plain": [
       "10"
      ]
     },
     "execution_count": 86,
     "metadata": {},
     "output_type": "execute_result"
    }
   ],
   "source": [
    "11 - 1"
   ]
  },
  {
   "cell_type": "code",
   "execution_count": 87,
   "id": "36c51c4f",
   "metadata": {},
   "outputs": [
    {
     "data": {
      "text/plain": [
       "12"
      ]
     },
     "execution_count": 87,
     "metadata": {},
     "output_type": "execute_result"
    }
   ],
   "source": [
    "11 + 1"
   ]
  },
  {
   "cell_type": "code",
   "execution_count": null,
   "id": "327ce586",
   "metadata": {},
   "outputs": [],
   "source": []
  }
 ],
 "metadata": {
  "kernelspec": {
   "display_name": "Python 3",
   "language": "python",
   "name": "python3"
  },
  "language_info": {
   "codemirror_mode": {
    "name": "ipython",
    "version": 3
   },
   "file_extension": ".py",
   "mimetype": "text/x-python",
   "name": "python",
   "nbconvert_exporter": "python",
   "pygments_lexer": "ipython3",
   "version": "3.13.3"
  }
 },
 "nbformat": 4,
 "nbformat_minor": 5
}
