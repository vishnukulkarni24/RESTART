{
 "cells": [
  {
   "cell_type": "markdown",
   "id": "175f2e49-cd9b-488c-bf84-21f24a00acd5",
   "metadata": {},
   "source": [
    "# functions\n"
   ]
  },
  {
   "cell_type": "code",
   "execution_count": 2,
   "id": "ce69e78f-0775-4bba-b10d-25ee5cd11152",
   "metadata": {},
   "outputs": [
    {
     "name": "stdin",
     "output_type": "stream",
     "text": [
      "Enter number 4\n"
     ]
    },
    {
     "name": "stdout",
     "output_type": "stream",
     "text": [
      ".net\n",
      ".net\n",
      ".net\n",
      ".net\n"
     ]
    }
   ],
   "source": [
    "n = int(input(\"Enter number\"))\n",
    "val = \".net\"\n",
    "for i in range(n):\n",
    "    print(val)"
   ]
  },
  {
   "cell_type": "code",
   "execution_count": 6,
   "id": "c9c55183-d72d-4e31-858a-3c0bf38be923",
   "metadata": {},
   "outputs": [
    {
     "data": {
      "text/plain": [
       "180"
      ]
     },
     "execution_count": 6,
     "metadata": {},
     "output_type": "execute_result"
    }
   ],
   "source": [
    "p = 20 \n",
    "q = 30\n",
    "\n",
    "fx = 3 * p + 4 *q\n",
    "fx"
   ]
  },
  {
   "cell_type": "markdown",
   "id": "4195dd97-6faa-486e-a3e5-3963beba3b6a",
   "metadata": {},
   "source": [
    "# Functions :-\n",
    "- Functions are an orgnized block of resuable code.\n",
    "- Functions will execute only when it is called.\n",
    "- Function are defined by the keyword.\n",
    "- Function name should follow the identifier rule.\n",
    "- def func_name() -> Define a function.\n",
    "- func_name() -> call a function."
   ]
  },
  {
   "cell_type": "markdown",
   "id": "f03511ca-9e16-4a33-be5a-b802b30f7b77",
   "metadata": {},
   "source": [
    "# Syntax :\n"
   ]
  },
  {
   "cell_type": "raw",
   "id": "7ed30f63-9110-4d5a-ada1-3eb756bf5c20",
   "metadata": {},
   "source": [
    "def func_name(): # Defining a function \n",
    "    - statement - 1\n",
    "    - statement - 2\n",
    "    - statement - 3\n",
    "    - statement - 4\n",
    "        .\n",
    "        .\n",
    "    statement - n\n",
    "\n",
    "func_name() # calling a function"
   ]
  },
  {
   "cell_type": "code",
   "execution_count": 14,
   "id": "6cd37623-3f6b-4edf-92ca-a1dde224d9b9",
   "metadata": {},
   "outputs": [],
   "source": [
    "def hello_world_function(): # Definition of hello_world_function\n",
    "    print(\"Hello world using function\")\n",
    "    "
   ]
  },
  {
   "cell_type": "code",
   "execution_count": 18,
   "id": "36682945-4763-4639-8d3d-6f07e12b844b",
   "metadata": {},
   "outputs": [
    {
     "name": "stdout",
     "output_type": "stream",
     "text": [
      "Hello world using function\n"
     ]
    }
   ],
   "source": [
    "hello_world_function()"
   ]
  },
  {
   "cell_type": "code",
   "execution_count": 20,
   "id": "db7608a3-512f-4975-9b41-cda3769f2880",
   "metadata": {},
   "outputs": [
    {
     "name": "stdout",
     "output_type": "stream",
     "text": [
      "Hello world using function\n"
     ]
    }
   ],
   "source": [
    "hello_world_function()"
   ]
  },
  {
   "cell_type": "code",
   "execution_count": 22,
   "id": "77d0c3fc-de2a-4d69-bdcd-7769b2d42d92",
   "metadata": {},
   "outputs": [
    {
     "name": "stdout",
     "output_type": "stream",
     "text": [
      "Hello world using function\n"
     ]
    }
   ],
   "source": [
    "hello_world_function()"
   ]
  },
  {
   "cell_type": "code",
   "execution_count": 24,
   "id": "4c2e5a5c-c244-49f4-9eb8-c3c56c821ff8",
   "metadata": {},
   "outputs": [],
   "source": [
    "def hello_world_function(): # Definition of hello_world_function\n",
    "    print(\"Hello World using function\")\n",
    "    print(\"We are in the hello world function\")"
   ]
  },
  {
   "cell_type": "code",
   "execution_count": 26,
   "id": "6f62ef67-ba07-483e-b19b-794f1063aac4",
   "metadata": {},
   "outputs": [
    {
     "name": "stdout",
     "output_type": "stream",
     "text": [
      "Hello World using function\n",
      "We are in the hello world function\n"
     ]
    }
   ],
   "source": [
    "hello_world_function()"
   ]
  },
  {
   "cell_type": "code",
   "execution_count": 28,
   "id": "d477f0c8-c0f4-457a-8faf-574700156074",
   "metadata": {},
   "outputs": [
    {
     "name": "stdout",
     "output_type": "stream",
     "text": [
      "Hello World using function\n",
      "We are in the hello world function\n"
     ]
    }
   ],
   "source": [
    "hello_world_function()"
   ]
  },
  {
   "cell_type": "code",
   "execution_count": 34,
   "id": "3bfeff9d-50d7-4531-ab88-b4a0568ad44b",
   "metadata": {},
   "outputs": [],
   "source": [
    "def hello_world_function():\n",
    "    print(\"Hello World using function.\")\n",
    "    print(\"We are in the hello world function.\")\n",
    "    print(\"*\"*35)"
   ]
  },
  {
   "cell_type": "code",
   "execution_count": 36,
   "id": "06b37e0b-1213-4ecc-b74f-2960ae981a41",
   "metadata": {},
   "outputs": [
    {
     "name": "stdout",
     "output_type": "stream",
     "text": [
      "Hello World using function.\n",
      "We are in the hello world function.\n",
      "***********************************\n"
     ]
    }
   ],
   "source": [
    "hello_world_function()"
   ]
  },
  {
   "cell_type": "code",
   "execution_count": 38,
   "id": "ad86a229-ab3b-4a54-8459-7c3c88e0cc05",
   "metadata": {},
   "outputs": [
    {
     "name": "stdout",
     "output_type": "stream",
     "text": [
      "Hello World using function\n",
      "We are in the hello world function\n",
      "***********************************\n",
      "Hello World using function\n",
      "We are in the hello world function\n",
      "***********************************\n",
      "Hello World using function\n",
      "We are in the hello world function\n",
      "***********************************\n",
      "Hello World using function\n",
      "We are in the hello world function\n",
      "***********************************\n"
     ]
    }
   ],
   "source": [
    "print(\"Hello World using function\")\n",
    "print(\"We are in the hello world function\")\n",
    "print(\"*\"*35)\n",
    "print(\"Hello World using function\")\n",
    "print(\"We are in the hello world function\")\n",
    "print(\"*\"*35)\n",
    "print(\"Hello World using function\")\n",
    "print(\"We are in the hello world function\")\n",
    "print(\"*\"*35)\n",
    "print(\"Hello World using function\")\n",
    "print(\"We are in the hello world function\")\n",
    "print(\"*\"*35)"
   ]
  },
  {
   "cell_type": "code",
   "execution_count": 40,
   "id": "9feada29-05c5-48a5-84f1-c280f7e50818",
   "metadata": {},
   "outputs": [],
   "source": [
    "def Myfunc():\n",
    "    print(\"Learning Functions.\")"
   ]
  },
  {
   "cell_type": "code",
   "execution_count": 42,
   "id": "40c57972-8c4d-498a-9bfb-4a9fe9fe7023",
   "metadata": {},
   "outputs": [
    {
     "name": "stdout",
     "output_type": "stream",
     "text": [
      "Learning Functions.\n"
     ]
    }
   ],
   "source": [
    "Myfunc()"
   ]
  },
  {
   "cell_type": "code",
   "execution_count": 44,
   "id": "c72e7778-1fb2-44a9-87fb-377f7f37e8e9",
   "metadata": {},
   "outputs": [],
   "source": [
    "def MyFunc(): # Definition of the function\n",
    "    print(\"Learning Functions\")"
   ]
  },
  {
   "cell_type": "code",
   "execution_count": 46,
   "id": "3344ca62-be61-4d7f-9f17-fb0383fcffee",
   "metadata": {},
   "outputs": [
    {
     "name": "stdout",
     "output_type": "stream",
     "text": [
      "Learning Functions\n"
     ]
    }
   ],
   "source": [
    "MyFunc()"
   ]
  },
  {
   "cell_type": "code",
   "execution_count": 48,
   "id": "2570ec59-023a-43bc-9204-9b8ecebdf89a",
   "metadata": {},
   "outputs": [
    {
     "name": "stdout",
     "output_type": "stream",
     "text": [
      "Learning Functions\n",
      "Learning Functions\n",
      "Learning Functions\n",
      "Learning Functions\n",
      "Learning Functions\n"
     ]
    }
   ],
   "source": [
    "MyFunc()\n",
    "MyFunc()\n",
    "MyFunc()\n",
    "MyFunc()\n",
    "MyFunc()"
   ]
  },
  {
   "cell_type": "code",
   "execution_count": 50,
   "id": "b6486dc5-75ad-412f-ba03-08665433ee9c",
   "metadata": {},
   "outputs": [
    {
     "name": "stdout",
     "output_type": "stream",
     "text": [
      "Lower cased string python and data science\n",
      "Splited List ['python', 'and', 'data', 'science']\n",
      "\n",
      "\n",
      "Lower cased string machine learning\n",
      "Splited List ['machine', 'learning']\n",
      "\n",
      "\n",
      "Lower cased string natural language processing\n",
      "Splited List ['natural', 'language', 'processing']\n"
     ]
    }
   ],
   "source": [
    "str1 = \"Python And Data Science\"\n",
    "str1 = str1.lower()\n",
    "print(f\"Lower cased string {str1}\")\n",
    "li1 = str1.split()\n",
    "print(f\"Splited List {li1}\")\n",
    "print()\n",
    "print()\n",
    "str2 = \"Machine Learning\"\n",
    "str2 = str2.lower()\n",
    "print(f\"Lower cased string {str2}\")\n",
    "li2 = str2.split()\n",
    "print(f\"Splited List {li2}\")\n",
    "print()\n",
    "print()\n",
    "str3 = \"Natural Language Processing\"\n",
    "str3 = str3.lower()\n",
    "print(f\"Lower cased string {str3}\")\n",
    "li3 = str3.split()\n",
    "print(f\"Splited List {li3}\")"
   ]
  },
  {
   "cell_type": "code",
   "execution_count": 52,
   "id": "4cf881e6-0e39-4f37-a701-f3270b03cc37",
   "metadata": {},
   "outputs": [
    {
     "name": "stdout",
     "output_type": "stream",
     "text": [
      "Lower cased string :- natural language processing\n",
      "Splited List :- ['natural', 'language', 'processing']\n"
     ]
    }
   ],
   "source": [
    "def SplitString():\n",
    "    string = \"Natural Language Processing\"\n",
    "    string = string.lower()\n",
    "    print(f\"Lower cased string :- {string}\")\n",
    "    li = string.split()\n",
    "    print(f\"Splited List :- {li}\")\n",
    "    \n",
    "SplitString()  "
   ]
  },
  {
   "cell_type": "code",
   "execution_count": 56,
   "id": "bd1c009b-7ed5-4fc0-b7eb-4d213aa9e7a3",
   "metadata": {},
   "outputs": [
    {
     "name": "stdout",
     "output_type": "stream",
     "text": [
      "Lower cased string :- natural language processing\n",
      "Splited List :- ['natural', 'language', 'processing']\n"
     ]
    }
   ],
   "source": [
    "def SplitString():\n",
    "    string = \"Natural Language Processing\"\n",
    "    string = string.lower()\n",
    "    print(f\"Lower cased string :- {string}\")\n",
    "    li = string.split()\n",
    "    print(f\"Splited List :- {li}\")\n",
    "\n",
    "SplitString()"
   ]
  },
  {
   "cell_type": "code",
   "execution_count": 58,
   "id": "f4afc60d-c749-44ad-abe0-7676b9b2d10b",
   "metadata": {},
   "outputs": [
    {
     "data": {
      "text/plain": [
       "[5]"
      ]
     },
     "execution_count": 58,
     "metadata": {},
     "output_type": "execute_result"
    }
   ],
   "source": [
    "li = []\n",
    "li.append(5)\n",
    "li"
   ]
  },
  {
   "cell_type": "code",
   "execution_count": 62,
   "id": "85092519-245c-4886-8b3b-2633f6fccc69",
   "metadata": {},
   "outputs": [
    {
     "name": "stdout",
     "output_type": "stream",
     "text": [
      "Lower cased string :- machine learning\n",
      "splited List:- ['machine', 'learning']\n"
     ]
    }
   ],
   "source": [
    "def SplitString(string):\n",
    "    string = string.lower()\n",
    "    print(f\"Lower cased string :- {string}\")\n",
    "    li = string.split()\n",
    "    print(f\"splited List:- {li}\")\n",
    "\n",
    "\n",
    "SplitString(\"Machine Learning\")"
   ]
  },
  {
   "cell_type": "code",
   "execution_count": 64,
   "id": "1b960f76-4ac9-4f1f-98e8-4b0e49743092",
   "metadata": {},
   "outputs": [
    {
     "name": "stdout",
     "output_type": "stream",
     "text": [
      "Lower cased string :- natural language processing.\n",
      "splited List:- ['natural', 'language', 'processing.']\n"
     ]
    }
   ],
   "source": [
    "SplitString(\"Natural Language Processing.\")"
   ]
  },
  {
   "cell_type": "code",
   "execution_count": 66,
   "id": "efa9c6a0-43d3-4929-8fd8-0ad76630f9c4",
   "metadata": {},
   "outputs": [
    {
     "name": "stdout",
     "output_type": "stream",
     "text": [
      "Lower cased string :- deep learning.\n",
      "splited List:- ['deep', 'learning.']\n"
     ]
    }
   ],
   "source": [
    "SplitString(\"Deep Learning.\")"
   ]
  },
  {
   "cell_type": "code",
   "execution_count": 68,
   "id": "35a68b00-2b74-480c-87ad-8195a9832f86",
   "metadata": {},
   "outputs": [
    {
     "name": "stdout",
     "output_type": "stream",
     "text": [
      "Lower cased string :- artificial intel\n",
      "splited List:- ['artificial', 'intel']\n"
     ]
    }
   ],
   "source": [
    "SplitString(\"Artificial Intel\")"
   ]
  },
  {
   "cell_type": "code",
   "execution_count": 80,
   "id": "62491cca-475b-4afa-b975-0f43720d3a0c",
   "metadata": {},
   "outputs": [
    {
     "name": "stdout",
     "output_type": "stream",
     "text": [
      "Lower cased string :- machine learning.\n",
      "Splited List :- ['machine', 'learning.']\n",
      "**************************************************\n",
      "\n",
      "Lower cased string :- natural language processing\n",
      "Splited List :- ['natural', 'language', 'processing']\n",
      "**************************************************\n",
      "\n",
      "Lower cased string :- deep learning\n",
      "Splited List :- ['deep', 'learning']\n",
      "**************************************************\n",
      "\n",
      "Lower cased string :- data science\n",
      "Splited List :- ['data', 'science']\n",
      "**************************************************\n",
      "\n"
     ]
    }
   ],
   "source": [
    "def SplitString(string):\n",
    "    string = string.lower()\n",
    "    print(f\"Lower cased string :- {string}\")\n",
    "    li = string.split()\n",
    "    print(f\"Splited List :- {li}\")\n",
    "    print(\"*\" *50)\n",
    "    print()\n",
    "\n",
    "str1 = \"Machine Learning.\"\n",
    "str2 = \"Natural Language Processing\"\n",
    "str3 = \"Deep Learning\"\n",
    "str4 = \"Data Science\"\n",
    "\n",
    "SplitString(str1)\n",
    "SplitString(str2)\n",
    "SplitString(str3)\n",
    "SplitString(str4)"
   ]
  },
  {
   "cell_type": "code",
   "execution_count": 88,
   "id": "a0ff71f7-c54e-4fbb-9a13-1450a1485bac",
   "metadata": {},
   "outputs": [
    {
     "name": "stdout",
     "output_type": "stream",
     "text": [
      "Lower Cased string :- machine learning\n",
      "Splited List :- ['Machine', 'Learning']\n",
      "Join str :- MachineLearning\n",
      "****************************************\n",
      "\n",
      "Lower Cased string :- natural language processing\n",
      "Splited List :- ['Natural', 'Language', 'Processing']\n",
      "Join str :- NaturalLanguageProcessing\n",
      "****************************************\n",
      "\n",
      "Lower Cased string :- deep learning\n",
      "Splited List :- ['Deep', 'Learning']\n",
      "Join str :- DeepLearning\n",
      "****************************************\n",
      "\n",
      "Lower Cased string :- data science\n",
      "Splited List :- ['Data', 'Science']\n",
      "Join str :- DataScience\n",
      "****************************************\n",
      "\n"
     ]
    }
   ],
   "source": [
    "def SplitString(string):\n",
    "    print(f\"Lower Cased string :- {string.lower()}\")\n",
    "    print(f\"Splited List :- {string.split()}\")\n",
    "    print(f\"Join str :- {''.join(string.split())}\")\n",
    "    print(\"*\" * 40)\n",
    "    print()\n",
    "\n",
    "str1 = \"Machine Learning\"\n",
    "str2 = \"Natural Language Processing\"\n",
    "str3 = \"Deep Learning\"\n",
    "str4 = \"Data Science\"\n",
    "\n",
    "SplitString(str1)\n",
    "SplitString(str2)\n",
    "SplitString(str3)\n",
    "SplitString(str4)"
   ]
  },
  {
   "cell_type": "raw",
   "id": "15f40405-6e2d-4529-932d-a3c708853976",
   "metadata": {},
   "source": [
    "def func(param1, padram2):\n",
    "    print(\"Logic\")\n",
    "\n",
    "funct(arg1, arg2) #Number of arguments\n",
    "Number of parameters"
   ]
  },
  {
   "cell_type": "code",
   "execution_count": 90,
   "id": "af0205d1-342b-409c-b811-5528389180cd",
   "metadata": {},
   "outputs": [
    {
     "ename": "SyntaxError",
     "evalue": "unterminated f-string literal (detected at line 4) (4121021231.py, line 4)",
     "output_type": "error",
     "traceback": [
      "\u001b[1;36m  Cell \u001b[1;32mIn[90], line 4\u001b[1;36m\u001b[0m\n\u001b[1;33m    print(f\"joined str :- {''.join(string.split())})\u001b[0m\n\u001b[1;37m          ^\u001b[0m\n\u001b[1;31mSyntaxError\u001b[0m\u001b[1;31m:\u001b[0m unterminated f-string literal (detected at line 4)\n"
     ]
    }
   ],
   "source": [
    "def SplitString(sttring):\n",
    "    print(f\"Lower cased string : {string.lower()}\")\n",
    "    print(f\"Slited List :- {string.split()}\")\n",
    "    print(f\"joined str :- {''.join(string.split())})\n",
    "    print(\"*\" * 60)\n",
    "\n",
    "\n",
    "str1 = \"Machine Learning.\"\n",
    "str2 = \"Vishnu Kulkarni.\"\n",
    "str3 = \"Ameay Joshi.\"\n",
    "str4 = \"Python Coding.\"\n",
    "\n",
    "\n",
    "SplitString(str1, str2)"
   ]
  },
  {
   "cell_type": "code",
   "execution_count": 92,
   "id": "4e9fe38c-7b73-4c58-ab39-3b5dfc2ac4c0",
   "metadata": {},
   "outputs": [
    {
     "name": "stdout",
     "output_type": "stream",
     "text": [
      "Lower Cased string :- machine learning\n",
      "Splited List :- ['Machine', 'Learning']\n",
      "Join str :- MachineLearning\n",
      "****************************************\n",
      "\n",
      "Lower Cased string :- natural language processing\n",
      "Splited List :- ['Natural', 'Language', 'Processing']\n",
      "Join str :- NaturalLanguageProcessing\n",
      "****************************************\n",
      "\n",
      "Lower Cased string :- deep learning\n",
      "Splited List :- ['Deep', 'Learning']\n",
      "Join str :- DeepLearning\n",
      "****************************************\n",
      "\n",
      "Lower Cased string :- data science\n",
      "Splited List :- ['Data', 'Science']\n",
      "Join str :- DataScience\n",
      "****************************************\n",
      "\n"
     ]
    }
   ],
   "source": [
    "SplitString(str1)\n",
    "SplitString(str2)\n",
    "SplitString(str3)\n",
    "SplitString(str4)"
   ]
  },
  {
   "cell_type": "code",
   "execution_count": 108,
   "id": "513c8457-44a3-42b8-9085-d7154fcf750c",
   "metadata": {},
   "outputs": [
    {
     "ename": "SyntaxError",
     "evalue": "unterminated f-string literal (detected at line 4) (1942320412.py, line 4)",
     "output_type": "error",
     "traceback": [
      "\u001b[1;36m  Cell \u001b[1;32mIn[108], line 4\u001b[1;36m\u001b[0m\n\u001b[1;33m    print(f\"joined str :- {''.join(string.split())})\u001b[0m\n\u001b[1;37m          ^\u001b[0m\n\u001b[1;31mSyntaxError\u001b[0m\u001b[1;31m:\u001b[0m unterminated f-string literal (detected at line 4)\n"
     ]
    }
   ],
   "source": [
    "def SplitString(sttring, strn):\n",
    "    print(f\"Lower cased string : {string.lower()}\")\n",
    "    print(f\"Slited List :- {string.split()}\")\n",
    "    print(f\"joined str :- {''.join(string.split())})\n",
    "    print(\"*\" * 60)\n",
    "\n",
    "\n",
    "str1 = \"Machine Learning.\"\n",
    "str2 = \"Vishnu Kulkarni.\"\n",
    "str3 = \"Ameay Joshi.\"\n",
    "str4 = \"Python Coding.\"\n",
    "\n",
    "\n",
    "SplitString(str1,2)"
   ]
  },
  {
   "cell_type": "code",
   "execution_count": 110,
   "id": "30455275-9413-4e20-87f1-2ab49e297a0c",
   "metadata": {},
   "outputs": [
    {
     "name": "stdout",
     "output_type": "stream",
     "text": [
      "Lower cased string :- machine learning\n",
      "Splited List :- ['Machine', 'Learning']\n",
      "Joined str :- MachineLearning\n",
      "String n value 2\n",
      "***********************************\n"
     ]
    }
   ],
   "source": [
    "def SplitString(string,strn):\n",
    "    print(f\"Lower cased string :- {string.lower()}\")\n",
    "    print(f\"Splited List :- {string.split()}\")\n",
    "    print(f\"Joined str :- {''.join(string.split())}\")\n",
    "    print(f\"String n value :- {strn}\")\n",
    "    print(\"*\"*35)\n",
    "\n",
    "\n",
    "str1 = \"Machine Learning\"\n",
    "str2 = \"Natural Language Processing\"\n",
    "str3 = \"Deep Learning\"\n",
    "str4 = \"Data Science\"\n",
    "    \n",
    "\n",
    "SplitString(str1,2)"
   ]
  },
  {
   "cell_type": "code",
   "execution_count": 112,
   "id": "d20e7c29-74de-4663-b2ed-2543f45ed570",
   "metadata": {},
   "outputs": [
    {
     "name": "stdout",
     "output_type": "stream",
     "text": [
      "a -> Python and b -> 5\n"
     ]
    }
   ],
   "source": [
    "def example(a,b):\n",
    "    print(f\"a -> {a} and b -> {b}\")\n",
    "    \n",
    "example(\"Python\",5)"
   ]
  },
  {
   "cell_type": "code",
   "execution_count": 118,
   "id": "31986991-9ce9-43ff-a506-16c6bfd36526",
   "metadata": {},
   "outputs": [],
   "source": [
    "def example(a,b):\n",
    "    print(f\"a -> {a} and b -> {b}\")"
   ]
  },
  {
   "cell_type": "code",
   "execution_count": 120,
   "id": "8dccd688-bc59-401c-971b-dd36afc7c451",
   "metadata": {},
   "outputs": [
    {
     "name": "stdout",
     "output_type": "stream",
     "text": [
      "a -> Python and b -> 5\n"
     ]
    }
   ],
   "source": [
    "example(\"Python\", 5)"
   ]
  },
  {
   "cell_type": "code",
   "execution_count": 128,
   "id": "67b5b732-da0a-49c7-b2a7-9fa9f6c49164",
   "metadata": {},
   "outputs": [],
   "source": [
    "def NumofPrintStatement(num):\n",
    "    print(f\"The total number of itrations --> {num}\")\n",
    "    for i in range(num):\n",
    "        print(f\"Iteration {i}\\nWe are learning Python Function.\")\n",
    "        print()"
   ]
  },
  {
   "cell_type": "code",
   "execution_count": 134,
   "id": "738565ab-89b3-4eec-9b01-7e0e761d784b",
   "metadata": {},
   "outputs": [
    {
     "name": "stdout",
     "output_type": "stream",
     "text": [
      "The total number of itrations --> 3\n",
      "Iteration 0\n",
      "We are learning Python Function.\n",
      "\n",
      "Iteration 1\n",
      "We are learning Python Function.\n",
      "\n",
      "Iteration 2\n",
      "We are learning Python Function.\n",
      "\n"
     ]
    }
   ],
   "source": [
    "NumofPrintStatement(3)"
   ]
  },
  {
   "cell_type": "code",
   "execution_count": 142,
   "id": "78bc7d39-c42d-46ab-805f-6057dae7fa74",
   "metadata": {},
   "outputs": [
    {
     "name": "stdout",
     "output_type": "stream",
     "text": [
      "The total number of itrations --> 5\n",
      "Iteration 0\n",
      "We are learning Machine Learning.\n",
      "\n",
      "Iteration 1\n",
      "We are learning Machine Learning.\n",
      "\n",
      "Iteration 2\n",
      "We are learning Machine Learning.\n",
      "\n",
      "Iteration 3\n",
      "We are learning Machine Learning.\n",
      "\n",
      "Iteration 4\n",
      "We are learning Machine Learning.\n",
      "\n"
     ]
    }
   ],
   "source": [
    "def NumofPrintStatement(num):\n",
    "    print(f\"The total number of itrations --> {num}\")\n",
    "    for i in range(num):\n",
    "        print(f\"Iteration {i}\\nWe are learning Machine Learning.\")\n",
    "        print()\n",
    "\n",
    "NumofPrintStatement(5)\n"
   ]
  },
  {
   "cell_type": "code",
   "execution_count": 146,
   "id": "27d75c64-8a2d-4867-9c4d-11f13fd304af",
   "metadata": {},
   "outputs": [
    {
     "name": "stdout",
     "output_type": "stream",
     "text": [
      "The maximum of the list --> 5\n",
      "The maximum of the list --> 50\n",
      "The maximum of the list --> 3939\n"
     ]
    }
   ],
   "source": [
    "def Max(li):\n",
    "    print(f\"The maximum of the list --> {max(li)}\")\n",
    "Max([1,2,3,4,5])\n",
    "Max([10,20,30,40,50])\n",
    "Max([1000,3939,3421,3311,111])"
   ]
  },
  {
   "cell_type": "code",
   "execution_count": 154,
   "id": "659a30f3-cd6b-42e6-983d-c30e1e0d10fa",
   "metadata": {},
   "outputs": [
    {
     "name": "stdout",
     "output_type": "stream",
     "text": [
      "pip 24.2 from C:\\Users\\Vishnu\\anaconda3\\Lib\\site-packages\\pip (python 3.12)\n",
      "\n",
      "Note: you may need to restart the kernel to use updated packages.\n"
     ]
    }
   ],
   "source": [
    "pip --version"
   ]
  },
  {
   "cell_type": "code",
   "execution_count": 156,
   "id": "2d370cf5-1169-4bb9-9ca6-a1831a670236",
   "metadata": {},
   "outputs": [
    {
     "name": "stdout",
     "output_type": "stream",
     "text": [
      "Collecting word2number\n",
      "  Downloading word2number-1.1.zip (9.7 kB)\n",
      "  Preparing metadata (setup.py): started\n",
      "  Preparing metadata (setup.py): finished with status 'done'\n",
      "Building wheels for collected packages: word2number\n",
      "  Building wheel for word2number (setup.py): started\n",
      "  Building wheel for word2number (setup.py): finished with status 'done'\n",
      "  Created wheel for word2number: filename=word2number-1.1-py3-none-any.whl size=5589 sha256=ae2ae8a9d4a963ce325aff236a8723d2493544b52ad98efb6af472ff015615a8\n",
      "  Stored in directory: c:\\users\\vishnu\\appdata\\local\\pip\\cache\\wheels\\5b\\79\\fb\\d25928e599c7e11fe4e00d32048cd74933f34a74c633d2aea6\n",
      "Successfully built word2number\n",
      "Installing collected packages: word2number\n",
      "Successfully installed word2number-1.1\n",
      "Note: you may need to restart the kernel to use updated packages.\n"
     ]
    }
   ],
   "source": [
    "pip install word2number"
   ]
  },
  {
   "cell_type": "code",
   "execution_count": 186,
   "id": "79dcb6c5-7c34-4f0d-ad60-5b99f4473e83",
   "metadata": {},
   "outputs": [
    {
     "name": "stdin",
     "output_type": "stream",
     "text": [
      "Enter Number in alphabate :-  three million \n",
      "Enter Number in alphabate :-  five hundred \n",
      "Enter Number in alphabate :-  sixty\n"
     ]
    },
    {
     "name": "stdout",
     "output_type": "stream",
     "text": [
      "3000000\n",
      "500\n",
      "60\n"
     ]
    }
   ],
   "source": [
    "from word2number import w2n\n",
    "\n",
    "num1 = w2n.word_to_num(input(\"Enter Number in alphabate :- \"))\n",
    "num2 = w2n.word_to_num(input(\"Enter Number in alphabate :- \"))\n",
    "num3 = w2n.word_to_num(input(\"Enter Number in alphabate :- \"))\n",
    "print(num1)\n",
    "print(num2)\n",
    "print(num3)"
   ]
  },
  {
   "cell_type": "code",
   "execution_count": null,
   "id": "f195327b-4ce0-4b8d-9d0b-11936456d0a5",
   "metadata": {},
   "outputs": [],
   "source": [
    "import re\n",
    "\n",
    "num_words = {\n",
    "    \"zero\": 0,\n",
    "    \"one\": 1,\n",
    "    \"two\": 2,\n",
    "    \"three\": 3,\n",
    "    \"four\": 4,\n",
    "    \"five\": 5,\n",
    "    \"six\": 6,\n",
    "    \"seven\": 7,\n",
    "    \"eight\": 8,\n",
    "    \"nine\": 9,\n",
    "    \"ten\": 10,\n",
    "    \"eleven\": 11,\n",
    "    \"twelve\": 12,\n",
    "    \"thirteen\": 13,\n",
    "    \"fourteen\": 14,\n",
    "    \"fifteen\": 15,\n",
    "    \"sixteen\": 16,\n",
    "    \"seventeen\": 17,\n",
    "    \"eighteen\": 18,\n",
    "    \"nineteen\": 19,\n",
    "    \"twenty\": 20,\n",
    "    \"thirty\": 30,\n",
    "    \"forty\": 40,\n",
    "    \"fifty\": 50,\n",
    "    \"sixty\": 60,\n",
    "    \"seventy\": 70,\n",
    "    \"eighty\": 80,\n",
    "    \"ninety\": 90,\n",
    "    \"hundred\": 100,\n",
    "    \"thousand\": 1_000,\n",
    "    \"million\": 1_000_000,\n",
    "    \"billion\": 1_000_000_000\n",
    "}\n",
    "\n",
    "def word_to_number(string):\n",
    "    words = s.lower().split()\n",
    "    result = 0\n",
    "    current = 0\n",
    "\n",
    "    for chr "
   ]
  },
  {
   "cell_type": "code",
   "execution_count": 256,
   "id": "19d34919-2904-4b3d-90ba-e5264cd03e97",
   "metadata": {},
   "outputs": [
    {
     "name": "stdin",
     "output_type": "stream",
     "text": [
      "Enter the Number in String :  ninty five\n"
     ]
    },
    {
     "name": "stdout",
     "output_type": "stream",
     "text": [
      "your entered number :- 95\n"
     ]
    }
   ],
   "source": [
    "str1= input(\"Enter the Number in String : \")\n",
    "words = str1.lower().split()\n",
    "units = {\n",
    "    \"one\": 1,\n",
    "    \"two\": 2,\n",
    "    \"three\": 3,\n",
    "    \"four\": 4,\n",
    "    \"five\": 5,\n",
    "    \"six\": 6,\n",
    "    \"seven\": 7,\n",
    "    \"eight\": 8,\n",
    "    \"nine\": 9,\n",
    "    \"ten\" : 10,\n",
    "    \"twenty\" : 20,\n",
    "    \"thirty\" : 30,\n",
    "    \"fourty\" : 40,\n",
    "    \"fifty\" : 50,\n",
    "    \"sixty\" : 60,\n",
    "    \"seventy\" : 70,\n",
    "    \"eighty\" : 80,\n",
    "    \"ninty\" : 90\n",
    "}\n",
    "multiplies = {\n",
    " \n",
    "    \"hundred\" : 100,\n",
    "    \"thousand\" : 1000,\n",
    "    \"million\" : 1000000,\n",
    "    \"billion\" : 1000000000\n",
    "}\n",
    "cnt = 0\n",
    "num =0\n",
    "\n",
    "for word in words:\n",
    "    if word in units:\n",
    "        cnt += units[word]\n",
    "    elif word in multiplies:\n",
    "        cnt *= multiplies[word]\n",
    "        num += cnt\n",
    "        cnt = 0\n",
    "num += cnt\n",
    "\n",
    "print(f\"your entered number :- {num}\")\n",
    "\n",
    "        "
   ]
  },
  {
   "cell_type": "code",
   "execution_count": 3,
   "id": "b988b4d6-fa65-4e5a-90e0-37fc6d52b68e",
   "metadata": {},
   "outputs": [],
   "source": [
    "def NumOfPrintStatements(num):\n",
    "    print(f\"The Total number of iterations --> {num}\")\n",
    "    for i in range(num):\n",
    "        print(f\"Iteration {i},\\nWe are learning Python function\")\n",
    "        print()"
   ]
  },
  {
   "cell_type": "code",
   "execution_count": 5,
   "id": "c3f2beff-63eb-481f-9c02-97d6998f5ac1",
   "metadata": {},
   "outputs": [
    {
     "name": "stdout",
     "output_type": "stream",
     "text": [
      "The Total number of iterations --> 3\n",
      "Iteration 0,\n",
      "We are learning Python function\n",
      "\n",
      "Iteration 1,\n",
      "We are learning Python function\n",
      "\n",
      "Iteration 2,\n",
      "We are learning Python function\n",
      "\n"
     ]
    }
   ],
   "source": [
    "NumOfPrintStatements(3)"
   ]
  },
  {
   "cell_type": "code",
   "execution_count": 9,
   "id": "63693637-0c61-41d4-b4b3-59e0dab9f586",
   "metadata": {},
   "outputs": [],
   "source": [
    "def NumOfPrintStatements(num):\n",
    "    print(f\"the total number of iterations --> {num}\")\n",
    "    for i in range(num):\n",
    "        print(f\"Iteration - {i}\")"
   ]
  },
  {
   "cell_type": "code",
   "execution_count": 11,
   "id": "619fbfc3-a5db-48ae-917c-b83eff98915b",
   "metadata": {},
   "outputs": [
    {
     "name": "stdout",
     "output_type": "stream",
     "text": [
      "the total number of iterations --> 3\n",
      "Iteration - 0\n",
      "Iteration - 1\n",
      "Iteration - 2\n"
     ]
    }
   ],
   "source": [
    "NumOfPrintStatements(3)"
   ]
  },
  {
   "cell_type": "code",
   "execution_count": 13,
   "id": "12f27e89-866b-4420-b1a6-6b9c48c32ca2",
   "metadata": {},
   "outputs": [
    {
     "name": "stdout",
     "output_type": "stream",
     "text": [
      "The minimum of the list --> 1\n",
      "The minimum of the list --> 10\n",
      "The minimum of the list --> 100\n"
     ]
    }
   ],
   "source": [
    "def Min(li):\n",
    "    print(f\"The minimum of the list --> {min(li)}\")\n",
    "\n",
    "Min([1,2,3,4,5])\n",
    "Min([10,20,30,40,50])\n",
    "Min([100,200,300,400,500])"
   ]
  },
  {
   "cell_type": "code",
   "execution_count": 23,
   "id": "88d6c774-f885-40df-b7cf-d6190e5fe147",
   "metadata": {},
   "outputs": [
    {
     "name": "stdout",
     "output_type": "stream",
     "text": [
      "The maximum of the list --> [1, 2, 3, 4, 5]- 5\n",
      "The maximum of the list --> [10, 20, 30, 40, 50]- 50\n",
      "The maximum of the list --> [100, 200, 300, 400, 500]- 500\n"
     ]
    }
   ],
   "source": [
    "def Max(li):\n",
    "    print(f\"The maximum of the list --> {(li)}- {max(li)}\")\n",
    "\n",
    "Max([1,2,3,4,5])\n",
    "Max([10,20,30,40,50])\n",
    "Max([100,200,300,400,500])"
   ]
  },
  {
   "cell_type": "code",
   "execution_count": 25,
   "id": "7ef1a282-e4cd-421c-9e19-3d79ae1c475d",
   "metadata": {},
   "outputs": [],
   "source": [
    "def Sum(li):\n",
    "    print(f\"The sum of the list --> {sum(li)}\")"
   ]
  },
  {
   "cell_type": "code",
   "execution_count": 27,
   "id": "05849e1a-20ed-4bc3-a197-6f3f68626bd5",
   "metadata": {},
   "outputs": [
    {
     "name": "stdout",
     "output_type": "stream",
     "text": [
      "The sum of the list --> 15\n",
      "The sum of the list --> 150\n",
      "The sum of the list --> 1500\n"
     ]
    }
   ],
   "source": [
    "Sum([1,2,3,4,5])\n",
    "Sum([10,20,30,40,50])\n",
    "Sum([100,200,300,400,500])"
   ]
  },
  {
   "cell_type": "code",
   "execution_count": 31,
   "id": "97398eb7-f9b4-4686-b552-ad374f7b749c",
   "metadata": {},
   "outputs": [
    {
     "name": "stdout",
     "output_type": "stream",
     "text": [
      "a = 10, b = 20\n",
      "The average of Num :- 15.0\n"
     ]
    }
   ],
   "source": [
    "a = 10\n",
    "b = 20\n",
    "\n",
    "print(f\"a = {a}, b = {b}\")\n",
    "\n",
    "avg = (a + b) / 2\n",
    "print(f\"The average of Num :- {avg}\")"
   ]
  },
  {
   "cell_type": "code",
   "execution_count": 35,
   "id": "14ba80e6-68da-490a-a4cf-32d358d02135",
   "metadata": {},
   "outputs": [
    {
     "name": "stdout",
     "output_type": "stream",
     "text": [
      "a = 10, b = 20\n",
      "The average of num :- 15.0\n",
      "a = 100, b = 200\n",
      "The average of num :- 150.0\n",
      "a = 1000, b = 2000\n",
      "The average of num :- 1500.0\n"
     ]
    }
   ],
   "source": [
    "def avg(a,b):\n",
    "    print(f\"a = {a}, b = {b}\")\n",
    "    avg1 = (a+b) / 2\n",
    "    print(f\"The average of num :- {avg1}\")\n",
    "\n",
    "\n",
    "avg(10,20)\n",
    "avg(100, 200)\n",
    "avg(1000, 2000)"
   ]
  },
  {
   "cell_type": "code",
   "execution_count": 37,
   "id": "69ea14de-b47c-4cc5-bd9b-123ddaf96b0f",
   "metadata": {},
   "outputs": [
    {
     "name": "stdout",
     "output_type": "stream",
     "text": [
      "[1, 2, 3, 4, 5, 6, 7, 8, 9, 10, 11, 12, 13, 14, 15, 16, 17, 18, 19, 20, 21, 22, 23, 24, 25, 26, 27, 28, 29, 30, 31, 32, 33, 34, 35, 36, 37, 38, 39, 40, 41, 42, 43, 44, 45, 46, 47, 48, 49, 50, 51, 52, 53, 54, 55, 56, 57, 58, 59, 60, 61, 62, 63, 64, 65, 66, 67, 68, 69, 70, 71, 72, 73, 74, 75, 76, 77, 78, 79, 80, 81, 82, 83, 84, 85, 86, 87, 88, 89, 90, 91, 92, 93, 94, 95, 96, 97, 98, 99, 100, 101, 102, 103, 104, 105, 106, 107, 108, 109, 110, 111, 112, 113, 114, 115, 116, 117, 118, 119, 120, 121, 122, 123, 124, 125, 126, 127, 128, 129, 130, 131, 132, 133, 134, 135, 136, 137, 138, 139, 140, 141, 142, 143, 144, 145, 146, 147, 148, 149, 150]\n"
     ]
    }
   ],
   "source": [
    "li = list(range(1, 151))\n",
    "print(li)"
   ]
  },
  {
   "cell_type": "code",
   "execution_count": 41,
   "id": "d6707be4-7ce8-4778-8c06-81fc80849850",
   "metadata": {},
   "outputs": [
    {
     "name": "stdout",
     "output_type": "stream",
     "text": [
      "Even List : - [2, 4, 6, 8, 10, 12, 14, 16, 18, 20, 22, 24, 26, 28, 30, 32, 34, 36, 38, 40, 42, 44, 46, 48, 50, 52, 54, 56, 58, 60, 62, 64, 66, 68, 70, 72, 74, 76, 78, 80, 82, 84, 86, 88, 90, 92, 94, 96, 98, 100, 102, 104, 106, 108, 110, 112, 114, 116, 118, 120, 122, 124, 126, 128, 130, 132, 134, 136, 138, 140, 142, 144, 146, 148, 150]\n",
      "\n",
      "Odd List :- [1, 3, 5, 7, 9, 11, 13, 15, 17, 19, 21, 23, 25, 27, 29, 31, 33, 35, 37, 39, 41, 43, 45, 47, 49, 51, 53, 55, 57, 59, 61, 63, 65, 67, 69, 71, 73, 75, 77, 79, 81, 83, 85, 87, 89, 91, 93, 95, 97, 99, 101, 103, 105, 107, 109, 111, 113, 115, 117, 119, 121, 123, 125, 127, 129, 131, 133, 135, 137, 139, 141, 143, 145, 147, 149]\n"
     ]
    }
   ],
   "source": [
    "num = list(range(1, 151))\n",
    "odd_li = []\n",
    "even_li = []\n",
    "for i in num:\n",
    "    if i % 2 == 0:\n",
    "        even_li.append(i)\n",
    "    else:\n",
    "        odd_li.append(i)\n",
    "\n",
    "print(f\"Even List : - {even_li}\")\n",
    "print()\n",
    "print(f\"Odd List :- {odd_li}\")"
   ]
  },
  {
   "cell_type": "code",
   "execution_count": 6,
   "id": "01d112f6-db4b-46a2-b6a4-5d13445688e5",
   "metadata": {},
   "outputs": [
    {
     "name": "stdout",
     "output_type": "stream",
     "text": [
      "Even [8, 4, 6]\n",
      "Odd [1, 7, 5, 7]\n",
      "\n",
      "Even [22, 66, 88]\n",
      "Odd [77]\n",
      "\n",
      "Even [454, 556, 332, 444, 678]\n",
      "Odd [565]\n",
      "\n"
     ]
    }
   ],
   "source": [
    "def IsEvenOrOdd(num):\n",
    "    li1 = [i for i in num if i % 2 == 0]\n",
    "    li2 = [i for i in num if i % 2 != 0]\n",
    "    print(\"Even\", li1)\n",
    "    print(\"Odd\", li2)\n",
    "    print()\n",
    "\n",
    "num1 = [1,7,8,4,5,6,7]\n",
    "num2 = [22,66,77,88]\n",
    "num3 = [454,556,332,444,565,678]\n",
    "\n",
    "IsEvenOrOdd(num1)\n",
    "IsEvenOrOdd(num2)\n",
    "IsEvenOrOdd(num3)\n"
   ]
  },
  {
   "cell_type": "code",
   "execution_count": 8,
   "id": "c93b6e7d-e76d-401d-aff5-91e0661f3f7b",
   "metadata": {},
   "outputs": [
    {
     "ename": "TypeError",
     "evalue": "unsupported operand type(s) for %: 'list' and 'int'",
     "output_type": "error",
     "traceback": [
      "\u001b[1;31m---------------------------------------------------------------------------\u001b[0m",
      "\u001b[1;31mTypeError\u001b[0m                                 Traceback (most recent call last)",
      "Cell \u001b[1;32mIn[8], line 1\u001b[0m\n\u001b[1;32m----> 1\u001b[0m IsEvenOrOdd([num1,num2,num3])\n",
      "Cell \u001b[1;32mIn[6], line 2\u001b[0m, in \u001b[0;36mIsEvenOrOdd\u001b[1;34m(num)\u001b[0m\n\u001b[0;32m      1\u001b[0m \u001b[38;5;28;01mdef\u001b[39;00m \u001b[38;5;21mIsEvenOrOdd\u001b[39m(num):\n\u001b[1;32m----> 2\u001b[0m     li1 \u001b[38;5;241m=\u001b[39m [i \u001b[38;5;28;01mfor\u001b[39;00m i \u001b[38;5;129;01min\u001b[39;00m num \u001b[38;5;28;01mif\u001b[39;00m i \u001b[38;5;241m%\u001b[39m \u001b[38;5;241m2\u001b[39m \u001b[38;5;241m==\u001b[39m \u001b[38;5;241m0\u001b[39m]\n\u001b[0;32m      3\u001b[0m     li2 \u001b[38;5;241m=\u001b[39m [i \u001b[38;5;28;01mfor\u001b[39;00m i \u001b[38;5;129;01min\u001b[39;00m num \u001b[38;5;28;01mif\u001b[39;00m i \u001b[38;5;241m%\u001b[39m \u001b[38;5;241m2\u001b[39m \u001b[38;5;241m!=\u001b[39m \u001b[38;5;241m0\u001b[39m]\n\u001b[0;32m      4\u001b[0m     \u001b[38;5;28mprint\u001b[39m(\u001b[38;5;124m\"\u001b[39m\u001b[38;5;124mEven\u001b[39m\u001b[38;5;124m\"\u001b[39m, li1)\n",
      "\u001b[1;31mTypeError\u001b[0m: unsupported operand type(s) for %: 'list' and 'int'"
     ]
    }
   ],
   "source": [
    "IsEvenOrOdd([num1,num2,num3])"
   ]
  },
  {
   "cell_type": "code",
   "execution_count": 28,
   "id": "dcd36525-967a-441b-9b5b-e090de0a6234",
   "metadata": {},
   "outputs": [
    {
     "name": "stdout",
     "output_type": "stream",
     "text": [
      "Even [8, 4, 6]\n",
      "Odd [1, 7, 5, 7]\n",
      "\n",
      "Even [22, 66, 88]\n",
      "Odd [77]\n",
      "\n",
      "Even [454, 556, 332, 444, 678]\n",
      "Odd [565]\n",
      "\n"
     ]
    }
   ],
   "source": [
    "def isevenorodd(num1):\n",
    "    for num in num1:\n",
    "        li1 = [i for i in num if i % 2 == 0]\n",
    "        li2 = [i for i in num if i % 2 != 0]\n",
    "        print(\"Even\",li1)\n",
    "        print(\"Odd\",li2)\n",
    "        print()\n",
    "    \n",
    "    \n",
    "num1 = [1,7,8,4,5,6,7]\n",
    "num2 = [22,66,77,88]\n",
    "num3 = [454,556,332,444,565,678]\n",
    "isevenorodd([num1,num2,num3])"
   ]
  },
  {
   "cell_type": "code",
   "execution_count": 32,
   "id": "3c4c918a-2ea0-4776-887c-1f5c1d261297",
   "metadata": {},
   "outputs": [],
   "source": [
    "def gen_list(num):\n",
    "    li = []\n",
    "    for i in range(num):\n",
    "        a = int(input(\"Enter list element :- \"))\n",
    "        li.append(a)\n",
    "    print(li)"
   ]
  },
  {
   "cell_type": "markdown",
   "id": "d0ecf5d5-e4e5-476b-988f-ea6626ad45bd",
   "metadata": {},
   "source": [
    "number = int(input(\"How many number you want from user :-\"))\n",
    "gen_list(number)"
   ]
  },
  {
   "cell_type": "markdown",
   "id": "e86cd46a-f2f6-40dd-a5e5-c23503905366",
   "metadata": {},
   "source": []
  },
  {
   "cell_type": "markdown",
   "id": "cc61daaf-c554-4989-b96b-5c7dcba6a5f2",
   "metadata": {},
   "source": []
  },
  {
   "cell_type": "code",
   "execution_count": null,
   "id": "dd43a029-e8cb-4828-8b85-3ad494d26940",
   "metadata": {},
   "outputs": [],
   "source": []
  }
 ],
 "metadata": {
  "kernelspec": {
   "display_name": "Python 3 (ipykernel)",
   "language": "python",
   "name": "python3"
  },
  "language_info": {
   "codemirror_mode": {
    "name": "ipython",
    "version": 3
   },
   "file_extension": ".py",
   "mimetype": "text/x-python",
   "name": "python",
   "nbconvert_exporter": "python",
   "pygments_lexer": "ipython3",
   "version": "3.12.7"
  }
 },
 "nbformat": 4,
 "nbformat_minor": 5
}
