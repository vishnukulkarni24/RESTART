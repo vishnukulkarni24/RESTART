{
 "cells": [
  {
   "cell_type": "code",
   "execution_count": null,
   "id": "eb7ef027",
   "metadata": {},
   "outputs": [
    {
     "name": "stdout",
     "output_type": "stream",
     "text": [
      "[(11, 12), (23, 33), (14, 18), (20, 21), (22, 23)]\n"
     ]
    }
   ],
   "source": [
    "#  1. Write a Python program to sort a list of tuples using Lambda. \n",
    "\n",
    "li1 = [(11,12),(33,23),(14,18),(20,21),(22,23)]\n",
    "\n",
    "sorted_li = []\n",
    "\n",
    "for i in li1:\n",
    "    temp = list(i)\n",
    "    temp.sort()\n",
    "    sorted_li.append(tuple(temp))\n",
    "\n",
    "print(sorted_li)  # wrong\n"
   ]
  },
  {
   "cell_type": "code",
   "execution_count": null,
   "id": "c6a75650",
   "metadata": {},
   "outputs": [
    {
     "name": "stdout",
     "output_type": "stream",
     "text": [
      "[(11, 12), (23, 33), (14, 18), (20, 21), (22, 23)]\n"
     ]
    }
   ],
   "source": [
    "sorted_li = [tuple(sorted(t)) for t in li1]\n",
    "print(sorted_li)      # wrong"
   ]
  },
  {
   "cell_type": "code",
   "execution_count": 11,
   "id": "4ebd9e78",
   "metadata": {},
   "outputs": [
    {
     "name": "stdout",
     "output_type": "stream",
     "text": [
      "[(11, 12), (14, 18), (20, 21), (22, 23), (33, 23)]\n"
     ]
    }
   ],
   "source": [
    "#  1. Write a Python program to sort a list of tuples using Lambda. \n",
    "\n",
    "li1 = [(11,12),(33,23),(14,18),(20,21),(22,23)]\n",
    "\n",
    "sorted_li = sorted(li1, key = lambda x:x[0])\n",
    "\n",
    "print(sorted_li)"
   ]
  },
  {
   "cell_type": "code",
   "execution_count": null,
   "id": "a31eea13",
   "metadata": {},
   "outputs": [
    {
     "name": "stdout",
     "output_type": "stream",
     "text": [
      "[{'c': 1}, {'b': 2}, {'a': 3}]\n"
     ]
    }
   ],
   "source": [
    "# 2. Write a Python program to sort a list of dictionaries using Lambda.\n",
    " \n",
    "li2 = [{'a':3},{'b': 2},{'c':1}]\n",
    "\n",
    "sorted_li1 = sorted(li2, key = lambda x: list(x.values())[0])\n",
    "\n",
    "print(sorted_li1) # sorted by values\n"
   ]
  },
  {
   "cell_type": "code",
   "execution_count": null,
   "id": "0fcfdcd8",
   "metadata": {},
   "outputs": [
    {
     "name": "stdout",
     "output_type": "stream",
     "text": [
      "[{'a': 3}, {'b': 2}, {'c': 1}]\n"
     ]
    }
   ],
   "source": [
    "sorted_l2 = sorted(li2, key = lambda x:list(x.keys())[0])\n",
    "\n",
    "print(sorted_l2) #sorted by keys"
   ]
  },
  {
   "cell_type": "code",
   "execution_count": 30,
   "id": "d6518f28",
   "metadata": {},
   "outputs": [
    {
     "name": "stdout",
     "output_type": "stream",
     "text": [
      "original List :- [1, 2, 3, 4, 5, 6, 7, 8, 9]\n",
      "\n",
      "square list :[1, 4, 9, 16, 25, 36, 49, 64, 81]\n",
      "Cube list : [1, 8, 27, 64, 125, 216, 343, 512, 729]\n"
     ]
    }
   ],
   "source": [
    "# 3. Write a Python program to find square and cube every number in a given list of integers using Lambda.\n",
    "\n",
    "\n",
    "num = [1,2,3,4,5,6,7,8,9]\n",
    "\n",
    "sq_li = list(map( lambda x:x **2 , num))\n",
    "cu_li = list(map(lambda x:x ** 3, num))\n",
    "\n",
    "print(f\"original List :- {num}\")\n",
    "print()\n",
    "print(f\"square list :{sq_li}\")\n",
    "print(f\"Cube list : {cu_li}\")\n"
   ]
  },
  {
   "cell_type": "code",
   "execution_count": 36,
   "id": "ec40bfc4",
   "metadata": {},
   "outputs": [
    {
     "name": "stdout",
     "output_type": "stream",
     "text": [
      "True\n"
     ]
    }
   ],
   "source": [
    "# 4. Write a Python program to find if a given string starts with a given character using Lambda.\n",
    "\n",
    "str1 = \"vishnu kulkarni\"\n",
    "\n",
    "given_chr = \"v\"\n",
    "\n",
    "isSameChr = lambda x:x.startswith(given_chr)\n",
    "\n",
    "print(isSameChr(str1))"
   ]
  },
  {
   "cell_type": "code",
   "execution_count": 45,
   "id": "5c4ff12e",
   "metadata": {},
   "outputs": [
    {
     "name": "stdout",
     "output_type": "stream",
     "text": [
      "True Given string is number\n"
     ]
    }
   ],
   "source": [
    "# 5. Write a Python program to check whether a given string is number or not using Lambda.\n",
    "\n",
    "\n",
    "str2 = \"1234\"\n",
    "\n",
    "isString = lambda x:x.isdigit()\n",
    "\n",
    "result = isString(str2)\n",
    "\n",
    "print(f\"{result} Given string is number\")"
   ]
  },
  {
   "cell_type": "code",
   "execution_count": 46,
   "id": "10070e5e",
   "metadata": {},
   "outputs": [
    {
     "name": "stdout",
     "output_type": "stream",
     "text": [
      " Fibonacci with lambda : \n",
      "0 1 1 2 3 5 8 13 21 34 "
     ]
    }
   ],
   "source": [
    "# 6. Write a Python program to create Fibonacci series using Lambda.\n",
    "\n",
    "fib = lambda a,b : a +b\n",
    "a, b = 0, 1\n",
    "\n",
    "n = 10\n",
    "\n",
    "print(\" Fibonacci with lambda : \")\n",
    "\n",
    "for _ in range(n):\n",
    "    print(a, end =\" \")\n",
    "    a, b = b, fib(a, b)\n",
    "\n"
   ]
  },
  {
   "cell_type": "code",
   "execution_count": 52,
   "id": "50b06866",
   "metadata": {},
   "outputs": [
    {
     "name": "stdout",
     "output_type": "stream",
     "text": [
      "0 1 1 2 3 "
     ]
    }
   ],
   "source": [
    "next_fib =  lambda x,y : x+y\n",
    "\n",
    "x, y = 0, 1\n",
    "n = 5\n",
    "\n",
    "for _ in range(n):\n",
    "    print(x, end= \" \")\n",
    "    x, y = y , next_fib(x, y)"
   ]
  },
  {
   "cell_type": "code",
   "execution_count": 53,
   "id": "c2b54401",
   "metadata": {},
   "outputs": [
    {
     "name": "stdout",
     "output_type": "stream",
     "text": [
      "{4, 5}\n"
     ]
    }
   ],
   "source": [
    "#7. Write a Python program to find the intersection of two given arrays using Lambda\n",
    "\n",
    "intersect = lambda a , b : set(a) & set(b)\n",
    "\n",
    "a = [1,2,3,4,5]\n",
    "b = [4,5,6,7,8]\n",
    "\n",
    "\n",
    "print(intersect(a,b))"
   ]
  },
  {
   "cell_type": "code",
   "execution_count": 54,
   "id": "445fd283",
   "metadata": {},
   "outputs": [
    {
     "name": "stdout",
     "output_type": "stream",
     "text": [
      "[4, 5]\n"
     ]
    }
   ],
   "source": [
    "intersect = lambda a, b : list(set(a) & set(b))\n",
    "print(intersect(a, b))"
   ]
  },
  {
   "cell_type": "code",
   "execution_count": 62,
   "id": "f2bb1193",
   "metadata": {},
   "outputs": [
    {
     "name": "stdout",
     "output_type": "stream",
     "text": [
      "rearange the numbers in array\n",
      "[1, 2, 3, 4, 5, 8, -6, -5, -3]\n"
     ]
    }
   ],
   "source": [
    "# 8. Write a Python program to rearrange positive and negative numbers in a given array using Lambda \n",
    "rearange = lambda x : list(set(x))\n",
    "\n",
    "arr = [1,2,-3,4,-5,3,5,-6,8]\n",
    "\n",
    "print(\"rearange the numbers in array\")\n",
    "print(rearange(arr))"
   ]
  },
  {
   "cell_type": "code",
   "execution_count": 64,
   "id": "d8d617ff",
   "metadata": {},
   "outputs": [
    {
     "name": "stdout",
     "output_type": "stream",
     "text": [
      "Rearrange the numbers in array:\n",
      "[-3, -5, -6, 1, 2, 4, 3, 5, 8]\n"
     ]
    }
   ],
   "source": [
    "rearange = lambda x : list(filter(lambda n : n < 0 , x)) + list(filter(lambda n :n >= 0, x ))\n",
    "\n",
    "print(\"Rearrange the numbers in array:\")\n",
    "print(rearange(arr))"
   ]
  },
  {
   "cell_type": "code",
   "execution_count": 67,
   "id": "5fb965dc",
   "metadata": {},
   "outputs": [
    {
     "name": "stdout",
     "output_type": "stream",
     "text": [
      "Even Count :  7\n",
      "Odd Count :  6\n"
     ]
    }
   ],
   "source": [
    "# 9. Write a Python program to count the even, odd numbers in a given array of integers using Lambda \n",
    "\n",
    "arr = [1,2,3,4,5,6,7,8,9,0,11,12,14]\n",
    "\n",
    "\n",
    "evn_cnt = lambda x : len(list(filter(lambda n : n % 2 == 0 , x)))\n",
    "\n",
    "odd_cnt = lambda x : len(list(filter(lambda n : n % 2 != 0 , x)))\n",
    "\n",
    "print(\"Even Count : \",evn_cnt(arr))\n",
    "print(\"Odd Count : \", odd_cnt(arr))\n"
   ]
  },
  {
   "cell_type": "code",
   "execution_count": 68,
   "id": "7537effd",
   "metadata": {},
   "outputs": [
    {
     "name": "stdout",
     "output_type": "stream",
     "text": [
      "Even count: 7\n",
      "Odd count: 6\n"
     ]
    }
   ],
   "source": [
    "evn_odCnt = lambda x: (len(list(filter(lambda n: n % 2 == 0, x))),\n",
    "                       len(list(filter(lambda n: n % 2 != 0, x))))\n",
    "\n",
    "even_count, odd_count = evn_odCnt(arr)\n",
    "\n",
    "print(\"Even count:\", even_count)\n",
    "print(\"Odd count:\", odd_count)"
   ]
  },
  {
   "cell_type": "code",
   "execution_count": null,
   "id": "a84abd5a",
   "metadata": {},
   "outputs": [],
   "source": [
    "evn_odCnt = lambda x: (len(list(filter(lambda n: n % 2 == 0, x))),\n",
    "                       len(list(filter(lambda n: n % 2 != 0, x))))\n",
    "\n",
    "even_count, odd_count = evn_odCnt(arr)\n",
    "\n",
    "print(\"Even count:\", even_count)\n",
    "print(\"Odd count:\", odd_count)"
   ]
  },
  {
   "cell_type": "code",
   "execution_count": null,
   "id": "00f17e5e",
   "metadata": {},
   "outputs": [
    {
     "name": "stdout",
     "output_type": "stream",
     "text": [
      "Even count: 7\n",
      "Odd count: 6\n"
     ]
    }
   ],
   "source": [
    "even_odd_count = lambda x: (sum(map(lambda n: n % 2 == 0, x)),\n",
    "                            sum(map(lambda n: n % 2 != 0, x)))\n",
    "\n",
    "even_count, odd_count = even_odd_count(arr)  \n",
    "\n",
    "print(\"Even count:\", even_count)\n",
    "print(\"Odd count:\", odd_count)"
   ]
  },
  {
   "cell_type": "code",
   "execution_count": null,
   "id": "1d2f2bf1",
   "metadata": {},
   "outputs": [
    {
     "name": "stdout",
     "output_type": "stream",
     "text": [
      "[5, 7, 9, 11, 13]\n"
     ]
    }
   ],
   "source": [
    "# 10. Write a Python program to add two given lists using map and lambda.\n",
    "\n",
    "a = [1,2,3,4,5]\n",
    "b = [4,5,6,7,8]\n",
    "\n",
    "add_list = list(map(lambda x , y: x + y ,a , b))\n",
    "\n",
    "print(add_list)"
   ]
  },
  {
   "cell_type": "code",
   "execution_count": 81,
   "id": "7dee93dc",
   "metadata": {},
   "outputs": [
    {
     "name": "stdout",
     "output_type": "stream",
     "text": [
      "[1, 2, 3, 4, 5, 4, 5, 6, 7, 8, 4, 5, 6, 7, 8]\n"
     ]
    }
   ],
   "source": [
    "extend_li = lambda x , y : x.extend(y)\n",
    "\n",
    "extend_li(a, b)\n",
    "\n",
    "print(a)"
   ]
  },
  {
   "cell_type": "code",
   "execution_count": 83,
   "id": "d5feea49",
   "metadata": {},
   "outputs": [
    {
     "name": "stdout",
     "output_type": "stream",
     "text": [
      "[1, 2, 3, 4, 5, 6, 7, 8, 9, 0]\n"
     ]
    }
   ],
   "source": [
    "a = [1,2,3,4,5]\n",
    "b = [6,7,8,9,0]\n",
    "\n",
    "\n",
    "extend_li = lambda x , y : x.extend(y)\n",
    "\n",
    "extend_li(a, b)\n",
    "\n",
    "print(a)"
   ]
  },
  {
   "cell_type": "code",
   "execution_count": 87,
   "id": "40aa19ca",
   "metadata": {},
   "outputs": [
    {
     "name": "stdout",
     "output_type": "stream",
     "text": [
      "[<built-in function round>, [3.56773, 5.57668, 4.00914, 56.24241, 9.01344, 32.00013], range(1, 7)]\n"
     ]
    }
   ],
   "source": [
    "circle_areas = [3.56773, 5.57668, 4.00914, 56.24241, 9.01344, 32.00013]\n",
    "\n",
    "result = list((round, circle_areas, range(1, 7)))\n",
    "\n",
    "print(result)"
   ]
  },
  {
   "cell_type": "code",
   "execution_count": null,
   "id": "d74214b7",
   "metadata": {},
   "outputs": [],
   "source": [
    "li = [1,2,3,4,5,6]\n",
    "\n",
    "li2 = map()"
   ]
  }
 ],
 "metadata": {
  "kernelspec": {
   "display_name": "Python 3",
   "language": "python",
   "name": "python3"
  },
  "language_info": {
   "codemirror_mode": {
    "name": "ipython",
    "version": 3
   },
   "file_extension": ".py",
   "mimetype": "text/x-python",
   "name": "python",
   "nbconvert_exporter": "python",
   "pygments_lexer": "ipython3",
   "version": "3.13.3"
  }
 },
 "nbformat": 4,
 "nbformat_minor": 5
}
