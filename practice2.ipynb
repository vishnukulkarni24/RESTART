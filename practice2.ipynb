{
 "cells": [
  {
   "cell_type": "code",
   "execution_count": null,
   "id": "ea3a5ed1",
   "metadata": {},
   "outputs": [
    {
     "name": "stdout",
     "output_type": "stream",
     "text": [
      "Invalid Input! Enter valid numbers.\n"
     ]
    }
   ],
   "source": [
    "try:\n",
    "    num1 = float(input(\"Enter a dividend: \"))\n",
    "    num2 = float(input(\"Enter a divisor: \"))\n",
    "\n",
    "    div = num1 / num2\n",
    "    print(f\"{num1} / {num2} = {div:.2f}\")\n",
    "\n",
    "except ValueError:\n",
    "    print(\"Invalid Input! Enter valid numbers.\")\n",
    "\n",
    "except ZeroDivisionError:\n",
    "    print(\"Division by zero is not allowed.\")"
   ]
  },
  {
   "cell_type": "markdown",
   "id": "55b52a9e",
   "metadata": {},
   "source": [
    "1. Python program to sort Python Dictionaries by Keys \n",
    "2. Python program to sort Python Dictionaries by Values \n",
    "3. Python program to find the sum of all items in a dictionary \n",
    "4. Python program to remove a key from a dictionary."
   ]
  },
  {
   "cell_type": "code",
   "execution_count": null,
   "id": "c1eda491",
   "metadata": {},
   "outputs": [
    {
     "data": {
      "text/plain": [
       "['age', 'id', 'name']"
      ]
     },
     "execution_count": 11,
     "metadata": {},
     "output_type": "execute_result"
    }
   ],
   "source": [
    "di1 = {'id' : 123 , 'name' : 'Vishnu' , 'age' : 24}\n",
    "\n",
    "sorted_dict = sorted(di1) # sorted by\n",
    "\n",
    "sorted_dict\n",
    "\n"
   ]
  },
  {
   "cell_type": "code",
   "execution_count": 13,
   "id": "1397cf1c",
   "metadata": {},
   "outputs": [
    {
     "data": {
      "text/plain": [
       "[('age', 24), ('id', 123), ('salary', 4000000)]"
      ]
     },
     "execution_count": 13,
     "metadata": {},
     "output_type": "execute_result"
    }
   ],
   "source": [
    "di2 = {'id' : 123 , 'salary' : 4000000 , 'age' : 24}\n",
    "SortedByVal = sorted(di2.items(), key=lambda x:x[1])\n",
    "SortedByVal"
   ]
  },
  {
   "cell_type": "code",
   "execution_count": 14,
   "id": "4f5a45a5",
   "metadata": {},
   "outputs": [
    {
     "data": {
      "text/plain": [
       "dict_keys(['id', 'salary', 'age'])"
      ]
     },
     "execution_count": 14,
     "metadata": {},
     "output_type": "execute_result"
    }
   ],
   "source": [
    "di2.keys()"
   ]
  },
  {
   "cell_type": "code",
   "execution_count": 15,
   "id": "fae3f8a7",
   "metadata": {},
   "outputs": [
    {
     "data": {
      "text/plain": [
       "dict_values([123, 4000000, 24])"
      ]
     },
     "execution_count": 15,
     "metadata": {},
     "output_type": "execute_result"
    }
   ],
   "source": [
    "di2.values()"
   ]
  },
  {
   "cell_type": "code",
   "execution_count": 16,
   "id": "e439d61f",
   "metadata": {},
   "outputs": [
    {
     "data": {
      "text/plain": [
       "dict_items([('id', 123), ('name', 'Vishnu'), ('age', 24)])"
      ]
     },
     "execution_count": 16,
     "metadata": {},
     "output_type": "execute_result"
    }
   ],
   "source": [
    "di1.items()"
   ]
  },
  {
   "cell_type": "code",
   "execution_count": 20,
   "id": "7e627395",
   "metadata": {},
   "outputs": [
    {
     "data": {
      "text/plain": [
       "4000147"
      ]
     },
     "execution_count": 20,
     "metadata": {},
     "output_type": "execute_result"
    }
   ],
   "source": [
    "total_sum = sum(di2.values())\n",
    "total_sum"
   ]
  },
  {
   "cell_type": "code",
   "execution_count": 21,
   "id": "2fcdc293",
   "metadata": {},
   "outputs": [
    {
     "data": {
      "text/plain": [
       "4000000"
      ]
     },
     "execution_count": 21,
     "metadata": {},
     "output_type": "execute_result"
    }
   ],
   "source": [
    "di2 = {'id' : 123 , 'salary' : 4000000 , 'age' : 24}\n",
    "\n",
    "del_key = di2.pop('salary')\n",
    "del_key"
   ]
  },
  {
   "cell_type": "code",
   "execution_count": 22,
   "id": "d7646144",
   "metadata": {},
   "outputs": [
    {
     "data": {
      "text/plain": [
       "{'id': 123, 'age': 24}"
      ]
     },
     "execution_count": 22,
     "metadata": {},
     "output_type": "execute_result"
    }
   ],
   "source": [
    "di2"
   ]
  },
  {
   "cell_type": "code",
   "execution_count": 23,
   "id": "934bfd91",
   "metadata": {},
   "outputs": [],
   "source": [
    "di1.update(di2)"
   ]
  },
  {
   "cell_type": "code",
   "execution_count": 24,
   "id": "3580bdda",
   "metadata": {},
   "outputs": [
    {
     "data": {
      "text/plain": [
       "{'id': 123, 'name': 'Vishnu', 'age': 24}"
      ]
     },
     "execution_count": 24,
     "metadata": {},
     "output_type": "execute_result"
    }
   ],
   "source": [
    "di1"
   ]
  },
  {
   "cell_type": "code",
   "execution_count": 25,
   "id": "15ce6fd9",
   "metadata": {},
   "outputs": [
    {
     "data": {
      "text/plain": [
       "{'id': 123, 'age': 24}"
      ]
     },
     "execution_count": 25,
     "metadata": {},
     "output_type": "execute_result"
    }
   ],
   "source": [
    "di2"
   ]
  },
  {
   "cell_type": "code",
   "execution_count": 26,
   "id": "e47a5c9d",
   "metadata": {},
   "outputs": [
    {
     "name": "stdout",
     "output_type": "stream",
     "text": [
      "vishnu : A\n",
      "ameya : A\n",
      "prasad : B\n",
      "arpit : C\n",
      "vishwa : D\n",
      "pratik : Failed\n"
     ]
    }
   ],
   "source": [
    "def grade_calculate(score):\n",
    "    if score >= 90:\n",
    "        return 'A'\n",
    "    elif score >= 75:\n",
    "        return 'B'\n",
    "    elif score >= 65:\n",
    "        return 'C'\n",
    "    elif score >= 55:\n",
    "        return 'D'\n",
    "    else :\n",
    "        return \"Failed\"\n",
    "    \n",
    "\n",
    "students_score = {\n",
    "     'vishnu' : 93,\n",
    "     'ameya' : 92,\n",
    "     'prasad' : 84,\n",
    "     'arpit' : 65,\n",
    "     'vishwa' : 55,\n",
    "     'pratik' : 50\n",
    "}\n",
    "\n",
    "students_grades = {}\n",
    "\n",
    "for student, score in students_score.items():\n",
    "    grade = grade_calculate(score)\n",
    "    students_grades[student] = grade\n",
    "\n",
    "\n",
    "for student , grade in students_grades.items():\n",
    "    print(f\"{student} : {grade}\")\n"
   ]
  },
  {
   "cell_type": "code",
   "execution_count": 27,
   "id": "184c6faa",
   "metadata": {},
   "outputs": [
    {
     "name": "stdout",
     "output_type": "stream",
     "text": [
      "largest anagram group size 3\n"
     ]
    }
   ],
   "source": [
    "def LongestAnaramSubset(words):\n",
    "    anagram_grp = {}\n",
    "\n",
    "    for word in words:\n",
    "        key = ''.join(sorted(word))\n",
    "\n",
    "        if key in anagram_grp:\n",
    "            anagram_grp[key].append(word)\n",
    "            \n",
    "        else:\n",
    "            anagram_grp[key] = [word]\n",
    "\n",
    "    max_size = max(len(group) for group in anagram_grp.values()) if anagram_grp else 0\n",
    "        \n",
    "\n",
    "    return max_size\n",
    "\n",
    "words = ['listen', 'silent', 'enlist', 'hello', 'below', 'elbow', 'bowl']\n",
    "\n",
    "print(f\"largest anagram group size {LongestAnaramSubset(words)}\")\n",
    "\n",
    "\n",
    "    "
   ]
  },
  {
   "cell_type": "code",
   "execution_count": 31,
   "id": "a5a05b77",
   "metadata": {},
   "outputs": [
    {
     "name": "stdout",
     "output_type": "stream",
     "text": [
      "Frequencies in the list:\n",
      "apple: 3\n",
      "banana: 2\n",
      "orange: 1\n"
     ]
    }
   ],
   "source": [
    "my_list = ['apple', 'banana', 'apple', 'orange', 'banana', 'apple']\n",
    "\n",
    "frequency = {}\n",
    "\n",
    "\n",
    "for item in my_list:\n",
    "    if item in frequency:\n",
    "        frequency[item] += 1\n",
    "    else:\n",
    "        frequency[item] = 1\n",
    "\n",
    "print(\"Frequencies in the list:\")\n",
    "for item, count in frequency.items():\n",
    "    print(f\"{item}: {count}\")\n"
   ]
  },
  {
   "cell_type": "code",
   "execution_count": 34,
   "id": "9611e5e5",
   "metadata": {},
   "outputs": [
    {
     "name": "stdout",
     "output_type": "stream",
     "text": [
      "a : 3\n",
      "b : 2\n",
      "c : 1\n"
     ]
    }
   ],
   "source": [
    "li2 = ['a', 'a', 'b', 'a', 'b', 'c']\n",
    "\n",
    "frequency = {}\n",
    "\n",
    "for i in li2:\n",
    "    if i in frequency:\n",
    "        frequency[i] += 1\n",
    "    else:\n",
    "        frequency[i] = 1\n",
    "\n",
    "\n",
    "for i, count in frequency.items():\n",
    "    print(f\"{i} : {count}\")\n",
    "\n",
    "\n"
   ]
  },
  {
   "cell_type": "code",
   "execution_count": null,
   "id": "7b9274ed",
   "metadata": {},
   "outputs": [
    {
     "data": {
      "text/plain": [
       "{'a': 1, 'b': 2, 'c': 3, 'd': 5}"
      ]
     },
     "execution_count": 37,
     "metadata": {},
     "output_type": "execute_result"
    }
   ],
   "source": [
    "# Python program to convert a list of Tuples into Dictionary.\n",
    "  \n",
    "li3 = [(\"a\",1), ('b',2),('c',3),('d',4),('d',5)]\n",
    "di2 = dict(li3)\n",
    "di2"
   ]
  },
  {
   "cell_type": "code",
   "execution_count": 50,
   "id": "4e67a8af",
   "metadata": {},
   "outputs": [
    {
     "name": "stdout",
     "output_type": "stream",
     "text": [
      "{'vishnu': 23, 'ganesh': 24}\n"
     ]
    }
   ],
   "source": [
    "def ConvertToDict(): \n",
    "\n",
    "    n = int(input(\"enter how many tuple\"))\n",
    "\n",
    "    tuple_list = []\n",
    "\n",
    "    for i in range(n):\n",
    "        user_input = input(f\"Enter tuple {i+1}\").split()\n",
    "\n",
    "        tup = (user_input[0], int(user_input[1]))\n",
    "        tuple_list.append(tup)\n",
    "\n",
    "    di1 = dict(tuple_list)\n",
    "    return di1\n",
    "\n",
    "di1 = ConvertToDict()\n",
    "\n",
    "print(di1)"
   ]
  },
  {
   "cell_type": "code",
   "execution_count": 52,
   "id": "28283156",
   "metadata": {},
   "outputs": [
    {
     "data": {
      "text/plain": [
       "{'24': 24, '25': 26}"
      ]
     },
     "execution_count": 52,
     "metadata": {},
     "output_type": "execute_result"
    }
   ],
   "source": [
    "ConvertToDict()"
   ]
  },
  {
   "cell_type": "code",
   "execution_count": 65,
   "id": "709cc92c",
   "metadata": {},
   "outputs": [
    {
     "name": "stdout",
     "output_type": "stream",
     "text": [
      "[('vishnu', '2'), ('vishnu', \"3'\"), ('vishnu', '34')]\n"
     ]
    }
   ],
   "source": [
    "n = 3\n",
    "tup_li = []\n",
    "for i in range(n):\n",
    "    input1 = input(F\"{i + 1}\").split()\n",
    "    tup = (input1[0], input1[1])\n",
    "    tup_li.append(tup)\n",
    "\n",
    "    di3 = dict(tup_li)\n",
    "    \n",
    "\n",
    "print(tup_li)                                    "
   ]
  },
  {
   "cell_type": "code",
   "execution_count": 58,
   "id": "ad7c94e4",
   "metadata": {},
   "outputs": [
    {
     "name": "stdout",
     "output_type": "stream",
     "text": [
      "[('vishnu', '23'), ('vishnu', '24')]\n",
      "{'vishnu': '24'}\n"
     ]
    }
   ],
   "source": [
    "print(tup_li)\n",
    "print(dict(tup_li))"
   ]
  },
  {
   "cell_type": "code",
   "execution_count": null,
   "id": "17c236ae",
   "metadata": {},
   "outputs": [],
   "source": []
  }
 ],
 "metadata": {
  "kernelspec": {
   "display_name": "py311",
   "language": "python",
   "name": "python3"
  },
  "language_info": {
   "codemirror_mode": {
    "name": "ipython",
    "version": 3
   },
   "file_extension": ".py",
   "mimetype": "text/x-python",
   "name": "python",
   "nbconvert_exporter": "python",
   "pygments_lexer": "ipython3",
   "version": "3.11.13"
  }
 },
 "nbformat": 4,
 "nbformat_minor": 5
}
