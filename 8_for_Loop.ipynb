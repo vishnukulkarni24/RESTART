{
 "cells": [
  {
   "cell_type": "markdown",
   "id": "7c7bd66f",
   "metadata": {},
   "source": [
    "# "
   ]
  },
  {
   "cell_type": "code",
   "execution_count": 23,
   "id": "17e9276d",
   "metadata": {},
   "outputs": [
    {
     "name": "stdout",
     "output_type": "stream",
     "text": [
      "name -> John\n",
      "age -> 30\n"
     ]
    }
   ],
   "source": [
    "person = {\"name\": \"John\", \"age\": 30}\n",
    "for key in person:\n",
    "    print(key, \"->\", person[key])\n",
    "\n"
   ]
  },
  {
   "cell_type": "code",
   "execution_count": 24,
   "id": "0c9d1188",
   "metadata": {},
   "outputs": [
    {
     "name": "stdout",
     "output_type": "stream",
     "text": [
      "name\n",
      "age\n"
     ]
    }
   ],
   "source": [
    "person = {\"name\": \"John\", \"age\": 30}\n",
    "for key in person:\n",
    "    print(key)"
   ]
  },
  {
   "cell_type": "code",
   "execution_count": 25,
   "id": "a7b6f2be",
   "metadata": {},
   "outputs": [
    {
     "name": "stdout",
     "output_type": "stream",
     "text": [
      "name John\n",
      "age 30\n"
     ]
    }
   ],
   "source": [
    "for key, value in person.items():\n",
    "    print(key, value)\n"
   ]
  },
  {
   "cell_type": "code",
   "execution_count": 26,
   "id": "4d36e16c",
   "metadata": {},
   "outputs": [
    {
     "name": "stdout",
     "output_type": "stream",
     "text": [
      "0 0\n",
      "0 1\n",
      "0 2\n",
      "1 0\n",
      "1 1\n",
      "1 2\n"
     ]
    }
   ],
   "source": [
    "for i in range(2):\n",
    "    for j in range(3):\n",
    "        print(i, j)\n",
    "\n"
   ]
  },
  {
   "cell_type": "code",
   "execution_count": 27,
   "id": "15025033",
   "metadata": {},
   "outputs": [
    {
     "name": "stdout",
     "output_type": "stream",
     "text": [
      "0 0\n",
      "0 1\n",
      "0 2\n",
      "1 0\n",
      "1 1\n",
      "1 2\n"
     ]
    }
   ],
   "source": [
    "for i in range(2):\n",
    "    for j in range(3):\n",
    "        \n",
    "        \n",
    "            print(i, j)\n"
   ]
  },
  {
   "cell_type": "code",
   "execution_count": 28,
   "id": "9ce92473",
   "metadata": {},
   "outputs": [
    {
     "name": "stdout",
     "output_type": "stream",
     "text": [
      "0\n",
      "1\n",
      "2\n"
     ]
    }
   ],
   "source": [
    "for i in range(10):\n",
    "    if i == 3:\n",
    "        break\n",
    "    print(i)"
   ]
  },
  {
   "cell_type": "code",
   "execution_count": 29,
   "id": "bc28749a",
   "metadata": {},
   "outputs": [
    {
     "name": "stdout",
     "output_type": "stream",
     "text": [
      "0\n",
      "1\n",
      "2\n",
      "3\n"
     ]
    }
   ],
   "source": [
    "for i in range(10):\n",
    "     print(i)\n",
    "     if i == 3:\n",
    "         break\n"
   ]
  },
  {
   "cell_type": "markdown",
   "id": "ccab0823",
   "metadata": {},
   "source": [
    "# 2. continue Statement :\n",
    "\n",
    "- Continue is used to stop only the current iteration, and continue with next iterations."
   ]
  },
  {
   "cell_type": "code",
   "execution_count": 30,
   "id": "d9fb9d10",
   "metadata": {},
   "outputs": [
    {
     "name": "stdout",
     "output_type": "stream",
     "text": [
      "1\n",
      "2\n",
      "4\n",
      "5\n",
      "6\n"
     ]
    }
   ],
   "source": [
    "li = [1,2,3,4,5,6]\n",
    "for i in li:\n",
    "    if i == 3:\n",
    "        continue\n",
    "    print(i)"
   ]
  },
  {
   "cell_type": "code",
   "execution_count": 31,
   "id": "e49b7d24",
   "metadata": {},
   "outputs": [
    {
     "data": {
      "text/plain": [
       "[1, 2, 4, 5, 6, 7, 8, 9]"
      ]
     },
     "execution_count": 31,
     "metadata": {},
     "output_type": "execute_result"
    }
   ],
   "source": [
    "li = [1,2,\"Python\",4,5,6,\"Data\",\"Science\",7,8,9]\n",
    "Nli = []\n",
    "for i in li:\n",
    "    if type(i) == str:\n",
    "        continue\n",
    "    Nli.append(i)\n",
    "Nli"
   ]
  },
  {
   "cell_type": "code",
   "execution_count": 32,
   "id": "6313e6e3",
   "metadata": {},
   "outputs": [
    {
     "data": {
      "text/plain": [
       "[1, 2]"
      ]
     },
     "execution_count": 32,
     "metadata": {},
     "output_type": "execute_result"
    }
   ],
   "source": [
    "li = [1,2,\"Python\",4,5,6,\"Data\",\"Science\",7,8,9]\n",
    "Nli = []\n",
    "for i in li:\n",
    "    if type(i) == str:\n",
    "        break\n",
    "    Nli.append(i)\n",
    "Nli"
   ]
  },
  {
   "cell_type": "markdown",
   "id": "ffc62b03",
   "metadata": {},
   "source": [
    "# Pass Statement\n",
    "\n",
    "- Used when there is nothing to perform.\n"
   ]
  },
  {
   "cell_type": "code",
   "execution_count": 33,
   "id": "783b50f0",
   "metadata": {},
   "outputs": [
    {
     "name": "stdout",
     "output_type": "stream",
     "text": [
      "0\n",
      "1\n",
      "2\n",
      "3\n",
      "4\n"
     ]
    }
   ],
   "source": [
    "for i in range(5):\n",
    "    pass\n",
    "    print(i)"
   ]
  },
  {
   "cell_type": "code",
   "execution_count": 34,
   "id": "fcf8e84a",
   "metadata": {},
   "outputs": [
    {
     "name": "stdout",
     "output_type": "stream",
     "text": [
      "0\n",
      "1\n",
      "2\n",
      "3\n",
      "4\n"
     ]
    }
   ],
   "source": [
    "for i in range(5):\n",
    "    print(i)"
   ]
  },
  {
   "cell_type": "code",
   "execution_count": 35,
   "id": "014e6fc3",
   "metadata": {},
   "outputs": [
    {
     "name": "stdout",
     "output_type": "stream",
     "text": [
      "1\n",
      "2\n",
      "4\n",
      "5\n",
      "6\n",
      "7\n",
      "8\n",
      "9\n"
     ]
    }
   ],
   "source": [
    "li = [1,2,4,5,6,7,8,9]\n",
    "for i in li:\n",
    "    if i == 3:\n",
    "        continue\n",
    "    print(i)"
   ]
  },
  {
   "cell_type": "markdown",
   "id": "dec637f4",
   "metadata": {},
   "source": [
    "# for - else\n",
    "\n",
    "- Else block will be executed only when all the iteration of loop got completed.\n"
   ]
  },
  {
   "cell_type": "code",
   "execution_count": 36,
   "id": "fdf8f286",
   "metadata": {},
   "outputs": [
    {
     "name": "stdout",
     "output_type": "stream",
     "text": [
      "i -->0\n",
      "i -->1\n",
      "i -->2\n",
      "i -->3\n",
      "i -->4\n"
     ]
    }
   ],
   "source": [
    "for i in range(5):\n",
    "    print(f\"i -->{i}\")"
   ]
  },
  {
   "cell_type": "code",
   "execution_count": 37,
   "id": "0b2d7ef4",
   "metadata": {},
   "outputs": [
    {
     "name": "stdout",
     "output_type": "stream",
     "text": [
      "i --> 0\n",
      "i --> 1\n",
      "i --> 2\n",
      "i --> 3\n",
      "i --> 4\n",
      "All iteration got completed\n"
     ]
    }
   ],
   "source": [
    "for i in range(5):\n",
    "    print(f\"i --> {i}\")\n",
    "else:\n",
    "    print(\"All iteration got completed\")"
   ]
  },
  {
   "cell_type": "code",
   "execution_count": 38,
   "id": "f02d8a93",
   "metadata": {},
   "outputs": [
    {
     "name": "stdout",
     "output_type": "stream",
     "text": [
      "i --> 0\n",
      "i --> 1\n",
      "i --> 2\n",
      "i --> 3\n"
     ]
    }
   ],
   "source": [
    "for i in range(5):\n",
    "    print(f\"i --> {i}\")\n",
    "    if i == 3:\n",
    "        break\n",
    "else:\n",
    "    print(\"All iterations got completed\")"
   ]
  },
  {
   "cell_type": "code",
   "execution_count": 39,
   "id": "3e5ec6eb",
   "metadata": {},
   "outputs": [
    {
     "name": "stdout",
     "output_type": "stream",
     "text": [
      "i --> 0\n",
      "i --> 1\n",
      "i --> 2\n",
      "i --> 3\n",
      "i --> 4\n",
      "All iterations got completed\n"
     ]
    }
   ],
   "source": [
    "for i in range(5):\n",
    "    print(f\"i --> {i}\")\n",
    "    if i == 3:\n",
    "        continue\n",
    "else:\n",
    "    print(\"All iterations got completed\")"
   ]
  },
  {
   "cell_type": "markdown",
   "id": "9ea3f1b9",
   "metadata": {},
   "source": [
    "# Factorial :- \n",
    "\n",
    "- 3! = 3 * 2 * 1\n",
    "- 4! = 4 * 3 * 2 * 1\n",
    "- 5! = 5* 4* 3* 2* 1"
   ]
  },
  {
   "cell_type": "code",
   "execution_count": 40,
   "id": "cd6bd6d0",
   "metadata": {},
   "outputs": [
    {
     "name": "stdout",
     "output_type": "stream",
     "text": [
      "0\n",
      "1\n",
      "2\n",
      "3\n",
      "4\n"
     ]
    }
   ],
   "source": [
    "# Factorial\n",
    "\n",
    "for i in range(5):\n",
    "    print(i)"
   ]
  },
  {
   "cell_type": "code",
   "execution_count": 41,
   "id": "a76d9370",
   "metadata": {},
   "outputs": [
    {
     "name": "stdout",
     "output_type": "stream",
     "text": [
      "1\n",
      "2\n",
      "3\n",
      "4\n",
      "5\n"
     ]
    }
   ],
   "source": [
    "for i in range(1,5+1):\n",
    "    print(i)"
   ]
  },
  {
   "cell_type": "code",
   "execution_count": 42,
   "id": "1a54b0a1",
   "metadata": {},
   "outputs": [
    {
     "name": "stdout",
     "output_type": "stream",
     "text": [
      "1\n",
      "2\n",
      "3\n",
      "4\n",
      "5\n",
      "6\n",
      "7\n",
      "8\n",
      "9\n",
      "10\n"
     ]
    }
   ],
   "source": [
    "for i in range(1, 10 +1):\n",
    "    print(i)"
   ]
  },
  {
   "cell_type": "code",
   "execution_count": 43,
   "id": "edc03aea",
   "metadata": {},
   "outputs": [
    {
     "name": "stdout",
     "output_type": "stream",
     "text": [
      "factorial\n",
      "1\n",
      "2\n",
      "3\n",
      "4\n"
     ]
    }
   ],
   "source": [
    "print(\"factorial\")\n",
    "a = int(input())\n",
    "for i in range(1,a+1):\n",
    "    print(i)"
   ]
  },
  {
   "cell_type": "code",
   "execution_count": 44,
   "id": "b6f911f8",
   "metadata": {},
   "outputs": [
    {
     "name": "stdout",
     "output_type": "stream",
     "text": [
      "factorial\n"
     ]
    },
    {
     "data": {
      "text/plain": [
       "0"
      ]
     },
     "execution_count": 44,
     "metadata": {},
     "output_type": "execute_result"
    }
   ],
   "source": [
    "print(\"factorial\")\n",
    "factorial = 0\n",
    "a = int(input(\"Enter the number for factorial:- \"))\n",
    "for i in range(1,a+1):\n",
    "    factorial *= i\n",
    "    \n",
    "factorial"
   ]
  },
  {
   "cell_type": "code",
   "execution_count": 45,
   "id": "1518317b",
   "metadata": {},
   "outputs": [
    {
     "name": "stdout",
     "output_type": "stream",
     "text": [
      "factorial\n"
     ]
    },
    {
     "ename": "ValueError",
     "evalue": "invalid literal for int() with base 10: 'hh'",
     "output_type": "error",
     "traceback": [
      "\u001b[31m---------------------------------------------------------------------------\u001b[39m",
      "\u001b[31mValueError\u001b[39m                                Traceback (most recent call last)",
      "\u001b[36mCell\u001b[39m\u001b[36m \u001b[39m\u001b[32mIn[45]\u001b[39m\u001b[32m, line 3\u001b[39m\n\u001b[32m      1\u001b[39m \u001b[38;5;28mprint\u001b[39m(\u001b[33m\"\u001b[39m\u001b[33mfactorial\u001b[39m\u001b[33m\"\u001b[39m)\n\u001b[32m      2\u001b[39m factorial = \u001b[32m1\u001b[39m\n\u001b[32m----> \u001b[39m\u001b[32m3\u001b[39m a = \u001b[38;5;28;43mint\u001b[39;49m\u001b[43m(\u001b[49m\u001b[38;5;28;43minput\u001b[39;49m\u001b[43m(\u001b[49m\u001b[33;43m\"\u001b[39;49m\u001b[33;43mEnter the number for factorial:- \u001b[39;49m\u001b[33;43m\"\u001b[39;49m\u001b[43m)\u001b[49m\u001b[43m)\u001b[49m\n\u001b[32m      4\u001b[39m \u001b[38;5;28;01mfor\u001b[39;00m i \u001b[38;5;129;01min\u001b[39;00m \u001b[38;5;28mrange\u001b[39m(\u001b[32m1\u001b[39m,a+\u001b[32m1\u001b[39m):\n\u001b[32m      5\u001b[39m     factorial *= i\n",
      "\u001b[31mValueError\u001b[39m: invalid literal for int() with base 10: 'hh'"
     ]
    }
   ],
   "source": [
    "print(\"factorial\")\n",
    "factorial = 1\n",
    "a = int(input(\"Enter the number for factorial:- \"))\n",
    "for i in range(1,a+1):\n",
    "    factorial *= i\n",
    "print(f\"Factorial of {a}:- \",factorial)"
   ]
  },
  {
   "cell_type": "code",
   "execution_count": null,
   "id": "4afdb326",
   "metadata": {},
   "outputs": [
    {
     "name": "stdout",
     "output_type": "stream",
     "text": [
      "factorial\n",
      "Factorial of 8:-  40320\n"
     ]
    }
   ],
   "source": [
    "print(\"factorial\")\n",
    "factorial = 1\n",
    "a = int(input(\"Enter the number for factorial:- \"))\n",
    "for i in range(1,a+1):\n",
    "    factorial *= i\n",
    "print(f\"Factorial of {a}:- \",factorial)"
   ]
  },
  {
   "cell_type": "code",
   "execution_count": null,
   "id": "8513e272",
   "metadata": {},
   "outputs": [
    {
     "name": "stdout",
     "output_type": "stream",
     "text": [
      "factorial\n",
      "Factorial of -4:-  1\n"
     ]
    }
   ],
   "source": [
    "print(\"factorial\")\n",
    "factorial = 1\n",
    "a = int(input(\"Enter the number for factorial:- \"))\n",
    "for i in range(1,a+1):\n",
    "    factorial *= i\n",
    "print(f\"Factorial of {a}:- \",factorial)"
   ]
  },
  {
   "cell_type": "markdown",
   "id": "6bf7f362",
   "metadata": {},
   "source": [
    "# Nested For Loop\n",
    "\n",
    "- For loop inside for loop\n",
    "\n",
    "- for val1 in seq1:\n",
    "        - statements\n",
    "        - statements\n",
    "        - statements\n",
    "        - for val2 in seq2:\n",
    "          - statements\n",
    "          - statements\n",
    "          - statements\n",
    "          - for val3 in seq3:\n",
    "            - statements\n",
    "            - statements\n",
    "            - statements\n",
    "\n",
    "\n"
   ]
  },
  {
   "cell_type": "code",
   "execution_count": null,
   "id": "d206657f",
   "metadata": {},
   "outputs": [
    {
     "name": "stdout",
     "output_type": "stream",
     "text": [
      "Iteration 1\n",
      "Iteration 2\n",
      "Iteration 3\n",
      "Iteration 4\n",
      "Iteration 5\n"
     ]
    }
   ],
   "source": [
    "for i in range(1,6):\n",
    "               print(f\"Iteration {i}\")"
   ]
  },
  {
   "cell_type": "code",
   "execution_count": null,
   "id": "016c790f",
   "metadata": {},
   "outputs": [
    {
     "name": "stdout",
     "output_type": "stream",
     "text": [
      "Iteration 1\n",
      "Python\n",
      "Iteration 2\n",
      "Python\n",
      "Iteration 3\n",
      "Python\n",
      "Iteration 4\n",
      "Python\n",
      "Iteration 5\n",
      "Python\n"
     ]
    }
   ],
   "source": [
    "for i in range(1,6):\n",
    "               print(f\"Iteration {i}\")\n",
    "               print(\"Python\")"
   ]
  },
  {
   "cell_type": "code",
   "execution_count": null,
   "id": "a0b700ae",
   "metadata": {},
   "outputs": [
    {
     "name": "stdout",
     "output_type": "stream",
     "text": [
      "Outer Iteration 1\n",
      "Inner Iteration 1\n",
      "Inner Iteration 2\n",
      "Inner Iteration 3\n",
      "Inner Iteration 4\n",
      "Inner Iteration 5\n",
      "********************\n",
      "Outer Iteration 2\n",
      "Inner Iteration 1\n",
      "Inner Iteration 2\n",
      "Inner Iteration 3\n",
      "Inner Iteration 4\n",
      "Inner Iteration 5\n",
      "********************\n",
      "Outer Iteration 3\n",
      "Inner Iteration 1\n",
      "Inner Iteration 2\n",
      "Inner Iteration 3\n",
      "Inner Iteration 4\n",
      "Inner Iteration 5\n",
      "********************\n",
      "Outer Iteration 4\n",
      "Inner Iteration 1\n",
      "Inner Iteration 2\n",
      "Inner Iteration 3\n",
      "Inner Iteration 4\n",
      "Inner Iteration 5\n",
      "********************\n",
      "Outer Iteration 5\n",
      "Inner Iteration 1\n",
      "Inner Iteration 2\n",
      "Inner Iteration 3\n",
      "Inner Iteration 4\n",
      "Inner Iteration 5\n",
      "********************\n"
     ]
    }
   ],
   "source": [
    "for i in range(1,6):\n",
    "    print(f\"Outer Iteration {i}\")\n",
    "    for i in range(1,6):\n",
    "        print(f\"Inner Iteration {i}\")\n",
    "    print(\"*\" * 20)"
   ]
  },
  {
   "cell_type": "code",
   "execution_count": null,
   "id": "5eb5c065",
   "metadata": {},
   "outputs": [
    {
     "name": "stdout",
     "output_type": "stream",
     "text": [
      "Outer Iteration 1\n",
      "inner Iteraation 1\n",
      "inner Iteraation 2\n",
      "inner Iteraation 3\n",
      "inner Iteraation 4\n",
      "inner Iteraation 5\n",
      "********************\n",
      "Outer Iteration 2\n",
      "inner Iteraation 1\n",
      "inner Iteraation 2\n",
      "inner Iteraation 3\n",
      "inner Iteraation 4\n",
      "inner Iteraation 5\n",
      "********************\n"
     ]
    }
   ],
   "source": [
    "for i in range(1,3):\n",
    "    print(f\"Outer Iteration {i}\")\n",
    "    for i in range(1,6):\n",
    "        print(f\"inner Iteraation {i}\")\n",
    "    print(\"*\" *20)"
   ]
  },
  {
   "cell_type": "code",
   "execution_count": null,
   "id": "ebfe44c7",
   "metadata": {},
   "outputs": [
    {
     "name": "stdout",
     "output_type": "stream",
     "text": [
      "outer Iteration 1\n",
      "Python\n",
      "Python\n",
      "Python\n",
      "Python\n",
      "Python\n",
      "********************\n",
      "outer Iteration 2\n",
      "Python\n",
      "Python\n",
      "Python\n",
      "Python\n",
      "Python\n",
      "********************\n",
      "outer Iteration 3\n",
      "Python\n",
      "Python\n",
      "Python\n",
      "Python\n",
      "Python\n",
      "********************\n",
      "outer Iteration 4\n",
      "Python\n",
      "Python\n",
      "Python\n",
      "Python\n",
      "Python\n",
      "********************\n",
      "outer Iteration 5\n",
      "Python\n",
      "Python\n",
      "Python\n",
      "Python\n",
      "Python\n",
      "********************\n"
     ]
    }
   ],
   "source": [
    "for i in range(1,6):\n",
    "    print(f\"outer Iteration {i}\")\n",
    "    for i in range(1,6):\n",
    "        print(\"Python\")\n",
    "    print(\"*\"*20)"
   ]
  },
  {
   "cell_type": "code",
   "execution_count": null,
   "id": "95e3b4c3",
   "metadata": {},
   "outputs": [
    {
     "name": "stdout",
     "output_type": "stream",
     "text": [
      "Outer Iteration 1\n",
      "Python\n",
      "Python\n",
      "********************\n",
      "\n",
      "Outer Iteration 2\n",
      "Python\n",
      "Python\n",
      "********************\n",
      "\n",
      "Outer Iteration 3\n",
      "Python\n",
      "Python\n",
      "********************\n",
      "\n",
      "Outer Iteration 4\n",
      "Python\n",
      "Python\n",
      "********************\n",
      "\n",
      "Outer Iteration 5\n",
      "Python\n",
      "Python\n",
      "********************\n",
      "\n"
     ]
    }
   ],
   "source": [
    "for i in range(1,6):\n",
    "    print(f\"Outer Iteration {i}\")\n",
    "    for i in range(1,3):\n",
    "        print(\"Python\")\n",
    "    print(\"*\"* 20)\n",
    "    print()"
   ]
  },
  {
   "cell_type": "code",
   "execution_count": null,
   "id": "7006b78f",
   "metadata": {},
   "outputs": [
    {
     "name": "stdout",
     "output_type": "stream",
     "text": [
      "Outer Iteration 1\n",
      "Python\n",
      "Data Science\n",
      "Data Science\n",
      "Python\n",
      "Data Science\n",
      "Data Science\n",
      "********************\n",
      "\n",
      "Outer Iteration 2\n",
      "Python\n",
      "Data Science\n",
      "Data Science\n",
      "Python\n",
      "Data Science\n",
      "Data Science\n",
      "********************\n",
      "\n",
      "Outer Iteration 3\n",
      "Python\n",
      "Data Science\n",
      "Data Science\n",
      "Python\n",
      "Data Science\n",
      "Data Science\n",
      "********************\n",
      "\n",
      "Outer Iteration 4\n",
      "Python\n",
      "Data Science\n",
      "Data Science\n",
      "Python\n",
      "Data Science\n",
      "Data Science\n",
      "********************\n",
      "\n",
      "Outer Iteration 5\n",
      "Python\n",
      "Data Science\n",
      "Data Science\n",
      "Python\n",
      "Data Science\n",
      "Data Science\n",
      "********************\n",
      "\n"
     ]
    }
   ],
   "source": [
    "for i in range(1,6):\n",
    "    print(f\"Outer Iteration {i}\")\n",
    "    for i in range(1,3):\n",
    "        print(\"Python\")\n",
    "        for i in range(0,2):\n",
    "            print(\"Data Science\")\n",
    "    print(\"*\"*20)\n",
    "    print()"
   ]
  },
  {
   "cell_type": "code",
   "execution_count": null,
   "id": "1ffe6c76",
   "metadata": {},
   "outputs": [
    {
     "name": "stdout",
     "output_type": "stream",
     "text": [
      "i=0, j=0\n",
      "i=0, j=1\n",
      "i=0, j=2\n",
      "i=1, j=0\n",
      "i=1, j=1\n",
      "i=1, j=2\n"
     ]
    }
   ],
   "source": [
    "for i in range(2):       # Outer loop: i = 0, 1\n",
    "    for j in range(3):   # Inner loop: j = 0, 1, 2\n",
    "        print(f\"i={i}, j={j}\")"
   ]
  },
  {
   "cell_type": "code",
   "execution_count": null,
   "id": "248e3a1b",
   "metadata": {},
   "outputs": [
    {
     "name": "stdout",
     "output_type": "stream",
     "text": [
      "1 2 3 \n",
      "4 5 6 \n"
     ]
    }
   ],
   "source": [
    "matrix = [\n",
    "    [1, 2, 3],\n",
    "    [4, 5, 6],\n",
    "]\n",
    "\n",
    "for row in matrix:\n",
    "    for val in row:\n",
    "        print(val, end=\" \")\n",
    "    print()"
   ]
  },
  {
   "cell_type": "code",
   "execution_count": 46,
   "id": "1b38a7e3",
   "metadata": {},
   "outputs": [
    {
     "name": "stdout",
     "output_type": "stream",
     "text": [
      "1\t2\t3\t\n",
      "2\t4\t6\t\n",
      "3\t6\t9\t\n"
     ]
    }
   ],
   "source": [
    "for i in range(1, 4):\n",
    "    for j in range(1, 4):\n",
    "        print(i * j, end=\"\\t\")\n",
    "    print()"
   ]
  },
  {
   "cell_type": "code",
   "execution_count": null,
   "id": "2210095e",
   "metadata": {},
   "outputs": [],
   "source": []
  },
  {
   "cell_type": "markdown",
   "id": "961753d6",
   "metadata": {},
   "source": [
    "# Patterns :\n"
   ]
  },
  {
   "cell_type": "code",
   "execution_count": 12,
   "id": "d4d13f74",
   "metadata": {},
   "outputs": [
    {
     "name": "stdout",
     "output_type": "stream",
     "text": [
      "I => 0\n",
      "*******\n",
      "*******\n",
      "\n",
      "I => 1\n",
      "*******\n",
      "*******\n",
      "\n",
      "I => 2\n",
      "*******\n",
      "*******\n",
      "\n"
     ]
    }
   ],
   "source": [
    "for i in range (3):\n",
    "    print(f\"I => {i}\")\n",
    "    for j in range(2):\n",
    "        print(f\"*******\")\n",
    "    print()"
   ]
  },
  {
   "cell_type": "code",
   "execution_count": 17,
   "id": "719d24fb",
   "metadata": {},
   "outputs": [
    {
     "name": "stdout",
     "output_type": "stream",
     "text": [
      "I => 0\n",
      "*******\n",
      "*******\n",
      "*******\n",
      "\n",
      "I => 1\n",
      "*******\n",
      "*******\n",
      "*******\n",
      "\n",
      "I => 2\n",
      "*******\n",
      "*******\n",
      "*******\n",
      "\n"
     ]
    }
   ],
   "source": [
    "for i in range (3):\n",
    "    print(f\"I => {i}\")\n",
    "    for j in range(3):\n",
    "        print(\"*******\")\n",
    "    print()"
   ]
  },
  {
   "cell_type": "code",
   "execution_count": 16,
   "id": "fc694c10",
   "metadata": {},
   "outputs": [
    {
     "name": "stdout",
     "output_type": "stream",
     "text": [
      "I -> 0\n",
      "*\n",
      "*\n",
      "*\n",
      "\n",
      "I -> 1\n",
      "*\n",
      "*\n",
      "*\n",
      "\n",
      "I -> 2\n",
      "*\n",
      "*\n",
      "*\n",
      "\n"
     ]
    }
   ],
   "source": [
    "for i in range(3):\n",
    "    print(f\"I -> {i}\")\n",
    "    for j in range(3):\n",
    "        print(\"*\")\n",
    "    print()"
   ]
  },
  {
   "cell_type": "code",
   "execution_count": 18,
   "id": "b425f3aa",
   "metadata": {},
   "outputs": [
    {
     "name": "stdout",
     "output_type": "stream",
     "text": [
      "0\n",
      "1\n",
      "2\n",
      "3\n",
      "Loop completed.\n"
     ]
    }
   ],
   "source": [
    "for i in range(4):\n",
    "    print(i)\n",
    "else:\n",
    "    print(\"Loop completed.\")\n"
   ]
  },
  {
   "cell_type": "code",
   "execution_count": 19,
   "id": "c7bf3674",
   "metadata": {},
   "outputs": [
    {
     "name": "stdout",
     "output_type": "stream",
     "text": [
      "0\n",
      "1\n"
     ]
    }
   ],
   "source": [
    "for i in range(4):\n",
    "    if i == 2:\n",
    "        break\n",
    "    print(i)\n",
    "else:\n",
    "    print(\"This won't print.\")\n"
   ]
  },
  {
   "cell_type": "code",
   "execution_count": 27,
   "id": "cd234f37",
   "metadata": {},
   "outputs": [
    {
     "name": "stdout",
     "output_type": "stream",
     "text": [
      "This won't print.\n"
     ]
    }
   ],
   "source": [
    "for i in range(4):\n",
    "    if i == 5 :\n",
    "        print(i)\n",
    "else:\n",
    "    print(\"This won't print.\")"
   ]
  },
  {
   "cell_type": "markdown",
   "id": "bcc6d5e4",
   "metadata": {},
   "source": [
    "# COPY FUNCTIONALITY:\n",
    "\n",
    "- 1. EQUALS TO OPERATOR\n",
    "- 2. SHALLOW COPY\n",
    "- 3. DEEP COPY"
   ]
  },
  {
   "cell_type": "markdown",
   "id": "73d3f7bb",
   "metadata": {},
   "source": [
    "# 1. Equala to operator\n",
    "\n",
    "- By using = operator we are basically pointing towards the same memory location."
   ]
  },
  {
   "cell_type": "code",
   "execution_count": 28,
   "id": "8682da75",
   "metadata": {},
   "outputs": [
    {
     "name": "stdout",
     "output_type": "stream",
     "text": [
      "[1, 2, 3, 4, 5, 6]\n",
      "[1, 2, 3, 4, 5, 6]\n"
     ]
    }
   ],
   "source": [
    "li = [1,2,3,4,5,6]\n",
    "print(li)\n",
    "li1 = li\n",
    "print(li1)"
   ]
  },
  {
   "cell_type": "code",
   "execution_count": 29,
   "id": "1ff703d8",
   "metadata": {},
   "outputs": [],
   "source": [
    "li[0]= 100"
   ]
  },
  {
   "cell_type": "code",
   "execution_count": 30,
   "id": "f1c0c924",
   "metadata": {},
   "outputs": [
    {
     "data": {
      "text/plain": [
       "[100, 2, 3, 4, 5, 6]"
      ]
     },
     "execution_count": 30,
     "metadata": {},
     "output_type": "execute_result"
    }
   ],
   "source": [
    "li1"
   ]
  },
  {
   "cell_type": "code",
   "execution_count": 31,
   "id": "85233ca0",
   "metadata": {},
   "outputs": [],
   "source": [
    "a = 5\n",
    "b = a"
   ]
  },
  {
   "cell_type": "code",
   "execution_count": 33,
   "id": "71805bc0",
   "metadata": {},
   "outputs": [],
   "source": [
    "b = 500"
   ]
  },
  {
   "cell_type": "code",
   "execution_count": 34,
   "id": "a3e08250",
   "metadata": {},
   "outputs": [
    {
     "data": {
      "text/plain": [
       "5"
      ]
     },
     "execution_count": 34,
     "metadata": {},
     "output_type": "execute_result"
    }
   ],
   "source": [
    "a"
   ]
  },
  {
   "cell_type": "code",
   "execution_count": 35,
   "id": "5476c216",
   "metadata": {},
   "outputs": [
    {
     "data": {
      "text/plain": [
       "500"
      ]
     },
     "execution_count": 35,
     "metadata": {},
     "output_type": "execute_result"
    }
   ],
   "source": [
    "b"
   ]
  },
  {
   "cell_type": "code",
   "execution_count": 36,
   "id": "af0619df",
   "metadata": {},
   "outputs": [
    {
     "name": "stdout",
     "output_type": "stream",
     "text": [
      "[[1, 2], 3, 4, 5]\n",
      "[[1, 2], 3, 4, 5]\n"
     ]
    }
   ],
   "source": [
    "li1 = [[1,2],3, 4, 5]\n",
    "print(li1)\n",
    "li2 = li1\n",
    "print(li1)"
   ]
  },
  {
   "cell_type": "code",
   "execution_count": 37,
   "id": "14f18889",
   "metadata": {},
   "outputs": [],
   "source": [
    "li2[0].append(5)"
   ]
  },
  {
   "cell_type": "code",
   "execution_count": 38,
   "id": "414e4f1e",
   "metadata": {},
   "outputs": [
    {
     "data": {
      "text/plain": [
       "[[1, 2, 5], 3, 4, 5]"
      ]
     },
     "execution_count": 38,
     "metadata": {},
     "output_type": "execute_result"
    }
   ],
   "source": [
    "li2"
   ]
  },
  {
   "cell_type": "code",
   "execution_count": 39,
   "id": "e23870cf",
   "metadata": {},
   "outputs": [
    {
     "name": "stdout",
     "output_type": "stream",
     "text": [
      "[[1, 2], 3, 4, 5]\n",
      "[[1, 2], 3, 4, 5]\n",
      "[[1, 2], 3, 4, 5]\n"
     ]
    }
   ],
   "source": [
    "li1 = [[1,2],3,4,5]\n",
    "print(li1)\n",
    "li2 =li1\n",
    "li3 = li1\n",
    "print(li2)\n",
    "print(li3)"
   ]
  },
  {
   "cell_type": "code",
   "execution_count": 40,
   "id": "be0c120c",
   "metadata": {},
   "outputs": [],
   "source": [
    "li3[0].append('Python')"
   ]
  },
  {
   "cell_type": "code",
   "execution_count": 41,
   "id": "af46f182",
   "metadata": {},
   "outputs": [
    {
     "data": {
      "text/plain": [
       "[[1, 2, 'Python'], 3, 4, 5]"
      ]
     },
     "execution_count": 41,
     "metadata": {},
     "output_type": "execute_result"
    }
   ],
   "source": [
    "li1"
   ]
  },
  {
   "cell_type": "code",
   "execution_count": 42,
   "id": "950d9d6d",
   "metadata": {},
   "outputs": [
    {
     "data": {
      "text/plain": [
       "[[1, 2, 'Python'], 3, 4, 5]"
      ]
     },
     "execution_count": 42,
     "metadata": {},
     "output_type": "execute_result"
    }
   ],
   "source": [
    "li3"
   ]
  },
  {
   "cell_type": "code",
   "execution_count": 43,
   "id": "6885733f",
   "metadata": {},
   "outputs": [
    {
     "data": {
      "text/plain": [
       "[[1, 2, 'Python'], 3, 4, 5]"
      ]
     },
     "execution_count": 43,
     "metadata": {},
     "output_type": "execute_result"
    }
   ],
   "source": [
    "li2"
   ]
  },
  {
   "cell_type": "markdown",
   "id": "c78b2b7c",
   "metadata": {},
   "source": [
    "# Shollow Copy:\n",
    "\n",
    "- if we are manipulating single element then changes will not be reflecgted.\n",
    "- But if there is a neasted list then changes will be reflected."
   ]
  },
  {
   "cell_type": "code",
   "execution_count": 44,
   "id": "66ded5d4",
   "metadata": {},
   "outputs": [
    {
     "name": "stdout",
     "output_type": "stream",
     "text": [
      "[1, 2, 3, 4, 5]\n",
      "[1, 2, 3, 4, 5]\n"
     ]
    }
   ],
   "source": [
    "li1 = [1,2,3,4,5]\n",
    "print(li1)\n",
    "li2 = li1\n",
    "print(li2)"
   ]
  },
  {
   "cell_type": "code",
   "execution_count": 45,
   "id": "79801544",
   "metadata": {},
   "outputs": [
    {
     "data": {
      "text/plain": [
       "2070092721536"
      ]
     },
     "execution_count": 45,
     "metadata": {},
     "output_type": "execute_result"
    }
   ],
   "source": [
    "id(li1)"
   ]
  },
  {
   "cell_type": "code",
   "execution_count": 46,
   "id": "a8981fdd",
   "metadata": {},
   "outputs": [
    {
     "data": {
      "text/plain": [
       "2070092721536"
      ]
     },
     "execution_count": 46,
     "metadata": {},
     "output_type": "execute_result"
    }
   ],
   "source": [
    "id(li2)"
   ]
  },
  {
   "cell_type": "code",
   "execution_count": 47,
   "id": "279fa368",
   "metadata": {},
   "outputs": [
    {
     "name": "stdout",
     "output_type": "stream",
     "text": [
      "[1, 2, 3, 4, 5]\n",
      "[1, 2, 3, 4, 5]\n"
     ]
    }
   ],
   "source": [
    "li1 = [1,2,3,4,5]\n",
    "print(li1)\n",
    "li2 = li1.copy()\n",
    "print(li2)"
   ]
  },
  {
   "cell_type": "code",
   "execution_count": 48,
   "id": "f5969e52",
   "metadata": {},
   "outputs": [
    {
     "data": {
      "text/plain": [
       "2070092643072"
      ]
     },
     "execution_count": 48,
     "metadata": {},
     "output_type": "execute_result"
    }
   ],
   "source": [
    "id(li1)"
   ]
  },
  {
   "cell_type": "code",
   "execution_count": 49,
   "id": "789b2e24",
   "metadata": {},
   "outputs": [
    {
     "data": {
      "text/plain": [
       "2070090585600"
      ]
     },
     "execution_count": 49,
     "metadata": {},
     "output_type": "execute_result"
    }
   ],
   "source": [
    "id(li2)"
   ]
  },
  {
   "cell_type": "code",
   "execution_count": 51,
   "id": "bc9dba79",
   "metadata": {},
   "outputs": [
    {
     "name": "stdout",
     "output_type": "stream",
     "text": [
      "[1000, 2, 3, 4, 5]\n",
      "[1, 2, 3, 4, 5]\n"
     ]
    }
   ],
   "source": [
    "li1[0] = 1000\n",
    "print(li1)\n",
    "print(li2)\n"
   ]
  },
  {
   "cell_type": "code",
   "execution_count": 52,
   "id": "295a5c0b",
   "metadata": {},
   "outputs": [
    {
     "data": {
      "text/plain": [
       "2070092643072"
      ]
     },
     "execution_count": 52,
     "metadata": {},
     "output_type": "execute_result"
    }
   ],
   "source": [
    "id(li1)"
   ]
  },
  {
   "cell_type": "code",
   "execution_count": 53,
   "id": "ed3684bd",
   "metadata": {},
   "outputs": [
    {
     "data": {
      "text/plain": [
       "2070090585600"
      ]
     },
     "execution_count": 53,
     "metadata": {},
     "output_type": "execute_result"
    }
   ],
   "source": [
    "id(li2)"
   ]
  },
  {
   "cell_type": "code",
   "execution_count": 55,
   "id": "2056206f",
   "metadata": {},
   "outputs": [
    {
     "name": "stdout",
     "output_type": "stream",
     "text": [
      "[[1, 2], 3, 4, 5]\n",
      "[[1, 2], 3, 4, 5]\n"
     ]
    }
   ],
   "source": [
    "li1 = [[1,2],3,4,5]\n",
    "print(li1)\n",
    "li2 = li1.copy()\n",
    "print(li2)"
   ]
  },
  {
   "cell_type": "code",
   "execution_count": 56,
   "id": "83f1db48",
   "metadata": {},
   "outputs": [
    {
     "name": "stdout",
     "output_type": "stream",
     "text": [
      "[[1000, 2], 3, 4, 5]\n",
      "[[1000, 2], 3, 4, 5]\n"
     ]
    }
   ],
   "source": [
    "li1[0][0] = 1000\n",
    "print(li1)\n",
    "li2 = li1.copy()\n",
    "print(li2)"
   ]
  },
  {
   "cell_type": "markdown",
   "id": "050e7e19",
   "metadata": {},
   "source": [
    "# Deep Copy\n",
    "\n",
    "- Deep copy creates a new obj and recusively copies all nested objects inside the original.\n",
    "- This means any changes made to the original Obj. or its nested structures"
   ]
  },
  {
   "cell_type": "code",
   "execution_count": 57,
   "id": "e94b2cd3",
   "metadata": {},
   "outputs": [],
   "source": [
    "import copy"
   ]
  },
  {
   "cell_type": "code",
   "execution_count": 58,
   "id": "a16f553b",
   "metadata": {},
   "outputs": [
    {
     "name": "stdout",
     "output_type": "stream",
     "text": [
      "c:\\Program Files\\Python313\\Lib\\copy.py\n"
     ]
    }
   ],
   "source": [
    "import copy\n",
    "import inspect\n",
    "\n",
    "print(inspect.getsourcefile(copy))\n"
   ]
  },
  {
   "cell_type": "code",
   "execution_count": 59,
   "id": "45ff3355",
   "metadata": {},
   "outputs": [
    {
     "name": "stdout",
     "output_type": "stream",
     "text": [
      "def deepcopy(x, memo=None, _nil=[]):\n",
      "    \"\"\"Deep copy operation on arbitrary Python objects.\n",
      "\n",
      "    See the module's __doc__ string for more info.\n",
      "    \"\"\"\n",
      "\n",
      "    d = id(x)\n",
      "    if memo is None:\n",
      "        memo = {}\n",
      "    else:\n",
      "        y = memo.get(d, _nil)\n",
      "        if y is not _nil:\n",
      "            return y\n",
      "\n",
      "    cls = type(x)\n",
      "\n",
      "    copier = _deepcopy_dispatch.get(cls)\n",
      "    if copier is not None:\n",
      "        y = copier(x, memo)\n",
      "    else:\n",
      "        if issubclass(cls, type):\n",
      "            y = _deepcopy_atomic(x, memo)\n",
      "        else:\n",
      "            copier = getattr(x, \"__deepcopy__\", None)\n",
      "            if copier is not None:\n",
      "                y = copier(memo)\n",
      "            else:\n",
      "                reductor = dispatch_table.get(cls)\n",
      "                if reductor:\n",
      "                    rv = reductor(x)\n",
      "                else:\n",
      "                    reductor = getattr(x, \"__reduce_ex__\", None)\n",
      "                    if reductor is not None:\n",
      "                        rv = reductor(4)\n",
      "                    else:\n",
      "                        reductor = getattr(x, \"__reduce__\", None)\n",
      "                        if reductor:\n",
      "                            rv = reductor()\n",
      "                        else:\n",
      "                            raise Error(\n",
      "                                \"un(deep)copyable object of type %s\" % cls)\n",
      "                if isinstance(rv, str):\n",
      "                    y = x\n",
      "                else:\n",
      "                    y = _reconstruct(x, memo, *rv)\n",
      "\n",
      "    # If is its own copy, don't memoize.\n",
      "    if y is not x:\n",
      "        memo[d] = y\n",
      "        _keep_alive(x, memo) # Make sure x lives at least as long as d\n",
      "    return y\n",
      "\n"
     ]
    }
   ],
   "source": [
    "print(inspect.getsource(copy.deepcopy))"
   ]
  },
  {
   "cell_type": "code",
   "execution_count": null,
   "id": "24f7cd97",
   "metadata": {},
   "outputs": [],
   "source": []
  }
 ],
 "metadata": {
  "kernelspec": {
   "display_name": "Python 3",
   "language": "python",
   "name": "python3"
  },
  "language_info": {
   "codemirror_mode": {
    "name": "ipython",
    "version": 3
   },
   "file_extension": ".py",
   "mimetype": "text/x-python",
   "name": "python",
   "nbconvert_exporter": "python",
   "pygments_lexer": "ipython3",
   "version": "3.13.3"
  }
 },
 "nbformat": 4,
 "nbformat_minor": 5
}
