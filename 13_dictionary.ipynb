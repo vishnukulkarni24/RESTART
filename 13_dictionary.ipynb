{
 "cells": [
  {
   "cell_type": "markdown",
   "id": "058b52dc",
   "metadata": {},
   "source": [
    "# Dictionary -\n",
    "\n",
    "- Dictionary is a mutable, unorderd, collection of key-value pairs in Python. It maps unique keys to value.\n",
    "\n",
    "- Dictionary is created using {} curly braces and dict() function or constructor, list of tuples.\n",
    "\n",
    "- dicionary is key value pair. we can modifiy values using key.\n",
    "- we can assign same value to the multiple keys but we can't use same multiple key."
   ]
  },
  {
   "cell_type": "markdown",
   "id": "3f220df8",
   "metadata": {},
   "source": [
    "| Property         | Description                             |\n",
    "| ---------------- | --------------------------------------- |\n",
    "| Mutable          | Can change after creation               |\n",
    "| Unordered (≤3.6) | Order is not guaranteed in old versions |\n",
    "| Ordered (≥3.7)   | Maintains insertion order               |\n",
    "| Key-Value Pairs  | Keys must be unique and immutable       |\n",
    "| Fast Lookup      | Based on hash table implementation      |\n"
   ]
  },
  {
   "cell_type": "code",
   "execution_count": 28,
   "id": "27e2a173",
   "metadata": {},
   "outputs": [
    {
     "data": {
      "text/plain": [
       "dict"
      ]
     },
     "execution_count": 28,
     "metadata": {},
     "output_type": "execute_result"
    }
   ],
   "source": [
    "dict1 = {} #----empty dictionary\n",
    "\n",
    "type(dict1)"
   ]
  },
  {
   "cell_type": "code",
   "execution_count": 29,
   "id": "c976edf5",
   "metadata": {},
   "outputs": [
    {
     "name": "stdout",
     "output_type": "stream",
     "text": [
      "{'name': 'vishnu', 'age': 24, 'palce': 'nanded'}\n"
     ]
    }
   ],
   "source": [
    "dict2 = {\"name\":\"vishnu\",\"age\" : 24, \"palce\": \"nanded\"}\n",
    "# using curly braces\n",
    "print(dict2)"
   ]
  },
  {
   "cell_type": "code",
   "execution_count": 30,
   "id": "201f8287",
   "metadata": {},
   "outputs": [
    {
     "name": "stdout",
     "output_type": "stream",
     "text": [
      "{'name': 'ameya', 'age': 24}\n"
     ]
    }
   ],
   "source": [
    "person = dict(name =\"ameya\", age=24) #--- using dict() contructor.\n",
    "print(person)"
   ]
  },
  {
   "cell_type": "code",
   "execution_count": 31,
   "id": "06803546",
   "metadata": {},
   "outputs": [
    {
     "name": "stdout",
     "output_type": "stream",
     "text": [
      "{'a': 10, 'b': 20}\n"
     ]
    }
   ],
   "source": [
    "# using list of tuple:-\n",
    "\n",
    "data = [(\"a\",10), (\"b\",20)]\n",
    "\n",
    "dictt = dict(data)\n",
    "print(dictt)"
   ]
  },
  {
   "cell_type": "markdown",
   "id": "277016d0",
   "metadata": {},
   "source": [
    "# Accessing Elements:"
   ]
  },
  {
   "cell_type": "code",
   "execution_count": 32,
   "id": "01e61942",
   "metadata": {},
   "outputs": [
    {
     "data": {
      "text/plain": [
       "10"
      ]
     },
     "execution_count": 32,
     "metadata": {},
     "output_type": "execute_result"
    }
   ],
   "source": [
    "dictt[\"a\"]"
   ]
  },
  {
   "cell_type": "code",
   "execution_count": 33,
   "id": "c052f7d3",
   "metadata": {},
   "outputs": [
    {
     "data": {
      "text/plain": [
       "'ameya'"
      ]
     },
     "execution_count": 33,
     "metadata": {},
     "output_type": "execute_result"
    }
   ],
   "source": [
    "person[\"name\"]"
   ]
  },
  {
   "cell_type": "code",
   "execution_count": 34,
   "id": "a1a923e1",
   "metadata": {},
   "outputs": [
    {
     "data": {
      "text/plain": [
       "'vishnu'"
      ]
     },
     "execution_count": 34,
     "metadata": {},
     "output_type": "execute_result"
    }
   ],
   "source": [
    "dict2[\"name\"]"
   ]
  },
  {
   "cell_type": "code",
   "execution_count": 35,
   "id": "3c598a29",
   "metadata": {},
   "outputs": [],
   "source": [
    "dictt[\"name\"] = \"prasad\""
   ]
  },
  {
   "cell_type": "code",
   "execution_count": 36,
   "id": "93fb3005",
   "metadata": {},
   "outputs": [
    {
     "data": {
      "text/plain": [
       "'prasad'"
      ]
     },
     "execution_count": 36,
     "metadata": {},
     "output_type": "execute_result"
    }
   ],
   "source": [
    "dictt[\"name\"]"
   ]
  },
  {
   "cell_type": "code",
   "execution_count": 37,
   "id": "cc5acb43",
   "metadata": {},
   "outputs": [
    {
     "data": {
      "text/plain": [
       "{'a': 10, 'b': 20, 'name': 'prasad'}"
      ]
     },
     "execution_count": 37,
     "metadata": {},
     "output_type": "execute_result"
    }
   ],
   "source": [
    "dictt"
   ]
  },
  {
   "cell_type": "code",
   "execution_count": 38,
   "id": "f738481f",
   "metadata": {},
   "outputs": [
    {
     "name": "stdout",
     "output_type": "stream",
     "text": [
      "None\n"
     ]
    }
   ],
   "source": [
    "# using get():\n",
    "\n",
    "print(dict1.get(\"name\"))"
   ]
  },
  {
   "cell_type": "code",
   "execution_count": 39,
   "id": "4a9f65fc",
   "metadata": {},
   "outputs": [
    {
     "name": "stdout",
     "output_type": "stream",
     "text": [
      "vishnu\n"
     ]
    }
   ],
   "source": [
    "print(dict2.get(\"name\"))"
   ]
  },
  {
   "cell_type": "code",
   "execution_count": 40,
   "id": "2784fa55",
   "metadata": {},
   "outputs": [
    {
     "name": "stdout",
     "output_type": "stream",
     "text": [
      "None\n"
     ]
    }
   ],
   "source": [
    "print(dictt.get(\"salary\")) \n",
    "# If key is not present in the dictionary it can't be added using get() function as like key"
   ]
  },
  {
   "cell_type": "code",
   "execution_count": 41,
   "id": "8d9c0d55",
   "metadata": {},
   "outputs": [
    {
     "data": {
      "text/plain": [
       "{'a': 10, 'b': 20, 'name': 'prasad'}"
      ]
     },
     "execution_count": 41,
     "metadata": {},
     "output_type": "execute_result"
    }
   ],
   "source": [
    "dictt"
   ]
  },
  {
   "cell_type": "code",
   "execution_count": 42,
   "id": "67c2e586",
   "metadata": {},
   "outputs": [],
   "source": [
    "dictt[\"Salary\"] = 2000000"
   ]
  },
  {
   "cell_type": "code",
   "execution_count": 43,
   "id": "273de5a9",
   "metadata": {},
   "outputs": [
    {
     "data": {
      "text/plain": [
       "{'a': 10, 'b': 20, 'name': 'prasad', 'Salary': 2000000}"
      ]
     },
     "execution_count": 43,
     "metadata": {},
     "output_type": "execute_result"
    }
   ],
   "source": [
    "dictt"
   ]
  },
  {
   "cell_type": "code",
   "execution_count": 44,
   "id": "39ae65fd",
   "metadata": {},
   "outputs": [
    {
     "name": "stdout",
     "output_type": "stream",
     "text": [
      "The First Dictionary : {'key1': 'val1', 'key2': 'val2', 'key3': 'val3'} and the type <class 'dict'>\n"
     ]
    }
   ],
   "source": [
    "d1 = {\"key1\":\"val1\",\"key2\":\"val2\",\"key3\":\"val3\"}\n",
    "\n",
    "print(f\"The First Dictionary : {d1} and the type {type(d1)}\")"
   ]
  },
  {
   "cell_type": "code",
   "execution_count": 45,
   "id": "49cf5526",
   "metadata": {},
   "outputs": [
    {
     "name": "stdout",
     "output_type": "stream",
     "text": [
      "{'a': 1, 'b': 2, 'c': 3, 'd': 4, 'e': 5}\n"
     ]
    }
   ],
   "source": [
    "d1 = {\"a\":1,\"b\":2,\"c\":3,\"d\":4,\"e\":5}\n",
    "print(d1)"
   ]
  },
  {
   "cell_type": "code",
   "execution_count": 46,
   "id": "dc5a1f12",
   "metadata": {},
   "outputs": [
    {
     "data": {
      "text/plain": [
       "{'kwy1': (1, 2, 3), 'key2': (3, 2, 1), 'key3': (5, 6, 7)}"
      ]
     },
     "execution_count": 46,
     "metadata": {},
     "output_type": "execute_result"
    }
   ],
   "source": [
    "d2 = {\"kwy1\":(1,2,3),\n",
    "      \"key2\" : (3,2,1),\n",
    "      \"key3\" : (5,6,7)\n",
    "}\n",
    "\n",
    "d2"
   ]
  },
  {
   "cell_type": "code",
   "execution_count": 47,
   "id": "55e7acfa",
   "metadata": {},
   "outputs": [
    {
     "data": {
      "text/plain": [
       "{'key1': [1.5, 3], 'key2': [2.5, 7], 'key3': [3.5, 5]}"
      ]
     },
     "execution_count": 47,
     "metadata": {},
     "output_type": "execute_result"
    }
   ],
   "source": [
    "d1 = {\"key1\":[1.5,3] , \"key2\":[2.5,7] , \"key3\":[3.5,5]}\n",
    "d1"
   ]
  },
  {
   "cell_type": "code",
   "execution_count": 48,
   "id": "2ba78db7",
   "metadata": {},
   "outputs": [
    {
     "data": {
      "text/plain": [
       "{'key1': {1.5, 2, 3}, 'key2': {2.5, 5, 7}, 'key3': {1, 3.5, 5}}"
      ]
     },
     "execution_count": 48,
     "metadata": {},
     "output_type": "execute_result"
    }
   ],
   "source": [
    "d1 = {\"key1\":set([2,1.5,3]) , \"key2\":set([5,2.5,7]) , \"key3\":set([1,3.5,5])}\n",
    "d1"
   ]
  },
  {
   "cell_type": "code",
   "execution_count": 49,
   "id": "3f53b237",
   "metadata": {},
   "outputs": [
    {
     "data": {
      "text/plain": [
       "{'key': frozenset({1, 2, 3, 4, 5}),\n",
       " 'key2': frozenset({2.5, 3, 3.2}),\n",
       " 'keys': frozenset({0.3, 1.2, 2.1, 3})}"
      ]
     },
     "execution_count": 49,
     "metadata": {},
     "output_type": "execute_result"
    }
   ],
   "source": [
    "d3 = {\"key\":frozenset([3,4,5,2,1]),\"key2\":frozenset([3.2,2.5,3]),\"keys\":frozenset([1.2,2.1,3,0.3])}\n",
    "d3"
   ]
  },
  {
   "cell_type": "code",
   "execution_count": 50,
   "id": "fc2cb7eb",
   "metadata": {},
   "outputs": [
    {
     "data": {
      "text/plain": [
       "{(3, 4, 5, 2, 1): 'key2',\n",
       " (3.2, 2.5, 3): 'keys4',\n",
       " frozenset({0.3, 1.2, 2.1, 3}): 'keys5'}"
      ]
     },
     "execution_count": 50,
     "metadata": {},
     "output_type": "execute_result"
    }
   ],
   "source": [
    "d3 = {tuple([3,4,5,2,1]): \"key2\", tuple([3.2,2.5,3]):\"keys4\",frozenset([1.2,2.1,3,0.3]):\"keys5\"}\n",
    "d3"
   ]
  },
  {
   "cell_type": "code",
   "execution_count": 51,
   "id": "fa213e58",
   "metadata": {},
   "outputs": [
    {
     "data": {
      "text/plain": [
       "dict_keys([(3, 4, 5, 2, 1), (3.2, 2.5, 3), frozenset({0.3, 1.2, 2.1, 3})])"
      ]
     },
     "execution_count": 51,
     "metadata": {},
     "output_type": "execute_result"
    }
   ],
   "source": [
    "d3.keys()"
   ]
  },
  {
   "cell_type": "code",
   "execution_count": 52,
   "id": "3f424bae",
   "metadata": {},
   "outputs": [
    {
     "data": {
      "text/plain": [
       "dict_items"
      ]
     },
     "execution_count": 52,
     "metadata": {},
     "output_type": "execute_result"
    }
   ],
   "source": [
    "d3.items()\n",
    "type(d3.items())"
   ]
  },
  {
   "cell_type": "code",
   "execution_count": 53,
   "id": "2b9f55f9",
   "metadata": {},
   "outputs": [
    {
     "data": {
      "text/plain": [
       "dict_values(['key2', 'keys4', 'keys5'])"
      ]
     },
     "execution_count": 53,
     "metadata": {},
     "output_type": "execute_result"
    }
   ],
   "source": [
    "d3.values()"
   ]
  },
  {
   "cell_type": "code",
   "execution_count": 54,
   "id": "cd90d0e6",
   "metadata": {},
   "outputs": [
    {
     "ename": "TypeError",
     "evalue": "unhashable type: 'list'",
     "output_type": "error",
     "traceback": [
      "\u001b[31m---------------------------------------------------------------------------\u001b[39m",
      "\u001b[31mTypeError\u001b[39m                                 Traceback (most recent call last)",
      "\u001b[36mCell\u001b[39m\u001b[36m \u001b[39m\u001b[32mIn[54]\u001b[39m\u001b[32m, line 1\u001b[39m\n\u001b[32m----> \u001b[39m\u001b[32m1\u001b[39m d1 = {[\u001b[32m1.5\u001b[39m,\u001b[32m30\u001b[39m]:\u001b[33m\"\u001b[39m\u001b[33mval1\u001b[39m\u001b[33m\"\u001b[39m , [\u001b[32m12.5\u001b[39m,\u001b[32m3\u001b[39m]:\u001b[33m\"\u001b[39m\u001b[33mval2\u001b[39m\u001b[33m\"\u001b[39m , [\u001b[32m1\u001b[39m,\u001b[32m2\u001b[39m]:\u001b[33m\"\u001b[39m\u001b[33mval3\u001b[39m\u001b[33m\"\u001b[39m}\n\u001b[32m      2\u001b[39m d1\n",
      "\u001b[31mTypeError\u001b[39m: unhashable type: 'list'"
     ]
    }
   ],
   "source": [
    "d1 = {[1.5,30]:\"val1\" , [12.5,3]:\"val2\" , [1,2]:\"val3\"}\n",
    "d1"
   ]
  },
  {
   "cell_type": "code",
   "execution_count": null,
   "id": "bc50c2a1",
   "metadata": {},
   "outputs": [
    {
     "ename": "TypeError",
     "evalue": "unhashable type: 'set'",
     "output_type": "error",
     "traceback": [
      "\u001b[31m---------------------------------------------------------------------------\u001b[39m",
      "\u001b[31mTypeError\u001b[39m                                 Traceback (most recent call last)",
      "\u001b[36mCell\u001b[39m\u001b[36m \u001b[39m\u001b[32mIn[23]\u001b[39m\u001b[32m, line 1\u001b[39m\n\u001b[32m----> \u001b[39m\u001b[32m1\u001b[39m d1 = {\u001b[38;5;28mset\u001b[39m([\u001b[32m1.5\u001b[39m,\u001b[32m30\u001b[39m]):\u001b[33m\"\u001b[39m\u001b[33mval1\u001b[39m\u001b[33m\"\u001b[39m , \u001b[38;5;28mset\u001b[39m([\u001b[32m12.5\u001b[39m,\u001b[32m3\u001b[39m]):\u001b[33m\"\u001b[39m\u001b[33mval2\u001b[39m\u001b[33m\"\u001b[39m , \u001b[38;5;28mset\u001b[39m([\u001b[32m1\u001b[39m,\u001b[32m2\u001b[39m]):\u001b[33m\"\u001b[39m\u001b[33mval3\u001b[39m\u001b[33m\"\u001b[39m}\n\u001b[32m      2\u001b[39m d1\n",
      "\u001b[31mTypeError\u001b[39m: unhashable type: 'set'"
     ]
    }
   ],
   "source": [
    "d1 = {set([1.5,30]):\"val1\" , set([12.5,3]):\"val2\" , set([1,2]):\"val3\"}\n",
    "d1"
   ]
  },
  {
   "cell_type": "code",
   "execution_count": null,
   "id": "d94a0b2f",
   "metadata": {},
   "outputs": [
    {
     "ename": "TypeError",
     "evalue": "unhashable type: 'set'",
     "output_type": "error",
     "traceback": [
      "\u001b[31m---------------------------------------------------------------------------\u001b[39m",
      "\u001b[31mTypeError\u001b[39m                                 Traceback (most recent call last)",
      "\u001b[36mCell\u001b[39m\u001b[36m \u001b[39m\u001b[32mIn[25]\u001b[39m\u001b[32m, line 1\u001b[39m\n\u001b[32m----> \u001b[39m\u001b[32m1\u001b[39m d1 = {\u001b[38;5;28mset\u001b[39m((\u001b[32m1.5\u001b[39m,\u001b[32m30\u001b[39m)):\u001b[33m\"\u001b[39m\u001b[33mval1\u001b[39m\u001b[33m\"\u001b[39m , \u001b[38;5;28mset\u001b[39m((\u001b[32m12.5\u001b[39m,\u001b[32m3\u001b[39m)):\u001b[33m\"\u001b[39m\u001b[33mval2\u001b[39m\u001b[33m\"\u001b[39m , \u001b[38;5;28mset\u001b[39m((\u001b[32m1\u001b[39m,\u001b[32m2\u001b[39m)):\u001b[33m\"\u001b[39m\u001b[33mval3\u001b[39m\u001b[33m\"\u001b[39m}\n\u001b[32m      2\u001b[39m d1\n",
      "\u001b[31mTypeError\u001b[39m: unhashable type: 'set'"
     ]
    }
   ],
   "source": [
    "d1 = {set((1.5,30)):\"val1\" , set((12.5,3)):\"val2\" , set((1,2)):\"val3\"}\n",
    "d1"
   ]
  },
  {
   "cell_type": "code",
   "execution_count": null,
   "id": "4a9464ee",
   "metadata": {},
   "outputs": [
    {
     "data": {
      "text/plain": [
       "{1, 2, 3}"
      ]
     },
     "execution_count": 27,
     "metadata": {},
     "output_type": "execute_result"
    }
   ],
   "source": [
    "set((1,2,3))"
   ]
  },
  {
   "cell_type": "code",
   "execution_count": null,
   "id": "388ce548",
   "metadata": {},
   "outputs": [
    {
     "data": {
      "text/plain": [
       "{'student_name': 'Ameya Joshi',\n",
       " 'Age': 24,\n",
       " 'Class': '10th',\n",
       " 'DOB': '07/04/2001',\n",
       " 'School_name': 'PNHS'}"
      ]
     },
     "execution_count": 13,
     "metadata": {},
     "output_type": "execute_result"
    }
   ],
   "source": [
    "import datetime \n",
    "\n",
    "dob_str = input(\"Enter Date of Birth (DD/MM/YYYY): \")\n",
    "dob = datetime.datetime.strptime(dob_str, \"%d/%m/%Y\").date()\n",
    "dob_frmt = dob.strftime(\"%d/%m/%Y\")\n",
    "\n",
    "d2 = {\"student_name\" : input(\"Enter Student Name : \"),\n",
    "      \"Age\" : int(input(\"Enter student age : \")),\n",
    "      \"Class\" : input(\"Enter Class : \"),\n",
    "      \"DOB\" : dob_frmt,\n",
    "      \"School_name\" : input(\"Enter Your School Name : \")\n",
    "      }\n",
    "d2"
   ]
  },
  {
   "cell_type": "code",
   "execution_count": null,
   "id": "cb73f213",
   "metadata": {},
   "outputs": [
    {
     "data": {
      "text/plain": [
       "dict_keys(['student_name', 'Age', 'Class', 'DOB', 'School_name'])"
      ]
     },
     "execution_count": 16,
     "metadata": {},
     "output_type": "execute_result"
    }
   ],
   "source": [
    "d2.keys()"
   ]
  },
  {
   "cell_type": "code",
   "execution_count": null,
   "id": "d274f305",
   "metadata": {},
   "outputs": [
    {
     "data": {
      "text/plain": [
       "dict_values(['Ameya Joshi', 24, '10th', '07/04/2001', 'PNHS'])"
      ]
     },
     "execution_count": 18,
     "metadata": {},
     "output_type": "execute_result"
    }
   ],
   "source": [
    "d2.values()"
   ]
  },
  {
   "cell_type": "code",
   "execution_count": null,
   "id": "b044798d",
   "metadata": {},
   "outputs": [
    {
     "data": {
      "text/plain": [
       "dict_items([('student_name', 'Ameya Joshi'), ('Age', 24), ('Class', '10th'), ('DOB', '07/04/2001'), ('School_name', 'PNHS')])"
      ]
     },
     "execution_count": 20,
     "metadata": {},
     "output_type": "execute_result"
    }
   ],
   "source": [
    "d2.items()"
   ]
  },
  {
   "cell_type": "code",
   "execution_count": null,
   "id": "d0ac0d72",
   "metadata": {},
   "outputs": [
    {
     "data": {
      "text/plain": [
       "'student'"
      ]
     },
     "execution_count": 22,
     "metadata": {},
     "output_type": "execute_result"
    }
   ],
   "source": [
    "\"student_name\"[0:7]\n"
   ]
  },
  {
   "cell_type": "code",
   "execution_count": null,
   "id": "45c8e25d",
   "metadata": {},
   "outputs": [
    {
     "name": "stdout",
     "output_type": "stream",
     "text": [
      "student_name\n",
      "Age\n",
      "Class\n",
      "DOB\n",
      "School_name\n"
     ]
    }
   ],
   "source": [
    "for i in d2:\n",
    "    print(i)"
   ]
  },
  {
   "cell_type": "code",
   "execution_count": null,
   "id": "5b835c95",
   "metadata": {},
   "outputs": [
    {
     "name": "stdout",
     "output_type": "stream",
     "text": [
      "Ameya Joshi\n",
      "24\n",
      "10th\n",
      "07/04/2001\n",
      "PNHS\n"
     ]
    }
   ],
   "source": [
    "for i in d2.values():\n",
    "    print(i)"
   ]
  },
  {
   "cell_type": "code",
   "execution_count": null,
   "id": "a3afb73e",
   "metadata": {},
   "outputs": [
    {
     "name": "stdout",
     "output_type": "stream",
     "text": [
      "('student_name', 'Ameya Joshi')\n",
      "('Age', 24)\n",
      "('Class', '10th')\n",
      "('DOB', '07/04/2001')\n",
      "('School_name', 'PNHS')\n"
     ]
    }
   ],
   "source": [
    "for i in d2.items():\n",
    "    print(i)"
   ]
  },
  {
   "cell_type": "code",
   "execution_count": null,
   "id": "7f6a9008",
   "metadata": {},
   "outputs": [
    {
     "data": {
      "text/plain": [
       "{'EmployeeName': 'Vishnu',\n",
       " 'employeeLname': 'Kulkarni',\n",
       " 'companyName': 'XYZ',\n",
       " 'designation': 'data Engineer',\n",
       " 'Age': 25,\n",
       " 'Salary': 1000000}"
      ]
     },
     "execution_count": 35,
     "metadata": {},
     "output_type": "execute_result"
    }
   ],
   "source": [
    "EmployeeDetails = {\n",
    "    'EmployeeName' : 'Vishnu',\n",
    "    'employeeLname' : 'Kulkarni',\n",
    "    'companyName' : 'XYZ',\n",
    "    'designation' : 'data Engineer',\n",
    "    'Age' : 25,\n",
    "    'Salary' : 1000000\n",
    "\n",
    "\n",
    "\n",
    "\n",
    "}\n",
    "\n",
    "EmployeeDetails"
   ]
  },
  {
   "cell_type": "code",
   "execution_count": null,
   "id": "c2000d17",
   "metadata": {},
   "outputs": [],
   "source": [
    "EmployeeDetails['Address'] = \"Maharashtra\""
   ]
  },
  {
   "cell_type": "code",
   "execution_count": null,
   "id": "1858b9a6",
   "metadata": {},
   "outputs": [
    {
     "data": {
      "text/plain": [
       "{'EmployeeName': 'Vishnu',\n",
       " 'employeeLname': 'Kulkarni',\n",
       " 'companyName': 'XYZ',\n",
       " 'designation': 'data Engineer',\n",
       " 'Age': 25,\n",
       " 'Salary': 1000000,\n",
       " 'Address': 'Maharashtra'}"
      ]
     },
     "execution_count": 37,
     "metadata": {},
     "output_type": "execute_result"
    }
   ],
   "source": [
    "EmployeeDetails"
   ]
  },
  {
   "cell_type": "code",
   "execution_count": null,
   "id": "95239d8a",
   "metadata": {},
   "outputs": [],
   "source": [
    "EmployeeDetails[\"CompanyLocation\"] = \"Pune\"\n",
    "EmployeeDetails[\"Team\"] = \"DataScience\""
   ]
  },
  {
   "cell_type": "code",
   "execution_count": null,
   "id": "53319b62",
   "metadata": {},
   "outputs": [
    {
     "data": {
      "text/plain": [
       "{'EmployeeName': 'Vishnu',\n",
       " 'employeeLname': 'Kulkarni',\n",
       " 'companyName': 'XYZ',\n",
       " 'designation': 'data Engineer',\n",
       " 'Age': 25,\n",
       " 'Salary': 1000000,\n",
       " 'Address': 'Maharashtra',\n",
       " 'CompanyLocation': 'Pune',\n",
       " 'Team': 'DataScience'}"
      ]
     },
     "execution_count": 40,
     "metadata": {},
     "output_type": "execute_result"
    }
   ],
   "source": [
    "EmployeeDetails"
   ]
  },
  {
   "cell_type": "markdown",
   "id": "ae419e2b",
   "metadata": {},
   "source": [
    "# Update()"
   ]
  },
  {
   "cell_type": "code",
   "execution_count": null,
   "id": "d5f6b961",
   "metadata": {},
   "outputs": [
    {
     "data": {
      "text/plain": [
       "{'EmployeeName': 'Vishnu',\n",
       " 'employeeLname': 'Kulkarni',\n",
       " 'companyName': 'XYZ',\n",
       " 'designation': 'data Engineer',\n",
       " 'Age': 25,\n",
       " 'Salary': 1000000,\n",
       " 'Address': 'Maharashtra',\n",
       " 'CompanyLocation': 'Pune',\n",
       " 'Team': 'DataScience'}"
      ]
     },
     "execution_count": 41,
     "metadata": {},
     "output_type": "execute_result"
    }
   ],
   "source": [
    "EmployeeDetails = {\n",
    " 'EmployeeName': 'Vishnu',\n",
    " 'employeeLname': 'Kulkarni',\n",
    " 'companyName': 'XYZ',\n",
    " 'designation': 'data Engineer',\n",
    " 'Age': 25,\n",
    " 'Salary': 1000000,\n",
    " 'Address': 'Maharashtra',\n",
    " 'CompanyLocation': 'Pune',\n",
    " 'Team': 'DataScience'\n",
    " }\n",
    "\n",
    "EmployeeDetails\n"
   ]
  },
  {
   "cell_type": "code",
   "execution_count": null,
   "id": "753a6084",
   "metadata": {},
   "outputs": [],
   "source": [
    "NewDetails = {\n",
    "    \"EmployeeID\" : 10078,\n",
    "    \"LoginBadge\" : \"Yes\",\n",
    "    \"Laptop\" : \"yes\"\n",
    "    \n",
    "}"
   ]
  },
  {
   "cell_type": "code",
   "execution_count": null,
   "id": "b746d7e9",
   "metadata": {},
   "outputs": [],
   "source": [
    "EmployeeDetails.update(NewDetails)"
   ]
  },
  {
   "cell_type": "code",
   "execution_count": null,
   "id": "3862eab9",
   "metadata": {},
   "outputs": [
    {
     "name": "stdout",
     "output_type": "stream",
     "text": [
      "{'EmployeeName': 'Vishnu', 'employeeLname': 'Kulkarni', 'companyName': 'XYZ', 'designation': 'data Engineer', 'Age': 25, 'Salary': 1000000, 'Address': 'Maharashtra', 'CompanyLocation': 'Pune', 'Team': 'DataScience', 'EmployeeID': 10078, 'LoginBadge': 'Yes', 'Laptop': 'yes'}\n"
     ]
    }
   ],
   "source": [
    "print(EmployeeDetails)"
   ]
  },
  {
   "cell_type": "code",
   "execution_count": null,
   "id": "8b6bed60",
   "metadata": {},
   "outputs": [
    {
     "data": {
      "text/plain": [
       "{'EmployeeName': 'Vishnu',\n",
       " 'employeeLname': 'Kulkarni',\n",
       " 'companyName': 'XYZ',\n",
       " 'designation': 'data Engineer',\n",
       " 'Age': 25,\n",
       " 'Salary': 1000000,\n",
       " 'Address': 'Maharashtra',\n",
       " 'CompanyLocation': 'Pune',\n",
       " 'Team': 'DataScience',\n",
       " 'EmployeeID': 10078,\n",
       " 'LoginBadge': 'Yes',\n",
       " 'Laptop': 'yes'}"
      ]
     },
     "execution_count": 45,
     "metadata": {},
     "output_type": "execute_result"
    }
   ],
   "source": [
    "EmployeeDetails"
   ]
  },
  {
   "cell_type": "code",
   "execution_count": null,
   "id": "db06dc49",
   "metadata": {},
   "outputs": [
    {
     "name": "stdout",
     "output_type": "stream",
     "text": [
      "{'EmployeeName': 'Priya', 'EmployeeLName': 'Patil', 'CompanyName': 'Broadcom', 'Designation': 'Python Developer', 'Age': 23, 'Salary': 110000, 'Address': 'Maharashtra', 'CompanyLocation': 'Pune', 'Team': 'DataScience', 'EmployeeID': 100078, 'LoginBadge': 'Yes', 'Laptop': 'Yes'}\n"
     ]
    }
   ],
   "source": [
    "EmployeeDetails = {\n",
    " 'EmployeeName': 'Priya',\n",
    " 'EmployeeLName': 'Patil',\n",
    " 'CompanyName': 'Broadcom',\n",
    " 'Designation': 'Python Developer',\n",
    " 'Age': 23,\n",
    " 'Salary': 110000,\n",
    " 'Address': 'Maharashtra',\n",
    " 'CompanyLocation': 'Pune',\n",
    " 'Team': 'DataScience'}\n",
    "\n",
    "EmployeeDetails.update({\n",
    "    \"EmployeeID\" : 100078,\n",
    "    \"LoginBadge\" : \"Yes\",\n",
    "    \"Laptop\" : \"Yes\"\n",
    "})\n",
    "\n",
    "print(EmployeeDetails)\n"
   ]
  },
  {
   "cell_type": "code",
   "execution_count": null,
   "id": "694bfda2",
   "metadata": {},
   "outputs": [
    {
     "data": {
      "text/plain": [
       "{'EmployeeName': 'Priya',\n",
       " 'EmployeeLName': 'Patil',\n",
       " 'CompanyName': 'Broadcom',\n",
       " 'Designation': 'Python Developer',\n",
       " 'Age': 23,\n",
       " 'Salary': 110000,\n",
       " 'Address': 'Maharashtra',\n",
       " 'CompanyLocation': 'Pune',\n",
       " 'Team': 'DataScience',\n",
       " 'EmployeeID': 100078,\n",
       " 'LoginBadge': 'Yes',\n",
       " 'Laptop': 'Yes'}"
      ]
     },
     "execution_count": 48,
     "metadata": {},
     "output_type": "execute_result"
    }
   ],
   "source": [
    "EmployeeDetails"
   ]
  },
  {
   "cell_type": "code",
   "execution_count": null,
   "id": "74fcffd9",
   "metadata": {},
   "outputs": [],
   "source": [
    "d1 = {\n",
    "    \"EmpName\" : \"vishnu\",\n",
    "    \"CompanyName\" : \"TCS\",\n",
    "    \"Age\" : 26\n",
    "}\n",
    "\n",
    "d2 = {\n",
    "    \"EmpName\" : \"ameya\",\n",
    "    \"Salary\" : 120000,\n",
    "    \"EmpID\" : \"AR766776\"\n",
    "}"
   ]
  },
  {
   "cell_type": "code",
   "execution_count": null,
   "id": "f3db383f",
   "metadata": {},
   "outputs": [
    {
     "data": {
      "text/plain": [
       "{'EmpName': 'Harsha', 'CompanyName': 'TCS', 'Age': 26}"
      ]
     },
     "execution_count": 50,
     "metadata": {},
     "output_type": "execute_result"
    }
   ],
   "source": [
    "d1"
   ]
  },
  {
   "cell_type": "code",
   "execution_count": null,
   "id": "49b16a85",
   "metadata": {},
   "outputs": [],
   "source": [
    "d1.update(d2)"
   ]
  },
  {
   "cell_type": "code",
   "execution_count": null,
   "id": "137ca8df",
   "metadata": {},
   "outputs": [
    {
     "data": {
      "text/plain": [
       "{'EmpName': 'ameya',\n",
       " 'CompanyName': 'TCS',\n",
       " 'Age': 26,\n",
       " 'Salary': 120000,\n",
       " 'EmpID': 'AR766776'}"
      ]
     },
     "execution_count": 84,
     "metadata": {},
     "output_type": "execute_result"
    }
   ],
   "source": [
    "d1"
   ]
  },
  {
   "cell_type": "markdown",
   "id": "a9d1f0f8",
   "metadata": {},
   "source": [
    "# Deleting items from dictionary\n",
    "    -  pop()\n",
    "    - popitem()\n",
    "- clear\n",
    "- del"
   ]
  },
  {
   "cell_type": "code",
   "execution_count": null,
   "id": "7c190fc9",
   "metadata": {},
   "outputs": [
    {
     "data": {
      "text/plain": [
       "{'EmployeeName': 'Priya',\n",
       " 'EmployeeLName': 'Patil',\n",
       " 'CompanyName': 'Broadcom',\n",
       " 'Designation': 'Python Developer',\n",
       " 'Age': 23,\n",
       " 'Salary': 110000,\n",
       " 'Address': 'Maharashtra',\n",
       " 'CompanyLocation': 'Pune',\n",
       " 'Team': 'DataScience',\n",
       " 'EmployeeID': 100078,\n",
       " 'LoginBadge': 'Yes',\n",
       " 'Laptop': 'Yes'}"
      ]
     },
     "execution_count": 53,
     "metadata": {},
     "output_type": "execute_result"
    }
   ],
   "source": [
    "EmployeeDetails"
   ]
  },
  {
   "cell_type": "markdown",
   "id": "0040032c",
   "metadata": {},
   "source": [
    "1. pop(key)\n",
    "- remove specified key and return the corresponding value."
   ]
  },
  {
   "cell_type": "code",
   "execution_count": null,
   "id": "cbff3178",
   "metadata": {},
   "outputs": [
    {
     "ename": "TypeError",
     "evalue": "pop expected at least 1 argument, got 0",
     "output_type": "error",
     "traceback": [
      "\u001b[31m---------------------------------------------------------------------------\u001b[39m",
      "\u001b[31mTypeError\u001b[39m                                 Traceback (most recent call last)",
      "\u001b[36mCell\u001b[39m\u001b[36m \u001b[39m\u001b[32mIn[54]\u001b[39m\u001b[32m, line 1\u001b[39m\n\u001b[32m----> \u001b[39m\u001b[32m1\u001b[39m \u001b[43mEmployeeDetails\u001b[49m\u001b[43m.\u001b[49m\u001b[43mpop\u001b[49m\u001b[43m(\u001b[49m\u001b[43m)\u001b[49m\n",
      "\u001b[31mTypeError\u001b[39m: pop expected at least 1 argument, got 0"
     ]
    }
   ],
   "source": [
    "EmployeeDetails.pop()"
   ]
  },
  {
   "cell_type": "code",
   "execution_count": null,
   "id": "4d0cf83f",
   "metadata": {},
   "outputs": [
    {
     "data": {
      "text/plain": [
       "'Yes'"
      ]
     },
     "execution_count": 55,
     "metadata": {},
     "output_type": "execute_result"
    }
   ],
   "source": [
    "EmployeeDetails.pop('Laptop')"
   ]
  },
  {
   "cell_type": "code",
   "execution_count": null,
   "id": "004613c7",
   "metadata": {},
   "outputs": [
    {
     "data": {
      "text/plain": [
       "{'EmployeeName': 'Priya',\n",
       " 'EmployeeLName': 'Patil',\n",
       " 'CompanyName': 'Broadcom',\n",
       " 'Designation': 'Python Developer',\n",
       " 'Age': 23,\n",
       " 'Salary': 110000,\n",
       " 'Address': 'Maharashtra',\n",
       " 'CompanyLocation': 'Pune',\n",
       " 'Team': 'DataScience',\n",
       " 'EmployeeID': 100078,\n",
       " 'LoginBadge': 'Yes'}"
      ]
     },
     "execution_count": 56,
     "metadata": {},
     "output_type": "execute_result"
    }
   ],
   "source": [
    "EmployeeDetails"
   ]
  },
  {
   "cell_type": "code",
   "execution_count": null,
   "id": "1784d3a2",
   "metadata": {},
   "outputs": [
    {
     "data": {
      "text/plain": [
       "('LoginBadge', 'Yes')"
      ]
     },
     "execution_count": 57,
     "metadata": {},
     "output_type": "execute_result"
    }
   ],
   "source": [
    "EmployeeDetails.popitem()"
   ]
  },
  {
   "cell_type": "code",
   "execution_count": null,
   "id": "41dc69db",
   "metadata": {},
   "outputs": [
    {
     "data": {
      "text/plain": [
       "('EmployeeID', 100078)"
      ]
     },
     "execution_count": 58,
     "metadata": {},
     "output_type": "execute_result"
    }
   ],
   "source": [
    "EmployeeDetails.popitem()"
   ]
  },
  {
   "cell_type": "code",
   "execution_count": null,
   "id": "5e3f5a9f",
   "metadata": {},
   "outputs": [
    {
     "data": {
      "text/plain": [
       "{'EmployeeName': 'Priya',\n",
       " 'EmployeeLName': 'Patil',\n",
       " 'CompanyName': 'Broadcom',\n",
       " 'Designation': 'Python Developer',\n",
       " 'Age': 23,\n",
       " 'Salary': 110000,\n",
       " 'Address': 'Maharashtra',\n",
       " 'CompanyLocation': 'Pune',\n",
       " 'Team': 'DataScience'}"
      ]
     },
     "execution_count": 59,
     "metadata": {},
     "output_type": "execute_result"
    }
   ],
   "source": [
    "EmployeeDetails"
   ]
  },
  {
   "cell_type": "markdown",
   "id": "353aa442",
   "metadata": {},
   "source": [
    "# Clear()"
   ]
  },
  {
   "cell_type": "code",
   "execution_count": null,
   "id": "921621dc",
   "metadata": {},
   "outputs": [
    {
     "data": {
      "text/plain": [
       "{'EmployeeName': 'Priya',\n",
       " 'EmployeeLName': 'Patil',\n",
       " 'CompanyName': 'Broadcom',\n",
       " 'Designation': 'Python Developer',\n",
       " 'Age': 23,\n",
       " 'Salary': 110000,\n",
       " 'Address': 'Maharashtra',\n",
       " 'CompanyLocation': 'Pune',\n",
       " 'Team': 'DataScience'}"
      ]
     },
     "execution_count": 60,
     "metadata": {},
     "output_type": "execute_result"
    }
   ],
   "source": [
    "EmployeeDetails"
   ]
  },
  {
   "cell_type": "code",
   "execution_count": null,
   "id": "5dcc5c14",
   "metadata": {},
   "outputs": [],
   "source": [
    "EmployeeDetails.clear()"
   ]
  },
  {
   "cell_type": "markdown",
   "id": "85392b5a",
   "metadata": {},
   "source": [
    "# del"
   ]
  },
  {
   "cell_type": "code",
   "execution_count": null,
   "id": "dfcf94c3",
   "metadata": {},
   "outputs": [],
   "source": [
    "EmployeeDetails = {'EmployeeName': 'Priya',\n",
    " 'EmployeeLName': 'Patil',\n",
    " 'CompanyName': 'Broadcom',\n",
    " 'Designation': 'Python Developer',\n",
    " 'Age': 23,\n",
    " 'Salary': 110000,\n",
    " 'Address': 'Maharashtra'}"
   ]
  },
  {
   "cell_type": "code",
   "execution_count": null,
   "id": "eee0137b",
   "metadata": {},
   "outputs": [],
   "source": [
    "li = [1,2,3]\n",
    "del li[0]"
   ]
  },
  {
   "cell_type": "code",
   "execution_count": null,
   "id": "9d44f26d",
   "metadata": {},
   "outputs": [
    {
     "data": {
      "text/plain": [
       "[2, 3]"
      ]
     },
     "execution_count": 64,
     "metadata": {},
     "output_type": "execute_result"
    }
   ],
   "source": [
    "li"
   ]
  },
  {
   "cell_type": "code",
   "execution_count": null,
   "id": "e40643eb",
   "metadata": {},
   "outputs": [],
   "source": [
    "del EmployeeDetails[\"Address\"]"
   ]
  },
  {
   "cell_type": "code",
   "execution_count": null,
   "id": "8c21ad0a",
   "metadata": {},
   "outputs": [
    {
     "data": {
      "text/plain": [
       "{'EmployeeName': 'Priya',\n",
       " 'EmployeeLName': 'Patil',\n",
       " 'CompanyName': 'Broadcom',\n",
       " 'Designation': 'Python Developer',\n",
       " 'Age': 23,\n",
       " 'Salary': 110000}"
      ]
     },
     "execution_count": 66,
     "metadata": {},
     "output_type": "execute_result"
    }
   ],
   "source": [
    "EmployeeDetails"
   ]
  },
  {
   "cell_type": "code",
   "execution_count": null,
   "id": "fdc2f563",
   "metadata": {},
   "outputs": [],
   "source": [
    "del EmployeeDetails"
   ]
  },
  {
   "cell_type": "code",
   "execution_count": null,
   "id": "049cb9df",
   "metadata": {},
   "outputs": [
    {
     "ename": "NameError",
     "evalue": "name 'EmployeeDetails' is not defined",
     "output_type": "error",
     "traceback": [
      "\u001b[31m---------------------------------------------------------------------------\u001b[39m",
      "\u001b[31mNameError\u001b[39m                                 Traceback (most recent call last)",
      "\u001b[36mCell\u001b[39m\u001b[36m \u001b[39m\u001b[32mIn[68]\u001b[39m\u001b[32m, line 1\u001b[39m\n\u001b[32m----> \u001b[39m\u001b[32m1\u001b[39m \u001b[43mEmployeeDetails\u001b[49m\n",
      "\u001b[31mNameError\u001b[39m: name 'EmployeeDetails' is not defined"
     ]
    }
   ],
   "source": [
    "EmployeeDetails"
   ]
  },
  {
   "cell_type": "code",
   "execution_count": null,
   "id": "de376e2c",
   "metadata": {},
   "outputs": [],
   "source": [
    "EmployeeDetails = {\n",
    " 'EmployeeName': 'Vishnu',\n",
    " 'EmployeeLName': 'Kulkarni',\n",
    " 'CompanyName': 'Broadcom',\n",
    " 'Designation': 'Python Developer',\n",
    " 'Age': 23,\n",
    " 'Salary': 110000,\n",
    " 'Address': 'Maharashtra',\n",
    " 'CompanyLocation': 'Mumbai',\n",
    " 'Team': 'DataScience',\n",
    " 'EmployeeID': 100078,\n",
    " 'LoginBadge': 'Yes',\n",
    " 'Laptop': 'Yes'\n",
    " }\n",
    "\n"
   ]
  },
  {
   "cell_type": "code",
   "execution_count": null,
   "id": "c7e859cc",
   "metadata": {},
   "outputs": [
    {
     "name": "stdout",
     "output_type": "stream",
     "text": [
      "1\n",
      "2\n",
      "3\n"
     ]
    }
   ],
   "source": [
    "li = [1,2,3]\n",
    "for i in range(3):\n",
    "    print(li[i])"
   ]
  },
  {
   "cell_type": "code",
   "execution_count": null,
   "id": "18ce80df",
   "metadata": {},
   "outputs": [
    {
     "name": "stdout",
     "output_type": "stream",
     "text": [
      "EmployeeName\n",
      "EmployeeLName\n",
      "CompanyName\n",
      "Designation\n",
      "Age\n",
      "Salary\n",
      "Address\n",
      "CompanyLocation\n",
      "Team\n",
      "EmployeeID\n",
      "LoginBadge\n",
      "Laptop\n"
     ]
    }
   ],
   "source": [
    "for i in EmployeeDetails:\n",
    "    print(i)"
   ]
  },
  {
   "cell_type": "code",
   "execution_count": null,
   "id": "1b450c78",
   "metadata": {},
   "outputs": [
    {
     "data": {
      "text/plain": [
       "'Vishnu'"
      ]
     },
     "execution_count": 76,
     "metadata": {},
     "output_type": "execute_result"
    }
   ],
   "source": [
    "EmployeeDetails['EmployeeName']"
   ]
  },
  {
   "cell_type": "code",
   "execution_count": null,
   "id": "3a2f7d42",
   "metadata": {},
   "outputs": [
    {
     "name": "stdout",
     "output_type": "stream",
     "text": [
      "EmployeeName\n",
      "Vishnu\n",
      "\n",
      "EmployeeLName\n",
      "Kulkarni\n",
      "\n",
      "CompanyName\n",
      "Broadcom\n",
      "\n",
      "Designation\n",
      "Python Developer\n",
      "\n",
      "Age\n",
      "23\n",
      "\n",
      "Salary\n",
      "110000\n",
      "\n",
      "Address\n",
      "Maharashtra\n",
      "\n",
      "CompanyLocation\n",
      "Mumbai\n",
      "\n",
      "Team\n",
      "DataScience\n",
      "\n",
      "EmployeeID\n",
      "100078\n",
      "\n",
      "LoginBadge\n",
      "Yes\n",
      "\n",
      "Laptop\n",
      "Yes\n",
      "\n"
     ]
    }
   ],
   "source": [
    "for i in EmployeeDetails:\n",
    "    print(i)\n",
    "    print(EmployeeDetails[i])\n",
    "    print()"
   ]
  },
  {
   "cell_type": "code",
   "execution_count": null,
   "id": "046cb4b1",
   "metadata": {},
   "outputs": [
    {
     "data": {
      "text/plain": [
       "{'EmpName': 'ameya',\n",
       " 'CompanyName': 'TCS',\n",
       " 'Age': 26,\n",
       " 'Salary': 120000,\n",
       " 'EmpID': 'AR766776'}"
      ]
     },
     "execution_count": 85,
     "metadata": {},
     "output_type": "execute_result"
    }
   ],
   "source": [
    "d1"
   ]
  },
  {
   "cell_type": "code",
   "execution_count": null,
   "id": "d8d4c504",
   "metadata": {},
   "outputs": [
    {
     "name": "stdout",
     "output_type": "stream",
     "text": [
      "2\n",
      "{'vishnu': 90.0, 'ameay': 90.0}\n"
     ]
    }
   ],
   "source": [
    "stuMarks = {}\n",
    "numstu = int(input(\"How many student :- \"))\n",
    "for i in range(numstu):\n",
    "    name = input(\"Enter student name :- \")\n",
    "    marks = float(input(\"Enter student marks :- \"))\n",
    "    stuMarks[name] = marks\n",
    "print(numstu)\n",
    "print(stuMarks)"
   ]
  },
  {
   "cell_type": "code",
   "execution_count": null,
   "id": "fbd97619",
   "metadata": {},
   "outputs": [
    {
     "data": {
      "text/plain": [
       "{'vishnu': 90.0, 'ameay': 90.0}"
      ]
     },
     "execution_count": 4,
     "metadata": {},
     "output_type": "execute_result"
    }
   ],
   "source": [
    "stuMarks"
   ]
  },
  {
   "cell_type": "code",
   "execution_count": null,
   "id": "a69d2b3b",
   "metadata": {},
   "outputs": [
    {
     "data": {
      "text/plain": [
       "'ameay'"
      ]
     },
     "execution_count": 5,
     "metadata": {},
     "output_type": "execute_result"
    }
   ],
   "source": [
    "name"
   ]
  },
  {
   "cell_type": "code",
   "execution_count": null,
   "id": "a247cecd",
   "metadata": {},
   "outputs": [
    {
     "data": {
      "text/plain": [
       "'ameay'"
      ]
     },
     "execution_count": 9,
     "metadata": {},
     "output_type": "execute_result"
    }
   ],
   "source": [
    "name"
   ]
  },
  {
   "cell_type": "code",
   "execution_count": null,
   "id": "ba07e49b",
   "metadata": {},
   "outputs": [
    {
     "data": {
      "text/plain": [
       "{'ameay': 90.0}"
      ]
     },
     "execution_count": 12,
     "metadata": {},
     "output_type": "execute_result"
    }
   ],
   "source": [
    "d1 = {}\n",
    "d1[name] = marks\n",
    "d1"
   ]
  },
  {
   "cell_type": "code",
   "execution_count": null,
   "id": "4371ea24",
   "metadata": {},
   "outputs": [
    {
     "data": {
      "text/plain": [
       "{1: 1, 2: 4}"
      ]
     },
     "execution_count": 13,
     "metadata": {},
     "output_type": "execute_result"
    }
   ],
   "source": [
    "sqDi = {}\n",
    "num = int(input(\"Enter the number :- \"))\n",
    "for i in range(1, num +1):\n",
    "    sqDi[i] = i ** 2\n",
    "\n",
    "sqDi"
   ]
  },
  {
   "cell_type": "code",
   "execution_count": null,
   "id": "62110868",
   "metadata": {},
   "outputs": [
    {
     "data": {
      "text/plain": [
       "{1: 1, 2: 4, 3: 9, 4: 16, 5: 25, 6: 36}"
      ]
     },
     "execution_count": 16,
     "metadata": {},
     "output_type": "execute_result"
    }
   ],
   "source": [
    "sqDi = {}\n",
    "num = int(input(\"Enter the number :- \"))\n",
    "for i in range(1, num +1):\n",
    "    sqDi[i] = i ** 2\n",
    "\n",
    "    \n",
    "sqDi"
   ]
  },
  {
   "cell_type": "code",
   "execution_count": null,
   "id": "1c71e3a5",
   "metadata": {},
   "outputs": [
    {
     "name": "stdout",
     "output_type": "stream",
     "text": [
      "Enter the Number :- \n",
      "{1: 1, 2: 8, 3: 27, 4: 64, 5: 125, 6: 216}\n"
     ]
    }
   ],
   "source": [
    "cuDi = {}\n",
    "num = int(input(\"Enter the number :- \"))\n",
    "for i in range(1,num + 1):\n",
    "    cuDi[i] = i ** 3\n",
    "\n",
    "print(f\"Enter the Number :- \")\n",
    "print(cuDi)"
   ]
  },
  {
   "cell_type": "code",
   "execution_count": null,
   "id": "7f7c1cc9",
   "metadata": {},
   "outputs": [
    {
     "name": "stdout",
     "output_type": "stream",
     "text": [
      "{1: 1}\n",
      "{1: 1, 2: 8}\n",
      "{1: 1, 2: 8, 3: 27}\n",
      "{1: 1, 2: 8, 3: 27, 4: 64}\n",
      "{1: 1, 2: 8, 3: 27, 4: 64, 5: 125}\n"
     ]
    }
   ],
   "source": [
    "cuDi = {}\n",
    "num = int(input(\"Enter the number :- \"))\n",
    "for i in range(1, num + 1):\n",
    "    cuDi[i] = i ** 3\n",
    "    print(cuDi)"
   ]
  },
  {
   "cell_type": "code",
   "execution_count": null,
   "id": "90fd786d",
   "metadata": {},
   "outputs": [
    {
     "data": {
      "text/plain": [
       "65"
      ]
     },
     "execution_count": 21,
     "metadata": {},
     "output_type": "execute_result"
    }
   ],
   "source": [
    "ord(\"A\")"
   ]
  },
  {
   "cell_type": "code",
   "execution_count": null,
   "id": "e36763ea",
   "metadata": {},
   "outputs": [
    {
     "data": {
      "text/plain": [
       "'A'"
      ]
     },
     "execution_count": 22,
     "metadata": {},
     "output_type": "execute_result"
    }
   ],
   "source": [
    "chr(65)"
   ]
  },
  {
   "cell_type": "code",
   "execution_count": null,
   "id": "fbf04ce0",
   "metadata": {},
   "outputs": [
    {
     "data": {
      "text/plain": [
       "{'A': 65,\n",
       " 'B': 66,\n",
       " 'C': 67,\n",
       " 'D': 68,\n",
       " 'E': 69,\n",
       " 'F': 70,\n",
       " 'G': 71,\n",
       " 'H': 72,\n",
       " 'I': 73,\n",
       " 'J': 74,\n",
       " 'K': 75,\n",
       " 'L': 76,\n",
       " 'M': 77,\n",
       " 'N': 78,\n",
       " 'O': 79,\n",
       " 'P': 80,\n",
       " 'Q': 81,\n",
       " 'R': 82,\n",
       " 'S': 83,\n",
       " 'T': 84,\n",
       " 'U': 85,\n",
       " 'V': 86,\n",
       " 'W': 87,\n",
       " 'X': 88,\n",
       " 'Y': 89,\n",
       " 'Z': 90}"
      ]
     },
     "execution_count": 24,
     "metadata": {},
     "output_type": "execute_result"
    }
   ],
   "source": [
    "UpperDi = {}\n",
    "for i in range(65,91):\n",
    "    UpperDi[chr(i)] = i\n",
    "UpperDi"
   ]
  },
  {
   "cell_type": "code",
   "execution_count": null,
   "id": "f8a01dc9",
   "metadata": {},
   "outputs": [
    {
     "data": {
      "text/plain": [
       "71"
      ]
     },
     "execution_count": 27,
     "metadata": {},
     "output_type": "execute_result"
    }
   ],
   "source": [
    "ord(\"G\")"
   ]
  },
  {
   "cell_type": "code",
   "execution_count": null,
   "id": "ef6bcc78",
   "metadata": {},
   "outputs": [
    {
     "data": {
      "text/plain": [
       "'A'"
      ]
     },
     "execution_count": 28,
     "metadata": {},
     "output_type": "execute_result"
    }
   ],
   "source": [
    "chr(65)"
   ]
  },
  {
   "cell_type": "code",
   "execution_count": null,
   "id": "bfb8c0c4",
   "metadata": {},
   "outputs": [
    {
     "data": {
      "text/plain": [
       "{'A': 65,\n",
       " 'B': 66,\n",
       " 'C': 67,\n",
       " 'D': 68,\n",
       " 'E': 69,\n",
       " 'F': 70,\n",
       " 'G': 71,\n",
       " 'H': 72,\n",
       " 'I': 73,\n",
       " 'J': 74,\n",
       " 'K': 75,\n",
       " 'L': 76,\n",
       " 'M': 77,\n",
       " 'N': 78,\n",
       " 'O': 79,\n",
       " 'P': 80,\n",
       " 'Q': 81,\n",
       " 'R': 82,\n",
       " 'S': 83,\n",
       " 'T': 84,\n",
       " 'U': 85,\n",
       " 'V': 86,\n",
       " 'W': 87,\n",
       " 'X': 88,\n",
       " 'Y': 89,\n",
       " 'Z': 90}"
      ]
     },
     "execution_count": 29,
     "metadata": {},
     "output_type": "execute_result"
    }
   ],
   "source": [
    "UpperDi = {}\n",
    "for i in range(65,91):\n",
    "    UpperDi[chr(i)] = i\n",
    "\n",
    "UpperDi"
   ]
  },
  {
   "cell_type": "code",
   "execution_count": null,
   "id": "80693af0",
   "metadata": {},
   "outputs": [
    {
     "ename": "AttributeError",
     "evalue": "'dict' object has no attribute 'Update'",
     "output_type": "error",
     "traceback": [
      "\u001b[31m---------------------------------------------------------------------------\u001b[39m",
      "\u001b[31mAttributeError\u001b[39m                            Traceback (most recent call last)",
      "\u001b[36mCell\u001b[39m\u001b[36m \u001b[39m\u001b[32mIn[31]\u001b[39m\u001b[32m, line 3\u001b[39m\n\u001b[32m      1\u001b[39m UpperDi = {}\n\u001b[32m      2\u001b[39m \u001b[38;5;28;01mfor\u001b[39;00m i \u001b[38;5;129;01min\u001b[39;00m \u001b[38;5;28mrange\u001b[39m(\u001b[32m65\u001b[39m,\u001b[32m91\u001b[39m):\n\u001b[32m----> \u001b[39m\u001b[32m3\u001b[39m     \u001b[43mUpperDi\u001b[49m\u001b[43m.\u001b[49m\u001b[43mUpdate\u001b[49m({\u001b[38;5;28mchr\u001b[39m(i):i})\n\u001b[32m      4\u001b[39m UpperDi\n",
      "\u001b[31mAttributeError\u001b[39m: 'dict' object has no attribute 'Update'"
     ]
    }
   ],
   "source": [
    "UpperDi = {}\n",
    "for i in range(65,91):\n",
    "    UpperDi.Update({chr(i):i})\n",
    "UpperDi"
   ]
  },
  {
   "cell_type": "markdown",
   "id": "2c0526fa",
   "metadata": {},
   "source": [
    "# Nestead Dictionary\n",
    "- Dictionary inside a Dictionary."
   ]
  },
  {
   "cell_type": "code",
   "execution_count": null,
   "id": "e4078874",
   "metadata": {},
   "outputs": [],
   "source": [
    "di =  {\n",
    "    \"EmpName\":\"Vishnu\",\n",
    "    \"EmployeeAge\":45,\n",
    "    \"Salary\":150000,\n",
    "    \"Designation\" : \"Python Developer\"\n",
    "}"
   ]
  },
  {
   "cell_type": "code",
   "execution_count": null,
   "id": "698bf6f0",
   "metadata": {},
   "outputs": [
    {
     "data": {
      "text/plain": [
       "{'EmpName': 'Vishnu',\n",
       " 'EmployeeAge': 45,\n",
       " 'Salary': 150000,\n",
       " 'Designation': 'Python Developer'}"
      ]
     },
     "execution_count": 33,
     "metadata": {},
     "output_type": "execute_result"
    }
   ],
   "source": [
    "di"
   ]
  },
  {
   "cell_type": "code",
   "execution_count": null,
   "id": "349e7837",
   "metadata": {},
   "outputs": [
    {
     "data": {
      "text/plain": [
       "dict_keys(['EmpName', 'EmployeeAge', 'Salary', 'Designation'])"
      ]
     },
     "execution_count": 36,
     "metadata": {},
     "output_type": "execute_result"
    }
   ],
   "source": [
    "di.keys()"
   ]
  },
  {
   "cell_type": "code",
   "execution_count": null,
   "id": "4e03e76e",
   "metadata": {},
   "outputs": [
    {
     "data": {
      "text/plain": [
       "dict_values(['Vishnu', 45, 150000, 'Python Developer'])"
      ]
     },
     "execution_count": 37,
     "metadata": {},
     "output_type": "execute_result"
    }
   ],
   "source": [
    "di.values()"
   ]
  },
  {
   "cell_type": "code",
   "execution_count": null,
   "id": "b2f88eb2",
   "metadata": {},
   "outputs": [],
   "source": [
    "d1 = {\n",
    "    \"ABC123\":{\n",
    "    \"name\":\"Vishnu\",\n",
    "    \"age\" : 25,\n",
    "    \"EmployeeId\" : \"V124\"\n",
    "    },\n",
    "    \"ABC124\" : {\n",
    "    \"EmpName\":\"Vishal\",\n",
    "    \"EmployeeAge\":25,\n",
    "    \"Salary\":100000,\n",
    "    \"Designation\" : [\"Jr Data Scientist\",\"Python Developer\",\"Data Scientist\"]      \n",
    "    },\n",
    "    \"ABC125\" : {\n",
    "    \"EmpName\":\"Ameya\",\n",
    "    \"EmployeeAge\":24,\n",
    "    \"Salary\":110000,\n",
    "    \"Designation\" : \"Data Scientist\"\n",
    "}\n",
    "}"
   ]
  },
  {
   "cell_type": "code",
   "execution_count": null,
   "id": "71ecbe91",
   "metadata": {},
   "outputs": [
    {
     "data": {
      "text/plain": [
       "{'ABC123': {'name': 'Vishnu', 'age': 25, 'EmployeeId': 'V124'},\n",
       " 'ABC124': {'EmpName': 'Vishal',\n",
       "  'EmployeeAge': 25,\n",
       "  'Salary': 100000,\n",
       "  'Designation': ['Jr Data Scientist', 'Python Developer', 'Data Scientist']},\n",
       " 'ABC125': {'EmpName': 'Ameya',\n",
       "  'EmployeeAge': 24,\n",
       "  'Salary': 110000,\n",
       "  'Designation': 'Data Scientist'}}"
      ]
     },
     "execution_count": 41,
     "metadata": {},
     "output_type": "execute_result"
    }
   ],
   "source": [
    "d1"
   ]
  },
  {
   "cell_type": "code",
   "execution_count": null,
   "id": "f79e9a13",
   "metadata": {},
   "outputs": [
    {
     "data": {
      "text/plain": [
       "'V124'"
      ]
     },
     "execution_count": 42,
     "metadata": {},
     "output_type": "execute_result"
    }
   ],
   "source": [
    "d1[\"ABC123\"][\"EmployeeId\"]"
   ]
  },
  {
   "cell_type": "code",
   "execution_count": null,
   "id": "ab9dbc4e",
   "metadata": {},
   "outputs": [
    {
     "data": {
      "text/plain": [
       "['Jr Data Scientist', 'Python Developer', 'Data Scientist']"
      ]
     },
     "execution_count": 43,
     "metadata": {},
     "output_type": "execute_result"
    }
   ],
   "source": [
    "d1[\"ABC124\"][\"Designation\"]"
   ]
  },
  {
   "cell_type": "code",
   "execution_count": null,
   "id": "9b6d6ea8",
   "metadata": {},
   "outputs": [
    {
     "data": {
      "text/plain": [
       "'Python Developer'"
      ]
     },
     "execution_count": 44,
     "metadata": {},
     "output_type": "execute_result"
    }
   ],
   "source": [
    "d1[\"ABC124\"][\"Designation\"][1]"
   ]
  },
  {
   "cell_type": "code",
   "execution_count": null,
   "id": "1ce809ad",
   "metadata": {},
   "outputs": [
    {
     "data": {
      "text/plain": [
       "'Jr Data Scientist'"
      ]
     },
     "execution_count": 45,
     "metadata": {},
     "output_type": "execute_result"
    }
   ],
   "source": [
    "d1[\"ABC124\"][\"Designation\"][0]"
   ]
  },
  {
   "cell_type": "code",
   "execution_count": null,
   "id": "7f9b8c25",
   "metadata": {},
   "outputs": [
    {
     "data": {
      "text/plain": [
       "{'ABC123': {'EmpName': 'Vishnu',\n",
       "  'EmpAge': 25,\n",
       "  'Salary': 1500000,\n",
       "  'Designation': 'Data Engineer'},\n",
       " 'ABC124': {'EmpName': 'Ameya',\n",
       "  'EmpAge': 25,\n",
       "  'Salary': 1100000,\n",
       "  'Designation': 'Data Engineer'},\n",
       " 'ABC125': {'EmpName': 'prasad',\n",
       "  'EmpAge': 27,\n",
       "  'Salary': 2200000,\n",
       "  'Designation': 'sr.Engineer'}}"
      ]
     },
     "execution_count": 9,
     "metadata": {},
     "output_type": "execute_result"
    }
   ],
   "source": [
    "emp_db = {\n",
    "    \"ABC123\" : {\n",
    "        \"EmpName\" : \"Vishnu\",\n",
    "        \"EmpAge\" : 25,\n",
    "        \"Salary\" : 1500000,\n",
    "        \"Designation\" : \"Data Engineer\"\n",
    "    },\n",
    "    \"ABC124\":{\n",
    "        \"EmpName\" : \"Ameya\",\n",
    "        \"EmpAge\" : 25,\n",
    "        \"Salary\" : 1100000,\n",
    "        \"Designation\" : \"Data Engineer\"\n",
    "    },\n",
    "    \"ABC125\" : {\n",
    "        \"EmpName\" : \"prasad\",\n",
    "        \"EmpAge\" : 27,\n",
    "        \"Salary\" : 2200000,\n",
    "        \"Designation\" : \"sr.Engineer\"\n",
    "    }\n",
    "}\n",
    "\n",
    "emp_db"
   ]
  },
  {
   "cell_type": "code",
   "execution_count": null,
   "id": "c7bfbc4f",
   "metadata": {},
   "outputs": [
    {
     "data": {
      "text/plain": [
       "{'EmpName': 'Vishnu',\n",
       " 'EmpAge': 25,\n",
       " 'Salary': 1500000,\n",
       " 'Designation': 'Data Engineer'}"
      ]
     },
     "execution_count": 5,
     "metadata": {},
     "output_type": "execute_result"
    }
   ],
   "source": [
    "emp_db['ABC123']"
   ]
  },
  {
   "cell_type": "code",
   "execution_count": null,
   "id": "b610d196",
   "metadata": {},
   "outputs": [],
   "source": [
    "emp_db['ABC123']['Salary'] = 1700000"
   ]
  },
  {
   "cell_type": "code",
   "execution_count": null,
   "id": "3a82f28c",
   "metadata": {},
   "outputs": [
    {
     "data": {
      "text/plain": [
       "{'EmpName': 'Vishnu',\n",
       " 'EmpAge': 25,\n",
       " 'Salary': 1700000,\n",
       " 'Designation': 'Data Engineer'}"
      ]
     },
     "execution_count": 7,
     "metadata": {},
     "output_type": "execute_result"
    }
   ],
   "source": [
    "emp_db['ABC123']"
   ]
  },
  {
   "cell_type": "code",
   "execution_count": null,
   "id": "7bc3022e",
   "metadata": {},
   "outputs": [
    {
     "data": {
      "text/plain": [
       "'DATA ENGINEER'"
      ]
     },
     "execution_count": 10,
     "metadata": {},
     "output_type": "execute_result"
    }
   ],
   "source": [
    "emp_db[\"ABC124\"][\"Designation\"].upper()"
   ]
  },
  {
   "cell_type": "code",
   "execution_count": null,
   "id": "a9cebf96",
   "metadata": {},
   "outputs": [
    {
     "data": {
      "text/plain": [
       "['Data', 'Engineer']"
      ]
     },
     "execution_count": 11,
     "metadata": {},
     "output_type": "execute_result"
    }
   ],
   "source": [
    "emp_db[\"ABC124\"][\"Designation\"].split()"
   ]
  },
  {
   "cell_type": "code",
   "execution_count": null,
   "id": "90fbc8b1",
   "metadata": {},
   "outputs": [
    {
     "name": "stdout",
     "output_type": "stream",
     "text": [
      "D\n",
      "A\n",
      "T\n",
      "A\n",
      " \n",
      "E\n",
      "N\n",
      "G\n",
      "I\n",
      "N\n",
      "E\n",
      "E\n",
      "R\n"
     ]
    }
   ],
   "source": [
    "for i in emp_db[\"ABC123\"][\"Designation\"]:\n",
    "    print(i.upper())"
   ]
  },
  {
   "cell_type": "code",
   "execution_count": null,
   "id": "85bbfeaf",
   "metadata": {},
   "outputs": [
    {
     "name": "stdout",
     "output_type": "stream",
     "text": [
      "DATA\n",
      "ENGINEER\n"
     ]
    }
   ],
   "source": [
    "for i in emp_db[\"ABC123\"][\"Designation\"].split():\n",
    "    print(i.upper())"
   ]
  },
  {
   "cell_type": "code",
   "execution_count": null,
   "id": "2c1ec6e5",
   "metadata": {},
   "outputs": [
    {
     "name": "stdout",
     "output_type": "stream",
     "text": [
      "0\n",
      "1\n",
      "2\n",
      "3\n",
      "4\n"
     ]
    }
   ],
   "source": [
    "subject = [\"phy\",\"che\",\"math\",\"eng\",\"bio\"]\n",
    "marks = [88,89,78,56,54]\n",
    "\n",
    "stuMarks = {}\n",
    "\n",
    "for i in range(len(subject)):\n",
    "    print(i)"
   ]
  },
  {
   "cell_type": "code",
   "execution_count": null,
   "id": "384834c5",
   "metadata": {},
   "outputs": [
    {
     "name": "stdout",
     "output_type": "stream",
     "text": [
      "phy\n",
      "88\n",
      "\n",
      "che\n",
      "89\n",
      "\n",
      "math\n",
      "78\n",
      "\n",
      "eng\n",
      "56\n",
      "\n",
      "bio\n",
      "54\n",
      "\n"
     ]
    }
   ],
   "source": [
    "subject = [\"phy\",\"che\",\"math\",\"eng\",\"bio\"]\n",
    "marks = [88,89,78,56,54]\n",
    "\n",
    "stuMarks = {}\n",
    "\n",
    "for i in range(len(subject)):\n",
    "    print(subject[i])\n",
    "    print(marks[i])\n",
    "    print()"
   ]
  },
  {
   "cell_type": "code",
   "execution_count": null,
   "id": "b735a739",
   "metadata": {},
   "outputs": [
    {
     "data": {
      "text/plain": [
       "{'name': 'Vishnu'}"
      ]
     },
     "execution_count": 18,
     "metadata": {},
     "output_type": "execute_result"
    }
   ],
   "source": [
    "d1 = {}\n",
    "d1[\"name\"] = \"Vishnu\"\n",
    "d1"
   ]
  },
  {
   "cell_type": "code",
   "execution_count": null,
   "id": "1bacd7b0",
   "metadata": {},
   "outputs": [
    {
     "name": "stdout",
     "output_type": "stream",
     "text": [
      "{'name': 'Vishnu'}\n"
     ]
    }
   ],
   "source": [
    "print(d1)"
   ]
  },
  {
   "cell_type": "code",
   "execution_count": null,
   "id": "97ae976a",
   "metadata": {},
   "outputs": [
    {
     "name": "stdout",
     "output_type": "stream",
     "text": [
      "{'Phy': 88}\n",
      "{'Phy': 88, 'Che': 89}\n",
      "{'Phy': 88, 'Che': 89, 'Math': 78}\n",
      "{'Phy': 88, 'Che': 89, 'Math': 78, 'Eng': 56}\n",
      "{'Phy': 88, 'Che': 89, 'Math': 78, 'Eng': 56, 'Bio': 54}\n"
     ]
    }
   ],
   "source": [
    "subject = [\"Phy\",\"Che\",\"Math\",\"Eng\",\"Bio\"]\n",
    "marks = [88,89,78,56,54]\n",
    "\n",
    "stuMarks = {}\n",
    "\n",
    "for i in range(len(subject)):\n",
    "    stuMarks[subject[i]] = marks[i]\n",
    "    print(stuMarks)"
   ]
  },
  {
   "cell_type": "code",
   "execution_count": null,
   "id": "f22e092f",
   "metadata": {},
   "outputs": [
    {
     "name": "stdout",
     "output_type": "stream",
     "text": [
      "{'Phy': 88}\n",
      "{'Phy': 88, 'Che': 89}\n",
      "{'Phy': 88, 'Che': 89, 'Math': 78}\n",
      "{'Phy': 88, 'Che': 89, 'Math': 78, 'Eng': 56}\n",
      "{'Phy': 88, 'Che': 89, 'Math': 78, 'Eng': 56, 'Bio': 54}\n"
     ]
    }
   ],
   "source": [
    "subject = [\"Phy\",\"Che\",\"Math\",\"Eng\",\"Bio\"]\n",
    "marks = [88,89,78,56,54]\n",
    "\n",
    "stuMarks = {}\n",
    "\n",
    "for i, j in enumerate(subject):\n",
    "    stuMarks[j] = marks[i]\n",
    "    print(stuMarks)"
   ]
  },
  {
   "cell_type": "code",
   "execution_count": null,
   "id": "75859918",
   "metadata": {},
   "outputs": [
    {
     "name": "stdout",
     "output_type": "stream",
     "text": [
      "{'Phy': 88}\n",
      "{'Phy': 88, 'Che': 89}\n",
      "{'Phy': 88, 'Che': 89, 'Math': 78}\n",
      "{'Phy': 88, 'Che': 89, 'Math': 78, 'Eng': 56}\n",
      "{'Phy': 88, 'Che': 89, 'Math': 78, 'Eng': 56, 'Bio': 54}\n"
     ]
    }
   ],
   "source": [
    "subject = [\"Phy\",\"Che\",\"Math\",\"Eng\",\"Bio\"]\n",
    "marks = [88,89,78,56,54]\n",
    "\n",
    "stuMarks = {}\n",
    "\n",
    "for i,j in enumerate(subject):\n",
    "    stuMarks.update({j:marks[i]})\n",
    "    print(stuMarks)"
   ]
  },
  {
   "cell_type": "markdown",
   "id": "7e2ef680",
   "metadata": {},
   "source": [
    "# Sort dictionary\n",
    "\n",
    "## sort by keys"
   ]
  },
  {
   "cell_type": "code",
   "execution_count": null,
   "id": "33a2d53b",
   "metadata": {},
   "outputs": [
    {
     "data": {
      "text/plain": [
       "{'Phy': 88, 'Che': 89, 'Math': 78, 'Eng': 56, 'Bio': 54}"
      ]
     },
     "execution_count": 26,
     "metadata": {},
     "output_type": "execute_result"
    }
   ],
   "source": [
    "stuMarks = {'Phy': 88, 'Che': 89, 'Math': 78, 'Eng': 56, 'Bio': 54}\n",
    "stuMarks"
   ]
  },
  {
   "cell_type": "code",
   "execution_count": null,
   "id": "f4a0672b",
   "metadata": {},
   "outputs": [
    {
     "data": {
      "text/plain": [
       "dict_keys(['Phy', 'Che', 'Math', 'Eng', 'Bio'])"
      ]
     },
     "execution_count": 27,
     "metadata": {},
     "output_type": "execute_result"
    }
   ],
   "source": [
    "stuMarks.keys()"
   ]
  },
  {
   "cell_type": "code",
   "execution_count": null,
   "id": "aff47ecd",
   "metadata": {},
   "outputs": [
    {
     "data": {
      "text/plain": [
       "['Bio', 'Che', 'Eng', 'Math', 'Phy']"
      ]
     },
     "execution_count": 28,
     "metadata": {},
     "output_type": "execute_result"
    }
   ],
   "source": [
    "sorted(['Phy', 'Che', 'Math', 'Eng', 'Bio'])\n"
   ]
  },
  {
   "cell_type": "code",
   "execution_count": null,
   "id": "5483c506",
   "metadata": {},
   "outputs": [
    {
     "data": {
      "text/plain": [
       "['Phy', 'Math', 'Eng', 'Che', 'Bio']"
      ]
     },
     "execution_count": 29,
     "metadata": {},
     "output_type": "execute_result"
    }
   ],
   "source": [
    "sorted(stuMarks.keys(),reverse = True)\n"
   ]
  },
  {
   "cell_type": "code",
   "execution_count": null,
   "id": "d4a0d99b",
   "metadata": {},
   "outputs": [
    {
     "data": {
      "text/plain": [
       "['Bio', 'Che', 'Eng', 'Math', 'Phy']"
      ]
     },
     "execution_count": 30,
     "metadata": {},
     "output_type": "execute_result"
    }
   ],
   "source": [
    "sorted(stuMarks.keys(),reverse = False)"
   ]
  },
  {
   "cell_type": "code",
   "execution_count": null,
   "id": "c6985886",
   "metadata": {},
   "outputs": [
    {
     "data": {
      "text/plain": [
       "{'Phy': 88, 'Che': 89, 'Math': 78, 'Eng': 56, 'Bio': 54}"
      ]
     },
     "execution_count": 31,
     "metadata": {},
     "output_type": "execute_result"
    }
   ],
   "source": [
    "stuMarks = {'Phy': 88, 'Che': 89, 'Math': 78, 'Eng': 56, 'Bio': 54}\n",
    "stuMarks"
   ]
  },
  {
   "cell_type": "code",
   "execution_count": null,
   "id": "2de1b740",
   "metadata": {},
   "outputs": [
    {
     "data": {
      "text/plain": [
       "dict_values([88, 89, 78, 56, 54])"
      ]
     },
     "execution_count": 32,
     "metadata": {},
     "output_type": "execute_result"
    }
   ],
   "source": [
    "stuMarks.values()"
   ]
  },
  {
   "cell_type": "code",
   "execution_count": null,
   "id": "ed8386b4",
   "metadata": {},
   "outputs": [
    {
     "data": {
      "text/plain": [
       "[54, 56, 78, 88, 89]"
      ]
     },
     "execution_count": 33,
     "metadata": {},
     "output_type": "execute_result"
    }
   ],
   "source": [
    "sorted([88,89,78,56,54])"
   ]
  },
  {
   "cell_type": "code",
   "execution_count": null,
   "id": "8a2e474f",
   "metadata": {},
   "outputs": [
    {
     "data": {
      "text/plain": [
       "{'Phy': 88, 'Che': 89, 'Math': 78, 'Eng': 56, 'Bio': 54}"
      ]
     },
     "execution_count": 2,
     "metadata": {},
     "output_type": "execute_result"
    }
   ],
   "source": [
    "stuMarks = {'Phy': 88, 'Che': 89, 'Math': 78, 'Eng': 56, 'Bio': 54}\n",
    "stuMarks"
   ]
  },
  {
   "cell_type": "code",
   "execution_count": null,
   "id": "c56a33c9",
   "metadata": {},
   "outputs": [
    {
     "data": {
      "text/plain": [
       "dict_values([88, 89, 78, 56, 54])"
      ]
     },
     "execution_count": 35,
     "metadata": {},
     "output_type": "execute_result"
    }
   ],
   "source": [
    "stuMarks.values()"
   ]
  },
  {
   "cell_type": "code",
   "execution_count": null,
   "id": "ffec5e78",
   "metadata": {},
   "outputs": [
    {
     "name": "stdout",
     "output_type": "stream",
     "text": [
      "Bio 54\n",
      "Che 89\n",
      "Eng 56\n",
      "Math 78\n",
      "Phy 88\n"
     ]
    }
   ],
   "source": [
    "for i in sorted(stuMarks.keys(),reverse = False):\n",
    "    print(i, stuMarks[i])"
   ]
  },
  {
   "cell_type": "code",
   "execution_count": null,
   "id": "e19538c5",
   "metadata": {},
   "outputs": [
    {
     "name": "stdout",
     "output_type": "stream",
     "text": [
      "{'Bio': 54}\n",
      "{'Bio': 54, 'Che': 89}\n",
      "{'Bio': 54, 'Che': 89, 'Eng': 56}\n",
      "{'Bio': 54, 'Che': 89, 'Eng': 56, 'Math': 78}\n",
      "{'Bio': 54, 'Che': 89, 'Eng': 56, 'Math': 78, 'Phy': 88}\n"
     ]
    }
   ],
   "source": [
    "newDi = {}\n",
    "\n",
    "for i in sorted(stuMarks.keys(),reverse = False):\n",
    "    newDi[i] = stuMarks[i]\n",
    "    print(newDi)"
   ]
  },
  {
   "cell_type": "code",
   "execution_count": null,
   "id": "69405966",
   "metadata": {},
   "outputs": [
    {
     "data": {
      "text/plain": [
       "{'Phy': 88, 'Che': 89, 'Math': 78, 'Eng': 56, 'Bio': 54}"
      ]
     },
     "execution_count": 3,
     "metadata": {},
     "output_type": "execute_result"
    }
   ],
   "source": [
    "stuMarks"
   ]
  },
  {
   "cell_type": "code",
   "execution_count": null,
   "id": "976020f3",
   "metadata": {},
   "outputs": [],
   "source": []
  }
 ],
 "metadata": {
  "kernelspec": {
   "display_name": "Python 3",
   "language": "python",
   "name": "python3"
  },
  "language_info": {
   "codemirror_mode": {
    "name": "ipython",
    "version": 3
   },
   "file_extension": ".py",
   "mimetype": "text/x-python",
   "name": "python",
   "nbconvert_exporter": "python",
   "pygments_lexer": "ipython3",
   "version": "3.13.3"
  }
 },
 "nbformat": 4,
 "nbformat_minor": 5
}
