{
 "cells": [
  {
   "cell_type": "code",
   "execution_count": 4,
   "id": "36225a75",
   "metadata": {},
   "outputs": [
    {
     "name": "stdout",
     "output_type": "stream",
     "text": [
      "pip 25.0.1 from c:\\Program Files\\Python313\\Lib\\site-packages\\pip (python 3.13)\n",
      "\n",
      "Note: you may need to restart the kernel to use updated packages.\n"
     ]
    }
   ],
   "source": [
    "pip --version"
   ]
  },
  {
   "cell_type": "code",
   "execution_count": 5,
   "id": "83d47d17",
   "metadata": {},
   "outputs": [
    {
     "name": "stdout",
     "output_type": "stream",
     "text": [
      "Defaulting to user installation because normal site-packages is not writeable\n",
      "Requirement already satisfied: numpy in c:\\users\\vishnu\\appdata\\roaming\\python\\python313\\site-packages (2.3.1)\n",
      "Note: you may need to restart the kernel to use updated packages.\n"
     ]
    },
    {
     "name": "stderr",
     "output_type": "stream",
     "text": [
      "\n",
      "[notice] A new release of pip is available: 25.0.1 -> 25.1.1\n",
      "[notice] To update, run: python.exe -m pip install --upgrade pip\n"
     ]
    }
   ],
   "source": [
    "pip install numpy"
   ]
  },
  {
   "cell_type": "code",
   "execution_count": 6,
   "id": "7e06cdfe",
   "metadata": {},
   "outputs": [],
   "source": [
    "import numpy as np"
   ]
  },
  {
   "cell_type": "code",
   "execution_count": 7,
   "id": "2baa84f1",
   "metadata": {},
   "outputs": [],
   "source": [
    "my_lst = [1,2,3,4,5]\n",
    "\n",
    "arr = np.array(my_lst)"
   ]
  },
  {
   "cell_type": "code",
   "execution_count": 8,
   "id": "b5b65529",
   "metadata": {},
   "outputs": [
    {
     "data": {
      "text/plain": [
       "numpy.ndarray"
      ]
     },
     "execution_count": 8,
     "metadata": {},
     "output_type": "execute_result"
    }
   ],
   "source": [
    "type(arr)"
   ]
  },
  {
   "cell_type": "code",
   "execution_count": 9,
   "id": "c7dd170f",
   "metadata": {},
   "outputs": [
    {
     "data": {
      "text/plain": [
       "(5,)"
      ]
     },
     "execution_count": 9,
     "metadata": {},
     "output_type": "execute_result"
    }
   ],
   "source": [
    "arr.shape"
   ]
  },
  {
   "cell_type": "code",
   "execution_count": 10,
   "id": "c5cc2398",
   "metadata": {},
   "outputs": [
    {
     "data": {
      "text/plain": [
       "array([1, 2, 3, 4, 5])"
      ]
     },
     "execution_count": 10,
     "metadata": {},
     "output_type": "execute_result"
    }
   ],
   "source": [
    "arr"
   ]
  },
  {
   "cell_type": "code",
   "execution_count": 11,
   "id": "758636ae",
   "metadata": {},
   "outputs": [],
   "source": [
    "## Multinested Array\n",
    "\n",
    "my_lst1 = [1,2,3,4,5]\n",
    "my_lst2 = [2,6,6,7,5]\n",
    "my_lst3 = [1,2,3,4,5]\n",
    "\n",
    "\n",
    "arr = np.array([my_lst1,my_lst2,my_lst3])"
   ]
  },
  {
   "cell_type": "code",
   "execution_count": 12,
   "id": "42308aff",
   "metadata": {},
   "outputs": [
    {
     "data": {
      "text/plain": [
       "array([[1, 2, 3, 4, 5],\n",
       "       [2, 6, 6, 7, 5],\n",
       "       [1, 2, 3, 4, 5]])"
      ]
     },
     "execution_count": 12,
     "metadata": {},
     "output_type": "execute_result"
    }
   ],
   "source": [
    "\n",
    "arr"
   ]
  },
  {
   "cell_type": "code",
   "execution_count": 13,
   "id": "246bc4be",
   "metadata": {},
   "outputs": [
    {
     "data": {
      "text/plain": [
       "(3, 5)"
      ]
     },
     "execution_count": 13,
     "metadata": {},
     "output_type": "execute_result"
    }
   ],
   "source": [
    "arr.shape"
   ]
  },
  {
   "cell_type": "code",
   "execution_count": 14,
   "id": "3d4c23a3",
   "metadata": {},
   "outputs": [
    {
     "data": {
      "text/plain": [
       "array([[1, 2, 3],\n",
       "       [4, 5, 2],\n",
       "       [6, 6, 7],\n",
       "       [5, 1, 2],\n",
       "       [3, 4, 5]])"
      ]
     },
     "execution_count": 14,
     "metadata": {},
     "output_type": "execute_result"
    }
   ],
   "source": [
    "arr.reshape(5,3)"
   ]
  },
  {
   "cell_type": "code",
   "execution_count": 15,
   "id": "8ac04b2b",
   "metadata": {},
   "outputs": [
    {
     "data": {
      "text/plain": [
       "(3, 5)"
      ]
     },
     "execution_count": 15,
     "metadata": {},
     "output_type": "execute_result"
    }
   ],
   "source": [
    "arr.shape"
   ]
  },
  {
   "cell_type": "code",
   "execution_count": 16,
   "id": "0c92265f",
   "metadata": {},
   "outputs": [
    {
     "data": {
      "text/plain": [
       "array([[1, 2, 3, 4, 5],\n",
       "       [2, 6, 6, 7, 5],\n",
       "       [1, 2, 3, 4, 5]])"
      ]
     },
     "execution_count": 16,
     "metadata": {},
     "output_type": "execute_result"
    }
   ],
   "source": [
    "arr.reshape(3, 5)"
   ]
  },
  {
   "cell_type": "markdown",
   "id": "d00e9f61",
   "metadata": {},
   "source": [
    "# indexing"
   ]
  },
  {
   "cell_type": "code",
   "execution_count": 17,
   "id": "95e6449d",
   "metadata": {},
   "outputs": [
    {
     "name": "stdout",
     "output_type": "stream",
     "text": [
      "4\n"
     ]
    }
   ],
   "source": [
    "## Accessing the array element.\n",
    "\n",
    "\n",
    "arr = np.array([1,2,3,4,5,6,7,8,9])\n",
    "print(arr[3])"
   ]
  },
  {
   "cell_type": "code",
   "execution_count": 18,
   "id": "9643cbfa",
   "metadata": {},
   "outputs": [
    {
     "data": {
      "text/plain": [
       "np.int64(4)"
      ]
     },
     "execution_count": 18,
     "metadata": {},
     "output_type": "execute_result"
    }
   ],
   "source": [
    "arr[3]"
   ]
  },
  {
   "cell_type": "code",
   "execution_count": 19,
   "id": "d4098455",
   "metadata": {},
   "outputs": [
    {
     "data": {
      "text/plain": [
       "array([1, 2, 3, 4, 5, 6, 7, 8, 9])"
      ]
     },
     "execution_count": 19,
     "metadata": {},
     "output_type": "execute_result"
    }
   ],
   "source": [
    "arr"
   ]
  },
  {
   "cell_type": "code",
   "execution_count": 20,
   "id": "9c5b5bc4",
   "metadata": {},
   "outputs": [
    {
     "name": "stdout",
     "output_type": "stream",
     "text": [
      "[1 2 3 4 5 6 7 8 9]\n"
     ]
    }
   ],
   "source": [
    "print(arr[0::])"
   ]
  },
  {
   "cell_type": "code",
   "execution_count": 21,
   "id": "1840ac13",
   "metadata": {},
   "outputs": [
    {
     "name": "stdout",
     "output_type": "stream",
     "text": [
      "[1 2]\n"
     ]
    }
   ],
   "source": [
    "print(arr[0:2])"
   ]
  },
  {
   "cell_type": "code",
   "execution_count": 22,
   "id": "aeb308e4",
   "metadata": {},
   "outputs": [
    {
     "ename": "IndexError",
     "evalue": "too many indices for array: array is 1-dimensional, but 2 were indexed",
     "output_type": "error",
     "traceback": [
      "\u001b[31m---------------------------------------------------------------------------\u001b[39m",
      "\u001b[31mIndexError\u001b[39m                                Traceback (most recent call last)",
      "\u001b[36mCell\u001b[39m\u001b[36m \u001b[39m\u001b[32mIn[22]\u001b[39m\u001b[32m, line 1\u001b[39m\n\u001b[32m----> \u001b[39m\u001b[32m1\u001b[39m \u001b[38;5;28mprint\u001b[39m(\u001b[43marr\u001b[49m\u001b[43m[\u001b[49m\u001b[32;43m0\u001b[39;49m\u001b[43m:\u001b[49m\u001b[32;43m2\u001b[39;49m\u001b[43m,\u001b[49m\u001b[32;43m0\u001b[39;49m\u001b[43m:\u001b[49m\u001b[32;43m2\u001b[39;49m\u001b[43m]\u001b[49m)\n",
      "\u001b[31mIndexError\u001b[39m: too many indices for array: array is 1-dimensional, but 2 were indexed"
     ]
    }
   ],
   "source": [
    "print(arr[0:2,0:2])"
   ]
  },
  {
   "cell_type": "code",
   "execution_count": null,
   "id": "bc9e54fc",
   "metadata": {},
   "outputs": [
    {
     "data": {
      "text/plain": [
       "array([[1, 2, 3, 4, 5],\n",
       "       [2, 6, 6, 7, 5]])"
      ]
     },
     "execution_count": 51,
     "metadata": {},
     "output_type": "execute_result"
    }
   ],
   "source": [
    "arr[0:2]"
   ]
  },
  {
   "cell_type": "code",
   "execution_count": null,
   "id": "075abc62",
   "metadata": {},
   "outputs": [
    {
     "data": {
      "text/plain": [
       "array([[2, 6, 6, 7, 5]])"
      ]
     },
     "execution_count": 52,
     "metadata": {},
     "output_type": "execute_result"
    }
   ],
   "source": [
    "arr[1:2]"
   ]
  },
  {
   "cell_type": "code",
   "execution_count": null,
   "id": "9106681c",
   "metadata": {},
   "outputs": [
    {
     "data": {
      "text/plain": [
       "array([[2]])"
      ]
     },
     "execution_count": 54,
     "metadata": {},
     "output_type": "execute_result"
    }
   ],
   "source": [
    "arr[1:2,:1:2]"
   ]
  },
  {
   "cell_type": "code",
   "execution_count": null,
   "id": "fb7f20e3",
   "metadata": {},
   "outputs": [
    {
     "data": {
      "text/plain": [
       "array([[1, 2, 3],\n",
       "       [2, 6, 6]])"
      ]
     },
     "execution_count": 57,
     "metadata": {},
     "output_type": "execute_result"
    }
   ],
   "source": [
    "arr[0:2,0:3]"
   ]
  },
  {
   "cell_type": "code",
   "execution_count": null,
   "id": "a1d35944",
   "metadata": {},
   "outputs": [
    {
     "data": {
      "text/plain": [
       "array([[7, 5],\n",
       "       [4, 5]])"
      ]
     },
     "execution_count": 61,
     "metadata": {},
     "output_type": "execute_result"
    }
   ],
   "source": [
    "arr[1:, 3:]"
   ]
  },
  {
   "cell_type": "code",
   "execution_count": null,
   "id": "9c207d5c",
   "metadata": {},
   "outputs": [
    {
     "data": {
      "text/plain": [
       "array([[1, 2, 3, 4, 5],\n",
       "       [2, 6, 6, 7, 5],\n",
       "       [1, 2, 3, 4, 5]])"
      ]
     },
     "execution_count": 62,
     "metadata": {},
     "output_type": "execute_result"
    }
   ],
   "source": [
    "arr"
   ]
  },
  {
   "cell_type": "markdown",
   "id": "58e2cfa3",
   "metadata": {},
   "source": [
    "## np.arrange()"
   ]
  },
  {
   "cell_type": "code",
   "execution_count": null,
   "id": "893dcc39",
   "metadata": {},
   "outputs": [],
   "source": [
    "arr1 = np.arange(0,10)"
   ]
  },
  {
   "cell_type": "code",
   "execution_count": null,
   "id": "1df017e0",
   "metadata": {},
   "outputs": [
    {
     "data": {
      "text/plain": [
       "array([[1, 2, 3, 4, 5],\n",
       "       [2, 6, 6, 7, 5],\n",
       "       [1, 2, 3, 4, 5]])"
      ]
     },
     "execution_count": 71,
     "metadata": {},
     "output_type": "execute_result"
    }
   ],
   "source": [
    "arr"
   ]
  },
  {
   "cell_type": "code",
   "execution_count": null,
   "id": "37773730",
   "metadata": {},
   "outputs": [
    {
     "data": {
      "text/plain": [
       "array([0, 1, 2, 3, 4, 5, 6, 7, 8, 9])"
      ]
     },
     "execution_count": 73,
     "metadata": {},
     "output_type": "execute_result"
    }
   ],
   "source": [
    "arr1"
   ]
  },
  {
   "cell_type": "code",
   "execution_count": null,
   "id": "6ca0cd7a",
   "metadata": {},
   "outputs": [],
   "source": [
    "arr1 = np.arange(0,10, step = 2)"
   ]
  },
  {
   "cell_type": "code",
   "execution_count": null,
   "id": "dcce7a66",
   "metadata": {},
   "outputs": [
    {
     "data": {
      "text/plain": [
       "array([0, 2, 4, 6, 8])"
      ]
     },
     "execution_count": 75,
     "metadata": {},
     "output_type": "execute_result"
    }
   ],
   "source": [
    "arr1"
   ]
  },
  {
   "cell_type": "code",
   "execution_count": null,
   "id": "5011b323",
   "metadata": {},
   "outputs": [
    {
     "data": {
      "text/plain": [
       "array([ 1.        ,  1.18367347,  1.36734694,  1.55102041,  1.73469388,\n",
       "        1.91836735,  2.10204082,  2.28571429,  2.46938776,  2.65306122,\n",
       "        2.83673469,  3.02040816,  3.20408163,  3.3877551 ,  3.57142857,\n",
       "        3.75510204,  3.93877551,  4.12244898,  4.30612245,  4.48979592,\n",
       "        4.67346939,  4.85714286,  5.04081633,  5.2244898 ,  5.40816327,\n",
       "        5.59183673,  5.7755102 ,  5.95918367,  6.14285714,  6.32653061,\n",
       "        6.51020408,  6.69387755,  6.87755102,  7.06122449,  7.24489796,\n",
       "        7.42857143,  7.6122449 ,  7.79591837,  7.97959184,  8.16326531,\n",
       "        8.34693878,  8.53061224,  8.71428571,  8.89795918,  9.08163265,\n",
       "        9.26530612,  9.44897959,  9.63265306,  9.81632653, 10.        ])"
      ]
     },
     "execution_count": 76,
     "metadata": {},
     "output_type": "execute_result"
    }
   ],
   "source": [
    "np.linspace(1,10,50)"
   ]
  },
  {
   "cell_type": "code",
   "execution_count": null,
   "id": "709fa541",
   "metadata": {},
   "outputs": [
    {
     "data": {
      "text/plain": [
       "array([ 1.        ,  2.28571429,  3.57142857,  4.85714286,  6.14285714,\n",
       "        7.42857143,  8.71428571, 10.        ])"
      ]
     },
     "execution_count": 95,
     "metadata": {},
     "output_type": "execute_result"
    }
   ],
   "source": [
    "np.linspace(1,10,8)"
   ]
  },
  {
   "cell_type": "markdown",
   "id": "0b13b4a1",
   "metadata": {},
   "source": [
    "# copy() function & brodcasting"
   ]
  },
  {
   "cell_type": "code",
   "execution_count": null,
   "id": "0ea76638",
   "metadata": {},
   "outputs": [],
   "source": []
  },
  {
   "cell_type": "code",
   "execution_count": null,
   "id": "c38ecf03",
   "metadata": {},
   "outputs": [],
   "source": [
    "arr[3:] =300"
   ]
  },
  {
   "cell_type": "code",
   "execution_count": null,
   "id": "787afa3f",
   "metadata": {},
   "outputs": [
    {
     "data": {
      "text/plain": [
       "array([[1, 2, 3, 4, 5],\n",
       "       [2, 6, 6, 7, 5],\n",
       "       [1, 2, 3, 4, 5]])"
      ]
     },
     "execution_count": 79,
     "metadata": {},
     "output_type": "execute_result"
    }
   ],
   "source": [
    "arr"
   ]
  },
  {
   "cell_type": "code",
   "execution_count": null,
   "id": "a2628fab",
   "metadata": {},
   "outputs": [],
   "source": [
    "arr = np.array([1,2,3,4,5,6,7,8,9])"
   ]
  },
  {
   "cell_type": "code",
   "execution_count": null,
   "id": "24991ee6",
   "metadata": {},
   "outputs": [],
   "source": [
    "arr[3:]=300"
   ]
  },
  {
   "cell_type": "code",
   "execution_count": null,
   "id": "d523b73a",
   "metadata": {},
   "outputs": [
    {
     "data": {
      "text/plain": [
       "array([  1,   2,   3, 300, 300, 300, 300, 300, 300])"
      ]
     },
     "execution_count": 82,
     "metadata": {},
     "output_type": "execute_result"
    }
   ],
   "source": [
    "arr"
   ]
  },
  {
   "cell_type": "code",
   "execution_count": null,
   "id": "36db337b",
   "metadata": {},
   "outputs": [],
   "source": [
    "arr1[3:] =300"
   ]
  },
  {
   "cell_type": "code",
   "execution_count": null,
   "id": "383ba596",
   "metadata": {},
   "outputs": [
    {
     "data": {
      "text/plain": [
       "array([  0,   2,   4, 300, 300])"
      ]
     },
     "execution_count": 96,
     "metadata": {},
     "output_type": "execute_result"
    }
   ],
   "source": [
    "arr1"
   ]
  },
  {
   "cell_type": "code",
   "execution_count": null,
   "id": "a7d38e38",
   "metadata": {},
   "outputs": [],
   "source": [
    "arr1[1:2] = 200"
   ]
  },
  {
   "cell_type": "code",
   "execution_count": null,
   "id": "e9064ee2",
   "metadata": {},
   "outputs": [],
   "source": [
    "arr1 = arr.copy()"
   ]
  },
  {
   "cell_type": "code",
   "execution_count": null,
   "id": "52d0ffcf",
   "metadata": {},
   "outputs": [
    {
     "data": {
      "text/plain": [
       "array([  1,   2,   3, 300, 300, 300, 300, 300, 300])"
      ]
     },
     "execution_count": 100,
     "metadata": {},
     "output_type": "execute_result"
    }
   ],
   "source": [
    "arr1"
   ]
  },
  {
   "cell_type": "code",
   "execution_count": null,
   "id": "522f18e8",
   "metadata": {},
   "outputs": [
    {
     "name": "stdout",
     "output_type": "stream",
     "text": [
      "[  1   2   3 300 300 300 300 300 300]\n",
      "[  1   2   3 100 100 100 100 100 100]\n"
     ]
    }
   ],
   "source": [
    "print(arr)\n",
    "arr1[3:] = 100\n",
    "print(arr1)"
   ]
  },
  {
   "cell_type": "code",
   "execution_count": null,
   "id": "fe17d3d8",
   "metadata": {},
   "outputs": [
    {
     "data": {
      "text/plain": [
       "array([  1,   2,   3, 300])"
      ]
     },
     "execution_count": 102,
     "metadata": {},
     "output_type": "execute_result"
    }
   ],
   "source": [
    "arr[0:4]"
   ]
  },
  {
   "cell_type": "code",
   "execution_count": null,
   "id": "b7730986",
   "metadata": {},
   "outputs": [
    {
     "data": {
      "text/plain": [
       "array([ True, False, False, False, False, False, False, False, False])"
      ]
     },
     "execution_count": 103,
     "metadata": {},
     "output_type": "execute_result"
    }
   ],
   "source": [
    "## some condition very useful in exploratory data analysis.\n",
    "\n",
    "val = 2\n",
    "\n",
    "arr<2"
   ]
  },
  {
   "cell_type": "code",
   "execution_count": null,
   "id": "33df2d78",
   "metadata": {},
   "outputs": [
    {
     "data": {
      "text/plain": [
       "array([1, 2, 3])"
      ]
     },
     "execution_count": 104,
     "metadata": {},
     "output_type": "execute_result"
    }
   ],
   "source": [
    "arr[arr<100]"
   ]
  },
  {
   "cell_type": "code",
   "execution_count": null,
   "id": "fd1bab5c",
   "metadata": {},
   "outputs": [
    {
     "data": {
      "text/plain": [
       "array([False, False, False,  True,  True,  True,  True,  True,  True])"
      ]
     },
     "execution_count": 105,
     "metadata": {},
     "output_type": "execute_result"
    }
   ],
   "source": [
    "arr>100"
   ]
  },
  {
   "cell_type": "code",
   "execution_count": null,
   "id": "76212837",
   "metadata": {},
   "outputs": [
    {
     "data": {
      "text/plain": [
       "array([300, 300, 300, 300, 300, 300])"
      ]
     },
     "execution_count": 106,
     "metadata": {},
     "output_type": "execute_result"
    }
   ],
   "source": [
    "arr[arr>100]"
   ]
  },
  {
   "cell_type": "code",
   "execution_count": null,
   "id": "5c2fbae5",
   "metadata": {},
   "outputs": [],
   "source": [
    "arr = (1,2,3,4)\n",
    "arr2 = [5,6,7,8]\n",
    "\n",
    "a = np.array(arr)\n",
    "b = np.array(arr2)"
   ]
  },
  {
   "cell_type": "code",
   "execution_count": null,
   "id": "1ca1c396",
   "metadata": {},
   "outputs": [
    {
     "data": {
      "text/plain": [
       "array([1, 2, 3, 4])"
      ]
     },
     "execution_count": 128,
     "metadata": {},
     "output_type": "execute_result"
    }
   ],
   "source": [
    "a"
   ]
  },
  {
   "cell_type": "code",
   "execution_count": null,
   "id": "8e742edd",
   "metadata": {},
   "outputs": [
    {
     "data": {
      "text/plain": [
       "array([5, 6, 7, 8])"
      ]
     },
     "execution_count": 131,
     "metadata": {},
     "output_type": "execute_result"
    }
   ],
   "source": [
    "b"
   ]
  },
  {
   "cell_type": "code",
   "execution_count": null,
   "id": "5cab7861",
   "metadata": {},
   "outputs": [
    {
     "data": {
      "text/plain": [
       "array([ 5, 12, 21, 32])"
      ]
     },
     "execution_count": 132,
     "metadata": {},
     "output_type": "execute_result"
    }
   ],
   "source": [
    "a*b"
   ]
  },
  {
   "cell_type": "code",
   "execution_count": null,
   "id": "0b2b6548",
   "metadata": {},
   "outputs": [
    {
     "data": {
      "text/plain": [
       "array([1., 1., 1., 1.])"
      ]
     },
     "execution_count": 133,
     "metadata": {},
     "output_type": "execute_result"
    }
   ],
   "source": [
    "np.ones(4)"
   ]
  },
  {
   "cell_type": "code",
   "execution_count": null,
   "id": "57b38eab",
   "metadata": {},
   "outputs": [
    {
     "data": {
      "text/plain": [
       "array([1., 1., 1., 1.])"
      ]
     },
     "execution_count": 134,
     "metadata": {},
     "output_type": "execute_result"
    }
   ],
   "source": [
    "np.ones(4, dtype=float)"
   ]
  },
  {
   "cell_type": "code",
   "execution_count": null,
   "id": "346a5175",
   "metadata": {},
   "outputs": [
    {
     "data": {
      "text/plain": [
       "array(['1', '1', '1', '1'], dtype='<U1')"
      ]
     },
     "execution_count": 135,
     "metadata": {},
     "output_type": "execute_result"
    }
   ],
   "source": [
    "np.ones(4, dtype= str)"
   ]
  },
  {
   "cell_type": "code",
   "execution_count": null,
   "id": "1efae05b",
   "metadata": {},
   "outputs": [
    {
     "data": {
      "text/plain": [
       "array([[1, 1, 1, 1],\n",
       "       [1, 1, 1, 1]])"
      ]
     },
     "execution_count": 138,
     "metadata": {},
     "output_type": "execute_result"
    }
   ],
   "source": [
    "np.ones((2,4),dtype=int)"
   ]
  },
  {
   "cell_type": "code",
   "execution_count": null,
   "id": "3f7531db",
   "metadata": {},
   "outputs": [
    {
     "data": {
      "text/plain": [
       "array([[0.00747666, 0.03050645, 0.02783357],\n",
       "       [0.09455235, 0.67576728, 0.84684245],\n",
       "       [0.76577414, 0.28512827, 0.0701692 ]])"
      ]
     },
     "execution_count": 139,
     "metadata": {},
     "output_type": "execute_result"
    }
   ],
   "source": [
    "## random distribution\n",
    "\n",
    "np.random.rand(3,3)"
   ]
  },
  {
   "cell_type": "code",
   "execution_count": null,
   "id": "619e6ffb",
   "metadata": {},
   "outputs": [
    {
     "data": {
      "text/plain": [
       "0.6916832855600307"
      ]
     },
     "execution_count": 145,
     "metadata": {},
     "output_type": "execute_result"
    }
   ],
   "source": [
    "np.random.beta(3,1)"
   ]
  },
  {
   "cell_type": "code",
   "execution_count": null,
   "id": "cbf17342",
   "metadata": {},
   "outputs": [],
   "source": [
    "arr_ex = np.random.randn(4,4) "
   ]
  },
  {
   "cell_type": "code",
   "execution_count": null,
   "id": "bcab985f",
   "metadata": {},
   "outputs": [
    {
     "data": {
      "text/plain": [
       "array([[ 0.95118058, -0.82343187, -2.62767723, -0.84870981],\n",
       "       [-0.07781766, -0.31849006, -0.24015963, -1.65224354],\n",
       "       [ 0.05467995,  1.09190724, -0.19426117, -0.69598596],\n",
       "       [ 0.4419855 , -1.61984722,  1.92887049,  2.60094175]])"
      ]
     },
     "execution_count": 153,
     "metadata": {},
     "output_type": "execute_result"
    }
   ],
   "source": [
    "arr_ex"
   ]
  },
  {
   "cell_type": "code",
   "execution_count": null,
   "id": "276634e7",
   "metadata": {},
   "outputs": [
    {
     "ename": "ModuleNotFoundError",
     "evalue": "No module named 'seaborn'",
     "output_type": "error",
     "traceback": [
      "\u001b[31m---------------------------------------------------------------------------\u001b[39m",
      "\u001b[31mModuleNotFoundError\u001b[39m                       Traceback (most recent call last)",
      "\u001b[36mCell\u001b[39m\u001b[36m \u001b[39m\u001b[32mIn[155]\u001b[39m\u001b[32m, line 1\u001b[39m\n\u001b[32m----> \u001b[39m\u001b[32m1\u001b[39m \u001b[38;5;28;01mimport\u001b[39;00m\u001b[38;5;250m \u001b[39m\u001b[34;01mseaborn\u001b[39;00m\u001b[38;5;250m \u001b[39m\u001b[38;5;28;01mas\u001b[39;00m\u001b[38;5;250m \u001b[39m\u001b[34;01msns\u001b[39;00m\n",
      "\u001b[31mModuleNotFoundError\u001b[39m: No module named 'seaborn'"
     ]
    }
   ],
   "source": [
    "import seaborn as sns"
   ]
  },
  {
   "cell_type": "code",
   "execution_count": null,
   "id": "3a53dc73",
   "metadata": {},
   "outputs": [
    {
     "name": "stdout",
     "output_type": "stream",
     "text": [
      "pip 25.0.1 from c:\\Program Files\\Python313\\Lib\\site-packages\\pip (python 3.13)\n",
      "\n",
      "Note: you may need to restart the kernel to use updated packages.\n"
     ]
    }
   ],
   "source": [
    "pip --version"
   ]
  },
  {
   "cell_type": "code",
   "execution_count": null,
   "id": "5594c8eb",
   "metadata": {},
   "outputs": [
    {
     "name": "stdout",
     "output_type": "stream",
     "text": [
      "Defaulting to user installation because normal site-packages is not writeable\n",
      "Collecting seaborn\n",
      "  Downloading seaborn-0.13.2-py3-none-any.whl.metadata (5.4 kB)\n",
      "Requirement already satisfied: numpy!=1.24.0,>=1.20 in c:\\users\\vishnu\\appdata\\roaming\\python\\python313\\site-packages (from seaborn) (2.3.1)\n",
      "Collecting pandas>=1.2 (from seaborn)\n",
      "  Downloading pandas-2.3.0-cp313-cp313-win_amd64.whl.metadata (19 kB)\n",
      "Collecting matplotlib!=3.6.1,>=3.4 (from seaborn)\n",
      "  Downloading matplotlib-3.10.3-cp313-cp313-win_amd64.whl.metadata (11 kB)\n",
      "Collecting contourpy>=1.0.1 (from matplotlib!=3.6.1,>=3.4->seaborn)\n",
      "  Downloading contourpy-1.3.2-cp313-cp313-win_amd64.whl.metadata (5.5 kB)\n",
      "Collecting cycler>=0.10 (from matplotlib!=3.6.1,>=3.4->seaborn)\n",
      "  Downloading cycler-0.12.1-py3-none-any.whl.metadata (3.8 kB)\n",
      "Collecting fonttools>=4.22.0 (from matplotlib!=3.6.1,>=3.4->seaborn)\n",
      "  Downloading fonttools-4.58.4-cp313-cp313-win_amd64.whl.metadata (108 kB)\n",
      "Collecting kiwisolver>=1.3.1 (from matplotlib!=3.6.1,>=3.4->seaborn)\n",
      "  Downloading kiwisolver-1.4.8-cp313-cp313-win_amd64.whl.metadata (6.3 kB)\n",
      "Requirement already satisfied: packaging>=20.0 in c:\\users\\vishnu\\appdata\\roaming\\python\\python313\\site-packages (from matplotlib!=3.6.1,>=3.4->seaborn) (25.0)\n",
      "Collecting pillow>=8 (from matplotlib!=3.6.1,>=3.4->seaborn)\n",
      "  Downloading pillow-11.2.1-cp313-cp313-win_amd64.whl.metadata (9.1 kB)\n",
      "Collecting pyparsing>=2.3.1 (from matplotlib!=3.6.1,>=3.4->seaborn)\n",
      "  Downloading pyparsing-3.2.3-py3-none-any.whl.metadata (5.0 kB)\n",
      "Requirement already satisfied: python-dateutil>=2.7 in c:\\users\\vishnu\\appdata\\roaming\\python\\python313\\site-packages (from matplotlib!=3.6.1,>=3.4->seaborn) (2.9.0.post0)\n",
      "Collecting pytz>=2020.1 (from pandas>=1.2->seaborn)\n",
      "  Downloading pytz-2025.2-py2.py3-none-any.whl.metadata (22 kB)\n",
      "Collecting tzdata>=2022.7 (from pandas>=1.2->seaborn)\n",
      "  Downloading tzdata-2025.2-py2.py3-none-any.whl.metadata (1.4 kB)\n",
      "Requirement already satisfied: six>=1.5 in c:\\users\\vishnu\\appdata\\roaming\\python\\python313\\site-packages (from python-dateutil>=2.7->matplotlib!=3.6.1,>=3.4->seaborn) (1.17.0)\n",
      "Downloading seaborn-0.13.2-py3-none-any.whl (294 kB)\n",
      "Downloading matplotlib-3.10.3-cp313-cp313-win_amd64.whl (8.1 MB)\n",
      "   ---------------------------------------- 0.0/8.1 MB ? eta -:--:--\n",
      "   ------------------ --------------------- 3.7/8.1 MB 17.4 MB/s eta 0:00:01\n",
      "   ------------------------------- -------- 6.3/8.1 MB 14.8 MB/s eta 0:00:01\n",
      "   ---------------------------------------- 8.1/8.1 MB 12.6 MB/s eta 0:00:00\n",
      "Downloading pandas-2.3.0-cp313-cp313-win_amd64.whl (11.0 MB)\n",
      "   ---------------------------------------- 0.0/11.0 MB ? eta -:--:--\n",
      "   -------- ------------------------------- 2.4/11.0 MB 11.7 MB/s eta 0:00:01\n",
      "   ------------------ --------------------- 5.0/11.0 MB 12.3 MB/s eta 0:00:01\n",
      "   --------------------------- ------------ 7.6/11.0 MB 12.6 MB/s eta 0:00:01\n",
      "   ---------------------------------------  10.7/11.0 MB 13.0 MB/s eta 0:00:01\n",
      "   ---------------------------------------- 11.0/11.0 MB 12.0 MB/s eta 0:00:00\n",
      "Downloading contourpy-1.3.2-cp313-cp313-win_amd64.whl (223 kB)\n",
      "Downloading cycler-0.12.1-py3-none-any.whl (8.3 kB)\n",
      "Downloading fonttools-4.58.4-cp313-cp313-win_amd64.whl (2.2 MB)\n",
      "   ---------------------------------------- 0.0/2.2 MB ? eta -:--:--\n",
      "   ---------------------------------------- 2.2/2.2 MB 12.1 MB/s eta 0:00:00\n",
      "Downloading kiwisolver-1.4.8-cp313-cp313-win_amd64.whl (71 kB)\n",
      "Downloading pillow-11.2.1-cp313-cp313-win_amd64.whl (2.7 MB)\n",
      "   ---------------------------------------- 0.0/2.7 MB ? eta -:--:--\n",
      "   ---------------------------------------- 2.7/2.7 MB 13.3 MB/s eta 0:00:00\n",
      "Downloading pyparsing-3.2.3-py3-none-any.whl (111 kB)\n",
      "Downloading pytz-2025.2-py2.py3-none-any.whl (509 kB)\n",
      "Downloading tzdata-2025.2-py2.py3-none-any.whl (347 kB)\n",
      "Installing collected packages: pytz, tzdata, pyparsing, pillow, kiwisolver, fonttools, cycler, contourpy, pandas, matplotlib, seaborn\n",
      "Successfully installed contourpy-1.3.2 cycler-0.12.1 fonttools-4.58.4 kiwisolver-1.4.8 matplotlib-3.10.3 pandas-2.3.0 pillow-11.2.1 pyparsing-3.2.3 pytz-2025.2 seaborn-0.13.2 tzdata-2025.2\n",
      "Note: you may need to restart the kernel to use updated packages.\n"
     ]
    },
    {
     "name": "stderr",
     "output_type": "stream",
     "text": [
      "\n",
      "[notice] A new release of pip is available: 25.0.1 -> 25.1.1\n",
      "[notice] To update, run: python.exe -m pip install --upgrade pip\n"
     ]
    }
   ],
   "source": [
    "pip install seaborn"
   ]
  },
  {
   "cell_type": "code",
   "execution_count": null,
   "id": "51a59a3b",
   "metadata": {},
   "outputs": [],
   "source": [
    "import seaborn as sns\n",
    "import pandas as pd"
   ]
  },
  {
   "cell_type": "code",
   "execution_count": null,
   "id": "1c185069",
   "metadata": {},
   "outputs": [
    {
     "data": {
      "text/plain": [
       "<seaborn.axisgrid.FacetGrid at 0x1f6ae8c51d0>"
      ]
     },
     "execution_count": 165,
     "metadata": {},
     "output_type": "execute_result"
    },
    {
     "data": {
      "image/png": "[encoded data removed]",
      "text/plain": [
       "<Figure size 558.75x500 with 1 Axes>"
      ]
     },
     "metadata": {},
     "output_type": "display_data"
    }
   ],
   "source": [
    "sns.displot(pd.DataFrame(arr_ex.reshape(16,1)))"
   ]
  },
  {
   "cell_type": "code",
   "execution_count": null,
   "id": "16b82e34",
   "metadata": {},
   "outputs": [
    {
     "data": {
      "text/plain": [
       "array([[80, 39],\n",
       "       [93, 52],\n",
       "       [51, 30],\n",
       "       [43, 75]], dtype=int32)"
      ]
     },
     "execution_count": 167,
     "metadata": {},
     "output_type": "execute_result"
    }
   ],
   "source": [
    "np.random.randint(0,100,8).reshape(4,2)"
   ]
  },
  {
   "cell_type": "code",
   "execution_count": null,
   "id": "9a3ecf83",
   "metadata": {},
   "outputs": [
    {
     "data": {
      "text/plain": [
       "array([[0.69811446, 0.76790911, 0.57989973, 0.15667345, 0.02304719]])"
      ]
     },
     "execution_count": 168,
     "metadata": {},
     "output_type": "execute_result"
    }
   ],
   "source": [
    "np.random.random_sample((1,5))"
   ]
  },
  {
   "cell_type": "code",
   "execution_count": null,
   "id": "c21c8be7",
   "metadata": {},
   "outputs": [],
   "source": [
    "import numpy as np"
   ]
  },
  {
   "cell_type": "code",
   "execution_count": null,
   "id": "33bc3af4",
   "metadata": {},
   "outputs": [
    {
     "name": "stdout",
     "output_type": "stream",
     "text": [
      "Data Type:  int64\n"
     ]
    }
   ],
   "source": [
    "var = np.array([1,2,3,4,5,6,7,8,9,10])\n",
    "\n",
    "print(\"Data Type: \",var.dtype)\n"
   ]
  },
  {
   "cell_type": "code",
   "execution_count": null,
   "id": "b9624837",
   "metadata": {},
   "outputs": [
    {
     "name": "stdout",
     "output_type": "stream",
     "text": [
      "Data Type:  float64\n"
     ]
    }
   ],
   "source": [
    "var = np.array([1.3,2.4,3.55,4.75,5.55])\n",
    "\n",
    "print(\"Data Type: \",var.dtype)"
   ]
  },
  {
   "cell_type": "code",
   "execution_count": null,
   "id": "fbef6149",
   "metadata": {},
   "outputs": [
    {
     "name": "stdout",
     "output_type": "stream",
     "text": [
      "Data Type:  <U3\n"
     ]
    }
   ],
   "source": [
    "var = np.array([\"war\",\"var\",\"or\",\"3\"])\n",
    "\n",
    "print(\"Data Type: \",var.dtype)"
   ]
  },
  {
   "cell_type": "code",
   "execution_count": null,
   "id": "58954f52",
   "metadata": {},
   "outputs": [
    {
     "name": "stdout",
     "output_type": "stream",
     "text": [
      "Data Type:  <U21\n"
     ]
    }
   ],
   "source": [
    "var = np.array([1,2,\"vk\",\"aj\",\"pb\"])\n",
    "\n",
    "print(\"Data Type: \",var.dtype)"
   ]
  },
  {
   "cell_type": "code",
   "execution_count": null,
   "id": "01461fef",
   "metadata": {},
   "outputs": [
    {
     "name": "stdout",
     "output_type": "stream",
     "text": [
      "Data Type:  <U21\n"
     ]
    }
   ],
   "source": [
    "var = np.array([\"vk\",\"aj\",\"pb\",2,3,4,5])\n",
    "\n",
    "print(\"Data Type: \",var.dtype)"
   ]
  },
  {
   "cell_type": "code",
   "execution_count": null,
   "id": "6620c2e8",
   "metadata": {},
   "outputs": [
    {
     "name": "stdout",
     "output_type": "stream",
     "text": [
      "Data Type:  <U21\n"
     ]
    }
   ],
   "source": [
    "var = np.array([\"vk\",\"aj\",\"pb\",2,3,4,5])\n",
    "\n",
    "print(\"Data Type: \",var.dtype)"
   ]
  },
  {
   "cell_type": "code",
   "execution_count": null,
   "id": "aa3e6c00",
   "metadata": {},
   "outputs": [
    {
     "name": "stdout",
     "output_type": "stream",
     "text": [
      "Data Type:  int8\n"
     ]
    }
   ],
   "source": [
    "var = np.array([1,2,3,4,5,6,7,8,9,10], dtype = np.int8)\n",
    "\n",
    "print(\"Data Type: \",var.dtype)"
   ]
  },
  {
   "cell_type": "code",
   "execution_count": null,
   "id": "c5123850",
   "metadata": {},
   "outputs": [
    {
     "name": "stdout",
     "output_type": "stream",
     "text": [
      "Data Type:  float32\n",
      "[ 1.  2.  3.  4.  5.  6.  7.  8.  9. 10.]\n"
     ]
    }
   ],
   "source": [
    "var = np.array([1,2,3,4,5,6,7,8,9,10], dtype = \"f\")\n",
    "\n",
    "print(\"Data Type: \",var.dtype)\n",
    "print(var)"
   ]
  },
  {
   "cell_type": "code",
   "execution_count": null,
   "id": "4e66d473",
   "metadata": {},
   "outputs": [
    {
     "data": {
      "text/plain": [
       "array([ 1.,  2.,  3.,  4.,  5.,  6.,  7.,  8.,  9., 10.], dtype=float32)"
      ]
     },
     "execution_count": 37,
     "metadata": {},
     "output_type": "execute_result"
    }
   ],
   "source": [
    "var"
   ]
  },
  {
   "cell_type": "code",
   "execution_count": null,
   "id": "c7fd51e3",
   "metadata": {},
   "outputs": [
    {
     "name": "stdout",
     "output_type": "stream",
     "text": [
      "Data Type:  int64\n",
      "Data Type:  float32\n",
      "Data Type:  int32\n",
      "\n",
      "[ 1  2  3  4  5  6  7  8  9 10]\n",
      "[ 1.  2.  3.  4.  5.  6.  7.  8.  9. 10.]\n",
      "[ 1  2  3  4  5  6  7  8  9 10]\n"
     ]
    }
   ],
   "source": [
    "x1 = np.array([1,2,3,4,5,6,7,8,9,10])\n",
    "new = np.float32(x1)\n",
    "new1 = np.int32(new)\n",
    "\n",
    "print(\"Data Type: \",x1.dtype)\n",
    "print(\"Data Type: \",new.dtype)\n",
    "print(\"Data Type: \",new1.dtype)\n",
    "print()\n",
    "print(x1)\n",
    "print(new)\n",
    "print(new1)\n"
   ]
  },
  {
   "cell_type": "code",
   "execution_count": null,
   "id": "49dca2b4",
   "metadata": {},
   "outputs": [
    {
     "name": "stdout",
     "output_type": "stream",
     "text": [
      "Data type:  int64 [ 1  2  3  4  5  6  7  8  9 10]\n",
      "Data type:  <U21 ['1' '2' '3' '4' '5' '6' '7' '8' '9' '10']\n"
     ]
    }
   ],
   "source": [
    "x2 = np.array([1,2,3,4,5,6,7,8,9,10])\n",
    "new_1 = x2.astype(str)\n",
    "\n",
    "print(\"Data type: \",x2.dtype,x2)\n",
    "print(\"Data type: \",new_1.dtype,new_1)"
   ]
  },
  {
   "cell_type": "markdown",
   "id": "35c40d60",
   "metadata": {},
   "source": [
    "# Arthematic operations in numpy array"
   ]
  },
  {
   "cell_type": "markdown",
   "id": "9b357640",
   "metadata": {},
   "source": [
    "- a + b ----> np.add(a,b)\n",
    "- a - b ----> np.subtract(a,b)\n",
    "- a * b ----> np.multiply(a,b)\n",
    "- a / b ----> np.divide(a,b)\n",
    "- a % b ----> np.mod(a,b)\n",
    "- a ** b ----> np.power(a,b)\n",
    "- 1/a  ----> np.reprocal(a)"
   ]
  },
  {
   "cell_type": "markdown",
   "id": "46348f6d",
   "metadata": {},
   "source": [
    "# 1D array operations"
   ]
  },
  {
   "cell_type": "code",
   "execution_count": null,
   "id": "475f5605",
   "metadata": {},
   "outputs": [
    {
     "name": "stdout",
     "output_type": "stream",
     "text": [
      "[4 5 6 7 8]\n"
     ]
    }
   ],
   "source": [
    "var1 = np.array([1,2,3,4,5])\n",
    "\n",
    "varadd = var1 + 3\n",
    "\n",
    "print(varadd)"
   ]
  },
  {
   "cell_type": "code",
   "execution_count": null,
   "id": "87d44609",
   "metadata": {},
   "outputs": [
    {
     "name": "stdout",
     "output_type": "stream",
     "text": [
      "[ 7  9 11 13 15]\n"
     ]
    }
   ],
   "source": [
    "var1 = np.array([1,2,3,4,5])\n",
    "var2 = np.array([6,7,8,9,10])\n",
    "\n",
    "varadd = var1 + var2\n",
    "\n",
    "print(varadd)"
   ]
  },
  {
   "cell_type": "code",
   "execution_count": null,
   "id": "98feeefa",
   "metadata": {},
   "outputs": [
    {
     "name": "stdout",
     "output_type": "stream",
     "text": [
      "[-5 -5 -5 -5 -5]\n"
     ]
    }
   ],
   "source": [
    "var1 = np.array([1,2,3,4,5])\n",
    "var2 = np.array([6,7,8,9,10])\n",
    "\n",
    "varadd = var1 - var2\n",
    "\n",
    "print(varadd) "
   ]
  },
  {
   "cell_type": "code",
   "execution_count": null,
   "id": "15193972",
   "metadata": {},
   "outputs": [
    {
     "name": "stdout",
     "output_type": "stream",
     "text": [
      "[5 5 5 5 5]\n"
     ]
    }
   ],
   "source": [
    "var1 = np.array([1,2,3,4,5])\n",
    "var2 = np.array([6,7,8,9,10])\n",
    "\n",
    "varadd = var1 - var2\n",
    "\n",
    "print(varadd) "
   ]
  },
  {
   "cell_type": "code",
   "execution_count": null,
   "id": "68183627",
   "metadata": {},
   "outputs": [
    {
     "name": "stdout",
     "output_type": "stream",
     "text": [
      "[ 7  9 11 13 15]\n"
     ]
    }
   ],
   "source": [
    "var1 = np.array([1,2,3,4,5])\n",
    "var2 = np.array([6,7,8,9,10])\n",
    "\n",
    "varadd = np.add(var1,var2)\n",
    "\n",
    "print(varadd) "
   ]
  },
  {
   "cell_type": "code",
   "execution_count": null,
   "id": "7eaaef18",
   "metadata": {},
   "outputs": [
    {
     "name": "stdout",
     "output_type": "stream",
     "text": [
      "[0.16666667 0.28571429 0.375      0.44444444 0.5       ]\n"
     ]
    }
   ],
   "source": [
    "var1 = np.array([1,2,3,4,5])\n",
    "var2 = np.array([6,7,8,9,10])\n",
    "\n",
    "varadd = var1 / var2\n",
    "\n",
    "print(varadd) "
   ]
  },
  {
   "cell_type": "code",
   "execution_count": null,
   "id": "d8f98177",
   "metadata": {},
   "outputs": [
    {
     "name": "stdout",
     "output_type": "stream",
     "text": [
      "[1 2 3 4 5]\n"
     ]
    }
   ],
   "source": [
    "var1 = np.array([1,2,3,4,5])\n",
    "var2 = np.array([6,7,8,9,10])\n",
    "\n",
    "varadd = var1 % var2\n",
    "\n",
    "print(varadd) "
   ]
  },
  {
   "cell_type": "code",
   "execution_count": null,
   "id": "4592606e",
   "metadata": {},
   "outputs": [
    {
     "name": "stdout",
     "output_type": "stream",
     "text": [
      "[1 0 1 0 1]\n"
     ]
    }
   ],
   "source": [
    "var1 = np.array([1,2,3,4,5])\n",
    "#var2 = np.array([6,7,8,9,10])\n",
    "\n",
    "varadd = var1 % 2\n",
    " \n",
    "print(varadd) "
   ]
  },
  {
   "cell_type": "markdown",
   "id": "64c60afc",
   "metadata": {},
   "source": [
    "# 2D Array operations"
   ]
  },
  {
   "cell_type": "code",
   "execution_count": null,
   "id": "99110c78",
   "metadata": {},
   "outputs": [
    {
     "name": "stdout",
     "output_type": "stream",
     "text": [
      "[[3 4 5 6 7]\n",
      " [3 4 5 6 7]]\n"
     ]
    }
   ],
   "source": [
    "var21 = np.array([[1,2,3,4,5],[1,2,3,4,5]])\n",
    "\n",
    "\n",
    "varadd = var21 + 2\n",
    " \n",
    "print(varadd)"
   ]
  },
  {
   "cell_type": "code",
   "execution_count": null,
   "id": "d440e194",
   "metadata": {},
   "outputs": [
    {
     "name": "stdout",
     "output_type": "stream",
     "text": [
      "[[ 2  4  6  8 10]\n",
      " [ 2  4  6  8 10]]\n"
     ]
    }
   ],
   "source": [
    "var21 = np.array([[1,2,3,4,5],[1,2,3,4,5]])\n",
    "var22 = np.array([[1,2,3,4,5], [1,2,3,4,5]])\n",
    "\n",
    "varadd = var21 + var22\n",
    "\n",
    " \n",
    "print(varadd)"
   ]
  },
  {
   "cell_type": "markdown",
   "id": "ad75c6d6",
   "metadata": {},
   "source": [
    "# Arithematic Functions in Numpy Array.\n",
    "\n",
    "- np.min( x )\n",
    "- np.max( x )\n",
    "- np.argmin( x ) - returns the position of minimum value.\n",
    "- np.argmax( x ) - returns the position of maximum value.\n",
    "- np.sqrt( x )\n",
    "- np.square( x )\n",
    "- np.sin( x )\n",
    "- np.cos( x )\n",
    "- np.cumsum( x ) - cumulative sum\n"
   ]
  },
  {
   "cell_type": "code",
   "execution_count": null,
   "id": "2a7e28cb",
   "metadata": {},
   "outputs": [
    {
     "name": "stdout",
     "output_type": "stream",
     "text": [
      "maximum value: 5\n",
      "minimum value: 1\n"
     ]
    }
   ],
   "source": [
    "ar1 = np.array([1,2,4,3,5])\n",
    "\n",
    "print(f\"maximum value: {np.max(ar1)}\")\n",
    "print(f\"minimum value: {np.min(ar1)}\")"
   ]
  },
  {
   "cell_type": "code",
   "execution_count": null,
   "id": "252e69e6",
   "metadata": {},
   "outputs": [
    {
     "name": "stdout",
     "output_type": "stream",
     "text": [
      "squarroots: [ 9.         14.         23.74868417  4.        ]\n"
     ]
    }
   ],
   "source": [
    "ar2 = np.array([81,196,564,16])\n",
    "\n",
    "print(f\"squarroots: {np.sqrt(ar2)}\")"
   ]
  },
  {
   "cell_type": "code",
   "execution_count": null,
   "id": "4a4d6c29",
   "metadata": {},
   "outputs": [
    {
     "name": "stdout",
     "output_type": "stream",
     "text": [
      "square: [ 1  4 16  9 25]\n"
     ]
    }
   ],
   "source": [
    "ar1 = np.array([1,2,4,3,5])\n",
    "\n",
    "print(f\"square: {np.square(ar1)}\")"
   ]
  },
  {
   "cell_type": "code",
   "execution_count": null,
   "id": "11b0a4db",
   "metadata": {},
   "outputs": [
    {
     "name": "stdout",
     "output_type": "stream",
     "text": [
      "maximum value : 5 index- 4\n",
      "minimum value : 1 index- 0\n"
     ]
    }
   ],
   "source": [
    "ar1 = np.array([1,2,4,3,5])\n",
    "\n",
    "print(f\"maximum value : {np.max(ar1)} index- {np.argmax(ar1)}\")\n",
    "print(f\"minimum value : {np.min(ar1)} index- {np.argmin(ar1)}\")"
   ]
  },
  {
   "cell_type": "code",
   "execution_count": null,
   "id": "7cd8e864",
   "metadata": {},
   "outputs": [
    {
     "name": "stdout",
     "output_type": "stream",
     "text": [
      "maximum value : [ 5 89] index- [4 2]\n"
     ]
    }
   ],
   "source": [
    "ar3 = n p.array([[1,2,4,3,5],[6,7,89,9,10]])\n",
    "\n",
    "print(f\"maximum value : {np.max(ar3,axis = 1)} index- {np.argmax(ar3,axis = 1)}\")"
   ]
  },
  {
   "cell_type": "code",
   "execution_count": null,
   "id": "f939f12e",
   "metadata": {},
   "outputs": [
    {
     "name": "stdout",
     "output_type": "stream",
     "text": [
      "Sin values: [ 0.85090352  0.89399666  0.08836869 -0.80115264 -0.17604595  0.95891572]\n"
     ]
    }
   ],
   "source": [
    "arr = np.array([45,90,135,180,270,360])\n",
    "\n",
    "print(f\"Sin values: {np.sin(arr)}\")"
   ]
  },
  {
   "cell_type": "code",
   "execution_count": null,
   "id": "1a729b01",
   "metadata": {},
   "outputs": [
    {
     "name": "stdout",
     "output_type": "stream",
     "text": [
      "Cos values: [ 0.52532199 -0.44807362 -0.99608784 -0.59846007  0.98438195 -0.28369109]\n"
     ]
    }
   ],
   "source": [
    "arr = np.array([45,90,135,180,270,360])\n",
    "\n",
    "print(f\"Cos values: {np.cos(arr)}\")"
   ]
  },
  {
   "cell_type": "code",
   "execution_count": null,
   "id": "90a9439e",
   "metadata": {},
   "outputs": [
    {
     "name": "stdout",
     "output_type": "stream",
     "text": [
      "Cum sum: [ 1  3  6 10 15 21 28 36 46]\n"
     ]
    }
   ],
   "source": [
    "arr1 = np.array([1,2,3,4,5,6,7,8,10])\n",
    "\n",
    "print(f\"Cum sum: {np.cumsum(arr1)}\")"
   ]
  },
  {
   "cell_type": "markdown",
   "id": "5b94f3cb",
   "metadata": {},
   "source": [
    "# Brodcasting Numpy Array"
   ]
  },
  {
   "cell_type": "markdown",
   "id": "ed8c4720",
   "metadata": {},
   "source": [
    "- if you add two arrays its need to be a same dimention, else it raise brodcasting error --- operands can not be brodcast.\n",
    "\n",
    "- Or if dimension is different but shape value is same then this operation will perform.\n",
    "\n",
    "- Broadcasting lets NumPy perform operations on arrays of different shapes without explicit looping.\n"
   ]
  },
  {
   "cell_type": "code",
   "execution_count": null,
   "id": "fb03355f",
   "metadata": {},
   "outputs": [
    {
     "name": "stdout",
     "output_type": "stream",
     "text": [
      "arr1 -  [1 2 3 4 5]\n",
      "shape arr1 : (5,)\n",
      "arr2 -  [[1]\n",
      " [2]\n",
      " [3]\n",
      " [4]\n",
      " [5]]\n",
      "Shape arr2 : (5, 1)\n",
      "\n",
      "sum : [[ 2  3  4  5  6]\n",
      " [ 3  4  5  6  7]\n",
      " [ 4  5  6  7  8]\n",
      " [ 5  6  7  8  9]\n",
      " [ 6  7  8  9 10]]\n"
     ]
    }
   ],
   "source": [
    "arr1 = np.array([1,2,3,4,5])\n",
    "print(\"arr1 - \",arr1)\n",
    "print(f\"shape arr1 : {arr1.shape}\")\n",
    "arr2 = np.array([[1],[2],[3],[4],[5]])\n",
    "print(\"arr2 - \",arr2)\n",
    "print(f\"Shape arr2 : {arr2.shape}\")9\n",
    "print()\n",
    "print(f\"sum : {arr1 + arr2}\")\n"
   ]
  },
  {
   "cell_type": "markdown",
   "id": "258b31d8",
   "metadata": {},
   "source": [
    "# indexing numpy array :\n",
    "\n",
    "- [1,2,3,4] - 1D array\n",
    "- - 0 1 2 3 +tive\n",
    "- - -4 -3 -2 -1  -tive\n",
    "[[1 2] --> 0\n",
    "[1 2]] --> 1\n",
    " 0 1"
   ]
  },
  {
   "cell_type": "code",
   "execution_count": null,
   "id": "9cd13586",
   "metadata": {},
   "outputs": [
    {
     "name": "stdout",
     "output_type": "stream",
     "text": [
      "9\n",
      "8\n"
     ]
    }
   ],
   "source": [
    "arr1 = np.array([9,8,7,6])\n",
    "#                0 1 2 3 ---- index\n",
    "print(arr1[0])\n",
    "print(arr1[-3])"
   ]
  },
  {
   "cell_type": "code",
   "execution_count": null,
   "id": "1c80a6fb",
   "metadata": {},
   "outputs": [
    {
     "name": "stdout",
     "output_type": "stream",
     "text": [
      "array : (2, 3) - v1 shape:  (2, 3)\n"
     ]
    }
   ],
   "source": [
    "v1 = np.array([[9,8,7],[4,5,6]])\n",
    "\n",
    "print(f\"array : {v1.shape} - v1 shape:  {v1.shape}\")\n"
   ]
  },
  {
   "cell_type": "code",
   "execution_count": null,
   "id": "06d48c93",
   "metadata": {},
   "outputs": [
    {
     "name": "stdout",
     "output_type": "stream",
     "text": [
      "2\n"
     ]
    }
   ],
   "source": [
    "print(v1.ndim) "
   ]
  },
  {
   "cell_type": "code",
   "execution_count": null,
   "id": "29016819",
   "metadata": {},
   "outputs": [
    {
     "name": "stdout",
     "output_type": "stream",
     "text": [
      "8\n"
     ]
    }
   ],
   "source": [
    "print(v1[0,1])"
   ]
  },
  {
   "cell_type": "code",
   "execution_count": null,
   "id": "8cbc73c3",
   "metadata": {},
   "outputs": [
    {
     "name": "stdout",
     "output_type": "stream",
     "text": [
      "9\n"
     ]
    }
   ],
   "source": [
    "print(v1[0,0])"
   ]
  },
  {
   "cell_type": "code",
   "execution_count": null,
   "id": "dbfc2908",
   "metadata": {},
   "outputs": [
    {
     "name": "stdout",
     "output_type": "stream",
     "text": [
      "3\n"
     ]
    }
   ],
   "source": [
    "v2 = np.array([[[1,2,3],[6,5,4],[7,8,9]]])\n",
    "\n",
    "print(v2.ndim)"
   ]
  },
  {
   "cell_type": "code",
   "execution_count": null,
   "id": "7e89b52b",
   "metadata": {},
   "outputs": [
    {
     "name": "stdout",
     "output_type": "stream",
     "text": [
      "2\n"
     ]
    }
   ],
   "source": [
    "print(v2[0,0,1])"
   ]
  },
  {
   "cell_type": "code",
   "execution_count": null,
   "id": "7b19c755",
   "metadata": {},
   "outputs": [
    {
     "name": "stdout",
     "output_type": "stream",
     "text": [
      "4\n"
     ]
    }
   ],
   "source": [
    "print(v2[0,1,2])"
   ]
  },
  {
   "cell_type": "code",
   "execution_count": null,
   "id": "223f2cf1",
   "metadata": {},
   "outputs": [
    {
     "name": "stdout",
     "output_type": "stream",
     "text": [
      "8\n"
     ]
    }
   ],
   "source": [
    "print(v2[0,2,1])"
   ]
  },
  {
   "cell_type": "code",
   "execution_count": null,
   "id": "70c50326",
   "metadata": {},
   "outputs": [
    {
     "name": "stdout",
     "output_type": "stream",
     "text": [
      "9\n"
     ]
    }
   ],
   "source": [
    "print(v2[0,2,2])"
   ]
  },
  {
   "cell_type": "markdown",
   "id": "1d9ee875",
   "metadata": {},
   "source": [
    "# Numpy arrays Slicing"
   ]
  },
  {
   "cell_type": "code",
   "execution_count": null,
   "id": "8e2f36f5",
   "metadata": {},
   "outputs": [
    {
     "name": "stdout",
     "output_type": "stream",
     "text": [
      "slicing : [1 3 5 7]\n"
     ]
    }
   ],
   "source": [
    "x = np.array([1,2,3,4,5,6,7,8])\n",
    "\n",
    "print(f\"slicing : {x[0:7:2]}\")"
   ]
  },
  {
   "cell_type": "code",
   "execution_count": null,
   "id": "64461df9",
   "metadata": {},
   "outputs": [
    {
     "name": "stdout",
     "output_type": "stream",
     "text": [
      "slicing : [8 6 4]\n"
     ]
    }
   ],
   "source": [
    "x = np.array([1,2,3,4,5,6,7,8])\n",
    "\n",
    "print(f\"slicing : {x[-1:-7:-2]}\")"
   ]
  },
  {
   "cell_type": "code",
   "execution_count": null,
   "id": "e3fd7b27",
   "metadata": {},
   "outputs": [
    {
     "name": "stdout",
     "output_type": "stream",
     "text": [
      "[1 2 3]\n"
     ]
    }
   ],
   "source": [
    "print(x[:3])"
   ]
  },
  {
   "cell_type": "code",
   "execution_count": null,
   "id": "4445f858",
   "metadata": {},
   "outputs": [
    {
     "name": "stdout",
     "output_type": "stream",
     "text": [
      "[2 3 4 5 6 7 8]\n"
     ]
    }
   ],
   "source": [
    "print(x[1:])"
   ]
  },
  {
   "cell_type": "code",
   "execution_count": null,
   "id": "d65fbd1e",
   "metadata": {},
   "outputs": [
    {
     "name": "stdout",
     "output_type": "stream",
     "text": [
      "[3 2 1]\n"
     ]
    }
   ],
   "source": [
    "print(x[2::-1])"
   ]
  },
  {
   "cell_type": "code",
   "execution_count": null,
   "id": "ab9129b1",
   "metadata": {},
   "outputs": [
    {
     "name": "stdout",
     "output_type": "stream",
     "text": [
      "[4 6]\n"
     ]
    }
   ],
   "source": [
    "print(x[3:6:2])"
   ]
  },
  {
   "cell_type": "code",
   "execution_count": null,
   "id": "272006a7",
   "metadata": {},
   "outputs": [
    {
     "name": "stdout",
     "output_type": "stream",
     "text": [
      "[5 8]\n"
     ]
    }
   ],
   "source": [
    "print(x[4:8:3])"
   ]
  },
  {
   "cell_type": "markdown",
   "id": "d3ebc5b3",
   "metadata": {},
   "source": [
    "# Numpy iteration:\n",
    "\n",
    "\n"
   ]
  },
  {
   "cell_type": "code",
   "execution_count": null,
   "id": "362ce748",
   "metadata": {},
   "outputs": [
    {
     "name": "stdout",
     "output_type": "stream",
     "text": [
      "1\n",
      "2\n",
      "3\n",
      "4\n",
      "5\n",
      "6\n",
      "6\n"
     ]
    }
   ],
   "source": [
    "x = np.array([1,2,3,4,5,6,6,])\n",
    "\n",
    "for i in x:\n",
    "    print(i)"
   ]
  },
  {
   "cell_type": "code",
   "execution_count": null,
   "id": "b32fb10b",
   "metadata": {},
   "outputs": [
    {
     "name": "stdout",
     "output_type": "stream",
     "text": [
      "[[1 2 3 4]\n",
      " [4 3 2 1]]\n",
      "\n",
      "[1 2 3 4]\n",
      "[4 3 2 1]\n"
     ]
    }
   ],
   "source": [
    "var = np.array([[1,2,3,4],[4,3,2,1]])\n",
    "print(var)\n",
    "print()\n",
    "\n",
    "for i in var:\n",
    "    print(i)"
   ]
  },
  {
   "cell_type": "code",
   "execution_count": null,
   "id": "e17f18ba",
   "metadata": {},
   "outputs": [
    {
     "name": "stdout",
     "output_type": "stream",
     "text": [
      "1\n",
      "2\n",
      "3\n",
      "4\n",
      "4\n",
      "3\n",
      "2\n",
      "1\n"
     ]
    }
   ],
   "source": [
    "for k in var:\n",
    "    for i in k:\n",
    "        print(i)"
   ]
  },
  {
   "cell_type": "code",
   "execution_count": null,
   "id": "880c1645",
   "metadata": {},
   "outputs": [
    {
     "name": "stdout",
     "output_type": "stream",
     "text": [
      "[[[1 2 3 4]\n",
      "  [4 3 2 1]\n",
      "  [5 6 7 8]]]\n",
      "\n",
      "1\n",
      "2\n",
      "3\n",
      "4\n",
      "4\n",
      "3\n",
      "2\n",
      "1\n",
      "5\n",
      "6\n",
      "7\n",
      "8\n"
     ]
    }
   ],
   "source": [
    "var = np.array([[[1,2,3,4],[4,3,2,1],[5,6,7,8]]])\n",
    "print(var)\n",
    "print()\n",
    "\n",
    "for k in var:\n",
    "    for i in k:\n",
    "        for j in i:\n",
    "            print(j)"
   ]
  },
  {
   "cell_type": "code",
   "execution_count": null,
   "id": "b52a3d48",
   "metadata": {},
   "outputs": [],
   "source": [
    "x1 = np.nditer(x)"
   ]
  },
  {
   "cell_type": "code",
   "execution_count": null,
   "id": "4e43088f",
   "metadata": {},
   "outputs": [
    {
     "data": {
      "text/plain": [
       "array(1)"
      ]
     },
     "execution_count": 173,
     "metadata": {},
     "output_type": "execute_result"
    }
   ],
   "source": [
    "next(x1)"
   ]
  },
  {
   "cell_type": "code",
   "execution_count": null,
   "id": "bd3588ef",
   "metadata": {},
   "outputs": [
    {
     "data": {
      "text/plain": [
       "array(2)"
      ]
     },
     "execution_count": 174,
     "metadata": {},
     "output_type": "execute_result"
    }
   ],
   "source": [
    "next(x1)\n"
   ]
  },
  {
   "cell_type": "code",
   "execution_count": null,
   "id": "04f29266",
   "metadata": {},
   "outputs": [
    {
     "data": {
      "text/plain": [
       "array(3)"
      ]
     },
     "execution_count": 175,
     "metadata": {},
     "output_type": "execute_result"
    }
   ],
   "source": [
    "next(x1)"
   ]
  },
  {
   "cell_type": "code",
   "execution_count": null,
   "id": "13c7198e",
   "metadata": {},
   "outputs": [
    {
     "data": {
      "text/plain": [
       "array(4)"
      ]
     },
     "execution_count": 176,
     "metadata": {},
     "output_type": "execute_result"
    }
   ],
   "source": [
    "next(x1)"
   ]
  },
  {
   "cell_type": "code",
   "execution_count": null,
   "id": "25300b9c",
   "metadata": {},
   "outputs": [
    {
     "data": {
      "text/plain": [
       "array(5)"
      ]
     },
     "execution_count": 177,
     "metadata": {},
     "output_type": "execute_result"
    }
   ],
   "source": [
    "next(x1)"
   ]
  },
  {
   "cell_type": "code",
   "execution_count": null,
   "id": "e830edbe",
   "metadata": {},
   "outputs": [
    {
     "data": {
      "text/plain": [
       "array(6)"
      ]
     },
     "execution_count": 178,
     "metadata": {},
     "output_type": "execute_result"
    }
   ],
   "source": [
    "next(x1)"
   ]
  },
  {
   "cell_type": "code",
   "execution_count": null,
   "id": "bda9ec25",
   "metadata": {},
   "outputs": [
    {
     "data": {
      "text/plain": [
       "array(6)"
      ]
     },
     "execution_count": 179,
     "metadata": {},
     "output_type": "execute_result"
    }
   ],
   "source": [
    "next(x1)"
   ]
  },
  {
   "cell_type": "code",
   "execution_count": null,
   "id": "8731d1c4",
   "metadata": {},
   "outputs": [
    {
     "ename": "StopIteration",
     "evalue": "",
     "output_type": "error",
     "traceback": [
      "\u001b[31m---------------------------------------------------------------------------\u001b[39m",
      "\u001b[31mStopIteration\u001b[39m                             Traceback (most recent call last)",
      "\u001b[36mCell\u001b[39m\u001b[36m \u001b[39m\u001b[32mIn[180]\u001b[39m\u001b[32m, line 1\u001b[39m\n\u001b[32m----> \u001b[39m\u001b[32m1\u001b[39m \u001b[38;5;28;43mnext\u001b[39;49m\u001b[43m(\u001b[49m\u001b[43mx1\u001b[49m\u001b[43m)\u001b[49m\n",
      "\u001b[31mStopIteration\u001b[39m: "
     ]
    }
   ],
   "source": [
    "next(x1)"
   ]
  },
  {
   "cell_type": "code",
   "execution_count": null,
   "id": "47b20acb",
   "metadata": {},
   "outputs": [
    {
     "name": "stdout",
     "output_type": "stream",
     "text": [
      "[[1 2 3 4]\n",
      " [4 3 2 1]]\n",
      "\n",
      "1\n",
      "2\n",
      "3\n",
      "4\n",
      "4\n",
      "3\n",
      "2\n",
      "1\n"
     ]
    }
   ],
   "source": [
    "var3 = np.array([[1,2,3,4],[4,3,2,1]])\n",
    "print(var3)\n",
    "print()\n",
    "\n",
    "for i in np.nditer(var3):\n",
    "    print(i)"
   ]
  },
  {
   "cell_type": "markdown",
   "id": "b5acb10f",
   "metadata": {},
   "source": [
    "### -  flag = ['buffered'],op_dtypes=[\"datatype\"]  ----> to change the Dtype of array."
   ]
  },
  {
   "cell_type": "code",
   "execution_count": null,
   "id": "dc8e62f7",
   "metadata": {},
   "outputs": [
    {
     "name": "stdout",
     "output_type": "stream",
     "text": [
      "[[1 2 3 4]\n",
      " [4 3 2 1]]\n",
      "\n",
      "np.bytes_(b'1')\n",
      "np.bytes_(b'2')\n",
      "np.bytes_(b'3')\n",
      "np.bytes_(b'4')\n",
      "np.bytes_(b'4')\n",
      "np.bytes_(b'3')\n",
      "np.bytes_(b'2')\n",
      "np.bytes_(b'1')\n"
     ]
    }
   ],
   "source": [
    "var3 = np.array([[1,2,3,4],[4,3,2,1]])\n",
    "print(var3)\n",
    "print()\n",
    "\n",
    "for i in np.nditer(var3,flags=['buffered'],op_dtypes=[\"S\"]):\n",
    "    print(i)"
   ]
  },
  {
   "cell_type": "markdown",
   "id": "405b489d",
   "metadata": {},
   "source": [
    "- np.ndenumerate(x):\n",
    "   - this function use to iterate numpy array with index value."
   ]
  },
  {
   "cell_type": "code",
   "execution_count": null,
   "id": "0526ba3f",
   "metadata": {},
   "outputs": [
    {
     "name": "stdout",
     "output_type": "stream",
     "text": [
      "[[1 2 3 4]\n",
      " [4 3 2 1]]\n",
      "\n",
      "(0, 0) 1\n",
      "(0, 1) 2\n",
      "(0, 2) 3\n",
      "(0, 3) 4\n",
      "(1, 0) 4\n",
      "(1, 1) 3\n",
      "(1, 2) 2\n",
      "(1, 3) 1\n"
     ]
    }
   ],
   "source": [
    "var3 = np.array([[1,2,3,4],[4,3,2,1]])\n",
    "print(var3)\n",
    "print()\n",
    "\n",
    "for i,d in np.ndenumerate(var3):\n",
    "    print(i,d)"
   ]
  },
  {
   "cell_type": "markdown",
   "id": "53237239",
   "metadata": {},
   "source": [
    "- copy & view Numpy array:  \n",
    "    - copy :-\n",
    "        - The copy owns the data. \n",
    "        - The copy of an array is a new array.\n",
    "        - the changes made in the copy data does not reflect in the original array.\n",
    "    - view :-\n",
    "        - the view does not own the data.\n",
    "        - a view of the original array.\n",
    "        - any changes made to the view will affect the original array, and any changes made to the original array will affect the view.\n"
   ]
  },
  {
   "cell_type": "code",
   "execution_count": null,
   "id": "abedbcee",
   "metadata": {},
   "outputs": [
    {
     "name": "stdout",
     "output_type": "stream",
     "text": [
      "[1 2 3 4 5]\n",
      "\n",
      "copy :  [1 2 3 4 5]\n",
      "x1 modified : [ 1  2  3  4 55]\n"
     ]
    }
   ],
   "source": [
    "import numpy as np\n",
    "x1 = np.array([1,2,3,4,5])\n",
    "print(x1)\n",
    "print()\n",
    "\n",
    "co = x1.copy()\n",
    "x1[4] = 55\n",
    "print(\"copy : \",co)\n",
    "print(\"x1 modified :\", x1)"
   ]
  },
  {
   "cell_type": "code",
   "execution_count": null,
   "id": "06ef8040",
   "metadata": {},
   "outputs": [
    {
     "name": "stdout",
     "output_type": "stream",
     "text": [
      "view :  [ 9  8  7 44  5]\n",
      "x_modified :  [ 9  8  7 44  5]\n"
     ]
    }
   ],
   "source": [
    "x = np.array([9,8,7,6,5])\n",
    "\n",
    "vi = x.view()\n",
    "x[3]=44\n",
    "print(\"view : \",vi)\n",
    "print(\"x_modified : \", x)"
   ]
  },
  {
   "cell_type": "markdown",
   "id": "6ee0d2af",
   "metadata": {},
   "source": [
    "# Numpy array functions:\n",
    "- search\n",
    "- sort\n",
    "- search sorted\n",
    "- filter\n",
    "\n",
    "1. Search array : search an array for a certain value, and return the index that get a match.\n",
    "\n",
    "- for searching element we use:\n",
    "    - np.where(element) function.\n",
    "\n"
   ]
  },
  {
   "cell_type": "code",
   "execution_count": null,
   "id": "643232f1",
   "metadata": {},
   "outputs": [
    {
     "name": "stdout",
     "output_type": "stream",
     "text": [
      "(array([2, 4]),)\n",
      "(array([1, 9]),)\n",
      "(array([ 1,  3,  5,  7,  9, 10]),)\n"
     ]
    }
   ],
   "source": [
    "import numpy as np\n",
    "\n",
    "var = np.array([4,1,2,3,2,3,4,5,6,1,7])\n",
    "\n",
    "x = np.where(var == 2)\n",
    "y = np.where(var == 1)\n",
    "z = np.where( var%2)\n",
    "print(x)\n",
    "print(y)\n",
    "print(z)"
   ]
  },
  {
   "cell_type": "markdown",
   "id": "5bbed97a",
   "metadata": {},
   "source": [
    "# Search Sorted Array :\n",
    "- it performs a binary search in the array, and returns where the specified value would be inserted to maintain the search order.\n",
    "\n",
    "- np.searchsorted(variable, value ,side=\"right\" or \"left\")"
   ]
  },
  {
   "cell_type": "code",
   "execution_count": null,
   "id": "ebe0e7d5",
   "metadata": {},
   "outputs": [
    {
     "name": "stdout",
     "output_type": "stream",
     "text": [
      "5\n",
      "[0 1 2]\n"
     ]
    }
   ],
   "source": [
    "a = np.array([1,2,3,4,5,6,7])\n",
    "\n",
    "b = np.searchsorted( a, 5, side=\"right\")\n",
    " \n",
    "c = np.searchsorted( a, [1,2,3], side=\"left\")\n",
    "\n",
    "\n",
    "print(b) # output :- index \n",
    "print(c)\n"
   ]
  },
  {
   "cell_type": "code",
   "execution_count": null,
   "id": "d6ea46fc",
   "metadata": {},
   "outputs": [
    {
     "name": "stdout",
     "output_type": "stream",
     "text": [
      "[51 52 53 54 55 60 70]\n"
     ]
    }
   ],
   "source": [
    "h = np.array([53,52,51,54,55,60,70])\n",
    "\n",
    "print(np.sort(h))\n"
   ]
  },
  {
   "cell_type": "code",
   "execution_count": null,
   "id": "78b40dc8",
   "metadata": {},
   "outputs": [
    {
     "name": "stdout",
     "output_type": "stream",
     "text": [
      "['a' 'b' 'c' 'd' 'e' 'f' 'g']\n"
     ]
    }
   ],
   "source": [
    "str1 = np.array([\"c\",\"b\",\"f\",\"a\",\"e\",\"g\",\"d\"])\n",
    "\n",
    "print(np.sort(str1))"
   ]
  },
  {
   "cell_type": "markdown",
   "id": "edc7198f",
   "metadata": {},
   "source": [
    "# 3. Numpy Filter Array :\n",
    "\n",
    "-  Getting some elements out of an existing array and creating a new array out of them."
   ]
  },
  {
   "cell_type": "code",
   "execution_count": null,
   "id": "938c962f",
   "metadata": {},
   "outputs": [
    {
     "name": "stdout",
     "output_type": "stream",
     "text": [
      "[ 1  3 44]\n"
     ]
    }
   ],
   "source": [
    "a = np.array([1,2,3,44])\n",
    "\n",
    "x = [True, False,True,True]\n",
    "\n",
    "new_a = a[x]\n",
    "\n",
    "print(new_a)\n",
    "\n"
   ]
  },
  {
   "cell_type": "code",
   "execution_count": null,
   "id": "66ac5dc2",
   "metadata": {},
   "outputs": [
    {
     "name": "stdout",
     "output_type": "stream",
     "text": [
      "[0 1 2 3 4 5 6 7 8 9]\n"
     ]
    }
   ],
   "source": [
    "# How do you generate a range of numbers in NumPy?\n",
    "n = range(10)\n",
    "\n",
    "arr1 = np.array(n)\n",
    "print(arr1)"
   ]
  },
  {
   "cell_type": "code",
   "execution_count": null,
   "id": "c5bab158",
   "metadata": {},
   "outputs": [
    {
     "name": "stdout",
     "output_type": "stream",
     "text": [
      "[0 1 2 3 4 5 6 7 8 9]\n"
     ]
    }
   ],
   "source": [
    "arr2 = np.arange(10)\n",
    "print(arr2)"
   ]
  },
  {
   "cell_type": "code",
   "execution_count": null,
   "id": "f1d3567a",
   "metadata": {},
   "outputs": [
    {
     "name": "stdout",
     "output_type": "stream",
     "text": [
      "[ 1.  2.  3.  4.  5.  6.  7.  8.  9. 10.]\n",
      "float64\n"
     ]
    }
   ],
   "source": [
    "arr3 = np.linspace(1,10,10)\n",
    "print(arr3)\n",
    "print(arr3.dtype)"
   ]
  },
  {
   "cell_type": "code",
   "execution_count": null,
   "id": "3eaacca1",
   "metadata": {},
   "outputs": [
    {
     "data": {
      "text/plain": [
       "np.int64(2)"
      ]
     },
     "execution_count": 100,
     "metadata": {},
     "output_type": "execute_result"
    }
   ],
   "source": [
    "arr2[2]"
   ]
  },
  {
   "cell_type": "code",
   "execution_count": null,
   "id": "4095fea3",
   "metadata": {},
   "outputs": [
    {
     "name": "stdout",
     "output_type": "stream",
     "text": [
      "6\n"
     ]
    }
   ],
   "source": [
    "arr_2d = np.array([[1, 2, 3], [4, 5, 6]])\n",
    "element_2d = arr_2d[1, 2]  # Accesses the element at row 0, column 1 (which is 2)\n",
    "print(element_2d)"
   ]
  },
  {
   "cell_type": "code",
   "execution_count": 2,
   "id": "6078214f",
   "metadata": {},
   "outputs": [
    {
     "name": "stdout",
     "output_type": "stream",
     "text": [
      "Boolean Mask: [False  True False  True False  True]\n",
      "Filtered Data: [25 40 30]\n"
     ]
    }
   ],
   "source": [
    "import numpy as np\n",
    "\n",
    "data = np.array([10, 25, 5, 40, 15, 30])\n",
    "\n",
    "# Create a boolean mask: select elements greater than 20\n",
    "boolean_mask = data > 20\n",
    "print(f\"Boolean Mask: {boolean_mask}\")\n",
    "\n",
    "# Use the boolean mask to filter the data\n",
    "filtered_data = data[boolean_mask]\n",
    "print(f\"Filtered Data: {filtered_data}\")"
   ]
  },
  {
   "cell_type": "code",
   "execution_count": null,
   "id": "5f50b976",
   "metadata": {},
   "outputs": [
    {
     "name": "stdout",
     "output_type": "stream",
     "text": [
      "[1 2 2 3]\n"
     ]
    },
    {
     "data": {
      "text/plain": [
       "array([1, 2, 2, 3, 4, 4, 5, 6])"
      ]
     },
     "execution_count": 107,
     "metadata": {},
     "output_type": "execute_result"
    }
   ],
   "source": [
    "Arr2 = np.array([1,2,2,3,4,4,5,6])\n",
    "print(Arr2[0:4:1]) \n",
    "Arr2"
   ]
  },
  {
   "cell_type": "code",
   "execution_count": 24,
   "id": "e2d74260",
   "metadata": {},
   "outputs": [
    {
     "name": "stdout",
     "output_type": "stream",
     "text": [
      "[[2 3]\n",
      " [5 6]\n",
      " [8 9]]\n"
     ]
    }
   ],
   "source": [
    "Arr4 = np.array([[1,2,3],[4,5,6],[7,8,9]])\n",
    "print(Arr4[:, 1:3])\n"
   ]
  },
  {
   "cell_type": "code",
   "execution_count": null,
   "id": "76ae0c87",
   "metadata": {},
   "outputs": [
    {
     "data": {
      "text/plain": [
       "array([[1, 2, 3],\n",
       "       [4, 5, 6]])"
      ]
     },
     "execution_count": 118,
     "metadata": {},
     "output_type": "execute_result"
    }
   ],
   "source": [
    "Arr4[0:2, :]"
   ]
  },
  {
   "cell_type": "code",
   "execution_count": null,
   "id": "64460f51",
   "metadata": {},
   "outputs": [
    {
     "data": {
      "text/plain": [
       "array([[1, 2, 3],\n",
       "       [4, 5, 6],\n",
       "       [7, 8, 9]])"
      ]
     },
     "execution_count": 119,
     "metadata": {},
     "output_type": "execute_result"
    }
   ],
   "source": [
    "Arr4[0:3,:]"
   ]
  },
  {
   "cell_type": "markdown",
   "id": "c29ca8c6",
   "metadata": {},
   "source": []
  },
  {
   "cell_type": "code",
   "execution_count": null,
   "id": "dda0699d",
   "metadata": {},
   "outputs": [
    {
     "data": {
      "text/plain": [
       "array([[3],\n",
       "       [6],\n",
       "       [9]])"
      ]
     },
     "execution_count": 122,
     "metadata": {},
     "output_type": "execute_result"
    }
   ],
   "source": [
    "Arr4[:, 2:3]"
   ]
  },
  {
   "cell_type": "code",
   "execution_count": null,
   "id": "e535d278",
   "metadata": {},
   "outputs": [
    {
     "data": {
      "text/plain": [
       "array([[1, 2],\n",
       "       [4, 5]])"
      ]
     },
     "execution_count": 121,
     "metadata": {},
     "output_type": "execute_result"
    }
   ],
   "source": [
    "Arr4[0:2,0:2]"
   ]
  },
  {
   "cell_type": "code",
   "execution_count": 25,
   "id": "fa680539",
   "metadata": {},
   "outputs": [
    {
     "name": "stdout",
     "output_type": "stream",
     "text": [
      "[[9]]\n"
     ]
    }
   ],
   "source": [
    "print(Arr4[2:3,2:3])"
   ]
  },
  {
   "cell_type": "code",
   "execution_count": 7,
   "id": "f2668be6",
   "metadata": {},
   "outputs": [
    {
     "name": "stdout",
     "output_type": "stream",
     "text": [
      "[22.  35.  23.5 35.8 55. ]\n",
      "[False  True  True  True  True  True False False False False False]\n"
     ]
    }
   ],
   "source": [
    "var = np.array([1,22,35,23.5,35.8,55,20,12,16,11,14])\n",
    "bmask= var > 20\n",
    "filtered_arr = var[bmask]\n",
    "\n",
    "print(filtered_arr)\n",
    "print(bmask)"
   ]
  },
  {
   "cell_type": "code",
   "execution_count": 10,
   "id": "43bc85c2",
   "metadata": {},
   "outputs": [
    {
     "name": "stdout",
     "output_type": "stream",
     "text": [
      "original array : [1 2 3 4 5 6] \n",
      "vertical array : [[1]\n",
      " [2]\n",
      " [3]\n",
      " [4]\n",
      " [5]\n",
      " [6]]\n",
      "horizontal array : [1 2 3 4 5 6]\n"
     ]
    }
   ],
   "source": [
    "ar1 = np.array([1,2,3,4,5,6])\n",
    "\n",
    "vertical_ar = np.vstack(ar1)\n",
    "\n",
    "horizontal_ar = np.hstack(vertical_ar)\n",
    "\n",
    "\n",
    "print(f\"original array : {ar1} \")\n",
    "print(f\"vertical array : {vertical_ar}\")\n",
    "print(f\"horizontal array : {horizontal_ar}\")"
   ]
  },
  {
   "cell_type": "code",
   "execution_count": null,
   "id": "27e72a56",
   "metadata": {},
   "outputs": [
    {
     "name": "stdout",
     "output_type": "stream",
     "text": [
      "[[1 4]\n",
      " [2 5]\n",
      " [3 6]]\n",
      "[[1 2 3]\n",
      " [4 5 6]]\n"
     ]
    }
   ],
   "source": [
    "a = np.array([1,2,3])\n",
    "b = np.array([4,5,6])\n",
    "\n",
    "\n",
    "a_col = a.reshape(-1,1)\n",
    "b_col = b.reshape(-1,1)\n",
    "\n",
    "h_stack = np.hstack((a_col, b_col))\n",
    "v_stack = np.vstack((a,b))\n",
    "\n",
    "print((h_stack))\n",
    "print(v_stack)\n",
    "\n"
   ]
  },
  {
   "cell_type": "code",
   "execution_count": 23,
   "id": "82a03d90",
   "metadata": {},
   "outputs": [
    {
     "name": "stdout",
     "output_type": "stream",
     "text": [
      "32\n"
     ]
    }
   ],
   "source": [
    "a1 = np.dot(a,b)\n",
    "print(a1)"
   ]
  },
  {
   "cell_type": "code",
   "execution_count": 31,
   "id": "adf89abc",
   "metadata": {},
   "outputs": [
    {
     "name": "stdout",
     "output_type": "stream",
     "text": [
      "47\n"
     ]
    }
   ],
   "source": [
    "import numpy as np\n",
    "\n",
    "A = np.array([2, 3, 4])  # shape (2, 3, 4)\n",
    "B = np.array([4, 5, 6])     # shape (4, 5)\n",
    "\n",
    "result = np.dot(A, B)  # shape ?\n",
    "\n",
    "print(result)"
   ]
  },
  {
   "cell_type": "code",
   "execution_count": 27,
   "id": "e1d62516",
   "metadata": {},
   "outputs": [
    {
     "data": {
      "text/plain": [
       "array([[[0.27343638, 0.37860853, 0.43285783, 0.46257806],\n",
       "        [0.16471067, 0.6561202 , 0.5105544 , 0.65085752],\n",
       "        [0.82873993, 0.23171476, 0.74244143, 0.54233062]],\n",
       "\n",
       "       [[0.948444  , 0.04418887, 0.77157361, 0.55811353],\n",
       "        [0.11216237, 0.0760927 , 0.44355333, 0.11664319],\n",
       "        [0.65747706, 0.20142118, 0.75255148, 0.38038878]]])"
      ]
     },
     "execution_count": 27,
     "metadata": {},
     "output_type": "execute_result"
    }
   ],
   "source": [
    "A"
   ]
  },
  {
   "cell_type": "code",
   "execution_count": 28,
   "id": "a473d5e2",
   "metadata": {},
   "outputs": [
    {
     "data": {
      "text/plain": [
       "array([[0.74034254, 0.72141962, 0.29905346, 0.40030698, 0.7188553 ],\n",
       "       [0.76118042, 0.89230089, 0.50980515, 0.86620804, 0.78589242],\n",
       "       [0.92614679, 0.87285281, 0.88095935, 0.63552685, 0.67520481],\n",
       "       [0.51775917, 0.5665035 , 0.73489429, 0.13609546, 0.4214951 ]])"
      ]
     },
     "execution_count": 28,
     "metadata": {},
     "output_type": "execute_result"
    }
   ],
   "source": [
    "B"
   ]
  },
  {
   "cell_type": "code",
   "execution_count": 38,
   "id": "ff3b2956",
   "metadata": {},
   "outputs": [
    {
     "name": "stdout",
     "output_type": "stream",
     "text": [
      "[2. 3. 4.] float64\n"
     ]
    }
   ],
   "source": [
    "A = np.array([2, 3, np.nan, 4]) \n",
    "B = np.array([4, 0, 5, 6]) \n",
    "\n",
    "nan_v = ~np.isnan(A)\n",
    "\n",
    "filtered = A[nan_v]\n",
    " \n",
    "print(filtered, filtered.dtype)\n"
   ]
  },
  {
   "cell_type": "code",
   "execution_count": 54,
   "id": "b10c9d63",
   "metadata": {},
   "outputs": [
    {
     "name": "stdout",
     "output_type": "stream",
     "text": [
      "[[[1]\n",
      "  [2]\n",
      "  [3]]\n",
      "\n",
      " [[4]\n",
      "  [5]\n",
      "  [6]]]\n"
     ]
    },
    {
     "data": {
      "text/plain": [
       "array([[[1],\n",
       "        [2],\n",
       "        [3]],\n",
       "\n",
       "       [[4],\n",
       "        [5],\n",
       "        [6]]])"
      ]
     },
     "execution_count": 54,
     "metadata": {},
     "output_type": "execute_result"
    }
   ],
   "source": [
    "a = np.array([1,2,3])\n",
    "b = np.array([4,5,6])\n",
    "\n",
    "ashape = a.reshape(-1,1)\n",
    "bshape = b.reshape(-1,1)\n",
    "\n",
    "res_ar = np.stack((ashape, bshape))\n",
    "\n",
    "print(res_ar)\n",
    "res_ar"
   ]
  },
  {
   "cell_type": "code",
   "execution_count": 53,
   "id": "fa69f667",
   "metadata": {},
   "outputs": [
    {
     "name": "stdout",
     "output_type": "stream",
     "text": [
      "[[1]\n",
      " [2]\n",
      " [3]]\n"
     ]
    }
   ],
   "source": [
    "a_res = a.reshape(-1,1)\n",
    "\n",
    "print(a_res)"
   ]
  },
  {
   "cell_type": "code",
   "execution_count": null,
   "id": "21c2c1d0",
   "metadata": {},
   "outputs": [],
   "source": []
  },
  {
   "cell_type": "code",
   "execution_count": null,
   "id": "c167bb5b",
   "metadata": {},
   "outputs": [],
   "source": []
  }
 ],
 "metadata": {
  "kernelspec": {
   "display_name": "Python 3",
   "language": "python",
   "name": "python3"
  },
  "language_info": {
   "codemirror_mode": {
    "name": "ipython",
    "version": 3
   },
   "file_extension": ".py",
   "mimetype": "text/x-python",
   "name": "python",
   "nbconvert_exporter": "python",
   "pygments_lexer": "ipython3",
   "version": "3.13.3"
  }
 },
 "nbformat": 4,
 "nbformat_minor": 5
}
