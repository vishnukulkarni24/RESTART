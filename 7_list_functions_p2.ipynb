{
 "cells": [
  {
   "cell_type": "markdown",
   "id": "adaa42af",
   "metadata": {},
   "source": [
    "# delete items from list\n",
    "\n",
    "- 1. remove()\n",
    "- 2. POP()\n",
    "- 3. clear()\n",
    "- 4. del keyword"
   ]
  },
  {
   "cell_type": "code",
   "execution_count": 1,
   "id": "49a10130",
   "metadata": {},
   "outputs": [],
   "source": [
    "li = [\"phy\",\"chem\",\"math\",\"bio\",\"eng\"]"
   ]
  },
  {
   "cell_type": "code",
   "execution_count": 2,
   "id": "cc7e97ef",
   "metadata": {},
   "outputs": [
    {
     "data": {
      "text/plain": [
       "['phy', 'chem', 'math', 'bio', 'eng']"
      ]
     },
     "execution_count": 2,
     "metadata": {},
     "output_type": "execute_result"
    }
   ],
   "source": [
    "li"
   ]
  },
  {
   "cell_type": "code",
   "execution_count": 3,
   "id": "096ffe83",
   "metadata": {},
   "outputs": [],
   "source": [
    "li.remove(\"chem\")"
   ]
  },
  {
   "cell_type": "code",
   "execution_count": 4,
   "id": "737b5eb1",
   "metadata": {},
   "outputs": [
    {
     "data": {
      "text/plain": [
       "['phy', 'math', 'bio', 'eng']"
      ]
     },
     "execution_count": 4,
     "metadata": {},
     "output_type": "execute_result"
    }
   ],
   "source": [
    "li"
   ]
  },
  {
   "cell_type": "code",
   "execution_count": 5,
   "id": "22e0c34f",
   "metadata": {},
   "outputs": [
    {
     "ename": "AttributeError",
     "evalue": "'list' object has no attribute 'find'",
     "output_type": "error",
     "traceback": [
      "\u001b[31m---------------------------------------------------------------------------\u001b[39m",
      "\u001b[31mAttributeError\u001b[39m                            Traceback (most recent call last)",
      "\u001b[36mCell\u001b[39m\u001b[36m \u001b[39m\u001b[32mIn[5]\u001b[39m\u001b[32m, line 1\u001b[39m\n\u001b[32m----> \u001b[39m\u001b[32m1\u001b[39m \u001b[43mli\u001b[49m\u001b[43m.\u001b[49m\u001b[43mfind\u001b[49m(\u001b[33m\"\u001b[39m\u001b[33mchem\u001b[39m\u001b[33m\"\u001b[39m)\n",
      "\u001b[31mAttributeError\u001b[39m: 'list' object has no attribute 'find'"
     ]
    }
   ],
   "source": [
    "li.find(\"chem\")"
   ]
  },
  {
   "cell_type": "code",
   "execution_count": 6,
   "id": "00096680",
   "metadata": {},
   "outputs": [
    {
     "ename": "AttributeError",
     "evalue": "'list' object has no attribute 'find'",
     "output_type": "error",
     "traceback": [
      "\u001b[31m---------------------------------------------------------------------------\u001b[39m",
      "\u001b[31mAttributeError\u001b[39m                            Traceback (most recent call last)",
      "\u001b[36mCell\u001b[39m\u001b[36m \u001b[39m\u001b[32mIn[6]\u001b[39m\u001b[32m, line 1\u001b[39m\n\u001b[32m----> \u001b[39m\u001b[32m1\u001b[39m \u001b[43mli\u001b[49m\u001b[43m.\u001b[49m\u001b[43mfind\u001b[49m(\u001b[33m\"\u001b[39m\u001b[33meng\u001b[39m\u001b[33m\"\u001b[39m)\n",
      "\u001b[31mAttributeError\u001b[39m: 'list' object has no attribute 'find'"
     ]
    }
   ],
   "source": [
    "li.find(\"eng\")"
   ]
  },
  {
   "cell_type": "code",
   "execution_count": 8,
   "id": "cab9754b",
   "metadata": {},
   "outputs": [
    {
     "data": {
      "text/plain": [
       "False"
      ]
     },
     "execution_count": 8,
     "metadata": {},
     "output_type": "execute_result"
    }
   ],
   "source": [
    "\"python\" in \"p\""
   ]
  },
  {
   "cell_type": "code",
   "execution_count": 9,
   "id": "46dc6dd0",
   "metadata": {},
   "outputs": [
    {
     "data": {
      "text/plain": [
       "True"
      ]
     },
     "execution_count": 9,
     "metadata": {},
     "output_type": "execute_result"
    }
   ],
   "source": [
    "\"p\" in \"python\""
   ]
  },
  {
   "cell_type": "code",
   "execution_count": 11,
   "id": "b7252df1",
   "metadata": {},
   "outputs": [
    {
     "name": "stdout",
     "output_type": "stream",
     "text": [
      "['phy', 'chem', 'math', 'bio', 'eng']\n",
      "**************************************************\n",
      "This value to be removed is present in the list.\n",
      "['phy', 'math', 'bio', 'eng'] final list\n"
     ]
    }
   ],
   "source": [
    "li = [\"phy\",\"chem\",\"math\",\"bio\",\"eng\"]\n",
    "\n",
    "print (li)\n",
    "\n",
    "print(\"*\"*50)\n",
    "\n",
    "ele = \"chem\"\n",
    "if ele in li:\n",
    "    li.remove(ele)\n",
    "    print(\"This value to be removed is present in the list.\")\n",
    "else:\n",
    "    print(\"value to be removed is not present in the list\")\n",
    "\n",
    "print(li,\"final list\")"
   ]
  },
  {
   "cell_type": "code",
   "execution_count": 12,
   "id": "391b6605",
   "metadata": {},
   "outputs": [
    {
     "name": "stdout",
     "output_type": "stream",
     "text": [
      "['phy', 'chem', 'math', 'bio', 'eng']\n",
      "**************************************************\n"
     ]
    },
    {
     "ename": "AttributeError",
     "evalue": "'list' object has no attribute 'add'",
     "output_type": "error",
     "traceback": [
      "\u001b[31m---------------------------------------------------------------------------\u001b[39m",
      "\u001b[31mAttributeError\u001b[39m                            Traceback (most recent call last)",
      "\u001b[36mCell\u001b[39m\u001b[36m \u001b[39m\u001b[32mIn[12]\u001b[39m\u001b[32m, line 9\u001b[39m\n\u001b[32m      7\u001b[39m ele = \u001b[33m\"\u001b[39m\u001b[33mchem\u001b[39m\u001b[33m\"\u001b[39m\n\u001b[32m      8\u001b[39m \u001b[38;5;28;01mif\u001b[39;00m ele \u001b[38;5;129;01min\u001b[39;00m li:\n\u001b[32m----> \u001b[39m\u001b[32m9\u001b[39m     \u001b[43mli\u001b[49m\u001b[43m.\u001b[49m\u001b[43madd\u001b[49m(ele)\n\u001b[32m     10\u001b[39m     \u001b[38;5;28mprint\u001b[39m(\u001b[33m\"\u001b[39m\u001b[33mThis value to be removed is present in the list.\u001b[39m\u001b[33m\"\u001b[39m)\n\u001b[32m     11\u001b[39m \u001b[38;5;28;01melse\u001b[39;00m:\n",
      "\u001b[31mAttributeError\u001b[39m: 'list' object has no attribute 'add'"
     ]
    }
   ],
   "source": [
    "li = [\"phy\",\"chem\",\"math\",\"bio\",\"eng\"]\n",
    "\n",
    "print (li)\n",
    "\n",
    "print(\"*\"*50)\n",
    "\n",
    "ele = \"chem\"\n",
    "if ele in li:\n",
    "    li.add(ele)\n",
    "    print(\"This value to be removed is present in the list.\")\n",
    "else:\n",
    "    print(\"value to be removed is not present in the list\")\n",
    "\n",
    "print(li,\"final list\")"
   ]
  },
  {
   "cell_type": "code",
   "execution_count": 13,
   "id": "1c6592d5",
   "metadata": {},
   "outputs": [],
   "source": [
    "li.insert(1,\"chem\")"
   ]
  },
  {
   "cell_type": "code",
   "execution_count": 14,
   "id": "49445ec2",
   "metadata": {},
   "outputs": [
    {
     "data": {
      "text/plain": [
       "['phy', 'chem', 'chem', 'math', 'bio', 'eng']"
      ]
     },
     "execution_count": 14,
     "metadata": {},
     "output_type": "execute_result"
    }
   ],
   "source": [
    "li"
   ]
  },
  {
   "cell_type": "code",
   "execution_count": 24,
   "id": "3171b0af",
   "metadata": {},
   "outputs": [
    {
     "ename": "ValueError",
     "evalue": "list.remove(x): x not in list",
     "output_type": "error",
     "traceback": [
      "\u001b[31m---------------------------------------------------------------------------\u001b[39m",
      "\u001b[31mValueError\u001b[39m                                Traceback (most recent call last)",
      "\u001b[36mCell\u001b[39m\u001b[36m \u001b[39m\u001b[32mIn[24]\u001b[39m\u001b[32m, line 1\u001b[39m\n\u001b[32m----> \u001b[39m\u001b[32m1\u001b[39m \u001b[43mli\u001b[49m\u001b[43m.\u001b[49m\u001b[43mremove\u001b[49m\u001b[43m(\u001b[49m\u001b[33;43m\"\u001b[39;49m\u001b[33;43mstats\u001b[39;49m\u001b[33;43m\"\u001b[39;49m\u001b[43m)\u001b[49m\n",
      "\u001b[31mValueError\u001b[39m: list.remove(x): x not in list"
     ]
    }
   ],
   "source": [
    "li.remove(\"stats\")"
   ]
  },
  {
   "cell_type": "code",
   "execution_count": 15,
   "id": "50dbb020",
   "metadata": {},
   "outputs": [],
   "source": [
    "import random"
   ]
  },
  {
   "cell_type": "code",
   "execution_count": 16,
   "id": "25b98c03",
   "metadata": {},
   "outputs": [
    {
     "name": "stdout",
     "output_type": "stream",
     "text": [
      "[2, 34, 8, 1, 14, 41, 17, 39, 9, 39, 25, 7, 15, 45, 43, 43, 3, 9, 18, 49]\n"
     ]
    }
   ],
   "source": [
    "li = [random.randint(0,50) for i in range(0,20)]\n",
    "print(li)"
   ]
  },
  {
   "cell_type": "code",
   "execution_count": 17,
   "id": "0526d98e",
   "metadata": {},
   "outputs": [
    {
     "name": "stdout",
     "output_type": "stream",
     "text": [
      "2\n",
      "34\n",
      "8\n",
      "1\n",
      "14\n",
      "41\n",
      "17\n",
      "39\n",
      "9\n",
      "39\n",
      "25\n",
      "7\n",
      "15\n",
      "45\n",
      "43\n",
      "43\n",
      "3\n",
      "9\n",
      "18\n",
      "49\n"
     ]
    }
   ],
   "source": [
    "for val in li:\n",
    "    print(val)"
   ]
  },
  {
   "cell_type": "code",
   "execution_count": 18,
   "id": "733bfd13",
   "metadata": {},
   "outputs": [
    {
     "data": {
      "text/plain": [
       "[2, 34, 8, 1, 14, 41, 17, 39, 9, 39, 25, 7, 15, 45, 43, 43, 3, 9, 18, 49]"
      ]
     },
     "execution_count": 18,
     "metadata": {},
     "output_type": "execute_result"
    }
   ],
   "source": [
    "li"
   ]
  },
  {
   "cell_type": "code",
   "execution_count": 19,
   "id": "5e9921ac",
   "metadata": {},
   "outputs": [
    {
     "name": "stdout",
     "output_type": "stream",
     "text": [
      "Original List : [17, 13, 38, 16, 15, 23, 26, 26, 39, 0, 43, 28, 43, 20, 42, 27, 49, 39, 49, 12]\n",
      "Modified List :-  [17, 13, 16, 15, 23, 26, 39, 43, 43, 42, 27, 49, 39, 49]\n"
     ]
    }
   ],
   "source": [
    "import random\n",
    "\n",
    "li = [random.randint(0,50) for i in range(0,20)]\n",
    "\n",
    "print(f\"Original List : {li}\")\n",
    "\n",
    "for val in li:\n",
    "    if val%2 == 0:\n",
    "        li.remove(val)\n",
    "print(f\"Modified List :-  {li}\")"
   ]
  },
  {
   "cell_type": "code",
   "execution_count": 20,
   "id": "756cb5e1",
   "metadata": {},
   "outputs": [
    {
     "name": "stdout",
     "output_type": "stream",
     "text": [
      "Original List:- [39, 50, 34, 1, 29, 9, 10, 1, 50, 49, 21, 8, 37, 12, 27, 12, 1, 23, 20, 6]\n",
      "39 1\n",
      "50 0\n",
      "34 0\n",
      "1 1\n",
      "29 1\n",
      "9 1\n",
      "10 0\n",
      "1 1\n",
      "50 0\n",
      "49 1\n",
      "21 1\n",
      "8 0\n",
      "37 1\n",
      "12 0\n",
      "27 1\n",
      "12 0\n",
      "1 1\n",
      "23 1\n",
      "20 0\n",
      "6 0\n"
     ]
    }
   ],
   "source": [
    "li = [random.randint(0,50) for i in range(0,20)]\n",
    "\n",
    "print(f\"Original List:- {li}\")\n",
    "\n",
    "for val in li:\n",
    "    print(val,val%2)"
   ]
  },
  {
   "cell_type": "code",
   "execution_count": 22,
   "id": "3cd4c6d5",
   "metadata": {},
   "outputs": [
    {
     "name": "stdout",
     "output_type": "stream",
     "text": [
      "original list:- [39, 50, 34, 1, 29, 9, 10, 1, 50, 49, 21, 8, 37, 12, 27, 12, 1, 23, 20, 6]\n",
      "50 0\n",
      "10 0\n",
      "50 0\n",
      "8 0\n",
      "12 0\n",
      "12 0\n",
      "20 0\n",
      "[39, 34, 1, 29, 9, 1, 49, 21, 37, 27, 1, 23, 6]\n"
     ]
    }
   ],
   "source": [
    "print(f\"original list:- {li}\")\n",
    "\n",
    "for val in li:\n",
    "    if val % 2 == 0:\n",
    "        print(val,val % 2)\n",
    "        li.remove(val)\n",
    "\n",
    "print(li)"
   ]
  },
  {
   "cell_type": "code",
   "execution_count": 23,
   "id": "12d73e18",
   "metadata": {},
   "outputs": [
    {
     "data": {
      "text/plain": [
       "[0, 1, 2, 3, 4, 5, 6, 7, 8, 9, 10, 11, 12, 13, 14, 15, 16, 17, 18, 19, 20]"
      ]
     },
     "execution_count": 23,
     "metadata": {},
     "output_type": "execute_result"
    }
   ],
   "source": [
    "list(range(0,21))"
   ]
  },
  {
   "cell_type": "code",
   "execution_count": 26,
   "id": "41389bde",
   "metadata": {},
   "outputs": [
    {
     "name": "stdout",
     "output_type": "stream",
     "text": [
      "original List:- [47, 7, 24, 7, 13, 33, 42, 10, 50, 33, 13, 19, 40, 49, 35, 17, 16, 16, 6, 31]\n",
      "24 0\n",
      "42 0\n",
      "50 0\n",
      "40 0\n",
      "16 0\n",
      "6 0\n",
      "[47, 7, 7, 13, 33, 10, 33, 13, 19, 49, 35, 17, 16, 31]\n"
     ]
    }
   ],
   "source": [
    "li = [random.randint(0,50) for i in range(0,20)]\n",
    "print(f'original List:- {li}')\n",
    "\n",
    "for val in li:\n",
    "    if val % 2 == 0:\n",
    "        print(val,val % 2)\n",
    "        li.remove(val)\n",
    "\n",
    "print(li)"
   ]
  },
  {
   "cell_type": "code",
   "execution_count": 28,
   "id": "bcb14998",
   "metadata": {},
   "outputs": [
    {
     "name": "stdout",
     "output_type": "stream",
     "text": [
      "Original List:- [0, 1, 2, 3, 4, 5, 6, 7, 8, 9, 10, 11, 12, 13, 14, 15, 16, 17, 18, 19, 20]\n",
      "Modified List :- [1, 3, 5, 7, 9, 11, 13, 15, 17, 19]\n"
     ]
    }
   ],
   "source": [
    "li =[0, 1, 2, 3, 4, 5, 6, 7, 8, 9, 10, 11, 12, 13, 14, 15, 16, 17, 18, 19, 20]\n",
    "print(f\"Original List:- {li}\")\n",
    "for val in li:\n",
    "    if val% 2 == 0:\n",
    "        li.remove(val)\n",
    "\n",
    "print(f\"Modified List :- {li}\")"
   ]
  },
  {
   "cell_type": "code",
   "execution_count": 29,
   "id": "24c0b97d",
   "metadata": {},
   "outputs": [
    {
     "name": "stdout",
     "output_type": "stream",
     "text": [
      "Original List :- [0, 1, 2, 3, 4, 5, 6, 7, 8, 9, 10, 11, 12, 13, 14, 15, 16, 17, 18, 19, 20, 45, 25, 32]\n",
      "Modified List :- [1, 3, 5, 7, 9, 11, 13, 15, 17, 19, 45, 25]\n"
     ]
    }
   ],
   "source": [
    "li =[0, 1, 2, 3, 4, 5, 6, 7, 8, 9, 10, 11, 12, 13, 14, 15, 16, 17, 18, 19, 20, 45, 25, 32]\n",
    "\n",
    "print(f\"Original List :- {li}\")\n",
    "for val in li:\n",
    "    if val % 2 == 0:\n",
    "        li.remove(val)\n",
    "print(f\"Modified List :- {li}\")"
   ]
  },
  {
   "cell_type": "code",
   "execution_count": 32,
   "id": "cb2fc010",
   "metadata": {},
   "outputs": [
    {
     "name": "stdout",
     "output_type": "stream",
     "text": [
      "Yes\n"
     ]
    }
   ],
   "source": [
    "if 38 % 2 ==0:\n",
    "    print(\"Yes\")"
   ]
  },
  {
   "cell_type": "code",
   "execution_count": 33,
   "id": "24fea2dc",
   "metadata": {},
   "outputs": [
    {
     "data": {
      "text/plain": [
       "[1, 1, 1, 2, 3, 4]"
      ]
     },
     "execution_count": 33,
     "metadata": {},
     "output_type": "execute_result"
    }
   ],
   "source": [
    "li = [1,1,1,2,3,4]\n",
    "li"
   ]
  },
  {
   "cell_type": "code",
   "execution_count": 34,
   "id": "d2bbb8c7",
   "metadata": {},
   "outputs": [
    {
     "name": "stdout",
     "output_type": "stream",
     "text": [
      "[[1, 2, 3], 5, 6, 7]\n",
      "[5, 6, 7]\n"
     ]
    }
   ],
   "source": [
    "li = [[1,2,3],5,6,7]\n",
    "print(li)\n",
    "\n",
    "li.remove([1,2,3])\n",
    "print(li)"
   ]
  },
  {
   "cell_type": "markdown",
   "id": "e4654388",
   "metadata": {},
   "source": [
    "# 2. pop()\n",
    "\n",
    "- syntax :- ListName.pop(index)\n",
    "- default index = -1"
   ]
  },
  {
   "cell_type": "code",
   "execution_count": 35,
   "id": "f9ff1177",
   "metadata": {},
   "outputs": [
    {
     "name": "stdout",
     "output_type": "stream",
     "text": [
      "Original List :- ['Phy', 'Che', 'Math', 'Bio', 'Eng']\n",
      "Modified List :- ['Phy', 'Che', 'Math', 'Bio']\n"
     ]
    }
   ],
   "source": [
    "li = [\"Phy\",\"Che\",\"Math\",\"Bio\",\"Eng\"]\n",
    "\n",
    "print(f\"Original List :- {li}\")\n",
    "\n",
    "li.pop()\n",
    "\n",
    "print(f\"Modified List :- {li}\")"
   ]
  },
  {
   "cell_type": "code",
   "execution_count": 37,
   "id": "1144a1ce",
   "metadata": {},
   "outputs": [
    {
     "name": "stdout",
     "output_type": "stream",
     "text": [
      "Original List :- ['Phy', 'Che', 'Math', 'Bio', 'Eng']\n",
      "Bio\n",
      "Modified List :- ['Phy', 'Che', 'Math', 'Eng']\n"
     ]
    }
   ],
   "source": [
    "li = [\"Phy\",\"Che\",\"Math\",\"Bio\",\"Eng\"]\n",
    "\n",
    "print(f\"Original List :- {li}\")\n",
    "\n",
    "print(li.pop(3))\n",
    "\n",
    "print(f\"Modified List :- {li}\")"
   ]
  },
  {
   "cell_type": "code",
   "execution_count": 38,
   "id": "4b67cf13",
   "metadata": {},
   "outputs": [
    {
     "ename": "TypeError",
     "evalue": "'str' object cannot be interpreted as an integer",
     "output_type": "error",
     "traceback": [
      "\u001b[31m---------------------------------------------------------------------------\u001b[39m",
      "\u001b[31mTypeError\u001b[39m                                 Traceback (most recent call last)",
      "\u001b[36mCell\u001b[39m\u001b[36m \u001b[39m\u001b[32mIn[38]\u001b[39m\u001b[32m, line 1\u001b[39m\n\u001b[32m----> \u001b[39m\u001b[32m1\u001b[39m \u001b[43mli\u001b[49m\u001b[43m.\u001b[49m\u001b[43mpop\u001b[49m\u001b[43m(\u001b[49m\u001b[33;43m\"\u001b[39;49m\u001b[33;43mbio\u001b[39;49m\u001b[33;43m\"\u001b[39;49m\u001b[43m)\u001b[49m\n",
      "\u001b[31mTypeError\u001b[39m: 'str' object cannot be interpreted as an integer"
     ]
    }
   ],
   "source": [
    "li.pop(\"bio\")"
   ]
  },
  {
   "cell_type": "code",
   "execution_count": 39,
   "id": "e5a3cb7e",
   "metadata": {},
   "outputs": [
    {
     "data": {
      "text/plain": [
       "'Phy'"
      ]
     },
     "execution_count": 39,
     "metadata": {},
     "output_type": "execute_result"
    }
   ],
   "source": [
    "li.pop(0)"
   ]
  },
  {
   "cell_type": "code",
   "execution_count": 40,
   "id": "d2f4ca43",
   "metadata": {},
   "outputs": [
    {
     "data": {
      "text/plain": [
       "['Che', 'Math', 'Eng']"
      ]
     },
     "execution_count": 40,
     "metadata": {},
     "output_type": "execute_result"
    }
   ],
   "source": [
    "li"
   ]
  },
  {
   "cell_type": "code",
   "execution_count": 47,
   "id": "5d8b65b1",
   "metadata": {},
   "outputs": [
    {
     "data": {
      "text/plain": [
       "['Che', 'Bio']"
      ]
     },
     "execution_count": 47,
     "metadata": {},
     "output_type": "execute_result"
    }
   ],
   "source": [
    "li = [\"Phy\",\"Che\",\"Math\",\"Bio\",\"Eng\"]\n",
    "li1 = [\"Phy\",\"Che\",\"Math\",\"Bio\",\"Eng\"]\n",
    "\n",
    "cnt = 0\n",
    "\n",
    "for i in li:\n",
    "    if cnt % 2 == 0:\n",
    "        li1.remove(li[cnt])\n",
    "    \n",
    "    cnt += 1\n",
    "li1"
   ]
  },
  {
   "cell_type": "code",
   "execution_count": 49,
   "id": "5488e5e6",
   "metadata": {},
   "outputs": [
    {
     "name": "stdout",
     "output_type": "stream",
     "text": [
      "['Che', 'Math', 'Bio', 'Eng']\n",
      "['Che', 'Math', 'Eng']\n"
     ]
    },
    {
     "data": {
      "text/plain": [
       "['Che', 'Math', 'Eng']"
      ]
     },
     "execution_count": 49,
     "metadata": {},
     "output_type": "execute_result"
    }
   ],
   "source": [
    "li = [\"Phy\",\"Che\",\"Math\",\"Bio\",\"Eng\"]\n",
    "li1 = [\"Che\",\"Bio\",\"Eng\"]\n",
    "cnt = 0\n",
    "for i in li:                             \n",
    "    if cnt % 2 == 0:\n",
    "        li.remove(li[cnt])\n",
    "        print(li)\n",
    "    cnt += 1\n",
    "li"
   ]
  },
  {
   "cell_type": "code",
   "execution_count": 51,
   "id": "464678b0",
   "metadata": {},
   "outputs": [
    {
     "data": {
      "text/plain": [
       "['Phy', 'Che', 'Math', 'Bio', 'Eng']"
      ]
     },
     "execution_count": 51,
     "metadata": {},
     "output_type": "execute_result"
    }
   ],
   "source": [
    "li"
   ]
  },
  {
   "cell_type": "code",
   "execution_count": 50,
   "id": "c11b7bc9",
   "metadata": {},
   "outputs": [
    {
     "ename": "IndexError",
     "evalue": "pop index out of range",
     "output_type": "error",
     "traceback": [
      "\u001b[31m---------------------------------------------------------------------------\u001b[39m",
      "\u001b[31mIndexError\u001b[39m                                Traceback (most recent call last)",
      "\u001b[36mCell\u001b[39m\u001b[36m \u001b[39m\u001b[32mIn[50]\u001b[39m\u001b[32m, line 6\u001b[39m\n\u001b[32m      4\u001b[39m \u001b[38;5;28;01mfor\u001b[39;00m i \u001b[38;5;129;01min\u001b[39;00m li:\n\u001b[32m      5\u001b[39m     \u001b[38;5;28;01mif\u001b[39;00m cnt % \u001b[32m2\u001b[39m == \u001b[32m0\u001b[39m:\n\u001b[32m----> \u001b[39m\u001b[32m6\u001b[39m         \u001b[43mli1\u001b[49m\u001b[43m.\u001b[49m\u001b[43mpop\u001b[49m\u001b[43m(\u001b[49m\u001b[43mcnt\u001b[49m\u001b[43m)\u001b[49m\n\u001b[32m      7\u001b[39m     cnt += \u001b[32m1\u001b[39m\n\u001b[32m      8\u001b[39m li1\n",
      "\u001b[31mIndexError\u001b[39m: pop index out of range"
     ]
    }
   ],
   "source": [
    "li = [\"Phy\",\"Che\",\"Math\",\"Bio\",\"Eng\"]\n",
    "li1 = [\"Phy\",\"Che\",\"Math\",\"Bio\",\"Eng\"]\n",
    "cnt = 0\n",
    "for i in li:\n",
    "    if cnt % 2 == 0:\n",
    "        li1.pop(cnt)\n",
    "    cnt += 1\n",
    "li1"
   ]
  },
  {
   "cell_type": "code",
   "execution_count": 52,
   "id": "fbbe4d7b",
   "metadata": {},
   "outputs": [
    {
     "data": {
      "text/plain": [
       "2"
      ]
     },
     "execution_count": 52,
     "metadata": {},
     "output_type": "execute_result"
    }
   ],
   "source": [
    "li = [1,2,3,4]\n",
    "\n",
    "li.pop(1)"
   ]
  },
  {
   "cell_type": "code",
   "execution_count": 53,
   "id": "8e351f14",
   "metadata": {},
   "outputs": [
    {
     "data": {
      "text/plain": [
       "[1, 3, 4]"
      ]
     },
     "execution_count": 53,
     "metadata": {},
     "output_type": "execute_result"
    }
   ],
   "source": [
    "li"
   ]
  },
  {
   "cell_type": "markdown",
   "id": "21494d68",
   "metadata": {},
   "source": [
    "# 3. clear()"
   ]
  },
  {
   "cell_type": "code",
   "execution_count": null,
   "id": "55b5269a",
   "metadata": {},
   "outputs": [
    {
     "ename": "TypeError",
     "evalue": "list.clear() takes no arguments (1 given)",
     "output_type": "error",
     "traceback": [
      "\u001b[31m---------------------------------------------------------------------------\u001b[39m",
      "\u001b[31mTypeError\u001b[39m                                 Traceback (most recent call last)",
      "\u001b[36mCell\u001b[39m\u001b[36m \u001b[39m\u001b[32mIn[56]\u001b[39m\u001b[32m, line 2\u001b[39m\n\u001b[32m      1\u001b[39m li = [\u001b[32m1\u001b[39m,\u001b[32m2\u001b[39m,\u001b[32m3\u001b[39m,\u001b[32m4\u001b[39m]\n\u001b[32m----> \u001b[39m\u001b[32m2\u001b[39m \u001b[43mli\u001b[49m\u001b[43m.\u001b[49m\u001b[43mclear\u001b[49m\u001b[43m(\u001b[49m\u001b[32;43m2\u001b[39;49m\u001b[43m)\u001b[49m\n\u001b[32m      3\u001b[39m li\n",
      "\u001b[31mTypeError\u001b[39m: list.clear() takes no arguments (1 given)"
     ]
    }
   ],
   "source": [
    "li = [1,2,3,4]\n",
    "li.clear()\n",
    "li"
   ]
  },
  {
   "cell_type": "code",
   "execution_count": 55,
   "id": "8be360dc",
   "metadata": {},
   "outputs": [
    {
     "data": {
      "text/plain": [
       "[]"
      ]
     },
     "execution_count": 55,
     "metadata": {},
     "output_type": "execute_result"
    }
   ],
   "source": [
    "li"
   ]
  },
  {
   "cell_type": "markdown",
   "id": "76d8868a",
   "metadata": {},
   "source": [
    "# 4. del keyword"
   ]
  },
  {
   "cell_type": "code",
   "execution_count": 57,
   "id": "74724aff",
   "metadata": {},
   "outputs": [
    {
     "ename": "NameError",
     "evalue": "name 'li' is not defined",
     "output_type": "error",
     "traceback": [
      "\u001b[31m---------------------------------------------------------------------------\u001b[39m",
      "\u001b[31mNameError\u001b[39m                                 Traceback (most recent call last)",
      "\u001b[36mCell\u001b[39m\u001b[36m \u001b[39m\u001b[32mIn[57]\u001b[39m\u001b[32m, line 5\u001b[39m\n\u001b[32m      1\u001b[39m li = [\u001b[32m1\u001b[39m,\u001b[32m2\u001b[39m,\u001b[32m3\u001b[39m,\u001b[32m4\u001b[39m]\n\u001b[32m      3\u001b[39m \u001b[38;5;28;01mdel\u001b[39;00m li\n\u001b[32m----> \u001b[39m\u001b[32m5\u001b[39m \u001b[43mli\u001b[49m\n",
      "\u001b[31mNameError\u001b[39m: name 'li' is not defined"
     ]
    }
   ],
   "source": [
    "li = [1,2,3,4]\n",
    "\n",
    "del li\n",
    "\n",
    "li"
   ]
  },
  {
   "cell_type": "code",
   "execution_count": 58,
   "id": "e89eaed0",
   "metadata": {},
   "outputs": [
    {
     "data": {
      "text/plain": [
       "5"
      ]
     },
     "execution_count": 58,
     "metadata": {},
     "output_type": "execute_result"
    }
   ],
   "source": [
    "a = 5\n",
    "a"
   ]
  },
  {
   "cell_type": "code",
   "execution_count": 59,
   "id": "01fe8903",
   "metadata": {},
   "outputs": [],
   "source": [
    "del a"
   ]
  },
  {
   "cell_type": "code",
   "execution_count": 60,
   "id": "8211ba01",
   "metadata": {},
   "outputs": [
    {
     "ename": "NameError",
     "evalue": "name 'a' is not defined",
     "output_type": "error",
     "traceback": [
      "\u001b[31m---------------------------------------------------------------------------\u001b[39m",
      "\u001b[31mNameError\u001b[39m                                 Traceback (most recent call last)",
      "\u001b[36mCell\u001b[39m\u001b[36m \u001b[39m\u001b[32mIn[60]\u001b[39m\u001b[32m, line 1\u001b[39m\n\u001b[32m----> \u001b[39m\u001b[32m1\u001b[39m \u001b[43ma\u001b[49m\n",
      "\u001b[31mNameError\u001b[39m: name 'a' is not defined"
     ]
    }
   ],
   "source": [
    "a"
   ]
  },
  {
   "cell_type": "code",
   "execution_count": 62,
   "id": "edd9cc6c",
   "metadata": {},
   "outputs": [
    {
     "ename": "TypeError",
     "evalue": "'str' object doesn't support item deletion",
     "output_type": "error",
     "traceback": [
      "\u001b[31m---------------------------------------------------------------------------\u001b[39m",
      "\u001b[31mTypeError\u001b[39m                                 Traceback (most recent call last)",
      "\u001b[36mCell\u001b[39m\u001b[36m \u001b[39m\u001b[32mIn[62]\u001b[39m\u001b[32m, line 3\u001b[39m\n\u001b[32m      1\u001b[39m str1 = \u001b[33m\"\u001b[39m\u001b[33mpython\u001b[39m\u001b[33m\"\u001b[39m\n\u001b[32m----> \u001b[39m\u001b[32m3\u001b[39m \u001b[38;5;28;01mdel\u001b[39;00m \u001b[43mstr1\u001b[49m\u001b[43m[\u001b[49m\u001b[32;43m0\u001b[39;49m\u001b[43m]\u001b[49m\n",
      "\u001b[31mTypeError\u001b[39m: 'str' object doesn't support item deletion"
     ]
    }
   ],
   "source": [
    "str1 = \"python\"\n",
    "\n",
    "del str1[0]"
   ]
  },
  {
   "cell_type": "code",
   "execution_count": 63,
   "id": "35e8a18d",
   "metadata": {},
   "outputs": [
    {
     "name": "stdout",
     "output_type": "stream",
     "text": [
      "1\n",
      "2\n",
      "3\n",
      "4\n",
      "5\n"
     ]
    }
   ],
   "source": [
    "li = [1,2,3,4,5]\n",
    "cnt = 0\n",
    "while cnt < len(li):\n",
    "    print(li[cnt])\n",
    "    cnt += 1"
   ]
  },
  {
   "cell_type": "code",
   "execution_count": 64,
   "id": "eba2e25a",
   "metadata": {},
   "outputs": [
    {
     "name": "stdout",
     "output_type": "stream",
     "text": [
      "1 1\n",
      "2 2\n",
      "3 3\n",
      "4 4\n",
      "5 5\n"
     ]
    }
   ],
   "source": [
    "cnt = 0\n",
    "\n",
    "for i in li:\n",
    "    print(li[cnt],i)\n",
    "    cnt += 1"
   ]
  },
  {
   "cell_type": "code",
   "execution_count": 69,
   "id": "ae3cfcba",
   "metadata": {},
   "outputs": [
    {
     "ename": "KeyboardInterrupt",
     "evalue": "",
     "output_type": "error",
     "traceback": [
      "\u001b[31m---------------------------------------------------------------------------\u001b[39m",
      "\u001b[31mKeyboardInterrupt\u001b[39m                         Traceback (most recent call last)",
      "\u001b[36mCell\u001b[39m\u001b[36m \u001b[39m\u001b[32mIn[69]\u001b[39m\u001b[32m, line 5\u001b[39m\n\u001b[32m      1\u001b[39m li = [\u001b[32m1\u001b[39m,\u001b[32m2\u001b[39m,\u001b[32m3\u001b[39m]\n\u001b[32m      3\u001b[39m \u001b[38;5;28;01mfor\u001b[39;00m i \u001b[38;5;129;01min\u001b[39;00m li:\n\u001b[32m----> \u001b[39m\u001b[32m5\u001b[39m  li.append(\u001b[32m1\u001b[39m)\n",
      "\u001b[31mKeyboardInterrupt\u001b[39m: "
     ]
    }
   ],
   "source": [
    "li = [1,2,3]\n",
    "\n",
    "for i in li:\n",
    "\n",
    " li.append(1)"
   ]
  },
  {
   "cell_type": "code",
   "execution_count": 67,
   "id": "b1c3c929",
   "metadata": {},
   "outputs": [
    {
     "data": {
      "text/plain": [
       "[1,\n",
       " 2,\n",
       " 3,\n",
       " 1,\n",
       " 1,\n",
       " 1,\n",
       " 1,\n",
       " 1,\n",
       " 1,\n",
       " 1,\n",
       " 1,\n",
       " 1,\n",
       " 1,\n",
       " 1,\n",
       " 1,\n",
       " 1,\n",
       " 1,\n",
       " 1,\n",
       " 1,\n",
       " 1,\n",
       " 1,\n",
       " 1,\n",
       " 1,\n",
       " 1,\n",
       " 1,\n",
       " 1,\n",
       " 1,\n",
       " 1,\n",
       " 1,\n",
       " 1,\n",
       " 1,\n",
       " 1,\n",
       " 1,\n",
       " 1,\n",
       " 1,\n",
       " 1,\n",
       " 1,\n",
       " 1,\n",
       " 1,\n",
       " 1,\n",
       " 1,\n",
       " 1,\n",
       " 1,\n",
       " 1,\n",
       " 1,\n",
       " 1,\n",
       " 1,\n",
       " 1,\n",
       " 1,\n",
       " 1,\n",
       " 1,\n",
       " 1,\n",
       " 1,\n",
       " 1,\n",
       " 1,\n",
       " 1,\n",
       " 1,\n",
       " 1,\n",
       " 1,\n",
       " 1,\n",
       " 1,\n",
       " 1,\n",
       " 1,\n",
       " 1,\n",
       " 1,\n",
       " 1,\n",
       " 1,\n",
       " 1,\n",
       " 1,\n",
       " 1,\n",
       " 1,\n",
       " 1,\n",
       " 1,\n",
       " 1,\n",
       " 1,\n",
       " 1,\n",
       " 1,\n",
       " 1,\n",
       " 1,\n",
       " 1,\n",
       " 1,\n",
       " 1,\n",
       " 1,\n",
       " 1,\n",
       " 1,\n",
       " 1,\n",
       " 1,\n",
       " 1,\n",
       " 1,\n",
       " 1,\n",
       " 1,\n",
       " 1,\n",
       " 1,\n",
       " 1,\n",
       " 1,\n",
       " 1,\n",
       " 1,\n",
       " 1,\n",
       " 1,\n",
       " 1,\n",
       " 1,\n",
       " 1,\n",
       " 1,\n",
       " 1,\n",
       " 1,\n",
       " 1,\n",
       " 1,\n",
       " 1,\n",
       " 1,\n",
       " 1,\n",
       " 1,\n",
       " 1,\n",
       " 1,\n",
       " 1,\n",
       " 1,\n",
       " 1,\n",
       " 1,\n",
       " 1,\n",
       " 1,\n",
       " 1,\n",
       " 1,\n",
       " 1,\n",
       " 1,\n",
       " 1,\n",
       " 1,\n",
       " 1,\n",
       " 1,\n",
       " 1,\n",
       " 1,\n",
       " 1,\n",
       " 1,\n",
       " 1,\n",
       " 1,\n",
       " 1,\n",
       " 1,\n",
       " 1,\n",
       " 1,\n",
       " 1,\n",
       " 1,\n",
       " 1,\n",
       " 1,\n",
       " 1,\n",
       " 1,\n",
       " 1,\n",
       " 1,\n",
       " 1,\n",
       " 1,\n",
       " 1,\n",
       " 1,\n",
       " 1,\n",
       " 1,\n",
       " 1,\n",
       " 1,\n",
       " 1,\n",
       " 1,\n",
       " 1,\n",
       " 1,\n",
       " 1,\n",
       " 1,\n",
       " 1,\n",
       " 1,\n",
       " 1,\n",
       " 1,\n",
       " 1,\n",
       " 1,\n",
       " 1,\n",
       " 1,\n",
       " 1,\n",
       " 1,\n",
       " 1,\n",
       " 1,\n",
       " 1,\n",
       " 1,\n",
       " 1,\n",
       " 1,\n",
       " 1,\n",
       " 1,\n",
       " 1,\n",
       " 1,\n",
       " 1,\n",
       " 1,\n",
       " 1,\n",
       " 1,\n",
       " 1,\n",
       " 1,\n",
       " 1,\n",
       " 1,\n",
       " 1,\n",
       " 1,\n",
       " 1,\n",
       " 1,\n",
       " 1,\n",
       " 1,\n",
       " 1,\n",
       " 1,\n",
       " 1,\n",
       " 1,\n",
       " 1,\n",
       " 1,\n",
       " 1,\n",
       " 1,\n",
       " 1,\n",
       " 1,\n",
       " 1,\n",
       " 1,\n",
       " 1,\n",
       " 1,\n",
       " 1,\n",
       " 1,\n",
       " 1,\n",
       " 1,\n",
       " 1,\n",
       " 1,\n",
       " 1,\n",
       " 1,\n",
       " 1,\n",
       " 1,\n",
       " 1,\n",
       " 1,\n",
       " 1,\n",
       " 1,\n",
       " 1,\n",
       " 1,\n",
       " 1,\n",
       " 1,\n",
       " 1,\n",
       " 1,\n",
       " 1,\n",
       " 1,\n",
       " 1,\n",
       " 1,\n",
       " 1,\n",
       " 1,\n",
       " 1,\n",
       " 1,\n",
       " 1,\n",
       " 1,\n",
       " 1,\n",
       " 1,\n",
       " 1,\n",
       " 1,\n",
       " 1,\n",
       " 1,\n",
       " 1,\n",
       " 1,\n",
       " 1,\n",
       " 1,\n",
       " 1,\n",
       " 1,\n",
       " 1,\n",
       " 1,\n",
       " 1,\n",
       " 1,\n",
       " 1,\n",
       " 1,\n",
       " 1,\n",
       " 1,\n",
       " 1,\n",
       " 1,\n",
       " 1,\n",
       " 1,\n",
       " 1,\n",
       " 1,\n",
       " 1,\n",
       " 1,\n",
       " 1,\n",
       " 1,\n",
       " 1,\n",
       " 1,\n",
       " 1,\n",
       " 1,\n",
       " 1,\n",
       " 1,\n",
       " 1,\n",
       " 1,\n",
       " 1,\n",
       " 1,\n",
       " 1,\n",
       " 1,\n",
       " 1,\n",
       " 1,\n",
       " 1,\n",
       " 1,\n",
       " 1,\n",
       " 1,\n",
       " 1,\n",
       " 1,\n",
       " 1,\n",
       " 1,\n",
       " 1,\n",
       " 1,\n",
       " 1,\n",
       " 1,\n",
       " 1,\n",
       " 1,\n",
       " 1,\n",
       " 1,\n",
       " 1,\n",
       " 1,\n",
       " 1,\n",
       " 1,\n",
       " 1,\n",
       " 1,\n",
       " 1,\n",
       " 1,\n",
       " 1,\n",
       " 1,\n",
       " 1,\n",
       " 1,\n",
       " 1,\n",
       " 1,\n",
       " 1,\n",
       " 1,\n",
       " 1,\n",
       " 1,\n",
       " 1,\n",
       " 1,\n",
       " 1,\n",
       " 1,\n",
       " 1,\n",
       " 1,\n",
       " 1,\n",
       " 1,\n",
       " 1,\n",
       " 1,\n",
       " 1,\n",
       " 1,\n",
       " 1,\n",
       " 1,\n",
       " 1,\n",
       " 1,\n",
       " 1,\n",
       " 1,\n",
       " 1,\n",
       " 1,\n",
       " 1,\n",
       " 1,\n",
       " 1,\n",
       " 1,\n",
       " 1,\n",
       " 1,\n",
       " 1,\n",
       " 1,\n",
       " 1,\n",
       " 1,\n",
       " 1,\n",
       " 1,\n",
       " 1,\n",
       " 1,\n",
       " 1,\n",
       " 1,\n",
       " 1,\n",
       " 1,\n",
       " 1,\n",
       " 1,\n",
       " 1,\n",
       " 1,\n",
       " 1,\n",
       " 1,\n",
       " 1,\n",
       " 1,\n",
       " 1,\n",
       " 1,\n",
       " 1,\n",
       " 1,\n",
       " 1,\n",
       " 1,\n",
       " 1,\n",
       " 1,\n",
       " 1,\n",
       " 1,\n",
       " 1,\n",
       " 1,\n",
       " 1,\n",
       " 1,\n",
       " 1,\n",
       " 1,\n",
       " 1,\n",
       " 1,\n",
       " 1,\n",
       " 1,\n",
       " 1,\n",
       " 1,\n",
       " 1,\n",
       " 1,\n",
       " 1,\n",
       " 1,\n",
       " 1,\n",
       " 1,\n",
       " 1,\n",
       " 1,\n",
       " 1,\n",
       " 1,\n",
       " 1,\n",
       " 1,\n",
       " 1,\n",
       " 1,\n",
       " 1,\n",
       " 1,\n",
       " 1,\n",
       " 1,\n",
       " 1,\n",
       " 1,\n",
       " 1,\n",
       " 1,\n",
       " 1,\n",
       " 1,\n",
       " 1,\n",
       " 1,\n",
       " 1,\n",
       " 1,\n",
       " 1,\n",
       " 1,\n",
       " 1,\n",
       " 1,\n",
       " 1,\n",
       " 1,\n",
       " 1,\n",
       " 1,\n",
       " 1,\n",
       " 1,\n",
       " 1,\n",
       " 1,\n",
       " 1,\n",
       " 1,\n",
       " 1,\n",
       " 1,\n",
       " 1,\n",
       " 1,\n",
       " 1,\n",
       " 1,\n",
       " 1,\n",
       " 1,\n",
       " 1,\n",
       " 1,\n",
       " 1,\n",
       " 1,\n",
       " 1,\n",
       " 1,\n",
       " 1,\n",
       " 1,\n",
       " 1,\n",
       " 1,\n",
       " 1,\n",
       " 1,\n",
       " 1,\n",
       " 1,\n",
       " 1,\n",
       " 1,\n",
       " 1,\n",
       " 1,\n",
       " 1,\n",
       " 1,\n",
       " 1,\n",
       " 1,\n",
       " 1,\n",
       " 1,\n",
       " 1,\n",
       " 1,\n",
       " 1,\n",
       " 1,\n",
       " 1,\n",
       " 1,\n",
       " 1,\n",
       " 1,\n",
       " 1,\n",
       " 1,\n",
       " 1,\n",
       " 1,\n",
       " 1,\n",
       " 1,\n",
       " 1,\n",
       " 1,\n",
       " 1,\n",
       " 1,\n",
       " 1,\n",
       " 1,\n",
       " 1,\n",
       " 1,\n",
       " 1,\n",
       " 1,\n",
       " 1,\n",
       " 1,\n",
       " 1,\n",
       " 1,\n",
       " 1,\n",
       " 1,\n",
       " 1,\n",
       " 1,\n",
       " 1,\n",
       " 1,\n",
       " 1,\n",
       " 1,\n",
       " 1,\n",
       " 1,\n",
       " 1,\n",
       " 1,\n",
       " 1,\n",
       " 1,\n",
       " 1,\n",
       " 1,\n",
       " 1,\n",
       " 1,\n",
       " 1,\n",
       " 1,\n",
       " 1,\n",
       " 1,\n",
       " 1,\n",
       " 1,\n",
       " 1,\n",
       " 1,\n",
       " 1,\n",
       " 1,\n",
       " 1,\n",
       " 1,\n",
       " 1,\n",
       " 1,\n",
       " 1,\n",
       " 1,\n",
       " 1,\n",
       " 1,\n",
       " 1,\n",
       " 1,\n",
       " 1,\n",
       " 1,\n",
       " 1,\n",
       " 1,\n",
       " 1,\n",
       " 1,\n",
       " 1,\n",
       " 1,\n",
       " 1,\n",
       " 1,\n",
       " 1,\n",
       " 1,\n",
       " 1,\n",
       " 1,\n",
       " 1,\n",
       " 1,\n",
       " 1,\n",
       " 1,\n",
       " 1,\n",
       " 1,\n",
       " 1,\n",
       " 1,\n",
       " 1,\n",
       " 1,\n",
       " 1,\n",
       " 1,\n",
       " 1,\n",
       " 1,\n",
       " 1,\n",
       " 1,\n",
       " 1,\n",
       " 1,\n",
       " 1,\n",
       " 1,\n",
       " 1,\n",
       " 1,\n",
       " 1,\n",
       " 1,\n",
       " 1,\n",
       " 1,\n",
       " 1,\n",
       " 1,\n",
       " 1,\n",
       " 1,\n",
       " 1,\n",
       " 1,\n",
       " 1,\n",
       " 1,\n",
       " 1,\n",
       " 1,\n",
       " 1,\n",
       " 1,\n",
       " 1,\n",
       " 1,\n",
       " 1,\n",
       " 1,\n",
       " 1,\n",
       " 1,\n",
       " 1,\n",
       " 1,\n",
       " 1,\n",
       " 1,\n",
       " 1,\n",
       " 1,\n",
       " 1,\n",
       " 1,\n",
       " 1,\n",
       " 1,\n",
       " 1,\n",
       " 1,\n",
       " 1,\n",
       " 1,\n",
       " 1,\n",
       " 1,\n",
       " 1,\n",
       " 1,\n",
       " 1,\n",
       " 1,\n",
       " 1,\n",
       " 1,\n",
       " 1,\n",
       " 1,\n",
       " 1,\n",
       " 1,\n",
       " 1,\n",
       " 1,\n",
       " 1,\n",
       " 1,\n",
       " 1,\n",
       " 1,\n",
       " 1,\n",
       " 1,\n",
       " 1,\n",
       " 1,\n",
       " 1,\n",
       " 1,\n",
       " 1,\n",
       " 1,\n",
       " 1,\n",
       " 1,\n",
       " 1,\n",
       " 1,\n",
       " 1,\n",
       " 1,\n",
       " 1,\n",
       " 1,\n",
       " 1,\n",
       " 1,\n",
       " 1,\n",
       " 1,\n",
       " 1,\n",
       " 1,\n",
       " 1,\n",
       " 1,\n",
       " 1,\n",
       " 1,\n",
       " 1,\n",
       " 1,\n",
       " 1,\n",
       " 1,\n",
       " 1,\n",
       " 1,\n",
       " 1,\n",
       " 1,\n",
       " 1,\n",
       " 1,\n",
       " 1,\n",
       " 1,\n",
       " 1,\n",
       " 1,\n",
       " 1,\n",
       " 1,\n",
       " 1,\n",
       " 1,\n",
       " 1,\n",
       " 1,\n",
       " 1,\n",
       " 1,\n",
       " 1,\n",
       " 1,\n",
       " 1,\n",
       " 1,\n",
       " 1,\n",
       " 1,\n",
       " 1,\n",
       " 1,\n",
       " 1,\n",
       " 1,\n",
       " 1,\n",
       " 1,\n",
       " 1,\n",
       " 1,\n",
       " 1,\n",
       " 1,\n",
       " 1,\n",
       " 1,\n",
       " 1,\n",
       " 1,\n",
       " 1,\n",
       " 1,\n",
       " 1,\n",
       " 1,\n",
       " 1,\n",
       " 1,\n",
       " 1,\n",
       " 1,\n",
       " 1,\n",
       " 1,\n",
       " 1,\n",
       " 1,\n",
       " 1,\n",
       " 1,\n",
       " 1,\n",
       " 1,\n",
       " 1,\n",
       " 1,\n",
       " 1,\n",
       " 1,\n",
       " 1,\n",
       " 1,\n",
       " 1,\n",
       " 1,\n",
       " 1,\n",
       " 1,\n",
       " 1,\n",
       " 1,\n",
       " 1,\n",
       " 1,\n",
       " 1,\n",
       " 1,\n",
       " 1,\n",
       " 1,\n",
       " 1,\n",
       " 1,\n",
       " 1,\n",
       " 1,\n",
       " 1,\n",
       " 1,\n",
       " 1,\n",
       " 1,\n",
       " 1,\n",
       " 1,\n",
       " 1,\n",
       " 1,\n",
       " 1,\n",
       " 1,\n",
       " 1,\n",
       " 1,\n",
       " 1,\n",
       " 1,\n",
       " 1,\n",
       " 1,\n",
       " 1,\n",
       " 1,\n",
       " 1,\n",
       " 1,\n",
       " 1,\n",
       " 1,\n",
       " 1,\n",
       " 1,\n",
       " 1,\n",
       " 1,\n",
       " 1,\n",
       " 1,\n",
       " 1,\n",
       " 1,\n",
       " 1,\n",
       " 1,\n",
       " 1,\n",
       " 1,\n",
       " 1,\n",
       " 1,\n",
       " 1,\n",
       " 1,\n",
       " 1,\n",
       " 1,\n",
       " 1,\n",
       " 1,\n",
       " 1,\n",
       " 1,\n",
       " 1,\n",
       " 1,\n",
       " 1,\n",
       " 1,\n",
       " 1,\n",
       " 1,\n",
       " 1,\n",
       " 1,\n",
       " 1,\n",
       " 1,\n",
       " 1,\n",
       " 1,\n",
       " 1,\n",
       " 1,\n",
       " 1,\n",
       " 1,\n",
       " 1,\n",
       " 1,\n",
       " 1,\n",
       " 1,\n",
       " 1,\n",
       " 1,\n",
       " 1,\n",
       " 1,\n",
       " 1,\n",
       " 1,\n",
       " 1,\n",
       " 1,\n",
       " 1,\n",
       " 1,\n",
       " 1,\n",
       " 1,\n",
       " 1,\n",
       " 1,\n",
       " 1,\n",
       " 1,\n",
       " 1,\n",
       " 1,\n",
       " 1,\n",
       " 1,\n",
       " 1,\n",
       " 1,\n",
       " 1,\n",
       " 1,\n",
       " 1,\n",
       " 1,\n",
       " 1,\n",
       " 1,\n",
       " 1,\n",
       " 1,\n",
       " 1,\n",
       " 1,\n",
       " 1,\n",
       " 1,\n",
       " 1,\n",
       " 1,\n",
       " 1,\n",
       " 1,\n",
       " 1,\n",
       " 1,\n",
       " 1,\n",
       " 1,\n",
       " 1,\n",
       " 1,\n",
       " 1,\n",
       " 1,\n",
       " 1,\n",
       " 1,\n",
       " 1,\n",
       " 1,\n",
       " 1,\n",
       " 1,\n",
       " 1,\n",
       " 1,\n",
       " 1,\n",
       " 1,\n",
       " 1,\n",
       " 1,\n",
       " 1,\n",
       " 1,\n",
       " 1,\n",
       " 1,\n",
       " 1,\n",
       " 1,\n",
       " 1,\n",
       " 1,\n",
       " 1,\n",
       " 1,\n",
       " 1,\n",
       " 1,\n",
       " 1,\n",
       " 1,\n",
       " 1,\n",
       " 1,\n",
       " 1,\n",
       " 1,\n",
       " 1,\n",
       " 1,\n",
       " 1,\n",
       " 1,\n",
       " 1,\n",
       " 1,\n",
       " 1,\n",
       " 1,\n",
       " 1,\n",
       " 1,\n",
       " 1,\n",
       " 1,\n",
       " 1,\n",
       " 1,\n",
       " 1,\n",
       " 1,\n",
       " 1,\n",
       " 1,\n",
       " 1,\n",
       " 1,\n",
       " 1,\n",
       " 1,\n",
       " 1,\n",
       " 1,\n",
       " 1,\n",
       " 1,\n",
       " 1,\n",
       " 1,\n",
       " 1,\n",
       " 1,\n",
       " 1,\n",
       " 1,\n",
       " 1,\n",
       " 1,\n",
       " 1,\n",
       " 1,\n",
       " 1,\n",
       " 1,\n",
       " 1,\n",
       " 1,\n",
       " 1,\n",
       " 1,\n",
       " 1,\n",
       " 1,\n",
       " 1,\n",
       " 1,\n",
       " 1,\n",
       " 1,\n",
       " 1,\n",
       " 1,\n",
       " 1,\n",
       " 1,\n",
       " 1,\n",
       " 1,\n",
       " 1,\n",
       " 1,\n",
       " 1,\n",
       " 1,\n",
       " 1,\n",
       " 1,\n",
       " 1,\n",
       " 1,\n",
       " 1,\n",
       " 1,\n",
       " 1,\n",
       " 1,\n",
       " 1,\n",
       " 1,\n",
       " 1,\n",
       " 1,\n",
       " 1,\n",
       " 1,\n",
       " 1,\n",
       " 1,\n",
       " 1,\n",
       " 1,\n",
       " 1,\n",
       " 1,\n",
       " 1,\n",
       " 1,\n",
       " 1,\n",
       " 1,\n",
       " 1,\n",
       " 1,\n",
       " 1,\n",
       " 1,\n",
       " 1,\n",
       " 1,\n",
       " 1,\n",
       " 1,\n",
       " 1,\n",
       " 1,\n",
       " 1,\n",
       " 1,\n",
       " 1,\n",
       " 1,\n",
       " 1,\n",
       " 1,\n",
       " 1,\n",
       " 1,\n",
       " 1,\n",
       " 1,\n",
       " 1,\n",
       " 1,\n",
       " 1,\n",
       " 1,\n",
       " 1,\n",
       " 1,\n",
       " 1,\n",
       " 1,\n",
       " 1,\n",
       " 1,\n",
       " 1,\n",
       " 1,\n",
       " 1,\n",
       " 1,\n",
       " 1,\n",
       " 1,\n",
       " 1,\n",
       " 1,\n",
       " 1,\n",
       " 1,\n",
       " 1,\n",
       " 1,\n",
       " 1,\n",
       " 1,\n",
       " 1,\n",
       " 1,\n",
       " 1,\n",
       " 1,\n",
       " 1,\n",
       " 1,\n",
       " 1,\n",
       " 1,\n",
       " 1,\n",
       " 1,\n",
       " 1,\n",
       " 1,\n",
       " 1,\n",
       " 1,\n",
       " 1,\n",
       " ...]"
      ]
     },
     "execution_count": 67,
     "metadata": {},
     "output_type": "execute_result"
    }
   ],
   "source": [
    "li"
   ]
  },
  {
   "cell_type": "code",
   "execution_count": 70,
   "id": "390750e4",
   "metadata": {},
   "outputs": [
    {
     "data": {
      "text/plain": [
       "[0, 4, 10, 2, 18, 24, 43, 11, 41, 25, 34, 36, 3, 0, 41, 29, 25, 4, 22, 13]"
      ]
     },
     "execution_count": 70,
     "metadata": {},
     "output_type": "execute_result"
    }
   ],
   "source": [
    "li = [random.randint(0,50) for i in range(0,20)]\n",
    "li"
   ]
  },
  {
   "cell_type": "code",
   "execution_count": 71,
   "id": "5c6e7d86",
   "metadata": {},
   "outputs": [
    {
     "data": {
      "text/plain": [
       "[4, 5, 6]"
      ]
     },
     "execution_count": 71,
     "metadata": {},
     "output_type": "execute_result"
    }
   ],
   "source": [
    "list(range(4,7))"
   ]
  },
  {
   "cell_type": "code",
   "execution_count": 72,
   "id": "804bd83d",
   "metadata": {},
   "outputs": [
    {
     "data": {
      "text/plain": [
       "[0, 4, 10, 2, 24, 11, 25, 34, 36, 3, 0, 41, 29, 25, 4, 22, 13]"
      ]
     },
     "execution_count": 72,
     "metadata": {},
     "output_type": "execute_result"
    }
   ],
   "source": [
    "for i in range(4,7):\n",
    "    del li[i]\n",
    "li"
   ]
  },
  {
   "cell_type": "code",
   "execution_count": 73,
   "id": "5014a761",
   "metadata": {},
   "outputs": [],
   "source": [
    "li = [33,29,47,50,6,40,45]\n",
    "li1 = [33, 29, 47, 50, 6, 40, 3, 42, 43, 37, 41, 33, 25, 7, 50, 21, 36]"
   ]
  },
  {
   "cell_type": "code",
   "execution_count": 75,
   "id": "2d6936d0",
   "metadata": {},
   "outputs": [
    {
     "data": {
      "text/plain": [
       "[33, 29, 47, 50, 45]"
      ]
     },
     "execution_count": 75,
     "metadata": {},
     "output_type": "execute_result"
    }
   ],
   "source": [
    "del li[4]\n",
    "\n",
    "li\n"
   ]
  },
  {
   "cell_type": "code",
   "execution_count": 77,
   "id": "cbbec868",
   "metadata": {},
   "outputs": [
    {
     "data": {
      "text/plain": [
       "[33, 29, 47, 50, 45]"
      ]
     },
     "execution_count": 77,
     "metadata": {},
     "output_type": "execute_result"
    }
   ],
   "source": [
    "del li1[6]\n",
    "\n",
    "li"
   ]
  },
  {
   "cell_type": "code",
   "execution_count": 81,
   "id": "2a0ed527",
   "metadata": {},
   "outputs": [
    {
     "data": {
      "text/plain": [
       "[33, 29, 47, 50, 42, 43, 37, 41, 33, 25, 7, 50, 21, 36, 18, 46, 23]"
      ]
     },
     "execution_count": 81,
     "metadata": {},
     "output_type": "execute_result"
    }
   ],
   "source": [
    "li = [33, 29, 47, 50, 6, 40, 3, 42, 43, 37, 41, 33, 25, 7, 50, 21, 36, 18, 46, 23]\n",
    "li1 = [33, 29, 47, 50, 6, 40, 3, 42, 43, 37, 41, 33, 25, 7, 50, 21, 36, 18, 46, 23]\n",
    "for i,j in enumerate(li):\n",
    "    if i == 4 or i == 5 or i == 6:\n",
    "        li1.remove(li[i])\n",
    "\n",
    "li1\n"
   ]
  },
  {
   "cell_type": "code",
   "execution_count": 82,
   "id": "582b1b1f",
   "metadata": {},
   "outputs": [
    {
     "data": {
      "text/plain": [
       "[33, 29, 47, 50, 6, 40, 3, 42, 43, 37, 41, 33, 25, 7, 50, 21, 36, 18, 46, 23]"
      ]
     },
     "execution_count": 82,
     "metadata": {},
     "output_type": "execute_result"
    }
   ],
   "source": [
    "li"
   ]
  },
  {
   "cell_type": "code",
   "execution_count": 83,
   "id": "1e01d54f",
   "metadata": {},
   "outputs": [
    {
     "name": "stdout",
     "output_type": "stream",
     "text": [
      "[33, 29, 47, 50, 42, 43, 37, 41, 33, 25, 7, 50, 21, 36, 18, 46, 23]\n"
     ]
    }
   ],
   "source": [
    "li = [33, 29, 47, 50, 6, 40, 3, 42, 43, 37, 41, 33, 25, 7, 50, 21, 36, 18, 46, 23]\n",
    "li1 = li.copy()\n",
    "\n",
    "\n",
    "for idx in sorted([4, 5, 6], reverse=True):\n",
    "    del li1[idx]\n",
    "\n",
    "print(li1)"
   ]
  },
  {
   "cell_type": "code",
   "execution_count": 88,
   "id": "a58f7e5f",
   "metadata": {},
   "outputs": [
    {
     "data": {
      "text/plain": [
       "[33, 29, 47, 50, 40, 42, 37, 41, 33, 25, 7, 50, 21, 36, 18, 46, 23]"
      ]
     },
     "execution_count": 88,
     "metadata": {},
     "output_type": "execute_result"
    }
   ],
   "source": [
    "li = [33, 29, 47, 50, 6, 40, 3, 42, 43, 37, 41, 33, 25, 7, 50, 21, 36, 18, 46, 23]\n",
    "li1 = [33, 29, 47, 50, 6, 40, 3, 42, 43, 37, 41, 33, 25, 7, 50, 21, 36, 18, 46, 23]\n",
    "for i,j in enumerate(li):\n",
    "    if i == 4 or i == 5 or i == 6:\n",
    "        li1.pop(i)\n",
    "li1"
   ]
  },
  {
   "cell_type": "code",
   "execution_count": 89,
   "id": "125e1fa4",
   "metadata": {},
   "outputs": [
    {
     "data": {
      "text/plain": [
       "[33, 29, 47, 50, 40, 3, 42, 43, 37, 41, 33, 25, 7, 50, 21, 36, 18, 46, 23]"
      ]
     },
     "execution_count": 89,
     "metadata": {},
     "output_type": "execute_result"
    }
   ],
   "source": [
    "li = [33, 29, 47, 50, 6, 40, 3, 42, 43, 37, 41, 33, 25, 7, 50, 21, 36, 18, 46, 23]\n",
    "li.pop(4)\n",
    "li"
   ]
  },
  {
   "cell_type": "code",
   "execution_count": 92,
   "id": "eedff36f",
   "metadata": {},
   "outputs": [
    {
     "data": {
      "text/plain": [
       "True"
      ]
     },
     "execution_count": 92,
     "metadata": {},
     "output_type": "execute_result"
    }
   ],
   "source": [
    "[33, 29, 47, 50, 40, 42, 37, 41, 33, 25, 7, 50, 21, 36, 18, 46, 23] == [33, 29, 47, 50, 40, 42, 37, 41, 33, 25, 7, 50, 21, 36, 18, 46, 23]"
   ]
  },
  {
   "cell_type": "markdown",
   "id": "583518ec",
   "metadata": {},
   "source": [
    "# 5. Sorting:\n",
    "\n",
    "- 1. Ascending Order:\n",
    "\n",
    "- ListName.sort()"
   ]
  },
  {
   "cell_type": "code",
   "execution_count": 93,
   "id": "fb45e1df",
   "metadata": {},
   "outputs": [
    {
     "name": "stdout",
     "output_type": "stream",
     "text": [
      "original List :-  [1, 5, 9, 90, 66, 56, 12, 34, 32, 12, 56, 78]\n",
      "Sorted List :- [1, 5, 9, 12, 12, 32, 34, 56, 56, 66, 78, 90]\n"
     ]
    }
   ],
   "source": [
    "numbers = [1,5,9,90,66,56,12,34,32,12,56,78]\n",
    "\n",
    "print(\"original List :- \", numbers)\n",
    "\n",
    "numbers.sort()\n",
    "\n",
    "print(\"Sorted List :-\", numbers)"
   ]
  },
  {
   "cell_type": "code",
   "execution_count": 94,
   "id": "c6cd58c1",
   "metadata": {},
   "outputs": [
    {
     "name": "stdout",
     "output_type": "stream",
     "text": [
      "Original List [1, 5, 9, 90, 66, 56, 12, 34, 32, 12, 56, 78, 55.5, 45.5, 12.5]\n",
      "Sorted List [1, 5, 9, 12, 12, 12.5, 32, 34, 45.5, 55.5, 56, 56, 66, 78, 90]\n"
     ]
    }
   ],
   "source": [
    "Numbers = [1,5,9,90,66,56,12,34,32,12,56,78,55.5,45.5,12.5]\n",
    "print(\"Original List\",Numbers)\n",
    "Numbers.sort()\n",
    "print(\"Sorted List\",Numbers)"
   ]
  },
  {
   "cell_type": "code",
   "execution_count": 95,
   "id": "3a6718c7",
   "metadata": {},
   "outputs": [
    {
     "name": "stdout",
     "output_type": "stream",
     "text": [
      "Original List ['One', 'Three', 'Five', 'Six', 'Eight']\n",
      "Sorted List ['Eight', 'Five', 'One', 'Six', 'Three']\n"
     ]
    }
   ],
   "source": [
    "Numbers = [\"One\",\"Three\",\"Five\",\"Six\",\"Eight\"]\n",
    "print(\"Original List\",Numbers)\n",
    "Numbers.sort()\n",
    "print(\"Sorted List\",Numbers)"
   ]
  },
  {
   "cell_type": "code",
   "execution_count": 96,
   "id": "6df75946",
   "metadata": {},
   "outputs": [
    {
     "name": "stdout",
     "output_type": "stream",
     "text": [
      "Original List [1, 2, 3, 'One', 'Three', 'Five', 'Six', 'Eight']\n"
     ]
    },
    {
     "ename": "TypeError",
     "evalue": "'<' not supported between instances of 'str' and 'int'",
     "output_type": "error",
     "traceback": [
      "\u001b[31m---------------------------------------------------------------------------\u001b[39m",
      "\u001b[31mTypeError\u001b[39m                                 Traceback (most recent call last)",
      "\u001b[36mCell\u001b[39m\u001b[36m \u001b[39m\u001b[32mIn[96]\u001b[39m\u001b[32m, line 3\u001b[39m\n\u001b[32m      1\u001b[39m Numbers = [\u001b[32m1\u001b[39m,\u001b[32m2\u001b[39m,\u001b[32m3\u001b[39m,\u001b[33m\"\u001b[39m\u001b[33mOne\u001b[39m\u001b[33m\"\u001b[39m,\u001b[33m\"\u001b[39m\u001b[33mThree\u001b[39m\u001b[33m\"\u001b[39m,\u001b[33m\"\u001b[39m\u001b[33mFive\u001b[39m\u001b[33m\"\u001b[39m,\u001b[33m\"\u001b[39m\u001b[33mSix\u001b[39m\u001b[33m\"\u001b[39m,\u001b[33m\"\u001b[39m\u001b[33mEight\u001b[39m\u001b[33m\"\u001b[39m]\n\u001b[32m      2\u001b[39m \u001b[38;5;28mprint\u001b[39m(\u001b[33m\"\u001b[39m\u001b[33mOriginal List\u001b[39m\u001b[33m\"\u001b[39m,Numbers)\n\u001b[32m----> \u001b[39m\u001b[32m3\u001b[39m \u001b[43mNumbers\u001b[49m\u001b[43m.\u001b[49m\u001b[43msort\u001b[49m\u001b[43m(\u001b[49m\u001b[43m)\u001b[49m\n\u001b[32m      4\u001b[39m \u001b[38;5;28mprint\u001b[39m(\u001b[33m\"\u001b[39m\u001b[33mSorted List\u001b[39m\u001b[33m\"\u001b[39m,Numbers)\n",
      "\u001b[31mTypeError\u001b[39m: '<' not supported between instances of 'str' and 'int'"
     ]
    }
   ],
   "source": [
    "Numbers = [1,2,3,\"One\",\"Three\",\"Five\",\"Six\",\"Eight\"]\n",
    "print(\"Original List\",Numbers)\n",
    "Numbers.sort()\n",
    "print(\"Sorted List\",Numbers)"
   ]
  },
  {
   "cell_type": "markdown",
   "id": "8fadaee0",
   "metadata": {},
   "source": [
    "- 2. descending order:-\n",
    "\n",
    "- ListName.sort(reverse=True)"
   ]
  },
  {
   "cell_type": "code",
   "execution_count": 97,
   "id": "c3461225",
   "metadata": {},
   "outputs": [
    {
     "name": "stdout",
     "output_type": "stream",
     "text": [
      "Original List [1, 5, 9, 90, 66, 56, 12, 34, 32, 12, 56, 78]\n",
      "Sorted List [90, 78, 66, 56, 56, 34, 32, 12, 12, 9, 5, 1]\n"
     ]
    }
   ],
   "source": [
    "Numbers = [1,5,9,90,66,56,12,34,32,12,56,78]\n",
    "print(\"Original List\",Numbers)\n",
    "Numbers.sort(reverse=True)\n",
    "print(\"Sorted List\",Numbers)"
   ]
  },
  {
   "cell_type": "code",
   "execution_count": 98,
   "id": "ab55d330",
   "metadata": {},
   "outputs": [
    {
     "data": {
      "text/plain": [
       "[3, 2, 1]"
      ]
     },
     "execution_count": 98,
     "metadata": {},
     "output_type": "execute_result"
    }
   ],
   "source": [
    "[1,2,3][::-1]"
   ]
  },
  {
   "cell_type": "code",
   "execution_count": 99,
   "id": "9b976bf5",
   "metadata": {},
   "outputs": [
    {
     "name": "stdout",
     "output_type": "stream",
     "text": [
      "[1, 2, 3, 5, 6, 7, 8]\n"
     ]
    }
   ],
   "source": [
    " li = [1,2,3,8,7,6,5]\n",
    " li.sort()\n",
    " print(li)"
   ]
  },
  {
   "cell_type": "code",
   "execution_count": 103,
   "id": "146b7b1a",
   "metadata": {},
   "outputs": [
    {
     "name": "stdout",
     "output_type": "stream",
     "text": [
      "reverse list :- [8, 7, 6, 5, 3, 2, 1]\n"
     ]
    }
   ],
   "source": [
    "li.sort()\n",
    "print(\"reverse list :-\", li[::-1]) # descending Order"
   ]
  },
  {
   "cell_type": "markdown",
   "id": "b652c091",
   "metadata": {},
   "source": [
    "# 3. sorted()"
   ]
  },
  {
   "cell_type": "code",
   "execution_count": 105,
   "id": "c750ae68",
   "metadata": {},
   "outputs": [
    {
     "name": "stdout",
     "output_type": "stream",
     "text": [
      "orginal list :-  [1, 2, 3, 4, 4, 3, 4, 55, 33, 65, 34, 55]\n",
      "Sorted list :-  [1, 2, 3, 3, 4, 4, 4, 33, 34, 55, 55, 65]\n"
     ]
    }
   ],
   "source": [
    "#3. Sorted()\n",
    "\n",
    "Numbers = [1,2,3,4,4,3,4,55,33,65,34,55]\n",
    "\n",
    "print(\"orginal list :- \", Numbers)\n",
    "print(\"Sorted list :- \", sorted(Numbers))"
   ]
  },
  {
   "cell_type": "code",
   "execution_count": 106,
   "id": "70854ba3",
   "metadata": {},
   "outputs": [
    {
     "data": {
      "text/plain": [
       "['P', 'h', 'n', 'o', 't', 'y']"
      ]
     },
     "execution_count": 106,
     "metadata": {},
     "output_type": "execute_result"
    }
   ],
   "source": [
    "sorted(\"Python\")"
   ]
  },
  {
   "cell_type": "code",
   "execution_count": 109,
   "id": "e0333080",
   "metadata": {},
   "outputs": [
    {
     "name": "stdout",
     "output_type": "stream",
     "text": [
      "Origianl List :-  [1, 5, 9, 90, 66, 56, 12, 34, 32, 12, 56, 78]\n",
      "Sorted :- [1, 5, 9, 12, 12, 32, 34, 56, 56, 66, 78, 90]\n",
      "Sorted list :-  [90, 78, 66, 56, 56, 34, 32, 12, 12, 9, 5, 1]\n"
     ]
    }
   ],
   "source": [
    "Numbers = [1,5,9,90,66,56,12,34,32,12,56,78]\n",
    "\n",
    "print(\"Origianl List :- \",Numbers)\n",
    "print(\"Sorted :-\", sorted(Numbers))\n",
    "print(\"Sorted list :- \", sorted(Numbers, reverse= True))"
   ]
  },
  {
   "cell_type": "markdown",
   "id": "4f879b3e",
   "metadata": {},
   "source": [
    "# List Comprehension\n",
    "\n",
    "* Syntax :- [expression for val/ele in ListName Condition]"
   ]
  },
  {
   "cell_type": "code",
   "execution_count": 110,
   "id": "30844aac",
   "metadata": {},
   "outputs": [
    {
     "data": {
      "text/plain": [
       "[1, 4, 9, 16, 25, 36]"
      ]
     },
     "execution_count": 110,
     "metadata": {},
     "output_type": "execute_result"
    }
   ],
   "source": [
    "li = [1,2,3,4,5,6]\n",
    "\n",
    "sq = []\n",
    "for i in li:\n",
    "    sq.append(i **2)\n",
    "sq"
   ]
  },
  {
   "cell_type": "code",
   "execution_count": 112,
   "id": "78c74295",
   "metadata": {},
   "outputs": [
    {
     "data": {
      "text/plain": [
       "[1, 16, 81, 256, 625, 1296]"
      ]
     },
     "execution_count": 112,
     "metadata": {},
     "output_type": "execute_result"
    }
   ],
   "source": [
    "li = [i ** 2 for i in li ]\n",
    "li"
   ]
  },
  {
   "cell_type": "code",
   "execution_count": 114,
   "id": "8c053541",
   "metadata": {},
   "outputs": [
    {
     "name": "stdout",
     "output_type": "stream",
     "text": [
      "cube:- [1, 8, 27, 64, 125, 216]\n"
     ]
    }
   ],
   "source": [
    "li = [1,2,3,4,5,6]\n",
    "li = [i ** 3 for i in li]\n",
    "print(f\"cube:- {li}\")"
   ]
  },
  {
   "cell_type": "code",
   "execution_count": 119,
   "id": "b20315fd",
   "metadata": {},
   "outputs": [
    {
     "name": "stdout",
     "output_type": "stream",
     "text": [
      "even:-  [2, 6, 8, 10]\n",
      "Odd:-  [1, 3, 5, 7, 9]\n"
     ]
    }
   ],
   "source": [
    "li = [1,2,3,5,6,7,8,9,10]\n",
    "\n",
    "li_even = []\n",
    "li_odd = []\n",
    "\n",
    "for val in li:\n",
    "    if val % 2 == 0:\n",
    "        li_even.append(val)\n",
    "    \n",
    "    else:\n",
    "        li_odd.append(val)\n",
    "\n",
    "\n",
    "print(\"even:- \",li_even)\n",
    "print(\"Odd:- \",li_odd)\n",
    "    "
   ]
  },
  {
   "cell_type": "code",
   "execution_count": 121,
   "id": "b2658310",
   "metadata": {},
   "outputs": [
    {
     "name": "stdout",
     "output_type": "stream",
     "text": [
      "even numbers:- [2, 6, 8, 10]\n",
      "odd numbers :-[1, 3, 5, 7, 9]\n"
     ]
    }
   ],
   "source": [
    "li = [1,2,3,5,6,7,8,9,10]\n",
    "\n",
    "li_odd = [val for val in li if val % 2 != 0]\n",
    "li_even = [val for val in li if val % 2 == 0]\n",
    "\n",
    "print(f\"even numbers:- {li_even}\")\n",
    "print(f\"odd numbers :-{li_odd}\")"
   ]
  },
  {
   "cell_type": "code",
   "execution_count": 122,
   "id": "42c9a42e",
   "metadata": {},
   "outputs": [
    {
     "data": {
      "text/plain": [
       "['PYTHON', 'AND', 'DATA', 'SCIENCE']"
      ]
     },
     "execution_count": 122,
     "metadata": {},
     "output_type": "execute_result"
    }
   ],
   "source": [
    "li = [1,2,3,\"Python\",\"And\",\"Data\",\"Science\"]\n",
    "\n",
    "new_li = [str1.upper() for str1 in li if type(str1) == str]\n",
    "new_li"
   ]
  },
  {
   "cell_type": "code",
   "execution_count": null,
   "id": "269e1f48",
   "metadata": {},
   "outputs": [],
   "source": []
  }
 ],
 "metadata": {
  "kernelspec": {
   "display_name": "Python 3",
   "language": "python",
   "name": "python3"
  },
  "language_info": {
   "codemirror_mode": {
    "name": "ipython",
    "version": 3
   },
   "file_extension": ".py",
   "mimetype": "text/x-python",
   "name": "python",
   "nbconvert_exporter": "python",
   "pygments_lexer": "ipython3",
   "version": "3.13.3"
  }
 },
 "nbformat": 4,
 "nbformat_minor": 5
}
