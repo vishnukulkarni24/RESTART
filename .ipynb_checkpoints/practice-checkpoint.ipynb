{
 "cells": [
  {
   "cell_type": "code",
   "execution_count": 6,
   "id": "9ba537b3",
   "metadata": {},
   "outputs": [
    {
     "name": "stdout",
     "output_type": "stream",
     "text": [
      "[1, 2, 3, 4, 5, 6, 7, 8, 9, 10]\n"
     ]
    }
   ],
   "source": [
    "li = [1,2,3,4,5,6,7,8,9,10]\n",
    "li2 = []\n",
    "for i in li:\n",
    "    li2.append(i)\n",
    "\n",
    "print(li2)"
   ]
  },
  {
   "cell_type": "code",
   "execution_count": null,
   "id": "d76bddfd",
   "metadata": {},
   "outputs": [],
   "source": []
  },
  {
   "cell_type": "code",
   "execution_count": 10,
   "id": "32c71715",
   "metadata": {},
   "outputs": [
    {
     "name": "stdout",
     "output_type": "stream",
     "text": [
      "1 2 3 4 5 6 7 8 9 10 "
     ]
    }
   ],
   "source": [
    "li = [1,2,3,4,5,6,7,8,9,10]\n",
    "for i in li:\n",
    "    print(i, end=\" \")"
   ]
  },
  {
   "cell_type": "code",
   "execution_count": 23,
   "id": "1fd04f96",
   "metadata": {},
   "outputs": [],
   "source": [
    "def Percent_Calc():\n",
    "    English = int(input(\"Enter English Marks: \"))\n",
    "    Marathi = int(input(\"Enter Marathi Marks: \"))\n",
    "    Math = int(input(\"Enter Math Marks: \"))\n",
    "    Science = int(input(\"Enter Science Marks: \"))\n",
    "\n",
    "    total_marks = 400 \n",
    "    obtained = English + Marathi + Math + Science\n",
    "    percentage = (obtained / total_marks) * 100\n",
    "\n",
    "    print(\"Total Marks:\", obtained)\n",
    "    print(\"Percentage:\", percentage)\n",
    "\n",
    "    if percentage < 35:\n",
    "        print(\"Fail\")\n",
    "    elif percentage >= 80:\n",
    "        print(\"A Grade\")\n",
    "    elif percentage >= 60:\n",
    "        print(\"B Grade\")\n",
    "    elif percentage >= 40:\n",
    "        print(\"C Grade\")\n",
    "    elif percentage >= 35:\n",
    "        print(\"Pass\")\n",
    "    else:\n",
    "        print(\"Invalid input\")\n",
    "\n",
    "    return percentage\n"
   ]
  },
  {
   "cell_type": "code",
   "execution_count": 25,
   "id": "4ba80230",
   "metadata": {},
   "outputs": [
    {
     "name": "stdout",
     "output_type": "stream",
     "text": [
      "Total Marks: 140\n",
      "Percentage: 35.0\n",
      "Pass\n"
     ]
    },
    {
     "data": {
      "text/plain": [
       "35.0"
      ]
     },
     "execution_count": 25,
     "metadata": {},
     "output_type": "execute_result"
    }
   ],
   "source": [
    "Percent_Calc()"
   ]
  },
  {
   "cell_type": "code",
   "execution_count": null,
   "id": "52a5eb3e",
   "metadata": {},
   "outputs": [
    {
     "name": "stdout",
     "output_type": "stream",
     "text": [
      "eo, iu uai\n"
     ]
    }
   ],
   "source": [
    "import re\n",
    "\n",
    "str1 = \"hello, vishnu kulkarni\"\n",
    "consonants = r\"qwrtypsdfghjklzxcvbnmQWRTYPSDFGHJKLZXCVBNM\"\n",
    "\n",
    "\n",
    "str1 = \"hello, vishnu kulkarni\"\n",
    "consonants = r\"qwrtypsdfghjklzxcvbnmQWRTYPSDFGHJKLZXCVBNM\"\n",
    "\n",
    "result = ''.join([char for char in str1 if char not in consonants])\n",
    "\n",
    "print(result)\n"
   ]
  },
  {
   "cell_type": "code",
   "execution_count": null,
   "id": "b9c3765e",
   "metadata": {},
   "outputs": [
    {
     "name": "stdout",
     "output_type": "stream",
     "text": [
      "Ameya\n",
      "Ameya\n",
      "Ameya\n",
      "Ameya\n",
      "Ameya\n",
      "Successfully, Printed Ameya 5 times.\n"
     ]
    }
   ],
   "source": [
    "i = 0\n",
    "\n",
    "while i<5:\n",
    "    print(\"Ameya\")\n",
    "    i = i +1\n",
    "    \n",
    "print(\"Successfully, Printed Ameya 5 times.\")"
   ]
  },
  {
   "cell_type": "code",
   "execution_count": 39,
   "id": "921b1186",
   "metadata": {},
   "outputs": [
    {
     "name": "stdout",
     "output_type": "stream",
     "text": [
      "1\n",
      "2\n",
      "3\n",
      "4\n",
      "5.65\n",
      "hello\n"
     ]
    }
   ],
   "source": [
    "li1 = [1,2,3,\"4\",5.65,\"hello\"]\n",
    "i = 0 \n",
    "while i < len(li1):\n",
    "    print(li1[i])\n",
    "    i += 1"
   ]
  },
  {
   "cell_type": "code",
   "execution_count": 43,
   "id": "0674685c",
   "metadata": {},
   "outputs": [
    {
     "name": "stdout",
     "output_type": "stream",
     "text": [
      "1 2 3 4 5.65 hello "
     ]
    }
   ],
   "source": [
    "for i in li1:\n",
    "    print(i, end=\" \")"
   ]
  },
  {
   "cell_type": "code",
   "execution_count": 48,
   "id": "ab8832ea",
   "metadata": {},
   "outputs": [
    {
     "name": "stdout",
     "output_type": "stream",
     "text": [
      "2\n",
      "4\n",
      "6\n",
      "8\n",
      "10\n",
      "12\n",
      "14\n",
      "16\n",
      "18\n",
      "20\n"
     ]
    }
   ],
   "source": [
    "for i in range(1,11):\n",
    "    print (i * 2)"
   ]
  },
  {
   "cell_type": "code",
   "execution_count": 61,
   "id": "e4301cdc",
   "metadata": {},
   "outputs": [
    {
     "name": "stdout",
     "output_type": "stream",
     "text": [
      "Hello...! samyak\n",
      "Hello...! soham\n",
      "Hello...! suresh\n",
      "Hello...! Somesh\n"
     ]
    }
   ],
   "source": [
    "names = [\"vishnu\",\"samyak\",\"soham\",\"rupesh\",\"suresh\",\"dinesh\",\"Somesh\"]\n",
    "\n",
    "for chr in names:\n",
    "    if chr.startswith((\"s\",\"S\")):\n",
    "        print(f\"Hello...! {chr}\")"
   ]
  },
  {
   "cell_type": "code",
   "execution_count": 3,
   "id": "6f0ca440",
   "metadata": {},
   "outputs": [
    {
     "name": "stdout",
     "output_type": "stream",
     "text": [
      "longest word in sentence : two-dimensional\n"
     ]
    }
   ],
   "source": [
    "s1 = \"Modern languages, especially C++ use row-major, ordering for storing two-dimensional arrays.\"\n",
    "\n",
    "for chr in \".,_+\":\n",
    "    s1 = s1.replace(chr,\" \")\n",
    "\n",
    "words = s1.split()\n",
    "\n",
    "longest = max(words, key=len)\n",
    "\n",
    "print(f\"longest word in sentence : {longest}\")"
   ]
  },
  {
   "cell_type": "code",
   "execution_count": 1,
   "id": "dcbba0c2",
   "metadata": {},
   "outputs": [],
   "source": [
    "import numpy as np\n"
   ]
  },
  {
   "cell_type": "code",
   "execution_count": 3,
   "id": "d05e1690",
   "metadata": {},
   "outputs": [
    {
     "data": {
      "text/plain": [
       "np.int64(5)"
      ]
     },
     "execution_count": 3,
     "metadata": {},
     "output_type": "execute_result"
    }
   ],
   "source": [
    "one = np.array([1,2,3,643,34,85749])\n",
    "one.argmax()"
   ]
  },
  {
   "cell_type": "code",
   "execution_count": 5,
   "id": "5eae41f4",
   "metadata": {},
   "outputs": [
    {
     "name": "stdout",
     "output_type": "stream",
     "text": [
      "(array([1, 3, 5, 7]),)\n"
     ]
    }
   ],
   "source": [
    "arr1 = np.array([1,2,3,4,5,6,7,8,9])\n",
    "even_arr = np.where(arr1%2 == 0)\n",
    "\n",
    "print(even_arr)"
   ]
  },
  {
   "cell_type": "code",
   "execution_count": 6,
   "id": "1cb17142",
   "metadata": {},
   "outputs": [
    {
     "name": "stdout",
     "output_type": "stream",
     "text": [
      "(array([0, 2, 4, 6, 8]),)\n"
     ]
    }
   ],
   "source": [
    "arr1 = np.array([1,2,3,4,5,6,7,8,9])\n",
    "even_arr = np.where(arr1%2 != 0)\n",
    "\n",
    "print(even_arr)"
   ]
  },
  {
   "cell_type": "code",
   "execution_count": 24,
   "id": "8177729d",
   "metadata": {},
   "outputs": [
    {
     "name": "stdout",
     "output_type": "stream",
     "text": [
      "12 is NOT a perfect square.\n",
      "4 is a perfect square.\n",
      "16 is a perfect square.\n",
      "81 is a perfect square.\n",
      "64 is a perfect square.\n",
      "25 is a perfect square.\n",
      "141 is NOT a perfect square.\n",
      "121 is a perfect square.\n",
      "169 is a perfect square.\n"
     ]
    }
   ],
   "source": [
    "# check if a number is perfect square.\n",
    "import math\n",
    "\n",
    "li2 = [12, 4, 16, 81, 64, 25, 141, 121, 169]\n",
    "\n",
    "for n in li2:\n",
    "    root = math.isqrt(n) \n",
    "    if root * root == n:\n",
    "        print(f\"{n} is a perfect square.\")\n",
    "    else:\n",
    "        print(f\"{n} is NOT a perfect square.\")\n",
    "\n"
   ]
  },
  {
   "cell_type": "code",
   "execution_count": 30,
   "id": "1c2bd302",
   "metadata": {},
   "outputs": [
    {
     "name": "stdout",
     "output_type": "stream",
     "text": [
      "25  it is perfect square\n"
     ]
    }
   ],
   "source": [
    "import math\n",
    "\n",
    "n = 25\n",
    "\n",
    "if n <= 0:\n",
    "    root = math.sqrt(n)\n",
    "    print(n,\"  : not perfect square.\")\n",
    "else:\n",
    "    root * root == n\n",
    "    print(n,\" it is perfect square\")"
   ]
  },
  {
   "cell_type": "code",
   "execution_count": null,
   "id": "eeadec4d",
   "metadata": {},
   "outputs": [
    {
     "name": "stdout",
     "output_type": "stream",
     "text": [
      "5.0\n"
     ]
    }
   ],
   "source": [
    "root = math.sqrt(n)\n",
    "print(root)\n"
   ]
  },
  {
   "cell_type": "code",
   "execution_count": 34,
   "id": "e2ad6e24",
   "metadata": {},
   "outputs": [
    {
     "data": {
      "text/plain": [
       "True"
      ]
     },
     "execution_count": 34,
     "metadata": {},
     "output_type": "execute_result"
    }
   ],
   "source": [
    "5 * 5 == n"
   ]
  },
  {
   "cell_type": "code",
   "execution_count": 29,
   "id": "e9d899c6",
   "metadata": {},
   "outputs": [
    {
     "name": "stdout",
     "output_type": "stream",
     "text": [
      "[1, 2, 3, 4, 5, 6, 7, 8, 9]\n"
     ]
    }
   ],
   "source": [
    "# write a python code to impliment a function to flattend a nested list.\n",
    "\n",
    "def flatten(nested_list):\n",
    "    common_li = []\n",
    "    for item in nested_list:\n",
    "        if isinstance(item , list):\n",
    "            common_li.extend(flatten(item))\n",
    "        else:\n",
    "            common_li.append(item)\n",
    "    return common_li\n",
    "\n",
    "nested = [1,2,3,[4,5,6],[7,8,9]]\n",
    "flattend = flatten(nested)\n",
    "print(flattend)\n"
   ]
  },
  {
   "cell_type": "code",
   "execution_count": 22,
   "id": "580afeb3",
   "metadata": {},
   "outputs": [
    {
     "name": "stdout",
     "output_type": "stream",
     "text": [
      "[1, 2, 3, 4, 5, 6, 7, 11, 8, 9, 10]\n"
     ]
    }
   ],
   "source": [
    "\n",
    "\n",
    "li1 = [1,[2,3,4,5],[6,7],[11],[8,9,10]]\n",
    "cmn_li = []\n",
    "\n",
    "if isinstance(li1, list):\n",
    "    cmn_li.extend(flatten(li1))\n",
    "else:\n",
    "    cmn_li.append(li1)\n",
    "\n",
    "print(cmn_li)\n"
   ]
  },
  {
   "cell_type": "code",
   "execution_count": 12,
   "id": "0a1c0d60",
   "metadata": {},
   "outputs": [
    {
     "name": "stdout",
     "output_type": "stream",
     "text": [
      "This is list1 : [1, 2, 3, 4]\n",
      "\n",
      "This is list2 : [5, 6, 3, 8]\n",
      "\n",
      "(3, True)\n"
     ]
    }
   ],
   "source": [
    "# 11. Write a Python function that takes two lists and returns True if they have at least one common member.\n",
    "\n",
    "def CommonNum(list1,list2):\n",
    "    for item in list1: \n",
    "        if item in list2:\n",
    "            return item, True\n",
    "    return item , False\n",
    "\n",
    "list1 = [1,2,3,4]\n",
    "list2 = [5,6,3,8]\n",
    "\n",
    "cmn_num = CommonNum(list1, list2)\n",
    "\n",
    "print(f\"This is list1 : {list1}\")\n",
    "print()\n",
    "print(f\"This is list2 : {list2}\")\n",
    "print()\n",
    "print(cmn_num)\n",
    "#print(Common_num)\n"
   ]
  },
  {
   "cell_type": "code",
   "execution_count": 26,
   "id": "f32e9e37",
   "metadata": {},
   "outputs": [
    {
     "name": "stdout",
     "output_type": "stream",
     "text": [
      "original:  ['Green', 'White', 'Black']\n",
      "\n",
      "filtered list:  ['Green', 'White', 'Black']\n"
     ]
    }
   ],
   "source": [
    "##Expected Output : ['Green', 'White', 'Black']\n",
    "li1 = ['Red', 'Green', 'White', 'Black', 'Pink', 'Yellow']\t\n",
    "\n",
    "li1.pop(5)\n",
    "li1.pop(4)\n",
    "li1.pop(0)\n",
    "\n",
    "print(\"original: \", li1)\n",
    "print()\n",
    "print(\"filtered list: \",li1)"
   ]
  },
  {
   "cell_type": "code",
   "execution_count": 30,
   "id": "e54db322",
   "metadata": {},
   "outputs": [
    {
     "name": "stdout",
     "output_type": "stream",
     "text": [
      "['Green', 'White', 'Black']\n"
     ]
    }
   ],
   "source": [
    "li1 = ['Red', 'Green', 'White', 'Black', 'Pink', 'Yellow']\n",
    "li1.remove(\"Red\")\n",
    "li1.remove(\"Pink\")\n",
    "li1.remove(\"Yellow\")\n",
    "print(li1)"
   ]
  },
  {
   "cell_type": "code",
   "execution_count": 32,
   "id": "6e7346fe",
   "metadata": {},
   "outputs": [
    {
     "name": "stdout",
     "output_type": "stream",
     "text": [
      "['Green', 'White', 'Black']\n"
     ]
    }
   ],
   "source": [
    "li1 = ['Red', 'Green', 'White', 'Black', 'Pink', 'Yellow']\n",
    "\n",
    "li1 = li1[1:4]\n",
    "print(li1)"
   ]
  },
  {
   "cell_type": "code",
   "execution_count": 35,
   "id": "cb0bf60a",
   "metadata": {},
   "outputs": [
    {
     "name": "stdout",
     "output_type": "stream",
     "text": [
      "Block 1:\n",
      "['*', '*', '*', '*', '*', '*']\n",
      "['*', '*', '*', '*', '*', '*']\n",
      "['*', '*', '*', '*', '*', '*']\n",
      "['*', '*', '*', '*', '*', '*']\n",
      "\n",
      "Block 2:\n",
      "['*', '*', '*', '*', '*', '*']\n",
      "['*', '*', '*', '*', '*', '*']\n",
      "['*', '*', '*', '*', '*', '*']\n",
      "['*', '*', '*', '*', '*', '*']\n",
      "\n",
      "Block 3:\n",
      "['*', '*', '*', '*', '*', '*']\n",
      "['*', '*', '*', '*', '*', '*']\n",
      "['*', '*', '*', '*', '*', '*']\n",
      "['*', '*', '*', '*', '*', '*']\n",
      "\n"
     ]
    }
   ],
   "source": [
    "1#3. Write a Python program to generate a 3*4*6 3D array whose each element is *\n",
    "\n",
    "array = [[['*' for _ in range(6)] for _ in range(4)] for _ in range(3)]\n",
    "\n",
    "for i, matrix in enumerate(array):\n",
    "    print(f\"Block {i + 1}:\")\n",
    "    for row in matrix:\n",
    "        print(row)\n",
    "    \n",
    "    print()\n"
   ]
  },
  {
   "cell_type": "code",
   "execution_count": 38,
   "id": "c9b8c9e3",
   "metadata": {},
   "outputs": [
    {
     "name": "stdout",
     "output_type": "stream",
     "text": [
      "Block 1:\n",
      "['*', '*', '*', '*', '*', '*']\n",
      "['*', '*', '*', '*', '*', '*']\n",
      "['*', '*', '*', '*', '*', '*']\n",
      "['*', '*', '*', '*', '*', '*']\n",
      "\n",
      "Block 2:\n",
      "['*', '*', '*', '*', '*', '*']\n",
      "['*', '*', '*', '*', '*', '*']\n",
      "['*', '*', '*', '*', '*', '*']\n",
      "['*', '*', '*', '*', '*', '*']\n",
      "\n",
      "Block 3:\n",
      "['*', '*', '*', '*', '*', '*']\n",
      "['*', '*', '*', '*', '*', '*']\n",
      "['*', '*', '*', '*', '*', '*']\n",
      "['*', '*', '*', '*', '*', '*']\n",
      "\n"
     ]
    }
   ],
   "source": [
    "array = [[['*' for _ in range(6)] for _ in range(4)] for _ in range(3)]\n",
    "\n",
    "for i, matrix in enumerate(array):\n",
    "    print(f\"Block {i + 1}:\")\n",
    "    for row in matrix:\n",
    "        print(row)\n",
    "    print()\n"
   ]
  },
  {
   "cell_type": "code",
   "execution_count": 37,
   "id": "ed73e7fb",
   "metadata": {},
   "outputs": [
    {
     "name": "stdout",
     "output_type": "stream",
     "text": [
      "[[['*' '*' '*' '*' '*' '*']\n",
      "  ['*' '*' '*' '*' '*' '*']\n",
      "  ['*' '*' '*' '*' '*' '*']\n",
      "  ['*' '*' '*' '*' '*' '*']]\n",
      "\n",
      " [['*' '*' '*' '*' '*' '*']\n",
      "  ['*' '*' '*' '*' '*' '*']\n",
      "  ['*' '*' '*' '*' '*' '*']\n",
      "  ['*' '*' '*' '*' '*' '*']]\n",
      "\n",
      " [['*' '*' '*' '*' '*' '*']\n",
      "  ['*' '*' '*' '*' '*' '*']\n",
      "  ['*' '*' '*' '*' '*' '*']\n",
      "  ['*' '*' '*' '*' '*' '*']]]\n"
     ]
    }
   ],
   "source": [
    "import numpy as np\n",
    "\n",
    "arr = np.full((3,4,6), '*', dtype = str)\n",
    "\n",
    "print(arr)"
   ]
  },
  {
   "cell_type": "code",
   "execution_count": 46,
   "id": "26766cb8",
   "metadata": {},
   "outputs": [
    {
     "name": "stdout",
     "output_type": "stream",
     "text": [
      "[1, 3, 5, 7, 5]\n"
     ]
    }
   ],
   "source": [
    "#Write a Python program to print the numbers of \n",
    "# a specified list after removing even numbers from it. \n",
    "\n",
    "li1 = [1,2,3,4,5,6,7,5,4,8,0,2]\n",
    "\n",
    "li2 = []\n",
    "\n",
    "for i in li1:\n",
    "    if i%2 != 0:\n",
    "        li2.append(i)\n",
    "\n",
    "print(li2)\n",
    "        \n"
   ]
  },
  {
   "cell_type": "code",
   "execution_count": 1,
   "id": "3761232d",
   "metadata": {},
   "outputs": [
    {
     "name": "stdout",
     "output_type": "stream",
     "text": [
      "[1, 2, 3, 4, 1, 2, 3, 4]\n",
      "True\n"
     ]
    }
   ],
   "source": [
    "list1 = [1, 2, 3, 4]\n",
    "list2 = [3, 4, 1, 2]\n",
    "\n",
    "concatenated = list1 * 2\n",
    "print(concatenated)\n",
    "\n",
    "found = False\n",
    "\n",
    "for i in range(len(list1)):\n",
    "    if concatenated[i:i+len(list1)] == list2:\n",
    "        found = True\n",
    "        break\n",
    "\n",
    "print(found)"
   ]
  },
  {
   "cell_type": "code",
   "execution_count": 4,
   "id": "e0afe7f3",
   "metadata": {},
   "outputs": [
    {
     "name": "stdout",
     "output_type": "stream",
     "text": [
      "The second smallest number is: 2\n"
     ]
    }
   ],
   "source": [
    "#27. Write a Python program to find the second smallest number in a list:\n",
    "\n",
    "\n",
    "def second_smallest(numbers):\n",
    "    \n",
    "    unique_num = list(set(numbers))\n",
    "\n",
    "    if len(unique_num) < 2:\n",
    "        return None\n",
    "    \n",
    "    unique_num.sort()\n",
    "    return unique_num[1]\n",
    "\n",
    "numbers = [1,1,12,2,23,43,2,1]\n",
    "res = second_smallest(numbers)\n",
    "\n",
    "if res is not None:\n",
    "    print(f\"The second smallest number is: {res}\")\n",
    "else:\n",
    "    print(\"The list does not have a second smallest number.\")\n"
   ]
  },
  {
   "cell_type": "code",
   "execution_count": 1,
   "id": "0c0029fe",
   "metadata": {},
   "outputs": [
    {
     "name": "stdout",
     "output_type": "stream",
     "text": [
      "This is the main logic.\n"
     ]
    }
   ],
   "source": [
    "def main():\n",
    "    print(\"This is the main logic.\")\n",
    "\n",
    "if __name__ == \"__main__\":\n",
    "    main()\n"
   ]
  },
  {
   "cell_type": "code",
   "execution_count": 15,
   "id": "653900e6",
   "metadata": {},
   "outputs": [
    {
     "name": "stdout",
     "output_type": "stream",
     "text": [
      "Sorted arr1: [2, 3, 200, 500, 700] → Max sum: 1405\n",
      "Sorted arr2: [10, 12, 17, 100, 200] → Max sum: 339\n"
     ]
    }
   ],
   "source": [
    "def max_increasing_sum(arr):\n",
    "    arr.sort() \n",
    "    max_sum = current_sum = arr[0]\n",
    "\n",
    "    for i in range(1, len(arr)):\n",
    "        if arr[i] > arr[i - 1]:\n",
    "            current_sum += arr[i]\n",
    "        else:\n",
    "            max_sum = max(max_sum, current_sum)\n",
    "            current_sum = arr[i]\n",
    "\n",
    "    max_sum = max(max_sum, current_sum)\n",
    "    return max_sum\n",
    "\n",
    "\n",
    "\n",
    "arr1 = [2, 3, 200, 500, 700]\n",
    "\n",
    "arr2 = [10, 12, 17, 100, 200]\n",
    "\n",
    "print(\"Sorted arr1:\", sorted(arr1), \"→ Max sum:\", max_increasing_sum(arr1))\n",
    "print(\"Sorted arr2:\", sorted(arr2), \"→ Max sum:\", max_increasing_sum(arr2))\n"
   ]
  },
  {
   "cell_type": "code",
   "execution_count": 28,
   "id": "f42da46e",
   "metadata": {},
   "outputs": [
    {
     "name": "stdout",
     "output_type": "stream",
     "text": [
      "(3, {'a': 3, 'b': 7, 'c': 5})\n"
     ]
    }
   ],
   "source": [
    "class Solution(object):\n",
    "    def lengthOfLongestSubstring(self, s):\n",
    "        max_len = 0\n",
    "        start = 0\n",
    "        seen = {}\n",
    "\n",
    "        for i, ch in enumerate(s):\n",
    "            if ch in seen and seen[ch] >= start:\n",
    "                start = seen[ch] + 1\n",
    "            seen[ch] = i\n",
    "            max_len = max(max_len, i - start + 1)\n",
    "\n",
    "        return max_len , seen\n",
    "\n",
    "s = \"aihdshaadsdsgg\"\n",
    "\n",
    "obj = Solution()\n",
    "print(obj.lengthOfLongestSubstring(\"abcabcbb\")) \n"
   ]
  },
  {
   "cell_type": "code",
   "execution_count": 29,
   "id": "82994b2d",
   "metadata": {},
   "outputs": [
    {
     "name": "stdout",
     "output_type": "stream",
     "text": [
      "Just seen a substring  0\n",
      "Just seen a substring  0\n",
      "Just seen a substring  0\n",
      "Just seen a substring  0\n",
      "Just seen a substring  0\n"
     ]
    }
   ],
   "source": [
    "string = \"abcabcbb\"\n",
    "substring = ''\n",
    "prev_char = ''\n",
    "for c in string:\n",
    "    if string >= prev_char:\n",
    "        # Still in alphabetical order!\n",
    "        # Keep accumulating characters in the substring\n",
    "        ...\n",
    "    else:\n",
    "        print(\"Just seen a substring\", substring, len(substring))\n",
    "        # Not in alphabetical order, so start a new substring\n",
    "        substring = ''\n",
    "    prev_char = c"
   ]
  },
  {
   "cell_type": "code",
   "execution_count": null,
   "id": "e91aaee0",
   "metadata": {},
   "outputs": [
    {
     "data": {
      "text/plain": [
       "(5, 'aihdshaadsdsgg')"
      ]
     },
     "execution_count": 33,
     "metadata": {},
     "output_type": "execute_result"
    }
   ],
   "source": [
    "def len_LongestSubstring(s):\n",
    "        maxLen = 1\n",
    "        if s == '':\n",
    "            return 0                      # Dealing with one edge case\n",
    "        for i in range(len(s)):\n",
    "            substring = s[i]              # Initialising the substring\n",
    "            for j in range(i+1, len(s)):  # Starting to append characters to substring from i+1\n",
    "                if s[j] not in substring: # As long as its not repeating. \"not in\" can be used to check if the character isn't already there in the substring\n",
    "                    substring = substring + s[j]\n",
    "                    maxLen = max(maxLen, len(substring)) # Updating maxLen if it is greater than the existing maxLen\n",
    "                else:\n",
    "                    break\n",
    "        return maxLen, \n",
    "\n",
    "string = \"abcabcbb\"\n",
    "len_LongestSubstring(s)"
   ]
  },
  {
   "cell_type": "code",
   "execution_count": null,
   "id": "837aa4f1",
   "metadata": {},
   "outputs": [],
   "source": []
  }
 ],
 "metadata": {
  "kernelspec": {
   "display_name": "Python 3",
   "language": "python",
   "name": "python3"
  },
  "language_info": {
   "codemirror_mode": {
    "name": "ipython",
    "version": 3
   },
   "file_extension": ".py",
   "mimetype": "text/x-python",
   "name": "python",
   "nbconvert_exporter": "python",
   "pygments_lexer": "ipython3",
   "version": "3.13.3"
  }
 },
 "nbformat": 4,
 "nbformat_minor": 5
}
