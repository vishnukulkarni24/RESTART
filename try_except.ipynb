{
 "cells": [
  {
   "cell_type": "code",
   "execution_count": 2,
   "id": "de3724f9",
   "metadata": {},
   "outputs": [
    {
     "name": "stdout",
     "output_type": "stream",
     "text": [
      "Result: 5.0\n"
     ]
    }
   ],
   "source": [
    "try:\n",
    "    x = int(input(\"Enter s number: \"))\n",
    "    result = 10 / x\n",
    "    print(\"Result:\",result)\n",
    "\n",
    "except ZeroDivisionError:\n",
    "    print(\"you cannot divide by zero\")\n",
    "except ValueError:\n",
    "    print(\"invalid input, please enter number\")"
   ]
  },
  {
   "cell_type": "code",
   "execution_count": 9,
   "id": "3014d6eb",
   "metadata": {},
   "outputs": [
    {
     "name": "stdout",
     "output_type": "stream",
     "text": [
      "1 is odd\n",
      "number is even:2\n",
      "3 is odd\n",
      "number is even:4\n",
      "5 is odd\n",
      "number is even:6\n",
      "7 is odd\n",
      "number is even:8\n",
      "9 is odd\n"
     ]
    }
   ],
   "source": [
    "def main():\n",
    " try:\n",
    "    li = [1,2,3,4,5,6,7,8,9]\n",
    "    for i in li:\n",
    "       if i % 2 == 0:\n",
    "          print(f\"number is even:{i}\")\n",
    "       else:\n",
    "          print(f\"{i} is odd\")\n",
    " except ValueError:\n",
    "    print(\"invalid Input\")\n",
    "\n",
    "if __name__ == \"__main__\":\n",
    "   main()"
   ]
  },
  {
   "cell_type": "code",
   "execution_count": 11,
   "id": "98531b77",
   "metadata": {},
   "outputs": [
    {
     "name": "stdout",
     "output_type": "stream",
     "text": [
      "1 is odd\n",
      "number is even:2\n",
      "3 is odd\n",
      "number is even:4\n",
      "5 is odd\n",
      "number is even:6\n",
      "7 is odd\n",
      "number is even:8\n",
      "9 is odd\n"
     ]
    }
   ],
   "source": [
    "def odd():\n",
    "    li = [1,2,3,4,5,6,7,8,9]\n",
    "    for i in li:\n",
    "       if i % 2 != 0:\n",
    "           print(\"yess, {i} is odd\")\n",
    "       else:\n",
    "           print(f\"{i} is even\")\n",
    "    \n",
    "if __name__ == \"__main__\":\n",
    "    main()"
   ]
  },
  {
   "cell_type": "code",
   "execution_count": 6,
   "id": "dcfde38d",
   "metadata": {},
   "outputs": [
    {
     "ename": "SyntaxError",
     "evalue": "invalid syntax (4181041780.py, line 1)",
     "output_type": "error",
     "traceback": [
      "  \u001b[36mCell\u001b[39m\u001b[36m \u001b[39m\u001b[32mIn[6]\u001b[39m\u001b[32m, line 1\u001b[39m\n\u001b[31m    \u001b[39m\u001b[31minfo(except)\u001b[39m\n         ^\n\u001b[31mSyntaxError\u001b[39m\u001b[31m:\u001b[39m invalid syntax\n"
     ]
    }
   ],
   "source": [
    "info(except)"
   ]
  },
  {
   "cell_type": "code",
   "execution_count": 12,
   "id": "f1034e8f",
   "metadata": {},
   "outputs": [
    {
     "name": "stdout",
     "output_type": "stream",
     "text": [
      "__main__\n"
     ]
    }
   ],
   "source": [
    "print(__name__)"
   ]
  },
  {
   "cell_type": "code",
   "execution_count": 15,
   "id": "472e6b77",
   "metadata": {},
   "outputs": [
    {
     "ename": "SyntaxError",
     "evalue": "invalid syntax (1978602892.py, line 1)",
     "output_type": "error",
     "traceback": [
      "  \u001b[36mCell\u001b[39m\u001b[36m \u001b[39m\u001b[32mIn[15]\u001b[39m\u001b[32m, line 1\u001b[39m\n\u001b[31m    \u001b[39m\u001b[31m$ python hello.Py\u001b[39m\n    ^\n\u001b[31mSyntaxError\u001b[39m\u001b[31m:\u001b[39m invalid syntax\n"
     ]
    }
   ],
   "source": [
    "$ python hello.Py "
   ]
  },
  {
   "cell_type": "code",
   "execution_count": 14,
   "id": "ea0d8ac4",
   "metadata": {},
   "outputs": [
    {
     "ename": "SyntaxError",
     "evalue": "invalid syntax (2163354887.py, line 1)",
     "output_type": "error",
     "traceback": [
      "  \u001b[36mCell\u001b[39m\u001b[36m \u001b[39m\u001b[32mIn[14]\u001b[39m\u001b[32m, line 1\u001b[39m\n\u001b[31m    \u001b[39m\u001b[31m$ python main.Py\u001b[39m\n    ^\n\u001b[31mSyntaxError\u001b[39m\u001b[31m:\u001b[39m invalid syntax\n"
     ]
    }
   ],
   "source": [
    "$ python main.Py"
   ]
  },
  {
   "cell_type": "code",
   "execution_count": null,
   "id": "6a79319e",
   "metadata": {},
   "outputs": [],
   "source": []
  }
 ],
 "metadata": {
  "kernelspec": {
   "display_name": "py311",
   "language": "python",
   "name": "python3"
  },
  "language_info": {
   "codemirror_mode": {
    "name": "ipython",
    "version": 3
   },
   "file_extension": ".py",
   "mimetype": "text/x-python",
   "name": "python",
   "nbconvert_exporter": "python",
   "pygments_lexer": "ipython3",
   "version": "3.11.13"
  }
 },
 "nbformat": 4,
 "nbformat_minor": 5
}
