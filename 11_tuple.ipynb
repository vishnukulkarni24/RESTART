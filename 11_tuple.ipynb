{
 "cells": [
  {
   "cell_type": "markdown",
   "id": "200bbc4c",
   "metadata": {},
   "source": [
    "# Tuple()"
   ]
  },
  {
   "cell_type": "markdown",
   "id": "259c76f9",
   "metadata": {},
   "source": [
    "## properties of tuple :\n",
    "\n",
    "\n",
    "\n",
    "- immutable Data Type(we can not modify tuple Or unchangable)\n",
    "- Order DataType\n",
    "- Allow Duplicates\n",
    "- Tuples are faster than lists\n",
    "- We can add different types of element\n",
    "- Tuples are defined by ()\n",
    "- All element are comma seperated."
   ]
  },
  {
   "cell_type": "markdown",
   "id": "3de17091",
   "metadata": {},
   "source": [
    "- Tuple defined by () round braces.\n"
   ]
  },
  {
   "cell_type": "code",
   "execution_count": 1,
   "id": "c2e6ee7f",
   "metadata": {},
   "outputs": [
    {
     "name": "stdout",
     "output_type": "stream",
     "text": [
      "<class 'tuple'>\n"
     ]
    }
   ],
   "source": [
    "tup1 = ()\n",
    "print(type(tup1))"
   ]
  },
  {
   "cell_type": "code",
   "execution_count": 2,
   "id": "31736f81",
   "metadata": {},
   "outputs": [
    {
     "data": {
      "text/plain": [
       "tuple"
      ]
     },
     "execution_count": 2,
     "metadata": {},
     "output_type": "execute_result"
    }
   ],
   "source": [
    "tup1 = ()\n",
    "type(tup1)"
   ]
  },
  {
   "cell_type": "code",
   "execution_count": 3,
   "id": "c6207858",
   "metadata": {},
   "outputs": [
    {
     "name": "stdout",
     "output_type": "stream",
     "text": [
      "(1, 2, 3, 4, 5, 6, 7, 8)\n"
     ]
    }
   ],
   "source": [
    "tu1 = (1,2,3,4,5,6,7,8)\n",
    "print(tu1)"
   ]
  },
  {
   "cell_type": "code",
   "execution_count": 4,
   "id": "8caf85af",
   "metadata": {},
   "outputs": [
    {
     "data": {
      "text/plain": [
       "1"
      ]
     },
     "execution_count": 4,
     "metadata": {},
     "output_type": "execute_result"
    }
   ],
   "source": [
    "tu1[0]"
   ]
  },
  {
   "cell_type": "code",
   "execution_count": 6,
   "id": "9a17c98b",
   "metadata": {},
   "outputs": [
    {
     "data": {
      "text/plain": [
       "(1, 3, 5)"
      ]
     },
     "execution_count": 6,
     "metadata": {},
     "output_type": "execute_result"
    }
   ],
   "source": [
    "tu1[0:6:2]"
   ]
  },
  {
   "cell_type": "code",
   "execution_count": 7,
   "id": "26f3230f",
   "metadata": {},
   "outputs": [],
   "source": [
    "var = ([1,2,3,4],\"python\",{1:2})"
   ]
  },
  {
   "cell_type": "code",
   "execution_count": 8,
   "id": "4535bf43",
   "metadata": {},
   "outputs": [
    {
     "data": {
      "text/plain": [
       "tuple"
      ]
     },
     "execution_count": 8,
     "metadata": {},
     "output_type": "execute_result"
    }
   ],
   "source": [
    "type(var)"
   ]
  },
  {
   "cell_type": "markdown",
   "id": "509f3840",
   "metadata": {},
   "source": [
    "# indexing and slicing"
   ]
  },
  {
   "cell_type": "code",
   "execution_count": 9,
   "id": "e5cf2ae0",
   "metadata": {},
   "outputs": [
    {
     "name": "stdout",
     "output_type": "stream",
     "text": [
      "(1, 1, 2, 2, 2, 3, 4, 5)\n"
     ]
    }
   ],
   "source": [
    "tu1 = (1,1,2,2,2,3,4,5)\n",
    "print(tu1)"
   ]
  },
  {
   "cell_type": "code",
   "execution_count": 12,
   "id": "7233ce7a",
   "metadata": {},
   "outputs": [
    {
     "name": "stdout",
     "output_type": "stream",
     "text": [
      "1\n",
      "1\n",
      "1\n",
      "2\n",
      "2\n",
      "2\n",
      "3\n",
      "2\n"
     ]
    },
    {
     "ename": "TypeError",
     "evalue": "'int' object is not iterable",
     "output_type": "error",
     "traceback": [
      "\u001b[31m---------------------------------------------------------------------------\u001b[39m",
      "\u001b[31mTypeError\u001b[39m                                 Traceback (most recent call last)",
      "\u001b[36mCell\u001b[39m\u001b[36m \u001b[39m\u001b[32mIn[12]\u001b[39m\u001b[32m, line 9\u001b[39m\n\u001b[32m      7\u001b[39m \u001b[38;5;28mprint\u001b[39m(tu1[\u001b[32m5\u001b[39m])\n\u001b[32m      8\u001b[39m \u001b[38;5;28mprint\u001b[39m(tu1[\u001b[32m3\u001b[39m])\n\u001b[32m----> \u001b[39m\u001b[32m9\u001b[39m \u001b[38;5;28mprint\u001b[39m(\u001b[38;5;28;43mlist\u001b[39;49m\u001b[43m(\u001b[49m\u001b[43mtu1\u001b[49m\u001b[43m[\u001b[49m\u001b[32;43m2\u001b[39;49m\u001b[43m]\u001b[49m\u001b[43m)\u001b[49m)\n",
      "\u001b[31mTypeError\u001b[39m: 'int' object is not iterable"
     ]
    }
   ],
   "source": [
    "print(tu1[0])\n",
    "print(tu1[1])\n",
    "print(tu1[1])\n",
    "print(tu1[2])\n",
    "print(tu1[3])\n",
    "print(tu1[4])\n",
    "print(tu1[5])\n",
    "print(tu1[3])\n",
    "print(list(tu1[2]))"
   ]
  },
  {
   "cell_type": "code",
   "execution_count": 13,
   "id": "055530fd",
   "metadata": {},
   "outputs": [
    {
     "data": {
      "text/plain": [
       "(1, 1, 2, 2, 2, 3, 4, 5)"
      ]
     },
     "execution_count": 13,
     "metadata": {},
     "output_type": "execute_result"
    }
   ],
   "source": [
    "tu1"
   ]
  },
  {
   "cell_type": "code",
   "execution_count": 14,
   "id": "77056c1d",
   "metadata": {},
   "outputs": [
    {
     "data": {
      "text/plain": [
       "5"
      ]
     },
     "execution_count": 14,
     "metadata": {},
     "output_type": "execute_result"
    }
   ],
   "source": [
    "tu1[-1]"
   ]
  },
  {
   "cell_type": "code",
   "execution_count": 16,
   "id": "cb50b5af",
   "metadata": {},
   "outputs": [
    {
     "data": {
      "text/plain": [
       "int"
      ]
     },
     "execution_count": 16,
     "metadata": {},
     "output_type": "execute_result"
    }
   ],
   "source": [
    "tu1 = 5\n",
    "type(tu1)"
   ]
  },
  {
   "cell_type": "code",
   "execution_count": 21,
   "id": "a1bfed40",
   "metadata": {},
   "outputs": [
    {
     "ename": "IndexError",
     "evalue": "list index out of range",
     "output_type": "error",
     "traceback": [
      "\u001b[31m---------------------------------------------------------------------------\u001b[39m",
      "\u001b[31mIndexError\u001b[39m                                Traceback (most recent call last)",
      "\u001b[36mCell\u001b[39m\u001b[36m \u001b[39m\u001b[32mIn[21]\u001b[39m\u001b[32m, line 1\u001b[39m\n\u001b[32m----> \u001b[39m\u001b[32m1\u001b[39m \u001b[43mtu1\u001b[49m\u001b[43m[\u001b[49m\u001b[43m-\u001b[49m\u001b[32;43m4\u001b[39;49m\u001b[43m]\u001b[49m\n",
      "\u001b[31mIndexError\u001b[39m: list index out of range"
     ]
    }
   ],
   "source": [
    "tu1[-4]"
   ]
  },
  {
   "cell_type": "code",
   "execution_count": 22,
   "id": "f9ff3c26",
   "metadata": {},
   "outputs": [
    {
     "data": {
      "text/plain": [
       "-4"
      ]
     },
     "execution_count": 22,
     "metadata": {},
     "output_type": "execute_result"
    }
   ],
   "source": [
    "tu1[-1]"
   ]
  },
  {
   "cell_type": "code",
   "execution_count": 24,
   "id": "46440712",
   "metadata": {},
   "outputs": [
    {
     "data": {
      "text/plain": [
       "[-4]"
      ]
     },
     "execution_count": 24,
     "metadata": {},
     "output_type": "execute_result"
    }
   ],
   "source": [
    "tu1[-1:-5:-1]"
   ]
  },
  {
   "cell_type": "code",
   "execution_count": 25,
   "id": "637d5d3f",
   "metadata": {},
   "outputs": [
    {
     "data": {
      "text/plain": [
       "[-4]"
      ]
     },
     "execution_count": 25,
     "metadata": {},
     "output_type": "execute_result"
    }
   ],
   "source": [
    "tu1"
   ]
  },
  {
   "cell_type": "code",
   "execution_count": 27,
   "id": "a3858ce6",
   "metadata": {},
   "outputs": [
    {
     "data": {
      "text/plain": [
       "(1, 1, 2, 2, 2, 3, 4, 5)"
      ]
     },
     "execution_count": 27,
     "metadata": {},
     "output_type": "execute_result"
    }
   ],
   "source": [
    "tu1 = (1, 1, 2, 2, 2, 3, 4, 5)\n",
    "tu1"
   ]
  },
  {
   "cell_type": "code",
   "execution_count": 28,
   "id": "136499e9",
   "metadata": {},
   "outputs": [
    {
     "data": {
      "text/plain": [
       "(2, 2, 3)"
      ]
     },
     "execution_count": 28,
     "metadata": {},
     "output_type": "execute_result"
    }
   ],
   "source": [
    "tu1[-5:-2]"
   ]
  },
  {
   "cell_type": "code",
   "execution_count": 29,
   "id": "132f3eeb",
   "metadata": {},
   "outputs": [
    {
     "data": {
      "text/plain": [
       "(5, 4, 3, 2)"
      ]
     },
     "execution_count": 29,
     "metadata": {},
     "output_type": "execute_result"
    }
   ],
   "source": [
    "tu1[-1:-5:-1]"
   ]
  },
  {
   "cell_type": "code",
   "execution_count": 30,
   "id": "462006e5",
   "metadata": {},
   "outputs": [
    {
     "data": {
      "text/plain": [
       "(1, 1, 2, 2, 2, 3, 4, 5)"
      ]
     },
     "execution_count": 30,
     "metadata": {},
     "output_type": "execute_result"
    }
   ],
   "source": [
    "tu1"
   ]
  },
  {
   "cell_type": "code",
   "execution_count": 31,
   "id": "cb7bf2e7",
   "metadata": {},
   "outputs": [
    {
     "data": {
      "text/plain": [
       "(1, 2, 2, 4)"
      ]
     },
     "execution_count": 31,
     "metadata": {},
     "output_type": "execute_result"
    }
   ],
   "source": [
    "tu1[::2]"
   ]
  },
  {
   "cell_type": "code",
   "execution_count": 36,
   "id": "04682d3f",
   "metadata": {},
   "outputs": [
    {
     "data": {
      "text/plain": [
       "(1, 2, 2, 2, 3, 4, 5)"
      ]
     },
     "execution_count": 36,
     "metadata": {},
     "output_type": "execute_result"
    }
   ],
   "source": [
    "tu1[1::1]"
   ]
  },
  {
   "cell_type": "markdown",
   "id": "062215d5",
   "metadata": {},
   "source": [
    "# delete items"
   ]
  },
  {
   "cell_type": "code",
   "execution_count": 38,
   "id": "44d8471e",
   "metadata": {},
   "outputs": [
    {
     "name": "stdout",
     "output_type": "stream",
     "text": [
      "(1, 2, 2, 2, 3, 4, 5, 5, 1, 2, 3)\n"
     ]
    }
   ],
   "source": [
    "tu1 = (1,2,2,2,3,4,5,5,1,2,3)\n",
    "print(tu1)"
   ]
  },
  {
   "cell_type": "code",
   "execution_count": 39,
   "id": "0f89d331",
   "metadata": {},
   "outputs": [
    {
     "ename": "TypeError",
     "evalue": "'tuple' object doesn't support item deletion",
     "output_type": "error",
     "traceback": [
      "\u001b[31m---------------------------------------------------------------------------\u001b[39m",
      "\u001b[31mTypeError\u001b[39m                                 Traceback (most recent call last)",
      "\u001b[36mCell\u001b[39m\u001b[36m \u001b[39m\u001b[32mIn[39]\u001b[39m\u001b[32m, line 1\u001b[39m\n\u001b[32m----> \u001b[39m\u001b[32m1\u001b[39m \u001b[38;5;28;01mdel\u001b[39;00m \u001b[43mtu1\u001b[49m\u001b[43m[\u001b[49m\u001b[32;43m4\u001b[39;49m\u001b[43m]\u001b[49m\n",
      "\u001b[31mTypeError\u001b[39m: 'tuple' object doesn't support item deletion"
     ]
    }
   ],
   "source": [
    "del tu1[4]"
   ]
  },
  {
   "cell_type": "code",
   "execution_count": 40,
   "id": "1fb4ebdc",
   "metadata": {},
   "outputs": [],
   "source": [
    "del tu1"
   ]
  },
  {
   "cell_type": "code",
   "execution_count": 41,
   "id": "b2a9f757",
   "metadata": {},
   "outputs": [
    {
     "ename": "NameError",
     "evalue": "name 'tu1' is not defined",
     "output_type": "error",
     "traceback": [
      "\u001b[31m---------------------------------------------------------------------------\u001b[39m",
      "\u001b[31mNameError\u001b[39m                                 Traceback (most recent call last)",
      "\u001b[36mCell\u001b[39m\u001b[36m \u001b[39m\u001b[32mIn[41]\u001b[39m\u001b[32m, line 1\u001b[39m\n\u001b[32m----> \u001b[39m\u001b[32m1\u001b[39m \u001b[43mtu1\u001b[49m\n",
      "\u001b[31mNameError\u001b[39m: name 'tu1' is not defined"
     ]
    }
   ],
   "source": [
    "tu1"
   ]
  },
  {
   "cell_type": "markdown",
   "id": "62e3e1b4",
   "metadata": {},
   "source": [
    "# tuple Operations:"
   ]
  },
  {
   "cell_type": "code",
   "execution_count": 42,
   "id": "68baee34",
   "metadata": {},
   "outputs": [
    {
     "data": {
      "text/plain": [
       "('Abhi', 'pratik', 'Swati')"
      ]
     },
     "execution_count": 42,
     "metadata": {},
     "output_type": "execute_result"
    }
   ],
   "source": [
    "student_names = \"Abhi\",\"pratik\",\"Swati\"\n",
    "class_names = \"7\",\"8\",\"9\"\n",
    "student_names"
   ]
  },
  {
   "cell_type": "code",
   "execution_count": 43,
   "id": "b0954900",
   "metadata": {},
   "outputs": [
    {
     "data": {
      "text/plain": [
       "('7', '8', '9')"
      ]
     },
     "execution_count": 43,
     "metadata": {},
     "output_type": "execute_result"
    }
   ],
   "source": [
    "class_names"
   ]
  },
  {
   "cell_type": "code",
   "execution_count": 45,
   "id": "0886eaae",
   "metadata": {},
   "outputs": [
    {
     "data": {
      "text/plain": [
       "('Abhi', 'pratik', 'Swati', '7', '8', '9')"
      ]
     },
     "execution_count": 45,
     "metadata": {},
     "output_type": "execute_result"
    }
   ],
   "source": [
    "student_names + class_names"
   ]
  },
  {
   "cell_type": "code",
   "execution_count": 46,
   "id": "3ae9e79f",
   "metadata": {},
   "outputs": [
    {
     "data": {
      "text/plain": [
       "'pythonpyhton'"
      ]
     },
     "execution_count": 46,
     "metadata": {},
     "output_type": "execute_result"
    }
   ],
   "source": [
    "\"python\" + \"pyhton\""
   ]
  },
  {
   "cell_type": "code",
   "execution_count": 47,
   "id": "89bbc3c8",
   "metadata": {},
   "outputs": [
    {
     "data": {
      "text/plain": [
       "'python pyhton'"
      ]
     },
     "execution_count": 47,
     "metadata": {},
     "output_type": "execute_result"
    }
   ],
   "source": [
    "\"python\" +\" \"+\"pyhton\""
   ]
  },
  {
   "cell_type": "code",
   "execution_count": 48,
   "id": "3eb16fab",
   "metadata": {},
   "outputs": [
    {
     "data": {
      "text/plain": [
       "[1, 2, 3, 4, 5, 6]"
      ]
     },
     "execution_count": 48,
     "metadata": {},
     "output_type": "execute_result"
    }
   ],
   "source": [
    "[1,2,3] + [4,5,6]"
   ]
  },
  {
   "cell_type": "code",
   "execution_count": 51,
   "id": "8c507d5c",
   "metadata": {},
   "outputs": [
    {
     "name": "stdout",
     "output_type": "stream",
     "text": [
      "('Vishnu', 'Pratik', 'Swati') <class 'tuple'>\n",
      "('7', '8', '9') <class 'tuple'>\n",
      "('Vishnu', 'Pratik', 'Swati', '7', '8', '9') <class 'tuple'>\n"
     ]
    }
   ],
   "source": [
    "student_names = \"Vishnu\",\"Pratik\",\"Swati\"\n",
    "class_names = \"7\",\"8\",\"9\"\n",
    "combine_tuple = student_names + class_names\n",
    "print(student_names,type(student_names))\n",
    "print(class_names,type(class_names))\n",
    "print(combine_tuple,type(combine_tuple))"
   ]
  },
  {
   "cell_type": "code",
   "execution_count": 52,
   "id": "8616268b",
   "metadata": {},
   "outputs": [
    {
     "name": "stdout",
     "output_type": "stream",
     "text": [
      "0 Abhi\n",
      "1 Pratik\n",
      "2 Swati\n"
     ]
    }
   ],
   "source": [
    "student_names = (\"Abhi\",\"Pratik\",\"Swati\")\n",
    "\n",
    "for ind,val in enumerate(student_names):\n",
    "    print(ind,val)"
   ]
  },
  {
   "cell_type": "code",
   "execution_count": 53,
   "id": "185f56ab",
   "metadata": {},
   "outputs": [
    {
     "name": "stdout",
     "output_type": "stream",
     "text": [
      "Abhi\n",
      "Pratik\n",
      "Swati\n"
     ]
    }
   ],
   "source": [
    "student_names = (\"Abhi\",\"Pratik\",\"Swati\")\n",
    "\n",
    "ind = 0\n",
    "while ind < len(student_names):\n",
    "    print(student_names[ind])\n",
    "    ind += 1\n",
    "    "
   ]
  },
  {
   "cell_type": "code",
   "execution_count": 62,
   "id": "51619238",
   "metadata": {},
   "outputs": [
    {
     "data": {
      "text/plain": [
       "True"
      ]
     },
     "execution_count": 62,
     "metadata": {},
     "output_type": "execute_result"
    }
   ],
   "source": [
    "student_names = (\"Abhi\",\"Pratik\",\"ameya\",\"vishnu\")\n",
    "\"vishnu\" in student_names"
   ]
  },
  {
   "cell_type": "code",
   "execution_count": 63,
   "id": "38d7409a",
   "metadata": {},
   "outputs": [
    {
     "data": {
      "text/plain": [
       "False"
      ]
     },
     "execution_count": 63,
     "metadata": {},
     "output_type": "execute_result"
    }
   ],
   "source": [
    "student_names = (\"Abhi\",\"Pratik\",\"Swati\")\n",
    "\"Abhishek\" in student_names"
   ]
  },
  {
   "cell_type": "code",
   "execution_count": 64,
   "id": "513630c6",
   "metadata": {},
   "outputs": [
    {
     "data": {
      "text/plain": [
       "False"
      ]
     },
     "execution_count": 64,
     "metadata": {},
     "output_type": "execute_result"
    }
   ],
   "source": [
    "student_names = (\"Abhi\",\"Pratik\",\"Swati\")\n",
    "\"Abhi\" not in student_names"
   ]
  },
  {
   "cell_type": "markdown",
   "id": "60d7a850",
   "metadata": {},
   "source": [
    "# index"
   ]
  },
  {
   "cell_type": "code",
   "execution_count": 68,
   "id": "84317eb2",
   "metadata": {},
   "outputs": [
    {
     "data": {
      "text/plain": [
       "0"
      ]
     },
     "execution_count": 68,
     "metadata": {},
     "output_type": "execute_result"
    }
   ],
   "source": [
    "tup1 = (1,1,1,1,2,3,4,5)\n",
    "tup1.index(1)"
   ]
  },
  {
   "cell_type": "code",
   "execution_count": 70,
   "id": "eca817b0",
   "metadata": {},
   "outputs": [
    {
     "data": {
      "text/plain": [
       "0"
      ]
     },
     "execution_count": 70,
     "metadata": {},
     "output_type": "execute_result"
    }
   ],
   "source": [
    "tup1 = (1,1,1,1,2,3,4,5)\n",
    "tup1.index(1)"
   ]
  },
  {
   "cell_type": "code",
   "execution_count": null,
   "id": "373cff96",
   "metadata": {},
   "outputs": [
    {
     "data": {
      "text/plain": [
       "1"
      ]
     },
     "execution_count": 73,
     "metadata": {},
     "output_type": "execute_result"
    }
   ],
   "source": [
    "tup1.index(1,1,1)"
   ]
  },
  {
   "cell_type": "code",
   "execution_count": 75,
   "id": "6f414f53",
   "metadata": {},
   "outputs": [
    {
     "data": {
      "text/plain": [
       "4"
      ]
     },
     "execution_count": 75,
     "metadata": {},
     "output_type": "execute_result"
    }
   ],
   "source": [
    "tu1 = (1,1,1,1,2,3,4,5)\n",
    "tu1.index(2,1,5)"
   ]
  },
  {
   "cell_type": "code",
   "execution_count": 77,
   "id": "24c9376e",
   "metadata": {},
   "outputs": [
    {
     "data": {
      "text/plain": [
       "(1, 1, 1, 2)"
      ]
     },
     "execution_count": 77,
     "metadata": {},
     "output_type": "execute_result"
    }
   ],
   "source": [
    "tu1[1:5] #→ (1, 1, 1, 2)\n"
   ]
  },
  {
   "cell_type": "code",
   "execution_count": 78,
   "id": "389c8cc4",
   "metadata": {},
   "outputs": [
    {
     "ename": "ValueError",
     "evalue": "tuple.index(x): x not in tuple",
     "output_type": "error",
     "traceback": [
      "\u001b[31m---------------------------------------------------------------------------\u001b[39m",
      "\u001b[31mValueError\u001b[39m                                Traceback (most recent call last)",
      "\u001b[36mCell\u001b[39m\u001b[36m \u001b[39m\u001b[32mIn[78]\u001b[39m\u001b[32m, line 2\u001b[39m\n\u001b[32m      1\u001b[39m tu1 = (\u001b[32m1\u001b[39m,\u001b[32m1\u001b[39m,\u001b[32m1\u001b[39m,\u001b[32m1\u001b[39m,\u001b[32m2\u001b[39m,\u001b[32m3\u001b[39m,\u001b[32m4\u001b[39m,\u001b[32m5\u001b[39m)\n\u001b[32m----> \u001b[39m\u001b[32m2\u001b[39m \u001b[43mtu1\u001b[49m\u001b[43m.\u001b[49m\u001b[43mindex\u001b[49m\u001b[43m(\u001b[49m\u001b[32;43m100\u001b[39;49m\u001b[43m)\u001b[49m\n",
      "\u001b[31mValueError\u001b[39m: tuple.index(x): x not in tuple"
     ]
    }
   ],
   "source": [
    "tu1 = (1,1,1,1,2,3,4,5)\n",
    "tu1.index(100)"
   ]
  },
  {
   "cell_type": "code",
   "execution_count": 79,
   "id": "e20660b7",
   "metadata": {},
   "outputs": [
    {
     "name": "stdout",
     "output_type": "stream",
     "text": [
      "<class 'tuple'>\n",
      "<class 'list'>\n",
      "<class 'tuple'>\n"
     ]
    }
   ],
   "source": [
    "num = (1,2,3,4,5)\n",
    "print(type(num))\n",
    "num = [1,2,3,4,5]\n",
    "print(type(num))\n",
    "print(type(tuple(num)))"
   ]
  },
  {
   "cell_type": "markdown",
   "id": "7998da5c",
   "metadata": {},
   "source": [
    "# indexing and slicing"
   ]
  },
  {
   "cell_type": "code",
   "execution_count": 1,
   "id": "18b59ef9",
   "metadata": {},
   "outputs": [
    {
     "name": "stdout",
     "output_type": "stream",
     "text": [
      "(1, 1, 1, 1, 2, 3, 4, 5)\n"
     ]
    }
   ],
   "source": [
    "tu1 = (1,1,1,1,2,3,4,5)\n",
    "print(tu1)"
   ]
  },
  {
   "cell_type": "code",
   "execution_count": 2,
   "id": "fb9e02c7",
   "metadata": {},
   "outputs": [
    {
     "name": "stdout",
     "output_type": "stream",
     "text": [
      "1\n"
     ]
    }
   ],
   "source": [
    "print(tu1[0])"
   ]
  },
  {
   "cell_type": "code",
   "execution_count": 3,
   "id": "22639f6c",
   "metadata": {},
   "outputs": [
    {
     "name": "stdout",
     "output_type": "stream",
     "text": [
      "1\n"
     ]
    }
   ],
   "source": [
    "print(tu1[1])"
   ]
  },
  {
   "cell_type": "code",
   "execution_count": 4,
   "id": "17afa756",
   "metadata": {},
   "outputs": [
    {
     "name": "stdout",
     "output_type": "stream",
     "text": [
      "1\n"
     ]
    }
   ],
   "source": [
    "print(tu1[2])"
   ]
  },
  {
   "cell_type": "code",
   "execution_count": 5,
   "id": "8e8d973b",
   "metadata": {},
   "outputs": [
    {
     "name": "stdout",
     "output_type": "stream",
     "text": [
      "1\n",
      "2\n",
      "3\n",
      "4\n",
      "5\n"
     ]
    }
   ],
   "source": [
    "print(tu1[3])\n",
    "print(tu1[4])\n",
    "print(tu1[5])\n",
    "print(tu1[6])\n",
    "print(tu1[7])"
   ]
  },
  {
   "cell_type": "code",
   "execution_count": 6,
   "id": "24ae287f",
   "metadata": {},
   "outputs": [
    {
     "ename": "IndexError",
     "evalue": "tuple index out of range",
     "output_type": "error",
     "traceback": [
      "\u001b[31m---------------------------------------------------------------------------\u001b[39m",
      "\u001b[31mIndexError\u001b[39m                                Traceback (most recent call last)",
      "\u001b[36mCell\u001b[39m\u001b[36m \u001b[39m\u001b[32mIn[6]\u001b[39m\u001b[32m, line 1\u001b[39m\n\u001b[32m----> \u001b[39m\u001b[32m1\u001b[39m \u001b[38;5;28mprint\u001b[39m(\u001b[43mtu1\u001b[49m\u001b[43m[\u001b[49m\u001b[32;43m8\u001b[39;49m\u001b[43m]\u001b[49m)\n\u001b[32m      2\u001b[39m \u001b[38;5;28mprint\u001b[39m(tu1[\u001b[32m9\u001b[39m])\n",
      "\u001b[31mIndexError\u001b[39m: tuple index out of range"
     ]
    }
   ],
   "source": [
    "print(tu1[8])\n",
    "print(tu1[9])"
   ]
  },
  {
   "cell_type": "code",
   "execution_count": 7,
   "id": "bedd160e",
   "metadata": {},
   "outputs": [
    {
     "data": {
      "text/plain": [
       "(1, 1, 1, 1, 2, 3, 4, 5)"
      ]
     },
     "execution_count": 7,
     "metadata": {},
     "output_type": "execute_result"
    }
   ],
   "source": [
    "tu1"
   ]
  },
  {
   "cell_type": "code",
   "execution_count": 8,
   "id": "08ea02df",
   "metadata": {},
   "outputs": [
    {
     "data": {
      "text/plain": [
       "5"
      ]
     },
     "execution_count": 8,
     "metadata": {},
     "output_type": "execute_result"
    }
   ],
   "source": [
    "tu1[-1]"
   ]
  },
  {
   "cell_type": "code",
   "execution_count": 9,
   "id": "6d6fdfac",
   "metadata": {},
   "outputs": [
    {
     "ename": "IndexError",
     "evalue": "tuple index out of range",
     "output_type": "error",
     "traceback": [
      "\u001b[31m---------------------------------------------------------------------------\u001b[39m",
      "\u001b[31mIndexError\u001b[39m                                Traceback (most recent call last)",
      "\u001b[36mCell\u001b[39m\u001b[36m \u001b[39m\u001b[32mIn[9]\u001b[39m\u001b[32m, line 1\u001b[39m\n\u001b[32m----> \u001b[39m\u001b[32m1\u001b[39m \u001b[43mtu1\u001b[49m\u001b[43m[\u001b[49m\u001b[43m-\u001b[49m\u001b[32;43m10\u001b[39;49m\u001b[43m]\u001b[49m\n",
      "\u001b[31mIndexError\u001b[39m: tuple index out of range"
     ]
    }
   ],
   "source": [
    "tu1[-10]"
   ]
  },
  {
   "cell_type": "code",
   "execution_count": 12,
   "id": "182d5f6a",
   "metadata": {},
   "outputs": [],
   "source": [
    "tu1 = (5,)  #defining single digit tuple"
   ]
  },
  {
   "cell_type": "code",
   "execution_count": 11,
   "id": "c0877eb4",
   "metadata": {},
   "outputs": [
    {
     "data": {
      "text/plain": [
       "tuple"
      ]
     },
     "execution_count": 11,
     "metadata": {},
     "output_type": "execute_result"
    }
   ],
   "source": [
    "type(tu1)"
   ]
  },
  {
   "cell_type": "code",
   "execution_count": 13,
   "id": "fae7a789",
   "metadata": {},
   "outputs": [
    {
     "name": "stdout",
     "output_type": "stream",
     "text": [
      "(1, 1, 1, 1, 2, 3, 4, 5)\n"
     ]
    }
   ],
   "source": [
    "tu1 = (1,1,1,1,2,3,4,5)\n",
    "print(tu1)"
   ]
  },
  {
   "cell_type": "code",
   "execution_count": 14,
   "id": "15ac65d4",
   "metadata": {},
   "outputs": [
    {
     "data": {
      "text/plain": [
       "(1, 1, 1, 1, 2)"
      ]
     },
     "execution_count": 14,
     "metadata": {},
     "output_type": "execute_result"
    }
   ],
   "source": [
    "tu1[0:5]"
   ]
  },
  {
   "cell_type": "code",
   "execution_count": 15,
   "id": "32a70154",
   "metadata": {},
   "outputs": [
    {
     "data": {
      "text/plain": [
       "(3, 4, 5)"
      ]
     },
     "execution_count": 15,
     "metadata": {},
     "output_type": "execute_result"
    }
   ],
   "source": [
    "tu1[5:]"
   ]
  },
  {
   "cell_type": "code",
   "execution_count": 16,
   "id": "0567bbb8",
   "metadata": {},
   "outputs": [
    {
     "data": {
      "text/plain": [
       "(1, 2, 3, 4)"
      ]
     },
     "execution_count": 16,
     "metadata": {},
     "output_type": "execute_result"
    }
   ],
   "source": [
    "tu1[-5:-1]"
   ]
  },
  {
   "cell_type": "code",
   "execution_count": 17,
   "id": "d8801b7b",
   "metadata": {},
   "outputs": [
    {
     "data": {
      "text/plain": [
       "()"
      ]
     },
     "execution_count": 17,
     "metadata": {},
     "output_type": "execute_result"
    }
   ],
   "source": [
    "tu1[-5:-1:-1]"
   ]
  },
  {
   "cell_type": "code",
   "execution_count": 18,
   "id": "f79a08e3",
   "metadata": {},
   "outputs": [
    {
     "data": {
      "text/plain": [
       "(5, 4, 3, 2)"
      ]
     },
     "execution_count": 18,
     "metadata": {},
     "output_type": "execute_result"
    }
   ],
   "source": [
    "tu1[-1:-5:-1]"
   ]
  },
  {
   "cell_type": "code",
   "execution_count": 19,
   "id": "9713450b",
   "metadata": {},
   "outputs": [
    {
     "data": {
      "text/plain": [
       "(1, 1, 1, 1, 2, 3, 4, 5)"
      ]
     },
     "execution_count": 19,
     "metadata": {},
     "output_type": "execute_result"
    }
   ],
   "source": [
    "tu1"
   ]
  },
  {
   "cell_type": "code",
   "execution_count": 20,
   "id": "8cd2565e",
   "metadata": {},
   "outputs": [
    {
     "data": {
      "text/plain": [
       "(1, 1, 2, 4)"
      ]
     },
     "execution_count": 20,
     "metadata": {},
     "output_type": "execute_result"
    }
   ],
   "source": [
    "tu1[::2]"
   ]
  },
  {
   "cell_type": "code",
   "execution_count": 21,
   "id": "24d8ee13",
   "metadata": {},
   "outputs": [
    {
     "data": {
      "text/plain": [
       "(1, 1, 3, 5)"
      ]
     },
     "execution_count": 21,
     "metadata": {},
     "output_type": "execute_result"
    }
   ],
   "source": [
    "tu1[1::2]"
   ]
  },
  {
   "cell_type": "code",
   "execution_count": 22,
   "id": "99b09892",
   "metadata": {},
   "outputs": [
    {
     "data": {
      "text/plain": [
       "(5, 4, 3, 2, 1, 1, 1, 1)"
      ]
     },
     "execution_count": 22,
     "metadata": {},
     "output_type": "execute_result"
    }
   ],
   "source": [
    "tu1[::-1]"
   ]
  },
  {
   "cell_type": "markdown",
   "id": "f6a8bd7e",
   "metadata": {},
   "source": [
    "# Delete Items"
   ]
  },
  {
   "cell_type": "code",
   "execution_count": 24,
   "id": "1d1baaab",
   "metadata": {},
   "outputs": [],
   "source": [
    "tu1 = (1,1,1,1,1,2,2,32,3,4)"
   ]
  },
  {
   "cell_type": "code",
   "execution_count": 25,
   "id": "f96c2085",
   "metadata": {},
   "outputs": [
    {
     "ename": "TypeError",
     "evalue": "'tuple' object doesn't support item deletion",
     "output_type": "error",
     "traceback": [
      "\u001b[31m---------------------------------------------------------------------------\u001b[39m",
      "\u001b[31mTypeError\u001b[39m                                 Traceback (most recent call last)",
      "\u001b[36mCell\u001b[39m\u001b[36m \u001b[39m\u001b[32mIn[25]\u001b[39m\u001b[32m, line 1\u001b[39m\n\u001b[32m----> \u001b[39m\u001b[32m1\u001b[39m \u001b[38;5;28;01mdel\u001b[39;00m \u001b[43mtu1\u001b[49m\u001b[43m[\u001b[49m\u001b[32;43m1\u001b[39;49m\u001b[43m]\u001b[49m\n",
      "\u001b[31mTypeError\u001b[39m: 'tuple' object doesn't support item deletion"
     ]
    }
   ],
   "source": [
    "del tu1[1]"
   ]
  },
  {
   "cell_type": "code",
   "execution_count": 26,
   "id": "cd07029f",
   "metadata": {},
   "outputs": [],
   "source": [
    "del tu1"
   ]
  },
  {
   "cell_type": "code",
   "execution_count": 27,
   "id": "0bd3b636",
   "metadata": {},
   "outputs": [
    {
     "ename": "NameError",
     "evalue": "name 'tu1' is not defined",
     "output_type": "error",
     "traceback": [
      "\u001b[31m---------------------------------------------------------------------------\u001b[39m",
      "\u001b[31mNameError\u001b[39m                                 Traceback (most recent call last)",
      "\u001b[36mCell\u001b[39m\u001b[36m \u001b[39m\u001b[32mIn[27]\u001b[39m\u001b[32m, line 1\u001b[39m\n\u001b[32m----> \u001b[39m\u001b[32m1\u001b[39m \u001b[43mtu1\u001b[49m\n",
      "\u001b[31mNameError\u001b[39m: name 'tu1' is not defined"
     ]
    }
   ],
   "source": [
    "tu1"
   ]
  },
  {
   "cell_type": "markdown",
   "id": "9150fc56",
   "metadata": {},
   "source": [
    "# Tuple Operations"
   ]
  },
  {
   "cell_type": "code",
   "execution_count": 28,
   "id": "203fe527",
   "metadata": {},
   "outputs": [
    {
     "name": "stdout",
     "output_type": "stream",
     "text": [
      "('Abhi', 'Pratik', 'Vishnu') <class 'tuple'>\n",
      "('7', '8', '9') <class 'tuple'>\n",
      "('Abhi', 'Pratik', 'Vishnu', '7', '8', '9') <class 'tuple'>\n"
     ]
    }
   ],
   "source": [
    "student_names = \"Abhi\", \"Pratik\",\"Vishnu\"\n",
    "class_names = \"7\",\"8\",\"9\"\n",
    "combine_tuple = student_names + class_names\n",
    "print(student_names,type(student_names))\n",
    "print(class_names,type(class_names))\n",
    "print(combine_tuple,type(combine_tuple))"
   ]
  },
  {
   "cell_type": "code",
   "execution_count": 29,
   "id": "5d037b9e",
   "metadata": {},
   "outputs": [
    {
     "data": {
      "text/plain": [
       "('Abhi', 'Pratik', 'Vishnu')"
      ]
     },
     "execution_count": 29,
     "metadata": {},
     "output_type": "execute_result"
    }
   ],
   "source": [
    "student_names"
   ]
  },
  {
   "cell_type": "code",
   "execution_count": 30,
   "id": "914f693c",
   "metadata": {},
   "outputs": [
    {
     "name": "stdout",
     "output_type": "stream",
     "text": [
      "('Abhi', 'Pratik', 'Vishnu', 'Abhi', 'Pratik', 'Vishnu', 'Abhi', 'Pratik', 'Vishnu', 'Abhi', 'Pratik', 'Vishnu', 'Abhi', 'Pratik', 'Vishnu')\n"
     ]
    }
   ],
   "source": [
    "print(student_names * 5)"
   ]
  },
  {
   "cell_type": "markdown",
   "id": "89c25b60",
   "metadata": {},
   "source": [
    "## Access elements using for loop and while loop"
   ]
  },
  {
   "cell_type": "code",
   "execution_count": 31,
   "id": "c02e93aa",
   "metadata": {},
   "outputs": [],
   "source": [
    "student_names = ('Abhi', 'Pratik', 'Vishnu')"
   ]
  },
  {
   "cell_type": "code",
   "execution_count": 32,
   "id": "5cf8aa8c",
   "metadata": {},
   "outputs": [
    {
     "name": "stdout",
     "output_type": "stream",
     "text": [
      "Abhi\n",
      "Pratik\n",
      "Vishnu\n"
     ]
    }
   ],
   "source": [
    "for name in student_names:\n",
    "    print(name)"
   ]
  },
  {
   "cell_type": "code",
   "execution_count": 33,
   "id": "8453db11",
   "metadata": {},
   "outputs": [
    {
     "name": "stdout",
     "output_type": "stream",
     "text": [
      "0 Abhi\n",
      "1 Pratik\n",
      "2 Vishnu\n"
     ]
    }
   ],
   "source": [
    "student_names = ('Abhi', 'Pratik', 'Vishnu')\n",
    "\n",
    "for ind,val in enumerate(student_names):\n",
    "    print(ind,val)"
   ]
  },
  {
   "cell_type": "code",
   "execution_count": 1,
   "id": "8ae5458f",
   "metadata": {},
   "outputs": [
    {
     "name": "stdout",
     "output_type": "stream",
     "text": [
      "Abhi\n",
      "Pratik\n",
      "Vishnu\n"
     ]
    }
   ],
   "source": [
    "student_names = ('Abhi', 'Pratik', 'Vishnu')\n",
    "\n",
    "ind = 0\n",
    "while ind < len(student_names):\n",
    "    print(student_names[ind])\n",
    "    ind += 1"
   ]
  },
  {
   "cell_type": "markdown",
   "id": "a55c881c",
   "metadata": {},
   "source": [
    "# Membership Operators"
   ]
  },
  {
   "cell_type": "code",
   "execution_count": 3,
   "id": "cc41f5d3",
   "metadata": {},
   "outputs": [
    {
     "data": {
      "text/plain": [
       "False"
      ]
     },
     "execution_count": 3,
     "metadata": {},
     "output_type": "execute_result"
    }
   ],
   "source": [
    "student_names = (\"Soham\",\"Pratik\",\"Ute\")\n",
    "\"Abhi\" in student_names"
   ]
  },
  {
   "cell_type": "code",
   "execution_count": 4,
   "id": "7b66cfa3",
   "metadata": {},
   "outputs": [
    {
     "data": {
      "text/plain": [
       "True"
      ]
     },
     "execution_count": 4,
     "metadata": {},
     "output_type": "execute_result"
    }
   ],
   "source": [
    "student_names = (\"Soham\",\"Pratik\",\"Ute\")\n",
    "\"Ute\" in student_names"
   ]
  },
  {
   "cell_type": "code",
   "execution_count": 5,
   "id": "152e4529",
   "metadata": {},
   "outputs": [
    {
     "data": {
      "text/plain": [
       "False"
      ]
     },
     "execution_count": 5,
     "metadata": {},
     "output_type": "execute_result"
    }
   ],
   "source": [
    "student_names = (\"Soham\",\"Pratik\",\"Ute\")\n",
    "\"Ute\" not in student_names"
   ]
  },
  {
   "cell_type": "code",
   "execution_count": 6,
   "id": "d24f658a",
   "metadata": {},
   "outputs": [
    {
     "data": {
      "text/plain": [
       "True"
      ]
     },
     "execution_count": 6,
     "metadata": {},
     "output_type": "execute_result"
    }
   ],
   "source": [
    "\"Vishnu\" not in student_names"
   ]
  },
  {
   "cell_type": "code",
   "execution_count": 7,
   "id": "4120714f",
   "metadata": {},
   "outputs": [
    {
     "name": "stdout",
     "output_type": "stream",
     "text": [
      "Student name is present\n"
     ]
    }
   ],
   "source": [
    "student_names = (\"Abhi\",\"Pratik\",\"Swati\")\n",
    "if \"Abhi\" in student_names:\n",
    "    print(\"Student name is present\")\n",
    "else:\n",
    "    print(\"Student name is absent\")"
   ]
  },
  {
   "cell_type": "code",
   "execution_count": 8,
   "id": "faf12979",
   "metadata": {},
   "outputs": [
    {
     "name": "stdout",
     "output_type": "stream",
     "text": [
      "Student name is absent\n"
     ]
    }
   ],
   "source": [
    "student_names = (\"Abhi\",\"Pratik\",\"Swati\")\n",
    "if \"Abhishek\" in student_names:\n",
    "    print(\"Student name is present\")\n",
    "else:\n",
    "    print(\"Student name is absent\")"
   ]
  },
  {
   "cell_type": "markdown",
   "id": "ada22956",
   "metadata": {},
   "source": [
    "### Tuple Function\n",
    "\n",
    "- count\n",
    "- index"
   ]
  },
  {
   "cell_type": "markdown",
   "id": "4e9e0f6c",
   "metadata": {},
   "source": [
    "### Count"
   ]
  },
  {
   "cell_type": "code",
   "execution_count": 11,
   "id": "cfc25a33",
   "metadata": {},
   "outputs": [],
   "source": [
    "tu1 = (1,1,1,2,3,3,5,4,6)"
   ]
  },
  {
   "cell_type": "code",
   "execution_count": 12,
   "id": "7914dc07",
   "metadata": {},
   "outputs": [
    {
     "data": {
      "text/plain": [
       "3"
      ]
     },
     "execution_count": 12,
     "metadata": {},
     "output_type": "execute_result"
    }
   ],
   "source": [
    "tu1.count(1)"
   ]
  },
  {
   "cell_type": "code",
   "execution_count": 13,
   "id": "0003869b",
   "metadata": {},
   "outputs": [
    {
     "data": {
      "text/plain": [
       "2"
      ]
     },
     "execution_count": 13,
     "metadata": {},
     "output_type": "execute_result"
    }
   ],
   "source": [
    "tu1.count(3)"
   ]
  },
  {
   "cell_type": "code",
   "execution_count": 14,
   "id": "abdcfb34",
   "metadata": {},
   "outputs": [
    {
     "data": {
      "text/plain": [
       "0"
      ]
     },
     "execution_count": 14,
     "metadata": {},
     "output_type": "execute_result"
    }
   ],
   "source": [
    "tu1 = (1,1,1,1,2,3,4,5)\n",
    "tu1.count(1000)"
   ]
  },
  {
   "cell_type": "markdown",
   "id": "cb34f705",
   "metadata": {},
   "source": [
    "# index"
   ]
  },
  {
   "cell_type": "code",
   "execution_count": null,
   "id": "0317e9c3",
   "metadata": {},
   "outputs": [
    {
     "data": {
      "text/plain": [
       "0"
      ]
     },
     "execution_count": 16,
     "metadata": {},
     "output_type": "execute_result"
    }
   ],
   "source": [
    "tu1 = (1,1,2,3,3,4,5,6)\n",
    "tu1.index(1)"
   ]
  },
  {
   "cell_type": "code",
   "execution_count": 20,
   "id": "c83b81e3",
   "metadata": {},
   "outputs": [
    {
     "data": {
      "text/plain": [
       "2"
      ]
     },
     "execution_count": 20,
     "metadata": {},
     "output_type": "execute_result"
    }
   ],
   "source": [
    "tu1 = (1,1,2,3,2,3,4,5,6)\n",
    "tu1.index(2)"
   ]
  },
  {
   "cell_type": "markdown",
   "id": "84498249",
   "metadata": {},
   "source": [
    "## Tuple Constructor\n"
   ]
  },
  {
   "cell_type": "code",
   "execution_count": 21,
   "id": "972f2a98",
   "metadata": {},
   "outputs": [
    {
     "name": "stdout",
     "output_type": "stream",
     "text": [
      "<class 'tuple'>\n"
     ]
    }
   ],
   "source": [
    "num = (1,2,3,4,5,6)\n",
    "print(type(num))"
   ]
  },
  {
   "cell_type": "code",
   "execution_count": 23,
   "id": "15c11b01",
   "metadata": {},
   "outputs": [
    {
     "name": "stdout",
     "output_type": "stream",
     "text": [
      "<class 'list'>\n"
     ]
    }
   ],
   "source": [
    "num = [1,2,3,4,5,6]\n",
    "print(type(num))"
   ]
  },
  {
   "cell_type": "code",
   "execution_count": 24,
   "id": "0e881baf",
   "metadata": {},
   "outputs": [
    {
     "data": {
      "text/plain": [
       "(1, 2, 3, 4)"
      ]
     },
     "execution_count": 24,
     "metadata": {},
     "output_type": "execute_result"
    }
   ],
   "source": [
    "tuple([1,2,3,4])"
   ]
  },
  {
   "cell_type": "code",
   "execution_count": 25,
   "id": "7de6efe3",
   "metadata": {},
   "outputs": [
    {
     "data": {
      "text/plain": [
       "('p', 'y', 't', 'h', 'o', 'n')"
      ]
     },
     "execution_count": 25,
     "metadata": {},
     "output_type": "execute_result"
    }
   ],
   "source": [
    "\n",
    "tuple(\"python\")"
   ]
  },
  {
   "cell_type": "code",
   "execution_count": 27,
   "id": "996ded86",
   "metadata": {},
   "outputs": [
    {
     "data": {
      "text/plain": [
       "('python',)"
      ]
     },
     "execution_count": 27,
     "metadata": {},
     "output_type": "execute_result"
    }
   ],
   "source": [
    "tuple(list([\"python\"]))"
   ]
  },
  {
   "cell_type": "code",
   "execution_count": 32,
   "id": "389a38ba",
   "metadata": {},
   "outputs": [
    {
     "data": {
      "text/plain": [
       "('ameya', 'abhi', 'soham')"
      ]
     },
     "execution_count": 32,
     "metadata": {},
     "output_type": "execute_result"
    }
   ],
   "source": [
    "student_names = (\"ameya\",\"abhi\",\"soham\")\n",
    "student_names[0].upper()\n",
    "student_names"
   ]
  },
  {
   "cell_type": "code",
   "execution_count": 33,
   "id": "d0a7d15d",
   "metadata": {},
   "outputs": [
    {
     "name": "stdout",
     "output_type": "stream",
     "text": [
      "('ameya', 'vishnu', 'pratik', 'kedar')\n",
      "List :- ['abhi', 'vishnu', 'pratik', 'kedar']\n",
      "tuple :- ('abhi', 'vishnu', 'pratik', 'kedar')\n"
     ]
    }
   ],
   "source": [
    "student_names = (\"ameya\",\"vishnu\",\"pratik\",\"kedar\")\n",
    "print(student_names)\n",
    "student_names_list = list(student_names)\n",
    "student_names_list[0] = \"abhi\"\n",
    "print(\"List :-\",student_names_list)\n",
    "print(\"tuple :-\", tuple(student_names_list))\n"
   ]
  },
  {
   "cell_type": "code",
   "execution_count": 34,
   "id": "5061ad90",
   "metadata": {},
   "outputs": [
    {
     "ename": "TypeError",
     "evalue": "'tuple' object does not support item assignment",
     "output_type": "error",
     "traceback": [
      "\u001b[31m---------------------------------------------------------------------------\u001b[39m",
      "\u001b[31mTypeError\u001b[39m                                 Traceback (most recent call last)",
      "\u001b[36mCell\u001b[39m\u001b[36m \u001b[39m\u001b[32mIn[34]\u001b[39m\u001b[32m, line 2\u001b[39m\n\u001b[32m      1\u001b[39m tup1 = (\u001b[32m1\u001b[39m,\u001b[32m2\u001b[39m,\u001b[32m3\u001b[39m)\n\u001b[32m----> \u001b[39m\u001b[32m2\u001b[39m \u001b[43mtu1\u001b[49m\u001b[43m[\u001b[49m\u001b[32;43m0\u001b[39;49m\u001b[43m]\u001b[49m = \u001b[32m100\u001b[39m\n",
      "\u001b[31mTypeError\u001b[39m: 'tuple' object does not support item assignment"
     ]
    }
   ],
   "source": [
    "tup1 = (1,2,3)\n",
    "tu1[0] = 100"
   ]
  },
  {
   "cell_type": "code",
   "execution_count": 35,
   "id": "67f5d163",
   "metadata": {},
   "outputs": [
    {
     "data": {
      "text/plain": [
       "(100, 2, 3)"
      ]
     },
     "execution_count": 35,
     "metadata": {},
     "output_type": "execute_result"
    }
   ],
   "source": [
    "tup2 = list(tup1)\n",
    "tup2[0] = 100\n",
    "tuple(tup2)"
   ]
  },
  {
   "cell_type": "code",
   "execution_count": 36,
   "id": "4ed07a3f",
   "metadata": {},
   "outputs": [
    {
     "ename": "AttributeError",
     "evalue": "'tuple' object has no attribute 'append'",
     "output_type": "error",
     "traceback": [
      "\u001b[31m---------------------------------------------------------------------------\u001b[39m",
      "\u001b[31mAttributeError\u001b[39m                            Traceback (most recent call last)",
      "\u001b[36mCell\u001b[39m\u001b[36m \u001b[39m\u001b[32mIn[36]\u001b[39m\u001b[32m, line 1\u001b[39m\n\u001b[32m----> \u001b[39m\u001b[32m1\u001b[39m \u001b[43mtup1\u001b[49m\u001b[43m.\u001b[49m\u001b[43mappend\u001b[49m(\u001b[32m6\u001b[39m)\n",
      "\u001b[31mAttributeError\u001b[39m: 'tuple' object has no attribute 'append'"
     ]
    }
   ],
   "source": [
    "tup1.append(6)"
   ]
  },
  {
   "cell_type": "code",
   "execution_count": 37,
   "id": "6c924805",
   "metadata": {},
   "outputs": [],
   "source": [
    "tu1 = (1,2,3,4)\n",
    "tu2 = list(tup1)\n",
    "tu2.append(55)"
   ]
  },
  {
   "cell_type": "code",
   "execution_count": 38,
   "id": "1614e417",
   "metadata": {},
   "outputs": [
    {
     "data": {
      "text/plain": [
       "[1, 2, 3, 55]"
      ]
     },
     "execution_count": 38,
     "metadata": {},
     "output_type": "execute_result"
    }
   ],
   "source": [
    "tu2"
   ]
  },
  {
   "cell_type": "code",
   "execution_count": 39,
   "id": "31201198",
   "metadata": {},
   "outputs": [
    {
     "data": {
      "text/plain": [
       "(1, 2, 3, 55)"
      ]
     },
     "execution_count": 39,
     "metadata": {},
     "output_type": "execute_result"
    }
   ],
   "source": [
    "tuple(tu2)"
   ]
  },
  {
   "cell_type": "code",
   "execution_count": 40,
   "id": "31447a90",
   "metadata": {},
   "outputs": [
    {
     "ename": "TypeError",
     "evalue": "'tuple' object is not an iterator",
     "output_type": "error",
     "traceback": [
      "\u001b[31m---------------------------------------------------------------------------\u001b[39m",
      "\u001b[31mTypeError\u001b[39m                                 Traceback (most recent call last)",
      "\u001b[36mCell\u001b[39m\u001b[36m \u001b[39m\u001b[32mIn[40]\u001b[39m\u001b[32m, line 1\u001b[39m\n\u001b[32m----> \u001b[39m\u001b[32m1\u001b[39m \u001b[38;5;28;43mnext\u001b[39;49m\u001b[43m(\u001b[49m\u001b[43mtu1\u001b[49m\u001b[43m)\u001b[49m\n",
      "\u001b[31mTypeError\u001b[39m: 'tuple' object is not an iterator"
     ]
    }
   ],
   "source": [
    "next(tu1)"
   ]
  },
  {
   "cell_type": "code",
   "execution_count": 43,
   "id": "1844269c",
   "metadata": {},
   "outputs": [],
   "source": [
    "a =iter(tu1)"
   ]
  },
  {
   "cell_type": "code",
   "execution_count": 44,
   "id": "5abb3a17",
   "metadata": {},
   "outputs": [
    {
     "data": {
      "text/plain": [
       "1"
      ]
     },
     "execution_count": 44,
     "metadata": {},
     "output_type": "execute_result"
    }
   ],
   "source": [
    "next(a)"
   ]
  },
  {
   "cell_type": "code",
   "execution_count": 45,
   "id": "ca9793d9",
   "metadata": {},
   "outputs": [
    {
     "data": {
      "text/plain": [
       "2"
      ]
     },
     "execution_count": 45,
     "metadata": {},
     "output_type": "execute_result"
    }
   ],
   "source": [
    "next(a)"
   ]
  },
  {
   "cell_type": "code",
   "execution_count": 48,
   "id": "c1e0dbc6",
   "metadata": {},
   "outputs": [
    {
     "ename": "StopIteration",
     "evalue": "",
     "output_type": "error",
     "traceback": [
      "\u001b[31m---------------------------------------------------------------------------\u001b[39m",
      "\u001b[31mStopIteration\u001b[39m                             Traceback (most recent call last)",
      "\u001b[36mCell\u001b[39m\u001b[36m \u001b[39m\u001b[32mIn[48]\u001b[39m\u001b[32m, line 1\u001b[39m\n\u001b[32m----> \u001b[39m\u001b[32m1\u001b[39m \u001b[38;5;28;43mnext\u001b[39;49m\u001b[43m(\u001b[49m\u001b[43ma\u001b[49m\u001b[43m)\u001b[49m\n",
      "\u001b[31mStopIteration\u001b[39m: "
     ]
    }
   ],
   "source": [
    "next(a)"
   ]
  },
  {
   "cell_type": "markdown",
   "id": "77f6fc88",
   "metadata": {},
   "source": [
    "# copy"
   ]
  },
  {
   "cell_type": "code",
   "execution_count": 52,
   "id": "0a8357b5",
   "metadata": {},
   "outputs": [],
   "source": [
    "tu1 = (11,12,32,43,54)\n",
    "tu2 = tu1\n"
   ]
  },
  {
   "cell_type": "code",
   "execution_count": 53,
   "id": "c9dc1371",
   "metadata": {},
   "outputs": [
    {
     "data": {
      "text/plain": [
       "(11, 12, 32, 43, 54)"
      ]
     },
     "execution_count": 53,
     "metadata": {},
     "output_type": "execute_result"
    }
   ],
   "source": [
    "tu2"
   ]
  },
  {
   "cell_type": "code",
   "execution_count": 55,
   "id": "5e23abcc",
   "metadata": {},
   "outputs": [
    {
     "name": "stdout",
     "output_type": "stream",
     "text": [
      "(11, 12, 32, 43, 54) <class 'tuple'>\n",
      "(11, 12, 32, 43, 54)\n"
     ]
    }
   ],
   "source": [
    "print(tu1,type(tu1))\n",
    "print(tu2)"
   ]
  },
  {
   "cell_type": "code",
   "execution_count": 56,
   "id": "58501908",
   "metadata": {},
   "outputs": [
    {
     "name": "stdout",
     "output_type": "stream",
     "text": [
      "\n"
     ]
    }
   ],
   "source": [
    "print()"
   ]
  },
  {
   "cell_type": "code",
   "execution_count": 57,
   "id": "3d3aa6ce",
   "metadata": {},
   "outputs": [
    {
     "data": {
      "text/plain": [
       "<function print(*args, sep=' ', end='\\n', file=None, flush=False)>"
      ]
     },
     "execution_count": 57,
     "metadata": {},
     "output_type": "execute_result"
    }
   ],
   "source": [
    "print"
   ]
  },
  {
   "cell_type": "code",
   "execution_count": 60,
   "id": "a8554917",
   "metadata": {},
   "outputs": [
    {
     "name": "stdout",
     "output_type": "stream",
     "text": [
      "The \"for\" statement\n",
      "*******************\n",
      "\n",
      "The \"for\" statement is used to iterate over the elements of a sequence\n",
      "(such as a string, tuple or list) or other iterable object:\n",
      "\n",
      "   for_stmt ::= \"for\" target_list \"in\" starred_list \":\" suite\n",
      "                [\"else\" \":\" suite]\n",
      "\n",
      "The \"starred_list\" expression is evaluated once; it should yield an\n",
      "*iterable* object.  An *iterator* is created for that iterable. The\n",
      "first item provided by the iterator is then assigned to the target\n",
      "list using the standard rules for assignments (see Assignment\n",
      "statements), and the suite is executed.  This repeats for each item\n",
      "provided by the iterator.  When the iterator is exhausted, the suite\n",
      "in the \"else\" clause, if present, is executed, and the loop\n",
      "terminates.\n",
      "\n",
      "A \"break\" statement executed in the first suite terminates the loop\n",
      "without executing the \"else\" clause’s suite.  A \"continue\" statement\n",
      "executed in the first suite skips the rest of the suite and continues\n",
      "with the next item, or with the \"else\" clause if there is no next\n",
      "item.\n",
      "\n",
      "The for-loop makes assignments to the variables in the target list.\n",
      "This overwrites all previous assignments to those variables including\n",
      "those made in the suite of the for-loop:\n",
      "\n",
      "   for i in range(10):\n",
      "       print(i)\n",
      "       i = 5             # this will not affect the for-loop\n",
      "                         # because i will be overwritten with the next\n",
      "                         # index in the range\n",
      "\n",
      "Names in the target list are not deleted when the loop is finished,\n",
      "but if the sequence is empty, they will not have been assigned to at\n",
      "all by the loop.  Hint: the built-in type \"range()\" represents\n",
      "immutable arithmetic sequences of integers. For instance, iterating\n",
      "\"range(3)\" successively yields 0, 1, and then 2.\n",
      "\n",
      "Changed in version 3.11: Starred elements are now allowed in the\n",
      "expression list.\n",
      "\n",
      "Related help topics: break, continue, while\n",
      "\n"
     ]
    }
   ],
   "source": [
    "help(\"for\")"
   ]
  },
  {
   "cell_type": "code",
   "execution_count": 2,
   "id": "2a2f5edf",
   "metadata": {},
   "outputs": [
    {
     "name": "stdout",
     "output_type": "stream",
     "text": [
      "occurance of 0 in above tuple is :  3\n"
     ]
    }
   ],
   "source": [
    "a = (1,0,7,6,0,0,8,2)\n",
    "\n",
    "print(\"occurance of 0 in above tuple is : \",a.count(0))\n"
   ]
  },
  {
   "cell_type": "code",
   "execution_count": 7,
   "id": "565421a6",
   "metadata": {},
   "outputs": [
    {
     "data": {
      "text/plain": [
       "[('a', 'b'), (1.0, 2.0), ([1, 2, 'list'], [0, 'tuple'])]"
      ]
     },
     "execution_count": 7,
     "metadata": {},
     "output_type": "execute_result"
    }
   ],
   "source": [
    "#remove empty tuples: create a function that accepts a list of tuples and remove empty tuples.\n",
    "\n",
    "def remove_empty_tuples(tuple_list):\n",
    "    \n",
    "    result = []\n",
    "\n",
    "    for tuple_ in tuple_list:\n",
    "        if len(tuple_) != 0:\n",
    "            result.append(tuple_)\n",
    "    \n",
    "    return result\n",
    "\n",
    "test_list = [(), ('a','b'), (1.0,2.0), ([1,2,\"list\"], [0,\"tuple\"])]\n",
    "\n",
    "remove_empty_tuples(test_list)"
   ]
  },
  {
   "cell_type": "code",
   "execution_count": 10,
   "id": "89d9bb53",
   "metadata": {},
   "outputs": [
    {
     "data": {
      "text/plain": [
       "['cherry', 'banana', 'apple']"
      ]
     },
     "execution_count": 10,
     "metadata": {},
     "output_type": "execute_result"
    }
   ],
   "source": [
    "tuple_list =[\n",
    "    (\"apple\", 2.3),\n",
    "    (\"banana\",4.6),\n",
    "    (\"cherry\",1.5)\n",
    "]\n",
    "\n",
    "#sorted([5,7,1,2,19], reverse= True)\n",
    "sorted(['apple','cherry','banana'], reverse = True)"
   ]
  },
  {
   "cell_type": "code",
   "execution_count": 11,
   "id": "98718c89",
   "metadata": {},
   "outputs": [
    {
     "data": {
      "text/plain": [
       "[('apple', 2.3), ('banana', 4.6), ('cherry', 1.5)]"
      ]
     },
     "execution_count": 11,
     "metadata": {},
     "output_type": "execute_result"
    }
   ],
   "source": [
    "sorted(tuple_list)"
   ]
  },
  {
   "cell_type": "code",
   "execution_count": 12,
   "id": "18bbf76c",
   "metadata": {},
   "outputs": [
    {
     "name": "stdout",
     "output_type": "stream",
     "text": [
      "\u001b[31mSignature:\u001b[39m sorted(iterable, /, *, key=\u001b[38;5;28;01mNone\u001b[39;00m, reverse=\u001b[38;5;28;01mFalse\u001b[39;00m)\n",
      "\u001b[31mDocstring:\u001b[39m\n",
      "Return a new list containing all items from the iterable in ascending order.\n",
      "\n",
      "A custom key function can be supplied to customize the sort order, and the\n",
      "reverse flag can be set to request the result in descending order.\n",
      "\u001b[31mType:\u001b[39m      builtin_function_or_method"
     ]
    }
   ],
   "source": [
    "sorted?"
   ]
  },
  {
   "cell_type": "code",
   "execution_count": 21,
   "id": "0215288f",
   "metadata": {},
   "outputs": [
    {
     "data": {
      "text/plain": [
       "[('cherry', 1.5), ('banana', 4.6), ('apple', 2.3)]"
      ]
     },
     "execution_count": 21,
     "metadata": {},
     "output_type": "execute_result"
    }
   ],
   "source": [
    "def key_for_sorting(tuple_):\n",
    "    return tuple_\n",
    "\n",
    "def sort_tuples_according_to_price(tuple_list):\n",
    "    return sorted(tuple_list, key= key_for_sorting,reverse = True)\n",
    "\n",
    "sort_tuples_according_to_price(tuple_list)\n"
   ]
  },
  {
   "cell_type": "code",
   "execution_count": 12,
   "id": "5fd80903",
   "metadata": {},
   "outputs": [
    {
     "name": "stdout",
     "output_type": "stream",
     "text": [
      "The grade for group A students are as follows: [85, 78, 98, 72]\n",
      "The grade for group B students are as follows: [96, 82]\n"
     ]
    }
   ],
   "source": [
    " # group analysis: given lists of students, graddes and groups, write  function to calculate the sum, mean and median of grades per group.\n",
    "\n",
    "students = [\"Vishnu\",\"Ameya\",\"Prasad\",\"Kush\",\"Arpit\",\"Palash\"]\n",
    "grades = [85,96,78,98,82,72]\n",
    "groups= [\"A\",\"B\",\"A\",\"A\",\"B\",\"A\"]\n",
    "\n",
    "group_a = []\n",
    "group_b = []\n",
    "\n",
    "def grades_group(list_of_grades, list_of_groups):\n",
    "\n",
    "\n",
    "    for i in range(len(groups)):\n",
    "        if list_of_groups[i]== \"A\":\n",
    "            group_a.append(list_of_grades[i])\n",
    "        else:\n",
    "            group_b.append(list_of_grades[i])\n",
    "        \n",
    "    return group_a, group_b\n",
    "\n",
    "grades_group(grades, groups)\n",
    "\n",
    "print(f\"The grade for group A students are as follows: {group_a}\")\n",
    "\n",
    "print(f\"The grade for group B students are as follows: {group_b}\")\n"
   ]
  },
  {
   "cell_type": "code",
   "execution_count": 31,
   "id": "ebb7d9ec",
   "metadata": {},
   "outputs": [],
   "source": [
    "# check if a specified element appears in a tuple of tuple \n",
    "\n",
    "original_list = (('red','white', 'blue'), ('green', 'pink', 'purple'), ('orange,', 'yellow', 'lime'))\n"
   ]
  },
  {
   "cell_type": "code",
   "execution_count": 46,
   "id": "29a5b522",
   "metadata": {},
   "outputs": [
    {
     "name": "stdout",
     "output_type": "stream",
     "text": [
      "olive is not present in inner tuple\n"
     ]
    }
   ],
   "source": [
    "output = input(\"enter your word: \")\n",
    "for i in original_list:\n",
    "    if output in i:\n",
    "        print(f\"{output} is present in inner tuple\")\n",
    "        break\n",
    "    else:\n",
    "        print(f\"{output} is not present in inner tuple\")\n",
    "        break\n",
    "\n"
   ]
  },
  {
   "cell_type": "code",
   "execution_count": null,
   "id": "fabbdedc",
   "metadata": {},
   "outputs": [
    {
     "name": "stdout",
     "output_type": "stream",
     "text": [
      "olive is not present in inner tuple\n"
     ]
    }
   ],
   "source": []
  },
  {
   "cell_type": "code",
   "execution_count": null,
   "id": "f7c627d9",
   "metadata": {},
   "outputs": [],
   "source": []
  }
 ],
 "metadata": {
  "kernelspec": {
   "display_name": "Python 3",
   "language": "python",
   "name": "python3"
  },
  "language_info": {
   "codemirror_mode": {
    "name": "ipython",
    "version": 3
   },
   "file_extension": ".py",
   "mimetype": "text/x-python",
   "name": "python",
   "nbconvert_exporter": "python",
   "pygments_lexer": "ipython3",
   "version": "3.13.3"
  }
 },
 "nbformat": 4,
 "nbformat_minor": 5
}
