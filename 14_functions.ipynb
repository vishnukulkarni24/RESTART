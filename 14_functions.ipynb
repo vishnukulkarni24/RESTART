{
 "cells": [
  {
   "cell_type": "markdown",
   "id": "9512acd3",
   "metadata": {},
   "source": [
    "# Basic functions:\n"
   ]
  },
  {
   "cell_type": "code",
   "execution_count": 1,
   "id": "db291f98",
   "metadata": {},
   "outputs": [
    {
     "name": "stdout",
     "output_type": "stream",
     "text": [
      "python\n",
      "python\n"
     ]
    }
   ],
   "source": [
    "n = int(input(\"Enter NUmber\"))\n",
    "val = \"python\"\n",
    "for i in range(n):\n",
    "    print(val)"
   ]
  },
  {
   "cell_type": "code",
   "execution_count": 2,
   "id": "de7209a1",
   "metadata": {},
   "outputs": [
    {
     "name": "stdout",
     "output_type": "stream",
     "text": [
      "java\n",
      "java\n",
      "java\n",
      "java\n"
     ]
    }
   ],
   "source": [
    "n = int(input(\"Enter NUmber\"))\n",
    "val = \"java\"\n",
    "for i in range(n):\n",
    "    print(val)"
   ]
  },
  {
   "cell_type": "code",
   "execution_count": 3,
   "id": "79c04286",
   "metadata": {},
   "outputs": [
    {
     "data": {
      "text/plain": [
       "180"
      ]
     },
     "execution_count": 3,
     "metadata": {},
     "output_type": "execute_result"
    }
   ],
   "source": [
    "p = 20\n",
    "q = 30\n",
    "\n",
    "fx = 3*p + 4*q\n",
    "fx\n"
   ]
  },
  {
   "cell_type": "code",
   "execution_count": null,
   "id": "89410e87",
   "metadata": {},
   "outputs": [
    {
     "name": "stdout",
     "output_type": "stream",
     "text": [
      "[1, 2, 3, 4, 1, 2, 3, 4]\n",
      "True\n"
     ]
    }
   ],
   "source": [
    "\n"
   ]
  },
  {
   "cell_type": "code",
   "execution_count": 1,
   "id": "d8b3ed04",
   "metadata": {},
   "outputs": [
    {
     "name": "stdout",
     "output_type": "stream",
     "text": [
      "Username: vishnu\n",
      "Password: secret\n",
      "Active: False\n",
      "Extra: {'role': 'admin', 'location': 'Pune'}\n"
     ]
    }
   ],
   "source": [
    "def create_user(username, /, password, *, active=True, **extra_fields):\n",
    "    print(\"Username:\", username)\n",
    "    print(\"Password:\", password)\n",
    "    print(\"Active:\", active)\n",
    "    print(\"Extra:\", extra_fields)\n",
    "\n",
    "create_user(\"vishnu\", \"secret\", active=False, role=\"admin\", location=\"Pune\")\n"
   ]
  },
  {
   "cell_type": "code",
   "execution_count": 2,
   "id": "b12b6dfd",
   "metadata": {},
   "outputs": [
    {
     "name": "stdout",
     "output_type": "stream",
     "text": [
      "Endpoint: /users\n",
      "Args: (1, 2)\n",
      "Timeout: 5\n",
      "Kwargs: {'auth': 'token'}\n"
     ]
    }
   ],
   "source": [
    "def api_call(endpoint, *args, timeout=30, **kwargs):\n",
    "    print(\"Endpoint:\", endpoint)\n",
    "    print(\"Args:\", args)\n",
    "    print(\"Timeout:\", timeout)\n",
    "    print(\"Kwargs:\", kwargs)\n",
    "\n",
    "api_call(\"/users\", 1, 2, timeout=5, auth=\"token\")\n"
   ]
  },
  {
   "cell_type": "code",
   "execution_count": 3,
   "id": "170a912c",
   "metadata": {},
   "outputs": [
    {
     "name": "stdout",
     "output_type": "stream",
     "text": [
      "Function to check if the number is even or odd\n"
     ]
    }
   ],
   "source": [
    "def evenOdd(x):\n",
    "    \"\"\"Function to check if the number is even or odd\"\"\"\n",
    "    \n",
    "    if (x % 2 == 0):\n",
    "        print(\"even\")\n",
    "    else:\n",
    "        print(\"odd\")\n",
    "\n",
    "\n",
    "print(evenOdd.__doc__)"
   ]
  },
  {
   "cell_type": "code",
   "execution_count": 7,
   "id": "65c03037",
   "metadata": {},
   "outputs": [
    {
     "name": "stdout",
     "output_type": "stream",
     "text": [
      "even\n"
     ]
    },
    {
     "data": {
      "text/plain": [
       "'Function to check if the number is even or odd'"
      ]
     },
     "execution_count": 7,
     "metadata": {},
     "output_type": "execute_result"
    }
   ],
   "source": [
    "evenOdd(4)\n",
    "evenOdd.__doc__"
   ]
  },
  {
   "cell_type": "code",
   "execution_count": 8,
   "id": "f2841625",
   "metadata": {},
   "outputs": [
    {
     "name": "stdout",
     "output_type": "stream",
     "text": [
      "abcd\n"
     ]
    }
   ],
   "source": [
    "li = ['a', 'b', 'c', 'd']\n",
    "print(\"\".join(li))\n"
   ]
  },
  {
   "cell_type": "code",
   "execution_count": null,
   "id": "249e3787",
   "metadata": {},
   "outputs": [],
   "source": []
  },
  {
   "cell_type": "code",
   "execution_count": 10,
   "id": "2486bb48",
   "metadata": {},
   "outputs": [
    {
     "name": "stdout",
     "output_type": "stream",
     "text": [
      "Inside Function I love Geeksforgeeks\n"
     ]
    }
   ],
   "source": [
    "def fun():\n",
    "    s == 'GFG'  \n",
    "    print(\"Inside Function\", s)\n",
    "\n",
    "s = \"I love Geeksforgeeks\"\n",
    "fun()"
   ]
  },
  {
   "cell_type": "code",
   "execution_count": 15,
   "id": "944b3219",
   "metadata": {},
   "outputs": [
    {
     "name": "stdout",
     "output_type": "stream",
     "text": [
      "Python is great! GFG\n",
      "Look for Geeksforgeeks Python Section\n",
      "Look for Geeksforgeeks Python Section\n"
     ]
    }
   ],
   "source": [
    "def fun():\n",
    "    global s\n",
    "    s += ' GFG'   # Modify the global variable\n",
    "    print(s)\n",
    "    s = \"Look for Geeksforgeeks Python Section\"\n",
    "    print(s)\n",
    "\n",
    "s = \"Python is great!\"\n",
    "fun()\n",
    "print(s)"
   ]
  },
  {
   "cell_type": "code",
   "execution_count": 16,
   "id": "f86404c1",
   "metadata": {},
   "outputs": [
    {
     "name": "stdout",
     "output_type": "stream",
     "text": [
      "Lower cased string :- machine learning\n",
      "Splited List :- ['machine', 'learning']\n"
     ]
    }
   ],
   "source": [
    "def SplitString(string):\n",
    "    string = string.lower()\n",
    "    print(f\"Lower cased string :- {string}\")\n",
    "    li = string.split()\n",
    "    print(f\"Splited List :- {li}\")\n",
    "    \n",
    "SplitString(\"Machine Learning\")  "
   ]
  },
  {
   "cell_type": "code",
   "execution_count": 17,
   "id": "5e622d05",
   "metadata": {},
   "outputs": [
    {
     "name": "stdout",
     "output_type": "stream",
     "text": [
      "Lower cased string :- MACHINE LEARNING\n",
      "Splited List :- ['MACHINE', 'LEARNING']\n"
     ]
    }
   ],
   "source": [
    "def SplitString(string):\n",
    "    string = string.upper()\n",
    "    print(f\"Lower cased string :- {string}\")\n",
    "    li = string.split()\n",
    "    print(f\"Splited List :- {li}\")\n",
    "    \n",
    "SplitString(\"Machine Learning\") "
   ]
  },
  {
   "cell_type": "code",
   "execution_count": 18,
   "id": "c90c26ec",
   "metadata": {},
   "outputs": [
    {
     "name": "stdout",
     "output_type": "stream",
     "text": [
      "Lower cased string :- AMEYA JOSHI\n",
      "Splited List :- ['AMEYA', 'JOSHI']\n"
     ]
    }
   ],
   "source": [
    "SplitString(\"Ameya Joshi\")"
   ]
  },
  {
   "cell_type": "code",
   "execution_count": 19,
   "id": "ae7602ec",
   "metadata": {},
   "outputs": [
    {
     "name": "stdout",
     "output_type": "stream",
     "text": [
      "Lower cased string :- PRASAD BAKORE\n",
      "Splited List :- ['PRASAD', 'BAKORE']\n"
     ]
    }
   ],
   "source": [
    "SplitString('PRASAD bakore')"
   ]
  },
  {
   "cell_type": "code",
   "execution_count": 20,
   "id": "9e96a527",
   "metadata": {},
   "outputs": [
    {
     "name": "stdout",
     "output_type": "stream",
     "text": [
      "Lower cased string :- machine learning\n",
      "Splited List :- ['Machine', 'Learning']\n",
      "\n",
      "Lower cased string :- natural language processing\n",
      "Splited List :- ['Natural', 'Language', 'Processing']\n",
      "\n",
      "Lower cased string :- deep learning\n",
      "Splited List :- ['Deep', 'Learning']\n",
      "\n",
      "Lower cased string :- data science\n",
      "Splited List :- ['Data', 'Science']\n",
      "\n"
     ]
    }
   ],
   "source": [
    "def SplitString(string):\n",
    "    print(f\"Lower cased string :- {string.lower()}\")\n",
    "    print(f\"Splited List :- {string.split()}\")\n",
    "    print()\n",
    "\n",
    "\n",
    "str1 = \"Machine Learning\"\n",
    "str2 = \"Natural Language Processing\"\n",
    "str3 = \"Deep Learning\"\n",
    "str4 = \"Data Science\"\n",
    "    \n",
    "\n",
    "SplitString(str1)\n",
    "SplitString(str2)\n",
    "SplitString(str3)\n",
    "SplitString(str4)"
   ]
  },
  {
   "cell_type": "code",
   "execution_count": 22,
   "id": "c8673170",
   "metadata": {},
   "outputs": [
    {
     "name": "stdout",
     "output_type": "stream",
     "text": [
      "Lower cased string :-machine learning\n",
      "Splitted List :- ['Machine', 'Learning']\n",
      "Joined string :- MachineLearning\n",
      "******************************\n",
      "\n",
      "Lower cased string :-vishnu kulkarni\n",
      "Splitted List :- ['Vishnu', 'Kulkarni']\n",
      "Joined string :- VishnuKulkarni\n",
      "******************************\n",
      "\n",
      "Lower cased string :-deep learning\n",
      "Splitted List :- ['Deep', 'Learning']\n",
      "Joined string :- DeepLearning\n",
      "******************************\n",
      "\n",
      "Lower cased string :-data science\n",
      "Splitted List :- ['Data', 'Science']\n",
      "Joined string :- DataScience\n",
      "******************************\n",
      "\n"
     ]
    }
   ],
   "source": [
    "def SplitString(string):\n",
    "    print(f\"Lower cased string :-{string.lower()}\")\n",
    "    print(f'Splitted List :- {string.split()}')\n",
    "    print(f'Joined string :- {''.join(string.split())}')\n",
    "    print('*'* 30)\n",
    "    print()\n",
    "\n",
    "str1 = 'Machine Learning'\n",
    "str2 = 'Vishnu Kulkarni'\n",
    "str3 = 'Deep Learning'\n",
    "str4 = 'Data Science'\n",
    "\n",
    "SplitString(str1)\n",
    "SplitString(str2)\n",
    "SplitString(str3)\n",
    "SplitString(str4)\n"
   ]
  },
  {
   "cell_type": "code",
   "execution_count": 26,
   "id": "51580dc0",
   "metadata": {},
   "outputs": [
    {
     "name": "stdout",
     "output_type": "stream",
     "text": [
      "Original String :- Machine Learning\n",
      "Modified String : ['MACHINE', 'LEARNING']\n",
      "Joined string :- MachineLearning\n",
      "******************************\n",
      "\n",
      "Original String :- Vishnu Kulkarni\n",
      "Modified String : ['VISHNU', 'KULKARNI']\n",
      "Joined string :- VishnuKulkarni\n",
      "******************************\n",
      "\n",
      "Original String :- Deep Learning\n",
      "Modified String : ['DEEP', 'LEARNING']\n",
      "Joined string :- DeepLearning\n",
      "******************************\n",
      "\n",
      "Original String :- Data Science\n",
      "Modified String : ['DATA', 'SCIENCE']\n",
      "Joined string :- DataScience\n",
      "******************************\n",
      "\n"
     ]
    }
   ],
   "source": [
    "def SplitString(string):\n",
    "    print(f'Original String :- {string}')\n",
    "    modify = string.upper().split()\n",
    "    print(f'Modified String : { modify}')\n",
    "    \n",
    "    print(f'Joined string :- {''.join(string.split())}')\n",
    "    print('*'* 30)\n",
    "    print()\n",
    "\n",
    "str1 = 'Machine Learning'\n",
    "str2 = 'Vishnu Kulkarni'\n",
    "str3 = 'Deep Learning'\n",
    "str4 = 'Data Science'\n",
    "\n",
    "SplitString(str1)\n",
    "SplitString(str2)\n",
    "SplitString(str3)\n",
    "SplitString(str4)"
   ]
  },
  {
   "cell_type": "markdown",
   "id": "bd3b6700",
   "metadata": {},
   "source": [
    "# positional arguments :- \n",
    "\n",
    "- It is the most common, Arguments are matched to parameters in order/position.\n",
    "- first Argument gores to first Parameter, the second to the second , and so on.\n",
    "- It is must to follow the sequence of Arguments & parameter otherwise it change the meaning or Wrongly Assinging values to Argument's\n",
    "\n",
    "ex. def add(x,y):\n",
    "    print('sum: ', a + b)\n",
    "\n",
    "add(3,5)"
   ]
  },
  {
   "cell_type": "code",
   "execution_count": 28,
   "id": "6def360a",
   "metadata": {},
   "outputs": [
    {
     "name": "stdout",
     "output_type": "stream",
     "text": [
      "sum:  8\n"
     ]
    }
   ],
   "source": [
    "def add(x,y): # x & y are the positional Arguments\n",
    "    print('sum: ', x + y)\n",
    "\n",
    "add(3,5) # parameters given to the argument.\n"
   ]
  },
  {
   "cell_type": "markdown",
   "id": "90ff6e16",
   "metadata": {},
   "source": [
    "# Order matters !"
   ]
  },
  {
   "cell_type": "code",
   "execution_count": 31,
   "id": "875227b7",
   "metadata": {},
   "outputs": [
    {
     "name": "stdout",
     "output_type": "stream",
     "text": [
      "Prasad, is 27 years old.\n",
      "27, is Ameya years old.\n"
     ]
    }
   ],
   "source": [
    "def info(name , age):\n",
    "    print(f'{name}, is {age} years old.')\n",
    "\n",
    "info('Prasad', 27) # correct Orders\n",
    "info(27,'Ameya') # wrong Meaning"
   ]
  },
  {
   "cell_type": "code",
   "execution_count": 32,
   "id": "4eba3aa7",
   "metadata": {},
   "outputs": [],
   "source": [
    "def hello():\n",
    "    print('Hello..!')"
   ]
  },
  {
   "cell_type": "code",
   "execution_count": 33,
   "id": "fa6353a0",
   "metadata": {},
   "outputs": [
    {
     "name": "stdout",
     "output_type": "stream",
     "text": [
      "Hello..!\n"
     ]
    }
   ],
   "source": [
    "hello()"
   ]
  },
  {
   "cell_type": "code",
   "execution_count": 35,
   "id": "dc65cf98",
   "metadata": {},
   "outputs": [
    {
     "name": "stdout",
     "output_type": "stream",
     "text": [
      "Hello..!\n",
      "None\n"
     ]
    }
   ],
   "source": [
    "print(hello())"
   ]
  },
  {
   "cell_type": "code",
   "execution_count": 37,
   "id": "dd5bbb3a",
   "metadata": {},
   "outputs": [
    {
     "name": "stdout",
     "output_type": "stream",
     "text": [
      "\n",
      "None\n"
     ]
    }
   ],
   "source": [
    "output = print()\n",
    "\n",
    "print(output)"
   ]
  },
  {
   "cell_type": "code",
   "execution_count": 38,
   "id": "1b245719",
   "metadata": {},
   "outputs": [
    {
     "data": {
      "text/plain": [
       "97.33333333333333"
      ]
     },
     "execution_count": 38,
     "metadata": {},
     "output_type": "execute_result"
    }
   ],
   "source": [
    "# average of 3 numbers\n",
    "\n",
    "def calc_avg(a, b, c):\n",
    "    sum = a + b + c\n",
    "    avg = sum / 3\n",
    "\n",
    "    return avg\n",
    "\n",
    "calc_avg(98, 99, 95)\n",
    "\n"
   ]
  },
  {
   "cell_type": "markdown",
   "id": "ce880de9",
   "metadata": {},
   "source": [
    "# type of function \n",
    "\n",
    "## built-in functions :\n",
    "\n",
    "1. print\n",
    "2. len()\n",
    "3. type()\n",
    "4. range()\n",
    "\n",
    "## User defined Function :\n",
    "\n",
    "- function created or defined by User or programer"
   ]
  },
  {
   "cell_type": "code",
   "execution_count": 39,
   "id": "d1a6bb0b",
   "metadata": {},
   "outputs": [
    {
     "ename": "TypeError",
     "evalue": "cal_product() missing 2 required positional arguments: 'a' and 'b'",
     "output_type": "error",
     "traceback": [
      "\u001b[31m---------------------------------------------------------------------------\u001b[39m",
      "\u001b[31mTypeError\u001b[39m                                 Traceback (most recent call last)",
      "\u001b[36mCell\u001b[39m\u001b[36m \u001b[39m\u001b[32mIn[39]\u001b[39m\u001b[32m, line 6\u001b[39m\n\u001b[32m      2\u001b[39m     \u001b[38;5;28mprint\u001b[39m(a * b)\n\u001b[32m      4\u001b[39m     \u001b[38;5;28;01mreturn\u001b[39;00m a * b\n\u001b[32m----> \u001b[39m\u001b[32m6\u001b[39m \u001b[43mcal_product\u001b[49m\u001b[43m(\u001b[49m\u001b[43m)\u001b[49m\n",
      "\u001b[31mTypeError\u001b[39m: cal_product() missing 2 required positional arguments: 'a' and 'b'"
     ]
    }
   ],
   "source": [
    "def cal_product(a, b):\n",
    "    print(a * b)\n",
    "\n",
    "    return a * b\n",
    "\n",
    "cal_product()"
   ]
  },
  {
   "cell_type": "code",
   "execution_count": 46,
   "id": "c5f77398",
   "metadata": {},
   "outputs": [
    {
     "data": {
      "text/plain": [
       "2"
      ]
     },
     "execution_count": 46,
     "metadata": {},
     "output_type": "execute_result"
    }
   ],
   "source": [
    "def cal_product(a, b= 2):\n",
    "    #print(a * b)\n",
    "    return a * b\n",
    "\n",
    "cal_product(1)"
   ]
  },
  {
   "cell_type": "code",
   "execution_count": 49,
   "id": "08ff07d4",
   "metadata": {},
   "outputs": [
    {
     "data": {
      "text/plain": [
       "3"
      ]
     },
     "execution_count": 49,
     "metadata": {},
     "output_type": "execute_result"
    }
   ],
   "source": [
    "def cal_product(a= 2, b=3):\n",
    "    #print(a * b)\n",
    "    return a * b\n",
    "\n",
    "cal_product(1)"
   ]
  },
  {
   "cell_type": "code",
   "execution_count": 50,
   "id": "c2489270",
   "metadata": {},
   "outputs": [
    {
     "name": "stdout",
     "output_type": "stream",
     "text": [
      "5\n",
      "6\n"
     ]
    }
   ],
   "source": [
    "# write a function to print the lenght of a list (list is the parameter)\n",
    "\n",
    "cities = ['delhi', 'noida', 'pune', 'mumbai', 'nanded']\n",
    "heros = ['thor', 'shaktiman', 'ironman', 'karn', 'Arjun', 'Krishna']\n",
    "\n",
    "def print_len(list):\n",
    "    print(len(list))\n",
    "\n",
    "\n",
    "print_len(cities)\n",
    "print_len(heros)"
   ]
  },
  {
   "cell_type": "code",
   "execution_count": 52,
   "id": "a32a9ea2",
   "metadata": {},
   "outputs": [
    {
     "name": "stdout",
     "output_type": "stream",
     "text": [
      "['delhi', 'noida', 'pune', 'mumbai', 'nanded'] ['thor', 'shaktiman', 'ironman', 'karn', 'Arjun', 'Krishna'] "
     ]
    }
   ],
   "source": [
    "#WAF to print the element of the list in single line.\n",
    "\n",
    "def print_list(list):\n",
    "    print(list, end = \" \")\n",
    "\n",
    "\n",
    "print_list(cities)\n",
    "print_list(heros)\n"
   ]
  },
  {
   "cell_type": "code",
   "execution_count": 53,
   "id": "9d94f1b1",
   "metadata": {},
   "outputs": [
    {
     "name": "stdout",
     "output_type": "stream",
     "text": [
      "delhi noida pune mumbai nanded thor shaktiman ironman karn Arjun Krishna "
     ]
    }
   ],
   "source": [
    "cities = ['delhi', 'noida', 'pune', 'mumbai', 'nanded']\n",
    "heros = ['thor', 'shaktiman', 'ironman', 'karn', 'Arjun', 'Krishna']\n",
    "\n",
    "def print_li(list):\n",
    "    for item in list:\n",
    "        print(item, end= \" \")\n",
    "\n",
    "print_li(cities)\n",
    "print_li(heros)\n",
    "\n"
   ]
  },
  {
   "cell_type": "code",
   "execution_count": 65,
   "id": "b6f3e17f",
   "metadata": {},
   "outputs": [
    {
     "data": {
      "text/plain": [
       "120"
      ]
     },
     "execution_count": 65,
     "metadata": {},
     "output_type": "execute_result"
    }
   ],
   "source": [
    "# WAF to find the factorial of n. ( n is the parameter)\n",
    "\n",
    "n = 5\n",
    "\n",
    "def factorial():\n",
    "    facto = 1\n",
    "    for i in range(1, n+1):\n",
    "        facto *= i\n",
    "    return facto\n",
    "\n",
    "factorial()\n"
   ]
  },
  {
   "cell_type": "code",
   "execution_count": 55,
   "id": "206e914c",
   "metadata": {},
   "outputs": [
    {
     "name": "stdout",
     "output_type": "stream",
     "text": [
      "Factorial=  120\n"
     ]
    }
   ],
   "source": [
    "n = 5\n",
    "facto = 1\n",
    "for i in range(1, n + 1):\n",
    "    facto *= i\n",
    "\n",
    "print(\"Factorial= \",facto )"
   ]
  },
  {
   "cell_type": "code",
   "execution_count": 66,
   "id": "a16aaae3",
   "metadata": {},
   "outputs": [
    {
     "data": {
      "text/plain": [
       "120"
      ]
     },
     "execution_count": 66,
     "metadata": {},
     "output_type": "execute_result"
    }
   ],
   "source": [
    "# WAF to find the factorial of n. ( n is the parameter)\n",
    "\n",
    "# n = 5\n",
    "\n",
    "def factorial(n):\n",
    "    facto = 1\n",
    "    for i in range(1, n+1):\n",
    "        facto *= i\n",
    "    return facto\n",
    "\n",
    "factorial(5)"
   ]
  },
  {
   "cell_type": "code",
   "execution_count": 67,
   "id": "7ecbc945",
   "metadata": {},
   "outputs": [
    {
     "data": {
      "text/plain": [
       "120"
      ]
     },
     "execution_count": 67,
     "metadata": {},
     "output_type": "execute_result"
    }
   ],
   "source": [
    "def factorial(n=5):\n",
    "    facto = 1\n",
    "    for i in range(1, n+1):\n",
    "        facto *= i\n",
    "    return facto\n",
    "\n",
    "factorial()"
   ]
  },
  {
   "cell_type": "code",
   "execution_count": 68,
   "id": "5fc07997",
   "metadata": {},
   "outputs": [
    {
     "name": "stdout",
     "output_type": "stream",
     "text": [
      "100 USD = 8300 INR\n"
     ]
    }
   ],
   "source": [
    "# WAF to convert USD to INR. \n",
    "\n",
    "def Converter(usd_val):\n",
    "    inr_val = usd_val * 83\n",
    "    print(usd_val , \"USD =\", inr_val, 'INR')\n",
    "\n",
    "Converter(100)"
   ]
  },
  {
   "cell_type": "code",
   "execution_count": 76,
   "id": "8251bc90",
   "metadata": {},
   "outputs": [
    {
     "name": "stdout",
     "output_type": "stream",
     "text": [
      "number is even\n"
     ]
    }
   ],
   "source": [
    "# WAF to find number is even or odd.\n",
    "\n",
    "\n",
    "\n",
    "def even_odd(num):\n",
    "        if num % 2 == 0:\n",
    "            print('number is even')\n",
    "        else:\n",
    "              print('number is odd.')\n",
    "\n",
    "n = int(input('Enter the number to check is even or odd: '))\n",
    "result = even_odd(n)"
   ]
  },
  {
   "cell_type": "markdown",
   "id": "e77b013b",
   "metadata": {},
   "source": [
    "# Recursion :\n",
    "\n",
    "when a function calls itself repeatedly."
   ]
  },
  {
   "cell_type": "code",
   "execution_count": null,
   "id": "98449186",
   "metadata": {},
   "outputs": [
    {
     "name": "stdout",
     "output_type": "stream",
     "text": [
      "5\n",
      "4\n",
      "3\n",
      "2\n",
      "1\n"
     ]
    }
   ],
   "source": [
    "def show(n):\n",
    "    if(n == 0):\n",
    "        return\n",
    "    print(n)\n",
    "    show(n-1)\n",
    "\n",
    "show(5)"
   ]
  },
  {
   "cell_type": "code",
   "execution_count": 83,
   "id": "007edec6",
   "metadata": {},
   "outputs": [
    {
     "name": "stdout",
     "output_type": "stream",
     "text": [
      "5\n",
      "4\n",
      "3\n",
      "2\n",
      "1\n",
      "END\n",
      "END\n",
      "END\n",
      "END\n",
      "END\n"
     ]
    }
   ],
   "source": [
    "def show(n):\n",
    "    if(n == 0):\n",
    "        return\n",
    "    print(n)\n",
    "    show(n-1)\n",
    "    print(\"END\")\n",
    "\n",
    "\n",
    "show(5)"
   ]
  },
  {
   "cell_type": "code",
   "execution_count": 84,
   "id": "154b9283",
   "metadata": {},
   "outputs": [
    {
     "data": {
      "text/plain": [
       "120"
      ]
     },
     "execution_count": 84,
     "metadata": {},
     "output_type": "execute_result"
    }
   ],
   "source": [
    "def fact(n): # recurance relation  ## repeat hon\n",
    "    if (n == 0 or n == 1):\n",
    "        return 1\n",
    "    else:\n",
    "        return n * fact(n - 1)\n",
    "    \n",
    "\n",
    "fact(5)"
   ]
  },
  {
   "cell_type": "markdown",
   "id": "49ce5bc9",
   "metadata": {},
   "source": [
    "- call stack (stack of books)\n",
    "how to imagin call stack is like a glass.\n",
    "\n",
    "show() take a place into the glass at bottom.\n"
   ]
  },
  {
   "cell_type": "code",
   "execution_count": 87,
   "id": "ce9b5cd8",
   "metadata": {},
   "outputs": [
    {
     "data": {
      "text/plain": [
       "120"
      ]
     },
     "execution_count": 87,
     "metadata": {},
     "output_type": "execute_result"
    }
   ],
   "source": [
    "# Write a recursive func. to calculate the sum of first n natural number.\n",
    "\n",
    "def cal_sum(n):\n",
    "    if (n == 0 or n == 1):\n",
    "        return 1\n",
    "    return cal_sum(n-1) * n\n",
    "\n",
    "\n",
    "cal_sum(5)"
   ]
  },
  {
   "cell_type": "code",
   "execution_count": 93,
   "id": "7f58aa7b",
   "metadata": {},
   "outputs": [
    {
     "name": "stdout",
     "output_type": "stream",
     "text": [
      "name: vishnu, ameya, shrushti\n"
     ]
    }
   ],
   "source": [
    "def name(*args):\n",
    "    return 'name: ' + ', '.join(args)\n",
    "\n",
    "a = name('vishnu', 'ameya','shrushti')\n",
    "\n",
    "print(a)\n"
   ]
  },
  {
   "cell_type": "code",
   "execution_count": null,
   "id": "da0e1d72",
   "metadata": {},
   "outputs": [
    {
     "name": "stdout",
     "output_type": "stream",
     "text": [
      "name: vishnu, ameya, shrushti\n",
      "name: vishnu, ameya, shrushti\n",
      "name: vishnu, ameya, shrushti\n",
      "name: vishnu, ameya, shrushti\n",
      "name: vishnu, ameya, shrushti\n",
      "name: vishnu, ameya, shrushti\n",
      "name: vishnu, ameya, shrushti\n",
      "name: vishnu, ameya, shrushti\n",
      "name: vishnu, ameya, shrushti\n",
      "name: vishnu, ameya, shrushti\n",
      "name: vishnu, ameya, shrushti\n",
      "name: vishnu, ameya, shrushti\n",
      "name: vishnu, ameya, shrushti\n",
      "name: vishnu, ameya, shrushti\n",
      "name: vishnu, ameya, shrushti\n",
      "name: vishnu, ameya, shrushti\n",
      "name: vishnu, ameya, shrushti\n",
      "name: vishnu, ameya, shrushti\n",
      "name: vishnu, ameya, shrushti\n",
      "name: vishnu, ameya, shrushti\n",
      "name: vishnu, ameya, shrushti\n",
      "name: vishnu, ameya, shrushti\n",
      "name: vishnu, ameya, shrushti\n",
      "name: vishnu, ameya, shrushti\n",
      "name: vishnu, ameya, shrushti\n",
      "name: vishnu, ameya, shrushti\n",
      "name: vishnu, ameya, shrushti\n",
      "name: vishnu, ameya, shrushti\n",
      "name: vishnu, ameya, shrushti\n"
     ]
    }
   ],
   "source": [
    "def name(*args):\n",
    "    return 'name: ' + ', '.join(args)\n",
    "\n",
    "a = name('vishnu', 'ameya','shrushti')\n",
    "\n",
    "print(a)"
   ]
  },
  {
   "cell_type": "code",
   "execution_count": null,
   "id": "7629aab4",
   "metadata": {},
   "outputs": [],
   "source": []
  }
 ],
 "metadata": {
  "kernelspec": {
   "display_name": "Python 3",
   "language": "python",
   "name": "python3"
  },
  "language_info": {
   "codemirror_mode": {
    "name": "ipython",
    "version": 3
   },
   "file_extension": ".py",
   "mimetype": "text/x-python",
   "name": "python",
   "nbconvert_exporter": "python",
   "pygments_lexer": "ipython3",
   "version": "3.13.3"
  }
 },
 "nbformat": 4,
 "nbformat_minor": 5
}
