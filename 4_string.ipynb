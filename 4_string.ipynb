{
 "cells": [
  {
   "cell_type": "markdown",
   "id": "a4f46ba4",
   "metadata": {},
   "source": [
    "# string :\n",
    " ## what is string ?\n",
    "\n",
    " A string is a sequence of character enclosed with single qoutes ('), double Quotes (\") and triple quotes(''' Or \"\"\")."
   ]
  },
  {
   "cell_type": "code",
   "execution_count": null,
   "id": "e4f7fdad",
   "metadata": {},
   "outputs": [],
   "source": []
  },
  {
   "cell_type": "markdown",
   "id": "fb0c846e",
   "metadata": {},
   "source": [
    "## Key string Characteristics :\n",
    "\n",
    "- it is an immutable datatype. once string created it does not changed.\n",
    "- we can accessed charcters using indexing. str1[0], str2[-1] ---(positive & negative indexing)\n",
    "- string can be looped using for loop."
   ]
  },
  {
   "cell_type": "code",
   "execution_count": 7,
   "id": "50052482",
   "metadata": {},
   "outputs": [],
   "source": [
    "s1 = 'Hello'\n",
    "s2 = \"World\"\n",
    "s3 = '''I'm trying to print\n",
    "multiline \n",
    "string.'''\n"
   ]
  },
  {
   "cell_type": "code",
   "execution_count": 8,
   "id": "fb28bee7",
   "metadata": {},
   "outputs": [
    {
     "name": "stdout",
     "output_type": "stream",
     "text": [
      "I'm trying to print\n",
      "multiline \n",
      "string.\n"
     ]
    }
   ],
   "source": [
    "print(s3)"
   ]
  },
  {
   "cell_type": "code",
   "execution_count": 15,
   "id": "b12cc8e5",
   "metadata": {},
   "outputs": [
    {
     "name": "stdout",
     "output_type": "stream",
     "text": [
      "dasarP\n"
     ]
    }
   ],
   "source": [
    "str2 = \"Prasad\"\n",
    "\n",
    "reverse_str = \"\"\n",
    "\n",
    "for chr in str2:\n",
    "    reverse_str = chr + reverse_str\n",
    "\n",
    "print(reverse_str)"
   ]
  },
  {
   "cell_type": "code",
   "execution_count": 30,
   "id": "ded34c7d",
   "metadata": {},
   "outputs": [
    {
     "name": "stdout",
     "output_type": "stream",
     "text": [
      "uy name is vishnmuy name is vishnmuy name is vishnmuy name is vishnm\n"
     ]
    }
   ],
   "source": [
    "str1 = \"my name is vishnu\"\n",
    "\n",
    "str2 = \"\"\n",
    "\n",
    "words = str1.split()\n",
    "\n",
    "swapped_words = []\n",
    "\n",
    "\n",
    "for chr in words:\n",
    "    if len(chr)> 1:\n",
    "        f_word = str1[0]\n",
    "        l_word = str1[-1]\n",
    "        mid_word = str1[1:-1]\n",
    "        str2 = l_word + mid_word + f_word\n",
    "    else:\n",
    "        str2 = chr\n",
    "\n",
    "    swapped_words.append(str2)\n",
    "\n",
    "result = \"\".join(swapped_words)\n",
    "\n",
    "\n",
    "print(result)\n"
   ]
  },
  {
   "cell_type": "code",
   "execution_count": 41,
   "id": "bad9edc1",
   "metadata": {},
   "outputs": [
    {
     "data": {
      "text/plain": [
       "['my', 'name', 'is', 'vishnu']"
      ]
     },
     "execution_count": 41,
     "metadata": {},
     "output_type": "execute_result"
    }
   ],
   "source": [
    "words"
   ]
  },
  {
   "cell_type": "code",
   "execution_count": null,
   "id": "9c236a09",
   "metadata": {},
   "outputs": [
    {
     "ename": "TypeError",
     "evalue": "can only concatenate str (not \"list\") to str",
     "output_type": "error",
     "traceback": [
      "\u001b[31m---------------------------------------------------------------------------\u001b[39m",
      "\u001b[31mTypeError\u001b[39m                                 Traceback (most recent call last)",
      "\u001b[36mCell\u001b[39m\u001b[36m \u001b[39m\u001b[32mIn[45]\u001b[39m\u001b[32m, line 1\u001b[39m\n\u001b[32m----> \u001b[39m\u001b[32m1\u001b[39m str2 = \u001b[43mwords\u001b[49m\u001b[43m[\u001b[49m\u001b[32;43m1\u001b[39;49m\u001b[43m]\u001b[49m\u001b[43m[\u001b[49m\u001b[43m-\u001b[49m\u001b[32;43m1\u001b[39;49m\u001b[43m]\u001b[49m\u001b[43m \u001b[49m\u001b[43m+\u001b[49m\u001b[43m \u001b[49m\u001b[43mwords\u001b[49m\u001b[43m[\u001b[49m\u001b[32;43m1\u001b[39;49m\u001b[43m:\u001b[49m\u001b[43m-\u001b[49m\u001b[32;43m1\u001b[39;49m\u001b[43m]\u001b[49m + words[\u001b[32m1\u001b[39m][\u001b[32m0\u001b[39m]\n\u001b[32m      2\u001b[39m str2\n",
      "\u001b[31mTypeError\u001b[39m: can only concatenate str (not \"list\") to str"
     ]
    }
   ],
   "source": [
    "str2 = words[1][-1] + words[1:-1] + words[1][0]"
   ]
  },
  {
   "cell_type": "code",
   "execution_count": 38,
   "id": "d4a3f6fb",
   "metadata": {},
   "outputs": [
    {
     "data": {
      "text/plain": [
       "'m'"
      ]
     },
     "execution_count": 38,
     "metadata": {},
     "output_type": "execute_result"
    }
   ],
   "source": [
    "str1[0]"
   ]
  },
  {
   "cell_type": "code",
   "execution_count": 39,
   "id": "f562ba9e",
   "metadata": {},
   "outputs": [
    {
     "data": {
      "text/plain": [
       "'u'"
      ]
     },
     "execution_count": 39,
     "metadata": {},
     "output_type": "execute_result"
    }
   ],
   "source": [
    "str1[-1]"
   ]
  },
  {
   "cell_type": "code",
   "execution_count": 40,
   "id": "8d30a7c5",
   "metadata": {},
   "outputs": [
    {
     "data": {
      "text/plain": [
       "'y name is vishn'"
      ]
     },
     "execution_count": 40,
     "metadata": {},
     "output_type": "execute_result"
    }
   ],
   "source": [
    "str1[1:-1]"
   ]
  },
  {
   "cell_type": "code",
   "execution_count": 47,
   "id": "e38f3171",
   "metadata": {},
   "outputs": [
    {
     "name": "stdout",
     "output_type": "stream",
     "text": [
      "ym eamn si uishnv\n"
     ]
    }
   ],
   "source": [
    "str1 = \"my name is vishnu\"\n",
    "\n",
    "words = str1.split()\n",
    "\n",
    "swapped_words = []\n",
    "\n",
    "\n",
    "\n",
    "for chr in words:\n",
    "    if len(chr) > 1:\n",
    "        swapped_word = chr[-1] + chr[1:-1] + chr[0]\n",
    "    else:\n",
    "        swapped_word = chr\n",
    "    swapped_words.append(swapped_word)\n",
    "\n",
    "result = \" \".join(swapped_words)\n",
    "\n",
    "print(result)\n"
   ]
  },
  {
   "cell_type": "code",
   "execution_count": null,
   "id": "a1fe45ea",
   "metadata": {},
   "outputs": [
    {
     "name": "stdout",
     "output_type": "stream",
     "text": [
      "ym eamn si uishnv\n"
     ]
    }
   ],
   "source": [
    "str1 = \"my name is vishnu\"\n",
    "\n",
    "words = str1.split()\n",
    "\n",
    "swapped_words = []\n",
    "\n",
    "\n",
    "\n",
    "for chr in words:\n",
    "    if len(chr) > 1:\n",
    "\n",
    "        f_word = chr[0]\n",
    "        l_word = chr[-1]\n",
    "        mid_word = chr[1:-1]\n",
    "        new_word = l_word + mid_word + f_word\n",
    "    \n",
    "    else:\n",
    "        new_word = chr\n",
    "\n",
    "    swapped_words.append(new_word)\n",
    "\n",
    "result = \" \".join(swapped_words)\n",
    "\n",
    "print(result)"
   ]
  },
  {
   "cell_type": "code",
   "execution_count": 48,
   "id": "58b55692",
   "metadata": {},
   "outputs": [
    {
     "name": "stdout",
     "output_type": "stream",
     "text": [
      "my\n",
      "name\n",
      "is\n",
      "vishnu\n"
     ]
    }
   ],
   "source": [
    "str1 = \"my name is vishnu\"\n",
    "\n",
    "words = str1.split()\n",
    "\n",
    "for i in words:\n",
    "    print(i)"
   ]
  },
  {
   "cell_type": "code",
   "execution_count": null,
   "id": "368388de",
   "metadata": {},
   "outputs": [
    {
     "data": {
      "text/plain": [
       "[1, 4, 7, 10]"
      ]
     },
     "execution_count": 51,
     "metadata": {},
     "output_type": "execute_result"
    }
   ],
   "source": [
    "li1 = [1,2,3,4,5,6,7,8,9,10]\n",
    "li2= li1[0::3]\n",
    "li2"
   ]
  },
  {
   "cell_type": "code",
   "execution_count": 62,
   "id": "13fc5c6e",
   "metadata": {},
   "outputs": [
    {
     "name": "stdout",
     "output_type": "stream",
     "text": [
      "[1, 4, 7, 10]\n"
     ]
    }
   ],
   "source": [
    "li2 = []\n",
    "for i in range(0,len(li1),3):\n",
    "    li2.append(li1[i])\n",
    "\n",
    "print(li2)\n",
    "        "
   ]
  },
  {
   "cell_type": "code",
   "execution_count": 89,
   "id": "5efe102a",
   "metadata": {},
   "outputs": [
    {
     "name": "stdout",
     "output_type": "stream",
     "text": [
      "ym eamn si uishnv\n"
     ]
    }
   ],
   "source": [
    "str1 = \"my name is vishnu\"\n",
    "\n",
    "a = str1[1] + str1[0]\n",
    "b = str1[6] +str1[4:6] + str1[3]\n",
    "c = str1[9] + str1[8]\n",
    "d = str1[16] + str1[12:16] + str1[11]\n",
    "\n",
    "new_str = a + \" \" + b + \" \"+c + \" \" +d\n",
    "\n",
    "print(new_str)\n"
   ]
  },
  {
   "cell_type": "code",
   "execution_count": 88,
   "id": "6530c778",
   "metadata": {},
   "outputs": [
    {
     "name": "stdout",
     "output_type": "stream",
     "text": [
      "0\n",
      "1\n",
      "2\n",
      "3\n",
      "4\n"
     ]
    }
   ],
   "source": [
    "n = [5]\n",
    "\n",
    "for i in range(n[0]):\n",
    "    print(i)"
   ]
  },
  {
   "cell_type": "code",
   "execution_count": 2,
   "id": "c1e718ae",
   "metadata": {},
   "outputs": [
    {
     "data": {
      "text/plain": [
       "True"
      ]
     },
     "execution_count": 2,
     "metadata": {},
     "output_type": "execute_result"
    }
   ],
   "source": [
    "a = \"naman\"\n",
    "b = a[::-1]\n",
    "\n",
    "a == b"
   ]
  },
  {
   "cell_type": "code",
   "execution_count": 3,
   "id": "f7a1c733",
   "metadata": {},
   "outputs": [
    {
     "name": "stdout",
     "output_type": "stream",
     "text": [
      "yes.. Your entered string is Palindrome\n"
     ]
    }
   ],
   "source": [
    "# Check if a string is a palindrome.\n",
    "\n",
    "a = input(\"Enter a string to check it's palindrome or not: \")\n",
    "\n",
    "if a == a[::-1]:\n",
    "    print(\"yes.. Your entered string is Palindrome\")\n",
    "\n",
    "else:\n",
    "    print(\"No.. Your entered string is NOT Palindrome\")\n",
    "\n",
    "\n"
   ]
  },
  {
   "cell_type": "code",
   "execution_count": 11,
   "id": "97a90454",
   "metadata": {},
   "outputs": [
    {
     "name": "stdout",
     "output_type": "stream",
     "text": [
      "True\n",
      "False\n",
      "False\n",
      "False\n"
     ]
    }
   ],
   "source": [
    "def is_palindrome(s):\n",
    "    \n",
    "    Lower_s = ''.join(c.lower() for c in s if c.isalnum())\n",
    "    \n",
    "    return Lower_s == Lower_s[::-1]\n",
    "\n",
    "\n",
    "print(is_palindrome(\"racecar\"))\n",
    "print(is_palindrome(\"A man\"))\n",
    "print(is_palindrome(\"manan\"))\n",
    "print(is_palindrome(\"manan\"))\n",
    "\n",
    "\n"
   ]
  },
  {
   "cell_type": "code",
   "execution_count": 12,
   "id": "19bc08d7",
   "metadata": {},
   "outputs": [
    {
     "name": "stdout",
     "output_type": "stream",
     "text": [
      "True\n",
      "False\n",
      "False\n",
      "False\n"
     ]
    }
   ],
   "source": [
    "def is_palindrome(s):\n",
    "    return s == s[::-1]\n",
    "\n",
    "print(is_palindrome(\"racecar\"))\n",
    "print(is_palindrome(\"A man\"))\n",
    "print(is_palindrome(\"manan\"))\n",
    "print(is_palindrome(\"manan\"))"
   ]
  },
  {
   "cell_type": "code",
   "execution_count": 20,
   "id": "323b9921",
   "metadata": {},
   "outputs": [
    {
     "name": "stdout",
     "output_type": "stream",
     "text": [
      "total number vowels = 163\n"
     ]
    }
   ],
   "source": [
    "#Count the number of vowels in a string.\n",
    "\n",
    "str1 = \"\"\"Indescribable oppression, which seemed to generate in some unfamiliar part of her consciousness,\n",
    "filled her whole being with a vague anguish. It was like a shadow,\n",
    " like a mist passing across her soul's summer day. \n",
    "It was strange and unfamiliar; it was a mood. \n",
    "She did not sit there inwardly upbraiding her husband, lamenting at Fate,\n",
    "which had directed her footsteps to the path which they had taken.\n",
    "She was just having a good cry all to herself. The mosquitoes made merry over her,\n",
    "biting her firm, round arms and nipping at her bare insteps.\"\"\"\n",
    "\n",
    "vowels = \"AaEeIiOoUu\"\n",
    "\n",
    "count = 0\n",
    "\n",
    "for chr in str1:\n",
    "    if chr in vowels:\n",
    "        count += 1 \n",
    "\n",
    "\n",
    "print(f\"total number vowels = {count}\")"
   ]
  },
  {
   "cell_type": "code",
   "execution_count": 29,
   "id": "f7728847",
   "metadata": {},
   "outputs": [
    {
     "name": "stdout",
     "output_type": "stream",
     "text": [
      "Total number of vowels = 163\n"
     ]
    }
   ],
   "source": [
    "def NumberOfVowels(Str1):\n",
    "    vowels = \"AaEeIiOoUu\"\n",
    "    count = 0\n",
    "    for chr in str1:\n",
    "        if chr in vowels:\n",
    "            count += 1 \n",
    "    return count\n",
    "\n",
    "str1 = \"\"\"Indescribable oppression, which seemed to generate in some unfamiliar part of her consciousness,\n",
    "filled her whole being with a vague anguish. It was like a shadow,\n",
    " like a mist passing across her soul's summer day. \n",
    "It was strange and unfamiliar; it was a mood. \n",
    "She did not sit there inwardly upbraiding her husband, lamenting at Fate,\n",
    "which had directed her footsteps to the path which they had taken.\n",
    "She was just having a good cry all to herself. The mosquitoes made merry over her,\n",
    "biting her firm, round arms and nipping at her bare insteps.\"\"\"\n",
    "\n",
    "\n",
    "vowel_count = NumberOfVowels(str1)\n",
    "print(f\"Total number of vowels = {vowel_count}\")\n"
   ]
  },
  {
   "cell_type": "code",
   "execution_count": 38,
   "id": "6145ba67",
   "metadata": {},
   "outputs": [
    {
     "name": "stdout",
     "output_type": "stream",
     "text": [
      "ndscrbbl pprssn, whch smd t gnrt n sm nfmlr prt f hr cnscsnss,\n",
      "flld hr whl bng wth  vg ngsh. t ws lk  shdw,\n",
      " lk  mst pssng crss hr sl's smmr dy. \n",
      "t ws strng nd nfmlr; t ws  md. \n",
      "Sh dd nt st thr nwrdly pbrdng hr hsbnd, lmntng t Ft,\n",
      "whch hd drctd hr ftstps t th pth whch thy hd tkn.\n",
      "Sh ws jst hvng  gd cry ll t hrslf. Th msqts md mrry vr hr,\n",
      "btng hr frm, rnd rms nd nppng t hr br nstps.\n"
     ]
    }
   ],
   "source": [
    "# Remove all vowels from a string.\n",
    "\n",
    "str1 = \"\"\"Indescribable oppression, which seemed to generate in some unfamiliar part of her consciousness,\n",
    "filled her whole being with a vague anguish. It was like a shadow,\n",
    " like a mist passing across her soul's summer day. \n",
    "It was strange and unfamiliar; it was a mood. \n",
    "She did not sit there inwardly upbraiding her husband, lamenting at Fate,\n",
    "which had directed her footsteps to the path which they had taken.\n",
    "She was just having a good cry all to herself. The mosquitoes made merry over her,\n",
    "biting her firm, round arms and nipping at her bare insteps.\"\"\"\n",
    "\n",
    "vowels = \"AaEeIiOoUu\"\n",
    "str2 = ''\n",
    "for chr in str1:\n",
    "    if chr not in vowels:\n",
    "        str2 += chr\n",
    "        \n",
    "\n",
    "print(str2)\n"
   ]
  },
  {
   "cell_type": "code",
   "execution_count": null,
   "id": "ef460d47",
   "metadata": {},
   "outputs": [],
   "source": [
    "\"\"\"The lone lamp post of the one-street town flickered, not quite dead but definitely on its way out.\n",
    "Suitcase by her side, she paid no heed to the light, the street or the town. \n",
    "A car was coming down the street and with her arm outstretched and thumb in the air, she had a plan.\"\"\""
   ]
  },
  {
   "cell_type": "code",
   "execution_count": 39,
   "id": "e1b9e214",
   "metadata": {},
   "outputs": [
    {
     "name": "stdout",
     "output_type": "stream",
     "text": [
      "vISHNU\n"
     ]
    }
   ],
   "source": [
    "name = \"Vishnu\"\n",
    "\n",
    "swapped = name.swapcase()\n",
    "\n",
    "print(swapped)"
   ]
  },
  {
   "cell_type": "code",
   "execution_count": 42,
   "id": "6a5b2791",
   "metadata": {},
   "outputs": [
    {
     "data": {
      "text/plain": [
       "'mY namE is visHNU'"
      ]
     },
     "execution_count": 42,
     "metadata": {},
     "output_type": "execute_result"
    }
   ],
   "source": [
    "name = \"My NAMe IS VIShnu\"\n",
    "swapped_str = \"\"\n",
    "for i in name:\n",
    "    if \"a\" <= i <= \"z\":\n",
    "        swapped_str += i.upper()\n",
    "    elif \"A\" <= i <= \"Z\":\n",
    "        swapped_str += i.lower()\n",
    "    else:\n",
    "        swapped_str += i\n",
    "\n",
    "swapped_str\n",
    "\n"
   ]
  },
  {
   "cell_type": "code",
   "execution_count": 45,
   "id": "bafb1fab",
   "metadata": {},
   "outputs": [
    {
     "data": {
      "text/plain": [
       "True"
      ]
     },
     "execution_count": 45,
     "metadata": {},
     "output_type": "execute_result"
    }
   ],
   "source": [
    "#Compare two strings without using == or !=.\n",
    "\n",
    "str1 = \"pyhton\"\n",
    "str2 = \"Python\"\n",
    "\n",
    "str1 not in str2\n"
   ]
  },
  {
   "cell_type": "code",
   "execution_count": 46,
   "id": "832e3a86",
   "metadata": {},
   "outputs": [
    {
     "data": {
      "text/plain": [
       "False"
      ]
     },
     "execution_count": 46,
     "metadata": {},
     "output_type": "execute_result"
    }
   ],
   "source": [
    "str1 = \"pyhton\"\n",
    "str2 = \"Python\"\n",
    "\n",
    "str1 in str2"
   ]
  },
  {
   "cell_type": "code",
   "execution_count": 47,
   "id": "c05fda69",
   "metadata": {},
   "outputs": [
    {
     "name": "stdout",
     "output_type": "stream",
     "text": [
      "1304\n"
     ]
    }
   ],
   "source": [
    "#extract digit from string.\n",
    "\n",
    "str1 = \"flatE1304\"\n",
    "\n",
    "only_digit = ''\n",
    "\n",
    "for i in str1:\n",
    "    if i in \"1234567890\":\n",
    "        only_digit += i\n",
    "\n",
    "print(only_digit)"
   ]
  },
  {
   "cell_type": "code",
   "execution_count": 61,
   "id": "d04afa5e",
   "metadata": {},
   "outputs": [
    {
     "name": "stdout",
     "output_type": "stream",
     "text": [
      "1\n"
     ]
    }
   ],
   "source": [
    "str1 = \"\"\"She was in a hurry. Not the standard hurry when you're in a rush to get someplace, but a frantic hurry.\n",
    "The type of hurry where a few seconds could mean life or death. \n",
    "She raced down the road ignoring speed limits and weaving between cars.\n",
    "She was only a few minutes away when traffic came to a dead standstill on the road ahead.\"\"\"\n",
    "cnt = 0\n",
    "\n",
    "for i in str1.split():\n",
    "    if i == \"of\":\n",
    "        cnt += 1\n",
    "        \n",
    "\n",
    "print(cnt)"
   ]
  },
  {
   "cell_type": "code",
   "execution_count": 60,
   "id": "852270b1",
   "metadata": {},
   "outputs": [
    {
     "data": {
      "text/plain": [
       "['She',\n",
       " 'was',\n",
       " 'in',\n",
       " 'a',\n",
       " 'hurry.',\n",
       " 'Not',\n",
       " 'the',\n",
       " 'standard',\n",
       " 'hurry',\n",
       " 'when',\n",
       " \"you're\",\n",
       " 'in',\n",
       " 'a',\n",
       " 'rush',\n",
       " 'to',\n",
       " 'get',\n",
       " 'someplace,',\n",
       " 'but',\n",
       " 'a',\n",
       " 'frantic',\n",
       " 'hurry.',\n",
       " 'The',\n",
       " 'type',\n",
       " 'of',\n",
       " 'hurry',\n",
       " 'where',\n",
       " 'a',\n",
       " 'few',\n",
       " 'seconds',\n",
       " 'could',\n",
       " 'mean',\n",
       " 'life',\n",
       " 'or',\n",
       " 'death.',\n",
       " 'She',\n",
       " 'raced',\n",
       " 'down',\n",
       " 'the',\n",
       " 'road',\n",
       " 'ignoring',\n",
       " 'speed',\n",
       " 'limits',\n",
       " 'and',\n",
       " 'weaving',\n",
       " 'between',\n",
       " 'cars.',\n",
       " 'She',\n",
       " 'was',\n",
       " 'only',\n",
       " 'a',\n",
       " 'few',\n",
       " 'minutes',\n",
       " 'away',\n",
       " 'when',\n",
       " 'traffic',\n",
       " 'came',\n",
       " 'to',\n",
       " 'a',\n",
       " 'dead',\n",
       " 'standstill',\n",
       " 'on',\n",
       " 'the',\n",
       " 'road',\n",
       " 'ahead.']"
      ]
     },
     "execution_count": 60,
     "metadata": {},
     "output_type": "execute_result"
    }
   ],
   "source": [
    "str1.split()"
   ]
  },
  {
   "cell_type": "code",
   "execution_count": null,
   "id": "9fe7881a",
   "metadata": {},
   "outputs": [],
   "source": []
  },
  {
   "cell_type": "code",
   "execution_count": 56,
   "id": "b2ba4456",
   "metadata": {},
   "outputs": [
    {
     "data": {
      "text/plain": [
       "2"
      ]
     },
     "execution_count": 56,
     "metadata": {},
     "output_type": "execute_result"
    }
   ],
   "source": [
    "str1 = \"My name is ameay\"\n",
    "str1.count(\"y\")"
   ]
  },
  {
   "cell_type": "code",
   "execution_count": 62,
   "id": "495cffee",
   "metadata": {},
   "outputs": [
    {
     "name": "stdout",
     "output_type": "stream",
     "text": [
      "5\n"
     ]
    }
   ],
   "source": [
    "str1 = \"\"\"She was in a hurry. Not the standard hurry when you're in a rush to get someplace, but a frantic hurry.\n",
    "The type of hurry where a few seconds could mean life or death. \n",
    "She raced down the road ignoring speed limits and weaving between cars.\n",
    "She was only a few minutes away when traffic came to a dead standstill on the road ahead.\"\"\"\n",
    "sub_string = \"in\"\n",
    "\n",
    "cnt = str1.count(sub_string)\n",
    "\n",
    "print(cnt)\n"
   ]
  },
  {
   "cell_type": "code",
   "execution_count": 69,
   "id": "eb6f4db8",
   "metadata": {},
   "outputs": [
    {
     "name": "stdout",
     "output_type": "stream",
     "text": [
      "['am', 'ey', 'a ', 'jo', 'sh', 'i']\n"
     ]
    }
   ],
   "source": [
    "# Split a string into pairs of two characters.\n",
    "\n",
    "\n",
    "name = \"ameya joshi\"\n",
    " \n",
    "split_name = [name[i:i+2] for i in range(0,len(name),2)]\n",
    "\n",
    "print(split_name)"
   ]
  },
  {
   "cell_type": "code",
   "execution_count": 70,
   "id": "053331ea",
   "metadata": {},
   "outputs": [
    {
     "name": "stdout",
     "output_type": "stream",
     "text": [
      "['am', 'ey', 'a ', 'jo', 'sh', 'i_']\n"
     ]
    }
   ],
   "source": [
    "name = \"ameya joshi\"\n",
    "\n",
    "if len(name) % 2 != 0:\n",
    "    name += \"_\"\n",
    "\n",
    "pairs = []\n",
    "for i in range(0, len(name), 2):\n",
    "    pair = name[i:i+2]\n",
    "    pairs.append(pair)\n",
    "\n",
    "\n",
    "print(pairs)\n"
   ]
  },
  {
   "cell_type": "code",
   "execution_count": 123,
   "id": "051c56b5",
   "metadata": {},
   "outputs": [
    {
     "name": "stdout",
     "output_type": "stream",
     "text": [
      "{'A': 1, 'u': 1, 't': 2, 'o': 2, 'm': 1, 'a': 1, 'i': 1, 'n': 1}\n"
     ]
    }
   ],
   "source": [
    "strr = \"Automation\"\n",
    "#cnt = 0\n",
    "dict_str = {}\n",
    "\n",
    "for ch in strr:\n",
    "    if ch in dict_str:\n",
    "        dict_str[ch] += 1\n",
    "    else:\n",
    "        dict_str[ch] = 1\n",
    "\n",
    "print(dict_str)\n"
   ]
  },
  {
   "cell_type": "code",
   "execution_count": 77,
   "id": "4988dcac",
   "metadata": {},
   "outputs": [
    {
     "name": "stdout",
     "output_type": "stream",
     "text": [
      "word is not correct identifire\n"
     ]
    }
   ],
   "source": [
    "word = \"1304_itrend\"\n",
    "#digit = \"0,1,2,3,4,5,6,7,8,9,0\"\n",
    "if word[0].isdigit():\n",
    "    print(\"word is not correct identifire\")\n",
    "else:\n",
    "    print(\"yess_word is identifire\")"
   ]
  },
  {
   "cell_type": "code",
   "execution_count": 79,
   "id": "ad2c9b23",
   "metadata": {},
   "outputs": [
    {
     "name": "stdout",
     "output_type": "stream",
     "text": [
      "word is not correct identifier\n"
     ]
    }
   ],
   "source": [
    "import keyword\n",
    "\n",
    "word = \"1304_itrend\"\n",
    "\n",
    "if word.isidentifier() and not keyword.iskeyword(word):\n",
    "    print(\"yes_word is identifier\")\n",
    "else:\n",
    "    print(\"word is not correct identifier\")"
   ]
  },
  {
   "cell_type": "code",
   "execution_count": null,
   "id": "8df91af1",
   "metadata": {},
   "outputs": [
    {
     "name": "stdout",
     "output_type": "stream",
     "text": [
      "total number vowels = 6\n",
      "total number consonants = 4\n"
     ]
    }
   ],
   "source": [
    "word2 = \"Automation\"\n",
    "\n",
    "vowels = \"AaEeIiOoUu\"\n",
    "consonants = \"QWRTYPSDFGHJKLZXCVBNMqwrtypsdfghjklzxcvbnm\"\n",
    "\n",
    "vow_count = 0\n",
    "conso_cnt = 0\n",
    "\n",
    "for chr in word2:\n",
    "    if chr in vowels:\n",
    "        vow_count += 1 \n",
    "    elif chr in consonants:\n",
    "            conso_cnt += 1\n",
    "\n",
    "\n",
    "print(f\"total number vowels = {vow_count}\")\n",
    "\n",
    "print(f\"total number consonants = {conso_cnt}\")"
   ]
  },
  {
   "cell_type": "code",
   "execution_count": 100,
   "id": "bbb54cf8",
   "metadata": {},
   "outputs": [
    {
     "name": "stdout",
     "output_type": "stream",
     "text": [
      "total number vowels = 6\n",
      "total number consonants = 8\n",
      "None\n"
     ]
    }
   ],
   "source": [
    "def CountVowConso(word3):\n",
    "    vowels = \"AaEeIiOoUu\"\n",
    "    consonants = \"QWRTYPSDFGHJKLZXCVBNMqwrtypsdfghjklzxcvbnm\"\n",
    "    vow_cnt = 0\n",
    "    conso_cnt = 0\n",
    "\n",
    "    for chr in word3:\n",
    "        if chr in vowels:\n",
    "            vow_cnt += 1\n",
    "        elif chr in consonants:\n",
    "            conso_cnt += 1\n",
    "        \n",
    "    print(f\"total number vowels = {vow_count}\")\n",
    "    print(f\"total number consonants = {conso_cnt}\")\n",
    "\n",
    "\n",
    "s = CountVowConso(\"AutomationMachine\")\n",
    "\n",
    "print(s)"
   ]
  },
  {
   "cell_type": "code",
   "execution_count": 103,
   "id": "7781887b",
   "metadata": {},
   "outputs": [
    {
     "name": "stdout",
     "output_type": "stream",
     "text": [
      "Total number of vowels = 12\n",
      "Total number of consonants = 13\n"
     ]
    }
   ],
   "source": [
    "def CountVowConso(word3):\n",
    "\n",
    "    vowels = \"AaEeIiOoUu\"\n",
    "    consonants = \"QWRTYPSDFGHJKLZXCVBNMqwrtypsdfghjklzxcvbnm\"\n",
    "    vow_cnt = 0\n",
    "    conso_cnt = 0\n",
    "\n",
    "    for chr in word3:\n",
    "        if chr in vowels:\n",
    "            vow_cnt += 1\n",
    "        elif chr in consonants:\n",
    "            conso_cnt += 1\n",
    "\n",
    "    print(f\"Total number of vowels = {vow_cnt}\")\n",
    "    print(f\"Total number of consonants = {conso_cnt}\")\n",
    "\n",
    "\n",
    "word3 = input(\"Enter any Word : \")\n",
    "\n",
    "s= CountVowConso(word3)"
   ]
  },
  {
   "cell_type": "code",
   "execution_count": 106,
   "id": "e896cae7",
   "metadata": {},
   "outputs": [
    {
     "data": {
      "text/plain": [
       "True"
      ]
     },
     "execution_count": 106,
     "metadata": {},
     "output_type": "execute_result"
    }
   ],
   "source": [
    "str1 = input(\"enter a word : \")\n",
    "\n",
    "str1 == str1[::-1]"
   ]
  },
  {
   "cell_type": "code",
   "execution_count": 110,
   "id": "ef9e5058",
   "metadata": {},
   "outputs": [
    {
     "name": "stdout",
     "output_type": "stream",
     "text": [
      "Yess.. Your entered word is Palindrom\n"
     ]
    }
   ],
   "source": [
    "str1 = input(\"enter a word : \")\n",
    "\n",
    "if  str1 == str1[::-1]:\n",
    "    print (\"Yess.. Your entered word is Palindrom\")\n",
    "else:\n",
    "    print(\"your entered string is not Palindrom\")"
   ]
  },
  {
   "cell_type": "code",
   "execution_count": 116,
   "id": "cec5cc5c",
   "metadata": {},
   "outputs": [
    {
     "ename": "TypeError",
     "evalue": "'str' object cannot be interpreted as an integer",
     "output_type": "error",
     "traceback": [
      "\u001b[31m---------------------------------------------------------------------------\u001b[39m",
      "\u001b[31mTypeError\u001b[39m                                 Traceback (most recent call last)",
      "\u001b[36mCell\u001b[39m\u001b[36m \u001b[39m\u001b[32mIn[116]\u001b[39m\u001b[32m, line 5\u001b[39m\n\u001b[32m      2\u001b[39m str2 = \u001b[38;5;28mlen\u001b[39m(str1)\n\u001b[32m      3\u001b[39m str3 = \u001b[32m0\u001b[39m\n\u001b[32m----> \u001b[39m\u001b[32m5\u001b[39m \u001b[38;5;28;01mfor\u001b[39;00m i \u001b[38;5;129;01min\u001b[39;00m \u001b[38;5;28;43mrange\u001b[39;49m\u001b[43m(\u001b[49m\u001b[43mstr1\u001b[49m\u001b[43m)\u001b[49m:\n\u001b[32m      6\u001b[39m     \u001b[38;5;28;01mif\u001b[39;00m str1[i] != str1[str2-i-\u001b[32m1\u001b[39m]:\n\u001b[32m      7\u001b[39m         str3 == \u001b[32m1\u001b[39m\n",
      "\u001b[31mTypeError\u001b[39m: 'str' object cannot be interpreted as an integer"
     ]
    }
   ],
   "source": [
    "str1 = input(\"enter a word : \")\n",
    "str2 = len(str1)\n",
    "str3 = 0\n",
    "\n",
    "for i in range(str1):\n",
    "    if str1[i] != str1[str2-i-1]:\n",
    "        str3 == 1\n",
    "    break\n",
    "\n",
    "if str1 == 0:\n",
    "    print(\"it is palindrom\")\n",
    "else:\n",
    "    print(\"not palindrome\")"
   ]
  },
  {
   "cell_type": "code",
   "execution_count": 118,
   "id": "fdf3512f",
   "metadata": {},
   "outputs": [
    {
     "name": "stdout",
     "output_type": "stream",
     "text": [
      "Not a palindrome\n"
     ]
    }
   ],
   "source": [
    "str1 = input(\"Enter a word: \")\n",
    "str2 = len(str1)\n",
    "str3 = 0\n",
    "\n",
    "for i in range(len(str1)):\n",
    "    if str1[i] != str1[str2 - i - 1]:\n",
    "        str3 = 1\n",
    "        break\n",
    "    if i >= str2 - i - 1:\n",
    "        break\n",
    "\n",
    "if str3 == 0:\n",
    "    print(\"It is a palindrome\")\n",
    "else:\n",
    "    print(\"Not a palindrome\")\n"
   ]
  },
  {
   "cell_type": "code",
   "execution_count": 121,
   "id": "c328486d",
   "metadata": {},
   "outputs": [
    {
     "name": "stdout",
     "output_type": "stream",
     "text": [
      "{'n': 12}\n"
     ]
    }
   ],
   "source": [
    "dupli = \"aabbbcddeeee\"\n",
    "\n",
    "dict_word ={}\n",
    "\n",
    "for chr in dupli:\n",
    "    if ch in dict_word:\n",
    "        dict_word[ch] += 1\n",
    "    else:\n",
    "        dict_word[ch] = 1\n",
    "\n",
    "print(dict_word)"
   ]
  },
  {
   "cell_type": "code",
   "execution_count": 130,
   "id": "58ad442a",
   "metadata": {},
   "outputs": [
    {
     "name": "stdout",
     "output_type": "stream",
     "text": [
      "Compressed string: a2v2b2g2\n"
     ]
    }
   ],
   "source": [
    "# Write a program to compress a string like aabbbcc → a2b3c2.\n",
    "\n",
    "str1 = input(\"Enter a string: \")\n",
    "\n",
    "compressed = \"\"\n",
    "count = 1\n",
    "\n",
    "for i in range(1, len(str1)):\n",
    "    if str1[i] == str1[i - 1]:\n",
    "        count += 1\n",
    "    else:\n",
    "        compressed += str1[i - 1] + str(count)\n",
    "        count = 1\n",
    "\n",
    "# Add the last character group\n",
    "compressed += str1[-1] + str(count)\n",
    "\n",
    "print(\"Compressed string:\", compressed)\n"
   ]
  },
  {
   "cell_type": "code",
   "execution_count": 139,
   "id": "f3374721",
   "metadata": {},
   "outputs": [
    {
     "name": "stdout",
     "output_type": "stream",
     "text": [
      "merged string:  v2i2s2h2g2\n"
     ]
    }
   ],
   "source": [
    "s1 = \"vviisshhnn\"\n",
    "\n",
    "merge = \"\"\n",
    "\n",
    "count = 1\n",
    "\n",
    "for i in range(1,len(s1)):\n",
    "    if s1[i] == s1[i - 1]:\n",
    "        count += 1\n",
    "    else:\n",
    "        merge += s1[i-1] + str(count)\n",
    "        count = 1\n",
    "merge += str1[-1] + str(count)\n",
    "\n",
    "print(\"merged string: \", merge)\n"
   ]
  },
  {
   "cell_type": "code",
   "execution_count": 140,
   "id": "3bd423f7",
   "metadata": {},
   "outputs": [
    {
     "name": "stdout",
     "output_type": "stream",
     "text": [
      "Compressed string: v2i2s2h2n2\n"
     ]
    }
   ],
   "source": [
    "s1 = \"vviisshhnn\"\n",
    "\n",
    "result = \"\"\n",
    "count = 1\n",
    "\n",
    "for i in range(1, len(s1)):\n",
    "    if s1[i] == s1[i - 1]:\n",
    "        count += 1\n",
    "    else:\n",
    "        result += s1[i - 1] + str(count)\n",
    "        count = 1\n",
    "\n",
    "result += s1[-1] + str(count)\n",
    "\n",
    "print(\"Compressed string:\", result)\n"
   ]
  },
  {
   "cell_type": "code",
   "execution_count": null,
   "id": "89f43f55",
   "metadata": {},
   "outputs": [],
   "source": [
    "# Check if two strings are anagrams.\n",
    "\n"
   ]
  },
  {
   "cell_type": "code",
   "execution_count": 142,
   "id": "e1d18b5f",
   "metadata": {},
   "outputs": [
    {
     "name": "stdout",
     "output_type": "stream",
     "text": [
      "['e', 'i', 'l', 'n', 's', 't']\n",
      "['e', 'i', 'l', 'n', 's', 't']\n"
     ]
    }
   ],
   "source": [
    "str1= \"listen\"\n",
    "str2 = \"silent\"\n",
    "\n",
    "print(sorted(str1))\n",
    "print(sorted(str2))"
   ]
  },
  {
   "cell_type": "code",
   "execution_count": 146,
   "id": "c1fd627d",
   "metadata": {},
   "outputs": [
    {
     "name": "stdout",
     "output_type": "stream",
     "text": [
      "yess.. it is anagram\n"
     ]
    }
   ],
   "source": [
    "str1 = input(\"Enter a String 1: \")\n",
    "str2 = input(\"Enter a String 2: \")\n",
    "\n",
    "if sorted(str1) == sorted(str2):\n",
    "    print(\"yess.. it is anagram\")\n",
    "\n",
    "else:\n",
    "    print(\"Not anagram\")"
   ]
  },
  {
   "cell_type": "code",
   "execution_count": 147,
   "id": "10c0e0a9",
   "metadata": {},
   "outputs": [
    {
     "name": "stdout",
     "output_type": "stream",
     "text": [
      "yess..enterd string is rotational\n"
     ]
    }
   ],
   "source": [
    "str1 = input(\"Enter a String 1: \")\n",
    "str2 = input(\"Enter a String 2: \")\n",
    "\n",
    "if len(str1) == len(str2):\n",
    "    print(\"yess..enterd string is rotational\")\n",
    "else:\n",
    "    print(\"No..it is not rotational string\")"
   ]
  },
  {
   "cell_type": "code",
   "execution_count": null,
   "id": "fed90f5d",
   "metadata": {},
   "outputs": [
    {
     "data": {
      "text/plain": [
       "['Modern',\n",
       " 'languages,',\n",
       " 'especially',\n",
       " 'C++',\n",
       " 'use',\n",
       " 'row-major',\n",
       " 'ordering',\n",
       " 'for',\n",
       " 'storing',\n",
       " 'two-dimensional',\n",
       " 'arrays.']"
      ]
     },
     "execution_count": 160,
     "metadata": {},
     "output_type": "execute_result"
    }
   ],
   "source": [
    "# Find the longest word in a sentence.\n",
    "\n",
    "sentence = \"Modern languages, especially C++ use row-major ordering for storing two-dimensional arrays.\"\n",
    "\n",
    "#split_sen = sentence.split()\n",
    "#split_sen"
   ]
  },
  {
   "cell_type": "code",
   "execution_count": 164,
   "id": "12543556",
   "metadata": {},
   "outputs": [
    {
     "name": "stdout",
     "output_type": "stream",
     "text": [
      "Longest word in sentence : dimensional\n"
     ]
    }
   ],
   "source": [
    "for chr in \".,+-\":\n",
    "    sentence = sentence.replace(chr, \" \")\n",
    "\n",
    "word = sentence.split()\n",
    "\n",
    "longest = max(word, key= len)\n",
    "\n",
    "print(f\"Longest word in sentence : {longest}\")"
   ]
  },
  {
   "cell_type": "code",
   "execution_count": 165,
   "id": "11d9c895",
   "metadata": {},
   "outputs": [
    {
     "name": "stdout",
     "output_type": "stream",
     "text": [
      "Longest word in sentence : C\n"
     ]
    }
   ],
   "source": [
    "# Find the shortest word in a sentence.\n",
    "\n",
    "for chr in \".,+-\":\n",
    "    sentence = sentence.replace(chr, \" \")\n",
    "\n",
    "word = sentence.split()\n",
    "\n",
    "shortest = min(word, key= len)\n",
    "\n",
    "print(f\"Longest word in sentence : {shortest}\")"
   ]
  },
  {
   "cell_type": "code",
   "execution_count": 171,
   "id": "01fb3cbe",
   "metadata": {},
   "outputs": [
    {
     "name": "stdout",
     "output_type": "stream",
     "text": [
      "Total number of letters in uppercase : 17\n",
      "Total number of letters in uppercase : 429\n"
     ]
    }
   ],
   "source": [
    "sent =\"\"\"So we see here that we are performing 2 less operations when we store 2D arrays and obtaining an element's address.'\n",
    "'This looks like it doesn't make sense but it does! While handling with huge size data this may improved performance and speed.\n",
    "case 1 may look user-friendly but case 2 is more efficient. That's why most languages like C++, PYTHON, JAVA use arrays\n",
    "starting with index 0 and rarely languages like Lua arrays starting with index 1.\"\"\"\n",
    "\n",
    "cnt_upper = 0\n",
    "cnt_lower = 0\n",
    "\n",
    "for i in sent:\n",
    "    if i.isupper():\n",
    "        cnt_upper += 1\n",
    "    else:\n",
    "        i.islower()\n",
    "        cnt_lower += 1\n",
    "\n",
    "print(f\"Total number of letters in uppercase : {cnt_upper}\")\n",
    "print(f\"Total number of letters in uppercase : {cnt_lower}\")"
   ]
  },
  {
   "cell_type": "code",
   "execution_count": 175,
   "id": "2efebfad",
   "metadata": {},
   "outputs": [
    {
     "name": "stdout",
     "output_type": "stream",
     "text": [
      "arrays two-dimensional storing for ordering row-major use C++ especially languages, Modern.\n"
     ]
    }
   ],
   "source": [
    "#Reverse the order of words in a sentence.\n",
    "sentence = \"Modern languages, especially C++ use row-major ordering for storing two-dimensional arrays.\"\n",
    "\n",
    "sentence = sentence.replace(\".\",\"\")\n",
    "\n",
    "words = sentence.split()\n",
    "\n",
    "reverse_words = words[::-1]\n",
    "\n",
    "reversed_sentence = \" \".join(reverse_words) + \".\"\n",
    "\n",
    "print(reversed_sentence)"
   ]
  },
  {
   "cell_type": "code",
   "execution_count": 177,
   "id": "2ea1e66e",
   "metadata": {},
   "outputs": [
    {
     "data": {
      "text/plain": [
       "90"
      ]
     },
     "execution_count": 177,
     "metadata": {},
     "output_type": "execute_result"
    }
   ],
   "source": [
    "len(sentence)"
   ]
  },
  {
   "cell_type": "code",
   "execution_count": 186,
   "id": "f55d2b7d",
   "metadata": {},
   "outputs": [
    {
     "name": "stdout",
     "output_type": "stream",
     "text": [
      "Total words in the sentence: 11\n"
     ]
    }
   ],
   "source": [
    "s1 = \"Modern languages, especially C++ use row-major ordering for storing two-dimensional arrays.\"\n",
    "\n",
    "words = 0\n",
    "in_words = False\n",
    "\n",
    "for chr in s1:\n",
    "    if chr != \" \" and not in_words:\n",
    "        in_words = True\n",
    "        words += 1\n",
    "    elif chr == \" \":\n",
    "        in_words = False\n",
    "    \n",
    "print(f\"Total words in the sentence: {words}\")\n"
   ]
  },
  {
   "cell_type": "code",
   "execution_count": 184,
   "id": "36d5eaa6",
   "metadata": {},
   "outputs": [
    {
     "data": {
      "text/plain": [
       "'Modern languages, especially C++ use row-major ordering for storing two-dimensional arrays.'"
      ]
     },
     "execution_count": 184,
     "metadata": {},
     "output_type": "execute_result"
    }
   ],
   "source": [
    "s1"
   ]
  },
  {
   "cell_type": "code",
   "execution_count": 193,
   "id": "32a9e34b",
   "metadata": {},
   "outputs": [
    {
     "name": "stdout",
     "output_type": "stream",
     "text": [
      "ASCII value of H : 72\n",
      "ASCII value of e : 101\n",
      "ASCII value of l : 108\n",
      "ASCII value of l : 108\n",
      "ASCII value of o : 111\n",
      "ASCII value of , : 44\n",
      "ASCII value of   : 32\n",
      "ASCII value of W : 87\n",
      "ASCII value of o : 111\n",
      "ASCII value of r : 114\n",
      "ASCII value of l : 108\n",
      "ASCII value of d : 100\n"
     ]
    }
   ],
   "source": [
    "# questions based on ASCII values.\n",
    "\n",
    "str1 = \"Hello, World\"\n",
    "\n",
    "for chr in str1:\n",
    "    print(f\"ASCII value of {chr} : {ord(chr)}\")"
   ]
  },
  {
   "cell_type": "code",
   "execution_count": 2,
   "id": "1a52ee7f",
   "metadata": {},
   "outputs": [
    {
     "name": "stdout",
     "output_type": "stream",
     "text": [
      "character of given ascii value : A\n"
     ]
    }
   ],
   "source": [
    "# find the character of given ASCII value.\n",
    "\n",
    "ascii_value = 65\n",
    "print(f\"character of given ascii value : {chr(ascii_value)}\")"
   ]
  },
  {
   "cell_type": "code",
   "execution_count": 3,
   "id": "3d7b2dab",
   "metadata": {},
   "outputs": [
    {
     "name": "stdout",
     "output_type": "stream",
     "text": [
      "A\n"
     ]
    }
   ],
   "source": [
    "asc_val = 65\n",
    "print(chr(asc_val))"
   ]
  },
  {
   "cell_type": "code",
   "execution_count": null,
   "id": "b62b7c97",
   "metadata": {},
   "outputs": [],
   "source": [
    "s1 = \"Modern languages, especially C++ use row-major ordering for storing two-dimensional arrays.\"\n",
    "\n"
   ]
  },
  {
   "cell_type": "code",
   "execution_count": null,
   "id": "28d603d4",
   "metadata": {},
   "outputs": [],
   "source": []
  }
 ],
 "metadata": {
  "kernelspec": {
   "display_name": "py311",
   "language": "python",
   "name": "python3"
  },
  "language_info": {
   "codemirror_mode": {
    "name": "ipython",
    "version": 3
   },
   "file_extension": ".py",
   "mimetype": "text/x-python",
   "name": "python",
   "nbconvert_exporter": "python",
   "pygments_lexer": "ipython3",
   "version": "3.11.13"
  }
 },
 "nbformat": 4,
 "nbformat_minor": 5
}
